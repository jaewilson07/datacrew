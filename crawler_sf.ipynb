{
 "cells": [
  {
   "cell_type": "code",
   "execution_count": 1,
   "metadata": {},
   "outputs": [],
   "source": [
    "import os\n",
    "from dotenv import load_dotenv\n",
    "\n",
    "load_dotenv()\n",
    "\n",
    "domo_instance = os.environ[\"DOMO_INSTANCE\"]\n",
    "domo_username = os.environ[\"DOMO_USERNAME\"]\n",
    "domo_password = os.environ[\"DOMO_PASSWORD\"]"
   ]
  },
  {
   "cell_type": "code",
   "execution_count": 2,
   "metadata": {},
   "outputs": [],
   "source": [
    "from selenium import webdriver\n",
    "\n",
    "\n",
    "def driversetup(is_headless: bool = True) -> webdriver:\n",
    "    options = webdriver.ChromeOptions()\n",
    "    # run Selenium in headless mode\n",
    "\n",
    "    if is_headless:\n",
    "        options.add_argument(\"--headless\")\n",
    "\n",
    "    options.add_argument(\"--no-sandbox\")\n",
    "\n",
    "    driver = webdriver.Chrome(options=options)\n",
    "\n",
    "    return driver"
   ]
  },
  {
   "cell_type": "code",
   "execution_count": 3,
   "metadata": {},
   "outputs": [],
   "source": [
    "from selenium.webdriver.common.by import By\n",
    "from selenium.webdriver.support.ui import WebDriverWait\n",
    "from selenium.webdriver.support import expected_conditions as EC\n",
    "\n",
    "from bs4 import BeautifulSoup\n",
    "import time\n",
    "\n",
    "\n",
    "def wait_and_return(\n",
    "    driver: webdriver,\n",
    "    element_id: str,\n",
    "    el_type=By.ID,\n",
    "    min_sleep_time=15,\n",
    "    return_soup: bool = False,\n",
    "):\n",
    "    \"\"\"\n",
    "    Wait for the element to be present and return it.\n",
    "    \"\"\"\n",
    "\n",
    "    try:\n",
    "        res = WebDriverWait(driver, timeout=15, poll_frequency=1).until(\n",
    "            EC.presence_of_element_located((el_type, element_id)))\n",
    "\n",
    "        if return_soup:\n",
    "            return BeautifulSoup(res.get_attribute(\"innerHTML\"))\n",
    "        return res\n",
    "    \n",
    "    except Exception as e:\n",
    "        print(e)\n",
    "        print(\n",
    "            f\"Timeout Exception: did not load within {min_sleep_time} seconds.\")\n",
    "    "
   ]
  },
  {
   "cell_type": "code",
   "execution_count": 4,
   "metadata": {},
   "outputs": [],
   "source": [
    "# Waiting for the page to load\n",
    "def authenticate_driver(driver, domo_instance, domo_username, domo_password):\n",
    "    \n",
    "    url = f\"https://{domo_instance}.domo.com/auth/index?redirectUrl=%2Fapi%2Fdomoweb%2Fauth%2Fcustomerportal%3FredirectPath%3D%2Fs%2F\"\n",
    "\n",
    "    driver.get(url)\n",
    "\n",
    "    button = wait_and_return(driver, element_id=\"sign-in\", el_type=By.CLASS_NAME, min_sleep_time=4)\n",
    "\n",
    "    form_username = wait_and_return(driver, \"username\", el_type=By.NAME)\n",
    "\n",
    "    form_password = wait_and_return(driver, \"password\", el_type=By.NAME)\n",
    "\n",
    "    # Sending input\n",
    "    form_username.clear()\n",
    "    form_username.send_keys(domo_username)\n",
    "    form_password.clear()\n",
    "    form_password.send_keys(domo_password)\n",
    "    button.click()\n",
    "\n",
    "    return driver\n",
    "\n",
    "\n",
    "driver = driversetup(is_headless=False)\n",
    "\n",
    "driver = authenticate_driver(\n",
    "    driver,\n",
    "    domo_instance=domo_instance,\n",
    "    domo_password=domo_password,\n",
    "    domo_username=domo_username,\n",
    ")"
   ]
  },
  {
   "cell_type": "code",
   "execution_count": 5,
   "metadata": {},
   "outputs": [],
   "source": [
    "import time\n",
    "\n",
    "\n",
    "def get_all_tickets_soup(authenticated_driver):\n",
    "    url = f\"https://domo-support.domo.com/s/\"\n",
    "\n",
    "    authenticated_driver.get(url)\n",
    "\n",
    "    len_table = 0\n",
    "    counter = 0\n",
    "    while len_table == 0 and counter <= 4:\n",
    "        table_soup = wait_and_return(\n",
    "            authenticated_driver, \"slds-grid\", el_type=By.CLASS_NAME, return_soup=True, min_sleep_time=15\n",
    "        )\n",
    "\n",
    "        len_table = len(table_soup.find_all(\"td\"))\n",
    "\n",
    "        if len_table > 0:\n",
    "            return table_soup.find(\"table\")\n",
    "\n",
    "        time.sleep(2)\n",
    "        counter += 1\n",
    "\n",
    "\n",
    "ticket_soup = get_all_tickets_soup(driver)\n"
   ]
  },
  {
   "cell_type": "code",
   "execution_count": 6,
   "metadata": {},
   "outputs": [
    {
     "data": {
      "text/plain": [
       "Index(['Item Number', 'Case Number', 'Support Category', 'Subject', 'Status',\n",
       "       'Requester', 'Domain Name', 'Date/Time Opened', 'Action', 'URL'],\n",
       "      dtype='object')"
      ]
     },
     "execution_count": 6,
     "metadata": {},
     "output_type": "execute_result"
    }
   ],
   "source": [
    "import pandas as pd\n",
    "\n",
    "\n",
    "def generate_ticket_df(soup, return_raw: bool = False, base_url=\"https://domo-support.domo.com\"):\n",
    "    df_with_links = pd.read_html(str(soup), extract_links=\"body\")[0]\n",
    "    df = pd.read_html(str(soup))[0]\n",
    "\n",
    "    rename_cols = {\n",
    "        col: col.replace(\"Column Actions\", \"\")\n",
    "        .replace(\"Sorted\", \"\")\n",
    "        .replace(\"Sort\", \"\")\n",
    "        .replace(\"Ascending\", \"\")\n",
    "        .replace(\"Descending\", \"\")\n",
    "        .strip()\n",
    "        for col in df.columns\n",
    "    }\n",
    "\n",
    "    df.rename(columns=rename_cols, inplace=True)\n",
    "    df_with_links.rename(columns=rename_cols, inplace=True)\n",
    "\n",
    "    if return_raw:\n",
    "        return (df, df_with_links)\n",
    "\n",
    "\n",
    "    df_with_links = pd.DataFrame(\n",
    "        df_with_links[\"Case Number\"].tolist(),\n",
    "        index=df_with_links.index,\n",
    "        columns=[\"Case Number\", \"URL\"],\n",
    "    )\n",
    "\n",
    "    df[\"Case Number\"] = df[\"Case Number\"].astype(int)\n",
    "    df_with_links[\"Case Number\"] = df_with_links[\"Case Number\"].astype(int)\n",
    "\n",
    "    df = pd.merge(df, df_with_links, on=\"Case Number\", how=\"inner\")\n",
    "\n",
    "    df['URL'] = base_url + df['URL']\n",
    "\n",
    "    return df\n",
    "\n",
    "\n",
    "df = generate_ticket_df(ticket_soup, return_raw= False)\n",
    "df.columns"
   ]
  },
  {
   "cell_type": "code",
   "execution_count": 7,
   "metadata": {},
   "outputs": [
    {
     "data": {
      "text/plain": [
       "{'description': 'Case InformationSupport CategoryOTHERCase Number05845491Support Sub-CategoryOtherStatusIn ProgressSubjectplease update all the feature switchesDescriptionPlease enter a description of your issue. If you are referring to a specific card, page or dataset, feel free to include a link to them as well.BIG WIN FOR SONY.  VERY EXCITING\\n(huge request incoming, but I am very excited about this development and wanted to share).  We have the ability to generate documents that describe the state of our Instances.\\n\\nSituation\\n@Taft, John<mailto:John.Taft@sony.com> has been pressuring me to create documentation about the state of Domo implementations in Confluence.  I previously used GoogleDocs + GoogleScripting to generate a \\'mail merge\\'-style report of an \"instance configuration\" based on a template google doc.  It was good, but the majority of Sony users expect documentation to exist in Confluence.\\n\\nIMHO, authoring content in Confluence is awful, but GitHub is great and the fact that I can automatically sync Markdown Documents between GitHub and Confluence is a huge unlock for this documentation requirement.  I can now use Python to generate MD files to replace the GoogleDocs workflow.\\n\\nThe Last Hitch.\\nDomo Jupyter cannot communicate with SIE Github.  At the moment I have to sync GitHub and Domo Jupyter by hand ... I hope we can overcome this issue soon!\\n\\n\\n@Jasmine Dortch-Moser<mailto:jasmine.dortchmoser@domo.com>,\\nIn section 3 \"Error Configs\", Please find a list of all the non-default features that are out of alignment with playstation-beta.\\nWith the exception of \"Playstation.domo.com\" and switches related to the Goals App, \"Remote Domo Apps\" and Group ownership of accounts, please enable all the features in the listed instances.\\n\\n@Jacob Peterson<mailto:jacob.peterson@domo.com>\\nAdmittedly, I\\'m making this request not understanding what all the features DO.  It would be ideal to be able to know ...  I was unable to use the dataset you\\'ve provided because at the time it did not include the feature_name column which I believe is the \"identifier\" column.  Because I don\\'t have the identifier column, I cannot link the feature_description you\\'ve provided to a feature_name.\\n\\n@Jace Mclean<mailto:jace.mclean@domo.com> I know Mohammed is working with Noah to improve developer documentation.  I\\'d love to share the scripts I used to develop this documentation.  Of extremely high interest would be a way to link domo_feature switches with KB articles.System InformationCreated By-,\\n    2/2/2023, 6:37 AMDate/Time Opened2/2/2023, 6:37 AMLast Modified By-,\\n    2/13/2023, 12:04 PMDate/Time Closed',\n",
       " 'case_comments': [{'date': 'Feb 13, 2023',\n",
       "   'body': 'Hey Jae, Understood, I\\'m working on creating those instances based on the templates we created last week. As soon as I confirm that those instances have been created, I will begin getting the features sync\\'d between Playstation-department-template.domo.com, which is based on playstation-beta.domo.com minus, Goals App, \"Remote Domo Apps,\" and \"Group Ownership.\" I\\'ll let you know when this has been complete.Thank you so much,Jasmine Dortch-MoserSr. Technical Advisor'},\n",
       "  {'date': 'Feb 10, 2023',\n",
       "   'body': 'Hi Jae,  I reached out to my feature switch team and they let me know that doing a feature sync is an all or nothing thing. We can’t pick and choose what we enable or what we don’t for a complete feature sync. However, I have a plan to create an instance based off of playstation-beta, and get the features where we want them. Then have the feature switch team do the sync for the below instances. Would you be okay with me creating an instance to use? I want to ensure this is okay with you all. After I get everything synced I will delete my temporary instance.   Let me know if this is okay. Thank you so much,Jasmine Dortch-MoserSr. Technical Advisor'},\n",
       "  {'date': 'Feb 7, 2023',\n",
       "   'body': 'Hi Jae,One more clarification: there are a lot of feature switches we have to turn on for various instances and I want to ensure we are enabling the correct features for the correct instances.  I want to confirm that you\\'d like the following instances to have the same features as playstation-beta.domo.com minus, Goals App, \"Remote Domo Apps,\" and Group ownership.playstation.domo.com playstation-adobe-elrond.domo.comPlaystation-ap.domo.comPlaystation-client-engineering.domo.comPlaystation-core.domo.comPlaystation-corporate-planning.domo.comPlaystation.d2c.domo.comPlaystation-data-ocean.domo.comPlaystation-dso-adobe.domo.comPlaystation-gpfd.domo.complaystation-infosec.domo.complaystation-it-infrastructure.domo.com Playstation-loyalty.domo.com Playstation-mobile.domo.com Playstation-operations.domo.comPlaystation-operations-infoteam.domo.complaystation-ort.domo.com Playstation-ort-dev.domo.comPlaystation-ort-preprod.domo.com Playstation-sales-planning-and-analysis.domo.com Playstation-skunkworks.domo.comPlaystation-studios-strategic-commercial-finance.domo.com playstation-test-ap.domo.comPlaystation-test-dso.domo.complaystation-test-platformanalytics.domo.complaystation-training.domo.complaystation-training-publish.domo.com playstation-training-sandbox.domo.comOnce I have the confirmation that these are the instances you want to match playstation-beta.domo.com, I\\'ll get that list over to our feature switch team.Thank you so much,Jasmine Dortch-MoserSr. Technical advisor'},\n",
       "  {'date': 'Feb 7, 2023',\n",
       "   'body': \"Hi Jae,That makes more sense! Haha, I appreciate the clarification.I'll look at this file, and work on getting these features enabled.Thank you so much,Jasmine Dortch-MoserSr. Technical Advisor\"},\n",
       "  {'date': 'Feb 7, 2023',\n",
       "   'body': 'Hi Jae,The main question I have is which instances you want these features enabled in, you mentioned playstation-beta but also \"please enable all the features in the listed instances.\" but looking at the list it looks like \"playstation-beta and publish are listed.Did you just want these featured enabled in playstation-beta? Thanks, Jasmine Dortch-MoserSr. Technical Advisor'},\n",
       "  {'date': 'Feb 6, 2023',\n",
       "   'body': \"Hey Jae,Just following up on Jasmine's last message. Please take a look at that when you get a chance. Have a good afternoon!Thanks,Domo Support\"},\n",
       "  {'date': 'Feb 3, 2023',\n",
       "   'body': \"Hi Jae,I'd love to hop on a quick call with you to review exactly which features you are referring to and which instances you need them turned off for. Please follow this link and pick a time that works best for you: https://calendly.com/d/ygy-hkw-gvx/15-minute-domo-troubleshootingThank you so much,Jasmine Dortch-MoserSr. Technical Advisor\"},\n",
       "  {'date': 'Feb 2, 2023',\n",
       "   'body': \"Hello,Thanks for reaching out to us! We're sorry to hear you're having some trouble with Domo but we'll do what we can to help!I will get this over to the next available technical advisor for further assistance.Thank you.Triage Team Domo Preferred Support\"}]}"
      ]
     },
     "execution_count": 7,
     "metadata": {},
     "output_type": "execute_result"
    }
   ],
   "source": [
    "def get_article(authenticated_driver, url):\n",
    "    authenticated_driver.get(url)\n",
    "\n",
    "    description_soup = wait_and_return(\n",
    "        authenticated_driver,\n",
    "        \"test-id__record-layout-container\",\n",
    "        el_type=By.CLASS_NAME,\n",
    "        return_soup=True,\n",
    "    )\n",
    "\n",
    "    casecomments_soup = wait_and_return(\n",
    "        authenticated_driver,\n",
    "        \"caseCommentsContainer\",\n",
    "        el_type=By.CLASS_NAME,\n",
    "        return_soup=True,\n",
    "        min_sleep_time=5,\n",
    "    )\n",
    "\n",
    "    casecomments_ls = []\n",
    "    for li in casecomments_soup.find(\"ul\").find_all(\"li\"):\n",
    "        comment_hdr = li.find(class_=\"date\").text\n",
    "        comment_body = li.find(class_=\"commentBody\").text\n",
    "\n",
    "        casecomments_ls.append({\"date\": comment_hdr, \"body\": comment_body})\n",
    "\n",
    "    return {\"description\": description_soup.text, \"case_comments\": casecomments_ls}\n",
    "\n",
    "\n",
    "TEST_URL = \"https://domo-support.domo.com/s/case/5005w00002Boo4oAAB/please-update-all-the-feature-switches\"\n",
    "\n",
    "get_article(driver, TEST_URL)"
   ]
  },
  {
   "cell_type": "code",
   "execution_count": 8,
   "metadata": {},
   "outputs": [
    {
     "data": {
      "text/plain": [
       "[{'description': \"Case InformationSupport CategorySHARECase Number05845813Support Sub-CategoryCards/PagesStatusBuggedSubjectFW: Domo Alert: Audit Log is not running in Domo ProdDescriptionPlease enter a description of your issue. If you are referring to a specific card, page or dataset, feel free to include a link to them as well.Hello,\\n\\nThe activity/audit log (sub audit process) is not running in our prod environment since last 16-17 hours. Can you please investigate?\\n\\nHere is the audit dataset expected to be updating continuously - https://playstationpartners.domo.com/datasources/84894d2b-716d-4332-9713-a63e286987f3/details/overview\\n\\nThanks,\\nOm\\n\\nFrom: Domo <notifications@domo.com>\\nSent: Tuesday, February 7, 2023 8:40 AM\\nTo: Gurubaxani, Omprakash Basant <OmprakashBasant.Gurubaxani@sony.com>\\nSubject: Domo Alert: Audit Log is not running in Domo Prod\\n\\n\\n;\\n[https://urldefense.com/v3/__https://partners.playstation.net/widget/emailv2/assets/images/ps-logo-white.png__;!!JkQWbQ!XHJWtIRaZOWQWR10Kul3aiFpTPzrUEYpZLeRVnpb919wPHCQhzNmV28TlgjUMuPIj7Db4kRgscPGwBrg1VEU7YOH1clWNA$ ]<https://urldefense.com/v3/__https:/partners.playstation.net/sign-in__;!!JmoZiZGBv3RvKRSx!9tjhzQvR5IMRrbWyS5EoJ7VhsLrwRzaYrukq-QE0LOL5jq0tTAbKxbMpLoNk0ucWmXC30e2rIzBD7VZ3TuHSgNcgMtRTupAZXcA$>\\n[PlayStation Partners]<https://urldefense.com/v3/__https:/partners.playstation.net/sign-in__;!!JmoZiZGBv3RvKRSx!9tjhzQvR5IMRrbWyS5EoJ7VhsLrwRzaYrukq-QE0LOL5jq0tTAbKxbMpLoNk0ucWmXC30e2rIzBD7VZ3TuHSgNcgMtRTupAZXcA$>\\n\\n[https://urldefense.com/v3/__https://partners.playstation.net/widget/emailv2/assets/images/symbols.png__;!!JkQWbQ!XHJWtIRaZOWQWR10Kul3aiFpTPzrUEYpZLeRVnpb919wPHCQhzNmV28TlgjUMuPIj7Db4kRgscPGwBrg1VEU7YNDdGg-Dw$ ]\\n\\n\\n\\nPlayStation Partners Analytics Notification | 通知\\n\\nMaximum of column 'Time' didn't change for the dataset 'Audit log'. It was February 6, 2023, 11:49:01 PM, now it's February 6, 2023, 11:49:01 PM. Last Checked - Tue Feb 07 16:39:41 UTC 2023 Next Check - Tue Feb 07 17:39:41 UTC 2023\\nAlert Triggered\\n________________________________\\n\\nYou asked us to let you know when the alert 'Audit Log is not running in Domo Prod' triggers.\\n\\nMaximum of column 'Time' didn't change for the dataset 'Audit log'. It was February 6, 2023, 11:49:01 PM, now it's February 6, 2023, 11:49:01 PM.\\n\\nLast Checked - Tue Feb 07 16:39:41 UTC 2023\\nNext Check - Tue Feb 07 17:39:41 UTC 2023\\nITEM\\nPREVIOUSLY\\nCURRENTLY\\nCHANGE\\nMaximum of column 'Time'\\nFebruary 6, 2023, 11:49:01 PM\\nFebruary 6, 2023, 11:49:01 PM\\nJanuary 1, 1970, 12:00:00 AM\\nVIEW ALERT <https://urldefense.com/v3/__https:/domo.buzz/r/xGDYDwo__;!!JmoZiZGBv3RvKRSx!9tjhzQvR5IMRrbWyS5EoJ7VhsLrwRzaYrukq-QE0LOL5jq0tTAbKxbMpLoNk0ucWmXC30e2rIzBD7VZ3TuHSgNcgMtRTR3vRTZA$>\\n\\nTriggered at: February 07, 2023 4:39 PM GMT\\n\\nLast triggered: February 07, 2023 3:39 PM UTC ∙ View history<https://urldefense.com/v3/__https:/playstationpartners.domo.com/datasources/84894d2b-716d-4332-9713-a63e286987f3/details/alerts/2__;!!JmoZiZGBv3RvKRSx!9tjhzQvR5IMRrbWyS5EoJ7VhsLrwRzaYrukq-QE0LOL5jq0tTAbKxbMpLoNk0ucWmXC30e2rIzBD7VZ3TuHSgNcgMtRTuCtCFSA$>\\n\\nThis alert evaluates at 41 second at 39 minute every hour between 0 and 23 every day between Monday and Friday. This alert has been triggered 16 times in the last 30 days.\\n8 subscribers\\n[1674695135][1493626756][1970861280][1563102825][512698809][1990388565][1493914617][1812635125]\\n\\n\\nUnsubscribe<https://urldefense.com/v3/__https:/domo.buzz/r/xGDYDwo__;!!JmoZiZGBv3RvKRSx!9tjhzQvR5IMRrbWyS5EoJ7VhsLrwRzaYrukq-QE0LOL5jq0tTAbKxbMpLoNk0ucWmXC30e2rIzBD7VZ3TuHSgNcgMtRTR3vRTZA$> • Opt-out of or manage your Domo email notifications<https://urldefense.com/v3/__https:/playstationpartners.domo.com/notificationcenter?typeId=notifications__;!!JmoZiZGBv3RvKRSx!9tjhzQvR5IMRrbWyS5EoJ7VhsLrwRzaYrukq-QE0LOL5jq0tTAbKxbMpLoNk0ucWmXC30e2rIzBD7VZ3TuHSgNcgMtRT73463YE$> • Help<https://urldefense.com/v3/__https:/playstationpartners.domo.com/*helpCenter__;Lw!!JmoZiZGBv3RvKRSx!9tjhzQvR5IMRrbWyS5EoJ7VhsLrwRzaYrukq-QE0LOL5jq0tTAbKxbMpLoNk0ucWmXC30e2rIzBD7VZ3TuHSgNcgMtRTxFhlPpA$>\\nPOWERED BY\\n[Domo inc]<https://urldefense.com/v3/__https:/www.domo.com/__;!!JmoZiZGBv3RvKRSx!9tjhzQvR5IMRrbWyS5EoJ7VhsLrwRzaYrukq-QE0LOL5jq0tTAbKxbMpLoNk0ucWmXC30e2rIzBD7VZ3TuHSgNcgMtRTLKTiSxs$>\\n\\nThis message is automatically generated. Please do not reply as this mailbox is not monitored.\\n\\nBy receiving this message, you agree to Sony Interactive Entertainment's Terms of Use<https://urldefense.com/v3/__https:/playstationpartners.service-now.com/csm?id=kb_article2&sys_id=129548c1db16a6002ff7bc2ffe9619ec&smcid=partnerportal:help__;!!JmoZiZGBv3RvKRSx!9tjhzQvR5IMRrbWyS5EoJ7VhsLrwRzaYrukq-QE0LOL5jq0tTAbKxbMpLoNk0ucWmXC30e2rIzBD7VZ3TuHSgNcgMtRTjtglUiM$> and Privacy Policy<https://urldefense.com/v3/__https:/playstationpartners.service-now.com/csm?id=kb_article2&sys_id=1295c8c1db16a6002ff7bc2ffe9619d9&smcid=partnerportal:help__;!!JmoZiZGBv3RvKRSx!9tjhzQvR5IMRrbWyS5EoJ7VhsLrwRzaYrukq-QE0LOL5jq0tTAbKxbMpLoNk0ucWmXC30e2rIzBD7VZ3TuHSgNcgMtRTv0RJcAU$>.\\n\\nこのメッセージは自動で作成されています。このEメールは配信専用のアドレスからお送りしているため、このメッセージには返信しないでください。\\n\\nアカウントの有効化をもちまして、ソニー・インタラクティブエンタテインメントの プライバシーポリシー<https://urldefense.com/v3/__https:/playstationpartners.service-now.com/csm?id=kb_article2&sys_id=129548c1db16a6002ff7bc2ffe9619ec&smcid=partnerportal:help__;!!JmoZiZGBv3RvKRSx!9tjhzQvR5IMRrbWyS5EoJ7VhsLrwRzaYrukq-QE0LOL5jq0tTAbKxbMpLoNk0ucWmXC30e2rIzBD7VZ3TuHSgNcgMtRTjtglUiM$> に同意したものと判断させて頂きますのでご了承ください。\\n\\n\\n\\n\\n© 2022 Sony Interactive Entertainment.\\n\\nThis email and any attachments are confidential and intended solely for the use of the individual or entity to whom they are addressed. If you have received this email in error, please contact us<https://urldefense.com/v3/__https:/playstationpartners.service-now.com/csm?id=help®ion=siee__;!!JmoZiZGBv3RvKRSx!9tjhzQvR5IMRrbWyS5EoJ7VhsLrwRzaYrukq-QE0LOL5jq0tTAbKxbMpLoNk0ucWmXC30e2rIzBD7VZ3TuHSgNcgMtRTVtTRe34$> and delete this email and any attachments from your system.\\n\\nこのEメールと添付ファイルは機密であり、宛先となっている個人または法人のみが使用することを意図しています。このEメールが誤って送信された場合は、お手数ですが、弊社までご連絡<https://urldefense.com/v3/__https:/playstationpartners.service-now.com/csm?id=help®ion=siee__;!!JmoZiZGBv3RvKRSx!9tjhzQvR5IMRrbWyS5EoJ7VhsLrwRzaYrukq-QE0LOL5jq0tTAbKxbMpLoNk0ucWmXC30e2rIzBD7VZ3TuHSgNcgMtRTVtTRe34$> のうえ、システムからこのEメールと添付ファイルを削除してください。System InformationCreated By-,\\n    2/7/2023, 10:10 AMDate/Time Opened2/7/2023, 10:10 AMLast Modified By-,\\n    2/13/2023, 1:21 PMDate/Time Closed\",\n",
       "  'case_comments': [{'date': 'Feb 13, 2023',\n",
       "    'body': 'Hi Om,Our engineering team will update us later in the week, if not sooner. As soon as I receive that update, I will let you know.Thank you so much,Jasmine Dortch-MoserSr. Technical advisor'},\n",
       "   {'date': 'Feb 9, 2023',\n",
       "    'body': \"Hi Om,This has been taken to our engineering team for further investigation. As soon as I have an update, I'll let you know.Thank you so much,Jasmine Dortch-MoserTeam Lead | Sr. Technical Advisor\"},\n",
       "   {'date': 'Feb 8, 2023',\n",
       "    'body': \"Hi Om,I appreciate the information. I'm reaching out to my internal team for guidance on this issue. As soon as I have an update, I'll let you know.Thank you so much,Jasmine Dortch-MoserSr. Technical Advisor\"},\n",
       "   {'date': 'Feb 8, 2023',\n",
       "    'body': 'Hi Om,I looked at this dataset and noticed that this is updated via an API, and it is not one of our standard connectors.Do you know who set up this connector for you? Is it an internal API call? Can you provide the code used to pull this data into this connector? Looking at the owner it appears to be \"Playstation Admin.\"Thank you so much,Jasmine Dortch-MoserSr. Technical Advisor'},\n",
       "   {'date': 'Feb 8, 2023',\n",
       "    'body': 'Hi Om,I looked at this dataset and noticed that this is updated via an API, and it is not one of our standard connectors. Do you know who set up this connector for you? Is it an internal API call? Can you provide the code used to pull this data into this connector? Looking at the owner it appears to be \"Playstation Admin.\"Thank you so much,Jasmine Dortch-MoserSr. Technical Advisor'},\n",
       "   {'date': 'Feb 7, 2023',\n",
       "    'body': 'Hello Gurubaxani,\\xa0Thank you for contacting Domo Preferred Support.\\xa0We appreciate the information you provided regarding your alert/audit log. I’ll go ahead and get this ticket over to our Preferred team for further investigation.\\xa0When the next senior technical advisor is available and has reviewed the case, they will be in touch.\\xa0To help us provide a better support experience please provide the following:\\xa0—How many Domo users are currently impacted? (i.e. Single User, Multiple Users/Groups, Single Group)—Which groups are impacted? (i.e. Managers Directors, Analysts, Executive/C Suite)—What is the usage frequency of the affected Data? (i.e. Weekly, Daily, Monthly etc.)\\xa0If this is an urgent issue, please call Domo Preferred Support at (801) 805-9581, and reference this case number.\\xa0Thank you.Triage TeamDomo Technical Support'}],\n",
       "  'Item Number': nan,\n",
       "  'Case Number': 5845813,\n",
       "  'Support Category': 'SHARE',\n",
       "  'Subject': 'FW: Domo Alert: Audit Log is not running in Domo Prod',\n",
       "  'Status': 'Bugged',\n",
       "  'Requester': 'Omprakash Gurubaxani',\n",
       "  'Domain Name': 'playstationpartners.domo.com',\n",
       "  'Date/Time Opened': '2/7/2023, 10:10 AM',\n",
       "  'Action': 'Show Actions',\n",
       "  'URL': 'https://domo-support.domo.com/s/case/5005w00002BqdfMAAR/fw-domo-alert-audit-log-is-not-running-in-domo-prod'}]"
      ]
     },
     "execution_count": 8,
     "metadata": {},
     "output_type": "execute_result"
    }
   ],
   "source": [
    "def process_ticket_to_article(ticket_df):\n",
    "    result_ls = []\n",
    "    for index, row in ticket_df.iterrows():\n",
    "        article_dict = get_article(driver, row['URL'])\n",
    "        article_dict.update(row.to_dict())\n",
    "\n",
    "        result_ls.append(article_dict)\n",
    "    \n",
    "    return result_ls\n",
    "\n",
    "article_ls = process_ticket_to_article(df[0:1])\n",
    "article_ls\n"
   ]
  },
  {
   "cell_type": "code",
   "execution_count": 18,
   "metadata": {},
   "outputs": [
    {
     "data": {
      "text/plain": [
       "{'content': {'description': \"Case InformationSupport CategorySHARECase Number05845813Support Sub-CategoryCards/PagesStatusBuggedSubjectFW: Domo Alert: Audit Log is not running in Domo ProdDescriptionPlease enter a description of your issue. If you are referring to a specific card, page or dataset, feel free to include a link to them as well.Hello,\\n\\nThe activity/audit log (sub audit process) is not running in our prod environment since last 16-17 hours. Can you please investigate?\\n\\nHere is the audit dataset expected to be updating continuously - https://playstationpartners.domo.com/datasources/84894d2b-716d-4332-9713-a63e286987f3/details/overview\\n\\nThanks,\\nOm\\n\\nFrom: Domo <notifications@domo.com>\\nSent: Tuesday, February 7, 2023 8:40 AM\\nTo: Gurubaxani, Omprakash Basant <OmprakashBasant.Gurubaxani@sony.com>\\nSubject: Domo Alert: Audit Log is not running in Domo Prod\\n\\n\\n;\\n[https://urldefense.com/v3/__https://partners.playstation.net/widget/emailv2/assets/images/ps-logo-white.png__;!!JkQWbQ!XHJWtIRaZOWQWR10Kul3aiFpTPzrUEYpZLeRVnpb919wPHCQhzNmV28TlgjUMuPIj7Db4kRgscPGwBrg1VEU7YOH1clWNA$ ]<https://urldefense.com/v3/__https:/partners.playstation.net/sign-in__;!!JmoZiZGBv3RvKRSx!9tjhzQvR5IMRrbWyS5EoJ7VhsLrwRzaYrukq-QE0LOL5jq0tTAbKxbMpLoNk0ucWmXC30e2rIzBD7VZ3TuHSgNcgMtRTupAZXcA$>\\n[PlayStation Partners]<https://urldefense.com/v3/__https:/partners.playstation.net/sign-in__;!!JmoZiZGBv3RvKRSx!9tjhzQvR5IMRrbWyS5EoJ7VhsLrwRzaYrukq-QE0LOL5jq0tTAbKxbMpLoNk0ucWmXC30e2rIzBD7VZ3TuHSgNcgMtRTupAZXcA$>\\n\\n[https://urldefense.com/v3/__https://partners.playstation.net/widget/emailv2/assets/images/symbols.png__;!!JkQWbQ!XHJWtIRaZOWQWR10Kul3aiFpTPzrUEYpZLeRVnpb919wPHCQhzNmV28TlgjUMuPIj7Db4kRgscPGwBrg1VEU7YNDdGg-Dw$ ]\\n\\n\\n\\nPlayStation Partners Analytics Notification | 通知\\n\\nMaximum of column 'Time' didn't change for the dataset 'Audit log'. It was February 6, 2023, 11:49:01 PM, now it's February 6, 2023, 11:49:01 PM. Last Checked - Tue Feb 07 16:39:41 UTC 2023 Next Check - Tue Feb 07 17:39:41 UTC 2023\\nAlert Triggered\\n________________________________\\n\\nYou asked us to let you know when the alert 'Audit Log is not running in Domo Prod' triggers.\\n\\nMaximum of column 'Time' didn't change for the dataset 'Audit log'. It was February 6, 2023, 11:49:01 PM, now it's February 6, 2023, 11:49:01 PM.\\n\\nLast Checked - Tue Feb 07 16:39:41 UTC 2023\\nNext Check - Tue Feb 07 17:39:41 UTC 2023\\nITEM\\nPREVIOUSLY\\nCURRENTLY\\nCHANGE\\nMaximum of column 'Time'\\nFebruary 6, 2023, 11:49:01 PM\\nFebruary 6, 2023, 11:49:01 PM\\nJanuary 1, 1970, 12:00:00 AM\\nVIEW ALERT <https://urldefense.com/v3/__https:/domo.buzz/r/xGDYDwo__;!!JmoZiZGBv3RvKRSx!9tjhzQvR5IMRrbWyS5EoJ7VhsLrwRzaYrukq-QE0LOL5jq0tTAbKxbMpLoNk0ucWmXC30e2rIzBD7VZ3TuHSgNcgMtRTR3vRTZA$>\\n\\nTriggered at: February 07, 2023 4:39 PM GMT\\n\\nLast triggered: February 07, 2023 3:39 PM UTC ∙ View history<https://urldefense.com/v3/__https:/playstationpartners.domo.com/datasources/84894d2b-716d-4332-9713-a63e286987f3/details/alerts/2__;!!JmoZiZGBv3RvKRSx!9tjhzQvR5IMRrbWyS5EoJ7VhsLrwRzaYrukq-QE0LOL5jq0tTAbKxbMpLoNk0ucWmXC30e2rIzBD7VZ3TuHSgNcgMtRTuCtCFSA$>\\n\\nThis alert evaluates at 41 second at 39 minute every hour between 0 and 23 every day between Monday and Friday. This alert has been triggered 16 times in the last 30 days.\\n8 subscribers\\n[1674695135][1493626756][1970861280][1563102825][512698809][1990388565][1493914617][1812635125]\\n\\n\\nUnsubscribe<https://urldefense.com/v3/__https:/domo.buzz/r/xGDYDwo__;!!JmoZiZGBv3RvKRSx!9tjhzQvR5IMRrbWyS5EoJ7VhsLrwRzaYrukq-QE0LOL5jq0tTAbKxbMpLoNk0ucWmXC30e2rIzBD7VZ3TuHSgNcgMtRTR3vRTZA$> • Opt-out of or manage your Domo email notifications<https://urldefense.com/v3/__https:/playstationpartners.domo.com/notificationcenter?typeId=notifications__;!!JmoZiZGBv3RvKRSx!9tjhzQvR5IMRrbWyS5EoJ7VhsLrwRzaYrukq-QE0LOL5jq0tTAbKxbMpLoNk0ucWmXC30e2rIzBD7VZ3TuHSgNcgMtRT73463YE$> • Help<https://urldefense.com/v3/__https:/playstationpartners.domo.com/*helpCenter__;Lw!!JmoZiZGBv3RvKRSx!9tjhzQvR5IMRrbWyS5EoJ7VhsLrwRzaYrukq-QE0LOL5jq0tTAbKxbMpLoNk0ucWmXC30e2rIzBD7VZ3TuHSgNcgMtRTxFhlPpA$>\\nPOWERED BY\\n[Domo inc]<https://urldefense.com/v3/__https:/www.domo.com/__;!!JmoZiZGBv3RvKRSx!9tjhzQvR5IMRrbWyS5EoJ7VhsLrwRzaYrukq-QE0LOL5jq0tTAbKxbMpLoNk0ucWmXC30e2rIzBD7VZ3TuHSgNcgMtRTLKTiSxs$>\\n\\nThis message is automatically generated. Please do not reply as this mailbox is not monitored.\\n\\nBy receiving this message, you agree to Sony Interactive Entertainment's Terms of Use<https://urldefense.com/v3/__https:/playstationpartners.service-now.com/csm?id=kb_article2&sys_id=129548c1db16a6002ff7bc2ffe9619ec&smcid=partnerportal:help__;!!JmoZiZGBv3RvKRSx!9tjhzQvR5IMRrbWyS5EoJ7VhsLrwRzaYrukq-QE0LOL5jq0tTAbKxbMpLoNk0ucWmXC30e2rIzBD7VZ3TuHSgNcgMtRTjtglUiM$> and Privacy Policy<https://urldefense.com/v3/__https:/playstationpartners.service-now.com/csm?id=kb_article2&sys_id=1295c8c1db16a6002ff7bc2ffe9619d9&smcid=partnerportal:help__;!!JmoZiZGBv3RvKRSx!9tjhzQvR5IMRrbWyS5EoJ7VhsLrwRzaYrukq-QE0LOL5jq0tTAbKxbMpLoNk0ucWmXC30e2rIzBD7VZ3TuHSgNcgMtRTv0RJcAU$>.\\n\\nこのメッセージは自動で作成されています。このEメールは配信専用のアドレスからお送りしているため、このメッセージには返信しないでください。\\n\\nアカウントの有効化をもちまして、ソニー・インタラクティブエンタテインメントの プライバシーポリシー<https://urldefense.com/v3/__https:/playstationpartners.service-now.com/csm?id=kb_article2&sys_id=129548c1db16a6002ff7bc2ffe9619ec&smcid=partnerportal:help__;!!JmoZiZGBv3RvKRSx!9tjhzQvR5IMRrbWyS5EoJ7VhsLrwRzaYrukq-QE0LOL5jq0tTAbKxbMpLoNk0ucWmXC30e2rIzBD7VZ3TuHSgNcgMtRTjtglUiM$> に同意したものと判断させて頂きますのでご了承ください。\\n\\n\\n\\n\\n© 2022 Sony Interactive Entertainment.\\n\\nThis email and any attachments are confidential and intended solely for the use of the individual or entity to whom they are addressed. If you have received this email in error, please contact us<https://urldefense.com/v3/__https:/playstationpartners.service-now.com/csm?id=help®ion=siee__;!!JmoZiZGBv3RvKRSx!9tjhzQvR5IMRrbWyS5EoJ7VhsLrwRzaYrukq-QE0LOL5jq0tTAbKxbMpLoNk0ucWmXC30e2rIzBD7VZ3TuHSgNcgMtRTVtTRe34$> and delete this email and any attachments from your system.\\n\\nこのEメールと添付ファイルは機密であり、宛先となっている個人または法人のみが使用することを意図しています。このEメールが誤って送信された場合は、お手数ですが、弊社までご連絡<https://urldefense.com/v3/__https:/playstationpartners.service-now.com/csm?id=help®ion=siee__;!!JmoZiZGBv3RvKRSx!9tjhzQvR5IMRrbWyS5EoJ7VhsLrwRzaYrukq-QE0LOL5jq0tTAbKxbMpLoNk0ucWmXC30e2rIzBD7VZ3TuHSgNcgMtRTVtTRe34$> のうえ、システムからこのEメールと添付ファイルを削除してください。System InformationCreated By-,\\n    2/7/2023, 10:10 AMDate/Time Opened2/7/2023, 10:10 AMLast Modified By-,\\n    2/13/2023, 1:21 PMDate/Time Closed\",\n",
       "  'caseComments': [{'date': 'Feb 13, 2023',\n",
       "    'body': 'Hi Om,Our engineering team will update us later in the week, if not sooner. As soon as I receive that update, I will let you know.Thank you so much,Jasmine Dortch-MoserSr. Technical advisor'},\n",
       "   {'date': 'Feb 9, 2023',\n",
       "    'body': \"Hi Om,This has been taken to our engineering team for further investigation. As soon as I have an update, I'll let you know.Thank you so much,Jasmine Dortch-MoserTeam Lead | Sr. Technical Advisor\"},\n",
       "   {'date': 'Feb 8, 2023',\n",
       "    'body': \"Hi Om,I appreciate the information. I'm reaching out to my internal team for guidance on this issue. As soon as I have an update, I'll let you know.Thank you so much,Jasmine Dortch-MoserSr. Technical Advisor\"},\n",
       "   {'date': 'Feb 8, 2023',\n",
       "    'body': 'Hi Om,I looked at this dataset and noticed that this is updated via an API, and it is not one of our standard connectors.Do you know who set up this connector for you? Is it an internal API call? Can you provide the code used to pull this data into this connector? Looking at the owner it appears to be \"Playstation Admin.\"Thank you so much,Jasmine Dortch-MoserSr. Technical Advisor'},\n",
       "   {'date': 'Feb 8, 2023',\n",
       "    'body': 'Hi Om,I looked at this dataset and noticed that this is updated via an API, and it is not one of our standard connectors. Do you know who set up this connector for you? Is it an internal API call? Can you provide the code used to pull this data into this connector? Looking at the owner it appears to be \"Playstation Admin.\"Thank you so much,Jasmine Dortch-MoserSr. Technical Advisor'},\n",
       "   {'date': 'Feb 7, 2023',\n",
       "    'body': 'Hello Gurubaxani,\\xa0Thank you for contacting Domo Preferred Support.\\xa0We appreciate the information you provided regarding your alert/audit log. I’ll go ahead and get this ticket over to our Preferred team for further investigation.\\xa0When the next senior technical advisor is available and has reviewed the case, they will be in touch.\\xa0To help us provide a better support experience please provide the following:\\xa0—How many Domo users are currently impacted? (i.e. Single User, Multiple Users/Groups, Single Group)—Which groups are impacted? (i.e. Managers Directors, Analysts, Executive/C Suite)—What is the usage frequency of the affected Data? (i.e. Weekly, Daily, Monthly etc.)\\xa0If this is an urgent issue, please call Domo Preferred Support at (801) 805-9581, and reference this case number.\\xa0Thank you.Triage TeamDomo Technical Support'}],\n",
       "  'caseNumber': 5845813,\n",
       "  'supportCategory': 'SHARE',\n",
       "  'subject': 'FW: Domo Alert: Audit Log is not running in Domo Prod',\n",
       "  'status': 'Bugged',\n",
       "  'requester': 'Omprakash Gurubaxani',\n",
       "  'domainName': 'playstationpartners.domo.com',\n",
       "  'dateTimeOpened': '2/7/2023, 10:10 AM',\n",
       "  'action': 'Show Actions',\n",
       "  'url': 'https://domo-support.domo.com/s/case/5005w00002BqdfMAAR/fw-domo-alert-audit-log-is-not-running-in-domo-prod',\n",
       "  'content_id': 5845813}}"
      ]
     },
     "execution_count": 18,
     "metadata": {},
     "output_type": "execute_result"
    }
   ],
   "source": [
    "import domolibrary.utils.convert as dmcv\n",
    "import domolibrary.client.DomoAuth as dmda\n",
    "import math\n",
    "import numbers\n",
    "\n",
    "from dataclasses import dataclass, field\n",
    "\n",
    "\n",
    "@dataclass\n",
    "class AppDbRecord:\n",
    "    content: dict = field(repr=False)\n",
    "    content_id: str\n",
    "    document_id: str = None\n",
    "    datastore_id: str = None\n",
    "    collection_id: str = None\n",
    "    auth: dmda.DomoAuth = field(default=None, repr=False)\n",
    "\n",
    "    def __eq__(self, other):\n",
    "        return self.content_id == other.content_id and \\\n",
    "            self.datastore_id == other.datastore_id and \\\n",
    "            self.collection_id == other.collection_id\n",
    "\n",
    "    @classmethod\n",
    "    def from_json(cls, doc_obj, id_col, auth=None, datastore_id=None, collection_id=None):\n",
    "\n",
    "        res = {}\n",
    "\n",
    "        for key in doc_obj.keys():\n",
    "\n",
    "            if not doc_obj[key] or (isinstance(doc_obj[key], numbers.Number) and math.isnan(doc_obj[key])):\n",
    "                continue\n",
    "\n",
    "            key_clean = key.replace('/', ' ').replace('Descending', '')\n",
    "            key_clean = dmcv.convert_snake_to_pascal(key_clean)\n",
    "\n",
    "            res.update({key_clean: doc_obj[key]})\n",
    "\n",
    "        return cls(content=res,\n",
    "                   content_id=doc_obj.get(id_col),\n",
    "                   auth=auth,\n",
    "                   datastore_id=datastore_id,\n",
    "                   collection_id=collection_id)\n",
    "\n",
    "    @classmethod\n",
    "    def from_appdb(cls, document, id_col: str = None, auth: dmda.DomoAuth = None):\n",
    "\n",
    "        content = document.get('content')\n",
    "\n",
    "        return cls(content=content,\n",
    "                   content_id=content.get(\n",
    "                       id_col) if id_col else content.get('content_id'),\n",
    "                   document_id=document.get('id'),\n",
    "                   datastore_id=document.get('datastoreId'),\n",
    "                   collection_id=document.get('collectionId'),\n",
    "                   auth=auth)\n",
    "\n",
    "    def to_document(self):\n",
    "        content = self.content\n",
    "        content.update({'content_id': self.content_id})\n",
    "\n",
    "        return {\n",
    "            'content': self.content\n",
    "        }\n",
    "\n",
    "    def delete(self, auth: dmda.DomoAuth = None):\n",
    "        auth = auth or self.auth\n",
    "\n",
    "        url = f'https://{auth.domo_instance}.domo.com/api/datastores/v1/{self.datastore_id}/collections/{self.collection_id}/documents/{self.document_id}'\n",
    "\n",
    "        return request(method='DELETE', url=url, headers=auth.auth_header)\n",
    "\n",
    "    @classmethod\n",
    "    def create(cls, auth: dmda.DomoAuth, datastore_id, collection_id, doc_obj, id_col):\n",
    "\n",
    "        app_rec = cls.from_json(\n",
    "            doc_obj, id_col, datastore_id=datastore_id, collection_id=collection_id, auth=auth)\n",
    "\n",
    "        url = f'https://{auth.domo_instance}.domo.com/api/datastores/v1/{datastore_id}/collections/{collection_id}/documents/'\n",
    "\n",
    "        return request(method='POST', url=url, headers=auth.auth_header,\n",
    "                       json=app_rec.to_document())\n",
    "\n",
    "\n",
    "article_dict = article_ls[0]\n",
    "rec = AppDbRecord.from_json(article_dict, 'Case Number')\n",
    "rec.to_document()\n"
   ]
  },
  {
   "cell_type": "code",
   "execution_count": 10,
   "metadata": {},
   "outputs": [],
   "source": [
    "# pip install domolibrary\n"
   ]
  },
  {
   "cell_type": "code",
   "execution_count": 11,
   "metadata": {},
   "outputs": [],
   "source": [
    "def get_documents(auth, datastore_id, collection_id, id_col :str = None , return_raw: bool = False):\n",
    "    url = f'https://{domo_instance}.domo.com/api/datastores/v1/{datastore_id}/collections/{collection_id}/documents/'\n",
    "\n",
    "    res = request(method='GET', url=url, headers=auth.auth_header)\n",
    "\n",
    "    document_ls = res.json()\n",
    "\n",
    "    if return_raw:\n",
    "        return document_ls\n",
    "\n",
    "    return [AppDbRecord.from_appdb(document, id_col=id_col, auth = auth ) for document in document_ls]\n",
    "\n"
   ]
  },
  {
   "cell_type": "code",
   "execution_count": 12,
   "metadata": {},
   "outputs": [
    {
     "data": {
      "text/plain": [
       "[]"
      ]
     },
     "execution_count": 12,
     "metadata": {},
     "output_type": "execute_result"
    }
   ],
   "source": [
    "import domolibrary.client.DomoAuth as dmda\n",
    "from requests import request\n",
    "\n",
    "auth = dmda.DomoFullAuth(domo_username=domo_username,\n",
    "                         domo_instance=domo_instance, domo_password=domo_password)\n",
    "\n",
    "await auth.get_auth_token()\n",
    "\n",
    "\n",
    "datastore_id = 'de349e92-186b-40fd-8b1d-c1ac120bde64'\n",
    "collection_id = '6fa667b4-aa4d-465d-8ebc-540e94c0f0a1'\n",
    "\n",
    "domo_record_ls = get_documents(auth, datastore_id=datastore_id,\n",
    "              collection_id=collection_id, \n",
    "              id_col = 'caseNumber',\n",
    "              return_raw=False)\n",
    "\n",
    "domo_record_ls"
   ]
  },
  {
   "cell_type": "code",
   "execution_count": 13,
   "metadata": {},
   "outputs": [],
   "source": [
    "# test delete record\n",
    "for domo_record in domo_record_ls:\n",
    "    domo_record.delete()\n"
   ]
  },
  {
   "cell_type": "code",
   "execution_count": 22,
   "metadata": {},
   "outputs": [
    {
     "data": {
      "text/plain": [
       "[AppDbRecord(content_id=5845813, document_id='b8de3617-dedc-468f-be1f-73f78a6bd015', datastore_id='de349e92-186b-40fd-8b1d-c1ac120bde64', collection_id='6fa667b4-aa4d-465d-8ebc-540e94c0f0a1'),\n",
       " AppDbRecord(content_id=5845813, document_id='4d36fc78-d15f-4c71-9732-8b4db186cce7', datastore_id='de349e92-186b-40fd-8b1d-c1ac120bde64', collection_id='6fa667b4-aa4d-465d-8ebc-540e94c0f0a1')]"
      ]
     },
     "execution_count": 22,
     "metadata": {},
     "output_type": "execute_result"
    }
   ],
   "source": [
    "def upsert_document(auth, datastore_id, collection_id, doc_obj, id_col):\n",
    "    \n",
    "    exist_documents = get_documents(auth, datastore_id, collection_id)\n",
    "\n",
    "    # new_doc = process_doc_fn(content)\n",
    "    return exist_documents\n",
    "\n",
    "\n",
    "upsert_document(auth=auth, datastore_id=datastore_id,\n",
    "                collection_id=collection_id, doc_obj=article_ls[0], id_col='Case Number')\n"
   ]
  },
  {
   "cell_type": "code",
   "execution_count": 19,
   "metadata": {},
   "outputs": [
    {
     "data": {
      "text/plain": [
       "<Response [200]>"
      ]
     },
     "execution_count": 19,
     "metadata": {},
     "output_type": "execute_result"
    }
   ],
   "source": [
    "import domolibrary.client.DomoAuth as dmda\n",
    "from requests import request\n",
    "\n",
    "auth = dmda.DomoFullAuth(domo_username=domo_username,\n",
    "                         domo_instance=domo_instance, domo_password=domo_password)\n",
    "\n",
    "await auth.get_auth_token()\n",
    "\n",
    "datastore_id = 'de349e92-186b-40fd-8b1d-c1ac120bde64'\n",
    "collection_id = '6fa667b4-aa4d-465d-8ebc-540e94c0f0a1'\n",
    "\n",
    "AppDbRecord.create(auth=auth, datastore_id=datastore_id,\n",
    "                   collection_id=collection_id, doc_obj=article_ls[0], id_col='Case Number')\n"
   ]
  }
 ],
 "metadata": {
  "kernelspec": {
   "display_name": "Python 3",
   "language": "python",
   "name": "python3"
  },
  "language_info": {
   "codemirror_mode": {
    "name": "ipython",
    "version": 3
   },
   "file_extension": ".py",
   "mimetype": "text/x-python",
   "name": "python",
   "nbconvert_exporter": "python",
   "pygments_lexer": "ipython3",
   "version": "3.10.9"
  },
  "orig_nbformat": 4,
  "vscode": {
   "interpreter": {
    "hash": "8c7145d9a3a7043fabdac30740956a4b171c739c4e21fd2277e36d6f68204559"
   }
  }
 },
 "nbformat": 4,
 "nbformat_minor": 2
}
