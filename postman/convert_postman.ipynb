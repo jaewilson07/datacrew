{
 "cells": [
  {
   "cell_type": "code",
   "execution_count": 1,
   "metadata": {},
   "outputs": [],
   "source": [
    "# %pip install requests"
   ]
  },
  {
   "cell_type": "code",
   "execution_count": 2,
   "metadata": {},
   "outputs": [],
   "source": [
    "import converter\n",
    "import models\n",
    "import json"
   ]
  },
  {
   "cell_type": "code",
   "execution_count": 3,
   "metadata": {},
   "outputs": [],
   "source": [
    "\n",
    "with open(\"test.postman_collection.json\", \"r\") as f:\n",
    "    data = json.load(f)\n"
   ]
  },
  {
   "cell_type": "code",
   "execution_count": 4,
   "metadata": {},
   "outputs": [
    {
     "data": {
      "text/plain": [
       "[PostmanRequest(name='https://domo-community.domo.com/api/analytics/v1/domoweb', method='POST', header=[PostmanRequest_Header(key='host', value='domo-community.domo.com'), PostmanRequest_Header(key='accept', value='application/json, text/plain, */*'), PostmanRequest_Header(key='sec-ch-ua', value='\"Chromium\";v=\"134\", \"Not:A-Brand\";v=\"24\", \"Google Chrome\";v=\"134\"'), PostmanRequest_Header(key='user-agent', value='Mozilla/5.0 (Windows NT 10.0; Win64; x64) AppleWebKit/537.36 (KHTML, like Gecko) Chrome/134.0.0.0 Safari/537.36'), PostmanRequest_Header(key='content-type', value='application/json;charset=utf-8'), PostmanRequest_Header(key='x-csrf-token', value='530f4e52-edef-49f8-9bb6-151535e22469'), PostmanRequest_Header(key='sec-fetch-dest', value='empty'), PostmanRequest_Header(key='sec-fetch-mode', value='cors'), PostmanRequest_Header(key='sec-fetch-site', value='same-origin'), PostmanRequest_Header(key='sec-ch-ua-mobile', value='?0'), PostmanRequest_Header(key='x-requested-with', value='XMLHttpRequest'), PostmanRequest_Header(key='sec-ch-ua-platform', value='\"Windows\"'), PostmanRequest_Header(key='x-domo-requestcontext', value='{\"clientToe\":\"C5MAH5D893-CKQE4\"}')], url=PostmanUrl(raw='https://domo-community.domo.com/api/analytics/v1/domoweb', protocol='https', host=['domo-community', 'domo', 'com'], path=['api', 'analytics', 'v1', 'domoweb'], query=[]), body=PostmanRequest_Body(mode='raw', raw='[{\"behavior_name\":\"left_nav_main_expand\",\"tier_level\":\"standard\",\"clientToe\":\"C5MAH5D893-CKQE4\",\"customer\":\"mmmm-0012-0200\",\"unique_user_id\":\"mmmm-0012-0200-1893952720\",\"domain\":\"domo-community.domo.com\",\"environment\":\"prod1\",\"platform\":\"webapp\",\"domo_version\":\"2025_02_04\",\"device_language\":\"en-US\",\"display_language\":\"en-US\",\"session_id\":\"0468eba6-776d-47e7-8803-52ca6b2eabe0\",\"path\":\"/page/30507758\",\"event_order\":11,\"eventType\":\"link\"},{\"actionType\":\"feature\",\"id\":\"ai_and_ml_ai_chat\",\"behavior_name\":\"left_nav_pinned_item_clicked\",\"tier_level\":\"standard\",\"clientToe\":\"C5MAH5D893-CKQE4\",\"customer\":\"mmmm-0012-0200\",\"unique_user_id\":\"mmmm-0012-0200-1893952720\",\"domain\":\"domo-community.domo.com\",\"environment\":\"prod1\",\"platform\":\"webapp\",\"domo_version\":\"2025_02_04\",\"device_language\":\"en-US\",\"display_language\":\"en-US\",\"session_id\":\"0468eba6-776d-47e7-8803-52ca6b2eabe0\",\"path\":\"/page/30507758\",\"event_order\":12,\"eventType\":\"link\"},{\"nav_tier_category\":1,\"behavior_name\":\"left_nav_domo_products\",\"tier_level\":\"standard\",\"clientToe\":\"C5MAH5D893-CKQE4\",\"customer\":\"mmmm-0012-0200\",\"unique_user_id\":\"mmmm-0012-0200-1893952720\",\"domain\":\"domo-community.domo.com\",\"environment\":\"prod1\",\"platform\":\"webapp\",\"domo_version\":\"2025_02_04\",\"device_language\":\"en-US\",\"display_language\":\"en-US\",\"session_id\":\"0468eba6-776d-47e7-8803-52ca6b2eabe0\",\"path\":\"/page/30507758\",\"event_order\":13,\"eventType\":\"link\"},{\"behavior_name\":\"left_nav_main_expand\",\"tier_level\":\"standard\",\"clientToe\":\"C5MAH5D893-CKQE4\",\"customer\":\"mmmm-0012-0200\",\"unique_user_id\":\"mmmm-0012-0200-1893952720\",\"domain\":\"domo-community.domo.com\",\"environment\":\"prod1\",\"platform\":\"webapp\",\"domo_version\":\"2025_02_04\",\"device_language\":\"en-US\",\"display_language\":\"en-US\",\"session_id\":\"0468eba6-776d-47e7-8803-52ca6b2eabe0\",\"path\":\"/page/30507758\",\"event_order\":14,\"eventType\":\"link\"},{\"behavior_name\":\"left_nav_main_expand\",\"tier_level\":\"standard\",\"clientToe\":\"C5MAH5D893-CKQE4\",\"customer\":\"mmmm-0012-0200\",\"unique_user_id\":\"mmmm-0012-0200-1893952720\",\"domain\":\"domo-community.domo.com\",\"environment\":\"prod1\",\"platform\":\"webapp\",\"domo_version\":\"2025_02_04\",\"device_language\":\"en-US\",\"display_language\":\"en-US\",\"session_id\":\"0468eba6-776d-47e7-8803-52ca6b2eabe0\",\"path\":\"/page/30507758\",\"event_order\":15,\"eventType\":\"link\"}]'), response=[]),\n",
       " PostmanRequest(name='https://domo-community.domo.com/api/content/v1/cards', method='GET', header=[PostmanRequest_Header(key='host', value='domo-community.domo.com'), PostmanRequest_Header(key='accept', value='*/*'), PostmanRequest_Header(key='sec-ch-ua', value='\"Chromium\";v=\"134\", \"Not:A-Brand\";v=\"24\", \"Google Chrome\";v=\"134\"'), PostmanRequest_Header(key='user-agent', value='Mozilla/5.0 (Windows NT 10.0; Win64; x64) AppleWebKit/537.36 (KHTML, like Gecko) Chrome/134.0.0.0 Safari/537.36'), PostmanRequest_Header(key='x-csrf-token', value='530f4e52-edef-49f8-9bb6-151535e22469'), PostmanRequest_Header(key='sec-fetch-dest', value='empty'), PostmanRequest_Header(key='sec-fetch-mode', value='cors'), PostmanRequest_Header(key='sec-fetch-site', value='same-origin'), PostmanRequest_Header(key='x-requested-with', value='XMLHttpRequest'), PostmanRequest_Header(key='sec-ch-ua-mobile', value='?0'), PostmanRequest_Header(key='sec-ch-ua-platform', value='\"Windows\"'), PostmanRequest_Header(key='x-domo-requestcontext', value='{\"clientToe\":\"C5MAH5D893-1RT4G\"}')], url=PostmanUrl(raw='https://domo-community.domo.com/api/content/v1/cards?urns=undefined&parts=certification,datasources,dateInfo,drillPathURNs,library,metadata,metadataOverrides,owners,slicers,subscriptions&includeFiltered=true', protocol='https', host=['domo-community', 'domo', 'com'], path=['api', 'content', 'v1', 'cards'], query=[PostmanQueryParam(key='urns', value='undefined'), PostmanQueryParam(key='parts', value='certification,datasources,dateInfo,drillPathURNs,library,metadata,metadataOverrides,owners,slicers,subscriptions'), PostmanQueryParam(key='includeFiltered', value='true')]), body=None, response=[]),\n",
       " PostmanRequest(name='https://domo-community.domo.com/api/ai/v1/settings', method='GET', header=[PostmanRequest_Header(key='host', value='domo-community.domo.com'), PostmanRequest_Header(key='accept', value='application/json, text/plain, */*'), PostmanRequest_Header(key='sec-ch-ua', value='\"Chromium\";v=\"134\", \"Not:A-Brand\";v=\"24\", \"Google Chrome\";v=\"134\"'), PostmanRequest_Header(key='user-agent', value='Mozilla/5.0 (Windows NT 10.0; Win64; x64) AppleWebKit/537.36 (KHTML, like Gecko) Chrome/134.0.0.0 Safari/537.36'), PostmanRequest_Header(key='content-type', value='application/json;charset=utf-8'), PostmanRequest_Header(key='x-csrf-token', value='530f4e52-edef-49f8-9bb6-151535e22469'), PostmanRequest_Header(key='sec-fetch-dest', value='empty'), PostmanRequest_Header(key='sec-fetch-mode', value='cors'), PostmanRequest_Header(key='sec-fetch-site', value='same-origin'), PostmanRequest_Header(key='sec-ch-ua-mobile', value='?0'), PostmanRequest_Header(key='x-requested-with', value='XMLHttpRequest'), PostmanRequest_Header(key='sec-ch-ua-platform', value='\"Windows\"'), PostmanRequest_Header(key='x-domo-requestcontext', value='{\"clientToe\":\"C5MAH5D893-1RT4G\"}')], url=PostmanUrl(raw='https://domo-community.domo.com/api/ai/v1/settings', protocol='https', host=['domo-community', 'domo', 'com'], path=['api', 'ai', 'v1', 'settings'], query=[]), body=None, response=[]),\n",
       " PostmanRequest(name='https://domo-community.domo.com/api/ai/v1/settings/general', method='GET', header=[PostmanRequest_Header(key='host', value='domo-community.domo.com'), PostmanRequest_Header(key='accept', value='application/json, text/plain, */*'), PostmanRequest_Header(key='sec-ch-ua', value='\"Chromium\";v=\"134\", \"Not:A-Brand\";v=\"24\", \"Google Chrome\";v=\"134\"'), PostmanRequest_Header(key='user-agent', value='Mozilla/5.0 (Windows NT 10.0; Win64; x64) AppleWebKit/537.36 (KHTML, like Gecko) Chrome/134.0.0.0 Safari/537.36'), PostmanRequest_Header(key='content-type', value='application/json;charset=utf-8'), PostmanRequest_Header(key='x-csrf-token', value='530f4e52-edef-49f8-9bb6-151535e22469'), PostmanRequest_Header(key='sec-fetch-dest', value='empty'), PostmanRequest_Header(key='sec-fetch-mode', value='cors'), PostmanRequest_Header(key='sec-fetch-site', value='same-origin'), PostmanRequest_Header(key='sec-ch-ua-mobile', value='?0'), PostmanRequest_Header(key='x-requested-with', value='XMLHttpRequest'), PostmanRequest_Header(key='sec-ch-ua-platform', value='\"Windows\"'), PostmanRequest_Header(key='x-domo-requestcontext', value='{\"clientToe\":\"C5MAH5D893-1RT4G\"}')], url=PostmanUrl(raw='https://domo-community.domo.com/api/ai/v1/settings/general', protocol='https', host=['domo-community', 'domo', 'com'], path=['api', 'ai', 'v1', 'settings', 'general'], query=[]), body=None, response=[]),\n",
       " PostmanRequest(name='https://domo-community.domo.com/api/ai/v1/settings/services/sql/models/domo.openai', method='GET', header=[PostmanRequest_Header(key='host', value='domo-community.domo.com'), PostmanRequest_Header(key='accept', value='application/json, text/plain, */*'), PostmanRequest_Header(key='sec-ch-ua', value='\"Chromium\";v=\"134\", \"Not:A-Brand\";v=\"24\", \"Google Chrome\";v=\"134\"'), PostmanRequest_Header(key='user-agent', value='Mozilla/5.0 (Windows NT 10.0; Win64; x64) AppleWebKit/537.36 (KHTML, like Gecko) Chrome/134.0.0.0 Safari/537.36'), PostmanRequest_Header(key='content-type', value='application/json;charset=utf-8'), PostmanRequest_Header(key='x-csrf-token', value='530f4e52-edef-49f8-9bb6-151535e22469'), PostmanRequest_Header(key='sec-fetch-dest', value='empty'), PostmanRequest_Header(key='sec-fetch-mode', value='cors'), PostmanRequest_Header(key='sec-fetch-site', value='same-origin'), PostmanRequest_Header(key='sec-ch-ua-mobile', value='?0'), PostmanRequest_Header(key='x-requested-with', value='XMLHttpRequest'), PostmanRequest_Header(key='sec-ch-ua-platform', value='\"Windows\"'), PostmanRequest_Header(key='x-domo-requestcontext', value='{\"clientToe\":\"C5MAH5D893-1RT4G\"}')], url=PostmanUrl(raw='https://domo-community.domo.com/api/ai/v1/settings/services/sql/models/domo.openai', protocol='https', host=['domo-community', 'domo', 'com'], path=['api', 'ai', 'v1', 'settings', 'services', 'sql', 'models', 'domo.openai'], query=[]), body=None, response=[])]"
      ]
     },
     "execution_count": 4,
     "metadata": {},
     "output_type": "execute_result"
    }
   ],
   "source": [
    "pc = models.PostmanCollection.from_dict(data)\n",
    "pc.requests[0:5]"
   ]
  },
  {
   "cell_type": "code",
   "execution_count": 5,
   "metadata": {},
   "outputs": [],
   "source": [
    "pc.list_all_headers()\n",
    "\n",
    "required_headers = ['accept', 'content-type']\n"
   ]
  },
  {
   "cell_type": "code",
   "execution_count": 6,
   "metadata": {},
   "outputs": [
    {
     "data": {
      "text/plain": [
       "{'urns': ['undefined'],\n",
       " 'parts': ['functions,code',\n",
       "  'certification,datasources,dateInfo,drillPathURNs,library,metadata,metadataOverrides,owners,slicers,subscriptions',\n",
       "  'versions'],\n",
       " 'includeFiltered': ['true'],\n",
       " 'cvUserIds': ['1728973208'],\n",
       " 'size': ['100'],\n",
       " 'cacheBuster': ['1744062745597', '1744062837438'],\n",
       " 'fields': ['key,name', 'USER_TRIAL_DETAILS'],\n",
       " 'count': ['id'],\n",
       " None: [''],\n",
       " 'id': ['1893952720'],\n",
       " 'includeDetails': ['true'],\n",
       " 'filter': [''],\n",
       " 'limit': ['10'],\n",
       " 'type': ['userByEmail', 'userByName'],\n",
       " 'offset': ['0'],\n",
       " 'query': [''],\n",
       " 'types': ['open', 'closed', 'dynamic', 'adHoc', 'directory', 'system'],\n",
       " 'defaultBackground': ['555555'],\n",
       " 'defaultForeground': ['EEEEEE'],\n",
       " 'defaultText': ['TC'],\n",
       " 'ignoreCache': ['false'],\n",
       " 'includeActive': ['false'],\n",
       " 'includeUsers': ['false']}"
      ]
     },
     "execution_count": 6,
     "metadata": {},
     "output_type": "execute_result"
    }
   ],
   "source": [
    "pc.list_all_params()"
   ]
  },
  {
   "cell_type": "code",
   "execution_count": 9,
   "metadata": {},
   "outputs": [],
   "source": [
    "\n",
    "\n",
    "converter.generate_implementation_files(pc, export_folder=\"./EXPORT/domo_api\", config = {\"required_headers\": required_headers}\n",
    "                                        )"
   ]
  }
 ],
 "metadata": {
  "kernelspec": {
   "display_name": ".venv",
   "language": "python",
   "name": "python3"
  },
  "language_info": {
   "codemirror_mode": {
    "name": "ipython",
    "version": 3
   },
   "file_extension": ".py",
   "mimetype": "text/x-python",
   "name": "python",
   "nbconvert_exporter": "python",
   "pygments_lexer": "ipython3",
   "version": "3.11.6"
  }
 },
 "nbformat": 4,
 "nbformat_minor": 2
}
