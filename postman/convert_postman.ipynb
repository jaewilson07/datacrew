{
 "cells": [
  {
   "cell_type": "markdown",
   "metadata": {},
   "source": [
    "# Postman Collection Converter\n",
    "\n",
    "This notebook demonstrates how to convert Postman collections to Python API client code using the PostmanCollectionConverter library."
   ]
  },
  {
   "cell_type": "code",
   "execution_count": 1,
   "metadata": {},
   "outputs": [],
   "source": [
    "import os\n",
    "import json\n",
    "from typing import Dict, List, Optional\n",
    "\n",
    "from models import PostmanCollection, PostmanRequest\n",
    "from converter import PostmanCollectionConverter, PostmanRequestConverter\n",
    "from utils import to_snake_case"
   ]
  },
  {
   "cell_type": "markdown",
   "metadata": {},
   "source": [
    "## Load a Postman Collection\n",
    "\n",
    "First, let's load a Postman collection from a JSON file."
   ]
  },
  {
   "cell_type": "code",
   "execution_count": 10,
   "metadata": {},
   "outputs": [
    {
     "data": {
      "text/plain": [
       "{'host': ['domo-community.domo.com'],\n",
       " 'accept': ['*/*', 'application/json, text/plain, */*'],\n",
       " 'sec-ch-ua': ['\"Chromium\";v=\"134\", \"Not:A-Brand\";v=\"24\", \"Google Chrome\";v=\"134\"'],\n",
       " 'user-agent': ['Mozilla/5.0 (Windows NT 10.0; Win64; x64) AppleWebKit/537.36 (KHTML, like Gecko) Chrome/134.0.0.0 Safari/537.36'],\n",
       " 'content-type': ['application/json',\n",
       "  'application/json;charset=UTF-8',\n",
       "  'application/json;charset=utf-8'],\n",
       " 'x-csrf-token': ['530f4e52-edef-49f8-9bb6-151535e22469'],\n",
       " 'sec-fetch-dest': ['empty'],\n",
       " 'sec-fetch-mode': ['cors'],\n",
       " 'sec-fetch-site': ['same-origin'],\n",
       " 'sec-ch-ua-mobile': ['?0'],\n",
       " 'x-requested-with': ['XMLHttpRequest'],\n",
       " 'sec-ch-ua-platform': ['\"Windows\"'],\n",
       " 'x-domo-requestcontext': ['{\"clientToe\":\"C5MAH5D893-J9NMQ\"}',\n",
       "  '{\"clientToe\":\"C5MAH5D893-55M2H\"}',\n",
       "  '{\"clientToe\":\"C5MAH5D893-INK99\"}',\n",
       "  '{\"clientToe\":\"C5MAH5D893-M0ASA\"}',\n",
       "  '{\"clientToe\":\"C5MAH5D893-5AFLD\"}',\n",
       "  '{\"clientToe\":\"C5MAH5D893-EBRDT\"}',\n",
       "  '{\"clientToe\":\"C5MAH5D893-E9QLV\"}',\n",
       "  '{\"clientToe\":\"C5MAH5D893-1RT4G\"}',\n",
       "  '{\"clientToe\":\"C5MAH5D893-P8MKL\"}',\n",
       "  '{\"clientToe\":\"C5MAH5D893-0NV22\"}',\n",
       "  '{\"clientToe\":\"C5MAH5D893-M557V\"}',\n",
       "  '{\"clientToe\":\"C5MAH5D893-CKQE4\"}']}"
      ]
     },
     "execution_count": 10,
     "metadata": {},
     "output_type": "execute_result"
    }
   ],
   "source": [
    "# Replace this with your Postman collection path\n",
    "collection_path = \"test.postman_collection.json\"\n",
    "\n",
    "# Define the output directory\n",
    "output_dir = \"./EXPORT/domo_api\"\n",
    "\n",
    "# Load the collection from a file\n",
    "collection = PostmanCollection.from_file(collection_path)\n",
    "collection.list_all_headers()"
   ]
  },
  {
   "cell_type": "markdown",
   "metadata": {},
   "source": [
    "## Customize the Conversion\n",
    "\n",
    "Let's define some customization options for specific functions."
   ]
  },
  {
   "cell_type": "code",
   "execution_count": null,
   "metadata": {},
   "outputs": [],
   "source": [
    "config = {\"required_headers\" : ['accept' , 'content-type']}\n",
    "# Customization options for specific endpoints\n",
    "customizations = {\n",
    "    # Function name -> customization options\n",
    "    \"get_cards\": {\n",
    "        \"default_params\": [\"urns\", \"parts\", \"includeFiltered\"],\n",
    "        \"ignored_headers\": [\"sec-ch-ua\", \"sec-ch-ua-mobile\", \"sec-ch-ua-platform\"]\n",
    "    },\n",
    "    \"post_domoweb\": {\n",
    "        \"required_headers\": [\"content-type\", \"host\", \"x-csrf-token\"],\n",
    "        \"ignored_params\": []\n",
    "    }\n",
    "}"
   ]
  },
  {
   "cell_type": "markdown",
   "metadata": {},
   "source": [
    "## Generate Python API Client Files\n",
    "\n",
    "Now let's generate the Python API client files from the Postman collection."
   ]
  },
  {
   "cell_type": "code",
   "execution_count": null,
   "metadata": {},
   "outputs": [
    {
     "name": "stdout",
     "output_type": "stream",
     "text": [
      "Error generating API client: [Errno 13] Permission denied: 'output/api_client\\\\post_domoweb.py'\n"
     ]
    }
   ],
   "source": [
    "\n",
    "# Create the converter\n",
    "try:\n",
    "    converter = PostmanCollectionConverter.from_postman_collection(\n",
    "        postman_path=collection_path,\n",
    "        export_folder=output_dir,\n",
    "        customize=customizations\n",
    "    )\n",
    "    \n",
    "    # Generate the files\n",
    "    converters = converter.generate_conversion_files(\n",
    "        is_replace=True,             # Replace existing files\n",
    "        is_include_test_code=True    # Include test functions\n",
    "    )\n",
    "    \n",
    "    print(f\"Generated {len(converters)} API client functions.\")\n",
    "except Exception as e:\n",
    "    print(f\"Error generating API client: {str(e)}\")"
   ]
  },
  {
   "cell_type": "markdown",
   "metadata": {},
   "source": [
    "## Test the Generated API Client\n",
    "\n",
    "Now we can test our generated API client functions."
   ]
  },
  {
   "cell_type": "code",
   "execution_count": 5,
   "metadata": {},
   "outputs": [],
   "source": [
    "# Define auth credentials\n",
    "auth = {\n",
    "    \"base_url\": \"https://domo-community.domo.com\",\n",
    "    \"headers\": {\n",
    "        \"x-csrf-token\": \"your-csrf-token-here\",\n",
    "        \"content-type\": \"application/json;charset=utf-8\"\n",
    "    }\n",
    "}\n",
    "\n",
    "# Test the exported functions (commented out to avoid making actual API calls)\n",
    "# from converter import test_exports\n",
    "# \n",
    "# results = test_exports(\n",
    "#     export_folder=output_dir,\n",
    "#     auth=auth,\n",
    "#     debug_api=True,\n",
    "#     update_files=True\n",
    "# )"
   ]
  },
  {
   "cell_type": "markdown",
   "metadata": {},
   "source": [
    "## Individual Request Conversion\n",
    "\n",
    "You can also convert individual Postman requests directly."
   ]
  },
  {
   "cell_type": "code",
   "execution_count": 6,
   "metadata": {},
   "outputs": [
    {
     "name": "stdout",
     "output_type": "stream",
     "text": [
      "Converting request: https://domo-community.domo.com/api/analytics/v1/domoweb\n",
      "\n",
      "Filtered Headers:\n",
      "  host: domo-community.domo.com\n",
      "  accept: application/json, text/plain, */*\n",
      "  user-agent: Mozilla/5.0 (Windows NT 10.0; Win64; x64) AppleWebKit/537.36 (KHTML, like Gecko) Chrome/134.0.0.0 Safari/537.36\n",
      "  content-type: application/json;charset=utf-8\n",
      "  x-csrf-token: 530f4e52-edef-49f8-9bb6-151535e22469\n",
      "  sec-fetch-dest: empty\n",
      "  sec-fetch-mode: cors\n",
      "  sec-fetch-site: same-origin\n",
      "  x-requested-with: XMLHttpRequest\n",
      "  sec-ch-ua-platform: \"Windows\"\n",
      "  x-domo-requestcontext: {\"clientToe\":\"C5MAH5D893-CKQE4\"}\n",
      "\n",
      "Filtered Parameters:\n"
     ]
    },
    {
     "ename": "PermissionError",
     "evalue": "[Errno 13] Permission denied: 'output/api_client\\\\custom_post_domoweb.py'",
     "output_type": "error",
     "traceback": [
      "\u001b[31m---------------------------------------------------------------------------\u001b[39m",
      "\u001b[31mPermissionError\u001b[39m                           Traceback (most recent call last)",
      "\u001b[36mCell\u001b[39m\u001b[36m \u001b[39m\u001b[32mIn[6]\u001b[39m\u001b[32m, line 32\u001b[39m\n\u001b[32m     30\u001b[39m     \u001b[38;5;66;03m# Export to a file\u001b[39;00m\n\u001b[32m     31\u001b[39m     \u001b[38;5;28;01mif\u001b[39;00m os.path.exists(output_dir):\n\u001b[32m---> \u001b[39m\u001b[32m32\u001b[39m         filepath = \u001b[43mreq_converter\u001b[49m\u001b[43m.\u001b[49m\u001b[43mexport_function\u001b[49m\u001b[43m(\u001b[49m\n\u001b[32m     33\u001b[39m \u001b[43m            \u001b[49m\u001b[43mexport_folder\u001b[49m\u001b[43m=\u001b[49m\u001b[43moutput_dir\u001b[49m\u001b[43m,\u001b[49m\n\u001b[32m     34\u001b[39m \u001b[43m            \u001b[49m\u001b[43mprefix\u001b[49m\u001b[43m=\u001b[49m\u001b[33;43m\"\u001b[39;49m\u001b[33;43mcustom_\u001b[39;49m\u001b[33;43m\"\u001b[39;49m\u001b[43m,\u001b[49m\n\u001b[32m     35\u001b[39m \u001b[43m            \u001b[49m\u001b[43minclude_test_code\u001b[49m\u001b[43m=\u001b[49m\u001b[38;5;28;43;01mTrue\u001b[39;49;00m\u001b[43m,\u001b[49m\n\u001b[32m     36\u001b[39m \u001b[43m            \u001b[49m\u001b[43mis_replace\u001b[49m\u001b[43m=\u001b[49m\u001b[38;5;28;43;01mTrue\u001b[39;49;00m\n\u001b[32m     37\u001b[39m \u001b[43m        \u001b[49m\u001b[43m)\u001b[49m\n\u001b[32m     38\u001b[39m         \u001b[38;5;28mprint\u001b[39m(\u001b[33mf\u001b[39m\u001b[33m\"\u001b[39m\u001b[38;5;130;01m\\n\u001b[39;00m\u001b[33mExported to \u001b[39m\u001b[38;5;132;01m{\u001b[39;00mfilepath\u001b[38;5;132;01m}\u001b[39;00m\u001b[33m\"\u001b[39m)\n\u001b[32m     39\u001b[39m \u001b[38;5;28;01melse\u001b[39;00m:\n",
      "\u001b[36mFile \u001b[39m\u001b[32md:\\GitHub\\datacrew\\postman\\converter.py:79\u001b[39m, in \u001b[36mPostmanRequestConverter.export_function\u001b[39m\u001b[34m(self, export_folder, prefix, include_test_code, is_replace)\u001b[39m\n\u001b[32m     76\u001b[39m     complete_code = request_code\n\u001b[32m     78\u001b[39m \u001b[38;5;66;03m# Write to file with appropriate imports\u001b[39;00m\n\u001b[32m---> \u001b[39m\u001b[32m79\u001b[39m \u001b[38;5;28;01mwith\u001b[39;00m \u001b[38;5;28;43mopen\u001b[39;49m\u001b[43m(\u001b[49m\u001b[43mfilepath\u001b[49m\u001b[43m,\u001b[49m\u001b[43m \u001b[49m\u001b[33;43m\"\u001b[39;49m\u001b[33;43mw\u001b[39;49m\u001b[33;43m\"\u001b[39;49m\u001b[43m,\u001b[49m\u001b[43m \u001b[49m\u001b[43mencoding\u001b[49m\u001b[43m=\u001b[49m\u001b[33;43m\"\u001b[39;49m\u001b[33;43mutf-8\u001b[39;49m\u001b[33;43m\"\u001b[39;49m\u001b[43m)\u001b[49m \u001b[38;5;28;01mas\u001b[39;00m f:\n\u001b[32m     80\u001b[39m     f.write(\u001b[33m\"\u001b[39m\u001b[33mfrom utils import gd_requests\u001b[39m\u001b[38;5;130;01m\\n\u001b[39;00m\u001b[38;5;130;01m\\n\u001b[39;00m\u001b[33m\"\u001b[39m)\n\u001b[32m     81\u001b[39m     f.write(\u001b[33m\"\u001b[39m\u001b[33mimport requests\u001b[39m\u001b[38;5;130;01m\\n\u001b[39;00m\u001b[33m\"\u001b[39m)\n",
      "\u001b[31mPermissionError\u001b[39m: [Errno 13] Permission denied: 'output/api_client\\\\custom_post_domoweb.py'"
     ]
    }
   ],
   "source": [
    "if 'collection' in locals() and len(collection.requests) > 0:\n",
    "    # Get a specific request from the collection\n",
    "    test_request = collection.requests[0]\n",
    "    \n",
    "    print(f\"Converting request: {test_request.name}\")\n",
    "    \n",
    "    # Convert with specific configuration\n",
    "    required_headers = [\"content-type\", \"host\"]\n",
    "    ignored_headers = [\"sec-ch-ua\", \"sec-ch-ua-mobile\"]\n",
    "    default_params = [\"urns\", \"parts\"]  # Parameters to expose as function arguments\n",
    "    ignored_params = [\"cacheBuster\"]  # Parameters to exclude\n",
    "    \n",
    "    # Create a converter for this request\n",
    "    req_converter = PostmanRequestConverter(Request=test_request)\n",
    "    \n",
    "    # Process headers with filtering\n",
    "    headers = req_converter.generate_headers(required_headers, ignored_headers)\n",
    "    \n",
    "    # Process parameters with filtering\n",
    "    params = req_converter.generate_params(default_params, ignored_params)\n",
    "    \n",
    "    print(\"\\nFiltered Headers:\")\n",
    "    for k, v in headers.items():\n",
    "        print(f\"  {k}: {v}\")\n",
    "    \n",
    "    print(\"\\nFiltered Parameters:\")\n",
    "    for k, v in params.items():\n",
    "        print(f\"  {k}: {v}\")\n",
    "    \n",
    "    # Export to a file\n",
    "    if os.path.exists(output_dir):\n",
    "        filepath = req_converter.export_function(\n",
    "            export_folder=output_dir,\n",
    "            prefix=\"custom_\",\n",
    "            include_test_code=True,\n",
    "            is_replace=True\n",
    "        )\n",
    "        print(f\"\\nExported to {filepath}\")\n",
    "else:\n",
    "    print(\"No collection loaded or collection has no requests.\")"
   ]
  }
 ],
 "metadata": {
  "kernelspec": {
   "display_name": ".venv",
   "language": "python",
   "name": "python3"
  },
  "language_info": {
   "codemirror_mode": {
    "name": "ipython",
    "version": 3
   },
   "file_extension": ".py",
   "mimetype": "text/x-python",
   "name": "python",
   "nbconvert_exporter": "python",
   "pygments_lexer": "ipython3",
   "version": "3.11.6"
  }
 },
 "nbformat": 4,
 "nbformat_minor": 2
}
