{
 "cells": [
  {
   "cell_type": "code",
   "execution_count": 1,
   "metadata": {},
   "outputs": [],
   "source": [
    "BASE_URL = \"https://domo-support.domo.com\"\n",
    "OUTPUT_FOLDER = \"../../raw_kb_v2\"\n",
    "\n",
    "ELEMENT_LIST = [\"blocks-item\" , \"article-list-item\", \"section-list-item\", \"slds-form-element\"]"
   ]
  },
  {
   "cell_type": "code",
   "execution_count": 2,
   "metadata": {},
   "outputs": [],
   "source": [
    "from enum import Enum\n",
    "\n",
    "class PageType_Enum(Enum):\n",
    "  article = \"/s/article/\"\n",
    "  category = \"/s/topic/\"\n",
    "  home = \"/s/knowledge-base\"\n",
    "\n",
    "\n",
    "def test_page_type(url):\n",
    "  match_page_type = next(( page_type for page_type in PageType_Enum if page_type.value in url), None)\n",
    "\n",
    "  if not match_page_type:\n",
    "    raise Exception(f'test_page_type: not matched - {url}')\n",
    "  \n",
    "  return match_page_type\n",
    "\n",
    "def extract_url_id(url, page_type):\n",
    "  url_split = url.split(page_type.value)\n",
    "\n",
    "  if url_split[1] == '':\n",
    "    url = url.split('/s/')[1]\n",
    "\n",
    "    return url[:-1] if url.endswith('/') else url\n",
    "      \n",
    "  \n",
    "  return url_split[1].split('/')[0]\n",
    "\n",
    "\n",
    "TEST_ARTICLE_URL = \"https://domo-support.domo.com/s/article/360043429913\"\n",
    "TEST_TOPIC_URL = 'https://domo-support.domo.com/s/topic/0TO5w000000ZamsGAC'\n",
    "TEST_HOME_URL = \"https://domo-support.domo.com/s/knowledge-base\"\n",
    "\n",
    "test_url_ls = [ TEST_ARTICLE_URL, TEST_TOPIC_URL, TEST_HOME_URL]\n",
    "\n",
    "# [(test_page_type(url).name, url) for url in test_url_ls]\n",
    "# [extract_url_id(url, test_page_type(url)) for url in test_url_ls]\n"
   ]
  },
  {
   "attachments": {},
   "cell_type": "markdown",
   "metadata": {},
   "source": [
    "# Utility Functions"
   ]
  },
  {
   "attachments": {},
   "cell_type": "markdown",
   "metadata": {},
   "source": [
    "## string functions"
   ]
  },
  {
   "cell_type": "code",
   "execution_count": 3,
   "metadata": {},
   "outputs": [],
   "source": [
    "import re\n",
    "\n",
    "def convert_to_snake(text_str):\n",
    "    \"\"\"converts 'snake_case_str' to 'snakeCaseStr'\"\"\"\n",
    "\n",
    "    return text_str.replace(\" \", \"_\").lower()\n",
    "\n",
    "\n",
    "def clean_url_name(path_name):\n",
    "    valid_chars = r\"[^a-zA-Z0-9_]\"\n",
    "\n",
    "    return re.sub(valid_chars, \"\", path_name)\n"
   ]
  },
  {
   "attachments": {},
   "cell_type": "markdown",
   "metadata": {},
   "source": [
    "## process html files\n"
   ]
  },
  {
   "cell_type": "code",
   "execution_count": 4,
   "metadata": {},
   "outputs": [
    {
     "name": "stdout",
     "output_type": "stream",
     "text": [
      "💤 retrieving https://domo-support.domo.com/s/topic/0TO5w000000ZamsGAC 💤\n"
     ]
    }
   ],
   "source": [
    "from bs4 import BeautifulSoup\n",
    "from selenium import webdriver\n",
    "from selenium.webdriver.common.by import By\n",
    "from selenium.webdriver.support.ui import WebDriverWait\n",
    "from selenium.webdriver.support import expected_conditions as EC\n",
    "\n",
    "\n",
    "def driversetup(is_headless: bool = True) -> webdriver:\n",
    "    options = webdriver.ChromeOptions()\n",
    "    # run Selenium in headless mode\n",
    "\n",
    "    if is_headless:\n",
    "        options.add_argument(\"--headless\")\n",
    "\n",
    "    options.add_argument(\"--no-sandbox\")\n",
    "\n",
    "    driver = webdriver.Chrome(options=options)\n",
    "\n",
    "    return driver\n",
    "\n",
    "\n",
    "def pagesource(\n",
    "    url: str,\n",
    "    driver: webdriver = None,\n",
    "    element_ls: [str] = None,\n",
    "    element_type=By.ID, # or By.CLASS_NAME\n",
    "    max_sleep_time=15,\n",
    "    is_return_soup:bool = True\n",
    "):\n",
    "    \"\"\"retrieve page_source\"\"\"\n",
    "    try:\n",
    "        is_driver_close = False if driver else True\n",
    "        driver = driver or driversetup(is_headless=False)\n",
    "\n",
    "        print(f\"💤 retrieving {url} 💤\")\n",
    "        driver.get(url)\n",
    "\n",
    "        WebDriverWait(driver, timeout=max_sleep_time).until(\n",
    "            EC.any_of(\n",
    "                *[EC.presence_of_element_located(\n",
    "                    (element_type, element_id)) for element_id in element_ls]\n",
    "            ))\n",
    "\n",
    "        if is_return_soup:\n",
    "            return BeautifulSoup(driver.page_source, \"lxml\")\n",
    "\n",
    "\n",
    "        return driver.page_source\n",
    "    \n",
    "    except Exception as e:\n",
    "        print(f\"ERROR: {e} -  {url} failed to load page within {max_sleep_time} seconds.  is the element represented in the element list?\")\n",
    "\n",
    "    finally:\n",
    "        if is_driver_close:\n",
    "            driver.close()\n",
    "\n",
    "\n",
    "test_page_source = pagesource( url = TEST_TOPIC_URL, element_ls = ELEMENT_LIST, element_type = By.CLASS_NAME)\n",
    "\n"
   ]
  },
  {
   "cell_type": "code",
   "execution_count": 5,
   "metadata": {},
   "outputs": [
    {
     "data": {
      "text/plain": [
       "['https://domo-support.domo.com/s/knowledge-base',\n",
       " 'https://domo-support.domo.com/s/topic/0TO5w000000ZamwGAC',\n",
       " 'https://domo-support.domo.com/s/topic/0TO5w000000ZanlGAC',\n",
       " 'https://domo-support.domo.com/s/topic/0TO5w000000ZanxGAC',\n",
       " 'https://domo-support.domo.com/s/topic/0TO5w000000ZanCGAS',\n",
       " 'https://domo-support.domo.com/s/topic/0TO5w000000ZanmGAC',\n",
       " 'https://domo-support.domo.com/s/topic/0TO5w000000Zao5GAC',\n",
       " 'https://domo-support.domo.com/s/topic/0TO5w000000ZaoIGAS',\n",
       " 'https://domo-support.domo.com/s/topic/0TO5w000000ZaoLGAS',\n",
       " 'https://domo-support.domo.com/s/topic/0TO5w000000ZanBGAS',\n",
       " 'https://domo-support.domo.com/s/topic/0TO5w000000ZankGAC',\n",
       " 'https://domo-support.domo.com/s/topic/0TO5w000000ZancGAC']"
      ]
     },
     "execution_count": 5,
     "metadata": {},
     "output_type": "execute_result"
    }
   ],
   "source": [
    "from urllib.parse import urljoin, urlparse\n",
    "\n",
    "def get_links(soup, base_url):\n",
    "    links = []\n",
    "    for link in soup.findAll('a'):\n",
    "        url = link.get('href')\n",
    "\n",
    "        if not url:\n",
    "            continue\n",
    "        \n",
    "        elif url.startswith('/s/'):\n",
    "            url = urljoin(base_url, url)\n",
    "\n",
    "        elif not url.startswith(base_url):\n",
    "            continue \n",
    "\n",
    "\n",
    "        url = urljoin(url, urlparse(url).path)\n",
    "        if url.endswith('/'):\n",
    "            url = url[:-1] \n",
    "\n",
    "        url = \"/\".join(url.split('/')[:6])\n",
    "        \n",
    "        if url not in links:\n",
    "            links.append(url) \n",
    "\n",
    "    return links\n",
    "\n",
    "get_links(test_page_source, BASE_URL)"
   ]
  },
  {
   "cell_type": "code",
   "execution_count": 6,
   "metadata": {},
   "outputs": [],
   "source": [
    "import os\n",
    "\n",
    "def write_file(file_path, content, method = 'w'):\n",
    "    with open(file_path, method, encoding='utf-8') as f:\n",
    "        f.write( content)"
   ]
  },
  {
   "cell_type": "code",
   "execution_count": 7,
   "metadata": {},
   "outputs": [
    {
     "name": "stdout",
     "output_type": "stream",
     "text": [
      "💤 retrieving https://domo-support.domo.com/s/article/360043429913 💤\n",
      "done processing https://domo-support.domo.com/s/article/360043429913\n",
      "💤 retrieving https://domo-support.domo.com/s/topic/0TO5w000000ZamsGAC 💤\n",
      "done processing https://domo-support.domo.com/s/topic/0TO5w000000ZamsGAC\n",
      "💤 retrieving https://domo-support.domo.com/s/knowledge-base 💤\n",
      "done processing https://domo-support.domo.com/s/knowledge-base\n"
     ]
    },
    {
     "data": {
      "text/plain": [
       "[['https://domo-support.domo.com/s/knowledge-base',\n",
       "  'https://domo-support.domo.com/s/topic/0TO5w000000ZamwGAC',\n",
       "  'https://domo-support.domo.com/s/topic/0TO5w000000ZamoGAC',\n",
       "  'https://domo-support.domo.com/s/topic/0TO5w000000ZanAGAS',\n",
       "  'https://domo-support.domo.com/s/article/360042924034',\n",
       "  'https://domo-support.domo.com/s/article/360043429933',\n",
       "  'https://domo-support.domo.com/s/article/360043429953',\n",
       "  'https://domo-support.domo.com/s/article/360042924094',\n",
       "  'https://domo-support.domo.com/s/article/360043429993',\n",
       "  'https://domo-support.domo.com/s/article/360043428753',\n",
       "  'https://domo-support.domo.com/s/article/360043429913',\n",
       "  'https://domo-support.domo.com/s/article/360042925494',\n",
       "  'https://domo-support.domo.com/s/article/360043931814',\n",
       "  'https://domo-support.domo.com/s/article/360043429693'],\n",
       " ['https://domo-support.domo.com/s/knowledge-base',\n",
       "  'https://domo-support.domo.com/s/topic/0TO5w000000ZamwGAC',\n",
       "  'https://domo-support.domo.com/s/topic/0TO5w000000ZanlGAC',\n",
       "  'https://domo-support.domo.com/s/topic/0TO5w000000ZanxGAC',\n",
       "  'https://domo-support.domo.com/s/topic/0TO5w000000ZanCGAS',\n",
       "  'https://domo-support.domo.com/s/topic/0TO5w000000ZanmGAC',\n",
       "  'https://domo-support.domo.com/s/topic/0TO5w000000Zao5GAC',\n",
       "  'https://domo-support.domo.com/s/topic/0TO5w000000ZaoIGAS',\n",
       "  'https://domo-support.domo.com/s/topic/0TO5w000000ZaoLGAS',\n",
       "  'https://domo-support.domo.com/s/topic/0TO5w000000ZanBGAS',\n",
       "  'https://domo-support.domo.com/s/topic/0TO5w000000ZankGAC',\n",
       "  'https://domo-support.domo.com/s/topic/0TO5w000000ZancGAC'],\n",
       " ['https://domo-support.domo.com/s/knowledge-base',\n",
       "  'https://domo-support.domo.com/s/topic/0TO5w000000ZamwGAC',\n",
       "  'https://domo-support.domo.com/s/topic/0TO5w000000ZamsGAC',\n",
       "  'https://domo-support.domo.com/s/topic/0TO5w000000ZammGAC',\n",
       "  'https://domo-support.domo.com/s/topic/0TO5w000000ZamzGAC',\n",
       "  'https://domo-support.domo.com/s/topic/0TO5w000000ZamoGAC',\n",
       "  'https://domo-support.domo.com/s/topic/0TO5w000000ZamnGAC',\n",
       "  'https://domo-support.domo.com/s/topic/0TO5w000000ZamlGAC',\n",
       "  'https://domo-support.domo.com/s/topic/0TO5w000000ZamqGAC',\n",
       "  'https://domo-support.domo.com/s/topic/0TO5w000000Zan0GAC',\n",
       "  'https://domo-support.domo.com/s/topic/0TO5w000000Zan2GAC',\n",
       "  'https://domo-support.domo.com/s/topic/0TO5w000000ZampGAC',\n",
       "  'https://domo-support.domo.com/s/topic/0TO5w000000Zan1GAC',\n",
       "  'https://domo-support.domo.com/s/topic/0TO5w000000ZamyGAC']]"
      ]
     },
     "execution_count": 7,
     "metadata": {},
     "output_type": "execute_result"
    }
   ],
   "source": [
    "import os\n",
    "import pandas as pd\n",
    "import datetime as dt\n",
    "\n",
    "\n",
    "def update_listing(\n",
    "        id: str,  # will be url\n",
    "        listing_file_path: str,\n",
    "        page_output_folder: str):\n",
    "\n",
    "    columns = ['id', 'updated', 'output_folder']\n",
    "    df = pd.DataFrame(columns=columns).set_index('id')\n",
    "\n",
    "    if os.path.exists(listing_file_path):\n",
    "        df = pd.read_csv(listing_file_path, index_col='id', encoding='utf-8')\n",
    "\n",
    "    df.loc[id] = [dt.datetime.now(), page_output_folder]\n",
    "\n",
    "    df.to_csv(listing_file_path)\n",
    "\n",
    "    return df.loc[id]\n",
    "\n",
    "\n",
    "def create_page_output_folder(base_output_folder_path, url):\n",
    "    page_type = test_page_type(url)\n",
    "    page_id = extract_url_id(url, page_type)\n",
    "\n",
    "    page_output_folder = os.path.join(\n",
    "        base_output_folder_path, page_type.name, page_id)\n",
    "\n",
    "    if not os.path.exists(page_output_folder):\n",
    "        os.makedirs(page_output_folder)\n",
    "\n",
    "    write_file(file_path=os.path.join(\n",
    "        page_output_folder, 'source.txt'), content=url)\n",
    "\n",
    "    return page_output_folder\n",
    "\n",
    "\n",
    "def process_url(url,\n",
    "                driver: webdriver,\n",
    "                base_output_folder: str,\n",
    "                debug_prn: bool = False):\n",
    "\n",
    "    page_source = pagesource(\n",
    "        url=url,\n",
    "        driver=driver,\n",
    "        element_ls=ELEMENT_LIST,\n",
    "        element_type = By.CLASS_NAME,\n",
    "        is_return_soup = True,\n",
    "        max_sleep_time=15)\n",
    "\n",
    "    page_type = test_page_type(url)\n",
    "\n",
    "    page_id = extract_url_id(url=url, page_type=page_type)\n",
    "\n",
    "    page_output_folder = create_page_output_folder(\n",
    "        base_output_folder,\n",
    "        url=url)\n",
    "\n",
    "    url_ls = None\n",
    "\n",
    "    if page_source:\n",
    "        write_file(os.path.join(page_output_folder, 'index.html'), content = page_source.prettify())\n",
    "\n",
    "        update_listing(id=url,\n",
    "                    listing_file_path=os.path.join(\n",
    "                        base_output_folder, 'listing.csv'),\n",
    "                    page_output_folder=page_output_folder)\n",
    "        \n",
    "        url_ls = get_links(page_source, base_url= BASE_URL)\n",
    "    \n",
    "    print(f\"done processing {url}\")\n",
    "\n",
    "    return url_ls\n",
    "\n",
    "\n",
    "driver = driversetup(is_headless=False)\n",
    "\n",
    "[process_url(url=url,\n",
    "             driver=driver,\n",
    "             base_output_folder=OUTPUT_FOLDER) for url in test_url_ls]\n"
   ]
  },
  {
   "cell_type": "code",
   "execution_count": 8,
   "metadata": {},
   "outputs": [],
   "source": [
    "import logging\n",
    "import selenium.webdriver\n",
    "import os\n",
    "import time\n",
    "\n",
    "logging.basicConfig(\n",
    "    format=\"%(asctime)s %(levelname)s:%(message)s\", level=logging.INFO)\n",
    "\n",
    "\n",
    "class Crawler:\n",
    "    base_url: str\n",
    "    base_output_folder: str\n",
    "\n",
    "    urls_visited_ls: list[str]\n",
    "    urls_to_vist_ls: list[str]\n",
    "    urls_error_ls: list[str]\n",
    "\n",
    "    path_to_visit: str\n",
    "    path_errors : str\n",
    "    path_visited: str\n",
    "\n",
    "    driver: selenium.webdriver\n",
    "\n",
    "    counter: int\n",
    "\n",
    "    def __init__(\n",
    "        self,\n",
    "        urls_to_visit_ls: list[str] = None,\n",
    "        base_url=None,\n",
    "        base_output_folder=\"../../raw_kb/\",\n",
    "        is_fresh_start: bool = False\n",
    "    ):\n",
    "        self.base_url = base_url\n",
    "        self.base_output_folder = base_output_folder\n",
    "\n",
    "        self.counter = 0\n",
    "\n",
    "        self.path_to_visit = os.path.join(\n",
    "            self.base_output_folder, 'crawler_to_visit.csv')\n",
    "            \n",
    "        self.path_errors = os.path.join(self.base_output_folder, 'crawler_errors.csv')\n",
    "\n",
    "        self.path_visited = os.path.join(\n",
    "            self.base_output_folder, 'crawler_visited.csv')\n",
    "        \n",
    "\n",
    "        self.article_ls = []\n",
    "        self.driver = driversetup(is_headless=False)\n",
    "\n",
    "        if is_fresh_start:\n",
    "            \"✂️ deleting files\"\n",
    "            self._delete_file(self.path_to_visit)\n",
    "            self._delete_file(self.path_visited)\n",
    "            self._delete_file(self.path_errors)\n",
    "\n",
    "        self.urls_visited_ls = []\n",
    "        self.urls_to_visit_ls = []\n",
    "        self.urls_error_ls =[]\n",
    "\n",
    "        if not is_fresh_start:\n",
    "            self.urls_visited_ls = self._read_file_ls(self.path_visited)\n",
    "\n",
    "            urls_to_visit_ls += self._read_file_ls(self.path_errors, is_reverse = True)\n",
    "            urls_to_visit_ls += self._read_file_ls(self.path_to_visit)\n",
    "        \n",
    "        print(urls_to_visit_ls)\n",
    "\n",
    "        [self.add_url_to_visit(url) for url in list(set(urls_to_visit_ls))]\n",
    "\n",
    "\n",
    "\n",
    "    @staticmethod\n",
    "    def _delete_file(file_path):\n",
    "        if os.path.exists(file_path):\n",
    "            print(f'deleting {file_path}')\n",
    "            os.remove(file_path)\n",
    "        else:\n",
    "            print(f\"{file_path} cannot be deleted\")\n",
    "\n",
    "    @staticmethod\n",
    "    def _read_file_ls(file_path, is_reverse: bool = False):\n",
    "        try:\n",
    "            file = open(file_path, '+r')\n",
    "\n",
    "            if is_reverse:\n",
    "                file.reverse()\n",
    "\n",
    "            return [line.strip() for line in file]\n",
    "        except:\n",
    "            return []\n",
    "\n",
    "    @staticmethod\n",
    "    def _write_file_ls(file_path, data):\n",
    "\n",
    "        file = open(file_path, 'w+', encoding=\"utf-8\")\n",
    "\n",
    "        for item in data:\n",
    "            file.write(item+\"\\n\")\n",
    "        file.close()\n",
    "\n",
    "    def add_url_to_visit(self, url, debug_prn: bool = False):\n",
    "        if url not in self.urls_visited_ls and url not in self.urls_to_visit_ls:\n",
    "            if debug_prn:\n",
    "                print(f\"adding url to list - {url}\")\n",
    "\n",
    "            self.urls_to_visit_ls.append(url)\n",
    "\n",
    "    def crawl(self, url, debug_prn: bool = False):\n",
    "        if debug_prn:\n",
    "            print(f\"starting crawl - {url}\")\n",
    "\n",
    "    \n",
    "        url_ls = process_url(url = url, driver = self.driver,base_output_folder=self.base_output_folder )\n",
    "\n",
    "        [self.add_url_to_visit(url=url, debug_prn=debug_prn) for url in url_ls]\n",
    "\n",
    "        return True\n",
    "\n",
    "\n",
    "\n",
    "    def run(self, debug_prn: bool = False):\n",
    "        while self.urls_to_visit_ls:\n",
    "            url = self.urls_to_visit_ls.pop(0)\n",
    "            \n",
    "            if not url:\n",
    "                continue\n",
    "\n",
    "            logging.info(f\"Crawling: {url}\")\n",
    "\n",
    "            try:\n",
    "                is_visited = self.crawl(url, debug_prn)\n",
    "\n",
    "                if is_visited:\n",
    "                    self.urls_visited_ls.append(url)\n",
    "                \n",
    "                if not is_visited:\n",
    "                    self.urls_error_ls.append(url)\n",
    "                \n",
    "            except Exception:\n",
    "                logging.exception(f\"Failed to crawl: {url}\")\n",
    "                self.urls_error_ls.append(url)\n",
    "            finally:\n",
    "                self.counter += 1\n",
    "                \n",
    "                if self.counter % 10 == 0:\n",
    "                    self._write_file_ls(self.path_to_visit, self.urls_to_visit_ls)\n",
    "                    self._write_file_ls(self.path_visited, self.urls_visited_ls)\n",
    "                    self._write_file_ls(self.path_errors, self.urls_error_ls)\n",
    "\n",
    "        print(\"done\")\n",
    "        return self\n"
   ]
  },
  {
   "cell_type": "code",
   "execution_count": 9,
   "metadata": {},
   "outputs": [
    {
     "name": "stderr",
     "output_type": "stream",
     "text": [
      "2023-05-01 15:59:53,611 INFO:Crawling: https://domo-support.domo.com/s/article/360043429093\n"
     ]
    },
    {
     "name": "stdout",
     "output_type": "stream",
     "text": [
      "['https://domo-support.domo.com/s/knowledge-base', 'https://domo-support.domo.com/s/article/360047416773', 'https://domo-support.domo.com/s/article/360042931354', 'https://domo-support.domo.com/s/article/360047400113', 'https://domo-support.domo.com/s/article/360042928394', 'https://domo-support.domo.com/s/article/360042935394', 'https://domo-support.domo.com/s/article/360044876094', 'https://domo-support.domo.com/s/article/360043437253', 'https://domo-support.domo.com/s/article/360043429453', 'https://domo-support.domo.com/s/article/360042923874', 'https://domo-support.domo.com/s/article/360042924814', 'https://domo-support.domo.com/s/article/1500001388361', 'https://domo-support.domo.com/s/article/360043429293', 'https://domo-support.domo.com/s/article/360043430633', 'https://domo-support.domo.com/s/article/360043440433', 'https://domo-support.domo.com/s/article/360042932394', 'https://domo-support.domo.com/s/article/360042931554', 'https://domo-support.domo.com/s/article/8230241776791', 'https://domo-support.domo.com/s/article/360043430573', 'https://domo-support.domo.com/s/article/360043440133', 'https://domo-support.domo.com/s/article/8283005822103', 'https://domo-support.domo.com/s/article/360043436153', 'https://domo-support.domo.com/s/article/360043437033', 'https://domo-support.domo.com/s/article/1500001012441', 'https://domo-support.domo.com/s/article/360042924414', 'https://domo-support.domo.com/s/article/360061224493', 'https://domo-support.domo.com/s/article/360043429093', 'https://domo-support.domo.com/s/article/360043440113', 'https://domo-support.domo.com/s/article/360042931394', 'https://domo-support.domo.com/s/article/360042933274', 'https://domo-support.domo.com/s/article/360043437073', 'https://domo-support.domo.com/s/article/4407027041431', 'https://domo-support.domo.com/s/article/360042924754', 'https://domo-support.domo.com/s/article/4407013897367', 'https://domo-support.domo.com/s/article/360058713713', 'https://domo-support.domo.com/s/article/360042931254', 'https://domo-support.domo.com/s/article/4405764653847', 'https://domo-support.domo.com/s/article/360042924394', 'https://domo-support.domo.com/s/article/360043436693', 'https://domo-support.domo.com/s/article/4407012348183', 'https://domo-support.domo.com/s/article/360042927334', 'https://domo-support.domo.com/s/article/7593173476759', 'https://domo-support.domo.com/s/article/1500012178021', 'https://domo-support.domo.com/s/article/360043437413', 'https://domo-support.domo.com/s/article/360042924134', 'https://domo-support.domo.com/s/article/360042926014', 'https://domo-support.domo.com/s/article/000005138', 'https://domo-support.domo.com/s/article/360043436513', 'https://domo-support.domo.com/s/article/360042931814', 'https://domo-support.domo.com/s/article/5714345629207', 'https://domo-support.domo.com/s/article/360043438913', 'https://domo-support.domo.com/s/article/360043429433', 'https://domo-support.domo.com/s/article/7160786911639', 'https://domo-support.domo.com/s/article/360047496013', 'https://domo-support.domo.com/s/article/360043429373', 'https://domo-support.domo.com/s/article/360043440273', 'https://domo-support.domo.com/s/article/000005095', 'https://domo-support.domo.com/s/article/360043428973', 'https://domo-support.domo.com/s/article/360042934354', 'https://domo-support.domo.com/s/article/360057013754', 'https://domo-support.domo.com/s/article/360042932234', 'https://domo-support.domo.com/s/article/360043433573', 'https://domo-support.domo.com/s/article/360042931874', 'https://domo-support.domo.com/s/article/360042924234', 'https://domo-support.domo.com/s/article/360043436993', 'https://domo-support.domo.com/s/article/360043437273', 'https://domo-support.domo.com/s/article/360043436273', 'https://domo-support.domo.com/s/article/360043427633', 'https://domo-support.domo.com/s/article/360043434393', 'https://domo-support.domo.com/s/article/360063090013', 'https://domo-support.domo.com/s/article/360045402313', 'https://domo-support.domo.com/s/article/360042932434', 'https://domo-support.domo.com/s/article/360057028134', 'https://domo-support.domo.com/s/article/360043428913', 'https://domo-support.domo.com/s/article/360057014014', 'https://domo-support.domo.com/s/article/360043436633', 'https://domo-support.domo.com/s/article/360057014334', 'https://domo-support.domo.com/s/article/360042935194', 'https://domo-support.domo.com/s/article/360043432673', 'https://domo-support.domo.com/s/article/360043429653', 'https://domo-support.domo.com/s/article/360043436393', 'https://domo-support.domo.com/s/article/360042932214', 'https://domo-support.domo.com/s/article/360042927634', 'https://domo-support.domo.com/s/article/360043429753', 'https://domo-support.domo.com/s/article/360047499333', 'https://domo-support.domo.com/s/article/8657306040855', 'https://domo-support.domo.com/s/article/360042931854', 'https://domo-support.domo.com/s/article/360043437393', 'https://domo-support.domo.com/s/article/360044876194', 'https://domo-support.domo.com/s/article/8231039188375', 'https://domo-support.domo.com/s/article/360042933194', 'https://domo-support.domo.com/s/article/360042924894', 'https://domo-support.domo.com/s/article/8041126473367', 'https://domo-support.domo.com/s/article/360046860134', 'https://domo-support.domo.com/s/article/360042924854', 'https://domo-support.domo.com/s/article/360042932374', 'https://domo-support.domo.com/s/article/4405652887191', 'https://domo-support.domo.com/s/article/360042935354', 'https://domo-support.domo.com/s/article/4407021587735', 'https://domo-support.domo.com/s/article/360043440373', 'https://domo-support.domo.com/s/article/360058903753', 'https://domo-support.domo.com/s/article/360042935334', 'https://domo-support.domo.com/s/article/1500009781442', 'https://domo-support.domo.com/s/article/360042925134', 'https://domo-support.domo.com/s/article/360042924974', 'https://domo-support.domo.com/s/article/360042924294', 'https://domo-support.domo.com/s/article/360042935674', 'https://domo-support.domo.com/s/article/360042931574', 'https://domo-support.domo.com/s/article/360047400753', 'https://domo-support.domo.com/s/article/360043436833', 'https://domo-support.domo.com/s/article/1500000162442', 'https://domo-support.domo.com/s/article/360043439833', 'https://domo-support.domo.com/s/article/1500000555201', 'https://domo-support.domo.com/s/article/360043436133', 'https://domo-support.domo.com/s/article/360043439473', 'https://domo-support.domo.com/s/article/4404148803479', 'https://domo-support.domo.com/s/article/000005107', 'https://domo-support.domo.com/s/article/360043437373', 'https://domo-support.domo.com/s/article/360061552054', 'https://domo-support.domo.com/s/article/360047504673', 'https://domo-support.domo.com/s/article/360043441633', 'https://domo-support.domo.com/s/article/360042924154', 'https://domo-support.domo.com/s/article/360046856934', 'https://domo-support.domo.com/s/article/360043436173', 'https://domo-support.domo.com/s/article/360042924994', 'https://domo-support.domo.com/s/article/4407022993303', 'https://domo-support.domo.com/s/article/360042925394', 'https://domo-support.domo.com/s/article/360043437013', 'https://domo-support.domo.com/s/article/360043437973', 'https://domo-support.domo.com/s/article/360043436113', 'https://domo-support.domo.com/s/article/4407164711447', 'https://domo-support.domo.com/s/article/4529058568855', 'https://domo-support.domo.com/s/article/7591715386391', 'https://domo-support.domo.com/s/article/360052122814', 'https://domo-support.domo.com/s/article/360042932274', 'https://domo-support.domo.com/s/article/360052105454', 'https://domo-support.domo.com/s/article/360043436673', 'https://domo-support.domo.com/s/article/360043437233', 'https://domo-support.domo.com/s/article/7872485267991', 'https://domo-support.domo.com/s/article/4410301215127', 'https://domo-support.domo.com/s/topic', 'https://domo-support.domo.com/s/article/4407650069527', 'https://domo-support.domo.com/s/article/360046773094', 'https://domo-support.domo.com/s/article/360043428933', 'https://domo-support.domo.com/s/article/360045485833', 'https://domo-support.domo.com/s/article/360043429773', 'https://domo-support.domo.com/s/article/360042932034', 'https://domo-support.domo.com/s/article/360043427993', 'https://domo-support.domo.com/s/article/360043437053', 'https://domo-support.domo.com/s/article/360042932114', 'https://domo-support.domo.com/s/article/360057013954', 'https://domo-support.domo.com/s/article/360043878994', 'https://domo-support.domo.com/s/article/360043437173', 'https://domo-support.domo.com/s/article/360042931734', 'https://domo-support.domo.com/s/article/360058903093', 'https://domo-support.domo.com/s/article/360043440633', 'https://domo-support.domo.com/s/article/360042932334', 'https://domo-support.domo.com/s/article/360042924914', 'https://domo-support.domo.com/s/article/360043428033', 'https://domo-support.domo.com/s/article/360058892093', 'https://domo-support.domo.com/s/article/360042932854', 'https://domo-support.domo.com/s/article/1500011371462', 'https://domo-support.domo.com/s/article/360043429513', 'https://domo-support.domo.com/s/article/4926944153367', 'https://domo-support.domo.com/s/article/000005103', 'https://domo-support.domo.com/s/article/360060597953', 'https://domo-support.domo.com/s/article/360042934334', 'https://domo-support.domo.com/s/article/360043439353', 'https://domo-support.domo.com/s/article/360057028694', 'https://domo-support.domo.com/s/article/360043428053', 'https://domo-support.domo.com/s/article/360046860834', 'https://domo-support.domo.com/s/article/360043437193', 'https://domo-support.domo.com/s/article/360044876614', 'https://domo-support.domo.com/s/article/8656674995991', 'https://domo-support.domo.com/s/article/360042926814', 'https://domo-support.domo.com/s/article/360043429193', 'https://domo-support.domo.com/s/article/4407023720343', 'https://domo-support.domo.com/s/article/360052122574', 'https://domo-support.domo.com/s/article/1500000216241', 'https://domo-support.domo.com/s/article/1500010669841', 'https://domo-support.domo.com/s/article/360042926294', 'https://domo-support.domo.com/s/article/360043429253', 'https://domo-support.domo.com/s/article/5729516441367', 'https://domo-support.domo.com/s/article/360042923494', 'https://domo-support.domo.com/s/article/360043436293', 'https://domo-support.domo.com/s/article/360058892613', 'https://domo-support.domo.com/s/article/360057014534', 'https://domo-support.domo.com/s/article/4407020836887', 'https://domo-support.domo.com/s/article/360042924594', 'https://domo-support.domo.com/s/article/360042924054', 'https://domo-support.domo.com/s/article/360043436013', 'https://domo-support.domo.com/s/article/360042931634', 'https://domo-support.domo.com/s/article/360042932134', 'https://domo-support.domo.com/s/article/8276764172951', 'https://domo-support.domo.com/s/article/360042932674', 'https://domo-support.domo.com/s/article/4407412515991', 'https://domo-support.domo.com/s/article/360057028014', 'https://domo-support.domo.com/s/article/360043428673', 'https://domo-support.domo.com/s/article/360043437153', 'https://domo-support.domo.com/s/article/360042932654', 'https://domo-support.domo.com/s/article/360043436473', 'https://domo-support.domo.com/s/article/360043437473', 'https://domo-support.domo.com/s/article/360059173794', 'https://domo-support.domo.com/s/article/360042930514', 'https://domo-support.domo.com/s/article/360042930954', 'https://domo-support.domo.com/s/article/360042923894', 'https://domo-support.domo.com/s/article/360045259294', 'https://domo-support.domo.com/s/article/4744010382871', 'https://domo-support.domo.com/s/article/1500000281502', 'https://domo-support.domo.com/s/article/360042935734', 'https://domo-support.domo.com/s/article/360042935554', 'https://domo-support.domo.com/s/article/4409512475927', 'https://domo-support.domo.com/s/article/000005122', 'https://domo-support.domo.com/s/article/360042931654', 'https://domo-support.domo.com/s/article/360043436953', 'https://domo-support.domo.com/s/article/1500000285521']\n",
      "{'article_ls': [],\n",
      " 'base_output_folder': '../../raw_kb_v2',\n",
      " 'base_url': 'https://domo-support.domo.com',\n",
      " 'counter': 0,\n",
      " 'driver': <selenium.webdriver.chrome.webdriver.WebDriver (session=\"cc11b5b123ed38a3b855063ab4ca6399\")>,\n",
      " 'path_errors': '../../raw_kb_v2\\\\crawler_errors.csv',\n",
      " 'path_to_visit': '../../raw_kb_v2\\\\crawler_to_visit.csv',\n",
      " 'path_visited': '../../raw_kb_v2\\\\crawler_visited.csv',\n",
      " 'urls_error_ls': [],\n",
      " 'urls_to_visit_ls': ['https://domo-support.domo.com/s/article/360043429093',\n",
      "                      'https://domo-support.domo.com/s/article/1500001388361',\n",
      "                      'https://domo-support.domo.com/s/article/360043427993',\n",
      "                      'https://domo-support.domo.com/s/article/360043436513',\n",
      "                      'https://domo-support.domo.com/s/article/360042923874',\n",
      "                      'https://domo-support.domo.com/s/article/360043428053',\n",
      "                      'https://domo-support.domo.com/s/article/360042932654',\n",
      "                      'https://domo-support.domo.com/s/article/360042932214',\n",
      "                      'https://domo-support.domo.com/s/article/4407021587735',\n",
      "                      'https://domo-support.domo.com/s/article/360052105454',\n",
      "                      'https://domo-support.domo.com/s/article/360043878994',\n",
      "                      'https://domo-support.domo.com/s/article/360042932854',\n",
      "                      'https://domo-support.domo.com/s/article/360042934354',\n",
      "                      'https://domo-support.domo.com/s/article/360043429373',\n",
      "                      'https://domo-support.domo.com/s/article/360057013754',\n",
      "                      'https://domo-support.domo.com/s/article/360046860834',\n",
      "                      'https://domo-support.domo.com/s/article/360042932134',\n",
      "                      'https://domo-support.domo.com/s/article/360043439833',\n",
      "                      'https://domo-support.domo.com/s/article/360042927634',\n",
      "                      'https://domo-support.domo.com/s/article/360043437253',\n",
      "                      'https://domo-support.domo.com/s/article/360045259294',\n",
      "                      'https://domo-support.domo.com/s/article/360042933274',\n",
      "                      'https://domo-support.domo.com/s/article/360042924134',\n",
      "                      'https://domo-support.domo.com/s/article/360043429193',\n",
      "                      'https://domo-support.domo.com/s/article/8656674995991',\n",
      "                      'https://domo-support.domo.com/s/article/7593173476759',\n",
      "                      'https://domo-support.domo.com/s/article/360043428673',\n",
      "                      'https://domo-support.domo.com/s/article/360059173794',\n",
      "                      'https://domo-support.domo.com/s/article/360042923894',\n",
      "                      'https://domo-support.domo.com/s/article/000005122',\n",
      "                      'https://domo-support.domo.com/s/article/360042932114',\n",
      "                      'https://domo-support.domo.com/s/article/360043436013',\n",
      "                      'https://domo-support.domo.com/s/article/360042931874',\n",
      "                      'https://domo-support.domo.com/s/article/360042924814',\n",
      "                      'https://domo-support.domo.com/s/article/4409512475927',\n",
      "                      'https://domo-support.domo.com/s/article/360042935554',\n",
      "                      'https://domo-support.domo.com/s/article/000005138',\n",
      "                      'https://domo-support.domo.com/s/article/360042933194',\n",
      "                      'https://domo-support.domo.com/s/article/360043433573',\n",
      "                      'https://domo-support.domo.com/s/article/360043437393',\n",
      "                      'https://domo-support.domo.com/s/article/1500012178021',\n",
      "                      'https://domo-support.domo.com/s/article/360042924294',\n",
      "                      'https://domo-support.domo.com/s/article/360042924914',\n",
      "                      'https://domo-support.domo.com/s/article/4407412515991',\n",
      "                      'https://domo-support.domo.com/s/article/360047499333',\n",
      "                      'https://domo-support.domo.com/s/article/8276764172951',\n",
      "                      'https://domo-support.domo.com/s/article/360043437073',\n",
      "                      'https://domo-support.domo.com/s/article/1500000216241',\n",
      "                      'https://domo-support.domo.com/s/article/360042935334',\n",
      "                      'https://domo-support.domo.com/s/article/360043437413',\n",
      "                      'https://domo-support.domo.com/s/article/360046856934',\n",
      "                      'https://domo-support.domo.com/s/article/000005095',\n",
      "                      'https://domo-support.domo.com/s/article/360057014334',\n",
      "                      'https://domo-support.domo.com/s/article/360057028014',\n",
      "                      'https://domo-support.domo.com/s/article/360043427633',\n",
      "                      'https://domo-support.domo.com/s/article/360043436153',\n",
      "                      'https://domo-support.domo.com/s/article/360042925394',\n",
      "                      'https://domo-support.domo.com/s/article/8041126473367',\n",
      "                      'https://domo-support.domo.com/s/article/5729516441367',\n",
      "                      'https://domo-support.domo.com/s/article/1500000555201',\n",
      "                      'https://domo-support.domo.com/s/article/360042932234',\n",
      "                      'https://domo-support.domo.com/s/article/360042926814',\n",
      "                      'https://domo-support.domo.com/s/article/360043440433',\n",
      "                      'https://domo-support.domo.com/s/article/360042931814',\n",
      "                      'https://domo-support.domo.com/s/article/360057028694',\n",
      "                      'https://domo-support.domo.com/s/article/360042932334',\n",
      "                      'https://domo-support.domo.com/s/article/360042924854',\n",
      "                      'https://domo-support.domo.com/s/article/360042925134',\n",
      "                      'https://domo-support.domo.com/s/article/360043438913',\n",
      "                      'https://domo-support.domo.com/s/article/360042931734',\n",
      "                      'https://domo-support.domo.com/s/article/360042930514',\n",
      "                      'https://domo-support.domo.com/s/article/360043428913',\n",
      "                      'https://domo-support.domo.com/s/article/360043436133',\n",
      "                      'https://domo-support.domo.com/s/article/360063090013',\n",
      "                      'https://domo-support.domo.com/s/article/360042931634',\n",
      "                      'https://domo-support.domo.com/s/article/360043432673',\n",
      "                      'https://domo-support.domo.com/s/article/360042935194',\n",
      "                      'https://domo-support.domo.com/s/article/4744010382871',\n",
      "                      'https://domo-support.domo.com/s/article/360043437173',\n",
      "                      'https://domo-support.domo.com/s/article/360043436473',\n",
      "                      'https://domo-support.domo.com/s/article/360043429293',\n",
      "                      'https://domo-support.domo.com/s/article/360042926294',\n",
      "                      'https://domo-support.domo.com/s/article/360043436113',\n",
      "                      'https://domo-support.domo.com/s/article/360042932034',\n",
      "                      'https://domo-support.domo.com/s/article/360058892613',\n",
      "                      'https://domo-support.domo.com/s/article/360044876094',\n",
      "                      'https://domo-support.domo.com/s/article/360058892093',\n",
      "                      'https://domo-support.domo.com/s/article/4407027041431',\n",
      "                      'https://domo-support.domo.com/s/article/360043428933',\n",
      "                      'https://domo-support.domo.com/s/article/360057028134',\n",
      "                      'https://domo-support.domo.com/s/article/360042927334',\n",
      "                      'https://domo-support.domo.com/s/article/360042924974',\n",
      "                      'https://domo-support.domo.com/s/article/000005103',\n",
      "                      'https://domo-support.domo.com/s/article/360052122814',\n",
      "                      'https://domo-support.domo.com/s/article/360043430633',\n",
      "                      'https://domo-support.domo.com/s/article/360043437033',\n",
      "                      'https://domo-support.domo.com/s/article/8231039188375',\n",
      "                      'https://domo-support.domo.com/s/article/360047400753',\n",
      "                      'https://domo-support.domo.com/s/article/4529058568855',\n",
      "                      'https://domo-support.domo.com/s/article/360045485833',\n",
      "                      'https://domo-support.domo.com/s/article/360042932434',\n",
      "                      'https://domo-support.domo.com/s/article/360043437153',\n",
      "                      'https://domo-support.domo.com/s/article/360043429253',\n",
      "                      'https://domo-support.domo.com/s/article/360042924414',\n",
      "                      'https://domo-support.domo.com/s/article/360042931654',\n",
      "                      'https://domo-support.domo.com/s/article/360047416773',\n",
      "                      'https://domo-support.domo.com/s/article/360042931394',\n",
      "                      'https://domo-support.domo.com/s/article/360042924154',\n",
      "                      'https://domo-support.domo.com/s/article/4407023720343',\n",
      "                      'https://domo-support.domo.com/s/article/8283005822103',\n",
      "                      'https://domo-support.domo.com/s/article/360061552054',\n",
      "                      'https://domo-support.domo.com/s/article/360060597953',\n",
      "                      'https://domo-support.domo.com/s/article/360043434393',\n",
      "                      'https://domo-support.domo.com/s/article/360058903753',\n",
      "                      'https://domo-support.domo.com/s/article/360042924594',\n",
      "                      'https://domo-support.domo.com/s/article/360043436173',\n",
      "                      'https://domo-support.domo.com/s/article/360042931554',\n",
      "                      'https://domo-support.domo.com/s/article/360043436993',\n",
      "                      'https://domo-support.domo.com/s/article/360042932374',\n",
      "                      'https://domo-support.domo.com/s/article/360043436833',\n",
      "                      'https://domo-support.domo.com/s/article/360042932274',\n",
      "                      'https://domo-support.domo.com/s/article/360043437053',\n",
      "                      'https://domo-support.domo.com/s/article/4407020836887',\n",
      "                      'https://domo-support.domo.com/s/article/360043429453',\n",
      "                      'https://domo-support.domo.com/s/article/360043436273',\n",
      "                      'https://domo-support.domo.com/s/article/360046860134',\n",
      "                      'https://domo-support.domo.com/s/article/360043440373',\n",
      "                      'https://domo-support.domo.com/s/article/4407164711447',\n",
      "                      'https://domo-support.domo.com/s/article/360045402313',\n",
      "                      'https://domo-support.domo.com/s/article/1500009781442',\n",
      "                      'https://domo-support.domo.com/s/article/360043440633',\n",
      "                      'https://domo-support.domo.com/s/article/4405764653847',\n",
      "                      'https://domo-support.domo.com/s/article/4407650069527',\n",
      "                      'https://domo-support.domo.com/s/article/360043439353',\n",
      "                      'https://domo-support.domo.com/s/article/360043437273',\n",
      "                      'https://domo-support.domo.com/s/article/360047504673',\n",
      "                      'https://domo-support.domo.com/s/article/360043440113',\n",
      "                      'https://domo-support.domo.com/s/article/360042923494',\n",
      "                      'https://domo-support.domo.com/s/article/360043436693',\n",
      "                      'https://domo-support.domo.com/s/article/360044876194',\n",
      "                      'https://domo-support.domo.com/s/article/360057013954',\n",
      "                      'https://domo-support.domo.com/s/article/1500000281502',\n",
      "                      'https://domo-support.domo.com/s/article/360043437013',\n",
      "                      'https://domo-support.domo.com/s/article/1500001012441',\n",
      "                      'https://domo-support.domo.com/s/article/7872485267991',\n",
      "                      'https://domo-support.domo.com/s/article/360043436293',\n",
      "                      'https://domo-support.domo.com/s/article/360042928394',\n",
      "                      'https://domo-support.domo.com/s/article/360042931354',\n",
      "                      'https://domo-support.domo.com/s/article/360042935394',\n",
      "                      'https://domo-support.domo.com/s/article/360042930954',\n",
      "                      'https://domo-support.domo.com/s/article/360042935734',\n",
      "                      'https://domo-support.domo.com/s/article/360043429773',\n",
      "                      'https://domo-support.domo.com/s/article/360043437473',\n",
      "                      'https://domo-support.domo.com/s/article/360043429753',\n",
      "                      'https://domo-support.domo.com/s/article/360043428033',\n",
      "                      'https://domo-support.domo.com/s/article/360047496013',\n",
      "                      'https://domo-support.domo.com/s/article/360043429653',\n",
      "                      'https://domo-support.domo.com/s/article/360042935354',\n",
      "                      'https://domo-support.domo.com/s/article/360058713713',\n",
      "                      'https://domo-support.domo.com/s/article/360042932674',\n",
      "                      'https://domo-support.domo.com/s/article/360042934334',\n",
      "                      'https://domo-support.domo.com/s/article/360043437233',\n",
      "                      'https://domo-support.domo.com/s/article/360042924754',\n",
      "                      'https://domo-support.domo.com/s/article/360058903093',\n",
      "                      'https://domo-support.domo.com/s/article/360057014534',\n",
      "                      'https://domo-support.domo.com/s/article/4407013897367',\n",
      "                      'https://domo-support.domo.com/s/article/360042926014',\n",
      "                      'https://domo-support.domo.com/s/article/8230241776791',\n",
      "                      'https://domo-support.domo.com/s/article/360043437193',\n",
      "                      'https://domo-support.domo.com/s/article/360042924054',\n",
      "                      'https://domo-support.domo.com/s/article/360043440273',\n",
      "                      'https://domo-support.domo.com/s/article/4407012348183',\n",
      "                      'https://domo-support.domo.com/s/article/4404148803479',\n",
      "                      'https://domo-support.domo.com/s/article/1500000162442',\n",
      "                      'https://domo-support.domo.com/s/article/360042924234',\n",
      "                      'https://domo-support.domo.com/s/article/360043429513',\n",
      "                      'https://domo-support.domo.com/s/article/360042932394',\n",
      "                      'https://domo-support.domo.com/s/article/360057014014',\n",
      "                      'https://domo-support.domo.com/s/article/360043440133',\n",
      "                      'https://domo-support.domo.com/s/article/360042931854',\n",
      "                      'https://domo-support.domo.com/s/article/360043436633',\n",
      "                      'https://domo-support.domo.com/s/article/360043430573',\n",
      "                      'https://domo-support.domo.com/s/article/360044876614',\n",
      "                      'https://domo-support.domo.com/s/article/1500010669841',\n",
      "                      'https://domo-support.domo.com/s/article/360042924994',\n",
      "                      'https://domo-support.domo.com/s/article/360043437373',\n",
      "                      'https://domo-support.domo.com/s/article/7160786911639',\n",
      "                      'https://domo-support.domo.com/s/article/360043441633',\n",
      "                      'https://domo-support.domo.com/s/article/7591715386391',\n",
      "                      'https://domo-support.domo.com/s/article/360042931574',\n",
      "                      'https://domo-support.domo.com/s/article/360042924394',\n",
      "                      'https://domo-support.domo.com/s/topic',\n",
      "                      'https://domo-support.domo.com/s/article/4410301215127',\n",
      "                      'https://domo-support.domo.com/s/article/5714345629207',\n",
      "                      'https://domo-support.domo.com/s/article/360042935674',\n",
      "                      'https://domo-support.domo.com/s/article/8657306040855',\n",
      "                      'https://domo-support.domo.com/s/article/360042931254',\n",
      "                      'https://domo-support.domo.com/s/article/360061224493',\n",
      "                      'https://domo-support.domo.com/s/article/360042924894',\n",
      "                      'https://domo-support.domo.com/s/article/4407022993303',\n",
      "                      'https://domo-support.domo.com/s/article/1500011371462',\n",
      "                      'https://domo-support.domo.com/s/article/000005107',\n",
      "                      'https://domo-support.domo.com/s/article/4405652887191',\n",
      "                      'https://domo-support.domo.com/s/article/360043439473',\n",
      "                      'https://domo-support.domo.com/s/article/360052122574',\n",
      "                      'https://domo-support.domo.com/s/article/360043428973',\n",
      "                      'https://domo-support.domo.com/s/article/360043436673',\n",
      "                      'https://domo-support.domo.com/s/article/4926944153367',\n",
      "                      'https://domo-support.domo.com/s/article/360043437973',\n",
      "                      'https://domo-support.domo.com/s/article/360043436393',\n",
      "                      'https://domo-support.domo.com/s/article/360046773094',\n",
      "                      'https://domo-support.domo.com/s/article/360047400113',\n",
      "                      'https://domo-support.domo.com/s/article/360043429433'],\n",
      " 'urls_visited_ls': ['https://domo-support.domo.com/s/article/360043429913',\n",
      "                     'https://domo-support.domo.com/s/topic/0TO5w000000ZamsGAC',\n",
      "                     'https://domo-support.domo.com/s/knowledge-base',\n",
      "                     'https://domo-support.domo.com/s/topic/0TO5w000000ZamwGAC',\n",
      "                     'https://domo-support.domo.com/s/topic/0TO5w000000ZammGAC',\n",
      "                     'https://domo-support.domo.com/s/topic/0TO5w000000ZamzGAC',\n",
      "                     'https://domo-support.domo.com/s/topic/0TO5w000000ZamoGAC',\n",
      "                     'https://domo-support.domo.com/s/topic/0TO5w000000ZamnGAC',\n",
      "                     'https://domo-support.domo.com/s/topic/0TO5w000000ZamlGAC',\n",
      "                     'https://domo-support.domo.com/s/topic/0TO5w000000ZamqGAC',\n",
      "                     'https://domo-support.domo.com/s/topic/0TO5w000000Zan0GAC',\n",
      "                     'https://domo-support.domo.com/s/topic/0TO5w000000Zan2GAC',\n",
      "                     'https://domo-support.domo.com/s/topic/0TO5w000000ZampGAC',\n",
      "                     'https://domo-support.domo.com/s/topic/0TO5w000000Zan1GAC',\n",
      "                     'https://domo-support.domo.com/s/topic/0TO5w000000ZamyGAC',\n",
      "                     'https://domo-support.domo.com/s/topic/0TO5w000000Zan7GAC',\n",
      "                     'https://domo-support.domo.com/s/topic/0TO5w000000ZanNGAS',\n",
      "                     'https://domo-support.domo.com/s/topic/0TO5w000000ZanlGAC',\n",
      "                     'https://domo-support.domo.com/s/topic/0TO5w000000ZanxGAC',\n",
      "                     'https://domo-support.domo.com/s/topic/0TO5w000000ZanCGAS',\n",
      "                     'https://domo-support.domo.com/s/topic/0TO5w000000ZanmGAC',\n",
      "                     'https://domo-support.domo.com/s/topic/0TO5w000000Zao5GAC',\n",
      "                     'https://domo-support.domo.com/s/topic/0TO5w000000ZaoIGAS',\n",
      "                     'https://domo-support.domo.com/s/topic/0TO5w000000ZaoLGAS',\n",
      "                     'https://domo-support.domo.com/s/topic/0TO5w000000ZanBGAS',\n",
      "                     'https://domo-support.domo.com/s/topic/0TO5w000000ZankGAC',\n",
      "                     'https://domo-support.domo.com/s/topic/0TO5w000000ZancGAC',\n",
      "                     'https://domo-support.domo.com/s/topic/0TO5w000000ZanLGAS',\n",
      "                     'https://domo-support.domo.com/s/topic/0TO5w000000Zjd3GAC',\n",
      "                     'https://domo-support.domo.com/s/topic/0TO5w000000ZaoPGAS',\n",
      "                     'https://domo-support.domo.com/s/topic/0TO5w000000ZanzGAC',\n",
      "                     'https://domo-support.domo.com/s/topic/0TO5w000000ZanvGAC',\n",
      "                     'https://domo-support.domo.com/s/topic/0TO5w000000ZanWGAS',\n",
      "                     'https://domo-support.domo.com/s/topic/0TO5w000000Zao9GAC',\n",
      "                     'https://domo-support.domo.com/s/topic/0TO5w000000ZanUGAS',\n",
      "                     'https://domo-support.domo.com/s/topic/0TO5w000000Zao8GAC',\n",
      "                     'https://domo-support.domo.com/s/topic/0TO5w000000ZaniGAC',\n",
      "                     'https://domo-support.domo.com/s/topic/0TO5w000000ZaoJGAS',\n",
      "                     'https://domo-support.domo.com/s/topic/0TO5w000000ZanVGAS',\n",
      "                     'https://domo-support.domo.com/s/topic/0TO5w000000ZanDGAS',\n",
      "                     'https://domo-support.domo.com/s/topic/0TO5w000000ZaoEGAS',\n",
      "                     'https://domo-support.domo.com/s/topic/0TO5w000000ZaoNGAS',\n",
      "                     'https://domo-support.domo.com/s/topic/0TO5w000000ZanwGAC',\n",
      "                     'https://domo-support.domo.com/s/topic/0TO5w000000ZanZGAS',\n",
      "                     'https://domo-support.domo.com/s/topic/0TO5w000000Zao4GAC',\n",
      "                     'https://domo-support.domo.com/s/topic/0TO5w000000ZaoHGAS',\n",
      "                     'https://domo-support.domo.com/s/topic/0TO5w000000ZanAGAS',\n",
      "                     'https://domo-support.domo.com/s/topic/0TO5w000000ZdTCGA0',\n",
      "                     'https://domo-support.domo.com/s/topic/0TO5w000000ZanjGAC',\n",
      "                     'https://domo-support.domo.com/s/topic/0TO5w000000ZansGAC',\n",
      "                     'https://domo-support.domo.com/s/topic/0TO5w000000ZanoGAC',\n",
      "                     'https://domo-support.domo.com/s/topic/0TO5w000000ZanGGAS',\n",
      "                     'https://domo-support.domo.com/s/topic/0TO5w000000ZandGAC',\n",
      "                     'https://domo-support.domo.com/s/topic/0TO5w000000ZannGAC',\n",
      "                     'https://domo-support.domo.com/s/topic/0TO5w000000ZanMGAS',\n",
      "                     'https://domo-support.domo.com/s/topic/0TO5w000000ZaoGGAS',\n",
      "                     'https://domo-support.domo.com/s/topic/0TO5w000000Zan4GAC',\n",
      "                     'https://domo-support.domo.com/s/topic/0TO5w000000Zan5GAC',\n",
      "                     'https://domo-support.domo.com/s/topic/0TO5w000000ZkAMGA0',\n",
      "                     'https://domo-support.domo.com/s/topic/0TO5w000000ZanbGAC',\n",
      "                     'https://domo-support.domo.com/s/topic/0TO5w000000ZaoBGAS',\n",
      "                     'https://domo-support.domo.com/s/topic/0TO5w000000Zao7GAC',\n",
      "                     'https://domo-support.domo.com/s/topic/0TO5w000000Zao6GAC',\n",
      "                     'https://domo-support.domo.com/s/topic/0TO5w000000Zao3GAC',\n",
      "                     'https://domo-support.domo.com/s/topic/0TO5w000000ZkAlGAK',\n",
      "                     'https://domo-support.domo.com/s/topic/0TO5w000000ZanSGAS',\n",
      "                     'https://domo-support.domo.com/s/topic/0TO5w000000ZanRGAS',\n",
      "                     'https://domo-support.domo.com/s/topic/0TO5w000000ZaoFGAS',\n",
      "                     'https://domo-support.domo.com/s/topic/0TO5w000000Zao2GAC',\n",
      "                     'https://domo-support.domo.com/s/topic/0TO5w000000Zan8GAC',\n",
      "                     'https://domo-support.domo.com/s/topic/0TO5w000000ZaoMGAS',\n",
      "                     'https://domo-support.domo.com/s/topic/0TO5w000000Zan9GAC',\n",
      "                     'https://domo-support.domo.com/s/topic/0TO5w000000ZanOGAS',\n",
      "                     'https://domo-support.domo.com/s/topic/0TO5w000000ZanYGAS',\n",
      "                     'https://domo-support.domo.com/s/topic/0TO5w000000ZaoCGAS',\n",
      "                     'https://domo-support.domo.com/s/topic/0TO5w000000Zao1GAC',\n",
      "                     'https://domo-support.domo.com/s/article/360042936254',\n",
      "                     'https://domo-support.domo.com/s/article/360042936274',\n",
      "                     'https://domo-support.domo.com/s/article/360043439853',\n",
      "                     'https://domo-support.domo.com/s/article/360043440793',\n",
      "                     'https://domo-support.domo.com/s/article/360042936294',\n",
      "                     'https://domo-support.domo.com/s/article/360042936234',\n",
      "                     'https://domo-support.domo.com/s/article/360043439713',\n",
      "                     'https://domo-support.domo.com/s/article/360043440653',\n",
      "                     'https://domo-support.domo.com/s/article/360042935234',\n",
      "                     'https://domo-support.domo.com/s/article/360042936134',\n",
      "                     'https://domo-support.domo.com/s/article/360043440673',\n",
      "                     'https://domo-support.domo.com/s/article/360043439593',\n",
      "                     'https://domo-support.domo.com/s/article/360043439913',\n",
      "                     'https://domo-support.domo.com/s/article/360043439873',\n",
      "                     'https://domo-support.domo.com/s/article/360042936174',\n",
      "                     'https://domo-support.domo.com/s/article/360042936194',\n",
      "                     'https://domo-support.domo.com/s/article/360043440693',\n",
      "                     'https://domo-support.domo.com/s/article/360055244114',\n",
      "                     'https://domo-support.domo.com/s/article/4409045382935',\n",
      "                     'https://domo-support.domo.com/s/article/9645646505111',\n",
      "                     'https://domo-support.domo.com/s/article/360043439553',\n",
      "                     'https://domo-support.domo.com/s/article/360042934774',\n",
      "                     'https://domo-support.domo.com/s/article/360042935014',\n",
      "                     'https://domo-support.domo.com/s/article/360043439573',\n",
      "                     'https://domo-support.domo.com/s/article/360042935214',\n",
      "                     'https://domo-support.domo.com/s/article/360043439893',\n",
      "                     'https://domo-support.domo.com/s/article/360050912013',\n",
      "                     'https://domo-support.domo.com/s/article/4403173731863',\n",
      "                     'https://domo-support.domo.com/s/article/7579340458903',\n",
      "                     'https://domo-support.domo.com/s/article/360042934794',\n",
      "                     'https://domo-support.domo.com/s/article/360042934814',\n",
      "                     'https://domo-support.domo.com/s/article/360042935034',\n",
      "                     'https://domo-support.domo.com/s/article/360048116074',\n",
      "                     'https://domo-support.domo.com/s/article/360042936214',\n",
      "                     'https://domo-support.domo.com/s/article/360043439693',\n",
      "                     'https://domo-support.domo.com/s/article/360048116854',\n",
      "                     'https://domo-support.domo.com/s/article/360043439613',\n",
      "                     'https://domo-support.domo.com/s/article/360043440713',\n",
      "                     'https://domo-support.domo.com/s/article/360042934974',\n",
      "                     'https://domo-support.domo.com/s/article/360042934834',\n",
      "                     'https://domo-support.domo.com/s/article/360061873754',\n",
      "                     'https://domo-support.domo.com/s/article/4425111066903',\n",
      "                     'https://domo-support.domo.com/s/article/000005174',\n",
      "                     'https://domo-support.domo.com/s/article/360042934934',\n",
      "                     'https://domo-support.domo.com/s/article/360043440733',\n",
      "                     'https://domo-support.domo.com/s/article/360042934994',\n",
      "                     'https://domo-support.domo.com/s/article/Current-Release-Notes',\n",
      "                     'https://domo-support.domo.com/s/article/360042922634',\n",
      "                     'https://domo-support.domo.com/s/article/360043442453',\n",
      "                     'https://domo-support.domo.com/s/article/360061981173',\n",
      "                     'https://domo-support.domo.com/s/article/360042922834',\n",
      "                     'https://domo-support.domo.com/s/article/360043427433',\n",
      "                     'https://domo-support.domo.com/s/article/360042922754',\n",
      "                     'https://domo-support.domo.com/s/article/360043427413',\n",
      "                     'https://domo-support.domo.com/s/article/360043877854',\n",
      "                     'https://domo-support.domo.com/s/article/4409542407063',\n",
      "                     'https://domo-support.domo.com/s/article/360043427393',\n",
      "                     'https://domo-support.domo.com/s/article/4409575159191',\n",
      "                     'https://domo-support.domo.com/s/article/360042922774',\n",
      "                     'https://domo-support.domo.com/s/article/1500003263261',\n",
      "                     'https://domo-support.domo.com/s/article/360043427193',\n",
      "                     'https://domo-support.domo.com/s/article/360043426953',\n",
      "                     'https://domo-support.domo.com/s/article/360042922734',\n",
      "                     'https://domo-support.domo.com/s/article/360043430373',\n",
      "                     'https://domo-support.domo.com/s/article/360043430553',\n",
      "                     'https://domo-support.domo.com/s/article/360042925814',\n",
      "                     'https://domo-support.domo.com/s/article/360042925994',\n",
      "                     'https://domo-support.domo.com/s/article/360043430513',\n",
      "                     'https://domo-support.domo.com/s/article/360043430533',\n",
      "                     'https://domo-support.domo.com/s/article/360042925954',\n",
      "                     'https://domo-support.domo.com/s/article/360042925974',\n",
      "                     'https://domo-support.domo.com/s/article/360043430273',\n",
      "                     'https://domo-support.domo.com/s/article/360043429973',\n",
      "                     'https://domo-support.domo.com/s/article/360042925714',\n",
      "                     'https://domo-support.domo.com/s/article/360042925574',\n",
      "                     'https://domo-support.domo.com/s/article/360042925734',\n",
      "                     'https://domo-support.domo.com/s/article/360043430293',\n",
      "                     'https://domo-support.domo.com/s/article/360043430313',\n",
      "                     'https://domo-support.domo.com/s/article/360042925754',\n",
      "                     'https://domo-support.domo.com/s/article/360042925774',\n",
      "                     'https://domo-support.domo.com/s/article/360042925794',\n",
      "                     'https://domo-support.domo.com/s/article/4577793742615',\n",
      "                     'https://domo-support.domo.com/s/article/4577172785559',\n",
      "                     'https://domo-support.domo.com/s/article/4406041297943',\n",
      "                     'https://domo-support.domo.com/s/article/4578049721495',\n",
      "                     'https://domo-support.domo.com/s/article/4578278680855',\n",
      "                     'https://domo-support.domo.com/s/article/4663374299031',\n",
      "                     'https://domo-support.domo.com/s/article/360042925854',\n",
      "                     'https://domo-support.domo.com/s/article/360042925934',\n",
      "                     'https://domo-support.domo.com/s/article/360043430333',\n",
      "                     'https://domo-support.domo.com/s/article/360042925874',\n",
      "                     'https://domo-support.domo.com/s/article/360042925834',\n",
      "                     'https://domo-support.domo.com/s/article/360042925894',\n",
      "                     'https://domo-support.domo.com/s/article/360043430473',\n",
      "                     'https://domo-support.domo.com/s/article/360042925914',\n",
      "                     'https://domo-support.domo.com/s/article/360043430493',\n",
      "                     'https://domo-support.domo.com/s/article/360043430353',\n",
      "                     'https://domo-support.domo.com/s/article/360043427513',\n",
      "                     'https://domo-support.domo.com/s/article/360043427533',\n",
      "                     'https://domo-support.domo.com/s/article/360043427553',\n",
      "                     'https://domo-support.domo.com/s/article/360043427493',\n",
      "                     'https://domo-support.domo.com/s/article/360042922894',\n",
      "                     'https://domo-support.domo.com/s/article/360042922874',\n",
      "                     'https://domo-support.domo.com/s/article/360043427453',\n",
      "                     'https://domo-support.domo.com/s/article/360042922914',\n",
      "                     'https://domo-support.domo.com/s/article/360042922794',\n",
      "                     'https://domo-support.domo.com/s/article/360043427473',\n",
      "                     'https://domo-support.domo.com/s/article/360043427573',\n",
      "                     'https://domo-support.domo.com/s/article/360043439393',\n",
      "                     'https://domo-support.domo.com/s/article/360043439433',\n",
      "                     'https://domo-support.domo.com/s/article/360042934694',\n",
      "                     'https://domo-support.domo.com/s/article/360042934734',\n",
      "                     'https://domo-support.domo.com/s/article/360043439733',\n",
      "                     'https://domo-support.domo.com/s/article/360042934714',\n",
      "                     'https://domo-support.domo.com/s/article/360042934674',\n",
      "                     'https://domo-support.domo.com/s/article/360043439413',\n",
      "                     'https://domo-support.domo.com/s/article/360043439533',\n",
      "                     'https://domo-support.domo.com/s/article/360042934914',\n",
      "                     'https://domo-support.domo.com/s/article/360042934754',\n",
      "                     'https://domo-support.domo.com/s/article/360042934874',\n",
      "                     'https://domo-support.domo.com/s/article/360043439513',\n",
      "                     'https://domo-support.domo.com/s/article/360042935054',\n",
      "                     'https://domo-support.domo.com/s/article/360043439653',\n",
      "                     'https://domo-support.domo.com/s/article/360042934894',\n",
      "                     'https://domo-support.domo.com/s/article/360043439673',\n",
      "                     'https://domo-support.domo.com/s/article/360043439493',\n",
      "                     'https://domo-support.domo.com/s/article/360043439453',\n",
      "                     'https://domo-support.domo.com/s/article/360042935094',\n",
      "                     'https://domo-support.domo.com/s/article/360043439753',\n",
      "                     'https://domo-support.domo.com/s/article/360042935114',\n",
      "                     'https://domo-support.domo.com/s/article/360042935074',\n",
      "                     'https://domo-support.domo.com/s/article/360043427613',\n",
      "                     'https://domo-support.domo.com/s/article/360042923554',\n",
      "                     'https://domo-support.domo.com/s/article/360043428213',\n",
      "                     'https://domo-support.domo.com/s/article/360043428233',\n",
      "                     'https://domo-support.domo.com/s/article/1500010172542',\n",
      "                     'https://domo-support.domo.com/s/article/1500007028582',\n",
      "                     'https://domo-support.domo.com/s/article/360044406813',\n",
      "                     'https://domo-support.domo.com/s/topic/0TO5w000000ZaoQGAS',\n",
      "                     'https://domo-support.domo.com/s/topic/0TO5w000000ZapAGAS',\n",
      "                     'https://domo-support.domo.com/s/topic/0TO5w000000ZaoVGAS',\n",
      "                     'https://domo-support.domo.com/s/topic/0TO5w000000ZaojGAC',\n",
      "                     'https://domo-support.domo.com/s/topic/0TO5w000000ZaoyGAC',\n",
      "                     'https://domo-support.domo.com/s/topic/0TO5w000000ZapVGAS',\n",
      "                     'https://domo-support.domo.com/s/topic/0TO5w000000ZaowGAC',\n",
      "                     'https://domo-support.domo.com/s/article/4412849158167',\n",
      "                     'https://domo-support.domo.com/s/article/000005139',\n",
      "                     'https://domo-support.domo.com/s/article/4402322966807',\n",
      "                     'https://domo-support.domo.com/s/topic/0TO5w000000ZapTGAS',\n",
      "                     'https://domo-support.domo.com/s/topic/0TO5w000000ZapSGAS',\n",
      "                     'https://domo-support.domo.com/s/topic/0TO5w000000ZapUGAS',\n",
      "                     'https://domo-support.domo.com/s/topic/0TO5w000000ZdT7GAK',\n",
      "                     'https://domo-support.domo.com/s/article/360048000154',\n",
      "                     'https://domo-support.domo.com/s/article/360048925554',\n",
      "                     'https://domo-support.domo.com/s/article/360043437733',\n",
      "                     'https://domo-support.domo.com/s/article/360042932934',\n",
      "                     'https://domo-support.domo.com/s/article/360042932874',\n",
      "                     'https://domo-support.domo.com/s/article/360043437513',\n",
      "                     'https://domo-support.domo.com/s/article/360042932914',\n",
      "                     'https://domo-support.domo.com/s/article/360043437633',\n",
      "                     'https://domo-support.domo.com/s/article/360043437653',\n",
      "                     'https://domo-support.domo.com/s/article/360043437673',\n",
      "                     'https://domo-support.domo.com/s/article/360043437753',\n",
      "                     'https://domo-support.domo.com/s/article/1500003408882',\n",
      "                     'https://domo-support.domo.com/s/article/360043931734',\n",
      "                     'https://domo-support.domo.com/s/article/360043437693',\n",
      "                     'https://domo-support.domo.com/s/article/360048717414',\n",
      "                     'https://domo-support.domo.com/s/article/360042950534',\n",
      "                     'https://domo-support.domo.com/s/article/360043437713',\n",
      "                     'https://domo-support.domo.com/s/article/7440921035671',\n",
      "                     'https://domo-support.domo.com/s/article/36004740075',\n",
      "                     'https://domo-support.domo.com/s/article/360043437533',\n",
      "                     'https://domo-support.domo.com/s/article/360056727214',\n",
      "                     'https://domo-support.domo.com/s/article/360043440753',\n",
      "                     'https://domo-support.domo.com/s/article/360044353933',\n",
      "                     'https://domo-support.domo.com/s/article/360048847833',\n",
      "                     'https://domo-support.domo.com/s/article/000005166',\n",
      "                     'https://domo-support.domo.com/s/article/360042932974',\n",
      "                     'https://domo-support.domo.com/s/article/360042932954',\n",
      "                     'https://domo-support.domo.com/s/topic/0TO5w000000ZdTHGA0',\n",
      "                     'https://domo-support.domo.com/s/article/360047787514',\n",
      "                     'https://domo-support.domo.com/s/article/360055259234',\n",
      "                     'https://domo-support.domo.com/s/article/360057087393',\n",
      "                     'https://domo-support.domo.com/s/article/360043427653',\n",
      "                     'https://domo-support.domo.com/s/article/360045163773',\n",
      "                     'https://domo-support.domo.com/s/article/360051062653',\n",
      "                     'https://domo-support.domo.com/s/article/360043427693',\n",
      "                     'https://domo-support.domo.com/s/article/4662034775319',\n",
      "                     'https://domo-support.domo.com/s/article/4662355030423',\n",
      "                     'https://domo-support.domo.com/s/article/360043427673',\n",
      "                     'https://domo-support.domo.com/s/article/000005150',\n",
      "                     'https://domo-support.domo.com/s/article/360044289573',\n",
      "                     'https://domo-support.domo.com/s/article/4662511363351',\n",
      "                     'https://domo-support.domo.com/s/article/4408794063639',\n",
      "                     'https://domo-support.domo.com/s/article/360044296573',\n",
      "                     'https://domo-support.domo.com/s/article/360044258533',\n",
      "                     'https://domo-support.domo.com/s/article/4402058407191',\n",
      "                     'https://domo-support.domo.com/s/article/360046074774',\n",
      "                     'https://domo-support.domo.com/s/article/4410213098903',\n",
      "                     'https://domo-support.domo.com/s/article/360042922994',\n",
      "                     'https://domo-support.domo.com/s/article/360063698733',\n",
      "                     'https://domo-support.domo.com/s/article/360042922954',\n",
      "                     'https://domo-support.domo.com/s/article/360043427793',\n",
      "                     'https://domo-support.domo.com/s/article/360042923014',\n",
      "                     'https://domo-support.domo.com/s/article/360042922974',\n",
      "                     'https://domo-support.domo.com/s/article/360042923174',\n",
      "                     'https://domo-support.domo.com/s/article/360042923154',\n",
      "                     'https://domo-support.domo.com/s/article/360042923134',\n",
      "                     'https://domo-support.domo.com/s/article/4404652354583',\n",
      "                     'https://domo-support.domo.com/s/article/360043427833',\n",
      "                     'https://domo-support.domo.com/s/article/360042923034',\n",
      "                     'https://domo-support.domo.com/s/article/360043427873',\n",
      "                     'https://domo-support.domo.com/s/article/360043427893',\n",
      "                     'https://domo-support.domo.com/s/article/360042923194',\n",
      "                     'https://domo-support.domo.com/s/article/360043427913',\n",
      "                     'https://domo-support.domo.com/s/article/360042923054',\n",
      "                     'https://domo-support.domo.com/s/article/360042923074',\n",
      "                     'https://domo-support.domo.com/s/article/360042923734',\n",
      "                     'https://domo-support.domo.com/s/article/360042936554',\n",
      "                     'https://domo-support.domo.com/s/article/360042923754',\n",
      "                     'https://domo-support.domo.com/s/article/360043427933',\n",
      "                     'https://domo-support.domo.com/s/article/360042923214',\n",
      "                     'https://domo-support.domo.com/s/article/360042923374',\n",
      "                     'https://domo-support.domo.com/s/article/360043428073',\n",
      "                     'https://domo-support.domo.com/s/article/360042923394',\n",
      "                     'https://domo-support.domo.com/s/article/360043428093',\n",
      "                     'https://domo-support.domo.com/s/article/360042923414',\n",
      "                     'https://domo-support.domo.com/s/article/360043428113',\n",
      "                     'https://domo-support.domo.com/s/article/360043428133',\n",
      "                     'https://domo-support.domo.com/s/article/360042923094',\n",
      "                     'https://domo-support.domo.com/s/article/360042923114',\n",
      "                     'https://domo-support.domo.com/s/article/360042923234',\n",
      "                     'https://domo-support.domo.com/s/article/360043427953',\n",
      "                     'https://domo-support.domo.com/s/article/360043428153',\n",
      "                     'https://domo-support.domo.com/s/article/360043428173',\n",
      "                     'https://domo-support.domo.com/s/article/360042923454',\n",
      "                     'https://domo-support.domo.com/s/article/4405318926231',\n",
      "                     'https://domo-support.domo.com/s/article/360042923474',\n",
      "                     'https://domo-support.domo.com/s/article/360042923514',\n",
      "                     'https://domo-support.domo.com/s/article/360042923534',\n",
      "                     'https://domo-support.domo.com/s/article/360042923634',\n",
      "                     'https://domo-support.domo.com/s/article/360042923714',\n",
      "                     'https://domo-support.domo.com/s/article/360043428293',\n",
      "                     'https://domo-support.domo.com/s/article/360043428333',\n",
      "                     'https://domo-support.domo.com/s/article/360043428313',\n",
      "                     'https://domo-support.domo.com/s/article/360043428393',\n",
      "                     'https://domo-support.domo.com/s/article/4403489663127',\n",
      "                     'https://domo-support.domo.com/s/article/360042923794',\n",
      "                     'https://domo-support.domo.com/s/article/360042923594',\n",
      "                     'https://domo-support.domo.com/s/article/360042923314',\n",
      "                     'https://domo-support.domo.com/s/article/360043428433',\n",
      "                     'https://domo-support.domo.com/s/article/360043428593',\n",
      "                     'https://domo-support.domo.com/s/article/4530782510871',\n",
      "                     'https://domo-support.domo.com/s/article/360042923274',\n",
      "                     'https://domo-support.domo.com/s/article/360043428273',\n",
      "                     'https://domo-support.domo.com/s/article/360042923774',\n",
      "                     'https://domo-support.domo.com/s/article/360042923814',\n",
      "                     'https://domo-support.domo.com/s/article/360043428253',\n",
      "                     'https://domo-support.domo.com/s/article/360042923254',\n",
      "                     'https://domo-support.domo.com/s/article/360042923614',\n",
      "                     'https://domo-support.domo.com/s/article/360042923294',\n",
      "                     'https://domo-support.domo.com/s/article/360043428613',\n",
      "                     'https://domo-support.domo.com/s/article/4529227357975',\n",
      "                     'https://domo-support.domo.com/s/article/360042932994',\n",
      "                     'https://domo-support.domo.com/s/article/360042933074',\n",
      "                     'https://domo-support.domo.com/s/topic/0TO5w000000ZapOGAS',\n",
      "                     'https://domo-support.domo.com/s/topic/0TO5w000000ZapBGAS',\n",
      "                     'https://domo-support.domo.com/s/topic/0TO5w000000ZaoeGAC',\n",
      "                     'https://domo-support.domo.com/s/topic/0TO5w000000ZaoUGAS',\n",
      "                     'https://domo-support.domo.com/s/topic/0TO5w000000ZaodGAC',\n",
      "                     'https://domo-support.domo.com/s/article/360043430233',\n",
      "                     'https://domo-support.domo.com/s/article/360042925654',\n",
      "                     'https://domo-support.domo.com/s/article/360042925594',\n",
      "                     'https://domo-support.domo.com/s/article/360043430193',\n",
      "                     'https://domo-support.domo.com/s/article/360042925634',\n",
      "                     'https://domo-support.domo.com/s/article/360043430213',\n",
      "                     'https://domo-support.domo.com/s/article/360042925614',\n",
      "                     'https://domo-support.domo.com/s/article/360042925694',\n",
      "                     'https://domo-support.domo.com/s/article/360042925674',\n",
      "                     'https://domo-support.domo.com/s/article/360043430253',\n",
      "                     'https://domo-support.domo.com/s/article/360046752694',\n",
      "                     'https://domo-support.domo.com/s/article/360043430033',\n",
      "                     'https://domo-support.domo.com/s/article/360043430053',\n",
      "                     'https://domo-support.domo.com/s/article/4408174643607',\n",
      "                     'https://domo-support.domo.com/s/article/360043429933',\n",
      "                     'https://domo-support.domo.com/s/article/360042925474',\n",
      "                     'https://domo-support.domo.com/s/article/360042925434',\n",
      "                     'https://domo-support.domo.com/s/article/360043429953',\n",
      "                     'https://domo-support.domo.com/s/article/360043429993',\n",
      "                     'https://domo-support.domo.com/s/article/360043430073',\n",
      "                     'https://domo-support.domo.com/s/article/360043430093',\n",
      "                     'https://domo-support.domo.com/s/article/360042925494',\n",
      "                     'https://domo-support.domo.com/s/article/360042925514',\n",
      "                     'https://domo-support.domo.com/s/article/360043430113',\n",
      "                     'https://domo-support.domo.com/s/article/360043430133',\n",
      "                     'https://domo-support.domo.com/s/article/360043430153',\n",
      "                     'https://domo-support.domo.com/s/article/7903767835031',\n",
      "                     'https://domo-support.domo.com/s/article/360043437873',\n",
      "                     'https://domo-support.domo.com/s/article/360043437893',\n",
      "                     'https://domo-support.domo.com/s/article/360043437833',\n",
      "                     'https://domo-support.domo.com/s/article/360043437813',\n",
      "                     'https://domo-support.domo.com/s/article/360042933054',\n",
      "                     'https://domo-support.domo.com/s/article/360043428373',\n",
      "                     'https://domo-support.domo.com/s/article/360043428413',\n",
      "                     'https://domo-support.domo.com/s/article/360042923914',\n",
      "                     'https://domo-support.domo.com/s/article/360042923934',\n",
      "                     'https://domo-support.domo.com/s/article/360042923834',\n",
      "                     'https://domo-support.domo.com/s/article/360043428573',\n",
      "                     'https://domo-support.domo.com/s/article/360043428553',\n",
      "                     'https://domo-support.domo.com/s/article/9355841270167',\n",
      "                     'https://domo-support.domo.com/s/article/360043438153',\n",
      "                     'https://domo-support.domo.com/s/article/360043439013',\n",
      "                     'https://domo-support.domo.com/s/article/360043438033',\n",
      "                     'https://domo-support.domo.com/s/article/360043438053',\n",
      "                     'https://domo-support.domo.com/s/article/360043438133',\n",
      "                     'https://domo-support.domo.com/s/article/360043439033',\n",
      "                     'https://domo-support.domo.com/s/article/360043438193',\n",
      "                     'https://domo-support.domo.com/s/article/360043438213',\n",
      "                     'https://domo-support.domo.com/s/article/360042934374',\n",
      "                     'https://domo-support.domo.com/s/article/360043430613',\n",
      "                     'https://domo-support.domo.com/s/article/360042934454',\n",
      "                     'https://domo-support.domo.com/s/article/360042934514',\n",
      "                     'https://domo-support.domo.com/s/article/360043427593',\n",
      "                     'https://domo-support.domo.com/s/article/360042934494',\n",
      "                     'https://domo-support.domo.com/s/article/360042934474',\n",
      "                     'https://domo-support.domo.com/s/article/360042934534',\n",
      "                     'https://domo-support.domo.com/s/article/360043439813',\n",
      "                     'https://domo-support.domo.com/s/article/360043439193',\n",
      "                     'https://domo-support.domo.com/s/article/360043439213',\n",
      "                     'https://domo-support.domo.com/s/article/360042934554',\n",
      "                     'https://domo-support.domo.com/s/article/360043439173',\n",
      "                     'https://domo-support.domo.com/s/article/000005147',\n",
      "                     'https://domo-support.domo.com/s/article/000005164',\n",
      "                     'https://domo-support.domo.com/s/article/5299662679447',\n",
      "                     'https://domo-support.domo.com/s/article/4403367344023',\n",
      "                     'https://domo-support.domo.com/s/article/000005059',\n",
      "                     'https://domo-support.domo.com/s/article/360042934594',\n",
      "                     'https://domo-support.domo.com/s/article/360043439293',\n",
      "                     'https://domo-support.domo.com/s/article/360043439273',\n",
      "                     'https://domo-support.domo.com/s/article/360043439313',\n",
      "                     'https://domo-support.domo.com/s/article/4415792998935',\n",
      "                     'https://domo-support.domo.com/s/article/4415826269335',\n",
      "                     'https://domo-support.domo.com/s/article/4415839139863',\n",
      "                     'https://domo-support.domo.com/s/article/000005105',\n",
      "                     'https://domo-support.domo.com/s/article/4415839663639',\n",
      "                     'https://domo-support.domo.com/s/article/8275510785559',\n",
      "                     'https://domo-support.domo.com/s/article/4415800746391',\n",
      "                     'https://domo-support.domo.com/s/article/6814561223959',\n",
      "                     'https://domo-support.domo.com/s/article/9301034807575',\n",
      "                     'https://domo-support.domo.com/s/article/6305057013527',\n",
      "                     'https://domo-support.domo.com/s/article/360049429094',\n",
      "                     'https://domo-support.domo.com/s/article/360042934574',\n",
      "                     'https://domo-support.domo.com/s/topic/0TO5w000000ZapEGAS',\n",
      "                     'https://domo-support.domo.com/s/topic/0TO5w000000ZapJGAS',\n",
      "                     'https://domo-support.domo.com/s/article/360042934414',\n",
      "                     'https://domo-support.domo.com/s/article/000005149',\n",
      "                     'https://domo-support.domo.com/s/article/360043439133',\n",
      "                     'https://domo-support.domo.com/s/article/360042934434',\n",
      "                     'https://domo-support.domo.com/s/article/360042934394',\n",
      "                     'https://domo-support.domo.com/s/article/360043439093',\n",
      "                     'https://domo-support.domo.com/s/article/360043439153',\n",
      "                     'https://domo-support.domo.com/s/article/360043439113',\n",
      "                     'https://domo-support.domo.com/s/article/360043439053',\n",
      "                     'https://domo-support.domo.com/s/article/360043439073',\n",
      "                     'https://domo-support.domo.com/s/article/360042934234',\n",
      "                     'https://domo-support.domo.com/s/article/000005148',\n",
      "                     'https://domo-support.domo.com/s/article/5428851518999',\n",
      "                     'https://domo-support.domo.com/s/article/360042926034',\n",
      "                     'https://domo-support.domo.com/s/article/360043430593',\n",
      "                     'https://domo-support.domo.com/s/article/000005173',\n",
      "                     'https://domo-support.domo.com/s/article/000005171',\n",
      "                     'https://domo-support.domo.com/s/article/000005172',\n",
      "                     'https://domo-support.domo.com/s/article/000005108',\n",
      "                     'https://domo-support.domo.com/s/article/000005179',\n",
      "                     'https://domo-support.domo.com/s/article/4403486465687',\n",
      "                     'https://domo-support.domo.com/s/article/6523741250455',\n",
      "                     'https://domo-support.domo.com/s/article/4492108625687',\n",
      "                     'https://domo-support.domo.com/s/article/4418999855639',\n",
      "                     'https://domo-support.domo.com/s/article/4404717504023',\n",
      "                     'https://domo-support.domo.com/s/article/4403508913943',\n",
      "                     'https://domo-support.domo.com/s/article/360045120554',\n",
      "                     'https://domo-support.domo.com/s/article/4434678124695',\n",
      "                     'https://domo-support.domo.com/s/article/360043437993',\n",
      "                     'https://domo-support.domo.com/s/article/7797499784343',\n",
      "                     'https://domo-support.domo.com/s/article/360042933114',\n",
      "                     'https://domo-support.domo.com/s/article/360042933134',\n",
      "                     'https://domo-support.domo.com/s/article/360043437773',\n",
      "                     'https://domo-support.domo.com/s/article/360042933014',\n",
      "                     'https://domo-support.domo.com/s/article/360043437793',\n",
      "                     'https://domo-support.domo.com/s/article/360043441593',\n",
      "                     'https://domo-support.domo.com/s/article/360043438993',\n",
      "                     'https://domo-support.domo.com/s/article/360043437913',\n",
      "                     'https://domo-support.domo.com/s/article/360043437933',\n",
      "                     'https://domo-support.domo.com/s/article/360043437953',\n",
      "                     'https://domo-support.domo.com/s/article/360042933094',\n",
      "                     'https://domo-support.domo.com/s/article/000005143',\n",
      "                     'https://domo-support.domo.com/s/article/000005145',\n",
      "                     'https://domo-support.domo.com/s/article/000005146',\n",
      "                     'https://domo-support.domo.com/s/article/000005128',\n",
      "                     'https://domo-support.domo.com/s/article/360043428693',\n",
      "                     'https://domo-support.domo.com/s/article/360042923674',\n",
      "                     'https://domo-support.domo.com/s/article/4403501587607',\n",
      "                     'https://domo-support.domo.com/s/article/360042926154',\n",
      "                     'https://domo-support.domo.com/s/article/360042926074',\n",
      "                     'https://domo-support.domo.com/s/article/360043430653',\n",
      "                     'https://domo-support.domo.com/s/article/360047553253',\n",
      "                     'https://domo-support.domo.com/s/article/360043430733',\n",
      "                     'https://domo-support.domo.com/s/article/360042926194',\n",
      "                     'https://domo-support.domo.com/s/article/360042926214',\n",
      "                     'https://domo-support.domo.com/s/article/360042926134',\n",
      "                     'https://domo-support.domo.com/s/article/4403537355543',\n",
      "                     'https://domo-support.domo.com/s/article/360042926054',\n",
      "                     'https://domo-support.domo.com/s/article/4434784751767',\n",
      "                     'https://domo-support.domo.com/s/article/360042926114',\n",
      "                     'https://domo-support.domo.com/s/article/360051558694',\n",
      "                     'https://domo-support.domo.com/s/article/360043430413',\n",
      "                     'https://domo-support.domo.com/s/article/360042926234',\n",
      "                     'https://domo-support.domo.com/s/article/360043430713',\n",
      "                     'https://domo-support.domo.com/s/article/360042934614',\n",
      "                     'https://domo-support.domo.com/s/article/360042934634',\n",
      "                     'https://domo-support.domo.com/s/article/360043439333',\n",
      "                     'https://domo-support.domo.com/s/article/000005116',\n",
      "                     'https://domo-support.domo.com/s/article/360042934654',\n",
      "                     'https://domo-support.domo.com/s/article/360043439373',\n",
      "                     'https://domo-support.domo.com/s/article/360048127854',\n",
      "                     'https://domo-support.domo.com/s/article/1500000286041',\n",
      "                     'https://domo-support.domo.com/s/article/360060598333',\n",
      "                     'https://domo-support.domo.com/s/article/360060598413',\n",
      "                     'https://domo-support.domo.com/s/article/360043438013',\n",
      "                     'https://domo-support.domo.com/s/article/9221297758615',\n",
      "                     'https://domo-support.domo.com/s/article/360042933174',\n",
      "                     'https://domo-support.domo.com/s/article/4403442101143',\n",
      "                     'https://domo-support.domo.com/s/article/000005182',\n",
      "                     'https://domo-support.domo.com/s/article/4423762260375',\n",
      "                     'https://domo-support.domo.com/s/article/360042933214',\n",
      "                     'https://domo-support.domo.com/s/article/360052583893',\n",
      "                     'https://domo-support.domo.com/s/article/000005080',\n",
      "                     'https://domo-support.domo.com/s/article/360042933294',\n",
      "                     'https://domo-support.domo.com/s/article/360042933314',\n",
      "                     'https://domo-support.domo.com/s/article/360043438093',\n",
      "                     'https://domo-support.domo.com/s/article/360043438113',\n",
      "                     'https://domo-support.domo.com/s/article/000005091',\n",
      "                     'https://domo-support.domo.com/s/article/360043438233',\n",
      "                     'https://domo-support.domo.com/s/article/360043438253',\n",
      "                     'https://domo-support.domo.com/s/article/360042933334',\n",
      "                     'https://domo-support.domo.com/s/article/360043438273',\n",
      "                     'https://domo-support.domo.com/s/article/360042933354',\n",
      "                     'https://domo-support.domo.com/s/article/360042933374',\n",
      "                     'https://domo-support.domo.com/s/article/360043438293',\n",
      "                     'https://domo-support.domo.com/s/article/360043438313',\n",
      "                     'https://domo-support.domo.com/s/article/360043441853',\n",
      "                     'https://domo-support.domo.com/s/article/360042933494',\n",
      "                     'https://domo-support.domo.com/s/article/360042933394',\n",
      "                     'https://domo-support.domo.com/s/article/360042933414',\n",
      "                     'https://domo-support.domo.com/s/article/360058529493',\n",
      "                     'https://domo-support.domo.com/s/article/360042933434',\n",
      "                     'https://domo-support.domo.com/s/article/360055259374',\n",
      "                     'https://domo-support.domo.com/s/article/360043881074',\n",
      "                     'https://domo-support.domo.com/s/article/360058529233',\n",
      "                     'https://domo-support.domo.com/s/article/360042933454',\n",
      "                     'https://domo-support.domo.com/s/article/360042933474',\n",
      "                     'https://domo-support.domo.com/s/article/360044363633',\n",
      "                     'https://domo-support.domo.com/s/article/1500003993182',\n",
      "                     'https://domo-support.domo.com/s/article/360044363813',\n",
      "                     'https://domo-support.domo.com/s/article/360042933534',\n",
      "                     'https://domo-support.domo.com/s/article/360042933554',\n",
      "                     'https://domo-support.domo.com/s/article/360056655374',\n",
      "                     'https://domo-support.domo.com/s/article/360043438333',\n",
      "                     'https://domo-support.domo.com/s/article/360042933574',\n",
      "                     'https://domo-support.domo.com/s/article/360043884674',\n",
      "                     'https://domo-support.domo.com/s/article/360043438353',\n",
      "                     'https://domo-support.domo.com/s/article/000005073',\n",
      "                     'https://domo-support.domo.com/s/article/000005048',\n",
      "                     'https://domo-support.domo.com/s/article/360042933594',\n",
      "                     'https://domo-support.domo.com/s/article/360043438373',\n",
      "                     'https://domo-support.domo.com/s/article/360042933614',\n",
      "                     'https://domo-support.domo.com/s/article/360043438393',\n",
      "                     'https://domo-support.domo.com/s/article/360058889834',\n",
      "                     'https://domo-support.domo.com/s/article/000005121',\n",
      "                     'https://domo-support.domo.com/s/article/360056653654',\n",
      "                     'https://domo-support.domo.com/s/article/360042933634',\n",
      "                     'https://domo-support.domo.com/s/article/360042933674',\n",
      "                     'https://domo-support.domo.com/s/article/360042933654',\n",
      "                     'https://domo-support.domo.com/s/article/360042933694',\n",
      "                     'https://domo-support.domo.com/s/article/360042933714',\n",
      "                     'https://domo-support.domo.com/s/article/360043884834',\n",
      "                     'https://domo-support.domo.com/s/article/360043438413',\n",
      "                     'https://domo-support.domo.com/s/article/360058792094',\n",
      "                     'https://domo-support.domo.com/s/article/360042933734',\n",
      "                     'https://domo-support.domo.com/s/article/1500000406641',\n",
      "                     'https://domo-support.domo.com/s/article/360042933754',\n",
      "                     'https://domo-support.domo.com/s/article/360042933774',\n",
      "                     'https://domo-support.domo.com/s/article/360042933794',\n",
      "                     'https://domo-support.domo.com/s/article/360042933814',\n",
      "                     'https://domo-support.domo.com/s/article/360043438433',\n",
      "                     'https://domo-support.domo.com/s/article/360042933834',\n",
      "                     'https://domo-support.domo.com/s/article/360058529933',\n",
      "                     'https://domo-support.domo.com/s/article/360042933854',\n",
      "                     'https://domo-support.domo.com/s/article/360042933874',\n",
      "                     'https://domo-support.domo.com/s/article/360044364413',\n",
      "                     'https://domo-support.domo.com/s/article/360044365013',\n",
      "                     'https://domo-support.domo.com/s/article/360042933894',\n",
      "                     'https://domo-support.domo.com/s/article/360043438453',\n",
      "                     'https://domo-support.domo.com/s/article/360042933954',\n",
      "                     'https://domo-support.domo.com/s/article/360042933974',\n",
      "                     'https://domo-support.domo.com/s/article/360044365473',\n",
      "                     'https://domo-support.domo.com/s/article/360043438513',\n",
      "                     'https://domo-support.domo.com/s/article/4409199658263',\n",
      "                     'https://domo-support.domo.com/s/article/360043438533',\n",
      "                     'https://domo-support.domo.com/s/article/360043438553',\n",
      "                     'https://domo-support.domo.com/s/article/360044365593',\n",
      "                     'https://domo-support.domo.com/s/article/360056655734',\n",
      "                     'https://domo-support.domo.com/s/article/360042933994',\n",
      "                     'https://domo-support.domo.com/s/article/360047231334',\n",
      "                     'https://domo-support.domo.com/s/article/360042934014',\n",
      "                     'https://domo-support.domo.com/s/article/360042934034',\n",
      "                     'https://domo-support.domo.com/s/article/360042934054',\n",
      "                     'https://domo-support.domo.com/s/article/360043438573',\n",
      "                     'https://domo-support.domo.com/s/article/360043438593',\n",
      "                     'https://domo-support.domo.com/s/article/360058532353',\n",
      "                     'https://domo-support.domo.com/s/article/360042934074',\n",
      "                     'https://domo-support.domo.com/s/article/360044407833',\n",
      "                     'https://domo-support.domo.com/s/article/360043438633',\n",
      "                     'https://domo-support.domo.com/s/article/360042934114',\n",
      "                     'https://domo-support.domo.com/s/article/360043438653',\n",
      "                     'https://domo-support.domo.com/s/article/360042934094',\n",
      "                     'https://domo-support.domo.com/s/article/360043438673',\n",
      "                     'https://domo-support.domo.com/s/article/1500009295041',\n",
      "                     'https://domo-support.domo.com/s/article/1500009323241',\n",
      "                     'https://domo-support.domo.com/s/article/360044408153',\n",
      "                     'https://domo-support.domo.com/s/article/360043438693',\n",
      "                     'https://domo-support.domo.com/s/article/360043438713',\n",
      "                     'https://domo-support.domo.com/s/article/4402426477719',\n",
      "                     'https://domo-support.domo.com/s/article/360043438733',\n",
      "                     'https://domo-support.domo.com/s/article/360043438753',\n",
      "                     'https://domo-support.domo.com/s/article/360042934134',\n",
      "                     'https://domo-support.domo.com/s/article/360042934154',\n",
      "                     'https://domo-support.domo.com/s/article/360042934174',\n",
      "                     'https://domo-support.domo.com/s/article/360043438773',\n",
      "                     'https://domo-support.domo.com/s/article/360043438793',\n",
      "                     'https://domo-support.domo.com/s/article/360048298634',\n",
      "                     'https://domo-support.domo.com/s/article/360056653514',\n",
      "                     'https://domo-support.domo.com/s/article/360042934194',\n",
      "                     'https://domo-support.domo.com/s/article/1500000316201',\n",
      "                     'https://domo-support.domo.com/s/article/360043438813',\n",
      "                     'https://domo-support.domo.com/s/article/360043437573',\n",
      "                     'https://domo-support.domo.com/s/article/9485049422103',\n",
      "                     'https://domo-support.domo.com/s/article/360042933514',\n",
      "                     'https://domo-support.domo.com/s/article/360043437593',\n",
      "                     'https://domo-support.domo.com/s/article/360043437613',\n",
      "                     'https://domo-support.domo.com/s/article/360042933034',\n",
      "                     'https://domo-support.domo.com/s/article/360043437853',\n",
      "                     'https://domo-support.domo.com/s/article/360043438833',\n",
      "                     'https://domo-support.domo.com/s/article/360042934214',\n",
      "                     'https://domo-support.domo.com/s/article/360047236574',\n",
      "                     'https://domo-support.domo.com/s/article/000005177',\n",
      "                     'https://domo-support.domo.com/s/article/000005184',\n",
      "                     'https://domo-support.domo.com/s/article/1500003318001',\n",
      "                     'https://domo-support.domo.com/s/article/360043439773',\n",
      "                     'https://domo-support.domo.com/s/article/4571739374487',\n",
      "                     'https://domo-support.domo.com/s/article/4404718748439',\n",
      "                     'https://domo-support.domo.com/s/article/360043439793',\n",
      "                     'https://domo-support.domo.com/s/article/360057087073',\n",
      "                     'https://domo-support.domo.com/s/topic/0TO5w000000ZaoXGAS',\n",
      "                     'https://domo-support.domo.com/s/topic/0TO5w000000ZaoYGAS',\n",
      "                     'https://domo-support.domo.com/s/topic/0TO5w000000ZaogGAC',\n",
      "                     'https://domo-support.domo.com/s/topic/0TO5w000000Zap7GAC',\n",
      "                     'https://domo-support.domo.com/s/article/1500000400241',\n",
      "                     'https://domo-support.domo.com/s/article/1500008982102',\n",
      "                     'https://domo-support.domo.com/s/article/360043440453',\n",
      "                     'https://domo-support.domo.com/s/article/4448366869271',\n",
      "                     'https://domo-support.domo.com/s/article/360042935754',\n",
      "                     'https://domo-support.domo.com/s/article/360043931814',\n",
      "                     'https://domo-support.domo.com/s/article/360043429693',\n",
      "                     'https://domo-support.domo.com/s/article/360042929254',\n",
      "                     'https://domo-support.domo.com/s/article/360042923974',\n",
      "                     'https://domo-support.domo.com/s/article/360043429873',\n",
      "                     'https://domo-support.domo.com/s/article/360042924074',\n",
      "                     'https://domo-support.domo.com/s/article/360043433753',\n",
      "                     'https://domo-support.domo.com/s/article/360043432713',\n",
      "                     'https://domo-support.domo.com/s/article/360043434513',\n",
      "                     'https://domo-support.domo.com/s/article/360042924034',\n",
      "                     'https://domo-support.domo.com/s/article/360042924834',\n",
      "                     'https://domo-support.domo.com/s/article/360043428853',\n",
      "                     'https://domo-support.domo.com/s/article/360043428813',\n",
      "                     'https://domo-support.domo.com/s/article/360043428833',\n",
      "                     'https://domo-support.domo.com/s/article/360043428633',\n",
      "                     'https://domo-support.domo.com/s/article/360042927654',\n",
      "                     'https://domo-support.domo.com/s/article/360042931954',\n",
      "                     'https://domo-support.domo.com/s/article/360042931434',\n",
      "                     'https://domo-support.domo.com/s/article/360043431113',\n",
      "                     'https://domo-support.domo.com/s/article/360042928154',\n",
      "                     'https://domo-support.domo.com/s/article/360043432633',\n",
      "                     'https://domo-support.domo.com/s/article/360042926834',\n",
      "                     'https://domo-support.domo.com/s/article/360042930534',\n",
      "                     'https://domo-support.domo.com/s/article/360042926914',\n",
      "                     'https://domo-support.domo.com/s/article/360043434573',\n",
      "                     'https://domo-support.domo.com/s/article/360043432913',\n",
      "                     'https://domo-support.domo.com/s/article/360042931754',\n",
      "                     'https://domo-support.domo.com/s/article/360042927274',\n",
      "                     'https://domo-support.domo.com/s/article/360042928274',\n",
      "                     'https://domo-support.domo.com/s/article/360042931174',\n",
      "                     'https://domo-support.domo.com/s/article/360042932734',\n",
      "                     'https://domo-support.domo.com/s/article/360043432053',\n",
      "                     'https://domo-support.domo.com/s/article/360042929134',\n",
      "                     'https://domo-support.domo.com/s/article/360042922814',\n",
      "                     'https://domo-support.domo.com/s/article/360043438953',\n",
      "                     'https://domo-support.domo.com/s/article/360042931934',\n",
      "                     'https://domo-support.domo.com/s/article/360043430173',\n",
      "                     'https://domo-support.domo.com/s/article/360043630093',\n",
      "                     'https://domo-support.domo.com/s/article/360043436573',\n",
      "                     'https://domo-support.domo.com/s/article/360042932714',\n",
      "                     'https://domo-support.domo.com/s/article/360043437433',\n",
      "                     'https://domo-support.domo.com/s/article/360043428733',\n",
      "                     'https://domo-support.domo.com/s/article/360043440333',\n",
      "                     'https://domo-support.domo.com/s/article/360043429033',\n",
      "                     'https://domo-support.domo.com/s/article/360042932554',\n",
      "                     'https://domo-support.domo.com/s/article/360043438973',\n",
      "                     'https://domo-support.domo.com/s/article/360043436033',\n",
      "                     'https://domo-support.domo.com/s/article/360043430853',\n",
      "                     'https://domo-support.domo.com/s/article/360042927714',\n",
      "                     'https://domo-support.domo.com/s/article/360043432753',\n",
      "                     'https://domo-support.domo.com/s/article/360043433773',\n",
      "                     'https://domo-support.domo.com/s/article/360042929214',\n",
      "                     'https://domo-support.domo.com/s/article/360042926654',\n",
      "                     'https://domo-support.domo.com/s/article/360042926714',\n",
      "                     'https://domo-support.domo.com/s/article/360043434413',\n",
      "                     'https://domo-support.domo.com/s/article/360042926754',\n",
      "                     'https://domo-support.domo.com/s/article/360043434953',\n",
      "                     'https://domo-support.domo.com/s/article/360042928234',\n",
      "                     'https://domo-support.domo.com/s/article/360043435913',\n",
      "                     'https://domo-support.domo.com/s/article/360043435933',\n",
      "                     'https://domo-support.domo.com/s/article/360042927854',\n",
      "                     'https://domo-support.domo.com/s/article/360042930014',\n",
      "                     'https://domo-support.domo.com/s/article/360042927114',\n",
      "                     'https://domo-support.domo.com/s/article/360043434333',\n",
      "                     'https://domo-support.domo.com/s/article/360042930754',\n",
      "                     'https://domo-support.domo.com/s/article/360043434353',\n",
      "                     'https://domo-support.domo.com/s/article/360043438893',\n",
      "                     'https://domo-support.domo.com/s/article/360043429573',\n",
      "                     'https://domo-support.domo.com/s/article/360042924774',\n",
      "                     'https://domo-support.domo.com/s/article/360043429213',\n",
      "                     'https://domo-support.domo.com/s/article/360042924214',\n",
      "                     'https://domo-support.domo.com/s/article/360042924934',\n",
      "                     'https://domo-support.domo.com/s/article/360042934294',\n",
      "                     'https://domo-support.domo.com/s/article/360062446514',\n",
      "                     'https://domo-support.domo.com/s/article/360056669354',\n",
      "                     'https://domo-support.domo.com/s/article/4403089503383',\n",
      "                     'https://domo-support.domo.com/s/article/360042925054',\n",
      "                     'https://domo-support.domo.com/s/article/360043429233',\n",
      "                     'https://domo-support.domo.com/s/article/360043428493',\n",
      "                     'https://domo-support.domo.com/s/article/360043433813',\n",
      "                     'https://domo-support.domo.com/s/article/7508267092119',\n",
      "                     'https://domo-support.domo.com/s/article/7506837994007',\n",
      "                     'https://domo-support.domo.com/s/article/7508982399767',\n",
      "                     'https://domo-support.domo.com/s/article/360042924634',\n",
      "                     'https://domo-support.domo.com/s/article/360042928094',\n",
      "                     'https://domo-support.domo.com/s/article/360042931594',\n",
      "                     'https://domo-support.domo.com/s/article/360042928314',\n",
      "                     'https://domo-support.domo.com/s/article/360042931614',\n",
      "                     'https://domo-support.domo.com/s/article/360042926454',\n",
      "                     'https://domo-support.domo.com/s/article/360043430973',\n",
      "                     'https://domo-support.domo.com/s/article/360043436533',\n",
      "                     'https://domo-support.domo.com/s/article/360043431093',\n",
      "                     'https://domo-support.domo.com/s/article/360042926674',\n",
      "                     'https://domo-support.domo.com/s/article/360043431573',\n",
      "                     'https://domo-support.domo.com/s/article/360042932074',\n",
      "                     'https://domo-support.domo.com/s/article/360043434593',\n",
      "                     'https://domo-support.domo.com/s/article/360043432873',\n",
      "                     'https://domo-support.domo.com/s/article/360042929634',\n",
      "                     'https://domo-support.domo.com/s/article/360043432253',\n",
      "                     'https://domo-support.domo.com/s/article/360043431693',\n",
      "                     'https://domo-support.domo.com/s/article/360043434273',\n",
      "                     'https://domo-support.domo.com/s/article/360043435013',\n",
      "                     'https://domo-support.domo.com/s/article/360043435833',\n",
      "                     'https://domo-support.domo.com/s/article/360042927174',\n",
      "                     'https://domo-support.domo.com/s/article/360042927954',\n",
      "                     'https://domo-support.domo.com/s/article/360042927294',\n",
      "                     'https://domo-support.domo.com/s/article/360043434153',\n",
      "                     'https://domo-support.domo.com/s/article/360042931194',\n",
      "                     'https://domo-support.domo.com/s/article/360043434713',\n",
      "                     'https://domo-support.domo.com/s/article/360042930294',\n",
      "                     'https://domo-support.domo.com/s/article/360043428793',\n",
      "                     'https://domo-support.domo.com/s/article/360043432333',\n",
      "                     'https://domo-support.domo.com/s/article/360042924474',\n",
      "                     'https://domo-support.domo.com/s/article/360043428713',\n",
      "                     'https://domo-support.domo.com/s/article/360043429793',\n",
      "                     'https://domo-support.domo.com/s/article/360043429073',\n",
      "                     'https://domo-support.domo.com/s/article/360042924514',\n",
      "                     'https://domo-support.domo.com/s/article/360043429713',\n",
      "                     'https://domo-support.domo.com/s/article/360042926274',\n",
      "                     'https://domo-support.domo.com/s/article/360043429273',\n",
      "                     'https://domo-support.domo.com/s/article/360043428013',\n",
      "                     'https://domo-support.domo.com/s/article/360042924714',\n",
      "                     'https://domo-support.domo.com/s/article/360043429473',\n",
      "                     'https://domo-support.domo.com/s/article/360042924694',\n",
      "                     'https://domo-support.domo.com/s/article/360043212294',\n",
      "                     'https://domo-support.domo.com/s/article/360043192634',\n",
      "                     'https://domo-support.domo.com/s/article/360042924454',\n",
      "                     'https://domo-support.domo.com/s/article/360043427973',\n",
      "                     'https://domo-support.domo.com/s/article/1500003419382',\n",
      "                     'https://domo-support.domo.com/s/article/360043429493',\n",
      "                     'https://domo-support.domo.com/s/article/4533903600407',\n",
      "                     'https://domo-support.domo.com/s/article/4546361976087',\n",
      "                     'https://domo-support.domo.com/s/article/4546378883863',\n",
      "                     'https://domo-support.domo.com/s/article/4546335931031',\n",
      "                     'https://domo-support.domo.com/s/article/360043429633',\n",
      "                     'https://domo-support.domo.com/s/article/360042930154',\n",
      "                     'https://domo-support.domo.com/s/article/360043433673',\n",
      "                     'https://domo-support.domo.com/s/article/360042926434',\n",
      "                     'https://domo-support.domo.com/s/article/360042930314',\n",
      "                     'https://domo-support.domo.com/s/article/360042930334',\n",
      "                     'https://domo-support.domo.com/s/article/360042926474',\n",
      "                     'https://domo-support.domo.com/s/article/360042926594',\n",
      "                     'https://domo-support.domo.com/s/article/360043432133',\n",
      "                     'https://domo-support.domo.com/s/article/360043435753',\n",
      "                     'https://domo-support.domo.com/s/article/360043431213',\n",
      "                     'https://domo-support.domo.com/s/article/360042929294',\n",
      "                     'https://domo-support.domo.com/s/article/360042928794',\n",
      "                     'https://domo-support.domo.com/s/article/360042928174',\n",
      "                     'https://domo-support.domo.com/s/article/360042930434',\n",
      "                     'https://domo-support.domo.com/s/article/360042928214',\n",
      "                     'https://domo-support.domo.com/s/article/360042928374',\n",
      "                     'https://domo-support.domo.com/s/article/360042926954',\n",
      "                     'https://domo-support.domo.com/s/article/360042926994',\n",
      "                     'https://domo-support.domo.com/s/article/360042930274',\n",
      "                     'https://domo-support.domo.com/s/article/360043431593',\n",
      "                     'https://domo-support.domo.com/s/article/360042928874',\n",
      "                     'https://domo-support.domo.com/s/article/360043436213',\n",
      "                     'https://domo-support.domo.com/s/article/360043435453',\n",
      "                     'https://domo-support.domo.com/s/article/360043434013',\n",
      "                     'https://domo-support.domo.com/s/article/360042930914',\n",
      "                     'https://domo-support.domo.com/s/article/360042929914',\n",
      "                     'https://domo-support.domo.com/s/article/360043434613',\n",
      "                     'https://domo-support.domo.com/s/article/360043435513',\n",
      "                     'https://domo-support.domo.com/s/article/360043431733',\n",
      "                     'https://domo-support.domo.com/s/article/360043433013',\n",
      "                     'https://domo-support.domo.com/s/article/360043433633',\n",
      "                     'https://domo-support.domo.com/s/article/360043434673',\n",
      "                     'https://domo-support.domo.com/s/article/360042931054',\n",
      "                     'https://domo-support.domo.com/s/article/360042931234',\n",
      "                     'https://domo-support.domo.com/s/article/360042929714',\n",
      "                     'https://domo-support.domo.com/s/article/360043429353',\n",
      "                     'https://domo-support.domo.com/s/article/360043429333',\n",
      "                     'https://domo-support.domo.com/s/article/360043429853',\n",
      "                     'https://domo-support.domo.com/s/article/360042924494',\n",
      "                     'https://domo-support.domo.com/s/article/360042932574',\n",
      "                     'https://domo-support.domo.com/s/article/360042925154',\n",
      "                     'https://domo-support.domo.com/s/article/360043427773',\n",
      "                     'https://domo-support.domo.com/s/article/360042931494',\n",
      "                     'https://domo-support.domo.com/s/article/9337403057943',\n",
      "                     'https://domo-support.domo.com/s/article/9338871306135',\n",
      "                     'https://domo-support.domo.com/s/article/360042924094',\n",
      "                     'https://domo-support.domo.com/s/article/360043429013',\n",
      "                     'https://domo-support.domo.com/s/article/360042923854',\n",
      "                     'https://domo-support.domo.com/s/article/360042925074',\n",
      "                     'https://domo-support.domo.com/s/article/360042925194',\n",
      "                     'https://domo-support.domo.com/s/article/360042925314',\n",
      "                     'https://domo-support.domo.com/s/article/360042934274',\n",
      "                     'https://domo-support.domo.com/s/article/360043430773',\n",
      "                     'https://domo-support.domo.com/s/article/360043430813',\n",
      "                     'https://domo-support.domo.com/s/article/360042928554',\n",
      "                     'https://domo-support.domo.com/s/article/360042928574',\n",
      "                     'https://domo-support.domo.com/s/article/360043432693',\n",
      "                     'https://domo-support.domo.com/s/article/360043431513',\n",
      "                     'https://domo-support.domo.com/s/article/360043435653',\n",
      "                     'https://domo-support.domo.com/s/article/360043430953',\n",
      "                     'https://domo-support.domo.com/s/article/360043432173',\n",
      "                     'https://domo-support.domo.com/s/article/360043431013',\n",
      "                     'https://domo-support.domo.com/s/article/360042930374',\n",
      "                     'https://domo-support.domo.com/s/article/360043432193',\n",
      "                     'https://domo-support.domo.com/s/article/360043431033',\n",
      "                     'https://domo-support.domo.com/s/article/360043432793',\n",
      "                     'https://domo-support.domo.com/s/article/360043435153',\n",
      "                     'https://domo-support.domo.com/s/article/360043434813',\n",
      "                     'https://domo-support.domo.com/s/article/360043431193',\n",
      "                     'https://domo-support.domo.com/s/article/360043432573',\n",
      "                     'https://domo-support.domo.com/s/article/360042930414',\n",
      "                     'https://domo-support.domo.com/s/article/360043431073',\n",
      "                     'https://domo-support.domo.com/s/article/360042930694',\n",
      "                     'https://domo-support.domo.com/s/article/360042930714',\n",
      "                     'https://domo-support.domo.com/s/article/360042929594',\n",
      "                     'https://domo-support.domo.com/s/article/360042926874',\n",
      "                     'https://domo-support.domo.com/s/article/360043432833',\n",
      "                     'https://domo-support.domo.com/s/article/360043435793',\n",
      "                     'https://domo-support.domo.com/s/article/360042928254',\n",
      "                     'https://domo-support.domo.com/s/article/360042926494',\n",
      "                     'https://domo-support.domo.com/s/article/360043434293',\n",
      "                     'https://domo-support.domo.com/s/article/360042929014',\n",
      "                     'https://domo-support.domo.com/s/article/360042929054',\n",
      "                     'https://domo-support.domo.com/s/article/360042927394',\n",
      "                     'https://domo-support.domo.com/s/article/360042927454',\n",
      "                     'https://domo-support.domo.com/s/article/360042927474',\n",
      "                     'https://domo-support.domo.com/s/article/360043434373',\n",
      "                     'https://domo-support.domo.com/s/article/360042931074',\n",
      "                     'https://domo-support.domo.com/s/article/360043432093',\n",
      "                     'https://domo-support.domo.com/s/article/360043435133',\n",
      "                     'https://domo-support.domo.com/s/article/360042925014',\n",
      "                     'https://domo-support.domo.com/s/article/360042925234',\n",
      "                     'https://domo-support.domo.com/s/article/360043429833',\n",
      "                     'https://domo-support.domo.com/s/article/360043429813',\n",
      "                     'https://domo-support.domo.com/s/article/000005155',\n",
      "                     'https://domo-support.domo.com/s/article/000005154',\n",
      "                     'https://domo-support.domo.com/s/article/000005156',\n",
      "                     'https://domo-support.domo.com/s/article/360043428753',\n",
      "                     'https://domo-support.domo.com/s/article/360043439953',\n",
      "                     'https://domo-support.domo.com/s/article/360042935294',\n",
      "                     'https://domo-support.domo.com/s/article/360043440173',\n",
      "                     'https://domo-support.domo.com/s/article/360043439993',\n",
      "                     'https://domo-support.domo.com/s/article/360043429893',\n",
      "                     'https://domo-support.domo.com/s/article/360043438933',\n",
      "                     'https://domo-support.domo.com/s/article/360043430753',\n",
      "                     'https://domo-support.domo.com/s/article/360058904853',\n",
      "                     'https://domo-support.domo.com/s/article/360042926314',\n",
      "                     'https://domo-support.domo.com/s/article/360042926334',\n",
      "                     'https://domo-support.domo.com/s/article/360043430793',\n",
      "                     'https://domo-support.domo.com/s/article/000005178',\n",
      "                     'https://domo-support.domo.com/s/article/360043430833',\n",
      "                     'https://domo-support.domo.com/s/article/1500003392422',\n",
      "                     'https://domo-support.domo.com/s/article/360042929154',\n",
      "                     'https://domo-support.domo.com/s/article/360063205353',\n",
      "                     'https://domo-support.domo.com/s/article/360043433593',\n",
      "                     'https://domo-support.domo.com/s/article/360060653773',\n",
      "                     'https://domo-support.domo.com/s/article/360043433613',\n",
      "                     'https://domo-support.domo.com/s/article/360043433653',\n",
      "                     'https://domo-support.domo.com/s/article/360043434793',\n",
      "                     'https://domo-support.domo.com/s/article/360042926354',\n",
      "                     'https://domo-support.domo.com/s/article/360042928074',\n",
      "                     'https://domo-support.domo.com/s/article/360043435853',\n",
      "                     'https://domo-support.domo.com/s/article/6918172885143',\n",
      "                     'https://domo-support.domo.com/s/article/1500011035281',\n",
      "                     'https://domo-support.domo.com/s/article/4406661839895',\n",
      "                     'https://domo-support.domo.com/s/article/360043436333',\n",
      "                     'https://domo-support.domo.com/s/article/360043435293',\n",
      "                     'https://domo-support.domo.com/s/article/360043435593',\n",
      "                     'https://domo-support.domo.com/s/article/1500009571721',\n",
      "                     'https://domo-support.domo.com/s/article/1500000280482',\n",
      "                     'https://domo-support.domo.com/s/article/360043433093',\n",
      "                     'https://domo-support.domo.com/s/article/1500000216821',\n",
      "                     'https://domo-support.domo.com/s/article/7964629384087',\n",
      "                     'https://domo-support.domo.com/s/article/8677917495959',\n",
      "                     'https://domo-support.domo.com/s/article/360044352333',\n",
      "                     'https://domo-support.domo.com/s/article/7938129701527',\n",
      "                     'https://domo-support.domo.com/s/article/360043433113',\n",
      "                     'https://domo-support.domo.com/s/article/7938701190807',\n",
      "                     'https://domo-support.domo.com/s/article/360042926394',\n",
      "                     'https://domo-support.domo.com/s/article/360042926414',\n",
      "                     'https://domo-support.domo.com/s/article/1500009771882',\n",
      "                     'https://domo-support.domo.com/s/article/360043433133',\n",
      "                     'https://domo-support.domo.com/s/article/360043433153',\n",
      "                     'https://domo-support.domo.com/s/article/5395550067095',\n",
      "                     'https://domo-support.domo.com/s/article/360043433693',\n",
      "                     'https://domo-support.domo.com/s/article/360043435313',\n",
      "                     'https://domo-support.domo.com/s/article/360043435333',\n",
      "                     'https://domo-support.domo.com/s/article/360043432453',\n",
      "                     'https://domo-support.domo.com/s/article/360043435873',\n",
      "                     'https://domo-support.domo.com/s/article/360060476953',\n",
      "                     'https://domo-support.domo.com/s/article/1500000196462',\n",
      "                     'https://domo-support.domo.com/s/article/360043430873',\n",
      "                     'https://domo-support.domo.com/s/article/1500002644442',\n",
      "                     'https://domo-support.domo.com/s/article/000005131',\n",
      "                     'https://domo-support.domo.com/s/article/360043432473',\n",
      "                     'https://domo-support.domo.com/s/article/360042928114',\n",
      "                     'https://domo-support.domo.com/s/article/360043434853',\n",
      "                     'https://domo-support.domo.com/s/article/360042927674',\n",
      "                     'https://domo-support.domo.com/s/article/360042927694',\n",
      "                     'https://domo-support.domo.com/s/article/360043434873',\n",
      "                     'https://domo-support.domo.com/s/article/360043430893',\n",
      "                     'https://domo-support.domo.com/s/article/360043434893',\n",
      "                     'https://domo-support.domo.com/s/article/360042928594',\n",
      "                     'https://domo-support.domo.com/s/article/360043432733',\n",
      "                     'https://domo-support.domo.com/s/article/360043435613',\n",
      "                     'https://domo-support.domo.com/s/article/360042929194',\n",
      "                     'https://domo-support.domo.com/s/article/360043433713',\n",
      "                     'https://domo-support.domo.com/s/article/360042930174',\n",
      "                     'https://domo-support.domo.com/s/article/6210794830999',\n",
      "                     'https://domo-support.domo.com/s/article/360043433733',\n",
      "                     'https://domo-support.domo.com/s/article/360043432493',\n",
      "                     'https://domo-support.domo.com/s/article/360043430913',\n",
      "                     'https://domo-support.domo.com/s/article/360043432513',\n",
      "                     'https://domo-support.domo.com/s/article/360043432533',\n",
      "                     'https://domo-support.domo.com/s/article/360043435353',\n",
      "                     'https://domo-support.domo.com/s/article/360043430933',\n",
      "                     'https://domo-support.domo.com/s/article/360042926514',\n",
      "                     'https://domo-support.domo.com/s/article/360042930354',\n",
      "                     'https://domo-support.domo.com/s/article/360042926534',\n",
      "                     'https://domo-support.domo.com/s/article/360043435633',\n",
      "                     'https://domo-support.domo.com/s/article/360043432773',\n",
      "                     'https://domo-support.domo.com/s/article/360042930814',\n",
      "                     'https://domo-support.domo.com/s/article/360043430993',\n",
      "                     'https://domo-support.domo.com/s/article/360043434913',\n",
      "                     'https://domo-support.domo.com/s/article/360043433793',\n",
      "                     'https://domo-support.domo.com/s/article/360043433173',\n",
      "                     'https://domo-support.domo.com/s/article/360061648033',\n",
      "                     'https://domo-support.domo.com/s/article/4410615812759',\n",
      "                     'https://domo-support.domo.com/s/article/360043433193',\n",
      "                     'https://domo-support.domo.com/s/article/4409676591127',\n",
      "                     'https://domo-support.domo.com/s/article/360043433213',\n",
      "                     'https://domo-support.domo.com/s/article/360043435373',\n",
      "                     'https://domo-support.domo.com/s/article/360042928614',\n",
      "                     'https://domo-support.domo.com/s/article/360042926554',\n",
      "                     'https://domo-support.domo.com/s/article/360043431053',\n",
      "                     'https://domo-support.domo.com/s/article/360042923434',\n",
      "                     'https://domo-support.domo.com/s/article/360042926574',\n",
      "                     'https://domo-support.domo.com/s/article/360042929514',\n",
      "                     'https://domo-support.domo.com/s/article/1500009366622',\n",
      "                     'https://domo-support.domo.com/s/article/9240951363095',\n",
      "                     'https://domo-support.domo.com/s/article/4404766005655',\n",
      "                     'https://domo-support.domo.com/s/article/360042929234',\n",
      "                     'https://domo-support.domo.com/s/article/360042926614',\n",
      "                     'https://domo-support.domo.com/s/article/360042926634',\n",
      "                     'https://domo-support.domo.com/s/article/360057014674',\n",
      "                     'https://domo-support.domo.com/s/article/360042930554',\n",
      "                     'https://domo-support.domo.com/s/article/4411277235351',\n",
      "                     'https://domo-support.domo.com/s/article/000005106',\n",
      "                     'https://domo-support.domo.com/s/article/360042928634',\n",
      "                     'https://domo-support.domo.com/s/article/360043433233',\n",
      "                     'https://domo-support.domo.com/s/article/360042930834',\n",
      "                     'https://domo-support.domo.com/s/article/6594082161687',\n",
      "                     'https://domo-support.domo.com/s/article/360043430453',\n",
      "                     'https://domo-support.domo.com/s/article/360042950514',\n",
      "                     'https://domo-support.domo.com/s/article/360043434933',\n",
      "                     'https://domo-support.domo.com/s/article/4420450699415',\n",
      "                     'https://domo-support.domo.com/s/article/360042930194',\n",
      "                     'https://domo-support.domo.com/s/article/360042931454',\n",
      "                     'https://domo-support.domo.com/s/article/360056318074',\n",
      "                     'https://domo-support.domo.com/s/article/360043433253',\n",
      "                     'https://domo-support.domo.com/s/article/360056826934',\n",
      "                     'https://domo-support.domo.com/s/article/360042926694',\n",
      "                     'https://domo-support.domo.com/s/article/360043432553',\n",
      "                     'https://domo-support.domo.com/s/article/360042930214',\n",
      "                     'https://domo-support.domo.com/s/article/000005090',\n",
      "                     'https://domo-support.domo.com/s/article/1500002835162',\n",
      "                     'https://domo-support.domo.com/s/article/360043431153',\n",
      "                     'https://domo-support.domo.com/s/article/360043431173',\n",
      "                     'https://domo-support.domo.com/s/article/360043432813',\n",
      "                     'https://domo-support.domo.com/s/article/360042926734',\n",
      "                     'https://domo-support.domo.com/s/article/4422714455191',\n",
      "                     'https://domo-support.domo.com/s/article/360042928334',\n",
      "                     'https://domo-support.domo.com/s/article/1500000196942',\n",
      "                     'https://domo-support.domo.com/s/article/4405691996439',\n",
      "                     'https://domo-support.domo.com/s/article/360042926774',\n",
      "                     'https://domo-support.domo.com/s/article/360043434433',\n",
      "                     'https://domo-support.domo.com/s/article/1500001404182',\n",
      "                     'https://domo-support.domo.com/s/article/360043432593',\n",
      "                     'https://domo-support.domo.com/s/article/4409812099735',\n",
      "                     'https://domo-support.domo.com/s/article/360042928654',\n",
      "                     'https://domo-support.domo.com/s/article/360043435733',\n",
      "                     'https://domo-support.domo.com/s/article/360042929534',\n",
      "                     'https://domo-support.domo.com/s/article/360042930674',\n",
      "                     'https://domo-support.domo.com/s/article/360043433833',\n",
      "                     'https://domo-support.domo.com/s/article/360042931474',\n",
      "                     'https://domo-support.domo.com/s/article/360042929734',\n",
      "                     'https://domo-support.domo.com/s/article/360042928354',\n",
      "                     'https://domo-support.domo.com/s/article/360043434193',\n",
      "                     'https://domo-support.domo.com/s/article/360042928674',\n",
      "                     'https://domo-support.domo.com/s/article/360042929554',\n",
      "                     'https://domo-support.domo.com/s/article/360042928134',\n",
      "                     'https://domo-support.domo.com/s/article/360051563094',\n",
      "                     'https://domo-support.domo.com/s/article/360042928694',\n",
      "                     'https://domo-support.domo.com/s/article/7963308557463',\n",
      "                     'https://domo-support.domo.com/s/article/360043431133',\n",
      "                     'https://domo-support.domo.com/s/article/360042928714',\n",
      "                     'https://domo-support.domo.com/s/article/360043433273',\n",
      "                     'https://domo-support.domo.com/s/article/360060270674',\n",
      "                     'https://domo-support.domo.com/s/article/1500011202222',\n",
      "                     'https://domo-support.domo.com/s/article/5005702805271',\n",
      "                     'https://domo-support.domo.com/s/article/360043431293',\n",
      "                     'https://domo-support.domo.com/s/article/360043431253',\n",
      "                     'https://domo-support.domo.com/s/article/360043431273',\n",
      "                     'https://domo-support.domo.com/s/article/4410530935447',\n",
      "                     'https://domo-support.domo.com/s/article/360042929274',\n",
      "                     'https://domo-support.domo.com/s/article/1500012226542',\n",
      "                     'https://domo-support.domo.com/s/article/360043433853',\n",
      "                     'https://domo-support.domo.com/s/article/1500009258802',\n",
      "                     'https://domo-support.domo.com/s/article/360060507713',\n",
      "                     'https://domo-support.domo.com/s/article/4407975319959',\n",
      "                     'https://domo-support.domo.com/s/article/360042928754',\n",
      "                     'https://domo-support.domo.com/s/article/1500000214222',\n",
      "                     'https://domo-support.domo.com/s/article/360043433313',\n",
      "                     'https://domo-support.domo.com/s/article/360042928774',\n",
      "                     'https://domo-support.domo.com/s/article/360043435173',\n",
      "                     'https://domo-support.domo.com/s/article/360042930574',\n",
      "                     'https://domo-support.domo.com/s/article/360043435393',\n",
      "                     'https://domo-support.domo.com/s/article/360042931274',\n",
      "                     'https://domo-support.domo.com/s/article/360042930594',\n",
      "                     'https://domo-support.domo.com/s/article/360043435193',\n",
      "                     'https://domo-support.domo.com/s/article/360043433333',\n",
      "                     'https://domo-support.domo.com/s/article/360043434453',\n",
      "                     'https://domo-support.domo.com/s/article/360043434473',\n",
      "                     'https://domo-support.domo.com/s/article/360042929314',\n",
      "                     'https://domo-support.domo.com/s/article/1500000199961',\n",
      "                     'https://domo-support.domo.com/s/article/360043435213',\n",
      "                     'https://domo-support.domo.com/s/article/360043433353',\n",
      "                     'https://domo-support.domo.com/s/article/360043873854',\n",
      "                     'https://domo-support.domo.com/s/article/360043433873',\n",
      "                     'https://domo-support.domo.com/s/article/4405765083543',\n",
      "                     'https://domo-support.domo.com/s/article/1500003942781',\n",
      "                     'https://domo-support.domo.com/s/article/360044351913',\n",
      "                     'https://domo-support.domo.com/s/article/1500003956542',\n",
      "                     'https://domo-support.domo.com/s/article/360043431313',\n",
      "                     'https://domo-support.domo.com/s/article/360043433373',\n",
      "                     'https://domo-support.domo.com/s/article/360042928194',\n",
      "                     'https://domo-support.domo.com/s/article/4402689409687',\n",
      "                     'https://domo-support.domo.com/s/article/360043431333',\n",
      "                     'https://domo-support.domo.com/s/article/4402801176471',\n",
      "                     'https://domo-support.domo.com/s/article/360058716313',\n",
      "                     'https://domo-support.domo.com/s/article/360043431353',\n",
      "                     'https://domo-support.domo.com/s/article/360043435273',\n",
      "                     'https://domo-support.domo.com/s/article/360043433893',\n",
      "                     'https://domo-support.domo.com/s/article/360043433393',\n",
      "                     'https://domo-support.domo.com/s/article/360043433413',\n",
      "                     'https://domo-support.domo.com/s/article/360043431373',\n",
      "                     'https://domo-support.domo.com/s/article/360043434213',\n",
      "                     'https://domo-support.domo.com/s/article/4410240311447',\n",
      "                     'https://domo-support.domo.com/s/article/360043431393',\n",
      "                     'https://domo-support.domo.com/s/article/360043432213',\n",
      "                     'https://domo-support.domo.com/s/article/360043432233',\n",
      "                     'https://domo-support.domo.com/s/article/360042929754',\n",
      "                     'https://domo-support.domo.com/s/article/360042929774',\n",
      "                     'https://domo-support.domo.com/s/article/360043435893',\n",
      "                     'https://domo-support.domo.com/s/article/360042926854',\n",
      "                     'https://domo-support.domo.com/s/article/4421037429271',\n",
      "                     'https://domo-support.domo.com/s/article/360042929574',\n",
      "                     'https://domo-support.domo.com/s/article/360042931114',\n",
      "                     'https://domo-support.domo.com/s/article/360056828174',\n",
      "                     'https://domo-support.domo.com/s/article/360042928814',\n",
      "                     'https://domo-support.domo.com/s/article/360052884153',\n",
      "                     'https://domo-support.domo.com/s/article/360043434973',\n",
      "                     'https://domo-support.domo.com/s/article/360043434233',\n",
      "                     'https://domo-support.domo.com/s/article/360043432653',\n",
      "                     'https://domo-support.domo.com/s/article/360043431433',\n",
      "                     'https://domo-support.domo.com/s/article/360043433473',\n",
      "                     'https://domo-support.domo.com/s/article/6568218044055',\n",
      "                     'https://domo-support.domo.com/s/article/360042926894',\n",
      "                     'https://domo-support.domo.com/s/article/360042930454',\n",
      "                     'https://domo-support.domo.com/s/article/360043433913',\n",
      "                     'https://domo-support.domo.com/s/article/360042929794',\n",
      "                     'https://domo-support.domo.com/s/article/360042926934',\n",
      "                     'https://domo-support.domo.com/s/article/360058904553',\n",
      "                     'https://domo-support.domo.com/s/article/360058708833',\n",
      "                     'https://domo-support.domo.com/s/article/360058892493',\n",
      "                     'https://domo-support.domo.com/s/article/360043434493',\n",
      "                     'https://domo-support.domo.com/s/article/360042929814',\n",
      "                     'https://domo-support.domo.com/s/article/360043431453',\n",
      "                     'https://domo-support.domo.com/s/article/360042929834',\n",
      "                     'https://domo-support.domo.com/s/article/360042929854',\n",
      "                     'https://domo-support.domo.com/s/article/360042929874',\n",
      "                     'https://domo-support.domo.com/s/article/360042929614',\n",
      "                     'https://domo-support.domo.com/s/article/360057014874',\n",
      "                     'https://domo-support.domo.com/s/article/360043433933',\n",
      "                     'https://domo-support.domo.com/s/article/360042928834',\n",
      "                     'https://domo-support.domo.com/s/article/360043433433',\n",
      "                     'https://domo-support.domo.com/s/article/360042927754',\n",
      "                     'https://domo-support.domo.com/s/article/5068225409175',\n",
      "                     'https://domo-support.domo.com/s/article/4404322668951',\n",
      "                     'https://domo-support.domo.com/s/article/360043431473',\n",
      "                     'https://domo-support.domo.com/s/article/360042926974',\n",
      "                     'https://domo-support.domo.com/s/article/1500000662341',\n",
      "                     'https://domo-support.domo.com/s/article/360043872854',\n",
      "                     'https://domo-support.domo.com/s/article/360042930854',\n",
      "                     'https://domo-support.domo.com/s/article/360043431533',\n",
      "                     'https://domo-support.domo.com/s/article/360042927014',\n",
      "                     'https://domo-support.domo.com/s/article/360043431553',\n",
      "                     'https://domo-support.domo.com/s/article/360042929334',\n",
      "                     'https://domo-support.domo.com/s/article/360043434253',\n",
      "                     'https://domo-support.domo.com/s/article/360043434533',\n",
      "                     'https://domo-support.domo.com/s/article/360057028474',\n",
      "                     'https://domo-support.domo.com/s/article/360042928854',\n",
      "                     'https://domo-support.domo.com/s/article/360056826394',\n",
      "                     'https://domo-support.domo.com/s/article/000005162',\n",
      "                     'https://domo-support.domo.com/s/article/360052364393',\n",
      "                     'https://domo-support.domo.com/s/article/360042927774',\n",
      "                     'https://domo-support.domo.com/s/article/360043433953',\n",
      "                     'https://domo-support.domo.com/s/article/360043433973',\n",
      "                     'https://domo-support.domo.com/s/article/4402405213975',\n",
      "                     'https://domo-support.domo.com/s/article/360057020834',\n",
      "                     'https://domo-support.domo.com/s/article/360042930234',\n",
      "                     'https://domo-support.domo.com/s/article/360043434833',\n",
      "                     'https://domo-support.domo.com/s/article/360042930254',\n",
      "                     'https://domo-support.domo.com/s/article/360058903853',\n",
      "                     'https://domo-support.domo.com/s/article/360060592813',\n",
      "                     'https://domo-support.domo.com/s/article/1500000200221',\n",
      "                     'https://domo-support.domo.com/s/article/360042931294',\n",
      "                     'https://domo-support.domo.com/s/article/6618986293271',\n",
      "                     'https://domo-support.domo.com/s/article/360042929354',\n",
      "                     'https://domo-support.domo.com/s/article/360043433993',\n",
      "                     'https://domo-support.domo.com/s/article/360058713473',\n",
      "                     'https://domo-support.domo.com/s/article/360043431613',\n",
      "                     'https://domo-support.domo.com/s/article/360043431633',\n",
      "                     'https://domo-support.domo.com/s/article/360045713833',\n",
      "                     'https://domo-support.domo.com/s/article/1500008621522',\n",
      "                     'https://domo-support.domo.com/s/article/4416740193303',\n",
      "                     'https://domo-support.domo.com/s/article/360043435433',\n",
      "                     'https://domo-support.domo.com/s/article/360056826634',\n",
      "                     'https://domo-support.domo.com/s/article/360043431653',\n",
      "                     'https://domo-support.domo.com/s/article/360042928894',\n",
      "                     'https://domo-support.domo.com/s/article/360043433453',\n",
      "                     'https://domo-support.domo.com/s/article/360043434033',\n",
      "                     'https://domo-support.domo.com/s/article/360043434053',\n",
      "                     'https://domo-support.domo.com/s/article/360043435473',\n",
      "                     'https://domo-support.domo.com/s/article/360042931134',\n",
      "                     'https://domo-support.domo.com/s/article/360042930874',\n",
      "                     'https://domo-support.domo.com/s/article/360043435493',\n",
      "                     'https://domo-support.domo.com/s/article/360042930894',\n",
      "                     'https://domo-support.domo.com/s/article/360042927794',\n",
      "                     'https://domo-support.domo.com/s/article/360043434073',\n",
      "                     'https://domo-support.domo.com/s/article/360042929394',\n",
      "                     'https://domo-support.domo.com/s/article/360042929414',\n",
      "                     'https://domo-support.domo.com/s/article/360057028494',\n",
      "                     'https://domo-support.domo.com/s/article/4624885410583',\n",
      "                     'https://domo-support.domo.com/s/article/360058685834',\n",
      "                     'https://domo-support.domo.com/s/article/360043433493',\n",
      "                     'https://domo-support.domo.com/s/article/360058685594',\n",
      "                     'https://domo-support.domo.com/s/article/360042927034',\n",
      "                     'https://domo-support.domo.com/s/article/360042927814',\n",
      "                     'https://domo-support.domo.com/s/article/360043435673',\n",
      "                     'https://domo-support.domo.com/s/article/360042931154',\n",
      "                     'https://domo-support.domo.com/s/article/360043432893',\n",
      "                     'https://domo-support.domo.com/s/article/1500000216941',\n",
      "                     'https://domo-support.domo.com/s/article/360042930634',\n",
      "                     'https://domo-support.domo.com/s/article/360043431673',\n",
      "                     'https://domo-support.domo.com/s/article/360042928914',\n",
      "                     'https://domo-support.domo.com/s/article/360042928934',\n",
      "                     'https://domo-support.domo.com/s/article/1500011014942',\n",
      "                     'https://domo-support.domo.com/s/article/4414026824471',\n",
      "                     'https://domo-support.domo.com/s/article/360042927054',\n",
      "                     'https://domo-support.domo.com/s/article/360042928954',\n",
      "                     'https://domo-support.domo.com/s/article/360042928974',\n",
      "                     'https://domo-support.domo.com/s/article/360043433513',\n",
      "                     'https://domo-support.domo.com/s/article/1500000521362',\n",
      "                     'https://domo-support.domo.com/s/article/360042931514',\n",
      "                     'https://domo-support.domo.com/s/article/360042930934',\n",
      "                     'https://domo-support.domo.com/s/article/360043434093',\n",
      "                     'https://domo-support.domo.com/s/article/360043431713',\n",
      "                     'https://domo-support.domo.com/s/article/360042929894',\n",
      "                     'https://domo-support.domo.com/s/article/360042928994',\n",
      "                     'https://domo-support.domo.com/s/article/360043434553',\n",
      "                     'https://domo-support.domo.com/s/article/360042929934',\n",
      "                     'https://domo-support.domo.com/s/article/360042927834',\n",
      "                     'https://domo-support.domo.com/s/article/360043434633',\n",
      "                     'https://domo-support.domo.com/s/article/360061905054',\n",
      "                     'https://domo-support.domo.com/s/article/000005112',\n",
      "                     'https://domo-support.domo.com/s/article/360042929434',\n",
      "                     'https://domo-support.domo.com/s/article/360042927874',\n",
      "                     'https://domo-support.domo.com/s/article/360043435813',\n",
      "                     'https://domo-support.domo.com/s/article/360043435533',\n",
      "                     'https://domo-support.domo.com/s/article/360042930734',\n",
      "                     'https://domo-support.domo.com/s/article/360043432933',\n",
      "                     'https://domo-support.domo.com/s/article/360042929034',\n",
      "                     'https://domo-support.domo.com/s/article/360043433533',\n",
      "                     'https://domo-support.domo.com/s/article/5063710836247',\n",
      "                     'https://domo-support.domo.com/s/article/360042928414',\n",
      "                     'https://domo-support.domo.com/s/article/360043432953',\n",
      "                     'https://domo-support.domo.com/s/article/360042931534',\n",
      "                     'https://domo-support.domo.com/s/article/360043432973',\n",
      "                     'https://domo-support.domo.com/s/article/360042929954',\n",
      "                     'https://domo-support.domo.com/s/article/1500000572542',\n",
      "                     'https://domo-support.domo.com/s/article/360043432293',\n",
      "                     'https://domo-support.domo.com/s/article/360042927894',\n",
      "                     'https://domo-support.domo.com/s/article/360042927134',\n",
      "                     'https://domo-support.domo.com/s/article/360043435693',\n",
      "                     'https://domo-support.domo.com/s/article/360042930974',\n",
      "                     'https://domo-support.domo.com/s/article/360042927154',\n",
      "                     'https://domo-support.domo.com/s/article/360042931314',\n",
      "                     'https://domo-support.domo.com/s/article/000005099',\n",
      "                     'https://domo-support.domo.com/s/article/360043432313',\n",
      "                     'https://domo-support.domo.com/s/article/1500002454002',\n",
      "                     'https://domo-support.domo.com/s/article/360042927914',\n",
      "                     'https://domo-support.domo.com/s/article/360043434313',\n",
      "                     'https://domo-support.domo.com/s/article/360043431753',\n",
      "                     'https://domo-support.domo.com/s/article/1500000339801',\n",
      "                     'https://domo-support.domo.com/s/article/360042927214',\n",
      "                     'https://domo-support.domo.com/s/article/1500002456742',\n",
      "                     'https://domo-support.domo.com/s/article/360062526733',\n",
      "                     'https://domo-support.domo.com/s/article/360042927234',\n",
      "                     'https://domo-support.domo.com/s/article/360043431773',\n",
      "                     'https://domo-support.domo.com/s/article/360060905774',\n",
      "                     'https://domo-support.domo.com/s/article/360042927934',\n",
      "                     'https://domo-support.domo.com/s/article/360042927974',\n",
      "                     'https://domo-support.domo.com/s/article/360043432353',\n",
      "                     'https://domo-support.domo.com/s/article/360043435953',\n",
      "                     'https://domo-support.domo.com/s/article/360043432993',\n",
      "                     'https://domo-support.domo.com/s/article/360043431493',\n",
      "                     'https://domo-support.domo.com/s/article/360043431793',\n",
      "                     'https://domo-support.domo.com/s/article/360043432373',\n",
      "                     'https://domo-support.domo.com/s/article/4770992455575',\n",
      "                     'https://domo-support.domo.com/s/article/360042929454',\n",
      "                     'https://domo-support.domo.com/s/article/360042927254',\n",
      "                     'https://domo-support.domo.com/s/article/360043431833',\n",
      "                     'https://domo-support.domo.com/s/article/360042929074',\n",
      "                     'https://domo-support.domo.com/s/article/360042929094',\n",
      "                     'https://domo-support.domo.com/s/article/360043434113',\n",
      "                     'https://domo-support.domo.com/s/article/360043431853',\n",
      "                     'https://domo-support.domo.com/s/article/360042927994',\n",
      "                     'https://domo-support.domo.com/s/article/000005100',\n",
      "                     'https://domo-support.domo.com/s/article/360042928014',\n",
      "                     'https://domo-support.domo.com/s/article/4415872970647',\n",
      "                     'https://domo-support.domo.com/s/article/360043431873',\n",
      "                     'https://domo-support.domo.com/s/article/360042927314',\n",
      "                     'https://domo-support.domo.com/s/article/4418190973335',\n",
      "                     'https://domo-support.domo.com/s/article/360043431913',\n",
      "                     'https://domo-support.domo.com/s/article/360042927354',\n",
      "                     'https://domo-support.domo.com/s/article/360057020774',\n",
      "                     'https://domo-support.domo.com/s/article/360042929974',\n",
      "                     'https://domo-support.domo.com/s/article/360042930474',\n",
      "                     'https://domo-support.domo.com/s/article/1500003094902',\n",
      "                     'https://domo-support.domo.com/s/article/5885581953047',\n",
      "                     'https://domo-support.domo.com/s/article/4416224124439',\n",
      "                     'https://domo-support.domo.com/s/article/360043434133',\n",
      "                     'https://domo-support.domo.com/s/article/360042929114',\n",
      "                     'https://domo-support.domo.com/s/article/000005114',\n",
      "                     'https://domo-support.domo.com/s/article/360043431953',\n",
      "                     'https://domo-support.domo.com/s/article/360045179713',\n",
      "                     'https://domo-support.domo.com/s/article/360042927374',\n",
      "                     'https://domo-support.domo.com/s/article/360042927434',\n",
      "                     'https://domo-support.domo.com/s/article/360043431993',\n",
      "                     'https://domo-support.domo.com/s/article/1500008921782',\n",
      "                     'https://domo-support.domo.com/s/article/360043432013',\n",
      "                     'https://domo-support.domo.com/s/article/360042928434',\n",
      "                     'https://domo-support.domo.com/s/article/360042928454',\n",
      "                     'https://domo-support.domo.com/s/article/360061854834',\n",
      "                     'https://domo-support.domo.com/s/article/360042928474',\n",
      "                     'https://domo-support.domo.com/s/article/360042929994',\n",
      "                     'https://domo-support.domo.com/s/article/4415975374231',\n",
      "                     'https://domo-support.domo.com/s/article/360042929474',\n",
      "                     'https://domo-support.domo.com/s/article/360042931334',\n",
      "                     'https://domo-support.domo.com/s/article/360042930034',\n",
      "                     'https://domo-support.domo.com/s/article/360042929654',\n",
      "                     'https://domo-support.domo.com/s/article/360043433553',\n",
      "                     'https://domo-support.domo.com/s/article/360042930994',\n",
      "                     'https://domo-support.domo.com/s/article/360042930774',\n",
      "                     'https://domo-support.domo.com/s/article/360043432033',\n",
      "                     'https://domo-support.domo.com/s/article/4423536836631',\n",
      "                     'https://domo-support.domo.com/s/article/360042927494',\n",
      "                     'https://domo-support.domo.com/s/article/360042928294',\n",
      "                     'https://domo-support.domo.com/s/article/4482007928983',\n",
      "                     'https://domo-support.domo.com/s/article/360042928494',\n",
      "                     'https://domo-support.domo.com/s/article/360042930494',\n",
      "                     'https://domo-support.domo.com/s/article/1500000218261',\n",
      "                     'https://domo-support.domo.com/s/article/360042928034',\n",
      "                     'https://domo-support.domo.com/s/article/360043435033',\n",
      "                     'https://domo-support.domo.com/s/article/360043435073',\n",
      "                     'https://domo-support.domo.com/s/article/1500000197562',\n",
      "                     'https://domo-support.domo.com/s/article/360043434653',\n",
      "                     'https://domo-support.domo.com/s/article/360043435233',\n",
      "                     'https://domo-support.domo.com/s/article/360043435253',\n",
      "                     'https://domo-support.domo.com/s/article/360042927514',\n",
      "                     'https://domo-support.domo.com/s/article/360042930054',\n",
      "                     'https://domo-support.domo.com/s/article/360042930074',\n",
      "                     'https://domo-support.domo.com/s/article/360043434693',\n",
      "                     'https://domo-support.domo.com/s/article/360042930094',\n",
      "                     'https://domo-support.domo.com/s/article/1500000215322',\n",
      "                     'https://domo-support.domo.com/s/article/1500011338561',\n",
      "                     'https://domo-support.domo.com/s/article/360042927534',\n",
      "                     'https://domo-support.domo.com/s/article/360042931094',\n",
      "                     'https://domo-support.domo.com/s/article/360043432073',\n",
      "                     'https://domo-support.domo.com/s/article/360043435573',\n",
      "                     'https://domo-support.domo.com/s/article/360042931014',\n",
      "                     'https://domo-support.domo.com/s/article/360042931034',\n",
      "                     'https://domo-support.domo.com/s/article/1500001383741',\n",
      "                     'https://domo-support.domo.com/s/article/4421871310103',\n",
      "                     'https://domo-support.domo.com/s/article/360042928054',\n",
      "                     'https://domo-support.domo.com/s/article/360043432433',\n",
      "                     'https://domo-support.domo.com/s/article/360042927574',\n",
      "                     'https://domo-support.domo.com/s/article/360042931214',\n",
      "                     'https://domo-support.domo.com/s/article/360042927594',\n",
      "                     'https://domo-support.domo.com/s/article/360052381713',\n",
      "                     'https://domo-support.domo.com/s/article/9055998801815',\n",
      "                     'https://domo-support.domo.com/s/article/360042927614',\n",
      "                     'https://domo-support.domo.com/s/article/360043434733',\n",
      "                     'https://domo-support.domo.com/s/article/1500000161782',\n",
      "                     'https://domo-support.domo.com/s/article/4407021262359',\n",
      "                     'https://domo-support.domo.com/s/article/360042925174',\n",
      "                     'https://domo-support.domo.com/s/article/360042935274',\n",
      "                     'https://domo-support.domo.com/s/article/360058759074',\n",
      "                     'https://domo-support.domo.com/s/article/360043428873',\n",
      "                     'https://domo-support.domo.com/s/article/360042932754',\n",
      "                     'https://domo-support.domo.com/s/article/360043435093',\n",
      "                     'https://domo-support.domo.com/s/article/1500000888261',\n",
      "                     'https://domo-support.domo.com/s/article/360043436253',\n",
      "                     'https://domo-support.domo.com/s/article/360043434753',\n",
      "                     'https://domo-support.domo.com/s/article/360042932314',\n",
      "                     'https://domo-support.domo.com/s/article/360042935154',\n",
      "                     'https://domo-support.domo.com/s/article/1500008535702',\n",
      "                     'https://domo-support.domo.com/s/article/360043436373',\n",
      "                     'https://domo-support.domo.com/s/article/4407021416087',\n",
      "                     'https://domo-support.domo.com/s/article/360042932194',\n",
      "                     'https://domo-support.domo.com/s/article/360043428993',\n",
      "                     'https://domo-support.domo.com/s/article/360042932814',\n",
      "                     'https://domo-support.domo.com/s/article/360046857074',\n",
      "                     'https://domo-support.domo.com/s/article/360042924014',\n",
      "                     'https://domo-support.domo.com/s/article/360042935174',\n",
      "                     'https://domo-support.domo.com/s/article/4407011317655',\n",
      "                     'https://domo-support.domo.com/s/article/1500000281902',\n",
      "                     'https://domo-support.domo.com/s/article/4420495020567',\n",
      "                     'https://domo-support.domo.com/s/article/360044951294',\n",
      "                     'https://domo-support.domo.com/s/article/360043437453',\n",
      "                     'https://domo-support.domo.com/s/article/1500010195881',\n",
      "                     'https://domo-support.domo.com/s/article/4407021838231',\n",
      "                     'https://domo-support.domo.com/s/article/360042924274',\n",
      "                     'https://domo-support.domo.com/s/article/4407019431831',\n",
      "                     'https://domo-support.domo.com/s/article/360051270214',\n",
      "                     'https://domo-support.domo.com/s/article/360046772834',\n",
      "                     'https://domo-support.domo.com/s/article/4407021955991',\n",
      "                     'https://domo-support.domo.com/s/article/1500000974662',\n",
      "                     'https://domo-support.domo.com/s/article/6643231704471',\n",
      "                     'https://domo-support.domo.com/s/article/360042925414',\n",
      "                     'https://domo-support.domo.com/s/article/4407023681559',\n",
      "                     'https://domo-support.domo.com/s/article/360043429533',\n",
      "                     'https://domo-support.domo.com/s/article/360052122394',\n",
      "                     'https://domo-support.domo.com/s/article/360043428513',\n",
      "                     'https://domo-support.domo.com/s/article/360043435713',\n",
      "                     'https://domo-support.domo.com/s/article/1500000200561',\n",
      "                     'https://domo-support.domo.com/s/article/360043440233',\n",
      "                     'https://domo-support.domo.com/s/article/360043428653',\n",
      "                     'https://domo-support.domo.com/s/article/5761015577879',\n",
      "                     'https://domo-support.domo.com/s/article/360046860474',\n",
      "                     'https://domo-support.domo.com/s/article/360042930654',\n",
      "                     'https://domo-support.domo.com/s/article/360042930134',\n",
      "                     'https://domo-support.domo.com/s/article/360043428893',\n",
      "                     'https://domo-support.domo.com/s/article/360042924574',\n",
      "                     'https://domo-support.domo.com/s/article/4937066992407',\n",
      "                     'https://domo-support.domo.com/s/article/4407020788759',\n",
      "                     'https://domo-support.domo.com/s/article/360043433053',\n",
      "                     'https://domo-support.domo.com/s/article/360043437113',\n",
      "                     'https://domo-support.domo.com/s/article/360042924794',\n",
      "                     'https://domo-support.domo.com/s/article/360047416513',\n",
      "                     'https://domo-support.domo.com/s/article/4420455797783',\n",
      "                     'https://domo-support.domo.com/s/article/360043438473',\n",
      "                     'https://domo-support.domo.com/s/article/360042932414',\n",
      "                     'https://domo-support.domo.com/s/article/360045402873',\n",
      "                     'https://domo-support.domo.com/s/article/360043436773',\n",
      "                     'https://domo-support.domo.com/s/article/360042932634',\n",
      "                     'https://domo-support.domo.com/s/article/360042932354',\n",
      "                     'https://domo-support.domo.com/s/article/360042928514',\n",
      "                     'https://domo-support.domo.com/s/article/360043429613',\n",
      "                     'https://domo-support.domo.com/s/article/4409682973463',\n",
      "                     'https://domo-support.domo.com/s/article/360042935574',\n",
      "                     'https://domo-support.domo.com/s/article/4406022964375',\n",
      "                     'https://domo-support.domo.com/s/article/360043437333',\n",
      "                     'https://domo-support.domo.com/s/article/360042925334',\n",
      "                     'https://domo-support.domo.com/s/article/360057013414',\n",
      "                     'https://domo-support.domo.com/s/article/360057028154',\n",
      "                     'https://domo-support.domo.com/s/article/4929230727319',\n",
      "                     'https://domo-support.domo.com/s/article/9133993462167',\n",
      "                     'https://domo-support.domo.com/s/article/360042931834',\n",
      "                     'https://domo-support.domo.com/s/article/4407022160791',\n",
      "                     'https://domo-support.domo.com/s/article/360043436793',\n",
      "                     'https://domo-support.domo.com/s/article/360042935594',\n",
      "                     'https://domo-support.domo.com/s/article/360042932154',\n",
      "                     'https://domo-support.domo.com/s/article/4403581093527',\n",
      "                     'https://domo-support.domo.com/s/article/360042928734',\n",
      "                     'https://domo-support.domo.com/s/article/1500009135201',\n",
      "                     'https://domo-support.domo.com/s/article/360043428473',\n",
      "                     'https://domo-support.domo.com/s/article/360043436653',\n",
      "                     'https://domo-support.domo.com/s/article/360060595673',\n",
      "                     'https://domo-support.domo.com/s/article/4407033576471',\n",
      "                     'https://domo-support.domo.com/s/article/360042935714',\n",
      "                     'https://domo-support.domo.com/s/article/360043440213',\n",
      "                     'https://domo-support.domo.com/s/article/7750206953495',\n",
      "                     'https://domo-support.domo.com/s/article/360042935454',\n",
      "                     'https://domo-support.domo.com/s/article/360058757134',\n",
      "                     'https://domo-support.domo.com/s/article/360042929694',\n",
      "                     'https://domo-support.domo.com/s/article/360046856414',\n",
      "                     'https://domo-support.domo.com/s/article/1500000279922',\n",
      "                     'https://domo-support.domo.com/s/article/360043434173',\n",
      "                     'https://domo-support.domo.com/s/article/360043439933',\n",
      "                     'https://domo-support.domo.com/s/article/1500010196881',\n",
      "                     'https://domo-support.domo.com/s/article/360043436813',\n",
      "                     'https://domo-support.domo.com/s/article/360042933914',\n",
      "                     'https://domo-support.domo.com/s/article/4407012310295',\n",
      "                     'https://domo-support.domo.com/s/article/7884725265559',\n",
      "                     'https://domo-support.domo.com/s/article/360046864074',\n",
      "                     'https://domo-support.domo.com/s/article/360044358473',\n",
      "                     'https://domo-support.domo.com/s/article/360043437353',\n",
      "                     'https://domo-support.domo.com/s/article/360043432113',\n",
      "                     'https://domo-support.domo.com/s/article/1500011337961',\n",
      "                     'https://domo-support.domo.com/s/article/360043038714',\n",
      "                     'https://domo-support.domo.com/s/article/360042931694',\n",
      "                     'https://domo-support.domo.com/s/article/360046763254',\n",
      "                     'https://domo-support.domo.com/s/article/360045186294',\n",
      "                     'https://domo-support.domo.com/s/article/360058570934',\n",
      "                     'https://domo-support.domo.com/s/article/360056826694',\n",
      "                     'https://domo-support.domo.com/s/article/4407019838487',\n",
      "                     'https://domo-support.domo.com/s/article/4407020896663',\n",
      "                     'https://domo-support.domo.com/s/article/360043436933',\n",
      "                     'https://domo-support.domo.com/s/article/360043427733',\n",
      "                     'https://domo-support.domo.com/s/article/4408834497431',\n",
      "                     'https://domo-support.domo.com/s/article/360046761214',\n",
      "                     'https://domo-support.domo.com/s/article/360042929674',\n",
      "                     'https://domo-support.domo.com/s/article/360051709994',\n",
      "                     'https://domo-support.domo.com/s/article/1500001575002',\n",
      "                     'https://domo-support.domo.com/s/article/360042925214',\n",
      "                     'https://domo-support.domo.com/s/article/360056826894',\n",
      "                     'https://domo-support.domo.com/s/article/360042931994',\n",
      "                     'https://domo-support.domo.com/s/article/360043427753',\n",
      "                     'https://domo-support.domo.com/s/article/360043428453',\n",
      "                     'https://domo-support.domo.com/s/article/360042924534',\n",
      "                     'https://domo-support.domo.com/s/article/360042934254',\n",
      "                     'https://domo-support.domo.com/s/article/7802172134807',\n",
      "                     'https://domo-support.domo.com/s/article/360043433073',\n",
      "                     'https://domo-support.domo.com/s/article/4410071437335',\n",
      "                     'https://domo-support.domo.com/s/article/4407012982295',\n",
      "                     'https://domo-support.domo.com/s/article/360042930114',\n",
      "                     'https://domo-support.domo.com/s/article/4422351866519',\n",
      "                     'https://domo-support.domo.com/s/article/360043429413',\n",
      "                     'https://domo-support.domo.com/s/article/360042924734',\n",
      "                     'https://domo-support.domo.com/s/article/360043429673',\n",
      "                     'https://domo-support.domo.com/s/article/360044356293',\n",
      "                     'https://domo-support.domo.com/s/article/360042935534',\n",
      "                     'https://domo-support.domo.com/s/article/360046860414',\n",
      "                     'https://domo-support.domo.com/s/article/4407026671767',\n",
      "                     'https://domo-support.domo.com/s/article/360047496473',\n",
      "                     'https://domo-support.domo.com/s/article/360042932794',\n",
      "                     'https://domo-support.domo.com/s/article/360042934954',\n",
      "                     'https://domo-support.domo.com/s/article/360058762534',\n",
      "                     'https://domo-support.domo.com/s/article/360042925274',\n",
      "                     'https://domo-support.domo.com/s/article/360043436413',\n",
      "                     'https://domo-support.domo.com/s/article/360042925254',\n",
      "                     'https://domo-support.domo.com/s/article/360042923994',\n",
      "                     'https://domo-support.domo.com/s/article/360042924254',\n",
      "                     'https://domo-support.domo.com/s/article/000005169',\n",
      "                     'https://domo-support.domo.com/s/article/000005123',\n",
      "                     'https://domo-support.domo.com/s/article/360043436053',\n",
      "                     'https://domo-support.domo.com/s/article/360042924174',\n",
      "                     'https://domo-support.domo.com/s/article/360042931774',\n",
      "                     'https://domo-support.domo.com/s/article/4407033316887',\n",
      "                     'https://domo-support.domo.com/s/article/5241119778967',\n",
      "                     'https://domo-support.domo.com/s/article/360044195574',\n",
      "                     'https://domo-support.domo.com/s/article/360043435113',\n",
      "                     'https://domo-support.domo.com/s/article/360042923334',\n",
      "                     'https://domo-support.domo.com/s/article/360043429153',\n",
      "                     'https://domo-support.domo.com/s/article/360043427373',\n",
      "                     'https://domo-support.domo.com/s/article/360042932094',\n",
      "                     'https://domo-support.domo.com/s/article/4407032210199',\n",
      "                     'https://domo-support.domo.com/s/article/360042932534',\n",
      "                     'https://domo-support.domo.com/s/article/4402638182935',\n",
      "                     'https://domo-support.domo.com/s/article/360043436713',\n",
      "                     'https://domo-support.domo.com/s/article/360043429113',\n",
      "                     'https://domo-support.domo.com/s/article/360042925374',\n",
      "                     'https://domo-support.domo.com/s/article/360042932294',\n",
      "                     'https://domo-support.domo.com/s/article/4407012418583',\n",
      "                     'https://domo-support.domo.com/s/article/360042932474',\n",
      "                     'https://domo-support.domo.com/s/article/360042924374',\n",
      "                     'https://domo-support.domo.com/s/article/1500004736262',\n",
      "                     'https://domo-support.domo.com/s/article/4407013084439',\n",
      "                     'https://domo-support.domo.com/s/article/360058760234',\n",
      "                     'https://domo-support.domo.com/s/article/360042932254',\n",
      "                     'https://domo-support.domo.com/s/article/360042934314',\n",
      "                     'https://domo-support.domo.com/s/article/360042935654',\n",
      "                     'https://domo-support.domo.com/s/article/4420447636887',\n",
      "                     'https://domo-support.domo.com/s/article/360043435973',\n",
      "                     'https://domo-support.domo.com/s/article/360042924954',\n",
      "                     'https://domo-support.domo.com/s/article/360058759794',\n",
      "                     'https://domo-support.domo.com/s/article/4407011531543',\n",
      "                     'https://domo-support.domo.com/s/article/360042932774',\n",
      "                     'https://domo-support.domo.com/s/article/360042935414',\n",
      "                     'https://domo-support.domo.com/s/article/7695619925271',\n",
      "                     'https://domo-support.domo.com/s/article/360046864274',\n",
      "                     'https://domo-support.domo.com/s/article/360046864794',\n",
      "                     'https://domo-support.domo.com/s/article/360043440013',\n",
      "                     'https://domo-support.domo.com/s/article/360043436233',\n",
      "                     'https://domo-support.domo.com/s/article/360043438873',\n",
      "                     'https://domo-support.domo.com/s/article/360042931894',\n",
      "                     'https://domo-support.domo.com/s/article/360042932594',\n",
      "                     'https://domo-support.domo.com/s/article/360043436453',\n",
      "                     'https://domo-support.domo.com/s/article/360042931674',\n",
      "                     'https://domo-support.domo.com/s/article/360058760314',\n",
      "                     'https://domo-support.domo.com/s/article/360043427353',\n",
      "                     'https://domo-support.domo.com/s/article/360042932454',\n",
      "                     'https://domo-support.domo.com/s/article/360042932614',\n",
      "                     'https://domo-support.domo.com/s/article/360058760154',\n",
      "                     'https://domo-support.domo.com/s/article/360042924194',\n",
      "                     'https://domo-support.domo.com/s/article/360043436893',\n",
      "                     'https://domo-support.domo.com/s/article/8125387098135',\n",
      "                     'https://domo-support.domo.com/s/article/4405156517527',\n",
      "                     'https://domo-support.domo.com/s/article/360052376053',\n",
      "                     'https://domo-support.domo.com/s/article/360043437133',\n",
      "                     'https://domo-support.domo.com/s/article/360043436073',\n",
      "                     'https://domo-support.domo.com/s/article/360047411473',\n",
      "                     'https://domo-support.domo.com/s/article/1500008509361',\n",
      "                     'https://domo-support.domo.com/s/article/000005176',\n",
      "                     'https://domo-support.domo.com/s/article/360042924674',\n",
      "                     'https://domo-support.domo.com/s/article/4407026238487',\n",
      "                     'https://domo-support.domo.com/s/article/1500011338741',\n",
      "                     'https://domo-support.domo.com/s/article/1500000285042',\n",
      "                     'https://domo-support.domo.com/s/article/360046861014',\n",
      "                     'https://domo-support.domo.com/s/article/360043438493',\n",
      "                     'https://domo-support.domo.com/s/article/360042932494',\n",
      "                     'https://domo-support.domo.com/s/article/4407019630359',\n",
      "                     'https://domo-support.domo.com/s/article/360043427713',\n",
      "                     'https://domo-support.domo.com/s/article/4407021328919',\n",
      "                     'https://domo-support.domo.com/s/article/360043440413',\n",
      "                     'https://domo-support.domo.com/s/article/360043436873',\n",
      "                     'https://domo-support.domo.com/s/article/4407018784919',\n",
      "                     'https://domo-support.domo.com/s/article/9030981562519',\n",
      "                     'https://domo-support.domo.com/s/article/360047504553',\n",
      "                     'https://domo-support.domo.com/s/article/360046765374',\n",
      "                     'https://domo-support.domo.com/s/article/360043436313',\n",
      "                     'https://domo-support.domo.com/s/article/360045929334',\n",
      "                     'https://domo-support.domo.com/s/article/360043429553',\n",
      "                     'https://domo-support.domo.com/s/article/360043440393',\n",
      "                     'https://domo-support.domo.com/s/article/360042931794',\n",
      "                     'https://domo-support.domo.com/s/article/360042925034',\n",
      "                     'https://domo-support.domo.com/s/article/360042925094',\n",
      "                     'https://domo-support.domo.com/s/article/4407020117527',\n",
      "                     'https://domo-support.domo.com/s/article/360043436613',\n",
      "                     'https://domo-support.domo.com/s/article/1500000283862',\n",
      "                     'https://domo-support.domo.com/s/article/360043873654',\n",
      "                     'https://domo-support.domo.com/s/article/1500000281802',\n",
      "                     'https://domo-support.domo.com/s/article/360042924314',\n",
      "                     'https://domo-support.domo.com/s/article/360058714813',\n",
      "                     'https://domo-support.domo.com/s/article/360047406653',\n",
      "                     'https://domo-support.domo.com/s/article/360047494393',\n",
      "                     'https://domo-support.domo.com/s/article/360043433033',\n",
      "                     'https://domo-support.domo.com/s/article/360042935374',\n",
      "                     'https://domo-support.domo.com/s/article/360043435993',\n",
      "                     'https://domo-support.domo.com/s/article/360058716453',\n",
      "                     'https://domo-support.domo.com/s/article/360043437093',\n",
      "                     'https://domo-support.domo.com/s/article/4416129543063',\n",
      "                     'https://domo-support.domo.com/s/article/360042924614',\n",
      "                     'https://domo-support.domo.com/s/article/360043436913',\n",
      "                     'https://domo-support.domo.com/s/article/4407013674519',\n",
      "                     'https://domo-support.domo.com/s/article/360042925354',\n",
      "                     'https://domo-support.domo.com/s/article/4422644650519',\n",
      "                     'https://domo-support.domo.com/s/article/360043440153',\n",
      "                     'https://domo-support.domo.com/s/article/360055663713',\n",
      "                     'https://domo-support.domo.com/s/article/7561566413463',\n",
      "                     'https://domo-support.domo.com/s/article/8255638008343',\n",
      "                     'https://domo-support.domo.com/s/article/360044876874',\n",
      "                     'https://domo-support.domo.com/s/article/1500007660641',\n",
      "                     'https://domo-support.domo.com/s/article/4407013819671',\n",
      "                     'https://domo-support.domo.com/s/article/4404246789783',\n",
      "                     'https://domo-support.domo.com/s/article/360047403773',\n",
      "                     'https://domo-support.domo.com/s/article/360046860074',\n",
      "                     'https://domo-support.domo.com/s/article/360043440033',\n",
      "                     'https://domo-support.domo.com/s/article/360057028974',\n",
      "                     'https://domo-support.domo.com/s/article/360043436353',\n",
      "                     'https://domo-support.domo.com/s/article/360043440353',\n",
      "                     'https://domo-support.domo.com/s/article/360043436733',\n",
      "                     'https://domo-support.domo.com/s/article/4407022083351',\n",
      "                     'https://domo-support.domo.com/s/article/360043436493',\n",
      "                     'https://domo-support.domo.com/s/article/360042924354',\n",
      "                     'https://domo-support.domo.com/s/article/360042931914',\n",
      "                     'https://domo-support.domo.com/s/article/360058755394',\n",
      "                     'https://domo-support.domo.com/s/article/4403895116823',\n",
      "                     'https://domo-support.domo.com/s/article/360042931974',\n",
      "                     'https://domo-support.domo.com/s/article/360042924554',\n",
      "                     'https://domo-support.domo.com/s/article/8182790816791',\n",
      "                     'https://domo-support.domo.com/s/article/360045402273',\n",
      "                     'https://domo-support.domo.com/s/article/360058716553',\n",
      "                     'https://domo-support.domo.com/s/article/360043436553',\n",
      "                     'https://domo-support.domo.com/s/article/360046750913',\n",
      "                     'https://domo-support.domo.com/s/article/360042931714',\n",
      "                     'https://domo-support.domo.com/s/article/5563069185815',\n",
      "                     'https://domo-support.domo.com/s/article/360052884873',\n",
      "                     'https://domo-support.domo.com/s/article/4403778037399',\n",
      "                     'https://domo-support.domo.com/s/article/360042932514',\n",
      "                     'https://domo-support.domo.com/s/article/360042925114',\n",
      "                     'https://domo-support.domo.com/s/article/360043429173',\n",
      "                     'https://domo-support.domo.com/s/article/360043437493',\n",
      "                     'https://domo-support.domo.com/s/article/360043437213',\n",
      "                     'https://domo-support.domo.com/s/article/4403099754903',\n",
      "                     'https://domo-support.domo.com/s/article/360042932054',\n",
      "                     'https://domo-support.domo.com/s/article/360042935314',\n",
      "                     'https://domo-support.domo.com/s/article/4405291644311',\n",
      "                     'https://domo-support.domo.com/s/article/360046864914',\n",
      "                     'https://domo-support.domo.com/s/article/8285678562327',\n",
      "                     'https://domo-support.domo.com/s/article/360043429593',\n",
      "                     'https://domo-support.domo.com/s/article/360043436753',\n",
      "                     'https://domo-support.domo.com/s/article/360046861474',\n",
      "                     'https://domo-support.domo.com/s/article/360043429133',\n",
      "                     'https://domo-support.domo.com/s/article/360061691114',\n",
      "                     'https://domo-support.domo.com/s/article/360047538593',\n",
      "                     'https://domo-support.domo.com/s/article/360042925294',\n",
      "                     'https://domo-support.domo.com/s/article/360047496273',\n",
      "                     'https://domo-support.domo.com/s/article/7856427956887',\n",
      "                     'https://domo-support.domo.com/s/article/360052122294',\n",
      "                     'https://domo-support.domo.com/s/article/360058904893',\n",
      "                     'https://domo-support.domo.com/s/article/7617841459223',\n",
      "                     'https://domo-support.domo.com/s/article/360047499793',\n",
      "                     'https://domo-support.domo.com/s/article/4407012139287',\n",
      "                     'https://domo-support.domo.com/s/article/360043428953',\n",
      "                     'https://domo-support.domo.com/s/article/360042924654',\n",
      "                     'https://domo-support.domo.com/s/article/360043428773',\n",
      "                     'https://domo-support.domo.com/s/article/5366610360983',\n",
      "                     'https://domo-support.domo.com/s/article/360043429393',\n",
      "                     'https://domo-support.domo.com/s/article/360043436193',\n",
      "                     'https://domo-support.domo.com/s/article/360043429313',\n",
      "                     'https://domo-support.domo.com/s/article/360042935694',\n",
      "                     'https://domo-support.domo.com/s/article/360046762634',\n",
      "                     'https://domo-support.domo.com/s/article/360042924434',\n",
      "                     'https://domo-support.domo.com/s/article/4421855169943',\n",
      "                     'https://domo-support.domo.com/s/article/360058903653',\n",
      "                     'https://domo-support.domo.com/s/article/360052722114',\n",
      "                     'https://domo-support.domo.com/s/article/360043436593',\n",
      "                     'https://domo-support.domo.com/s/article/360043436973',\n",
      "                     'https://domo-support.domo.com/s/article/360058891393',\n",
      "                     'https://domo-support.domo.com/s/article/360042932014',\n",
      "                     'https://domo-support.domo.com/s/article/360042935434',\n",
      "                     'https://domo-support.domo.com/s/article/360060508773',\n",
      "                     'https://domo-support.domo.com/s/article/360047501293',\n",
      "                     'https://domo-support.domo.com/s/article/360042924334',\n",
      "                     'https://domo-support.domo.com/s/article/360043436953',\n",
      "                     'https://domo-support.domo.com/s/article/1500000285521']}\n",
      "💤 retrieving https://domo-support.domo.com/s/article/360043429093 💤\n"
     ]
    },
    {
     "name": "stderr",
     "output_type": "stream",
     "text": [
      "2023-05-01 15:59:58,153 INFO:Crawling: https://domo-support.domo.com/s/article/1500001388361\n"
     ]
    },
    {
     "name": "stdout",
     "output_type": "stream",
     "text": [
      "done processing https://domo-support.domo.com/s/article/360043429093\n",
      "💤 retrieving https://domo-support.domo.com/s/article/1500001388361 💤\n"
     ]
    },
    {
     "name": "stderr",
     "output_type": "stream",
     "text": [
      "2023-05-01 16:00:01,443 INFO:Crawling: https://domo-support.domo.com/s/article/360043427993\n"
     ]
    },
    {
     "name": "stdout",
     "output_type": "stream",
     "text": [
      "done processing https://domo-support.domo.com/s/article/1500001388361\n",
      "💤 retrieving https://domo-support.domo.com/s/article/360043427993 💤\n"
     ]
    },
    {
     "name": "stderr",
     "output_type": "stream",
     "text": [
      "2023-05-01 16:00:04,137 INFO:Crawling: https://domo-support.domo.com/s/article/360043436513\n"
     ]
    },
    {
     "name": "stdout",
     "output_type": "stream",
     "text": [
      "done processing https://domo-support.domo.com/s/article/360043427993\n",
      "💤 retrieving https://domo-support.domo.com/s/article/360043436513 💤\n"
     ]
    },
    {
     "name": "stderr",
     "output_type": "stream",
     "text": [
      "2023-05-01 16:00:06,804 INFO:Crawling: https://domo-support.domo.com/s/article/360042923874\n"
     ]
    },
    {
     "name": "stdout",
     "output_type": "stream",
     "text": [
      "done processing https://domo-support.domo.com/s/article/360043436513\n",
      "💤 retrieving https://domo-support.domo.com/s/article/360042923874 💤\n"
     ]
    },
    {
     "name": "stderr",
     "output_type": "stream",
     "text": [
      "2023-05-01 16:00:10,444 INFO:Crawling: https://domo-support.domo.com/s/article/360043428053\n"
     ]
    },
    {
     "name": "stdout",
     "output_type": "stream",
     "text": [
      "done processing https://domo-support.domo.com/s/article/360042923874\n",
      "💤 retrieving https://domo-support.domo.com/s/article/360043428053 💤\n"
     ]
    },
    {
     "name": "stderr",
     "output_type": "stream",
     "text": [
      "2023-05-01 16:00:13,092 INFO:Crawling: https://domo-support.domo.com/s/article/360042932654\n"
     ]
    },
    {
     "name": "stdout",
     "output_type": "stream",
     "text": [
      "done processing https://domo-support.domo.com/s/article/360043428053\n",
      "💤 retrieving https://domo-support.domo.com/s/article/360042932654 💤\n"
     ]
    },
    {
     "name": "stderr",
     "output_type": "stream",
     "text": [
      "2023-05-01 16:00:16,398 INFO:Crawling: https://domo-support.domo.com/s/article/360042932214\n"
     ]
    },
    {
     "name": "stdout",
     "output_type": "stream",
     "text": [
      "done processing https://domo-support.domo.com/s/article/360042932654\n",
      "💤 retrieving https://domo-support.domo.com/s/article/360042932214 💤\n"
     ]
    },
    {
     "name": "stderr",
     "output_type": "stream",
     "text": [
      "2023-05-01 16:00:19,659 INFO:Crawling: https://domo-support.domo.com/s/article/4407021587735\n"
     ]
    },
    {
     "name": "stdout",
     "output_type": "stream",
     "text": [
      "done processing https://domo-support.domo.com/s/article/360042932214\n",
      "💤 retrieving https://domo-support.domo.com/s/article/4407021587735 💤\n"
     ]
    },
    {
     "name": "stderr",
     "output_type": "stream",
     "text": [
      "2023-05-01 16:00:22,822 INFO:Crawling: https://domo-support.domo.com/s/article/360052105454\n"
     ]
    },
    {
     "name": "stdout",
     "output_type": "stream",
     "text": [
      "done processing https://domo-support.domo.com/s/article/4407021587735\n",
      "💤 retrieving https://domo-support.domo.com/s/article/360052105454 💤\n"
     ]
    },
    {
     "name": "stderr",
     "output_type": "stream",
     "text": [
      "2023-05-01 16:00:25,434 INFO:Crawling: https://domo-support.domo.com/s/article/360043878994\n"
     ]
    },
    {
     "name": "stdout",
     "output_type": "stream",
     "text": [
      "done processing https://domo-support.domo.com/s/article/360052105454\n",
      "💤 retrieving https://domo-support.domo.com/s/article/360043878994 💤\n"
     ]
    },
    {
     "name": "stderr",
     "output_type": "stream",
     "text": [
      "2023-05-01 16:00:28,004 INFO:Crawling: https://domo-support.domo.com/s/article/360042932854\n"
     ]
    },
    {
     "name": "stdout",
     "output_type": "stream",
     "text": [
      "done processing https://domo-support.domo.com/s/article/360043878994\n",
      "💤 retrieving https://domo-support.domo.com/s/article/360042932854 💤\n"
     ]
    },
    {
     "name": "stderr",
     "output_type": "stream",
     "text": [
      "2023-05-01 16:00:31,196 INFO:Crawling: https://domo-support.domo.com/s/article/360042934354\n"
     ]
    },
    {
     "name": "stdout",
     "output_type": "stream",
     "text": [
      "done processing https://domo-support.domo.com/s/article/360042932854\n",
      "💤 retrieving https://domo-support.domo.com/s/article/360042934354 💤\n"
     ]
    },
    {
     "name": "stderr",
     "output_type": "stream",
     "text": [
      "2023-05-01 16:00:33,726 INFO:Crawling: https://domo-support.domo.com/s/article/360043429373\n"
     ]
    },
    {
     "name": "stdout",
     "output_type": "stream",
     "text": [
      "done processing https://domo-support.domo.com/s/article/360042934354\n",
      "💤 retrieving https://domo-support.domo.com/s/article/360043429373 💤\n"
     ]
    },
    {
     "name": "stderr",
     "output_type": "stream",
     "text": [
      "2023-05-01 16:00:36,269 INFO:Crawling: https://domo-support.domo.com/s/article/360057013754\n"
     ]
    },
    {
     "name": "stdout",
     "output_type": "stream",
     "text": [
      "done processing https://domo-support.domo.com/s/article/360043429373\n",
      "💤 retrieving https://domo-support.domo.com/s/article/360057013754 💤\n"
     ]
    },
    {
     "name": "stderr",
     "output_type": "stream",
     "text": [
      "2023-05-01 16:00:38,905 INFO:Crawling: https://domo-support.domo.com/s/article/360046860834\n"
     ]
    },
    {
     "name": "stdout",
     "output_type": "stream",
     "text": [
      "done processing https://domo-support.domo.com/s/article/360057013754\n",
      "💤 retrieving https://domo-support.domo.com/s/article/360046860834 💤\n"
     ]
    },
    {
     "name": "stderr",
     "output_type": "stream",
     "text": [
      "2023-05-01 16:00:41,525 INFO:Crawling: https://domo-support.domo.com/s/article/360042932134\n"
     ]
    },
    {
     "name": "stdout",
     "output_type": "stream",
     "text": [
      "done processing https://domo-support.domo.com/s/article/360046860834\n",
      "💤 retrieving https://domo-support.domo.com/s/article/360042932134 💤\n"
     ]
    },
    {
     "name": "stderr",
     "output_type": "stream",
     "text": [
      "2023-05-01 16:00:44,051 INFO:Crawling: https://domo-support.domo.com/s/article/360043439833\n"
     ]
    },
    {
     "name": "stdout",
     "output_type": "stream",
     "text": [
      "done processing https://domo-support.domo.com/s/article/360042932134\n",
      "💤 retrieving https://domo-support.domo.com/s/article/360043439833 💤\n"
     ]
    },
    {
     "name": "stderr",
     "output_type": "stream",
     "text": [
      "2023-05-01 16:00:46,599 INFO:Crawling: https://domo-support.domo.com/s/article/360042927634\n"
     ]
    },
    {
     "name": "stdout",
     "output_type": "stream",
     "text": [
      "done processing https://domo-support.domo.com/s/article/360043439833\n",
      "💤 retrieving https://domo-support.domo.com/s/article/360042927634 💤\n"
     ]
    },
    {
     "name": "stderr",
     "output_type": "stream",
     "text": [
      "2023-05-01 16:00:49,257 INFO:Crawling: https://domo-support.domo.com/s/article/360043437253\n"
     ]
    },
    {
     "name": "stdout",
     "output_type": "stream",
     "text": [
      "done processing https://domo-support.domo.com/s/article/360042927634\n",
      "💤 retrieving https://domo-support.domo.com/s/article/360043437253 💤\n"
     ]
    },
    {
     "name": "stderr",
     "output_type": "stream",
     "text": [
      "2023-05-01 16:00:52,299 INFO:Crawling: https://domo-support.domo.com/s/article/360045259294\n"
     ]
    },
    {
     "name": "stdout",
     "output_type": "stream",
     "text": [
      "done processing https://domo-support.domo.com/s/article/360043437253\n",
      "💤 retrieving https://domo-support.domo.com/s/article/360045259294 💤\n"
     ]
    },
    {
     "name": "stderr",
     "output_type": "stream",
     "text": [
      "2023-05-01 16:00:55,445 INFO:Crawling: https://domo-support.domo.com/s/article/360042933274\n"
     ]
    },
    {
     "name": "stdout",
     "output_type": "stream",
     "text": [
      "done processing https://domo-support.domo.com/s/article/360045259294\n",
      "💤 retrieving https://domo-support.domo.com/s/article/360042933274 💤\n"
     ]
    },
    {
     "name": "stderr",
     "output_type": "stream",
     "text": [
      "2023-05-01 16:01:11,632 ERROR:Failed to crawl: https://domo-support.domo.com/s/article/360042933274\n",
      "Traceback (most recent call last):\n",
      "  File \"C:\\Users\\jaewi\\AppData\\Local\\Temp\\ipykernel_24296\\2782779626.py\", line 131, in run\n",
      "    is_visited = self.crawl(url, debug_prn)\n",
      "                 ^^^^^^^^^^^^^^^^^^^^^^^^^^\n",
      "  File \"C:\\Users\\jaewi\\AppData\\Local\\Temp\\ipykernel_24296\\2782779626.py\", line 115, in crawl\n",
      "    [self.add_url_to_visit(url=url, debug_prn=debug_prn) for url in url_ls]\n",
      "TypeError: 'NoneType' object is not iterable\n",
      "2023-05-01 16:01:11,634 INFO:Crawling: https://domo-support.domo.com/s/article/360042924134\n"
     ]
    },
    {
     "name": "stdout",
     "output_type": "stream",
     "text": [
      "ERROR: Message: \n",
      " -  https://domo-support.domo.com/s/article/360042933274 failed to load page within 15 seconds.  is the element represented in the element list?\n",
      "done processing https://domo-support.domo.com/s/article/360042933274\n",
      "💤 retrieving https://domo-support.domo.com/s/article/360042924134 💤\n"
     ]
    },
    {
     "name": "stderr",
     "output_type": "stream",
     "text": [
      "2023-05-01 16:01:14,837 INFO:Crawling: https://domo-support.domo.com/s/article/360043429193\n"
     ]
    },
    {
     "name": "stdout",
     "output_type": "stream",
     "text": [
      "done processing https://domo-support.domo.com/s/article/360042924134\n",
      "💤 retrieving https://domo-support.domo.com/s/article/360043429193 💤\n"
     ]
    },
    {
     "name": "stderr",
     "output_type": "stream",
     "text": [
      "2023-05-01 16:01:17,378 INFO:Crawling: https://domo-support.domo.com/s/article/8656674995991\n"
     ]
    },
    {
     "name": "stdout",
     "output_type": "stream",
     "text": [
      "done processing https://domo-support.domo.com/s/article/360043429193\n",
      "💤 retrieving https://domo-support.domo.com/s/article/8656674995991 💤\n"
     ]
    },
    {
     "name": "stderr",
     "output_type": "stream",
     "text": [
      "2023-05-01 16:01:20,677 INFO:Crawling: https://domo-support.domo.com/s/article/7593173476759\n"
     ]
    },
    {
     "name": "stdout",
     "output_type": "stream",
     "text": [
      "done processing https://domo-support.domo.com/s/article/8656674995991\n",
      "💤 retrieving https://domo-support.domo.com/s/article/7593173476759 💤\n"
     ]
    },
    {
     "name": "stderr",
     "output_type": "stream",
     "text": [
      "2023-05-01 16:01:23,265 INFO:Crawling: https://domo-support.domo.com/s/article/360043428673\n"
     ]
    },
    {
     "name": "stdout",
     "output_type": "stream",
     "text": [
      "done processing https://domo-support.domo.com/s/article/7593173476759\n",
      "💤 retrieving https://domo-support.domo.com/s/article/360043428673 💤\n"
     ]
    },
    {
     "name": "stderr",
     "output_type": "stream",
     "text": [
      "2023-05-01 16:01:26,457 INFO:Crawling: https://domo-support.domo.com/s/article/360059173794\n"
     ]
    },
    {
     "name": "stdout",
     "output_type": "stream",
     "text": [
      "done processing https://domo-support.domo.com/s/article/360043428673\n",
      "💤 retrieving https://domo-support.domo.com/s/article/360059173794 💤\n"
     ]
    },
    {
     "name": "stderr",
     "output_type": "stream",
     "text": [
      "2023-05-01 16:01:29,768 INFO:Crawling: https://domo-support.domo.com/s/article/360042923894\n"
     ]
    },
    {
     "name": "stdout",
     "output_type": "stream",
     "text": [
      "done processing https://domo-support.domo.com/s/article/360059173794\n",
      "💤 retrieving https://domo-support.domo.com/s/article/360042923894 💤\n"
     ]
    },
    {
     "name": "stderr",
     "output_type": "stream",
     "text": [
      "2023-05-01 16:01:45,835 ERROR:Failed to crawl: https://domo-support.domo.com/s/article/360042923894\n",
      "Traceback (most recent call last):\n",
      "  File \"C:\\Users\\jaewi\\AppData\\Local\\Temp\\ipykernel_24296\\2782779626.py\", line 131, in run\n",
      "    is_visited = self.crawl(url, debug_prn)\n",
      "                 ^^^^^^^^^^^^^^^^^^^^^^^^^^\n",
      "  File \"C:\\Users\\jaewi\\AppData\\Local\\Temp\\ipykernel_24296\\2782779626.py\", line 115, in crawl\n",
      "    [self.add_url_to_visit(url=url, debug_prn=debug_prn) for url in url_ls]\n",
      "TypeError: 'NoneType' object is not iterable\n",
      "2023-05-01 16:01:45,836 INFO:Crawling: https://domo-support.domo.com/s/article/000005122\n"
     ]
    },
    {
     "name": "stdout",
     "output_type": "stream",
     "text": [
      "ERROR: Message: \n",
      " -  https://domo-support.domo.com/s/article/360042923894 failed to load page within 15 seconds.  is the element represented in the element list?\n",
      "done processing https://domo-support.domo.com/s/article/360042923894\n",
      "💤 retrieving https://domo-support.domo.com/s/article/000005122 💤\n"
     ]
    },
    {
     "name": "stderr",
     "output_type": "stream",
     "text": [
      "2023-05-01 16:01:48,611 INFO:Crawling: https://domo-support.domo.com/s/article/360042932114\n"
     ]
    },
    {
     "name": "stdout",
     "output_type": "stream",
     "text": [
      "done processing https://domo-support.domo.com/s/article/000005122\n",
      "💤 retrieving https://domo-support.domo.com/s/article/360042932114 💤\n"
     ]
    },
    {
     "name": "stderr",
     "output_type": "stream",
     "text": [
      "2023-05-01 16:01:51,765 INFO:Crawling: https://domo-support.domo.com/s/article/360043436013\n"
     ]
    },
    {
     "name": "stdout",
     "output_type": "stream",
     "text": [
      "done processing https://domo-support.domo.com/s/article/360042932114\n",
      "💤 retrieving https://domo-support.domo.com/s/article/360043436013 💤\n"
     ]
    },
    {
     "name": "stderr",
     "output_type": "stream",
     "text": [
      "2023-05-01 16:02:08,815 ERROR:Failed to crawl: https://domo-support.domo.com/s/article/360043436013\n",
      "Traceback (most recent call last):\n",
      "  File \"C:\\Users\\jaewi\\AppData\\Local\\Temp\\ipykernel_24296\\2782779626.py\", line 131, in run\n",
      "    is_visited = self.crawl(url, debug_prn)\n",
      "                 ^^^^^^^^^^^^^^^^^^^^^^^^^^\n",
      "  File \"C:\\Users\\jaewi\\AppData\\Local\\Temp\\ipykernel_24296\\2782779626.py\", line 115, in crawl\n",
      "    [self.add_url_to_visit(url=url, debug_prn=debug_prn) for url in url_ls]\n",
      "TypeError: 'NoneType' object is not iterable\n",
      "2023-05-01 16:02:08,816 INFO:Crawling: https://domo-support.domo.com/s/article/360042931874\n"
     ]
    },
    {
     "name": "stdout",
     "output_type": "stream",
     "text": [
      "ERROR: Message: \n",
      " -  https://domo-support.domo.com/s/article/360043436013 failed to load page within 15 seconds.  is the element represented in the element list?\n",
      "done processing https://domo-support.domo.com/s/article/360043436013\n",
      "💤 retrieving https://domo-support.domo.com/s/article/360042931874 💤\n"
     ]
    },
    {
     "name": "stderr",
     "output_type": "stream",
     "text": [
      "2023-05-01 16:02:12,727 INFO:Crawling: https://domo-support.domo.com/s/article/360042924814\n"
     ]
    },
    {
     "name": "stdout",
     "output_type": "stream",
     "text": [
      "done processing https://domo-support.domo.com/s/article/360042931874\n",
      "💤 retrieving https://domo-support.domo.com/s/article/360042924814 💤\n"
     ]
    },
    {
     "name": "stderr",
     "output_type": "stream",
     "text": [
      "2023-05-01 16:02:15,820 INFO:Crawling: https://domo-support.domo.com/s/article/4409512475927\n"
     ]
    },
    {
     "name": "stdout",
     "output_type": "stream",
     "text": [
      "done processing https://domo-support.domo.com/s/article/360042924814\n",
      "💤 retrieving https://domo-support.domo.com/s/article/4409512475927 💤\n"
     ]
    },
    {
     "name": "stderr",
     "output_type": "stream",
     "text": [
      "2023-05-01 16:02:18,944 INFO:Crawling: https://domo-support.domo.com/s/article/360042935554\n"
     ]
    },
    {
     "name": "stdout",
     "output_type": "stream",
     "text": [
      "done processing https://domo-support.domo.com/s/article/4409512475927\n",
      "💤 retrieving https://domo-support.domo.com/s/article/360042935554 💤\n"
     ]
    },
    {
     "name": "stderr",
     "output_type": "stream",
     "text": [
      "2023-05-01 16:02:21,961 INFO:Crawling: https://domo-support.domo.com/s/article/000005138\n"
     ]
    },
    {
     "name": "stdout",
     "output_type": "stream",
     "text": [
      "done processing https://domo-support.domo.com/s/article/360042935554\n",
      "💤 retrieving https://domo-support.domo.com/s/article/000005138 💤\n"
     ]
    },
    {
     "name": "stderr",
     "output_type": "stream",
     "text": [
      "2023-05-01 16:02:25,011 INFO:Crawling: https://domo-support.domo.com/s/article/360042933194\n"
     ]
    },
    {
     "name": "stdout",
     "output_type": "stream",
     "text": [
      "done processing https://domo-support.domo.com/s/article/000005138\n",
      "💤 retrieving https://domo-support.domo.com/s/article/360042933194 💤\n"
     ]
    },
    {
     "name": "stderr",
     "output_type": "stream",
     "text": [
      "2023-05-01 16:02:41,072 ERROR:Failed to crawl: https://domo-support.domo.com/s/article/360042933194\n",
      "Traceback (most recent call last):\n",
      "  File \"C:\\Users\\jaewi\\AppData\\Local\\Temp\\ipykernel_24296\\2782779626.py\", line 131, in run\n",
      "    is_visited = self.crawl(url, debug_prn)\n",
      "                 ^^^^^^^^^^^^^^^^^^^^^^^^^^\n",
      "  File \"C:\\Users\\jaewi\\AppData\\Local\\Temp\\ipykernel_24296\\2782779626.py\", line 115, in crawl\n",
      "    [self.add_url_to_visit(url=url, debug_prn=debug_prn) for url in url_ls]\n",
      "TypeError: 'NoneType' object is not iterable\n",
      "2023-05-01 16:02:41,073 INFO:Crawling: https://domo-support.domo.com/s/article/360043433573\n"
     ]
    },
    {
     "name": "stdout",
     "output_type": "stream",
     "text": [
      "ERROR: Message: \n",
      " -  https://domo-support.domo.com/s/article/360042933194 failed to load page within 15 seconds.  is the element represented in the element list?\n",
      "done processing https://domo-support.domo.com/s/article/360042933194\n",
      "💤 retrieving https://domo-support.domo.com/s/article/360043433573 💤\n"
     ]
    },
    {
     "name": "stderr",
     "output_type": "stream",
     "text": [
      "2023-05-01 16:02:44,355 INFO:Crawling: https://domo-support.domo.com/s/article/360043437393\n"
     ]
    },
    {
     "name": "stdout",
     "output_type": "stream",
     "text": [
      "done processing https://domo-support.domo.com/s/article/360043433573\n",
      "💤 retrieving https://domo-support.domo.com/s/article/360043437393 💤\n"
     ]
    },
    {
     "name": "stderr",
     "output_type": "stream",
     "text": [
      "2023-05-01 16:02:47,034 INFO:Crawling: https://domo-support.domo.com/s/article/1500012178021\n"
     ]
    },
    {
     "name": "stdout",
     "output_type": "stream",
     "text": [
      "done processing https://domo-support.domo.com/s/article/360043437393\n",
      "💤 retrieving https://domo-support.domo.com/s/article/1500012178021 💤\n"
     ]
    },
    {
     "name": "stderr",
     "output_type": "stream",
     "text": [
      "2023-05-01 16:02:50,199 INFO:Crawling: https://domo-support.domo.com/s/article/360042924294\n"
     ]
    },
    {
     "name": "stdout",
     "output_type": "stream",
     "text": [
      "done processing https://domo-support.domo.com/s/article/1500012178021\n",
      "💤 retrieving https://domo-support.domo.com/s/article/360042924294 💤\n"
     ]
    },
    {
     "name": "stderr",
     "output_type": "stream",
     "text": [
      "2023-05-01 16:02:53,542 INFO:Crawling: https://domo-support.domo.com/s/article/360042924914\n"
     ]
    },
    {
     "name": "stdout",
     "output_type": "stream",
     "text": [
      "done processing https://domo-support.domo.com/s/article/360042924294\n",
      "💤 retrieving https://domo-support.domo.com/s/article/360042924914 💤\n"
     ]
    },
    {
     "name": "stderr",
     "output_type": "stream",
     "text": [
      "2023-05-01 16:02:56,993 INFO:Crawling: https://domo-support.domo.com/s/article/4407412515991\n"
     ]
    },
    {
     "name": "stdout",
     "output_type": "stream",
     "text": [
      "done processing https://domo-support.domo.com/s/article/360042924914\n",
      "💤 retrieving https://domo-support.domo.com/s/article/4407412515991 💤\n"
     ]
    },
    {
     "name": "stderr",
     "output_type": "stream",
     "text": [
      "2023-05-01 16:03:00,022 INFO:Crawling: https://domo-support.domo.com/s/article/360047499333\n"
     ]
    },
    {
     "name": "stdout",
     "output_type": "stream",
     "text": [
      "done processing https://domo-support.domo.com/s/article/4407412515991\n",
      "💤 retrieving https://domo-support.domo.com/s/article/360047499333 💤\n"
     ]
    },
    {
     "name": "stderr",
     "output_type": "stream",
     "text": [
      "2023-05-01 16:03:03,164 INFO:Crawling: https://domo-support.domo.com/s/article/8276764172951\n"
     ]
    },
    {
     "name": "stdout",
     "output_type": "stream",
     "text": [
      "done processing https://domo-support.domo.com/s/article/360047499333\n",
      "💤 retrieving https://domo-support.domo.com/s/article/8276764172951 💤\n"
     ]
    },
    {
     "name": "stderr",
     "output_type": "stream",
     "text": [
      "2023-05-01 16:03:06,263 INFO:Crawling: https://domo-support.domo.com/s/article/360043437073\n"
     ]
    },
    {
     "name": "stdout",
     "output_type": "stream",
     "text": [
      "done processing https://domo-support.domo.com/s/article/8276764172951\n",
      "💤 retrieving https://domo-support.domo.com/s/article/360043437073 💤\n"
     ]
    },
    {
     "name": "stderr",
     "output_type": "stream",
     "text": [
      "2023-05-01 16:03:09,169 INFO:Crawling: https://domo-support.domo.com/s/article/1500000216241\n"
     ]
    },
    {
     "name": "stdout",
     "output_type": "stream",
     "text": [
      "done processing https://domo-support.domo.com/s/article/360043437073\n",
      "💤 retrieving https://domo-support.domo.com/s/article/1500000216241 💤\n"
     ]
    },
    {
     "name": "stderr",
     "output_type": "stream",
     "text": [
      "2023-05-01 16:03:12,237 INFO:Crawling: https://domo-support.domo.com/s/article/360042935334\n"
     ]
    },
    {
     "name": "stdout",
     "output_type": "stream",
     "text": [
      "done processing https://domo-support.domo.com/s/article/1500000216241\n",
      "💤 retrieving https://domo-support.domo.com/s/article/360042935334 💤\n"
     ]
    },
    {
     "name": "stderr",
     "output_type": "stream",
     "text": [
      "2023-05-01 16:03:28,202 ERROR:Failed to crawl: https://domo-support.domo.com/s/article/360042935334\n",
      "Traceback (most recent call last):\n",
      "  File \"C:\\Users\\jaewi\\AppData\\Local\\Temp\\ipykernel_24296\\2782779626.py\", line 131, in run\n",
      "    is_visited = self.crawl(url, debug_prn)\n",
      "                 ^^^^^^^^^^^^^^^^^^^^^^^^^^\n",
      "  File \"C:\\Users\\jaewi\\AppData\\Local\\Temp\\ipykernel_24296\\2782779626.py\", line 115, in crawl\n",
      "    [self.add_url_to_visit(url=url, debug_prn=debug_prn) for url in url_ls]\n",
      "TypeError: 'NoneType' object is not iterable\n",
      "2023-05-01 16:03:28,203 INFO:Crawling: https://domo-support.domo.com/s/article/360043437413\n"
     ]
    },
    {
     "name": "stdout",
     "output_type": "stream",
     "text": [
      "ERROR: Message: \n",
      " -  https://domo-support.domo.com/s/article/360042935334 failed to load page within 15 seconds.  is the element represented in the element list?\n",
      "done processing https://domo-support.domo.com/s/article/360042935334\n",
      "💤 retrieving https://domo-support.domo.com/s/article/360043437413 💤\n"
     ]
    },
    {
     "name": "stderr",
     "output_type": "stream",
     "text": [
      "2023-05-01 16:03:31,683 INFO:Crawling: https://domo-support.domo.com/s/article/360046856934\n"
     ]
    },
    {
     "name": "stdout",
     "output_type": "stream",
     "text": [
      "done processing https://domo-support.domo.com/s/article/360043437413\n",
      "💤 retrieving https://domo-support.domo.com/s/article/360046856934 💤\n"
     ]
    },
    {
     "name": "stderr",
     "output_type": "stream",
     "text": [
      "2023-05-01 16:03:34,814 INFO:Crawling: https://domo-support.domo.com/s/article/000005095\n"
     ]
    },
    {
     "name": "stdout",
     "output_type": "stream",
     "text": [
      "done processing https://domo-support.domo.com/s/article/360046856934\n",
      "💤 retrieving https://domo-support.domo.com/s/article/000005095 💤\n"
     ]
    },
    {
     "name": "stderr",
     "output_type": "stream",
     "text": [
      "2023-05-01 16:03:37,613 INFO:Crawling: https://domo-support.domo.com/s/article/360057014334\n"
     ]
    },
    {
     "name": "stdout",
     "output_type": "stream",
     "text": [
      "done processing https://domo-support.domo.com/s/article/000005095\n",
      "💤 retrieving https://domo-support.domo.com/s/article/360057014334 💤\n"
     ]
    },
    {
     "name": "stderr",
     "output_type": "stream",
     "text": [
      "2023-05-01 16:03:40,732 INFO:Crawling: https://domo-support.domo.com/s/article/360057028014\n"
     ]
    },
    {
     "name": "stdout",
     "output_type": "stream",
     "text": [
      "done processing https://domo-support.domo.com/s/article/360057014334\n",
      "💤 retrieving https://domo-support.domo.com/s/article/360057028014 💤\n"
     ]
    },
    {
     "name": "stderr",
     "output_type": "stream",
     "text": [
      "2023-05-01 16:03:43,797 INFO:Crawling: https://domo-support.domo.com/s/article/360043427633\n"
     ]
    },
    {
     "name": "stdout",
     "output_type": "stream",
     "text": [
      "done processing https://domo-support.domo.com/s/article/360057028014\n",
      "💤 retrieving https://domo-support.domo.com/s/article/360043427633 💤\n"
     ]
    },
    {
     "name": "stderr",
     "output_type": "stream",
     "text": [
      "2023-05-01 16:03:59,978 ERROR:Failed to crawl: https://domo-support.domo.com/s/article/360043427633\n",
      "Traceback (most recent call last):\n",
      "  File \"C:\\Users\\jaewi\\AppData\\Local\\Temp\\ipykernel_24296\\2782779626.py\", line 131, in run\n",
      "    is_visited = self.crawl(url, debug_prn)\n",
      "                 ^^^^^^^^^^^^^^^^^^^^^^^^^^\n",
      "  File \"C:\\Users\\jaewi\\AppData\\Local\\Temp\\ipykernel_24296\\2782779626.py\", line 115, in crawl\n",
      "    [self.add_url_to_visit(url=url, debug_prn=debug_prn) for url in url_ls]\n",
      "TypeError: 'NoneType' object is not iterable\n",
      "2023-05-01 16:03:59,978 INFO:Crawling: https://domo-support.domo.com/s/article/360043436153\n"
     ]
    },
    {
     "name": "stdout",
     "output_type": "stream",
     "text": [
      "ERROR: Message: \n",
      " -  https://domo-support.domo.com/s/article/360043427633 failed to load page within 15 seconds.  is the element represented in the element list?\n",
      "done processing https://domo-support.domo.com/s/article/360043427633\n",
      "💤 retrieving https://domo-support.domo.com/s/article/360043436153 💤\n"
     ]
    },
    {
     "name": "stderr",
     "output_type": "stream",
     "text": [
      "2023-05-01 16:04:03,543 INFO:Crawling: https://domo-support.domo.com/s/article/360042925394\n"
     ]
    },
    {
     "name": "stdout",
     "output_type": "stream",
     "text": [
      "done processing https://domo-support.domo.com/s/article/360043436153\n",
      "💤 retrieving https://domo-support.domo.com/s/article/360042925394 💤\n"
     ]
    },
    {
     "name": "stderr",
     "output_type": "stream",
     "text": [
      "2023-05-01 16:04:07,291 INFO:Crawling: https://domo-support.domo.com/s/article/8041126473367\n"
     ]
    },
    {
     "name": "stdout",
     "output_type": "stream",
     "text": [
      "done processing https://domo-support.domo.com/s/article/360042925394\n",
      "💤 retrieving https://domo-support.domo.com/s/article/8041126473367 💤\n"
     ]
    },
    {
     "name": "stderr",
     "output_type": "stream",
     "text": [
      "2023-05-01 16:04:10,096 INFO:Crawling: https://domo-support.domo.com/s/article/5729516441367\n"
     ]
    },
    {
     "name": "stdout",
     "output_type": "stream",
     "text": [
      "done processing https://domo-support.domo.com/s/article/8041126473367\n",
      "💤 retrieving https://domo-support.domo.com/s/article/5729516441367 💤\n"
     ]
    },
    {
     "name": "stderr",
     "output_type": "stream",
     "text": [
      "2023-05-01 16:04:12,632 INFO:Crawling: https://domo-support.domo.com/s/article/1500000555201\n"
     ]
    },
    {
     "name": "stdout",
     "output_type": "stream",
     "text": [
      "done processing https://domo-support.domo.com/s/article/5729516441367\n",
      "💤 retrieving https://domo-support.domo.com/s/article/1500000555201 💤\n"
     ]
    },
    {
     "name": "stderr",
     "output_type": "stream",
     "text": [
      "2023-05-01 16:04:15,238 INFO:Crawling: https://domo-support.domo.com/s/article/360042932234\n"
     ]
    },
    {
     "name": "stdout",
     "output_type": "stream",
     "text": [
      "done processing https://domo-support.domo.com/s/article/1500000555201\n",
      "💤 retrieving https://domo-support.domo.com/s/article/360042932234 💤\n"
     ]
    },
    {
     "name": "stderr",
     "output_type": "stream",
     "text": [
      "2023-05-01 16:04:17,818 INFO:Crawling: https://domo-support.domo.com/s/article/360042926814\n"
     ]
    },
    {
     "name": "stdout",
     "output_type": "stream",
     "text": [
      "done processing https://domo-support.domo.com/s/article/360042932234\n",
      "💤 retrieving https://domo-support.domo.com/s/article/360042926814 💤\n"
     ]
    },
    {
     "name": "stderr",
     "output_type": "stream",
     "text": [
      "2023-05-01 16:04:34,150 ERROR:Failed to crawl: https://domo-support.domo.com/s/article/360042926814\n",
      "Traceback (most recent call last):\n",
      "  File \"C:\\Users\\jaewi\\AppData\\Local\\Temp\\ipykernel_24296\\2782779626.py\", line 131, in run\n",
      "    is_visited = self.crawl(url, debug_prn)\n",
      "                 ^^^^^^^^^^^^^^^^^^^^^^^^^^\n",
      "  File \"C:\\Users\\jaewi\\AppData\\Local\\Temp\\ipykernel_24296\\2782779626.py\", line 115, in crawl\n",
      "    [self.add_url_to_visit(url=url, debug_prn=debug_prn) for url in url_ls]\n",
      "TypeError: 'NoneType' object is not iterable\n",
      "2023-05-01 16:04:34,151 INFO:Crawling: https://domo-support.domo.com/s/article/360043440433\n"
     ]
    },
    {
     "name": "stdout",
     "output_type": "stream",
     "text": [
      "ERROR: Message: \n",
      " -  https://domo-support.domo.com/s/article/360042926814 failed to load page within 15 seconds.  is the element represented in the element list?\n",
      "done processing https://domo-support.domo.com/s/article/360042926814\n",
      "💤 retrieving https://domo-support.domo.com/s/article/360043440433 💤\n"
     ]
    },
    {
     "name": "stderr",
     "output_type": "stream",
     "text": [
      "2023-05-01 16:04:37,395 INFO:Crawling: https://domo-support.domo.com/s/article/360042931814\n"
     ]
    },
    {
     "name": "stdout",
     "output_type": "stream",
     "text": [
      "done processing https://domo-support.domo.com/s/article/360043440433\n",
      "💤 retrieving https://domo-support.domo.com/s/article/360042931814 💤\n"
     ]
    },
    {
     "name": "stderr",
     "output_type": "stream",
     "text": [
      "2023-05-01 16:04:40,009 INFO:Crawling: https://domo-support.domo.com/s/article/360057028694\n"
     ]
    },
    {
     "name": "stdout",
     "output_type": "stream",
     "text": [
      "done processing https://domo-support.domo.com/s/article/360042931814\n",
      "💤 retrieving https://domo-support.domo.com/s/article/360057028694 💤\n"
     ]
    },
    {
     "name": "stderr",
     "output_type": "stream",
     "text": [
      "2023-05-01 16:04:42,478 INFO:Crawling: https://domo-support.domo.com/s/article/360042932334\n"
     ]
    },
    {
     "name": "stdout",
     "output_type": "stream",
     "text": [
      "done processing https://domo-support.domo.com/s/article/360057028694\n",
      "💤 retrieving https://domo-support.domo.com/s/article/360042932334 💤\n"
     ]
    },
    {
     "name": "stderr",
     "output_type": "stream",
     "text": [
      "2023-05-01 16:04:45,481 INFO:Crawling: https://domo-support.domo.com/s/article/360042924854\n"
     ]
    },
    {
     "name": "stdout",
     "output_type": "stream",
     "text": [
      "done processing https://domo-support.domo.com/s/article/360042932334\n",
      "💤 retrieving https://domo-support.domo.com/s/article/360042924854 💤\n"
     ]
    },
    {
     "name": "stderr",
     "output_type": "stream",
     "text": [
      "2023-05-01 16:04:47,949 INFO:Crawling: https://domo-support.domo.com/s/article/360042925134\n"
     ]
    },
    {
     "name": "stdout",
     "output_type": "stream",
     "text": [
      "done processing https://domo-support.domo.com/s/article/360042924854\n",
      "💤 retrieving https://domo-support.domo.com/s/article/360042925134 💤\n"
     ]
    },
    {
     "name": "stderr",
     "output_type": "stream",
     "text": [
      "2023-05-01 16:04:51,259 INFO:Crawling: https://domo-support.domo.com/s/article/360043438913\n"
     ]
    },
    {
     "name": "stdout",
     "output_type": "stream",
     "text": [
      "done processing https://domo-support.domo.com/s/article/360042925134\n",
      "💤 retrieving https://domo-support.domo.com/s/article/360043438913 💤\n"
     ]
    },
    {
     "name": "stderr",
     "output_type": "stream",
     "text": [
      "2023-05-01 16:05:07,161 ERROR:Failed to crawl: https://domo-support.domo.com/s/article/360043438913\n",
      "Traceback (most recent call last):\n",
      "  File \"C:\\Users\\jaewi\\AppData\\Local\\Temp\\ipykernel_24296\\2782779626.py\", line 131, in run\n",
      "    is_visited = self.crawl(url, debug_prn)\n",
      "                 ^^^^^^^^^^^^^^^^^^^^^^^^^^\n",
      "  File \"C:\\Users\\jaewi\\AppData\\Local\\Temp\\ipykernel_24296\\2782779626.py\", line 115, in crawl\n",
      "    [self.add_url_to_visit(url=url, debug_prn=debug_prn) for url in url_ls]\n",
      "TypeError: 'NoneType' object is not iterable\n",
      "2023-05-01 16:05:07,163 INFO:Crawling: https://domo-support.domo.com/s/article/360042931734\n"
     ]
    },
    {
     "name": "stdout",
     "output_type": "stream",
     "text": [
      "ERROR: Message: \n",
      " -  https://domo-support.domo.com/s/article/360043438913 failed to load page within 15 seconds.  is the element represented in the element list?\n",
      "done processing https://domo-support.domo.com/s/article/360043438913\n",
      "💤 retrieving https://domo-support.domo.com/s/article/360042931734 💤\n"
     ]
    },
    {
     "name": "stderr",
     "output_type": "stream",
     "text": [
      "2023-05-01 16:05:09,912 INFO:Crawling: https://domo-support.domo.com/s/article/360042930514\n"
     ]
    },
    {
     "name": "stdout",
     "output_type": "stream",
     "text": [
      "done processing https://domo-support.domo.com/s/article/360042931734\n",
      "💤 retrieving https://domo-support.domo.com/s/article/360042930514 💤\n"
     ]
    },
    {
     "name": "stderr",
     "output_type": "stream",
     "text": [
      "2023-05-01 16:05:12,587 INFO:Crawling: https://domo-support.domo.com/s/article/360043428913\n"
     ]
    },
    {
     "name": "stdout",
     "output_type": "stream",
     "text": [
      "done processing https://domo-support.domo.com/s/article/360042930514\n",
      "💤 retrieving https://domo-support.domo.com/s/article/360043428913 💤\n"
     ]
    },
    {
     "name": "stderr",
     "output_type": "stream",
     "text": [
      "2023-05-01 16:05:15,899 INFO:Crawling: https://domo-support.domo.com/s/article/360043436133\n"
     ]
    },
    {
     "name": "stdout",
     "output_type": "stream",
     "text": [
      "done processing https://domo-support.domo.com/s/article/360043428913\n",
      "💤 retrieving https://domo-support.domo.com/s/article/360043436133 💤\n"
     ]
    },
    {
     "name": "stderr",
     "output_type": "stream",
     "text": [
      "2023-05-01 16:05:19,162 INFO:Crawling: https://domo-support.domo.com/s/article/360063090013\n"
     ]
    },
    {
     "name": "stdout",
     "output_type": "stream",
     "text": [
      "done processing https://domo-support.domo.com/s/article/360043436133\n",
      "💤 retrieving https://domo-support.domo.com/s/article/360063090013 💤\n"
     ]
    },
    {
     "name": "stderr",
     "output_type": "stream",
     "text": [
      "2023-05-01 16:05:22,731 INFO:Crawling: https://domo-support.domo.com/s/article/360042931634\n"
     ]
    },
    {
     "name": "stdout",
     "output_type": "stream",
     "text": [
      "done processing https://domo-support.domo.com/s/article/360063090013\n",
      "💤 retrieving https://domo-support.domo.com/s/article/360042931634 💤\n"
     ]
    },
    {
     "name": "stderr",
     "output_type": "stream",
     "text": [
      "2023-05-01 16:05:25,363 INFO:Crawling: https://domo-support.domo.com/s/article/360043432673\n"
     ]
    },
    {
     "name": "stdout",
     "output_type": "stream",
     "text": [
      "done processing https://domo-support.domo.com/s/article/360042931634\n",
      "💤 retrieving https://domo-support.domo.com/s/article/360043432673 💤\n"
     ]
    },
    {
     "name": "stderr",
     "output_type": "stream",
     "text": [
      "2023-05-01 16:05:28,381 INFO:Crawling: https://domo-support.domo.com/s/article/360042935194\n"
     ]
    },
    {
     "name": "stdout",
     "output_type": "stream",
     "text": [
      "done processing https://domo-support.domo.com/s/article/360043432673\n",
      "💤 retrieving https://domo-support.domo.com/s/article/360042935194 💤\n"
     ]
    },
    {
     "name": "stderr",
     "output_type": "stream",
     "text": [
      "2023-05-01 16:05:30,879 INFO:Crawling: https://domo-support.domo.com/s/article/4744010382871\n"
     ]
    },
    {
     "name": "stdout",
     "output_type": "stream",
     "text": [
      "done processing https://domo-support.domo.com/s/article/360042935194\n",
      "💤 retrieving https://domo-support.domo.com/s/article/4744010382871 💤\n"
     ]
    },
    {
     "name": "stderr",
     "output_type": "stream",
     "text": [
      "2023-05-01 16:05:33,564 INFO:Crawling: https://domo-support.domo.com/s/article/360043437173\n"
     ]
    },
    {
     "name": "stdout",
     "output_type": "stream",
     "text": [
      "done processing https://domo-support.domo.com/s/article/4744010382871\n",
      "💤 retrieving https://domo-support.domo.com/s/article/360043437173 💤\n"
     ]
    },
    {
     "name": "stderr",
     "output_type": "stream",
     "text": [
      "2023-05-01 16:05:36,629 INFO:Crawling: https://domo-support.domo.com/s/article/360043436473\n"
     ]
    },
    {
     "name": "stdout",
     "output_type": "stream",
     "text": [
      "done processing https://domo-support.domo.com/s/article/360043437173\n",
      "💤 retrieving https://domo-support.domo.com/s/article/360043436473 💤\n"
     ]
    },
    {
     "name": "stderr",
     "output_type": "stream",
     "text": [
      "2023-05-01 16:05:39,112 INFO:Crawling: https://domo-support.domo.com/s/article/360043429293\n"
     ]
    },
    {
     "name": "stdout",
     "output_type": "stream",
     "text": [
      "done processing https://domo-support.domo.com/s/article/360043436473\n",
      "💤 retrieving https://domo-support.domo.com/s/article/360043429293 💤\n"
     ]
    },
    {
     "name": "stderr",
     "output_type": "stream",
     "text": [
      "2023-05-01 16:05:41,609 INFO:Crawling: https://domo-support.domo.com/s/article/360042926294\n"
     ]
    },
    {
     "name": "stdout",
     "output_type": "stream",
     "text": [
      "done processing https://domo-support.domo.com/s/article/360043429293\n",
      "💤 retrieving https://domo-support.domo.com/s/article/360042926294 💤\n"
     ]
    },
    {
     "name": "stderr",
     "output_type": "stream",
     "text": [
      "2023-05-01 16:05:44,591 INFO:Crawling: https://domo-support.domo.com/s/article/360043436113\n"
     ]
    },
    {
     "name": "stdout",
     "output_type": "stream",
     "text": [
      "done processing https://domo-support.domo.com/s/article/360042926294\n",
      "💤 retrieving https://domo-support.domo.com/s/article/360043436113 💤\n"
     ]
    },
    {
     "name": "stderr",
     "output_type": "stream",
     "text": [
      "2023-05-01 16:05:47,071 INFO:Crawling: https://domo-support.domo.com/s/article/360042932034\n"
     ]
    },
    {
     "name": "stdout",
     "output_type": "stream",
     "text": [
      "done processing https://domo-support.domo.com/s/article/360043436113\n",
      "💤 retrieving https://domo-support.domo.com/s/article/360042932034 💤\n"
     ]
    },
    {
     "name": "stderr",
     "output_type": "stream",
     "text": [
      "2023-05-01 16:05:49,550 INFO:Crawling: https://domo-support.domo.com/s/article/360058892613\n"
     ]
    },
    {
     "name": "stdout",
     "output_type": "stream",
     "text": [
      "done processing https://domo-support.domo.com/s/article/360042932034\n",
      "💤 retrieving https://domo-support.domo.com/s/article/360058892613 💤\n"
     ]
    },
    {
     "name": "stderr",
     "output_type": "stream",
     "text": [
      "2023-05-01 16:05:52,091 INFO:Crawling: https://domo-support.domo.com/s/article/360044876094\n"
     ]
    },
    {
     "name": "stdout",
     "output_type": "stream",
     "text": [
      "done processing https://domo-support.domo.com/s/article/360058892613\n",
      "💤 retrieving https://domo-support.domo.com/s/article/360044876094 💤\n"
     ]
    },
    {
     "name": "stderr",
     "output_type": "stream",
     "text": [
      "2023-05-01 16:05:54,616 INFO:Crawling: https://domo-support.domo.com/s/article/360058892093\n"
     ]
    },
    {
     "name": "stdout",
     "output_type": "stream",
     "text": [
      "done processing https://domo-support.domo.com/s/article/360044876094\n",
      "💤 retrieving https://domo-support.domo.com/s/article/360058892093 💤\n"
     ]
    },
    {
     "name": "stderr",
     "output_type": "stream",
     "text": [
      "2023-05-01 16:06:10,430 ERROR:Failed to crawl: https://domo-support.domo.com/s/article/360058892093\n",
      "Traceback (most recent call last):\n",
      "  File \"C:\\Users\\jaewi\\AppData\\Local\\Temp\\ipykernel_24296\\2782779626.py\", line 131, in run\n",
      "    is_visited = self.crawl(url, debug_prn)\n",
      "                 ^^^^^^^^^^^^^^^^^^^^^^^^^^\n",
      "  File \"C:\\Users\\jaewi\\AppData\\Local\\Temp\\ipykernel_24296\\2782779626.py\", line 115, in crawl\n",
      "    [self.add_url_to_visit(url=url, debug_prn=debug_prn) for url in url_ls]\n",
      "TypeError: 'NoneType' object is not iterable\n",
      "2023-05-01 16:06:10,431 INFO:Crawling: https://domo-support.domo.com/s/article/4407027041431\n"
     ]
    },
    {
     "name": "stdout",
     "output_type": "stream",
     "text": [
      "ERROR: Message: \n",
      " -  https://domo-support.domo.com/s/article/360058892093 failed to load page within 15 seconds.  is the element represented in the element list?\n",
      "done processing https://domo-support.domo.com/s/article/360058892093\n",
      "💤 retrieving https://domo-support.domo.com/s/article/4407027041431 💤\n"
     ]
    },
    {
     "name": "stderr",
     "output_type": "stream",
     "text": [
      "2023-05-01 16:06:13,299 INFO:Crawling: https://domo-support.domo.com/s/article/360043428933\n"
     ]
    },
    {
     "name": "stdout",
     "output_type": "stream",
     "text": [
      "done processing https://domo-support.domo.com/s/article/4407027041431\n",
      "💤 retrieving https://domo-support.domo.com/s/article/360043428933 💤\n"
     ]
    },
    {
     "name": "stderr",
     "output_type": "stream",
     "text": [
      "2023-05-01 16:06:16,372 INFO:Crawling: https://domo-support.domo.com/s/article/360057028134\n"
     ]
    },
    {
     "name": "stdout",
     "output_type": "stream",
     "text": [
      "done processing https://domo-support.domo.com/s/article/360043428933\n",
      "💤 retrieving https://domo-support.domo.com/s/article/360057028134 💤\n"
     ]
    },
    {
     "name": "stderr",
     "output_type": "stream",
     "text": [
      "2023-05-01 16:06:19,049 INFO:Crawling: https://domo-support.domo.com/s/article/360042927334\n"
     ]
    },
    {
     "name": "stdout",
     "output_type": "stream",
     "text": [
      "done processing https://domo-support.domo.com/s/article/360057028134\n",
      "💤 retrieving https://domo-support.domo.com/s/article/360042927334 💤\n"
     ]
    },
    {
     "name": "stderr",
     "output_type": "stream",
     "text": [
      "2023-05-01 16:06:35,036 ERROR:Failed to crawl: https://domo-support.domo.com/s/article/360042927334\n",
      "Traceback (most recent call last):\n",
      "  File \"C:\\Users\\jaewi\\AppData\\Local\\Temp\\ipykernel_24296\\2782779626.py\", line 131, in run\n",
      "    is_visited = self.crawl(url, debug_prn)\n",
      "                 ^^^^^^^^^^^^^^^^^^^^^^^^^^\n",
      "  File \"C:\\Users\\jaewi\\AppData\\Local\\Temp\\ipykernel_24296\\2782779626.py\", line 115, in crawl\n",
      "    [self.add_url_to_visit(url=url, debug_prn=debug_prn) for url in url_ls]\n",
      "TypeError: 'NoneType' object is not iterable\n",
      "2023-05-01 16:06:35,037 INFO:Crawling: https://domo-support.domo.com/s/article/360042924974\n"
     ]
    },
    {
     "name": "stdout",
     "output_type": "stream",
     "text": [
      "ERROR: Message: \n",
      " -  https://domo-support.domo.com/s/article/360042927334 failed to load page within 15 seconds.  is the element represented in the element list?\n",
      "done processing https://domo-support.domo.com/s/article/360042927334\n",
      "💤 retrieving https://domo-support.domo.com/s/article/360042924974 💤\n"
     ]
    },
    {
     "name": "stderr",
     "output_type": "stream",
     "text": [
      "2023-05-01 16:06:37,907 INFO:Crawling: https://domo-support.domo.com/s/article/000005103\n"
     ]
    },
    {
     "name": "stdout",
     "output_type": "stream",
     "text": [
      "done processing https://domo-support.domo.com/s/article/360042924974\n",
      "💤 retrieving https://domo-support.domo.com/s/article/000005103 💤\n"
     ]
    },
    {
     "name": "stderr",
     "output_type": "stream",
     "text": [
      "2023-05-01 16:06:40,709 INFO:Crawling: https://domo-support.domo.com/s/article/360052122814\n"
     ]
    },
    {
     "name": "stdout",
     "output_type": "stream",
     "text": [
      "done processing https://domo-support.domo.com/s/article/000005103\n",
      "💤 retrieving https://domo-support.domo.com/s/article/360052122814 💤\n"
     ]
    },
    {
     "name": "stderr",
     "output_type": "stream",
     "text": [
      "2023-05-01 16:06:43,321 INFO:Crawling: https://domo-support.domo.com/s/article/360043430633\n"
     ]
    },
    {
     "name": "stdout",
     "output_type": "stream",
     "text": [
      "done processing https://domo-support.domo.com/s/article/360052122814\n",
      "💤 retrieving https://domo-support.domo.com/s/article/360043430633 💤\n"
     ]
    },
    {
     "name": "stderr",
     "output_type": "stream",
     "text": [
      "2023-05-01 16:06:59,593 ERROR:Failed to crawl: https://domo-support.domo.com/s/article/360043430633\n",
      "Traceback (most recent call last):\n",
      "  File \"C:\\Users\\jaewi\\AppData\\Local\\Temp\\ipykernel_24296\\2782779626.py\", line 131, in run\n",
      "    is_visited = self.crawl(url, debug_prn)\n",
      "                 ^^^^^^^^^^^^^^^^^^^^^^^^^^\n",
      "  File \"C:\\Users\\jaewi\\AppData\\Local\\Temp\\ipykernel_24296\\2782779626.py\", line 115, in crawl\n",
      "    [self.add_url_to_visit(url=url, debug_prn=debug_prn) for url in url_ls]\n",
      "TypeError: 'NoneType' object is not iterable\n",
      "2023-05-01 16:06:59,594 INFO:Crawling: https://domo-support.domo.com/s/article/360043437033\n"
     ]
    },
    {
     "name": "stdout",
     "output_type": "stream",
     "text": [
      "ERROR: Message: \n",
      " -  https://domo-support.domo.com/s/article/360043430633 failed to load page within 15 seconds.  is the element represented in the element list?\n",
      "done processing https://domo-support.domo.com/s/article/360043430633\n",
      "💤 retrieving https://domo-support.domo.com/s/article/360043437033 💤\n"
     ]
    },
    {
     "name": "stderr",
     "output_type": "stream",
     "text": [
      "2023-05-01 16:07:03,105 INFO:Crawling: https://domo-support.domo.com/s/article/8231039188375\n"
     ]
    },
    {
     "name": "stdout",
     "output_type": "stream",
     "text": [
      "done processing https://domo-support.domo.com/s/article/360043437033\n",
      "💤 retrieving https://domo-support.domo.com/s/article/8231039188375 💤\n"
     ]
    },
    {
     "name": "stderr",
     "output_type": "stream",
     "text": [
      "2023-05-01 16:07:05,833 INFO:Crawling: https://domo-support.domo.com/s/article/360047400753\n"
     ]
    },
    {
     "name": "stdout",
     "output_type": "stream",
     "text": [
      "done processing https://domo-support.domo.com/s/article/8231039188375\n",
      "💤 retrieving https://domo-support.domo.com/s/article/360047400753 💤\n"
     ]
    },
    {
     "name": "stderr",
     "output_type": "stream",
     "text": [
      "2023-05-01 16:07:21,751 ERROR:Failed to crawl: https://domo-support.domo.com/s/article/360047400753\n",
      "Traceback (most recent call last):\n",
      "  File \"C:\\Users\\jaewi\\AppData\\Local\\Temp\\ipykernel_24296\\2782779626.py\", line 131, in run\n",
      "    is_visited = self.crawl(url, debug_prn)\n",
      "                 ^^^^^^^^^^^^^^^^^^^^^^^^^^\n",
      "  File \"C:\\Users\\jaewi\\AppData\\Local\\Temp\\ipykernel_24296\\2782779626.py\", line 115, in crawl\n",
      "    [self.add_url_to_visit(url=url, debug_prn=debug_prn) for url in url_ls]\n",
      "TypeError: 'NoneType' object is not iterable\n",
      "2023-05-01 16:07:21,752 INFO:Crawling: https://domo-support.domo.com/s/article/4529058568855\n"
     ]
    },
    {
     "name": "stdout",
     "output_type": "stream",
     "text": [
      "ERROR: Message: \n",
      " -  https://domo-support.domo.com/s/article/360047400753 failed to load page within 15 seconds.  is the element represented in the element list?\n",
      "done processing https://domo-support.domo.com/s/article/360047400753\n",
      "💤 retrieving https://domo-support.domo.com/s/article/4529058568855 💤\n"
     ]
    },
    {
     "name": "stderr",
     "output_type": "stream",
     "text": [
      "2023-05-01 16:07:38,130 ERROR:Failed to crawl: https://domo-support.domo.com/s/article/4529058568855\n",
      "Traceback (most recent call last):\n",
      "  File \"C:\\Users\\jaewi\\AppData\\Local\\Temp\\ipykernel_24296\\2782779626.py\", line 131, in run\n",
      "    is_visited = self.crawl(url, debug_prn)\n",
      "                 ^^^^^^^^^^^^^^^^^^^^^^^^^^\n",
      "  File \"C:\\Users\\jaewi\\AppData\\Local\\Temp\\ipykernel_24296\\2782779626.py\", line 115, in crawl\n",
      "    [self.add_url_to_visit(url=url, debug_prn=debug_prn) for url in url_ls]\n",
      "TypeError: 'NoneType' object is not iterable\n",
      "2023-05-01 16:07:38,131 INFO:Crawling: https://domo-support.domo.com/s/article/360045485833\n"
     ]
    },
    {
     "name": "stdout",
     "output_type": "stream",
     "text": [
      "ERROR: Message: \n",
      " -  https://domo-support.domo.com/s/article/4529058568855 failed to load page within 15 seconds.  is the element represented in the element list?\n",
      "done processing https://domo-support.domo.com/s/article/4529058568855\n",
      "💤 retrieving https://domo-support.domo.com/s/article/360045485833 💤\n"
     ]
    },
    {
     "name": "stderr",
     "output_type": "stream",
     "text": [
      "2023-05-01 16:07:41,371 INFO:Crawling: https://domo-support.domo.com/s/article/360042932434\n"
     ]
    },
    {
     "name": "stdout",
     "output_type": "stream",
     "text": [
      "done processing https://domo-support.domo.com/s/article/360045485833\n",
      "💤 retrieving https://domo-support.domo.com/s/article/360042932434 💤\n"
     ]
    },
    {
     "name": "stderr",
     "output_type": "stream",
     "text": [
      "2023-05-01 16:07:44,563 INFO:Crawling: https://domo-support.domo.com/s/article/360043437153\n"
     ]
    },
    {
     "name": "stdout",
     "output_type": "stream",
     "text": [
      "done processing https://domo-support.domo.com/s/article/360042932434\n",
      "💤 retrieving https://domo-support.domo.com/s/article/360043437153 💤\n"
     ]
    },
    {
     "name": "stderr",
     "output_type": "stream",
     "text": [
      "2023-05-01 16:07:47,205 INFO:Crawling: https://domo-support.domo.com/s/article/360043429253\n"
     ]
    },
    {
     "name": "stdout",
     "output_type": "stream",
     "text": [
      "done processing https://domo-support.domo.com/s/article/360043437153\n",
      "💤 retrieving https://domo-support.domo.com/s/article/360043429253 💤\n"
     ]
    },
    {
     "name": "stderr",
     "output_type": "stream",
     "text": [
      "2023-05-01 16:07:49,761 INFO:Crawling: https://domo-support.domo.com/s/article/360042924414\n"
     ]
    },
    {
     "name": "stdout",
     "output_type": "stream",
     "text": [
      "done processing https://domo-support.domo.com/s/article/360043429253\n",
      "💤 retrieving https://domo-support.domo.com/s/article/360042924414 💤\n"
     ]
    },
    {
     "name": "stderr",
     "output_type": "stream",
     "text": [
      "2023-05-01 16:07:52,992 INFO:Crawling: https://domo-support.domo.com/s/article/360042931654\n"
     ]
    },
    {
     "name": "stdout",
     "output_type": "stream",
     "text": [
      "done processing https://domo-support.domo.com/s/article/360042924414\n",
      "💤 retrieving https://domo-support.domo.com/s/article/360042931654 💤\n"
     ]
    },
    {
     "name": "stderr",
     "output_type": "stream",
     "text": [
      "2023-05-01 16:07:55,744 INFO:Crawling: https://domo-support.domo.com/s/article/360047416773\n"
     ]
    },
    {
     "name": "stdout",
     "output_type": "stream",
     "text": [
      "done processing https://domo-support.domo.com/s/article/360042931654\n",
      "💤 retrieving https://domo-support.domo.com/s/article/360047416773 💤\n"
     ]
    },
    {
     "name": "stderr",
     "output_type": "stream",
     "text": [
      "2023-05-01 16:07:58,304 INFO:Crawling: https://domo-support.domo.com/s/article/360042931394\n"
     ]
    },
    {
     "name": "stdout",
     "output_type": "stream",
     "text": [
      "done processing https://domo-support.domo.com/s/article/360047416773\n",
      "💤 retrieving https://domo-support.domo.com/s/article/360042931394 💤\n"
     ]
    },
    {
     "name": "stderr",
     "output_type": "stream",
     "text": [
      "2023-05-01 16:08:00,867 INFO:Crawling: https://domo-support.domo.com/s/article/360042924154\n"
     ]
    },
    {
     "name": "stdout",
     "output_type": "stream",
     "text": [
      "done processing https://domo-support.domo.com/s/article/360042931394\n",
      "💤 retrieving https://domo-support.domo.com/s/article/360042924154 💤\n"
     ]
    },
    {
     "name": "stderr",
     "output_type": "stream",
     "text": [
      "2023-05-01 16:08:03,318 INFO:Crawling: https://domo-support.domo.com/s/article/4407023720343\n"
     ]
    },
    {
     "name": "stdout",
     "output_type": "stream",
     "text": [
      "done processing https://domo-support.domo.com/s/article/360042924154\n",
      "💤 retrieving https://domo-support.domo.com/s/article/4407023720343 💤\n"
     ]
    },
    {
     "name": "stderr",
     "output_type": "stream",
     "text": [
      "2023-05-01 16:08:05,865 INFO:Crawling: https://domo-support.domo.com/s/article/8283005822103\n"
     ]
    },
    {
     "name": "stdout",
     "output_type": "stream",
     "text": [
      "done processing https://domo-support.domo.com/s/article/4407023720343\n",
      "💤 retrieving https://domo-support.domo.com/s/article/8283005822103 💤\n"
     ]
    },
    {
     "name": "stderr",
     "output_type": "stream",
     "text": [
      "2023-05-01 16:08:08,373 INFO:Crawling: https://domo-support.domo.com/s/article/360061552054\n"
     ]
    },
    {
     "name": "stdout",
     "output_type": "stream",
     "text": [
      "done processing https://domo-support.domo.com/s/article/8283005822103\n",
      "💤 retrieving https://domo-support.domo.com/s/article/360061552054 💤\n"
     ]
    },
    {
     "name": "stderr",
     "output_type": "stream",
     "text": [
      "2023-05-01 16:08:10,869 INFO:Crawling: https://domo-support.domo.com/s/article/360060597953\n"
     ]
    },
    {
     "name": "stdout",
     "output_type": "stream",
     "text": [
      "done processing https://domo-support.domo.com/s/article/360061552054\n",
      "💤 retrieving https://domo-support.domo.com/s/article/360060597953 💤\n"
     ]
    },
    {
     "name": "stderr",
     "output_type": "stream",
     "text": [
      "2023-05-01 16:08:13,505 INFO:Crawling: https://domo-support.domo.com/s/article/360043434393\n"
     ]
    },
    {
     "name": "stdout",
     "output_type": "stream",
     "text": [
      "done processing https://domo-support.domo.com/s/article/360060597953\n",
      "💤 retrieving https://domo-support.domo.com/s/article/360043434393 💤\n"
     ]
    },
    {
     "name": "stderr",
     "output_type": "stream",
     "text": [
      "2023-05-01 16:08:15,974 INFO:Crawling: https://domo-support.domo.com/s/article/360058903753\n"
     ]
    },
    {
     "name": "stdout",
     "output_type": "stream",
     "text": [
      "done processing https://domo-support.domo.com/s/article/360043434393\n",
      "💤 retrieving https://domo-support.domo.com/s/article/360058903753 💤\n"
     ]
    },
    {
     "name": "stderr",
     "output_type": "stream",
     "text": [
      "2023-05-01 16:08:18,438 INFO:Crawling: https://domo-support.domo.com/s/article/360042924594\n"
     ]
    },
    {
     "name": "stdout",
     "output_type": "stream",
     "text": [
      "done processing https://domo-support.domo.com/s/article/360058903753\n",
      "💤 retrieving https://domo-support.domo.com/s/article/360042924594 💤\n"
     ]
    },
    {
     "name": "stderr",
     "output_type": "stream",
     "text": [
      "2023-05-01 16:08:20,938 INFO:Crawling: https://domo-support.domo.com/s/article/360043436173\n"
     ]
    },
    {
     "name": "stdout",
     "output_type": "stream",
     "text": [
      "done processing https://domo-support.domo.com/s/article/360042924594\n",
      "💤 retrieving https://domo-support.domo.com/s/article/360043436173 💤\n"
     ]
    },
    {
     "name": "stderr",
     "output_type": "stream",
     "text": [
      "2023-05-01 16:08:23,572 INFO:Crawling: https://domo-support.domo.com/s/article/360042931554\n"
     ]
    },
    {
     "name": "stdout",
     "output_type": "stream",
     "text": [
      "done processing https://domo-support.domo.com/s/article/360043436173\n",
      "💤 retrieving https://domo-support.domo.com/s/article/360042931554 💤\n"
     ]
    },
    {
     "name": "stderr",
     "output_type": "stream",
     "text": [
      "2023-05-01 16:08:26,098 INFO:Crawling: https://domo-support.domo.com/s/article/360043436993\n"
     ]
    },
    {
     "name": "stdout",
     "output_type": "stream",
     "text": [
      "done processing https://domo-support.domo.com/s/article/360042931554\n",
      "💤 retrieving https://domo-support.domo.com/s/article/360043436993 💤\n"
     ]
    },
    {
     "name": "stderr",
     "output_type": "stream",
     "text": [
      "2023-05-01 16:08:28,634 INFO:Crawling: https://domo-support.domo.com/s/article/360042932374\n"
     ]
    },
    {
     "name": "stdout",
     "output_type": "stream",
     "text": [
      "done processing https://domo-support.domo.com/s/article/360043436993\n",
      "💤 retrieving https://domo-support.domo.com/s/article/360042932374 💤\n"
     ]
    },
    {
     "name": "stderr",
     "output_type": "stream",
     "text": [
      "2023-05-01 16:08:32,204 INFO:Crawling: https://domo-support.domo.com/s/article/360043436833\n"
     ]
    },
    {
     "name": "stdout",
     "output_type": "stream",
     "text": [
      "done processing https://domo-support.domo.com/s/article/360042932374\n",
      "💤 retrieving https://domo-support.domo.com/s/article/360043436833 💤\n"
     ]
    },
    {
     "name": "stderr",
     "output_type": "stream",
     "text": [
      "2023-05-01 16:08:34,816 INFO:Crawling: https://domo-support.domo.com/s/article/360042932274\n"
     ]
    },
    {
     "name": "stdout",
     "output_type": "stream",
     "text": [
      "done processing https://domo-support.domo.com/s/article/360043436833\n",
      "💤 retrieving https://domo-support.domo.com/s/article/360042932274 💤\n"
     ]
    },
    {
     "name": "stderr",
     "output_type": "stream",
     "text": [
      "2023-05-01 16:08:37,419 INFO:Crawling: https://domo-support.domo.com/s/article/360043437053\n"
     ]
    },
    {
     "name": "stdout",
     "output_type": "stream",
     "text": [
      "done processing https://domo-support.domo.com/s/article/360042932274\n",
      "💤 retrieving https://domo-support.domo.com/s/article/360043437053 💤\n"
     ]
    },
    {
     "name": "stderr",
     "output_type": "stream",
     "text": [
      "2023-05-01 16:08:39,922 INFO:Crawling: https://domo-support.domo.com/s/article/4407020836887\n"
     ]
    },
    {
     "name": "stdout",
     "output_type": "stream",
     "text": [
      "done processing https://domo-support.domo.com/s/article/360043437053\n",
      "💤 retrieving https://domo-support.domo.com/s/article/4407020836887 💤\n"
     ]
    },
    {
     "name": "stderr",
     "output_type": "stream",
     "text": [
      "2023-05-01 16:08:42,562 INFO:Crawling: https://domo-support.domo.com/s/article/360043429453\n"
     ]
    },
    {
     "name": "stdout",
     "output_type": "stream",
     "text": [
      "done processing https://domo-support.domo.com/s/article/4407020836887\n",
      "💤 retrieving https://domo-support.domo.com/s/article/360043429453 💤\n"
     ]
    },
    {
     "name": "stderr",
     "output_type": "stream",
     "text": [
      "2023-05-01 16:08:45,021 INFO:Crawling: https://domo-support.domo.com/s/article/360043436273\n"
     ]
    },
    {
     "name": "stdout",
     "output_type": "stream",
     "text": [
      "done processing https://domo-support.domo.com/s/article/360043429453\n",
      "💤 retrieving https://domo-support.domo.com/s/article/360043436273 💤\n"
     ]
    },
    {
     "name": "stderr",
     "output_type": "stream",
     "text": [
      "2023-05-01 16:08:47,605 INFO:Crawling: https://domo-support.domo.com/s/article/360046860134\n"
     ]
    },
    {
     "name": "stdout",
     "output_type": "stream",
     "text": [
      "done processing https://domo-support.domo.com/s/article/360043436273\n",
      "💤 retrieving https://domo-support.domo.com/s/article/360046860134 💤\n"
     ]
    },
    {
     "name": "stderr",
     "output_type": "stream",
     "text": [
      "2023-05-01 16:08:50,568 INFO:Crawling: https://domo-support.domo.com/s/article/360043440373\n"
     ]
    },
    {
     "name": "stdout",
     "output_type": "stream",
     "text": [
      "done processing https://domo-support.domo.com/s/article/360046860134\n",
      "💤 retrieving https://domo-support.domo.com/s/article/360043440373 💤\n"
     ]
    },
    {
     "name": "stderr",
     "output_type": "stream",
     "text": [
      "2023-05-01 16:08:53,599 INFO:Crawling: https://domo-support.domo.com/s/article/4407164711447\n"
     ]
    },
    {
     "name": "stdout",
     "output_type": "stream",
     "text": [
      "done processing https://domo-support.domo.com/s/article/360043440373\n",
      "💤 retrieving https://domo-support.domo.com/s/article/4407164711447 💤\n"
     ]
    },
    {
     "name": "stderr",
     "output_type": "stream",
     "text": [
      "2023-05-01 16:09:09,622 ERROR:Failed to crawl: https://domo-support.domo.com/s/article/4407164711447\n",
      "Traceback (most recent call last):\n",
      "  File \"C:\\Users\\jaewi\\AppData\\Local\\Temp\\ipykernel_24296\\2782779626.py\", line 131, in run\n",
      "    is_visited = self.crawl(url, debug_prn)\n",
      "                 ^^^^^^^^^^^^^^^^^^^^^^^^^^\n",
      "  File \"C:\\Users\\jaewi\\AppData\\Local\\Temp\\ipykernel_24296\\2782779626.py\", line 115, in crawl\n",
      "    [self.add_url_to_visit(url=url, debug_prn=debug_prn) for url in url_ls]\n",
      "TypeError: 'NoneType' object is not iterable\n",
      "2023-05-01 16:09:09,623 INFO:Crawling: https://domo-support.domo.com/s/article/360045402313\n"
     ]
    },
    {
     "name": "stdout",
     "output_type": "stream",
     "text": [
      "ERROR: Message: \n",
      " -  https://domo-support.domo.com/s/article/4407164711447 failed to load page within 15 seconds.  is the element represented in the element list?\n",
      "done processing https://domo-support.domo.com/s/article/4407164711447\n",
      "💤 retrieving https://domo-support.domo.com/s/article/360045402313 💤\n"
     ]
    },
    {
     "name": "stderr",
     "output_type": "stream",
     "text": [
      "2023-05-01 16:09:13,088 INFO:Crawling: https://domo-support.domo.com/s/article/1500009781442\n"
     ]
    },
    {
     "name": "stdout",
     "output_type": "stream",
     "text": [
      "done processing https://domo-support.domo.com/s/article/360045402313\n",
      "💤 retrieving https://domo-support.domo.com/s/article/1500009781442 💤\n"
     ]
    },
    {
     "name": "stderr",
     "output_type": "stream",
     "text": [
      "2023-05-01 16:09:16,059 INFO:Crawling: https://domo-support.domo.com/s/article/360043440633\n"
     ]
    },
    {
     "name": "stdout",
     "output_type": "stream",
     "text": [
      "done processing https://domo-support.domo.com/s/article/1500009781442\n",
      "💤 retrieving https://domo-support.domo.com/s/article/360043440633 💤\n"
     ]
    },
    {
     "name": "stderr",
     "output_type": "stream",
     "text": [
      "2023-05-01 16:09:32,215 ERROR:Failed to crawl: https://domo-support.domo.com/s/article/360043440633\n",
      "Traceback (most recent call last):\n",
      "  File \"C:\\Users\\jaewi\\AppData\\Local\\Temp\\ipykernel_24296\\2782779626.py\", line 131, in run\n",
      "    is_visited = self.crawl(url, debug_prn)\n",
      "                 ^^^^^^^^^^^^^^^^^^^^^^^^^^\n",
      "  File \"C:\\Users\\jaewi\\AppData\\Local\\Temp\\ipykernel_24296\\2782779626.py\", line 115, in crawl\n",
      "    [self.add_url_to_visit(url=url, debug_prn=debug_prn) for url in url_ls]\n",
      "TypeError: 'NoneType' object is not iterable\n",
      "2023-05-01 16:09:32,216 INFO:Crawling: https://domo-support.domo.com/s/article/4405764653847\n"
     ]
    },
    {
     "name": "stdout",
     "output_type": "stream",
     "text": [
      "ERROR: Message: \n",
      " -  https://domo-support.domo.com/s/article/360043440633 failed to load page within 15 seconds.  is the element represented in the element list?\n",
      "done processing https://domo-support.domo.com/s/article/360043440633\n",
      "💤 retrieving https://domo-support.domo.com/s/article/4405764653847 💤\n"
     ]
    },
    {
     "name": "stderr",
     "output_type": "stream",
     "text": [
      "2023-05-01 16:09:35,072 INFO:Crawling: https://domo-support.domo.com/s/article/4407650069527\n"
     ]
    },
    {
     "name": "stdout",
     "output_type": "stream",
     "text": [
      "done processing https://domo-support.domo.com/s/article/4405764653847\n",
      "💤 retrieving https://domo-support.domo.com/s/article/4407650069527 💤\n"
     ]
    },
    {
     "name": "stderr",
     "output_type": "stream",
     "text": [
      "2023-05-01 16:09:37,640 INFO:Crawling: https://domo-support.domo.com/s/article/360043439353\n"
     ]
    },
    {
     "name": "stdout",
     "output_type": "stream",
     "text": [
      "done processing https://domo-support.domo.com/s/article/4407650069527\n",
      "💤 retrieving https://domo-support.domo.com/s/article/360043439353 💤\n"
     ]
    },
    {
     "name": "stderr",
     "output_type": "stream",
     "text": [
      "2023-05-01 16:09:53,554 ERROR:Failed to crawl: https://domo-support.domo.com/s/article/360043439353\n",
      "Traceback (most recent call last):\n",
      "  File \"C:\\Users\\jaewi\\AppData\\Local\\Temp\\ipykernel_24296\\2782779626.py\", line 131, in run\n",
      "    is_visited = self.crawl(url, debug_prn)\n",
      "                 ^^^^^^^^^^^^^^^^^^^^^^^^^^\n",
      "  File \"C:\\Users\\jaewi\\AppData\\Local\\Temp\\ipykernel_24296\\2782779626.py\", line 115, in crawl\n",
      "    [self.add_url_to_visit(url=url, debug_prn=debug_prn) for url in url_ls]\n",
      "TypeError: 'NoneType' object is not iterable\n",
      "2023-05-01 16:09:53,555 INFO:Crawling: https://domo-support.domo.com/s/article/360043437273\n"
     ]
    },
    {
     "name": "stdout",
     "output_type": "stream",
     "text": [
      "ERROR: Message: \n",
      " -  https://domo-support.domo.com/s/article/360043439353 failed to load page within 15 seconds.  is the element represented in the element list?\n",
      "done processing https://domo-support.domo.com/s/article/360043439353\n",
      "💤 retrieving https://domo-support.domo.com/s/article/360043437273 💤\n"
     ]
    },
    {
     "name": "stderr",
     "output_type": "stream",
     "text": [
      "2023-05-01 16:09:57,338 INFO:Crawling: https://domo-support.domo.com/s/article/360047504673\n"
     ]
    },
    {
     "name": "stdout",
     "output_type": "stream",
     "text": [
      "done processing https://domo-support.domo.com/s/article/360043437273\n",
      "💤 retrieving https://domo-support.domo.com/s/article/360047504673 💤\n"
     ]
    },
    {
     "name": "stderr",
     "output_type": "stream",
     "text": [
      "2023-05-01 16:09:59,931 INFO:Crawling: https://domo-support.domo.com/s/article/360043440113\n"
     ]
    },
    {
     "name": "stdout",
     "output_type": "stream",
     "text": [
      "done processing https://domo-support.domo.com/s/article/360047504673\n",
      "💤 retrieving https://domo-support.domo.com/s/article/360043440113 💤\n"
     ]
    },
    {
     "name": "stderr",
     "output_type": "stream",
     "text": [
      "2023-05-01 16:10:02,684 INFO:Crawling: https://domo-support.domo.com/s/article/360042923494\n"
     ]
    },
    {
     "name": "stdout",
     "output_type": "stream",
     "text": [
      "done processing https://domo-support.domo.com/s/article/360043440113\n",
      "💤 retrieving https://domo-support.domo.com/s/article/360042923494 💤\n"
     ]
    },
    {
     "name": "stderr",
     "output_type": "stream",
     "text": [
      "2023-05-01 16:10:05,207 INFO:Crawling: https://domo-support.domo.com/s/article/360043436693\n"
     ]
    },
    {
     "name": "stdout",
     "output_type": "stream",
     "text": [
      "done processing https://domo-support.domo.com/s/article/360042923494\n",
      "💤 retrieving https://domo-support.domo.com/s/article/360043436693 💤\n"
     ]
    },
    {
     "name": "stderr",
     "output_type": "stream",
     "text": [
      "2023-05-01 16:10:08,187 INFO:Crawling: https://domo-support.domo.com/s/article/360044876194\n"
     ]
    },
    {
     "name": "stdout",
     "output_type": "stream",
     "text": [
      "done processing https://domo-support.domo.com/s/article/360043436693\n",
      "💤 retrieving https://domo-support.domo.com/s/article/360044876194 💤\n"
     ]
    },
    {
     "name": "stderr",
     "output_type": "stream",
     "text": [
      "2023-05-01 16:10:11,433 INFO:Crawling: https://domo-support.domo.com/s/article/360057013954\n"
     ]
    },
    {
     "name": "stdout",
     "output_type": "stream",
     "text": [
      "done processing https://domo-support.domo.com/s/article/360044876194\n",
      "💤 retrieving https://domo-support.domo.com/s/article/360057013954 💤\n"
     ]
    },
    {
     "name": "stderr",
     "output_type": "stream",
     "text": [
      "2023-05-01 16:10:14,224 INFO:Crawling: https://domo-support.domo.com/s/article/1500000281502\n"
     ]
    },
    {
     "name": "stdout",
     "output_type": "stream",
     "text": [
      "done processing https://domo-support.domo.com/s/article/360057013954\n",
      "💤 retrieving https://domo-support.domo.com/s/article/1500000281502 💤\n"
     ]
    },
    {
     "name": "stderr",
     "output_type": "stream",
     "text": [
      "2023-05-01 16:10:16,870 INFO:Crawling: https://domo-support.domo.com/s/article/360043437013\n"
     ]
    },
    {
     "name": "stdout",
     "output_type": "stream",
     "text": [
      "done processing https://domo-support.domo.com/s/article/1500000281502\n",
      "💤 retrieving https://domo-support.domo.com/s/article/360043437013 💤\n"
     ]
    },
    {
     "name": "stderr",
     "output_type": "stream",
     "text": [
      "2023-05-01 16:10:19,402 INFO:Crawling: https://domo-support.domo.com/s/article/1500001012441\n"
     ]
    },
    {
     "name": "stdout",
     "output_type": "stream",
     "text": [
      "done processing https://domo-support.domo.com/s/article/360043437013\n",
      "💤 retrieving https://domo-support.domo.com/s/article/1500001012441 💤\n"
     ]
    },
    {
     "name": "stderr",
     "output_type": "stream",
     "text": [
      "2023-05-01 16:10:21,874 INFO:Crawling: https://domo-support.domo.com/s/article/7872485267991\n"
     ]
    },
    {
     "name": "stdout",
     "output_type": "stream",
     "text": [
      "done processing https://domo-support.domo.com/s/article/1500001012441\n",
      "💤 retrieving https://domo-support.domo.com/s/article/7872485267991 💤\n"
     ]
    },
    {
     "name": "stderr",
     "output_type": "stream",
     "text": [
      "2023-05-01 16:10:37,879 ERROR:Failed to crawl: https://domo-support.domo.com/s/article/7872485267991\n",
      "Traceback (most recent call last):\n",
      "  File \"C:\\Users\\jaewi\\AppData\\Local\\Temp\\ipykernel_24296\\2782779626.py\", line 131, in run\n",
      "    is_visited = self.crawl(url, debug_prn)\n",
      "                 ^^^^^^^^^^^^^^^^^^^^^^^^^^\n",
      "  File \"C:\\Users\\jaewi\\AppData\\Local\\Temp\\ipykernel_24296\\2782779626.py\", line 115, in crawl\n",
      "    [self.add_url_to_visit(url=url, debug_prn=debug_prn) for url in url_ls]\n",
      "TypeError: 'NoneType' object is not iterable\n",
      "2023-05-01 16:10:37,879 INFO:Crawling: https://domo-support.domo.com/s/article/360043436293\n"
     ]
    },
    {
     "name": "stdout",
     "output_type": "stream",
     "text": [
      "ERROR: Message: \n",
      " -  https://domo-support.domo.com/s/article/7872485267991 failed to load page within 15 seconds.  is the element represented in the element list?\n",
      "done processing https://domo-support.domo.com/s/article/7872485267991\n",
      "💤 retrieving https://domo-support.domo.com/s/article/360043436293 💤\n"
     ]
    },
    {
     "name": "stderr",
     "output_type": "stream",
     "text": [
      "2023-05-01 16:10:41,200 INFO:Crawling: https://domo-support.domo.com/s/article/360042928394\n"
     ]
    },
    {
     "name": "stdout",
     "output_type": "stream",
     "text": [
      "done processing https://domo-support.domo.com/s/article/360043436293\n",
      "💤 retrieving https://domo-support.domo.com/s/article/360042928394 💤\n"
     ]
    },
    {
     "name": "stderr",
     "output_type": "stream",
     "text": [
      "2023-05-01 16:10:57,210 ERROR:Failed to crawl: https://domo-support.domo.com/s/article/360042928394\n",
      "Traceback (most recent call last):\n",
      "  File \"C:\\Users\\jaewi\\AppData\\Local\\Temp\\ipykernel_24296\\2782779626.py\", line 131, in run\n",
      "    is_visited = self.crawl(url, debug_prn)\n",
      "                 ^^^^^^^^^^^^^^^^^^^^^^^^^^\n",
      "  File \"C:\\Users\\jaewi\\AppData\\Local\\Temp\\ipykernel_24296\\2782779626.py\", line 115, in crawl\n",
      "    [self.add_url_to_visit(url=url, debug_prn=debug_prn) for url in url_ls]\n",
      "TypeError: 'NoneType' object is not iterable\n",
      "2023-05-01 16:10:57,212 INFO:Crawling: https://domo-support.domo.com/s/article/360042931354\n"
     ]
    },
    {
     "name": "stdout",
     "output_type": "stream",
     "text": [
      "ERROR: Message: \n",
      " -  https://domo-support.domo.com/s/article/360042928394 failed to load page within 15 seconds.  is the element represented in the element list?\n",
      "done processing https://domo-support.domo.com/s/article/360042928394\n",
      "💤 retrieving https://domo-support.domo.com/s/article/360042931354 💤\n"
     ]
    },
    {
     "name": "stderr",
     "output_type": "stream",
     "text": [
      "2023-05-01 16:11:00,651 INFO:Crawling: https://domo-support.domo.com/s/article/360042935394\n"
     ]
    },
    {
     "name": "stdout",
     "output_type": "stream",
     "text": [
      "done processing https://domo-support.domo.com/s/article/360042931354\n",
      "💤 retrieving https://domo-support.domo.com/s/article/360042935394 💤\n"
     ]
    },
    {
     "name": "stderr",
     "output_type": "stream",
     "text": [
      "2023-05-01 16:11:03,898 INFO:Crawling: https://domo-support.domo.com/s/article/360042930954\n"
     ]
    },
    {
     "name": "stdout",
     "output_type": "stream",
     "text": [
      "done processing https://domo-support.domo.com/s/article/360042935394\n",
      "💤 retrieving https://domo-support.domo.com/s/article/360042930954 💤\n"
     ]
    },
    {
     "name": "stderr",
     "output_type": "stream",
     "text": [
      "2023-05-01 16:11:19,711 ERROR:Failed to crawl: https://domo-support.domo.com/s/article/360042930954\n",
      "Traceback (most recent call last):\n",
      "  File \"C:\\Users\\jaewi\\AppData\\Local\\Temp\\ipykernel_24296\\2782779626.py\", line 131, in run\n",
      "    is_visited = self.crawl(url, debug_prn)\n",
      "                 ^^^^^^^^^^^^^^^^^^^^^^^^^^\n",
      "  File \"C:\\Users\\jaewi\\AppData\\Local\\Temp\\ipykernel_24296\\2782779626.py\", line 115, in crawl\n",
      "    [self.add_url_to_visit(url=url, debug_prn=debug_prn) for url in url_ls]\n",
      "TypeError: 'NoneType' object is not iterable\n",
      "2023-05-01 16:11:19,715 INFO:Crawling: https://domo-support.domo.com/s/article/360042935734\n"
     ]
    },
    {
     "name": "stdout",
     "output_type": "stream",
     "text": [
      "ERROR: Message: \n",
      " -  https://domo-support.domo.com/s/article/360042930954 failed to load page within 15 seconds.  is the element represented in the element list?\n",
      "done processing https://domo-support.domo.com/s/article/360042930954\n",
      "💤 retrieving https://domo-support.domo.com/s/article/360042935734 💤\n"
     ]
    },
    {
     "name": "stderr",
     "output_type": "stream",
     "text": [
      "2023-05-01 16:11:22,514 INFO:Crawling: https://domo-support.domo.com/s/article/360043429773\n"
     ]
    },
    {
     "name": "stdout",
     "output_type": "stream",
     "text": [
      "done processing https://domo-support.domo.com/s/article/360042935734\n",
      "💤 retrieving https://domo-support.domo.com/s/article/360043429773 💤\n"
     ]
    },
    {
     "name": "stderr",
     "output_type": "stream",
     "text": [
      "2023-05-01 16:11:25,201 INFO:Crawling: https://domo-support.domo.com/s/article/360043437473\n"
     ]
    },
    {
     "name": "stdout",
     "output_type": "stream",
     "text": [
      "done processing https://domo-support.domo.com/s/article/360043429773\n",
      "💤 retrieving https://domo-support.domo.com/s/article/360043437473 💤\n"
     ]
    },
    {
     "name": "stderr",
     "output_type": "stream",
     "text": [
      "2023-05-01 16:11:27,872 INFO:Crawling: https://domo-support.domo.com/s/article/360043429753\n"
     ]
    },
    {
     "name": "stdout",
     "output_type": "stream",
     "text": [
      "done processing https://domo-support.domo.com/s/article/360043437473\n",
      "💤 retrieving https://domo-support.domo.com/s/article/360043429753 💤\n"
     ]
    },
    {
     "name": "stderr",
     "output_type": "stream",
     "text": [
      "2023-05-01 16:11:30,425 INFO:Crawling: https://domo-support.domo.com/s/article/360043428033\n"
     ]
    },
    {
     "name": "stdout",
     "output_type": "stream",
     "text": [
      "done processing https://domo-support.domo.com/s/article/360043429753\n",
      "💤 retrieving https://domo-support.domo.com/s/article/360043428033 💤\n"
     ]
    },
    {
     "name": "stderr",
     "output_type": "stream",
     "text": [
      "2023-05-01 16:11:33,425 INFO:Crawling: https://domo-support.domo.com/s/article/360047496013\n"
     ]
    },
    {
     "name": "stdout",
     "output_type": "stream",
     "text": [
      "done processing https://domo-support.domo.com/s/article/360043428033\n",
      "💤 retrieving https://domo-support.domo.com/s/article/360047496013 💤\n"
     ]
    },
    {
     "name": "stderr",
     "output_type": "stream",
     "text": [
      "2023-05-01 16:11:36,045 INFO:Crawling: https://domo-support.domo.com/s/article/360043429653\n"
     ]
    },
    {
     "name": "stdout",
     "output_type": "stream",
     "text": [
      "done processing https://domo-support.domo.com/s/article/360047496013\n",
      "💤 retrieving https://domo-support.domo.com/s/article/360043429653 💤\n"
     ]
    },
    {
     "name": "stderr",
     "output_type": "stream",
     "text": [
      "2023-05-01 16:11:38,572 INFO:Crawling: https://domo-support.domo.com/s/article/360042935354\n"
     ]
    },
    {
     "name": "stdout",
     "output_type": "stream",
     "text": [
      "done processing https://domo-support.domo.com/s/article/360043429653\n",
      "💤 retrieving https://domo-support.domo.com/s/article/360042935354 💤\n"
     ]
    },
    {
     "name": "stderr",
     "output_type": "stream",
     "text": [
      "2023-05-01 16:11:41,043 INFO:Crawling: https://domo-support.domo.com/s/article/360058713713\n"
     ]
    },
    {
     "name": "stdout",
     "output_type": "stream",
     "text": [
      "done processing https://domo-support.domo.com/s/article/360042935354\n",
      "💤 retrieving https://domo-support.domo.com/s/article/360058713713 💤\n"
     ]
    },
    {
     "name": "stderr",
     "output_type": "stream",
     "text": [
      "2023-05-01 16:11:44,283 INFO:Crawling: https://domo-support.domo.com/s/article/360042932674\n"
     ]
    },
    {
     "name": "stdout",
     "output_type": "stream",
     "text": [
      "done processing https://domo-support.domo.com/s/article/360058713713\n",
      "💤 retrieving https://domo-support.domo.com/s/article/360042932674 💤\n"
     ]
    },
    {
     "name": "stderr",
     "output_type": "stream",
     "text": [
      "2023-05-01 16:11:47,384 INFO:Crawling: https://domo-support.domo.com/s/article/360042934334\n"
     ]
    },
    {
     "name": "stdout",
     "output_type": "stream",
     "text": [
      "done processing https://domo-support.domo.com/s/article/360042932674\n",
      "💤 retrieving https://domo-support.domo.com/s/article/360042934334 💤\n"
     ]
    },
    {
     "name": "stderr",
     "output_type": "stream",
     "text": [
      "2023-05-01 16:11:50,308 INFO:Crawling: https://domo-support.domo.com/s/article/360043437233\n"
     ]
    },
    {
     "name": "stdout",
     "output_type": "stream",
     "text": [
      "done processing https://domo-support.domo.com/s/article/360042934334\n",
      "💤 retrieving https://domo-support.domo.com/s/article/360043437233 💤\n"
     ]
    },
    {
     "name": "stderr",
     "output_type": "stream",
     "text": [
      "2023-05-01 16:11:53,020 INFO:Crawling: https://domo-support.domo.com/s/article/360042924754\n"
     ]
    },
    {
     "name": "stdout",
     "output_type": "stream",
     "text": [
      "done processing https://domo-support.domo.com/s/article/360043437233\n",
      "💤 retrieving https://domo-support.domo.com/s/article/360042924754 💤\n"
     ]
    },
    {
     "name": "stderr",
     "output_type": "stream",
     "text": [
      "2023-05-01 16:11:55,667 INFO:Crawling: https://domo-support.domo.com/s/article/360058903093\n"
     ]
    },
    {
     "name": "stdout",
     "output_type": "stream",
     "text": [
      "done processing https://domo-support.domo.com/s/article/360042924754\n",
      "💤 retrieving https://domo-support.domo.com/s/article/360058903093 💤\n"
     ]
    },
    {
     "name": "stderr",
     "output_type": "stream",
     "text": [
      "2023-05-01 16:11:58,688 INFO:Crawling: https://domo-support.domo.com/s/article/360057014534\n"
     ]
    },
    {
     "name": "stdout",
     "output_type": "stream",
     "text": [
      "done processing https://domo-support.domo.com/s/article/360058903093\n",
      "💤 retrieving https://domo-support.domo.com/s/article/360057014534 💤\n"
     ]
    },
    {
     "name": "stderr",
     "output_type": "stream",
     "text": [
      "2023-05-01 16:12:14,632 ERROR:Failed to crawl: https://domo-support.domo.com/s/article/360057014534\n",
      "Traceback (most recent call last):\n",
      "  File \"C:\\Users\\jaewi\\AppData\\Local\\Temp\\ipykernel_24296\\2782779626.py\", line 131, in run\n",
      "    is_visited = self.crawl(url, debug_prn)\n",
      "                 ^^^^^^^^^^^^^^^^^^^^^^^^^^\n",
      "  File \"C:\\Users\\jaewi\\AppData\\Local\\Temp\\ipykernel_24296\\2782779626.py\", line 115, in crawl\n",
      "    [self.add_url_to_visit(url=url, debug_prn=debug_prn) for url in url_ls]\n",
      "TypeError: 'NoneType' object is not iterable\n",
      "2023-05-01 16:12:14,634 INFO:Crawling: https://domo-support.domo.com/s/article/4407013897367\n"
     ]
    },
    {
     "name": "stdout",
     "output_type": "stream",
     "text": [
      "ERROR: Message: \n",
      " -  https://domo-support.domo.com/s/article/360057014534 failed to load page within 15 seconds.  is the element represented in the element list?\n",
      "done processing https://domo-support.domo.com/s/article/360057014534\n",
      "💤 retrieving https://domo-support.domo.com/s/article/4407013897367 💤\n"
     ]
    },
    {
     "name": "stderr",
     "output_type": "stream",
     "text": [
      "2023-05-01 16:12:18,559 INFO:Crawling: https://domo-support.domo.com/s/article/360042926014\n"
     ]
    },
    {
     "name": "stdout",
     "output_type": "stream",
     "text": [
      "done processing https://domo-support.domo.com/s/article/4407013897367\n",
      "💤 retrieving https://domo-support.domo.com/s/article/360042926014 💤\n"
     ]
    },
    {
     "name": "stderr",
     "output_type": "stream",
     "text": [
      "2023-05-01 16:12:34,483 ERROR:Failed to crawl: https://domo-support.domo.com/s/article/360042926014\n",
      "Traceback (most recent call last):\n",
      "  File \"C:\\Users\\jaewi\\AppData\\Local\\Temp\\ipykernel_24296\\2782779626.py\", line 131, in run\n",
      "    is_visited = self.crawl(url, debug_prn)\n",
      "                 ^^^^^^^^^^^^^^^^^^^^^^^^^^\n",
      "  File \"C:\\Users\\jaewi\\AppData\\Local\\Temp\\ipykernel_24296\\2782779626.py\", line 115, in crawl\n",
      "    [self.add_url_to_visit(url=url, debug_prn=debug_prn) for url in url_ls]\n",
      "TypeError: 'NoneType' object is not iterable\n",
      "2023-05-01 16:12:34,483 INFO:Crawling: https://domo-support.domo.com/s/article/8230241776791\n"
     ]
    },
    {
     "name": "stdout",
     "output_type": "stream",
     "text": [
      "ERROR: Message: \n",
      " -  https://domo-support.domo.com/s/article/360042926014 failed to load page within 15 seconds.  is the element represented in the element list?\n",
      "done processing https://domo-support.domo.com/s/article/360042926014\n",
      "💤 retrieving https://domo-support.domo.com/s/article/8230241776791 💤\n"
     ]
    },
    {
     "name": "stderr",
     "output_type": "stream",
     "text": [
      "2023-05-01 16:12:37,822 INFO:Crawling: https://domo-support.domo.com/s/article/360043437193\n"
     ]
    },
    {
     "name": "stdout",
     "output_type": "stream",
     "text": [
      "done processing https://domo-support.domo.com/s/article/8230241776791\n",
      "💤 retrieving https://domo-support.domo.com/s/article/360043437193 💤\n"
     ]
    },
    {
     "name": "stderr",
     "output_type": "stream",
     "text": [
      "2023-05-01 16:12:40,595 INFO:Crawling: https://domo-support.domo.com/s/article/360042924054\n"
     ]
    },
    {
     "name": "stdout",
     "output_type": "stream",
     "text": [
      "done processing https://domo-support.domo.com/s/article/360043437193\n",
      "💤 retrieving https://domo-support.domo.com/s/article/360042924054 💤\n"
     ]
    },
    {
     "name": "stderr",
     "output_type": "stream",
     "text": [
      "2023-05-01 16:12:43,724 INFO:Crawling: https://domo-support.domo.com/s/article/360043440273\n"
     ]
    },
    {
     "name": "stdout",
     "output_type": "stream",
     "text": [
      "done processing https://domo-support.domo.com/s/article/360042924054\n",
      "💤 retrieving https://domo-support.domo.com/s/article/360043440273 💤\n"
     ]
    },
    {
     "name": "stderr",
     "output_type": "stream",
     "text": [
      "2023-05-01 16:12:46,320 INFO:Crawling: https://domo-support.domo.com/s/article/4407012348183\n"
     ]
    },
    {
     "name": "stdout",
     "output_type": "stream",
     "text": [
      "done processing https://domo-support.domo.com/s/article/360043440273\n",
      "💤 retrieving https://domo-support.domo.com/s/article/4407012348183 💤\n"
     ]
    },
    {
     "name": "stderr",
     "output_type": "stream",
     "text": [
      "2023-05-01 16:12:49,060 INFO:Crawling: https://domo-support.domo.com/s/article/4404148803479\n"
     ]
    },
    {
     "name": "stdout",
     "output_type": "stream",
     "text": [
      "done processing https://domo-support.domo.com/s/article/4407012348183\n",
      "💤 retrieving https://domo-support.domo.com/s/article/4404148803479 💤\n"
     ]
    },
    {
     "name": "stderr",
     "output_type": "stream",
     "text": [
      "2023-05-01 16:12:51,737 INFO:Crawling: https://domo-support.domo.com/s/article/1500000162442\n"
     ]
    },
    {
     "name": "stdout",
     "output_type": "stream",
     "text": [
      "done processing https://domo-support.domo.com/s/article/4404148803479\n",
      "💤 retrieving https://domo-support.domo.com/s/article/1500000162442 💤\n"
     ]
    },
    {
     "name": "stderr",
     "output_type": "stream",
     "text": [
      "2023-05-01 16:12:54,281 INFO:Crawling: https://domo-support.domo.com/s/article/360042924234\n"
     ]
    },
    {
     "name": "stdout",
     "output_type": "stream",
     "text": [
      "done processing https://domo-support.domo.com/s/article/1500000162442\n",
      "💤 retrieving https://domo-support.domo.com/s/article/360042924234 💤\n"
     ]
    },
    {
     "name": "stderr",
     "output_type": "stream",
     "text": [
      "2023-05-01 16:12:56,824 INFO:Crawling: https://domo-support.domo.com/s/article/360043429513\n"
     ]
    },
    {
     "name": "stdout",
     "output_type": "stream",
     "text": [
      "done processing https://domo-support.domo.com/s/article/360042924234\n",
      "💤 retrieving https://domo-support.domo.com/s/article/360043429513 💤\n"
     ]
    },
    {
     "name": "stderr",
     "output_type": "stream",
     "text": [
      "2023-05-01 16:13:00,497 INFO:Crawling: https://domo-support.domo.com/s/article/360042932394\n"
     ]
    },
    {
     "name": "stdout",
     "output_type": "stream",
     "text": [
      "done processing https://domo-support.domo.com/s/article/360043429513\n",
      "💤 retrieving https://domo-support.domo.com/s/article/360042932394 💤\n"
     ]
    },
    {
     "name": "stderr",
     "output_type": "stream",
     "text": [
      "2023-05-01 16:13:03,367 INFO:Crawling: https://domo-support.domo.com/s/article/360057014014\n"
     ]
    },
    {
     "name": "stdout",
     "output_type": "stream",
     "text": [
      "done processing https://domo-support.domo.com/s/article/360042932394\n",
      "💤 retrieving https://domo-support.domo.com/s/article/360057014014 💤\n"
     ]
    },
    {
     "name": "stderr",
     "output_type": "stream",
     "text": [
      "2023-05-01 16:13:07,497 INFO:Crawling: https://domo-support.domo.com/s/article/360043440133\n"
     ]
    },
    {
     "name": "stdout",
     "output_type": "stream",
     "text": [
      "done processing https://domo-support.domo.com/s/article/360057014014\n",
      "💤 retrieving https://domo-support.domo.com/s/article/360043440133 💤\n"
     ]
    },
    {
     "name": "stderr",
     "output_type": "stream",
     "text": [
      "2023-05-01 16:13:10,508 INFO:Crawling: https://domo-support.domo.com/s/article/360042931854\n"
     ]
    },
    {
     "name": "stdout",
     "output_type": "stream",
     "text": [
      "done processing https://domo-support.domo.com/s/article/360043440133\n",
      "💤 retrieving https://domo-support.domo.com/s/article/360042931854 💤\n"
     ]
    },
    {
     "name": "stderr",
     "output_type": "stream",
     "text": [
      "2023-05-01 16:13:13,138 INFO:Crawling: https://domo-support.domo.com/s/article/360043436633\n"
     ]
    },
    {
     "name": "stdout",
     "output_type": "stream",
     "text": [
      "done processing https://domo-support.domo.com/s/article/360042931854\n",
      "💤 retrieving https://domo-support.domo.com/s/article/360043436633 💤\n"
     ]
    },
    {
     "name": "stderr",
     "output_type": "stream",
     "text": [
      "2023-05-01 16:13:15,723 INFO:Crawling: https://domo-support.domo.com/s/article/360043430573\n"
     ]
    },
    {
     "name": "stdout",
     "output_type": "stream",
     "text": [
      "done processing https://domo-support.domo.com/s/article/360043436633\n",
      "💤 retrieving https://domo-support.domo.com/s/article/360043430573 💤\n"
     ]
    },
    {
     "name": "stderr",
     "output_type": "stream",
     "text": [
      "2023-05-01 16:13:18,908 INFO:Crawling: https://domo-support.domo.com/s/article/360044876614\n"
     ]
    },
    {
     "name": "stdout",
     "output_type": "stream",
     "text": [
      "done processing https://domo-support.domo.com/s/article/360043430573\n",
      "💤 retrieving https://domo-support.domo.com/s/article/360044876614 💤\n"
     ]
    },
    {
     "name": "stderr",
     "output_type": "stream",
     "text": [
      "2023-05-01 16:13:21,420 INFO:Crawling: https://domo-support.domo.com/s/article/1500010669841\n"
     ]
    },
    {
     "name": "stdout",
     "output_type": "stream",
     "text": [
      "done processing https://domo-support.domo.com/s/article/360044876614\n",
      "💤 retrieving https://domo-support.domo.com/s/article/1500010669841 💤\n"
     ]
    },
    {
     "name": "stderr",
     "output_type": "stream",
     "text": [
      "2023-05-01 16:13:24,441 INFO:Crawling: https://domo-support.domo.com/s/article/360042924994\n"
     ]
    },
    {
     "name": "stdout",
     "output_type": "stream",
     "text": [
      "done processing https://domo-support.domo.com/s/article/1500010669841\n",
      "💤 retrieving https://domo-support.domo.com/s/article/360042924994 💤\n"
     ]
    },
    {
     "name": "stderr",
     "output_type": "stream",
     "text": [
      "2023-05-01 16:13:27,038 INFO:Crawling: https://domo-support.domo.com/s/article/360043437373\n"
     ]
    },
    {
     "name": "stdout",
     "output_type": "stream",
     "text": [
      "done processing https://domo-support.domo.com/s/article/360042924994\n",
      "💤 retrieving https://domo-support.domo.com/s/article/360043437373 💤\n"
     ]
    },
    {
     "name": "stderr",
     "output_type": "stream",
     "text": [
      "2023-05-01 16:13:29,608 INFO:Crawling: https://domo-support.domo.com/s/article/7160786911639\n"
     ]
    },
    {
     "name": "stdout",
     "output_type": "stream",
     "text": [
      "done processing https://domo-support.domo.com/s/article/360043437373\n",
      "💤 retrieving https://domo-support.domo.com/s/article/7160786911639 💤\n"
     ]
    },
    {
     "name": "stderr",
     "output_type": "stream",
     "text": [
      "2023-05-01 16:13:32,303 INFO:Crawling: https://domo-support.domo.com/s/article/360043441633\n"
     ]
    },
    {
     "name": "stdout",
     "output_type": "stream",
     "text": [
      "done processing https://domo-support.domo.com/s/article/7160786911639\n",
      "💤 retrieving https://domo-support.domo.com/s/article/360043441633 💤\n"
     ]
    },
    {
     "name": "stderr",
     "output_type": "stream",
     "text": [
      "2023-05-01 16:13:48,344 ERROR:Failed to crawl: https://domo-support.domo.com/s/article/360043441633\n",
      "Traceback (most recent call last):\n",
      "  File \"C:\\Users\\jaewi\\AppData\\Local\\Temp\\ipykernel_24296\\2782779626.py\", line 131, in run\n",
      "    is_visited = self.crawl(url, debug_prn)\n",
      "                 ^^^^^^^^^^^^^^^^^^^^^^^^^^\n",
      "  File \"C:\\Users\\jaewi\\AppData\\Local\\Temp\\ipykernel_24296\\2782779626.py\", line 115, in crawl\n",
      "    [self.add_url_to_visit(url=url, debug_prn=debug_prn) for url in url_ls]\n",
      "TypeError: 'NoneType' object is not iterable\n",
      "2023-05-01 16:13:48,346 INFO:Crawling: https://domo-support.domo.com/s/article/7591715386391\n"
     ]
    },
    {
     "name": "stdout",
     "output_type": "stream",
     "text": [
      "ERROR: Message: \n",
      " -  https://domo-support.domo.com/s/article/360043441633 failed to load page within 15 seconds.  is the element represented in the element list?\n",
      "done processing https://domo-support.domo.com/s/article/360043441633\n",
      "💤 retrieving https://domo-support.domo.com/s/article/7591715386391 💤\n"
     ]
    },
    {
     "name": "stderr",
     "output_type": "stream",
     "text": [
      "2023-05-01 16:13:51,396 INFO:Crawling: https://domo-support.domo.com/s/article/360042931574\n"
     ]
    },
    {
     "name": "stdout",
     "output_type": "stream",
     "text": [
      "done processing https://domo-support.domo.com/s/article/7591715386391\n",
      "💤 retrieving https://domo-support.domo.com/s/article/360042931574 💤\n"
     ]
    },
    {
     "name": "stderr",
     "output_type": "stream",
     "text": [
      "2023-05-01 16:13:54,460 INFO:Crawling: https://domo-support.domo.com/s/article/360042924394\n"
     ]
    },
    {
     "name": "stdout",
     "output_type": "stream",
     "text": [
      "done processing https://domo-support.domo.com/s/article/360042931574\n",
      "💤 retrieving https://domo-support.domo.com/s/article/360042924394 💤\n"
     ]
    },
    {
     "name": "stderr",
     "output_type": "stream",
     "text": [
      "2023-05-01 16:13:57,014 INFO:Crawling: https://domo-support.domo.com/s/topic\n"
     ]
    },
    {
     "name": "stdout",
     "output_type": "stream",
     "text": [
      "done processing https://domo-support.domo.com/s/article/360042924394\n",
      "💤 retrieving https://domo-support.domo.com/s/topic 💤\n"
     ]
    },
    {
     "name": "stderr",
     "output_type": "stream",
     "text": [
      "2023-05-01 16:14:13,274 ERROR:Failed to crawl: https://domo-support.domo.com/s/topic\n",
      "Traceback (most recent call last):\n",
      "  File \"C:\\Users\\jaewi\\AppData\\Local\\Temp\\ipykernel_24296\\2782779626.py\", line 131, in run\n",
      "    is_visited = self.crawl(url, debug_prn)\n",
      "                 ^^^^^^^^^^^^^^^^^^^^^^^^^^\n",
      "  File \"C:\\Users\\jaewi\\AppData\\Local\\Temp\\ipykernel_24296\\2782779626.py\", line 113, in crawl\n",
      "    url_ls = process_url(url = url, driver = self.driver,base_output_folder=self.base_output_folder )\n",
      "             ^^^^^^^^^^^^^^^^^^^^^^^^^^^^^^^^^^^^^^^^^^^^^^^^^^^^^^^^^^^^^^^^^^^^^^^^^^^^^^^^^^^^^^^^\n",
      "  File \"C:\\Users\\jaewi\\AppData\\Local\\Temp\\ipykernel_24296\\2861553324.py\", line 53, in process_url\n",
      "    page_type = test_page_type(url)\n",
      "                ^^^^^^^^^^^^^^^^^^^\n",
      "  File \"C:\\Users\\jaewi\\AppData\\Local\\Temp\\ipykernel_24296\\293653992.py\", line 13, in test_page_type\n",
      "    raise Exception(f'test_page_type: not matched - {url}')\n",
      "Exception: test_page_type: not matched - https://domo-support.domo.com/s/topic\n",
      "2023-05-01 16:14:13,275 INFO:Crawling: https://domo-support.domo.com/s/article/4410301215127\n"
     ]
    },
    {
     "name": "stdout",
     "output_type": "stream",
     "text": [
      "ERROR: Message: \n",
      " -  https://domo-support.domo.com/s/topic failed to load page within 15 seconds.  is the element represented in the element list?\n",
      "💤 retrieving https://domo-support.domo.com/s/article/4410301215127 💤\n"
     ]
    },
    {
     "name": "stderr",
     "output_type": "stream",
     "text": [
      "2023-05-01 16:14:16,600 INFO:Crawling: https://domo-support.domo.com/s/article/5714345629207\n"
     ]
    },
    {
     "name": "stdout",
     "output_type": "stream",
     "text": [
      "done processing https://domo-support.domo.com/s/article/4410301215127\n",
      "💤 retrieving https://domo-support.domo.com/s/article/5714345629207 💤\n"
     ]
    },
    {
     "name": "stderr",
     "output_type": "stream",
     "text": [
      "2023-05-01 16:14:19,743 INFO:Crawling: https://domo-support.domo.com/s/article/360042935674\n"
     ]
    },
    {
     "name": "stdout",
     "output_type": "stream",
     "text": [
      "done processing https://domo-support.domo.com/s/article/5714345629207\n",
      "💤 retrieving https://domo-support.domo.com/s/article/360042935674 💤\n"
     ]
    },
    {
     "name": "stderr",
     "output_type": "stream",
     "text": [
      "2023-05-01 16:14:22,391 INFO:Crawling: https://domo-support.domo.com/s/article/8657306040855\n"
     ]
    },
    {
     "name": "stdout",
     "output_type": "stream",
     "text": [
      "done processing https://domo-support.domo.com/s/article/360042935674\n",
      "💤 retrieving https://domo-support.domo.com/s/article/8657306040855 💤\n"
     ]
    },
    {
     "name": "stderr",
     "output_type": "stream",
     "text": [
      "2023-05-01 16:14:25,487 INFO:Crawling: https://domo-support.domo.com/s/article/360042931254\n"
     ]
    },
    {
     "name": "stdout",
     "output_type": "stream",
     "text": [
      "done processing https://domo-support.domo.com/s/article/8657306040855\n",
      "💤 retrieving https://domo-support.domo.com/s/article/360042931254 💤\n"
     ]
    },
    {
     "name": "stderr",
     "output_type": "stream",
     "text": [
      "2023-05-01 16:14:28,574 INFO:Crawling: https://domo-support.domo.com/s/article/360061224493\n"
     ]
    },
    {
     "name": "stdout",
     "output_type": "stream",
     "text": [
      "done processing https://domo-support.domo.com/s/article/360042931254\n",
      "💤 retrieving https://domo-support.domo.com/s/article/360061224493 💤\n"
     ]
    },
    {
     "name": "stderr",
     "output_type": "stream",
     "text": [
      "2023-05-01 16:14:31,183 INFO:Crawling: https://domo-support.domo.com/s/article/360042924894\n"
     ]
    },
    {
     "name": "stdout",
     "output_type": "stream",
     "text": [
      "done processing https://domo-support.domo.com/s/article/360061224493\n",
      "💤 retrieving https://domo-support.domo.com/s/article/360042924894 💤\n"
     ]
    },
    {
     "name": "stderr",
     "output_type": "stream",
     "text": [
      "2023-05-01 16:14:33,746 INFO:Crawling: https://domo-support.domo.com/s/article/4407022993303\n"
     ]
    },
    {
     "name": "stdout",
     "output_type": "stream",
     "text": [
      "done processing https://domo-support.domo.com/s/article/360042924894\n",
      "💤 retrieving https://domo-support.domo.com/s/article/4407022993303 💤\n"
     ]
    },
    {
     "name": "stderr",
     "output_type": "stream",
     "text": [
      "2023-05-01 16:14:36,355 INFO:Crawling: https://domo-support.domo.com/s/article/1500011371462\n"
     ]
    },
    {
     "name": "stdout",
     "output_type": "stream",
     "text": [
      "done processing https://domo-support.domo.com/s/article/4407022993303\n",
      "💤 retrieving https://domo-support.domo.com/s/article/1500011371462 💤\n"
     ]
    },
    {
     "name": "stderr",
     "output_type": "stream",
     "text": [
      "2023-05-01 16:14:39,004 INFO:Crawling: https://domo-support.domo.com/s/article/000005107\n"
     ]
    },
    {
     "name": "stdout",
     "output_type": "stream",
     "text": [
      "done processing https://domo-support.domo.com/s/article/1500011371462\n",
      "💤 retrieving https://domo-support.domo.com/s/article/000005107 💤\n"
     ]
    },
    {
     "name": "stderr",
     "output_type": "stream",
     "text": [
      "2023-05-01 16:14:41,955 INFO:Crawling: https://domo-support.domo.com/s/article/4405652887191\n"
     ]
    },
    {
     "name": "stdout",
     "output_type": "stream",
     "text": [
      "done processing https://domo-support.domo.com/s/article/000005107\n",
      "💤 retrieving https://domo-support.domo.com/s/article/4405652887191 💤\n"
     ]
    },
    {
     "name": "stderr",
     "output_type": "stream",
     "text": [
      "2023-05-01 16:14:44,454 INFO:Crawling: https://domo-support.domo.com/s/article/360043439473\n"
     ]
    },
    {
     "name": "stdout",
     "output_type": "stream",
     "text": [
      "done processing https://domo-support.domo.com/s/article/4405652887191\n",
      "💤 retrieving https://domo-support.domo.com/s/article/360043439473 💤\n"
     ]
    },
    {
     "name": "stderr",
     "output_type": "stream",
     "text": [
      "2023-05-01 16:14:48,010 INFO:Crawling: https://domo-support.domo.com/s/article/360052122574\n"
     ]
    },
    {
     "name": "stdout",
     "output_type": "stream",
     "text": [
      "done processing https://domo-support.domo.com/s/article/360043439473\n",
      "💤 retrieving https://domo-support.domo.com/s/article/360052122574 💤\n"
     ]
    },
    {
     "name": "stderr",
     "output_type": "stream",
     "text": [
      "2023-05-01 16:14:50,551 INFO:Crawling: https://domo-support.domo.com/s/article/360043428973\n"
     ]
    },
    {
     "name": "stdout",
     "output_type": "stream",
     "text": [
      "done processing https://domo-support.domo.com/s/article/360052122574\n",
      "💤 retrieving https://domo-support.domo.com/s/article/360043428973 💤\n"
     ]
    },
    {
     "name": "stderr",
     "output_type": "stream",
     "text": [
      "2023-05-01 16:14:53,075 INFO:Crawling: https://domo-support.domo.com/s/article/360043436673\n"
     ]
    },
    {
     "name": "stdout",
     "output_type": "stream",
     "text": [
      "done processing https://domo-support.domo.com/s/article/360043428973\n",
      "💤 retrieving https://domo-support.domo.com/s/article/360043436673 💤\n"
     ]
    },
    {
     "name": "stderr",
     "output_type": "stream",
     "text": [
      "2023-05-01 16:14:55,752 INFO:Crawling: https://domo-support.domo.com/s/article/4926944153367\n"
     ]
    },
    {
     "name": "stdout",
     "output_type": "stream",
     "text": [
      "done processing https://domo-support.domo.com/s/article/360043436673\n",
      "💤 retrieving https://domo-support.domo.com/s/article/4926944153367 💤\n"
     ]
    },
    {
     "name": "stderr",
     "output_type": "stream",
     "text": [
      "2023-05-01 16:14:58,737 INFO:Crawling: https://domo-support.domo.com/s/article/360043437973\n"
     ]
    },
    {
     "name": "stdout",
     "output_type": "stream",
     "text": [
      "done processing https://domo-support.domo.com/s/article/4926944153367\n",
      "💤 retrieving https://domo-support.domo.com/s/article/360043437973 💤\n"
     ]
    },
    {
     "name": "stderr",
     "output_type": "stream",
     "text": [
      "2023-05-01 16:15:14,810 ERROR:Failed to crawl: https://domo-support.domo.com/s/article/360043437973\n",
      "Traceback (most recent call last):\n",
      "  File \"C:\\Users\\jaewi\\AppData\\Local\\Temp\\ipykernel_24296\\2782779626.py\", line 131, in run\n",
      "    is_visited = self.crawl(url, debug_prn)\n",
      "                 ^^^^^^^^^^^^^^^^^^^^^^^^^^\n",
      "  File \"C:\\Users\\jaewi\\AppData\\Local\\Temp\\ipykernel_24296\\2782779626.py\", line 115, in crawl\n",
      "    [self.add_url_to_visit(url=url, debug_prn=debug_prn) for url in url_ls]\n",
      "TypeError: 'NoneType' object is not iterable\n",
      "2023-05-01 16:15:14,811 INFO:Crawling: https://domo-support.domo.com/s/article/360043436393\n"
     ]
    },
    {
     "name": "stdout",
     "output_type": "stream",
     "text": [
      "ERROR: Message: \n",
      " -  https://domo-support.domo.com/s/article/360043437973 failed to load page within 15 seconds.  is the element represented in the element list?\n",
      "done processing https://domo-support.domo.com/s/article/360043437973\n",
      "💤 retrieving https://domo-support.domo.com/s/article/360043436393 💤\n"
     ]
    },
    {
     "name": "stderr",
     "output_type": "stream",
     "text": [
      "2023-05-01 16:15:18,254 INFO:Crawling: https://domo-support.domo.com/s/article/360046773094\n"
     ]
    },
    {
     "name": "stdout",
     "output_type": "stream",
     "text": [
      "done processing https://domo-support.domo.com/s/article/360043436393\n",
      "💤 retrieving https://domo-support.domo.com/s/article/360046773094 💤\n"
     ]
    },
    {
     "name": "stderr",
     "output_type": "stream",
     "text": [
      "2023-05-01 16:15:21,446 INFO:Crawling: https://domo-support.domo.com/s/article/360047400113\n"
     ]
    },
    {
     "name": "stdout",
     "output_type": "stream",
     "text": [
      "done processing https://domo-support.domo.com/s/article/360046773094\n",
      "💤 retrieving https://domo-support.domo.com/s/article/360047400113 💤\n"
     ]
    },
    {
     "name": "stderr",
     "output_type": "stream",
     "text": [
      "2023-05-01 16:15:23,939 INFO:Crawling: https://domo-support.domo.com/s/article/360043429433\n"
     ]
    },
    {
     "name": "stdout",
     "output_type": "stream",
     "text": [
      "done processing https://domo-support.domo.com/s/article/360047400113\n",
      "💤 retrieving https://domo-support.domo.com/s/article/360043429433 💤\n"
     ]
    },
    {
     "name": "stderr",
     "output_type": "stream",
     "text": [
      "2023-05-01 16:15:26,567 INFO:Crawling: https://domo-support.domo.com/s/article/360043429093\n"
     ]
    },
    {
     "name": "stdout",
     "output_type": "stream",
     "text": [
      "done processing https://domo-support.domo.com/s/article/360043429433\n",
      "💤 retrieving https://domo-support.domo.com/s/article/360043429093 💤\n"
     ]
    },
    {
     "name": "stderr",
     "output_type": "stream",
     "text": [
      "2023-05-01 16:15:29,135 INFO:Crawling: https://domo-support.domo.com/s/article/1500001388361\n"
     ]
    },
    {
     "name": "stdout",
     "output_type": "stream",
     "text": [
      "done processing https://domo-support.domo.com/s/article/360043429093\n",
      "💤 retrieving https://domo-support.domo.com/s/article/1500001388361 💤\n"
     ]
    },
    {
     "name": "stderr",
     "output_type": "stream",
     "text": [
      "2023-05-01 16:15:31,689 INFO:Crawling: https://domo-support.domo.com/s/article/360043427993\n"
     ]
    },
    {
     "name": "stdout",
     "output_type": "stream",
     "text": [
      "done processing https://domo-support.domo.com/s/article/1500001388361\n",
      "💤 retrieving https://domo-support.domo.com/s/article/360043427993 💤\n"
     ]
    },
    {
     "name": "stderr",
     "output_type": "stream",
     "text": [
      "2023-05-01 16:15:34,183 INFO:Crawling: https://domo-support.domo.com/s/article/360043436513\n"
     ]
    },
    {
     "name": "stdout",
     "output_type": "stream",
     "text": [
      "done processing https://domo-support.domo.com/s/article/360043427993\n",
      "💤 retrieving https://domo-support.domo.com/s/article/360043436513 💤\n"
     ]
    },
    {
     "name": "stderr",
     "output_type": "stream",
     "text": [
      "2023-05-01 16:15:36,702 INFO:Crawling: https://domo-support.domo.com/s/article/360042923874\n"
     ]
    },
    {
     "name": "stdout",
     "output_type": "stream",
     "text": [
      "done processing https://domo-support.domo.com/s/article/360043436513\n",
      "💤 retrieving https://domo-support.domo.com/s/article/360042923874 💤\n"
     ]
    },
    {
     "name": "stderr",
     "output_type": "stream",
     "text": [
      "2023-05-01 16:15:39,347 INFO:Crawling: https://domo-support.domo.com/s/article/360043428053\n"
     ]
    },
    {
     "name": "stdout",
     "output_type": "stream",
     "text": [
      "done processing https://domo-support.domo.com/s/article/360042923874\n",
      "💤 retrieving https://domo-support.domo.com/s/article/360043428053 💤\n"
     ]
    },
    {
     "name": "stderr",
     "output_type": "stream",
     "text": [
      "2023-05-01 16:15:41,877 INFO:Crawling: https://domo-support.domo.com/s/article/360043437313\n"
     ]
    },
    {
     "name": "stdout",
     "output_type": "stream",
     "text": [
      "done processing https://domo-support.domo.com/s/article/360043428053\n",
      "💤 retrieving https://domo-support.domo.com/s/article/360043437313 💤\n"
     ]
    },
    {
     "name": "stderr",
     "output_type": "stream",
     "text": [
      "2023-05-01 16:15:57,917 ERROR:Failed to crawl: https://domo-support.domo.com/s/article/360043437313\n",
      "Traceback (most recent call last):\n",
      "  File \"C:\\Users\\jaewi\\AppData\\Local\\Temp\\ipykernel_24296\\2782779626.py\", line 131, in run\n",
      "    is_visited = self.crawl(url, debug_prn)\n",
      "                 ^^^^^^^^^^^^^^^^^^^^^^^^^^\n",
      "  File \"C:\\Users\\jaewi\\AppData\\Local\\Temp\\ipykernel_24296\\2782779626.py\", line 115, in crawl\n",
      "    [self.add_url_to_visit(url=url, debug_prn=debug_prn) for url in url_ls]\n",
      "TypeError: 'NoneType' object is not iterable\n",
      "2023-05-01 16:15:57,920 INFO:Crawling: https://domo-support.domo.com/s/article/360042932654\n"
     ]
    },
    {
     "name": "stdout",
     "output_type": "stream",
     "text": [
      "ERROR: Message: \n",
      " -  https://domo-support.domo.com/s/article/360043437313 failed to load page within 15 seconds.  is the element represented in the element list?\n",
      "done processing https://domo-support.domo.com/s/article/360043437313\n",
      "💤 retrieving https://domo-support.domo.com/s/article/360042932654 💤\n"
     ]
    },
    {
     "name": "stderr",
     "output_type": "stream",
     "text": [
      "2023-05-01 16:16:01,326 INFO:Crawling: https://domo-support.domo.com/s/article/360042932214\n"
     ]
    },
    {
     "name": "stdout",
     "output_type": "stream",
     "text": [
      "done processing https://domo-support.domo.com/s/article/360042932654\n",
      "💤 retrieving https://domo-support.domo.com/s/article/360042932214 💤\n"
     ]
    },
    {
     "name": "stderr",
     "output_type": "stream",
     "text": [
      "2023-05-01 16:16:04,811 INFO:Crawling: https://domo-support.domo.com/s/article/4407021587735\n"
     ]
    },
    {
     "name": "stdout",
     "output_type": "stream",
     "text": [
      "done processing https://domo-support.domo.com/s/article/360042932214\n",
      "💤 retrieving https://domo-support.domo.com/s/article/4407021587735 💤\n"
     ]
    },
    {
     "name": "stderr",
     "output_type": "stream",
     "text": [
      "2023-05-01 16:16:07,411 INFO:Crawling: https://domo-support.domo.com/s/article/360052105454\n"
     ]
    },
    {
     "name": "stdout",
     "output_type": "stream",
     "text": [
      "done processing https://domo-support.domo.com/s/article/4407021587735\n",
      "💤 retrieving https://domo-support.domo.com/s/article/360052105454 💤\n"
     ]
    },
    {
     "name": "stderr",
     "output_type": "stream",
     "text": [
      "2023-05-01 16:16:10,053 INFO:Crawling: https://domo-support.domo.com/s/article/360043878994\n"
     ]
    },
    {
     "name": "stdout",
     "output_type": "stream",
     "text": [
      "done processing https://domo-support.domo.com/s/article/360052105454\n",
      "💤 retrieving https://domo-support.domo.com/s/article/360043878994 💤\n"
     ]
    },
    {
     "name": "stderr",
     "output_type": "stream",
     "text": [
      "2023-05-01 16:16:12,592 INFO:Crawling: https://domo-support.domo.com/s/article/360042932854\n"
     ]
    },
    {
     "name": "stdout",
     "output_type": "stream",
     "text": [
      "done processing https://domo-support.domo.com/s/article/360043878994\n",
      "💤 retrieving https://domo-support.domo.com/s/article/360042932854 💤\n"
     ]
    },
    {
     "name": "stderr",
     "output_type": "stream",
     "text": [
      "2023-05-01 16:16:15,560 INFO:Crawling: https://domo-support.domo.com/s/article/360042934354\n"
     ]
    },
    {
     "name": "stdout",
     "output_type": "stream",
     "text": [
      "done processing https://domo-support.domo.com/s/article/360042932854\n",
      "💤 retrieving https://domo-support.domo.com/s/article/360042934354 💤\n"
     ]
    },
    {
     "name": "stderr",
     "output_type": "stream",
     "text": [
      "2023-05-01 16:16:19,065 INFO:Crawling: https://domo-support.domo.com/s/article/360043429373\n"
     ]
    },
    {
     "name": "stdout",
     "output_type": "stream",
     "text": [
      "done processing https://domo-support.domo.com/s/article/360042934354\n",
      "💤 retrieving https://domo-support.domo.com/s/article/360043429373 💤\n"
     ]
    },
    {
     "name": "stderr",
     "output_type": "stream",
     "text": [
      "2023-05-01 16:16:22,146 INFO:Crawling: https://domo-support.domo.com/s/article/360057013754\n"
     ]
    },
    {
     "name": "stdout",
     "output_type": "stream",
     "text": [
      "done processing https://domo-support.domo.com/s/article/360043429373\n",
      "💤 retrieving https://domo-support.domo.com/s/article/360057013754 💤\n"
     ]
    },
    {
     "name": "stderr",
     "output_type": "stream",
     "text": [
      "2023-05-01 16:16:24,695 INFO:Crawling: https://domo-support.domo.com/s/article/360046860834\n"
     ]
    },
    {
     "name": "stdout",
     "output_type": "stream",
     "text": [
      "done processing https://domo-support.domo.com/s/article/360057013754\n",
      "💤 retrieving https://domo-support.domo.com/s/article/360046860834 💤\n"
     ]
    },
    {
     "name": "stderr",
     "output_type": "stream",
     "text": [
      "2023-05-01 16:16:27,212 INFO:Crawling: https://domo-support.domo.com/s/article/360042932134\n"
     ]
    },
    {
     "name": "stdout",
     "output_type": "stream",
     "text": [
      "done processing https://domo-support.domo.com/s/article/360046860834\n",
      "💤 retrieving https://domo-support.domo.com/s/article/360042932134 💤\n"
     ]
    },
    {
     "name": "stderr",
     "output_type": "stream",
     "text": [
      "2023-05-01 16:16:29,698 INFO:Crawling: https://domo-support.domo.com/s/article/360043439833\n"
     ]
    },
    {
     "name": "stdout",
     "output_type": "stream",
     "text": [
      "done processing https://domo-support.domo.com/s/article/360042932134\n",
      "💤 retrieving https://domo-support.domo.com/s/article/360043439833 💤\n"
     ]
    },
    {
     "name": "stderr",
     "output_type": "stream",
     "text": [
      "2023-05-01 16:16:33,173 INFO:Crawling: https://domo-support.domo.com/s/article/360042927634\n"
     ]
    },
    {
     "name": "stdout",
     "output_type": "stream",
     "text": [
      "done processing https://domo-support.domo.com/s/article/360043439833\n",
      "💤 retrieving https://domo-support.domo.com/s/article/360042927634 💤\n"
     ]
    },
    {
     "name": "stderr",
     "output_type": "stream",
     "text": [
      "2023-05-01 16:16:35,785 INFO:Crawling: https://domo-support.domo.com/s/article/360043437253\n"
     ]
    },
    {
     "name": "stdout",
     "output_type": "stream",
     "text": [
      "done processing https://domo-support.domo.com/s/article/360042927634\n",
      "💤 retrieving https://domo-support.domo.com/s/article/360043437253 💤\n"
     ]
    },
    {
     "name": "stderr",
     "output_type": "stream",
     "text": [
      "2023-05-01 16:16:38,377 INFO:Crawling: https://domo-support.domo.com/s/article/360045259294\n"
     ]
    },
    {
     "name": "stdout",
     "output_type": "stream",
     "text": [
      "done processing https://domo-support.domo.com/s/article/360043437253\n",
      "💤 retrieving https://domo-support.domo.com/s/article/360045259294 💤\n"
     ]
    },
    {
     "name": "stderr",
     "output_type": "stream",
     "text": [
      "2023-05-01 16:16:41,571 INFO:Crawling: https://domo-support.domo.com/s/article/360042924134\n"
     ]
    },
    {
     "name": "stdout",
     "output_type": "stream",
     "text": [
      "done processing https://domo-support.domo.com/s/article/360045259294\n",
      "💤 retrieving https://domo-support.domo.com/s/article/360042924134 💤\n"
     ]
    },
    {
     "name": "stderr",
     "output_type": "stream",
     "text": [
      "2023-05-01 16:16:44,208 INFO:Crawling: https://domo-support.domo.com/s/article/360043429193\n"
     ]
    },
    {
     "name": "stdout",
     "output_type": "stream",
     "text": [
      "done processing https://domo-support.domo.com/s/article/360042924134\n",
      "💤 retrieving https://domo-support.domo.com/s/article/360043429193 💤\n"
     ]
    },
    {
     "name": "stderr",
     "output_type": "stream",
     "text": [
      "2023-05-01 16:16:46,775 INFO:Crawling: https://domo-support.domo.com/s/article/8656674995991\n"
     ]
    },
    {
     "name": "stdout",
     "output_type": "stream",
     "text": [
      "done processing https://domo-support.domo.com/s/article/360043429193\n",
      "💤 retrieving https://domo-support.domo.com/s/article/8656674995991 💤\n"
     ]
    },
    {
     "name": "stderr",
     "output_type": "stream",
     "text": [
      "2023-05-01 16:16:49,451 INFO:Crawling: https://domo-support.domo.com/s/article/7593173476759\n"
     ]
    },
    {
     "name": "stdout",
     "output_type": "stream",
     "text": [
      "done processing https://domo-support.domo.com/s/article/8656674995991\n",
      "💤 retrieving https://domo-support.domo.com/s/article/7593173476759 💤\n"
     ]
    },
    {
     "name": "stderr",
     "output_type": "stream",
     "text": [
      "2023-05-01 16:16:52,382 INFO:Crawling: https://domo-support.domo.com/s/article/360043428673\n"
     ]
    },
    {
     "name": "stdout",
     "output_type": "stream",
     "text": [
      "done processing https://domo-support.domo.com/s/article/7593173476759\n",
      "💤 retrieving https://domo-support.domo.com/s/article/360043428673 💤\n"
     ]
    },
    {
     "name": "stderr",
     "output_type": "stream",
     "text": [
      "2023-05-01 16:16:54,923 INFO:Crawling: https://domo-support.domo.com/s/article/360059173794\n"
     ]
    },
    {
     "name": "stdout",
     "output_type": "stream",
     "text": [
      "done processing https://domo-support.domo.com/s/article/360043428673\n",
      "💤 retrieving https://domo-support.domo.com/s/article/360059173794 💤\n"
     ]
    },
    {
     "name": "stderr",
     "output_type": "stream",
     "text": [
      "2023-05-01 16:16:57,520 INFO:Crawling: https://domo-support.domo.com/s/article/000005122\n"
     ]
    },
    {
     "name": "stdout",
     "output_type": "stream",
     "text": [
      "done processing https://domo-support.domo.com/s/article/360059173794\n",
      "💤 retrieving https://domo-support.domo.com/s/article/000005122 💤\n"
     ]
    },
    {
     "name": "stderr",
     "output_type": "stream",
     "text": [
      "2023-05-01 16:17:00,056 INFO:Crawling: https://domo-support.domo.com/s/article/360042932114\n"
     ]
    },
    {
     "name": "stdout",
     "output_type": "stream",
     "text": [
      "done processing https://domo-support.domo.com/s/article/000005122\n",
      "💤 retrieving https://domo-support.domo.com/s/article/360042932114 💤\n"
     ]
    },
    {
     "name": "stderr",
     "output_type": "stream",
     "text": [
      "2023-05-01 16:17:03,183 INFO:Crawling: https://domo-support.domo.com/s/article/360042931874\n"
     ]
    },
    {
     "name": "stdout",
     "output_type": "stream",
     "text": [
      "done processing https://domo-support.domo.com/s/article/360042932114\n",
      "💤 retrieving https://domo-support.domo.com/s/article/360042931874 💤\n"
     ]
    },
    {
     "name": "stderr",
     "output_type": "stream",
     "text": [
      "2023-05-01 16:17:05,808 INFO:Crawling: https://domo-support.domo.com/s/article/360042924814\n"
     ]
    },
    {
     "name": "stdout",
     "output_type": "stream",
     "text": [
      "done processing https://domo-support.domo.com/s/article/360042931874\n",
      "💤 retrieving https://domo-support.domo.com/s/article/360042924814 💤\n"
     ]
    },
    {
     "name": "stderr",
     "output_type": "stream",
     "text": [
      "2023-05-01 16:17:08,360 INFO:Crawling: https://domo-support.domo.com/s/article/4409512475927\n"
     ]
    },
    {
     "name": "stdout",
     "output_type": "stream",
     "text": [
      "done processing https://domo-support.domo.com/s/article/360042924814\n",
      "💤 retrieving https://domo-support.domo.com/s/article/4409512475927 💤\n"
     ]
    },
    {
     "name": "stderr",
     "output_type": "stream",
     "text": [
      "2023-05-01 16:17:11,308 INFO:Crawling: https://domo-support.domo.com/s/article/360042935554\n"
     ]
    },
    {
     "name": "stdout",
     "output_type": "stream",
     "text": [
      "done processing https://domo-support.domo.com/s/article/4409512475927\n",
      "💤 retrieving https://domo-support.domo.com/s/article/360042935554 💤\n"
     ]
    },
    {
     "name": "stderr",
     "output_type": "stream",
     "text": [
      "2023-05-01 16:17:13,863 INFO:Crawling: https://domo-support.domo.com/s/article/000005138\n"
     ]
    },
    {
     "name": "stdout",
     "output_type": "stream",
     "text": [
      "done processing https://domo-support.domo.com/s/article/360042935554\n",
      "💤 retrieving https://domo-support.domo.com/s/article/000005138 💤\n"
     ]
    },
    {
     "name": "stderr",
     "output_type": "stream",
     "text": [
      "2023-05-01 16:17:16,427 INFO:Crawling: https://domo-support.domo.com/s/article/360043433573\n"
     ]
    },
    {
     "name": "stdout",
     "output_type": "stream",
     "text": [
      "done processing https://domo-support.domo.com/s/article/000005138\n",
      "💤 retrieving https://domo-support.domo.com/s/article/360043433573 💤\n"
     ]
    },
    {
     "name": "stderr",
     "output_type": "stream",
     "text": [
      "2023-05-01 16:17:19,107 INFO:Crawling: https://domo-support.domo.com/s/article/360043437393\n"
     ]
    },
    {
     "name": "stdout",
     "output_type": "stream",
     "text": [
      "done processing https://domo-support.domo.com/s/article/360043433573\n",
      "💤 retrieving https://domo-support.domo.com/s/article/360043437393 💤\n"
     ]
    },
    {
     "name": "stderr",
     "output_type": "stream",
     "text": [
      "2023-05-01 16:17:22,159 INFO:Crawling: https://domo-support.domo.com/s/article/1500012178021\n"
     ]
    },
    {
     "name": "stdout",
     "output_type": "stream",
     "text": [
      "done processing https://domo-support.domo.com/s/article/360043437393\n",
      "💤 retrieving https://domo-support.domo.com/s/article/1500012178021 💤\n"
     ]
    },
    {
     "name": "stderr",
     "output_type": "stream",
     "text": [
      "2023-05-01 16:17:25,217 INFO:Crawling: https://domo-support.domo.com/s/article/360042924294\n"
     ]
    },
    {
     "name": "stdout",
     "output_type": "stream",
     "text": [
      "done processing https://domo-support.domo.com/s/article/1500012178021\n",
      "💤 retrieving https://domo-support.domo.com/s/article/360042924294 💤\n"
     ]
    },
    {
     "name": "stderr",
     "output_type": "stream",
     "text": [
      "2023-05-01 16:17:28,324 INFO:Crawling: https://domo-support.domo.com/s/article/360042924914\n"
     ]
    },
    {
     "name": "stdout",
     "output_type": "stream",
     "text": [
      "done processing https://domo-support.domo.com/s/article/360042924294\n",
      "💤 retrieving https://domo-support.domo.com/s/article/360042924914 💤\n"
     ]
    },
    {
     "name": "stderr",
     "output_type": "stream",
     "text": [
      "2023-05-01 16:17:31,445 INFO:Crawling: https://domo-support.domo.com/s/article/4407412515991\n"
     ]
    },
    {
     "name": "stdout",
     "output_type": "stream",
     "text": [
      "done processing https://domo-support.domo.com/s/article/360042924914\n",
      "💤 retrieving https://domo-support.domo.com/s/article/4407412515991 💤\n"
     ]
    },
    {
     "name": "stderr",
     "output_type": "stream",
     "text": [
      "2023-05-01 16:17:34,109 INFO:Crawling: https://domo-support.domo.com/s/article/360047499333\n"
     ]
    },
    {
     "name": "stdout",
     "output_type": "stream",
     "text": [
      "done processing https://domo-support.domo.com/s/article/4407412515991\n",
      "💤 retrieving https://domo-support.domo.com/s/article/360047499333 💤\n"
     ]
    },
    {
     "name": "stderr",
     "output_type": "stream",
     "text": [
      "2023-05-01 16:17:36,760 INFO:Crawling: https://domo-support.domo.com/s/article/8276764172951\n"
     ]
    },
    {
     "name": "stdout",
     "output_type": "stream",
     "text": [
      "done processing https://domo-support.domo.com/s/article/360047499333\n",
      "💤 retrieving https://domo-support.domo.com/s/article/8276764172951 💤\n"
     ]
    },
    {
     "name": "stderr",
     "output_type": "stream",
     "text": [
      "2023-05-01 16:17:39,317 INFO:Crawling: https://domo-support.domo.com/s/article/360043437073\n"
     ]
    },
    {
     "name": "stdout",
     "output_type": "stream",
     "text": [
      "done processing https://domo-support.domo.com/s/article/8276764172951\n",
      "💤 retrieving https://domo-support.domo.com/s/article/360043437073 💤\n"
     ]
    },
    {
     "name": "stderr",
     "output_type": "stream",
     "text": [
      "2023-05-01 16:17:42,328 INFO:Crawling: https://domo-support.domo.com/s/article/1500000216241\n"
     ]
    },
    {
     "name": "stdout",
     "output_type": "stream",
     "text": [
      "done processing https://domo-support.domo.com/s/article/360043437073\n",
      "💤 retrieving https://domo-support.domo.com/s/article/1500000216241 💤\n"
     ]
    },
    {
     "name": "stderr",
     "output_type": "stream",
     "text": [
      "2023-05-01 16:17:44,830 INFO:Crawling: https://domo-support.domo.com/s/article/360043437413\n"
     ]
    },
    {
     "name": "stdout",
     "output_type": "stream",
     "text": [
      "done processing https://domo-support.domo.com/s/article/1500000216241\n",
      "💤 retrieving https://domo-support.domo.com/s/article/360043437413 💤\n"
     ]
    },
    {
     "name": "stderr",
     "output_type": "stream",
     "text": [
      "2023-05-01 16:17:47,366 INFO:Crawling: https://domo-support.domo.com/s/article/360046856934\n"
     ]
    },
    {
     "name": "stdout",
     "output_type": "stream",
     "text": [
      "done processing https://domo-support.domo.com/s/article/360043437413\n",
      "💤 retrieving https://domo-support.domo.com/s/article/360046856934 💤\n"
     ]
    },
    {
     "name": "stderr",
     "output_type": "stream",
     "text": [
      "2023-05-01 16:17:49,880 INFO:Crawling: https://domo-support.domo.com/s/article/000005095\n"
     ]
    },
    {
     "name": "stdout",
     "output_type": "stream",
     "text": [
      "done processing https://domo-support.domo.com/s/article/360046856934\n",
      "💤 retrieving https://domo-support.domo.com/s/article/000005095 💤\n"
     ]
    },
    {
     "name": "stderr",
     "output_type": "stream",
     "text": [
      "2023-05-01 16:17:52,449 INFO:Crawling: https://domo-support.domo.com/s/article/360057014334\n"
     ]
    },
    {
     "name": "stdout",
     "output_type": "stream",
     "text": [
      "done processing https://domo-support.domo.com/s/article/000005095\n",
      "💤 retrieving https://domo-support.domo.com/s/article/360057014334 💤\n"
     ]
    },
    {
     "name": "stderr",
     "output_type": "stream",
     "text": [
      "2023-05-01 16:17:55,565 INFO:Crawling: https://domo-support.domo.com/s/article/360057028014\n"
     ]
    },
    {
     "name": "stdout",
     "output_type": "stream",
     "text": [
      "done processing https://domo-support.domo.com/s/article/360057014334\n",
      "💤 retrieving https://domo-support.domo.com/s/article/360057028014 💤\n"
     ]
    },
    {
     "name": "stderr",
     "output_type": "stream",
     "text": [
      "2023-05-01 16:17:58,675 INFO:Crawling: https://domo-support.domo.com/s/article/360043436153\n"
     ]
    },
    {
     "name": "stdout",
     "output_type": "stream",
     "text": [
      "done processing https://domo-support.domo.com/s/article/360057028014\n",
      "💤 retrieving https://domo-support.domo.com/s/article/360043436153 💤\n"
     ]
    },
    {
     "name": "stderr",
     "output_type": "stream",
     "text": [
      "2023-05-01 16:18:01,848 INFO:Crawling: https://domo-support.domo.com/s/article/360042925394\n"
     ]
    },
    {
     "name": "stdout",
     "output_type": "stream",
     "text": [
      "done processing https://domo-support.domo.com/s/article/360043436153\n",
      "💤 retrieving https://domo-support.domo.com/s/article/360042925394 💤\n"
     ]
    },
    {
     "name": "stderr",
     "output_type": "stream",
     "text": [
      "2023-05-01 16:18:04,896 INFO:Crawling: https://domo-support.domo.com/s/article/8041126473367\n"
     ]
    },
    {
     "name": "stdout",
     "output_type": "stream",
     "text": [
      "done processing https://domo-support.domo.com/s/article/360042925394\n",
      "💤 retrieving https://domo-support.domo.com/s/article/8041126473367 💤\n"
     ]
    },
    {
     "name": "stderr",
     "output_type": "stream",
     "text": [
      "2023-05-01 16:18:07,995 INFO:Crawling: https://domo-support.domo.com/s/article/5729516441367\n"
     ]
    },
    {
     "name": "stdout",
     "output_type": "stream",
     "text": [
      "done processing https://domo-support.domo.com/s/article/8041126473367\n",
      "💤 retrieving https://domo-support.domo.com/s/article/5729516441367 💤\n"
     ]
    },
    {
     "name": "stderr",
     "output_type": "stream",
     "text": [
      "2023-05-01 16:18:10,531 INFO:Crawling: https://domo-support.domo.com/s/article/1500000555201\n"
     ]
    },
    {
     "name": "stdout",
     "output_type": "stream",
     "text": [
      "done processing https://domo-support.domo.com/s/article/5729516441367\n",
      "💤 retrieving https://domo-support.domo.com/s/article/1500000555201 💤\n"
     ]
    },
    {
     "name": "stderr",
     "output_type": "stream",
     "text": [
      "2023-05-01 16:18:13,557 INFO:Crawling: https://domo-support.domo.com/s/article/360042932234\n"
     ]
    },
    {
     "name": "stdout",
     "output_type": "stream",
     "text": [
      "done processing https://domo-support.domo.com/s/article/1500000555201\n",
      "💤 retrieving https://domo-support.domo.com/s/article/360042932234 💤\n"
     ]
    },
    {
     "name": "stderr",
     "output_type": "stream",
     "text": [
      "2023-05-01 16:18:16,623 INFO:Crawling: https://domo-support.domo.com/s/article/360043440433\n"
     ]
    },
    {
     "name": "stdout",
     "output_type": "stream",
     "text": [
      "done processing https://domo-support.domo.com/s/article/360042932234\n",
      "💤 retrieving https://domo-support.domo.com/s/article/360043440433 💤\n"
     ]
    },
    {
     "name": "stderr",
     "output_type": "stream",
     "text": [
      "2023-05-01 16:18:19,302 INFO:Crawling: https://domo-support.domo.com/s/article/360042931814\n"
     ]
    },
    {
     "name": "stdout",
     "output_type": "stream",
     "text": [
      "done processing https://domo-support.domo.com/s/article/360043440433\n",
      "💤 retrieving https://domo-support.domo.com/s/article/360042931814 💤\n"
     ]
    },
    {
     "name": "stderr",
     "output_type": "stream",
     "text": [
      "2023-05-01 16:18:22,474 INFO:Crawling: https://domo-support.domo.com/s/article/360057028694\n"
     ]
    },
    {
     "name": "stdout",
     "output_type": "stream",
     "text": [
      "done processing https://domo-support.domo.com/s/article/360042931814\n",
      "💤 retrieving https://domo-support.domo.com/s/article/360057028694 💤\n"
     ]
    },
    {
     "name": "stderr",
     "output_type": "stream",
     "text": [
      "2023-05-01 16:18:25,554 INFO:Crawling: https://domo-support.domo.com/s/article/360042932334\n"
     ]
    },
    {
     "name": "stdout",
     "output_type": "stream",
     "text": [
      "done processing https://domo-support.domo.com/s/article/360057028694\n",
      "💤 retrieving https://domo-support.domo.com/s/article/360042932334 💤\n"
     ]
    },
    {
     "name": "stderr",
     "output_type": "stream",
     "text": [
      "2023-05-01 16:18:29,196 INFO:Crawling: https://domo-support.domo.com/s/article/360042924854\n"
     ]
    },
    {
     "name": "stdout",
     "output_type": "stream",
     "text": [
      "done processing https://domo-support.domo.com/s/article/360042932334\n",
      "💤 retrieving https://domo-support.domo.com/s/article/360042924854 💤\n"
     ]
    },
    {
     "name": "stderr",
     "output_type": "stream",
     "text": [
      "2023-05-01 16:18:32,237 INFO:Crawling: https://domo-support.domo.com/s/article/360042925134\n"
     ]
    },
    {
     "name": "stdout",
     "output_type": "stream",
     "text": [
      "done processing https://domo-support.domo.com/s/article/360042924854\n",
      "💤 retrieving https://domo-support.domo.com/s/article/360042925134 💤\n"
     ]
    },
    {
     "name": "stderr",
     "output_type": "stream",
     "text": [
      "2023-05-01 16:18:35,340 INFO:Crawling: https://domo-support.domo.com/s/article/360042931734\n"
     ]
    },
    {
     "name": "stdout",
     "output_type": "stream",
     "text": [
      "done processing https://domo-support.domo.com/s/article/360042925134\n",
      "💤 retrieving https://domo-support.domo.com/s/article/360042931734 💤\n"
     ]
    },
    {
     "name": "stderr",
     "output_type": "stream",
     "text": [
      "2023-05-01 16:18:37,939 INFO:Crawling: https://domo-support.domo.com/s/article/360042930514\n"
     ]
    },
    {
     "name": "stdout",
     "output_type": "stream",
     "text": [
      "done processing https://domo-support.domo.com/s/article/360042931734\n",
      "💤 retrieving https://domo-support.domo.com/s/article/360042930514 💤\n"
     ]
    },
    {
     "name": "stderr",
     "output_type": "stream",
     "text": [
      "2023-05-01 16:18:40,390 INFO:Crawling: https://domo-support.domo.com/s/article/360043428913\n"
     ]
    },
    {
     "name": "stdout",
     "output_type": "stream",
     "text": [
      "done processing https://domo-support.domo.com/s/article/360042930514\n",
      "💤 retrieving https://domo-support.domo.com/s/article/360043428913 💤\n"
     ]
    },
    {
     "name": "stderr",
     "output_type": "stream",
     "text": [
      "2023-05-01 16:18:42,884 INFO:Crawling: https://domo-support.domo.com/s/article/360043436133\n"
     ]
    },
    {
     "name": "stdout",
     "output_type": "stream",
     "text": [
      "done processing https://domo-support.domo.com/s/article/360043428913\n",
      "💤 retrieving https://domo-support.domo.com/s/article/360043436133 💤\n"
     ]
    },
    {
     "name": "stderr",
     "output_type": "stream",
     "text": [
      "2023-05-01 16:18:45,882 INFO:Crawling: https://domo-support.domo.com/s/article/360063090013\n"
     ]
    },
    {
     "name": "stdout",
     "output_type": "stream",
     "text": [
      "done processing https://domo-support.domo.com/s/article/360043436133\n",
      "💤 retrieving https://domo-support.domo.com/s/article/360063090013 💤\n"
     ]
    },
    {
     "name": "stderr",
     "output_type": "stream",
     "text": [
      "2023-05-01 16:18:49,000 INFO:Crawling: https://domo-support.domo.com/s/article/360042931634\n"
     ]
    },
    {
     "name": "stdout",
     "output_type": "stream",
     "text": [
      "done processing https://domo-support.domo.com/s/article/360063090013\n",
      "💤 retrieving https://domo-support.domo.com/s/article/360042931634 💤\n"
     ]
    },
    {
     "name": "stderr",
     "output_type": "stream",
     "text": [
      "2023-05-01 16:18:51,576 INFO:Crawling: https://domo-support.domo.com/s/article/360043432673\n"
     ]
    },
    {
     "name": "stdout",
     "output_type": "stream",
     "text": [
      "done processing https://domo-support.domo.com/s/article/360042931634\n",
      "💤 retrieving https://domo-support.domo.com/s/article/360043432673 💤\n"
     ]
    },
    {
     "name": "stderr",
     "output_type": "stream",
     "text": [
      "2023-05-01 16:18:54,572 INFO:Crawling: https://domo-support.domo.com/s/article/360042935194\n"
     ]
    },
    {
     "name": "stdout",
     "output_type": "stream",
     "text": [
      "done processing https://domo-support.domo.com/s/article/360043432673\n",
      "💤 retrieving https://domo-support.domo.com/s/article/360042935194 💤\n"
     ]
    },
    {
     "name": "stderr",
     "output_type": "stream",
     "text": [
      "2023-05-01 16:18:57,427 INFO:Crawling: https://domo-support.domo.com/s/article/4744010382871\n"
     ]
    },
    {
     "name": "stdout",
     "output_type": "stream",
     "text": [
      "done processing https://domo-support.domo.com/s/article/360042935194\n",
      "💤 retrieving https://domo-support.domo.com/s/article/4744010382871 💤\n"
     ]
    },
    {
     "name": "stderr",
     "output_type": "stream",
     "text": [
      "2023-05-01 16:19:00,564 INFO:Crawling: https://domo-support.domo.com/s/article/360043437173\n"
     ]
    },
    {
     "name": "stdout",
     "output_type": "stream",
     "text": [
      "done processing https://domo-support.domo.com/s/article/4744010382871\n",
      "💤 retrieving https://domo-support.domo.com/s/article/360043437173 💤\n"
     ]
    },
    {
     "name": "stderr",
     "output_type": "stream",
     "text": [
      "2023-05-01 16:19:04,097 INFO:Crawling: https://domo-support.domo.com/s/article/360043436473\n"
     ]
    },
    {
     "name": "stdout",
     "output_type": "stream",
     "text": [
      "done processing https://domo-support.domo.com/s/article/360043437173\n",
      "💤 retrieving https://domo-support.domo.com/s/article/360043436473 💤\n"
     ]
    },
    {
     "name": "stderr",
     "output_type": "stream",
     "text": [
      "2023-05-01 16:19:07,236 INFO:Crawling: https://domo-support.domo.com/s/article/360043429293\n"
     ]
    },
    {
     "name": "stdout",
     "output_type": "stream",
     "text": [
      "done processing https://domo-support.domo.com/s/article/360043436473\n",
      "💤 retrieving https://domo-support.domo.com/s/article/360043429293 💤\n"
     ]
    },
    {
     "name": "stderr",
     "output_type": "stream",
     "text": [
      "2023-05-01 16:19:09,830 INFO:Crawling: https://domo-support.domo.com/s/article/360042926294\n"
     ]
    },
    {
     "name": "stdout",
     "output_type": "stream",
     "text": [
      "done processing https://domo-support.domo.com/s/article/360043429293\n",
      "💤 retrieving https://domo-support.domo.com/s/article/360042926294 💤\n"
     ]
    },
    {
     "name": "stderr",
     "output_type": "stream",
     "text": [
      "2023-05-01 16:19:12,350 INFO:Crawling: https://domo-support.domo.com/s/article/360043436113\n"
     ]
    },
    {
     "name": "stdout",
     "output_type": "stream",
     "text": [
      "done processing https://domo-support.domo.com/s/article/360042926294\n",
      "💤 retrieving https://domo-support.domo.com/s/article/360043436113 💤\n"
     ]
    },
    {
     "name": "stderr",
     "output_type": "stream",
     "text": [
      "2023-05-01 16:19:14,862 INFO:Crawling: https://domo-support.domo.com/s/article/360042932034\n"
     ]
    },
    {
     "name": "stdout",
     "output_type": "stream",
     "text": [
      "done processing https://domo-support.domo.com/s/article/360043436113\n",
      "💤 retrieving https://domo-support.domo.com/s/article/360042932034 💤\n"
     ]
    },
    {
     "name": "stderr",
     "output_type": "stream",
     "text": [
      "2023-05-01 16:19:17,508 INFO:Crawling: https://domo-support.domo.com/s/article/360058892613\n"
     ]
    },
    {
     "name": "stdout",
     "output_type": "stream",
     "text": [
      "done processing https://domo-support.domo.com/s/article/360042932034\n",
      "💤 retrieving https://domo-support.domo.com/s/article/360058892613 💤\n"
     ]
    },
    {
     "name": "stderr",
     "output_type": "stream",
     "text": [
      "2023-05-01 16:19:20,065 INFO:Crawling: https://domo-support.domo.com/s/article/360044876094\n"
     ]
    },
    {
     "name": "stdout",
     "output_type": "stream",
     "text": [
      "done processing https://domo-support.domo.com/s/article/360058892613\n",
      "💤 retrieving https://domo-support.domo.com/s/article/360044876094 💤\n"
     ]
    },
    {
     "name": "stderr",
     "output_type": "stream",
     "text": [
      "2023-05-01 16:19:22,637 INFO:Crawling: https://domo-support.domo.com/s/article/4407027041431\n"
     ]
    },
    {
     "name": "stdout",
     "output_type": "stream",
     "text": [
      "done processing https://domo-support.domo.com/s/article/360044876094\n",
      "💤 retrieving https://domo-support.domo.com/s/article/4407027041431 💤\n"
     ]
    },
    {
     "name": "stderr",
     "output_type": "stream",
     "text": [
      "2023-05-01 16:19:25,273 INFO:Crawling: https://domo-support.domo.com/s/article/360043428933\n"
     ]
    },
    {
     "name": "stdout",
     "output_type": "stream",
     "text": [
      "done processing https://domo-support.domo.com/s/article/4407027041431\n",
      "💤 retrieving https://domo-support.domo.com/s/article/360043428933 💤\n"
     ]
    },
    {
     "name": "stderr",
     "output_type": "stream",
     "text": [
      "2023-05-01 16:19:27,760 INFO:Crawling: https://domo-support.domo.com/s/article/360057028134\n"
     ]
    },
    {
     "name": "stdout",
     "output_type": "stream",
     "text": [
      "done processing https://domo-support.domo.com/s/article/360043428933\n",
      "💤 retrieving https://domo-support.domo.com/s/article/360057028134 💤\n"
     ]
    },
    {
     "name": "stderr",
     "output_type": "stream",
     "text": [
      "2023-05-01 16:19:30,526 INFO:Crawling: https://domo-support.domo.com/s/article/360042924974\n"
     ]
    },
    {
     "name": "stdout",
     "output_type": "stream",
     "text": [
      "done processing https://domo-support.domo.com/s/article/360057028134\n",
      "💤 retrieving https://domo-support.domo.com/s/article/360042924974 💤\n"
     ]
    },
    {
     "name": "stderr",
     "output_type": "stream",
     "text": [
      "2023-05-01 16:19:33,031 INFO:Crawling: https://domo-support.domo.com/s/article/000005103\n"
     ]
    },
    {
     "name": "stdout",
     "output_type": "stream",
     "text": [
      "done processing https://domo-support.domo.com/s/article/360042924974\n",
      "💤 retrieving https://domo-support.domo.com/s/article/000005103 💤\n"
     ]
    },
    {
     "name": "stderr",
     "output_type": "stream",
     "text": [
      "2023-05-01 16:19:35,565 INFO:Crawling: https://domo-support.domo.com/s/article/360052122814\n"
     ]
    },
    {
     "name": "stdout",
     "output_type": "stream",
     "text": [
      "done processing https://domo-support.domo.com/s/article/000005103\n",
      "💤 retrieving https://domo-support.domo.com/s/article/360052122814 💤\n"
     ]
    },
    {
     "name": "stderr",
     "output_type": "stream",
     "text": [
      "2023-05-01 16:19:38,536 INFO:Crawling: https://domo-support.domo.com/s/article/360043437033\n"
     ]
    },
    {
     "name": "stdout",
     "output_type": "stream",
     "text": [
      "done processing https://domo-support.domo.com/s/article/360052122814\n",
      "💤 retrieving https://domo-support.domo.com/s/article/360043437033 💤\n"
     ]
    },
    {
     "name": "stderr",
     "output_type": "stream",
     "text": [
      "2023-05-01 16:19:41,038 INFO:Crawling: https://domo-support.domo.com/s/article/8231039188375\n"
     ]
    },
    {
     "name": "stdout",
     "output_type": "stream",
     "text": [
      "done processing https://domo-support.domo.com/s/article/360043437033\n",
      "💤 retrieving https://domo-support.domo.com/s/article/8231039188375 💤\n"
     ]
    },
    {
     "name": "stderr",
     "output_type": "stream",
     "text": [
      "2023-05-01 16:19:44,061 INFO:Crawling: https://domo-support.domo.com/s/article/360045485833\n"
     ]
    },
    {
     "name": "stdout",
     "output_type": "stream",
     "text": [
      "done processing https://domo-support.domo.com/s/article/8231039188375\n",
      "💤 retrieving https://domo-support.domo.com/s/article/360045485833 💤\n"
     ]
    },
    {
     "name": "stderr",
     "output_type": "stream",
     "text": [
      "2023-05-01 16:19:46,633 INFO:Crawling: https://domo-support.domo.com/s/article/360042932434\n"
     ]
    },
    {
     "name": "stdout",
     "output_type": "stream",
     "text": [
      "done processing https://domo-support.domo.com/s/article/360045485833\n",
      "💤 retrieving https://domo-support.domo.com/s/article/360042932434 💤\n"
     ]
    },
    {
     "name": "stderr",
     "output_type": "stream",
     "text": [
      "2023-05-01 16:19:49,206 INFO:Crawling: https://domo-support.domo.com/s/article/360043437153\n"
     ]
    },
    {
     "name": "stdout",
     "output_type": "stream",
     "text": [
      "done processing https://domo-support.domo.com/s/article/360042932434\n",
      "💤 retrieving https://domo-support.domo.com/s/article/360043437153 💤\n"
     ]
    },
    {
     "name": "stderr",
     "output_type": "stream",
     "text": [
      "2023-05-01 16:19:51,806 INFO:Crawling: https://domo-support.domo.com/s/article/360043429253\n"
     ]
    },
    {
     "name": "stdout",
     "output_type": "stream",
     "text": [
      "done processing https://domo-support.domo.com/s/article/360043437153\n",
      "💤 retrieving https://domo-support.domo.com/s/article/360043429253 💤\n"
     ]
    },
    {
     "name": "stderr",
     "output_type": "stream",
     "text": [
      "2023-05-01 16:19:54,295 INFO:Crawling: https://domo-support.domo.com/s/article/360042924414\n"
     ]
    },
    {
     "name": "stdout",
     "output_type": "stream",
     "text": [
      "done processing https://domo-support.domo.com/s/article/360043429253\n",
      "💤 retrieving https://domo-support.domo.com/s/article/360042924414 💤\n"
     ]
    },
    {
     "name": "stderr",
     "output_type": "stream",
     "text": [
      "2023-05-01 16:19:56,856 INFO:Crawling: https://domo-support.domo.com/s/article/360042931654\n"
     ]
    },
    {
     "name": "stdout",
     "output_type": "stream",
     "text": [
      "done processing https://domo-support.domo.com/s/article/360042924414\n",
      "💤 retrieving https://domo-support.domo.com/s/article/360042931654 💤\n"
     ]
    },
    {
     "name": "stderr",
     "output_type": "stream",
     "text": [
      "2023-05-01 16:19:59,415 INFO:Crawling: https://domo-support.domo.com/s/article/360047416773\n"
     ]
    },
    {
     "name": "stdout",
     "output_type": "stream",
     "text": [
      "done processing https://domo-support.domo.com/s/article/360042931654\n",
      "💤 retrieving https://domo-support.domo.com/s/article/360047416773 💤\n"
     ]
    },
    {
     "name": "stderr",
     "output_type": "stream",
     "text": [
      "2023-05-01 16:20:02,591 INFO:Crawling: https://domo-support.domo.com/s/article/360042931394\n"
     ]
    },
    {
     "name": "stdout",
     "output_type": "stream",
     "text": [
      "done processing https://domo-support.domo.com/s/article/360047416773\n",
      "💤 retrieving https://domo-support.domo.com/s/article/360042931394 💤\n"
     ]
    },
    {
     "name": "stderr",
     "output_type": "stream",
     "text": [
      "2023-05-01 16:20:05,344 INFO:Crawling: https://domo-support.domo.com/s/article/360042924154\n"
     ]
    },
    {
     "name": "stdout",
     "output_type": "stream",
     "text": [
      "done processing https://domo-support.domo.com/s/article/360042931394\n",
      "💤 retrieving https://domo-support.domo.com/s/article/360042924154 💤\n"
     ]
    },
    {
     "name": "stderr",
     "output_type": "stream",
     "text": [
      "2023-05-01 16:20:07,807 INFO:Crawling: https://domo-support.domo.com/s/article/4407023720343\n"
     ]
    },
    {
     "name": "stdout",
     "output_type": "stream",
     "text": [
      "done processing https://domo-support.domo.com/s/article/360042924154\n",
      "💤 retrieving https://domo-support.domo.com/s/article/4407023720343 💤\n"
     ]
    },
    {
     "name": "stderr",
     "output_type": "stream",
     "text": [
      "2023-05-01 16:20:10,369 INFO:Crawling: https://domo-support.domo.com/s/article/8283005822103\n"
     ]
    },
    {
     "name": "stdout",
     "output_type": "stream",
     "text": [
      "done processing https://domo-support.domo.com/s/article/4407023720343\n",
      "💤 retrieving https://domo-support.domo.com/s/article/8283005822103 💤\n"
     ]
    },
    {
     "name": "stderr",
     "output_type": "stream",
     "text": [
      "2023-05-01 16:20:12,970 INFO:Crawling: https://domo-support.domo.com/s/article/360061552054\n"
     ]
    },
    {
     "name": "stdout",
     "output_type": "stream",
     "text": [
      "done processing https://domo-support.domo.com/s/article/8283005822103\n",
      "💤 retrieving https://domo-support.domo.com/s/article/360061552054 💤\n"
     ]
    },
    {
     "name": "stderr",
     "output_type": "stream",
     "text": [
      "2023-05-01 16:20:15,449 INFO:Crawling: https://domo-support.domo.com/s/article/360060597953\n"
     ]
    },
    {
     "name": "stdout",
     "output_type": "stream",
     "text": [
      "done processing https://domo-support.domo.com/s/article/360061552054\n",
      "💤 retrieving https://domo-support.domo.com/s/article/360060597953 💤\n"
     ]
    },
    {
     "name": "stderr",
     "output_type": "stream",
     "text": [
      "2023-05-01 16:20:18,088 INFO:Crawling: https://domo-support.domo.com/s/article/360043434393\n"
     ]
    },
    {
     "name": "stdout",
     "output_type": "stream",
     "text": [
      "done processing https://domo-support.domo.com/s/article/360060597953\n",
      "💤 retrieving https://domo-support.domo.com/s/article/360043434393 💤\n"
     ]
    },
    {
     "name": "stderr",
     "output_type": "stream",
     "text": [
      "2023-05-01 16:20:20,603 INFO:Crawling: https://domo-support.domo.com/s/article/360058903753\n"
     ]
    },
    {
     "name": "stdout",
     "output_type": "stream",
     "text": [
      "done processing https://domo-support.domo.com/s/article/360043434393\n",
      "💤 retrieving https://domo-support.domo.com/s/article/360058903753 💤\n"
     ]
    },
    {
     "name": "stderr",
     "output_type": "stream",
     "text": [
      "2023-05-01 16:20:23,139 INFO:Crawling: https://domo-support.domo.com/s/article/360042924594\n"
     ]
    },
    {
     "name": "stdout",
     "output_type": "stream",
     "text": [
      "done processing https://domo-support.domo.com/s/article/360058903753\n",
      "💤 retrieving https://domo-support.domo.com/s/article/360042924594 💤\n"
     ]
    },
    {
     "name": "stderr",
     "output_type": "stream",
     "text": [
      "2023-05-01 16:20:25,633 INFO:Crawling: https://domo-support.domo.com/s/article/360043436173\n"
     ]
    },
    {
     "name": "stdout",
     "output_type": "stream",
     "text": [
      "done processing https://domo-support.domo.com/s/article/360042924594\n",
      "💤 retrieving https://domo-support.domo.com/s/article/360043436173 💤\n"
     ]
    },
    {
     "name": "stderr",
     "output_type": "stream",
     "text": [
      "2023-05-01 16:20:28,082 INFO:Crawling: https://domo-support.domo.com/s/article/360042931554\n"
     ]
    },
    {
     "name": "stdout",
     "output_type": "stream",
     "text": [
      "done processing https://domo-support.domo.com/s/article/360043436173\n",
      "💤 retrieving https://domo-support.domo.com/s/article/360042931554 💤\n"
     ]
    },
    {
     "name": "stderr",
     "output_type": "stream",
     "text": [
      "2023-05-01 16:20:30,533 INFO:Crawling: https://domo-support.domo.com/s/article/360043436993\n"
     ]
    },
    {
     "name": "stdout",
     "output_type": "stream",
     "text": [
      "done processing https://domo-support.domo.com/s/article/360042931554\n",
      "💤 retrieving https://domo-support.domo.com/s/article/360043436993 💤\n"
     ]
    },
    {
     "name": "stderr",
     "output_type": "stream",
     "text": [
      "2023-05-01 16:20:33,076 INFO:Crawling: https://domo-support.domo.com/s/article/360042932374\n"
     ]
    },
    {
     "name": "stdout",
     "output_type": "stream",
     "text": [
      "done processing https://domo-support.domo.com/s/article/360043436993\n",
      "💤 retrieving https://domo-support.domo.com/s/article/360042932374 💤\n"
     ]
    },
    {
     "name": "stderr",
     "output_type": "stream",
     "text": [
      "2023-05-01 16:20:36,243 INFO:Crawling: https://domo-support.domo.com/s/article/360043436833\n"
     ]
    },
    {
     "name": "stdout",
     "output_type": "stream",
     "text": [
      "done processing https://domo-support.domo.com/s/article/360042932374\n",
      "💤 retrieving https://domo-support.domo.com/s/article/360043436833 💤\n"
     ]
    },
    {
     "name": "stderr",
     "output_type": "stream",
     "text": [
      "2023-05-01 16:20:38,828 INFO:Crawling: https://domo-support.domo.com/s/article/360042932274\n"
     ]
    },
    {
     "name": "stdout",
     "output_type": "stream",
     "text": [
      "done processing https://domo-support.domo.com/s/article/360043436833\n",
      "💤 retrieving https://domo-support.domo.com/s/article/360042932274 💤\n"
     ]
    },
    {
     "name": "stderr",
     "output_type": "stream",
     "text": [
      "2023-05-01 16:20:41,439 INFO:Crawling: https://domo-support.domo.com/s/article/360043437053\n"
     ]
    },
    {
     "name": "stdout",
     "output_type": "stream",
     "text": [
      "done processing https://domo-support.domo.com/s/article/360042932274\n",
      "💤 retrieving https://domo-support.domo.com/s/article/360043437053 💤\n"
     ]
    },
    {
     "name": "stderr",
     "output_type": "stream",
     "text": [
      "2023-05-01 16:20:43,928 INFO:Crawling: https://domo-support.domo.com/s/article/4407020836887\n"
     ]
    },
    {
     "name": "stdout",
     "output_type": "stream",
     "text": [
      "done processing https://domo-support.domo.com/s/article/360043437053\n",
      "💤 retrieving https://domo-support.domo.com/s/article/4407020836887 💤\n"
     ]
    },
    {
     "name": "stderr",
     "output_type": "stream",
     "text": [
      "2023-05-01 16:20:46,489 INFO:Crawling: https://domo-support.domo.com/s/article/360043429453\n"
     ]
    },
    {
     "name": "stdout",
     "output_type": "stream",
     "text": [
      "done processing https://domo-support.domo.com/s/article/4407020836887\n",
      "💤 retrieving https://domo-support.domo.com/s/article/360043429453 💤\n"
     ]
    },
    {
     "name": "stderr",
     "output_type": "stream",
     "text": [
      "2023-05-01 16:20:49,022 INFO:Crawling: https://domo-support.domo.com/s/article/360043436273\n"
     ]
    },
    {
     "name": "stdout",
     "output_type": "stream",
     "text": [
      "done processing https://domo-support.domo.com/s/article/360043429453\n",
      "💤 retrieving https://domo-support.domo.com/s/article/360043436273 💤\n"
     ]
    },
    {
     "name": "stderr",
     "output_type": "stream",
     "text": [
      "2023-05-01 16:20:51,610 INFO:Crawling: https://domo-support.domo.com/s/article/360046860134\n"
     ]
    },
    {
     "name": "stdout",
     "output_type": "stream",
     "text": [
      "done processing https://domo-support.domo.com/s/article/360043436273\n",
      "💤 retrieving https://domo-support.domo.com/s/article/360046860134 💤\n"
     ]
    },
    {
     "name": "stderr",
     "output_type": "stream",
     "text": [
      "2023-05-01 16:20:54,104 INFO:Crawling: https://domo-support.domo.com/s/article/360043440373\n"
     ]
    },
    {
     "name": "stdout",
     "output_type": "stream",
     "text": [
      "done processing https://domo-support.domo.com/s/article/360046860134\n",
      "💤 retrieving https://domo-support.domo.com/s/article/360043440373 💤\n"
     ]
    },
    {
     "name": "stderr",
     "output_type": "stream",
     "text": [
      "2023-05-01 16:20:56,615 INFO:Crawling: https://domo-support.domo.com/s/article/360045402313\n"
     ]
    },
    {
     "name": "stdout",
     "output_type": "stream",
     "text": [
      "done processing https://domo-support.domo.com/s/article/360043440373\n",
      "💤 retrieving https://domo-support.domo.com/s/article/360045402313 💤\n"
     ]
    },
    {
     "name": "stderr",
     "output_type": "stream",
     "text": [
      "2023-05-01 16:20:59,136 INFO:Crawling: https://domo-support.domo.com/s/article/1500009781442\n"
     ]
    },
    {
     "name": "stdout",
     "output_type": "stream",
     "text": [
      "done processing https://domo-support.domo.com/s/article/360045402313\n",
      "💤 retrieving https://domo-support.domo.com/s/article/1500009781442 💤\n"
     ]
    },
    {
     "name": "stderr",
     "output_type": "stream",
     "text": [
      "2023-05-01 16:21:01,743 INFO:Crawling: https://domo-support.domo.com/s/article/4405764653847\n"
     ]
    },
    {
     "name": "stdout",
     "output_type": "stream",
     "text": [
      "done processing https://domo-support.domo.com/s/article/1500009781442\n",
      "💤 retrieving https://domo-support.domo.com/s/article/4405764653847 💤\n"
     ]
    },
    {
     "name": "stderr",
     "output_type": "stream",
     "text": [
      "2023-05-01 16:21:05,067 INFO:Crawling: https://domo-support.domo.com/s/article/4407650069527\n"
     ]
    },
    {
     "name": "stdout",
     "output_type": "stream",
     "text": [
      "done processing https://domo-support.domo.com/s/article/4405764653847\n",
      "💤 retrieving https://domo-support.domo.com/s/article/4407650069527 💤\n"
     ]
    },
    {
     "name": "stderr",
     "output_type": "stream",
     "text": [
      "2023-05-01 16:21:08,720 INFO:Crawling: https://domo-support.domo.com/s/article/360043437273\n"
     ]
    },
    {
     "name": "stdout",
     "output_type": "stream",
     "text": [
      "done processing https://domo-support.domo.com/s/article/4407650069527\n",
      "💤 retrieving https://domo-support.domo.com/s/article/360043437273 💤\n"
     ]
    },
    {
     "name": "stderr",
     "output_type": "stream",
     "text": [
      "2023-05-01 16:21:11,275 INFO:Crawling: https://domo-support.domo.com/s/article/360047504673\n"
     ]
    },
    {
     "name": "stdout",
     "output_type": "stream",
     "text": [
      "done processing https://domo-support.domo.com/s/article/360043437273\n",
      "💤 retrieving https://domo-support.domo.com/s/article/360047504673 💤\n"
     ]
    },
    {
     "name": "stderr",
     "output_type": "stream",
     "text": [
      "2023-05-01 16:21:13,790 INFO:Crawling: https://domo-support.domo.com/s/article/360043440113\n"
     ]
    },
    {
     "name": "stdout",
     "output_type": "stream",
     "text": [
      "done processing https://domo-support.domo.com/s/article/360047504673\n",
      "💤 retrieving https://domo-support.domo.com/s/article/360043440113 💤\n"
     ]
    },
    {
     "name": "stderr",
     "output_type": "stream",
     "text": [
      "2023-05-01 16:21:16,803 INFO:Crawling: https://domo-support.domo.com/s/article/360042923494\n"
     ]
    },
    {
     "name": "stdout",
     "output_type": "stream",
     "text": [
      "done processing https://domo-support.domo.com/s/article/360043440113\n",
      "💤 retrieving https://domo-support.domo.com/s/article/360042923494 💤\n"
     ]
    },
    {
     "name": "stderr",
     "output_type": "stream",
     "text": [
      "2023-05-01 16:21:19,932 INFO:Crawling: https://domo-support.domo.com/s/article/360043436693\n"
     ]
    },
    {
     "name": "stdout",
     "output_type": "stream",
     "text": [
      "done processing https://domo-support.domo.com/s/article/360042923494\n",
      "💤 retrieving https://domo-support.domo.com/s/article/360043436693 💤\n"
     ]
    },
    {
     "name": "stderr",
     "output_type": "stream",
     "text": [
      "2023-05-01 16:21:22,999 INFO:Crawling: https://domo-support.domo.com/s/article/360044876194\n"
     ]
    },
    {
     "name": "stdout",
     "output_type": "stream",
     "text": [
      "done processing https://domo-support.domo.com/s/article/360043436693\n",
      "💤 retrieving https://domo-support.domo.com/s/article/360044876194 💤\n"
     ]
    },
    {
     "name": "stderr",
     "output_type": "stream",
     "text": [
      "2023-05-01 16:21:26,159 INFO:Crawling: https://domo-support.domo.com/s/article/360057013954\n"
     ]
    },
    {
     "name": "stdout",
     "output_type": "stream",
     "text": [
      "done processing https://domo-support.domo.com/s/article/360044876194\n",
      "💤 retrieving https://domo-support.domo.com/s/article/360057013954 💤\n"
     ]
    },
    {
     "name": "stderr",
     "output_type": "stream",
     "text": [
      "2023-05-01 16:21:29,697 INFO:Crawling: https://domo-support.domo.com/s/article/1500000281502\n"
     ]
    },
    {
     "name": "stdout",
     "output_type": "stream",
     "text": [
      "done processing https://domo-support.domo.com/s/article/360057013954\n",
      "💤 retrieving https://domo-support.domo.com/s/article/1500000281502 💤\n"
     ]
    },
    {
     "name": "stderr",
     "output_type": "stream",
     "text": [
      "2023-05-01 16:21:33,327 INFO:Crawling: https://domo-support.domo.com/s/article/360043437013\n"
     ]
    },
    {
     "name": "stdout",
     "output_type": "stream",
     "text": [
      "done processing https://domo-support.domo.com/s/article/1500000281502\n",
      "💤 retrieving https://domo-support.domo.com/s/article/360043437013 💤\n"
     ]
    },
    {
     "name": "stderr",
     "output_type": "stream",
     "text": [
      "2023-05-01 16:21:36,507 INFO:Crawling: https://domo-support.domo.com/s/article/1500001012441\n"
     ]
    },
    {
     "name": "stdout",
     "output_type": "stream",
     "text": [
      "done processing https://domo-support.domo.com/s/article/360043437013\n",
      "💤 retrieving https://domo-support.domo.com/s/article/1500001012441 💤\n"
     ]
    },
    {
     "name": "stderr",
     "output_type": "stream",
     "text": [
      "2023-05-01 16:21:39,547 INFO:Crawling: https://domo-support.domo.com/s/article/360043436293\n"
     ]
    },
    {
     "name": "stdout",
     "output_type": "stream",
     "text": [
      "done processing https://domo-support.domo.com/s/article/1500001012441\n",
      "💤 retrieving https://domo-support.domo.com/s/article/360043436293 💤\n"
     ]
    },
    {
     "name": "stderr",
     "output_type": "stream",
     "text": [
      "2023-05-01 16:21:42,569 INFO:Crawling: https://domo-support.domo.com/s/article/360042931354\n"
     ]
    },
    {
     "name": "stdout",
     "output_type": "stream",
     "text": [
      "done processing https://domo-support.domo.com/s/article/360043436293\n",
      "💤 retrieving https://domo-support.domo.com/s/article/360042931354 💤\n"
     ]
    },
    {
     "name": "stderr",
     "output_type": "stream",
     "text": [
      "2023-05-01 16:21:45,973 INFO:Crawling: https://domo-support.domo.com/s/article/360042935394\n"
     ]
    },
    {
     "name": "stdout",
     "output_type": "stream",
     "text": [
      "done processing https://domo-support.domo.com/s/article/360042931354\n",
      "💤 retrieving https://domo-support.domo.com/s/article/360042935394 💤\n"
     ]
    },
    {
     "name": "stderr",
     "output_type": "stream",
     "text": [
      "2023-05-01 16:21:49,249 INFO:Crawling: https://domo-support.domo.com/s/article/360042935734\n"
     ]
    },
    {
     "name": "stdout",
     "output_type": "stream",
     "text": [
      "done processing https://domo-support.domo.com/s/article/360042935394\n",
      "💤 retrieving https://domo-support.domo.com/s/article/360042935734 💤\n"
     ]
    },
    {
     "name": "stderr",
     "output_type": "stream",
     "text": [
      "2023-05-01 16:21:54,153 INFO:Crawling: https://domo-support.domo.com/s/article/360043429773\n"
     ]
    },
    {
     "name": "stdout",
     "output_type": "stream",
     "text": [
      "done processing https://domo-support.domo.com/s/article/360042935734\n",
      "💤 retrieving https://domo-support.domo.com/s/article/360043429773 💤\n"
     ]
    },
    {
     "name": "stderr",
     "output_type": "stream",
     "text": [
      "2023-05-01 16:21:57,183 INFO:Crawling: https://domo-support.domo.com/s/article/360043437473\n"
     ]
    },
    {
     "name": "stdout",
     "output_type": "stream",
     "text": [
      "done processing https://domo-support.domo.com/s/article/360043429773\n",
      "💤 retrieving https://domo-support.domo.com/s/article/360043437473 💤\n"
     ]
    },
    {
     "name": "stderr",
     "output_type": "stream",
     "text": [
      "2023-05-01 16:22:00,276 INFO:Crawling: https://domo-support.domo.com/s/article/360043429753\n"
     ]
    },
    {
     "name": "stdout",
     "output_type": "stream",
     "text": [
      "done processing https://domo-support.domo.com/s/article/360043437473\n",
      "💤 retrieving https://domo-support.domo.com/s/article/360043429753 💤\n"
     ]
    },
    {
     "name": "stderr",
     "output_type": "stream",
     "text": [
      "2023-05-01 16:22:03,946 INFO:Crawling: https://domo-support.domo.com/s/article/360043428033\n"
     ]
    },
    {
     "name": "stdout",
     "output_type": "stream",
     "text": [
      "done processing https://domo-support.domo.com/s/article/360043429753\n",
      "💤 retrieving https://domo-support.domo.com/s/article/360043428033 💤\n"
     ]
    },
    {
     "name": "stderr",
     "output_type": "stream",
     "text": [
      "2023-05-01 16:22:07,153 INFO:Crawling: https://domo-support.domo.com/s/article/360047496013\n"
     ]
    },
    {
     "name": "stdout",
     "output_type": "stream",
     "text": [
      "done processing https://domo-support.domo.com/s/article/360043428033\n",
      "💤 retrieving https://domo-support.domo.com/s/article/360047496013 💤\n"
     ]
    },
    {
     "name": "stderr",
     "output_type": "stream",
     "text": [
      "2023-05-01 16:22:10,168 INFO:Crawling: https://domo-support.domo.com/s/article/360043429653\n"
     ]
    },
    {
     "name": "stdout",
     "output_type": "stream",
     "text": [
      "done processing https://domo-support.domo.com/s/article/360047496013\n",
      "💤 retrieving https://domo-support.domo.com/s/article/360043429653 💤\n"
     ]
    },
    {
     "name": "stderr",
     "output_type": "stream",
     "text": [
      "2023-05-01 16:22:13,647 INFO:Crawling: https://domo-support.domo.com/s/article/360043438913\n"
     ]
    },
    {
     "name": "stdout",
     "output_type": "stream",
     "text": [
      "done processing https://domo-support.domo.com/s/article/360043429653\n",
      "💤 retrieving https://domo-support.domo.com/s/article/360043438913 💤\n"
     ]
    },
    {
     "name": "stderr",
     "output_type": "stream",
     "text": [
      "2023-05-01 16:22:29,721 ERROR:Failed to crawl: https://domo-support.domo.com/s/article/360043438913\n",
      "Traceback (most recent call last):\n",
      "  File \"C:\\Users\\jaewi\\AppData\\Local\\Temp\\ipykernel_24296\\2782779626.py\", line 131, in run\n",
      "    is_visited = self.crawl(url, debug_prn)\n",
      "                 ^^^^^^^^^^^^^^^^^^^^^^^^^^\n",
      "  File \"C:\\Users\\jaewi\\AppData\\Local\\Temp\\ipykernel_24296\\2782779626.py\", line 115, in crawl\n",
      "    [self.add_url_to_visit(url=url, debug_prn=debug_prn) for url in url_ls]\n",
      "TypeError: 'NoneType' object is not iterable\n",
      "2023-05-01 16:22:29,722 INFO:Crawling: https://domo-support.domo.com/s/article/360042935354\n"
     ]
    },
    {
     "name": "stdout",
     "output_type": "stream",
     "text": [
      "ERROR: Message: \n",
      " -  https://domo-support.domo.com/s/article/360043438913 failed to load page within 15 seconds.  is the element represented in the element list?\n",
      "done processing https://domo-support.domo.com/s/article/360043438913\n",
      "💤 retrieving https://domo-support.domo.com/s/article/360042935354 💤\n"
     ]
    },
    {
     "name": "stderr",
     "output_type": "stream",
     "text": [
      "2023-05-01 16:22:33,477 INFO:Crawling: https://domo-support.domo.com/s/article/360058713713\n"
     ]
    },
    {
     "name": "stdout",
     "output_type": "stream",
     "text": [
      "done processing https://domo-support.domo.com/s/article/360042935354\n",
      "💤 retrieving https://domo-support.domo.com/s/article/360058713713 💤\n"
     ]
    },
    {
     "name": "stderr",
     "output_type": "stream",
     "text": [
      "2023-05-01 16:22:36,474 INFO:Crawling: https://domo-support.domo.com/s/article/360042932674\n"
     ]
    },
    {
     "name": "stdout",
     "output_type": "stream",
     "text": [
      "done processing https://domo-support.domo.com/s/article/360058713713\n",
      "💤 retrieving https://domo-support.domo.com/s/article/360042932674 💤\n"
     ]
    },
    {
     "name": "stderr",
     "output_type": "stream",
     "text": [
      "2023-05-01 16:22:40,573 INFO:Crawling: https://domo-support.domo.com/s/article/360042934334\n"
     ]
    },
    {
     "name": "stdout",
     "output_type": "stream",
     "text": [
      "done processing https://domo-support.domo.com/s/article/360042932674\n",
      "💤 retrieving https://domo-support.domo.com/s/article/360042934334 💤\n"
     ]
    },
    {
     "name": "stderr",
     "output_type": "stream",
     "text": [
      "2023-05-01 16:22:43,576 INFO:Crawling: https://domo-support.domo.com/s/article/360043437233\n"
     ]
    },
    {
     "name": "stdout",
     "output_type": "stream",
     "text": [
      "done processing https://domo-support.domo.com/s/article/360042934334\n",
      "💤 retrieving https://domo-support.domo.com/s/article/360043437233 💤\n"
     ]
    },
    {
     "name": "stderr",
     "output_type": "stream",
     "text": [
      "2023-05-01 16:22:46,769 INFO:Crawling: https://domo-support.domo.com/s/article/360042924754\n"
     ]
    },
    {
     "name": "stdout",
     "output_type": "stream",
     "text": [
      "done processing https://domo-support.domo.com/s/article/360043437233\n",
      "💤 retrieving https://domo-support.domo.com/s/article/360042924754 💤\n"
     ]
    },
    {
     "name": "stderr",
     "output_type": "stream",
     "text": [
      "2023-05-01 16:22:49,918 INFO:Crawling: https://domo-support.domo.com/s/article/360058903093\n"
     ]
    },
    {
     "name": "stdout",
     "output_type": "stream",
     "text": [
      "done processing https://domo-support.domo.com/s/article/360042924754\n",
      "💤 retrieving https://domo-support.domo.com/s/article/360058903093 💤\n"
     ]
    },
    {
     "name": "stderr",
     "output_type": "stream",
     "text": [
      "2023-05-01 16:22:52,914 INFO:Crawling: https://domo-support.domo.com/s/article/4407013897367\n"
     ]
    },
    {
     "name": "stdout",
     "output_type": "stream",
     "text": [
      "done processing https://domo-support.domo.com/s/article/360058903093\n",
      "💤 retrieving https://domo-support.domo.com/s/article/4407013897367 💤\n"
     ]
    },
    {
     "name": "stderr",
     "output_type": "stream",
     "text": [
      "2023-05-01 16:22:55,895 INFO:Crawling: https://domo-support.domo.com/s/article/8230241776791\n"
     ]
    },
    {
     "name": "stdout",
     "output_type": "stream",
     "text": [
      "done processing https://domo-support.domo.com/s/article/4407013897367\n",
      "💤 retrieving https://domo-support.domo.com/s/article/8230241776791 💤\n"
     ]
    },
    {
     "name": "stderr",
     "output_type": "stream",
     "text": [
      "2023-05-01 16:22:58,851 INFO:Crawling: https://domo-support.domo.com/s/article/360043437193\n"
     ]
    },
    {
     "name": "stdout",
     "output_type": "stream",
     "text": [
      "done processing https://domo-support.domo.com/s/article/8230241776791\n",
      "💤 retrieving https://domo-support.domo.com/s/article/360043437193 💤\n"
     ]
    },
    {
     "name": "stderr",
     "output_type": "stream",
     "text": [
      "2023-05-01 16:23:01,945 INFO:Crawling: https://domo-support.domo.com/s/article/360042924054\n"
     ]
    },
    {
     "name": "stdout",
     "output_type": "stream",
     "text": [
      "done processing https://domo-support.domo.com/s/article/360043437193\n",
      "💤 retrieving https://domo-support.domo.com/s/article/360042924054 💤\n"
     ]
    },
    {
     "name": "stderr",
     "output_type": "stream",
     "text": [
      "2023-05-01 16:23:04,929 INFO:Crawling: https://domo-support.domo.com/s/article/360043440273\n"
     ]
    },
    {
     "name": "stdout",
     "output_type": "stream",
     "text": [
      "done processing https://domo-support.domo.com/s/article/360042924054\n",
      "💤 retrieving https://domo-support.domo.com/s/article/360043440273 💤\n"
     ]
    },
    {
     "name": "stderr",
     "output_type": "stream",
     "text": [
      "2023-05-01 16:23:08,594 ERROR:Failed to crawl: https://domo-support.domo.com/s/article/360043440273\n",
      "Traceback (most recent call last):\n",
      "  File \"C:\\Users\\jaewi\\AppData\\Local\\Temp\\ipykernel_24296\\2782779626.py\", line 131, in run\n",
      "    is_visited = self.crawl(url, debug_prn)\n",
      "                 ^^^^^^^^^^^^^^^^^^^^^^^^^^\n",
      "  File \"C:\\Users\\jaewi\\AppData\\Local\\Temp\\ipykernel_24296\\2782779626.py\", line 113, in crawl\n",
      "    url_ls = process_url(url = url, driver = self.driver,base_output_folder=self.base_output_folder )\n",
      "             ^^^^^^^^^^^^^^^^^^^^^^^^^^^^^^^^^^^^^^^^^^^^^^^^^^^^^^^^^^^^^^^^^^^^^^^^^^^^^^^^^^^^^^^^\n",
      "  File \"C:\\Users\\jaewi\\AppData\\Local\\Temp\\ipykernel_24296\\2861553324.py\", line 66, in process_url\n",
      "    update_listing(id=url,\n",
      "  File \"C:\\Users\\jaewi\\AppData\\Local\\Temp\\ipykernel_24296\\2861553324.py\", line 19, in update_listing\n",
      "    df.to_csv(listing_file_path)\n",
      "  File \"C:\\Users\\jaewi\\AppData\\Local\\Packages\\PythonSoftwareFoundation.Python.3.11_qbz5n2kfra8p0\\LocalCache\\local-packages\\Python311\\site-packages\\pandas\\util\\_decorators.py\", line 211, in wrapper\n",
      "    return func(*args, **kwargs)\n",
      "           ^^^^^^^^^^^^^^^^^^^^^\n",
      "  File \"C:\\Users\\jaewi\\AppData\\Local\\Packages\\PythonSoftwareFoundation.Python.3.11_qbz5n2kfra8p0\\LocalCache\\local-packages\\Python311\\site-packages\\pandas\\core\\generic.py\", line 3720, in to_csv\n",
      "    return DataFrameRenderer(formatter).to_csv(\n",
      "           ^^^^^^^^^^^^^^^^^^^^^^^^^^^^^^^^^^^^\n",
      "  File \"C:\\Users\\jaewi\\AppData\\Local\\Packages\\PythonSoftwareFoundation.Python.3.11_qbz5n2kfra8p0\\LocalCache\\local-packages\\Python311\\site-packages\\pandas\\util\\_decorators.py\", line 211, in wrapper\n",
      "    return func(*args, **kwargs)\n",
      "           ^^^^^^^^^^^^^^^^^^^^^\n",
      "  File \"C:\\Users\\jaewi\\AppData\\Local\\Packages\\PythonSoftwareFoundation.Python.3.11_qbz5n2kfra8p0\\LocalCache\\local-packages\\Python311\\site-packages\\pandas\\io\\formats\\format.py\", line 1189, in to_csv\n",
      "    csv_formatter.save()\n",
      "  File \"C:\\Users\\jaewi\\AppData\\Local\\Packages\\PythonSoftwareFoundation.Python.3.11_qbz5n2kfra8p0\\LocalCache\\local-packages\\Python311\\site-packages\\pandas\\io\\formats\\csvs.py\", line 241, in save\n",
      "    with get_handle(\n",
      "         ^^^^^^^^^^^\n",
      "  File \"C:\\Users\\jaewi\\AppData\\Local\\Packages\\PythonSoftwareFoundation.Python.3.11_qbz5n2kfra8p0\\LocalCache\\local-packages\\Python311\\site-packages\\pandas\\io\\common.py\", line 856, in get_handle\n",
      "    handle = open(\n",
      "             ^^^^^\n",
      "OSError: [Errno 22] Invalid argument: '../../raw_kb_v2\\\\listing.csv'\n",
      "2023-05-01 16:23:08,654 INFO:Crawling: https://domo-support.domo.com/s/article/4407012348183\n"
     ]
    },
    {
     "name": "stdout",
     "output_type": "stream",
     "text": [
      "💤 retrieving https://domo-support.domo.com/s/article/4407012348183 💤\n"
     ]
    },
    {
     "name": "stderr",
     "output_type": "stream",
     "text": [
      "2023-05-01 16:23:11,767 ERROR:Failed to crawl: https://domo-support.domo.com/s/article/4407012348183\n",
      "Traceback (most recent call last):\n",
      "  File \"C:\\Users\\jaewi\\AppData\\Local\\Temp\\ipykernel_24296\\2782779626.py\", line 131, in run\n",
      "    is_visited = self.crawl(url, debug_prn)\n",
      "                 ^^^^^^^^^^^^^^^^^^^^^^^^^^\n",
      "  File \"C:\\Users\\jaewi\\AppData\\Local\\Temp\\ipykernel_24296\\2782779626.py\", line 113, in crawl\n",
      "    url_ls = process_url(url = url, driver = self.driver,base_output_folder=self.base_output_folder )\n",
      "             ^^^^^^^^^^^^^^^^^^^^^^^^^^^^^^^^^^^^^^^^^^^^^^^^^^^^^^^^^^^^^^^^^^^^^^^^^^^^^^^^^^^^^^^^\n",
      "  File \"C:\\Users\\jaewi\\AppData\\Local\\Temp\\ipykernel_24296\\2861553324.py\", line 66, in process_url\n",
      "    update_listing(id=url,\n",
      "  File \"C:\\Users\\jaewi\\AppData\\Local\\Temp\\ipykernel_24296\\2861553324.py\", line 19, in update_listing\n",
      "    df.to_csv(listing_file_path)\n",
      "  File \"C:\\Users\\jaewi\\AppData\\Local\\Packages\\PythonSoftwareFoundation.Python.3.11_qbz5n2kfra8p0\\LocalCache\\local-packages\\Python311\\site-packages\\pandas\\util\\_decorators.py\", line 211, in wrapper\n",
      "    return func(*args, **kwargs)\n",
      "           ^^^^^^^^^^^^^^^^^^^^^\n",
      "  File \"C:\\Users\\jaewi\\AppData\\Local\\Packages\\PythonSoftwareFoundation.Python.3.11_qbz5n2kfra8p0\\LocalCache\\local-packages\\Python311\\site-packages\\pandas\\core\\generic.py\", line 3720, in to_csv\n",
      "    return DataFrameRenderer(formatter).to_csv(\n",
      "           ^^^^^^^^^^^^^^^^^^^^^^^^^^^^^^^^^^^^\n",
      "  File \"C:\\Users\\jaewi\\AppData\\Local\\Packages\\PythonSoftwareFoundation.Python.3.11_qbz5n2kfra8p0\\LocalCache\\local-packages\\Python311\\site-packages\\pandas\\util\\_decorators.py\", line 211, in wrapper\n",
      "    return func(*args, **kwargs)\n",
      "           ^^^^^^^^^^^^^^^^^^^^^\n",
      "  File \"C:\\Users\\jaewi\\AppData\\Local\\Packages\\PythonSoftwareFoundation.Python.3.11_qbz5n2kfra8p0\\LocalCache\\local-packages\\Python311\\site-packages\\pandas\\io\\formats\\format.py\", line 1189, in to_csv\n",
      "    csv_formatter.save()\n",
      "  File \"C:\\Users\\jaewi\\AppData\\Local\\Packages\\PythonSoftwareFoundation.Python.3.11_qbz5n2kfra8p0\\LocalCache\\local-packages\\Python311\\site-packages\\pandas\\io\\formats\\csvs.py\", line 241, in save\n",
      "    with get_handle(\n",
      "         ^^^^^^^^^^^\n",
      "  File \"C:\\Users\\jaewi\\AppData\\Local\\Packages\\PythonSoftwareFoundation.Python.3.11_qbz5n2kfra8p0\\LocalCache\\local-packages\\Python311\\site-packages\\pandas\\io\\common.py\", line 856, in get_handle\n",
      "    handle = open(\n",
      "             ^^^^^\n",
      "OSError: [Errno 22] Invalid argument: '../../raw_kb_v2\\\\listing.csv'\n",
      "2023-05-01 16:23:11,768 INFO:Crawling: https://domo-support.domo.com/s/article/4404148803479\n"
     ]
    },
    {
     "name": "stdout",
     "output_type": "stream",
     "text": [
      "💤 retrieving https://domo-support.domo.com/s/article/4404148803479 💤\n"
     ]
    },
    {
     "name": "stderr",
     "output_type": "stream",
     "text": [
      "2023-05-01 16:23:14,926 ERROR:Failed to crawl: https://domo-support.domo.com/s/article/4404148803479\n",
      "Traceback (most recent call last):\n",
      "  File \"C:\\Users\\jaewi\\AppData\\Local\\Temp\\ipykernel_24296\\2782779626.py\", line 131, in run\n",
      "    is_visited = self.crawl(url, debug_prn)\n",
      "                 ^^^^^^^^^^^^^^^^^^^^^^^^^^\n",
      "  File \"C:\\Users\\jaewi\\AppData\\Local\\Temp\\ipykernel_24296\\2782779626.py\", line 113, in crawl\n",
      "    url_ls = process_url(url = url, driver = self.driver,base_output_folder=self.base_output_folder )\n",
      "             ^^^^^^^^^^^^^^^^^^^^^^^^^^^^^^^^^^^^^^^^^^^^^^^^^^^^^^^^^^^^^^^^^^^^^^^^^^^^^^^^^^^^^^^^\n",
      "  File \"C:\\Users\\jaewi\\AppData\\Local\\Temp\\ipykernel_24296\\2861553324.py\", line 66, in process_url\n",
      "    update_listing(id=url,\n",
      "  File \"C:\\Users\\jaewi\\AppData\\Local\\Temp\\ipykernel_24296\\2861553324.py\", line 19, in update_listing\n",
      "    df.to_csv(listing_file_path)\n",
      "  File \"C:\\Users\\jaewi\\AppData\\Local\\Packages\\PythonSoftwareFoundation.Python.3.11_qbz5n2kfra8p0\\LocalCache\\local-packages\\Python311\\site-packages\\pandas\\util\\_decorators.py\", line 211, in wrapper\n",
      "    return func(*args, **kwargs)\n",
      "           ^^^^^^^^^^^^^^^^^^^^^\n",
      "  File \"C:\\Users\\jaewi\\AppData\\Local\\Packages\\PythonSoftwareFoundation.Python.3.11_qbz5n2kfra8p0\\LocalCache\\local-packages\\Python311\\site-packages\\pandas\\core\\generic.py\", line 3720, in to_csv\n",
      "    return DataFrameRenderer(formatter).to_csv(\n",
      "           ^^^^^^^^^^^^^^^^^^^^^^^^^^^^^^^^^^^^\n",
      "  File \"C:\\Users\\jaewi\\AppData\\Local\\Packages\\PythonSoftwareFoundation.Python.3.11_qbz5n2kfra8p0\\LocalCache\\local-packages\\Python311\\site-packages\\pandas\\util\\_decorators.py\", line 211, in wrapper\n",
      "    return func(*args, **kwargs)\n",
      "           ^^^^^^^^^^^^^^^^^^^^^\n",
      "  File \"C:\\Users\\jaewi\\AppData\\Local\\Packages\\PythonSoftwareFoundation.Python.3.11_qbz5n2kfra8p0\\LocalCache\\local-packages\\Python311\\site-packages\\pandas\\io\\formats\\format.py\", line 1189, in to_csv\n",
      "    csv_formatter.save()\n",
      "  File \"C:\\Users\\jaewi\\AppData\\Local\\Packages\\PythonSoftwareFoundation.Python.3.11_qbz5n2kfra8p0\\LocalCache\\local-packages\\Python311\\site-packages\\pandas\\io\\formats\\csvs.py\", line 241, in save\n",
      "    with get_handle(\n",
      "         ^^^^^^^^^^^\n",
      "  File \"C:\\Users\\jaewi\\AppData\\Local\\Packages\\PythonSoftwareFoundation.Python.3.11_qbz5n2kfra8p0\\LocalCache\\local-packages\\Python311\\site-packages\\pandas\\io\\common.py\", line 856, in get_handle\n",
      "    handle = open(\n",
      "             ^^^^^\n",
      "OSError: [Errno 22] Invalid argument: '../../raw_kb_v2\\\\listing.csv'\n",
      "2023-05-01 16:23:14,928 INFO:Crawling: https://domo-support.domo.com/s/article/1500000162442\n"
     ]
    },
    {
     "name": "stdout",
     "output_type": "stream",
     "text": [
      "💤 retrieving https://domo-support.domo.com/s/article/1500000162442 💤\n"
     ]
    },
    {
     "name": "stderr",
     "output_type": "stream",
     "text": [
      "2023-05-01 16:23:18,694 ERROR:Failed to crawl: https://domo-support.domo.com/s/article/1500000162442\n",
      "Traceback (most recent call last):\n",
      "  File \"C:\\Users\\jaewi\\AppData\\Local\\Temp\\ipykernel_24296\\2782779626.py\", line 131, in run\n",
      "    is_visited = self.crawl(url, debug_prn)\n",
      "                 ^^^^^^^^^^^^^^^^^^^^^^^^^^\n",
      "  File \"C:\\Users\\jaewi\\AppData\\Local\\Temp\\ipykernel_24296\\2782779626.py\", line 113, in crawl\n",
      "    url_ls = process_url(url = url, driver = self.driver,base_output_folder=self.base_output_folder )\n",
      "             ^^^^^^^^^^^^^^^^^^^^^^^^^^^^^^^^^^^^^^^^^^^^^^^^^^^^^^^^^^^^^^^^^^^^^^^^^^^^^^^^^^^^^^^^\n",
      "  File \"C:\\Users\\jaewi\\AppData\\Local\\Temp\\ipykernel_24296\\2861553324.py\", line 66, in process_url\n",
      "    update_listing(id=url,\n",
      "  File \"C:\\Users\\jaewi\\AppData\\Local\\Temp\\ipykernel_24296\\2861553324.py\", line 19, in update_listing\n",
      "    df.to_csv(listing_file_path)\n",
      "  File \"C:\\Users\\jaewi\\AppData\\Local\\Packages\\PythonSoftwareFoundation.Python.3.11_qbz5n2kfra8p0\\LocalCache\\local-packages\\Python311\\site-packages\\pandas\\util\\_decorators.py\", line 211, in wrapper\n",
      "    return func(*args, **kwargs)\n",
      "           ^^^^^^^^^^^^^^^^^^^^^\n",
      "  File \"C:\\Users\\jaewi\\AppData\\Local\\Packages\\PythonSoftwareFoundation.Python.3.11_qbz5n2kfra8p0\\LocalCache\\local-packages\\Python311\\site-packages\\pandas\\core\\generic.py\", line 3720, in to_csv\n",
      "    return DataFrameRenderer(formatter).to_csv(\n",
      "           ^^^^^^^^^^^^^^^^^^^^^^^^^^^^^^^^^^^^\n",
      "  File \"C:\\Users\\jaewi\\AppData\\Local\\Packages\\PythonSoftwareFoundation.Python.3.11_qbz5n2kfra8p0\\LocalCache\\local-packages\\Python311\\site-packages\\pandas\\util\\_decorators.py\", line 211, in wrapper\n",
      "    return func(*args, **kwargs)\n",
      "           ^^^^^^^^^^^^^^^^^^^^^\n",
      "  File \"C:\\Users\\jaewi\\AppData\\Local\\Packages\\PythonSoftwareFoundation.Python.3.11_qbz5n2kfra8p0\\LocalCache\\local-packages\\Python311\\site-packages\\pandas\\io\\formats\\format.py\", line 1189, in to_csv\n",
      "    csv_formatter.save()\n",
      "  File \"C:\\Users\\jaewi\\AppData\\Local\\Packages\\PythonSoftwareFoundation.Python.3.11_qbz5n2kfra8p0\\LocalCache\\local-packages\\Python311\\site-packages\\pandas\\io\\formats\\csvs.py\", line 241, in save\n",
      "    with get_handle(\n",
      "         ^^^^^^^^^^^\n",
      "  File \"C:\\Users\\jaewi\\AppData\\Local\\Packages\\PythonSoftwareFoundation.Python.3.11_qbz5n2kfra8p0\\LocalCache\\local-packages\\Python311\\site-packages\\pandas\\io\\common.py\", line 856, in get_handle\n",
      "    handle = open(\n",
      "             ^^^^^\n",
      "OSError: [Errno 22] Invalid argument: '../../raw_kb_v2\\\\listing.csv'\n",
      "2023-05-01 16:23:18,696 INFO:Crawling: https://domo-support.domo.com/s/article/360042924234\n"
     ]
    },
    {
     "name": "stdout",
     "output_type": "stream",
     "text": [
      "💤 retrieving https://domo-support.domo.com/s/article/360042924234 💤\n"
     ]
    },
    {
     "name": "stderr",
     "output_type": "stream",
     "text": [
      "2023-05-01 16:23:21,246 ERROR:Failed to crawl: https://domo-support.domo.com/s/article/360042924234\n",
      "Traceback (most recent call last):\n",
      "  File \"C:\\Users\\jaewi\\AppData\\Local\\Temp\\ipykernel_24296\\2782779626.py\", line 131, in run\n",
      "    is_visited = self.crawl(url, debug_prn)\n",
      "                 ^^^^^^^^^^^^^^^^^^^^^^^^^^\n",
      "  File \"C:\\Users\\jaewi\\AppData\\Local\\Temp\\ipykernel_24296\\2782779626.py\", line 113, in crawl\n",
      "    url_ls = process_url(url = url, driver = self.driver,base_output_folder=self.base_output_folder )\n",
      "             ^^^^^^^^^^^^^^^^^^^^^^^^^^^^^^^^^^^^^^^^^^^^^^^^^^^^^^^^^^^^^^^^^^^^^^^^^^^^^^^^^^^^^^^^\n",
      "  File \"C:\\Users\\jaewi\\AppData\\Local\\Temp\\ipykernel_24296\\2861553324.py\", line 66, in process_url\n",
      "    update_listing(id=url,\n",
      "  File \"C:\\Users\\jaewi\\AppData\\Local\\Temp\\ipykernel_24296\\2861553324.py\", line 19, in update_listing\n",
      "    df.to_csv(listing_file_path)\n",
      "  File \"C:\\Users\\jaewi\\AppData\\Local\\Packages\\PythonSoftwareFoundation.Python.3.11_qbz5n2kfra8p0\\LocalCache\\local-packages\\Python311\\site-packages\\pandas\\util\\_decorators.py\", line 211, in wrapper\n",
      "    return func(*args, **kwargs)\n",
      "           ^^^^^^^^^^^^^^^^^^^^^\n",
      "  File \"C:\\Users\\jaewi\\AppData\\Local\\Packages\\PythonSoftwareFoundation.Python.3.11_qbz5n2kfra8p0\\LocalCache\\local-packages\\Python311\\site-packages\\pandas\\core\\generic.py\", line 3720, in to_csv\n",
      "    return DataFrameRenderer(formatter).to_csv(\n",
      "           ^^^^^^^^^^^^^^^^^^^^^^^^^^^^^^^^^^^^\n",
      "  File \"C:\\Users\\jaewi\\AppData\\Local\\Packages\\PythonSoftwareFoundation.Python.3.11_qbz5n2kfra8p0\\LocalCache\\local-packages\\Python311\\site-packages\\pandas\\util\\_decorators.py\", line 211, in wrapper\n",
      "    return func(*args, **kwargs)\n",
      "           ^^^^^^^^^^^^^^^^^^^^^\n",
      "  File \"C:\\Users\\jaewi\\AppData\\Local\\Packages\\PythonSoftwareFoundation.Python.3.11_qbz5n2kfra8p0\\LocalCache\\local-packages\\Python311\\site-packages\\pandas\\io\\formats\\format.py\", line 1189, in to_csv\n",
      "    csv_formatter.save()\n",
      "  File \"C:\\Users\\jaewi\\AppData\\Local\\Packages\\PythonSoftwareFoundation.Python.3.11_qbz5n2kfra8p0\\LocalCache\\local-packages\\Python311\\site-packages\\pandas\\io\\formats\\csvs.py\", line 241, in save\n",
      "    with get_handle(\n",
      "         ^^^^^^^^^^^\n",
      "  File \"C:\\Users\\jaewi\\AppData\\Local\\Packages\\PythonSoftwareFoundation.Python.3.11_qbz5n2kfra8p0\\LocalCache\\local-packages\\Python311\\site-packages\\pandas\\io\\common.py\", line 856, in get_handle\n",
      "    handle = open(\n",
      "             ^^^^^\n",
      "OSError: [Errno 22] Invalid argument: '../../raw_kb_v2\\\\listing.csv'\n",
      "2023-05-01 16:23:21,248 INFO:Crawling: https://domo-support.domo.com/s/article/360043429513\n"
     ]
    },
    {
     "name": "stdout",
     "output_type": "stream",
     "text": [
      "💤 retrieving https://domo-support.domo.com/s/article/360043429513 💤\n"
     ]
    },
    {
     "name": "stderr",
     "output_type": "stream",
     "text": [
      "2023-05-01 16:23:23,866 INFO:Crawling: https://domo-support.domo.com/s/article/360042932394\n"
     ]
    },
    {
     "name": "stdout",
     "output_type": "stream",
     "text": [
      "done processing https://domo-support.domo.com/s/article/360043429513\n",
      "💤 retrieving https://domo-support.domo.com/s/article/360042932394 💤\n"
     ]
    },
    {
     "name": "stderr",
     "output_type": "stream",
     "text": [
      "2023-05-01 16:23:26,349 INFO:Crawling: https://domo-support.domo.com/s/article/360057014014\n"
     ]
    },
    {
     "name": "stdout",
     "output_type": "stream",
     "text": [
      "done processing https://domo-support.domo.com/s/article/360042932394\n",
      "💤 retrieving https://domo-support.domo.com/s/article/360057014014 💤\n"
     ]
    },
    {
     "name": "stderr",
     "output_type": "stream",
     "text": [
      "2023-05-01 16:23:28,839 INFO:Crawling: https://domo-support.domo.com/s/article/360043440133\n"
     ]
    },
    {
     "name": "stdout",
     "output_type": "stream",
     "text": [
      "done processing https://domo-support.domo.com/s/article/360057014014\n",
      "💤 retrieving https://domo-support.domo.com/s/article/360043440133 💤\n"
     ]
    },
    {
     "name": "stderr",
     "output_type": "stream",
     "text": [
      "2023-05-01 16:23:32,352 INFO:Crawling: https://domo-support.domo.com/s/article/360042931854\n"
     ]
    },
    {
     "name": "stdout",
     "output_type": "stream",
     "text": [
      "done processing https://domo-support.domo.com/s/article/360043440133\n",
      "💤 retrieving https://domo-support.domo.com/s/article/360042931854 💤\n"
     ]
    },
    {
     "name": "stderr",
     "output_type": "stream",
     "text": [
      "2023-05-01 16:23:34,999 INFO:Crawling: https://domo-support.domo.com/s/article/360043436633\n"
     ]
    },
    {
     "name": "stdout",
     "output_type": "stream",
     "text": [
      "done processing https://domo-support.domo.com/s/article/360042931854\n",
      "💤 retrieving https://domo-support.domo.com/s/article/360043436633 💤\n"
     ]
    },
    {
     "name": "stderr",
     "output_type": "stream",
     "text": [
      "2023-05-01 16:23:37,571 INFO:Crawling: https://domo-support.domo.com/s/article/360043430573\n"
     ]
    },
    {
     "name": "stdout",
     "output_type": "stream",
     "text": [
      "done processing https://domo-support.domo.com/s/article/360043436633\n",
      "💤 retrieving https://domo-support.domo.com/s/article/360043430573 💤\n"
     ]
    },
    {
     "name": "stderr",
     "output_type": "stream",
     "text": [
      "2023-05-01 16:23:41,269 INFO:Crawling: https://domo-support.domo.com/s/article/360044876614\n"
     ]
    },
    {
     "name": "stdout",
     "output_type": "stream",
     "text": [
      "done processing https://domo-support.domo.com/s/article/360043430573\n",
      "💤 retrieving https://domo-support.domo.com/s/article/360044876614 💤\n"
     ]
    },
    {
     "name": "stderr",
     "output_type": "stream",
     "text": [
      "2023-05-01 16:23:44,351 INFO:Crawling: https://domo-support.domo.com/s/article/1500010669841\n"
     ]
    },
    {
     "name": "stdout",
     "output_type": "stream",
     "text": [
      "done processing https://domo-support.domo.com/s/article/360044876614\n",
      "💤 retrieving https://domo-support.domo.com/s/article/1500010669841 💤\n"
     ]
    },
    {
     "name": "stderr",
     "output_type": "stream",
     "text": [
      "2023-05-01 16:23:47,470 INFO:Crawling: https://domo-support.domo.com/s/article/360042924994\n"
     ]
    },
    {
     "name": "stdout",
     "output_type": "stream",
     "text": [
      "done processing https://domo-support.domo.com/s/article/1500010669841\n",
      "💤 retrieving https://domo-support.domo.com/s/article/360042924994 💤\n"
     ]
    },
    {
     "name": "stderr",
     "output_type": "stream",
     "text": [
      "2023-05-01 16:23:49,930 INFO:Crawling: https://domo-support.domo.com/s/article/360043437373\n"
     ]
    },
    {
     "name": "stdout",
     "output_type": "stream",
     "text": [
      "done processing https://domo-support.domo.com/s/article/360042924994\n",
      "💤 retrieving https://domo-support.domo.com/s/article/360043437373 💤\n"
     ]
    },
    {
     "name": "stderr",
     "output_type": "stream",
     "text": [
      "2023-05-01 16:23:52,531 INFO:Crawling: https://domo-support.domo.com/s/article/7160786911639\n"
     ]
    },
    {
     "name": "stdout",
     "output_type": "stream",
     "text": [
      "done processing https://domo-support.domo.com/s/article/360043437373\n",
      "💤 retrieving https://domo-support.domo.com/s/article/7160786911639 💤\n"
     ]
    },
    {
     "name": "stderr",
     "output_type": "stream",
     "text": [
      "2023-05-01 16:23:55,301 INFO:Crawling: https://domo-support.domo.com/s/article/7591715386391\n"
     ]
    },
    {
     "name": "stdout",
     "output_type": "stream",
     "text": [
      "done processing https://domo-support.domo.com/s/article/7160786911639\n",
      "💤 retrieving https://domo-support.domo.com/s/article/7591715386391 💤\n"
     ]
    },
    {
     "name": "stderr",
     "output_type": "stream",
     "text": [
      "2023-05-01 16:23:58,741 INFO:Crawling: https://domo-support.domo.com/s/article/360042931574\n"
     ]
    },
    {
     "name": "stdout",
     "output_type": "stream",
     "text": [
      "done processing https://domo-support.domo.com/s/article/7591715386391\n",
      "💤 retrieving https://domo-support.domo.com/s/article/360042931574 💤\n"
     ]
    },
    {
     "name": "stderr",
     "output_type": "stream",
     "text": [
      "2023-05-01 16:24:01,825 INFO:Crawling: https://domo-support.domo.com/s/article/360042924394\n"
     ]
    },
    {
     "name": "stdout",
     "output_type": "stream",
     "text": [
      "done processing https://domo-support.domo.com/s/article/360042931574\n",
      "💤 retrieving https://domo-support.domo.com/s/article/360042924394 💤\n"
     ]
    },
    {
     "name": "stderr",
     "output_type": "stream",
     "text": [
      "2023-05-01 16:24:04,469 INFO:Crawling: https://domo-support.domo.com/s/article/4410301215127\n"
     ]
    },
    {
     "name": "stdout",
     "output_type": "stream",
     "text": [
      "done processing https://domo-support.domo.com/s/article/360042924394\n",
      "💤 retrieving https://domo-support.domo.com/s/article/4410301215127 💤\n"
     ]
    },
    {
     "name": "stderr",
     "output_type": "stream",
     "text": [
      "2023-05-01 16:24:07,618 INFO:Crawling: https://domo-support.domo.com/s/article/5714345629207\n"
     ]
    },
    {
     "name": "stdout",
     "output_type": "stream",
     "text": [
      "done processing https://domo-support.domo.com/s/article/4410301215127\n",
      "💤 retrieving https://domo-support.domo.com/s/article/5714345629207 💤\n"
     ]
    },
    {
     "name": "stderr",
     "output_type": "stream",
     "text": [
      "2023-05-01 16:24:10,574 INFO:Crawling: https://domo-support.domo.com/s/article/360042935674\n"
     ]
    },
    {
     "name": "stdout",
     "output_type": "stream",
     "text": [
      "done processing https://domo-support.domo.com/s/article/5714345629207\n",
      "💤 retrieving https://domo-support.domo.com/s/article/360042935674 💤\n"
     ]
    },
    {
     "name": "stderr",
     "output_type": "stream",
     "text": [
      "2023-05-01 16:24:13,807 INFO:Crawling: https://domo-support.domo.com/s/article/8657306040855\n"
     ]
    },
    {
     "name": "stdout",
     "output_type": "stream",
     "text": [
      "done processing https://domo-support.domo.com/s/article/360042935674\n",
      "💤 retrieving https://domo-support.domo.com/s/article/8657306040855 💤\n"
     ]
    },
    {
     "name": "stderr",
     "output_type": "stream",
     "text": [
      "2023-05-01 16:24:16,328 INFO:Crawling: https://domo-support.domo.com/s/article/360042931254\n"
     ]
    },
    {
     "name": "stdout",
     "output_type": "stream",
     "text": [
      "done processing https://domo-support.domo.com/s/article/8657306040855\n",
      "💤 retrieving https://domo-support.domo.com/s/article/360042931254 💤\n"
     ]
    },
    {
     "name": "stderr",
     "output_type": "stream",
     "text": [
      "2023-05-01 16:24:19,330 INFO:Crawling: https://domo-support.domo.com/s/article/360061224493\n"
     ]
    },
    {
     "name": "stdout",
     "output_type": "stream",
     "text": [
      "done processing https://domo-support.domo.com/s/article/360042931254\n",
      "💤 retrieving https://domo-support.domo.com/s/article/360061224493 💤\n"
     ]
    },
    {
     "name": "stderr",
     "output_type": "stream",
     "text": [
      "2023-05-01 16:24:22,424 INFO:Crawling: https://domo-support.domo.com/s/article/360042924894\n"
     ]
    },
    {
     "name": "stdout",
     "output_type": "stream",
     "text": [
      "done processing https://domo-support.domo.com/s/article/360061224493\n",
      "💤 retrieving https://domo-support.domo.com/s/article/360042924894 💤\n"
     ]
    },
    {
     "name": "stderr",
     "output_type": "stream",
     "text": [
      "2023-05-01 16:24:25,927 INFO:Crawling: https://domo-support.domo.com/s/article/4407022993303\n"
     ]
    },
    {
     "name": "stdout",
     "output_type": "stream",
     "text": [
      "done processing https://domo-support.domo.com/s/article/360042924894\n",
      "💤 retrieving https://domo-support.domo.com/s/article/4407022993303 💤\n"
     ]
    },
    {
     "name": "stderr",
     "output_type": "stream",
     "text": [
      "2023-05-01 16:24:28,471 INFO:Crawling: https://domo-support.domo.com/s/article/1500011371462\n"
     ]
    },
    {
     "name": "stdout",
     "output_type": "stream",
     "text": [
      "done processing https://domo-support.domo.com/s/article/4407022993303\n",
      "💤 retrieving https://domo-support.domo.com/s/article/1500011371462 💤\n"
     ]
    },
    {
     "name": "stderr",
     "output_type": "stream",
     "text": [
      "2023-05-01 16:24:31,491 INFO:Crawling: https://domo-support.domo.com/s/article/000005107\n"
     ]
    },
    {
     "name": "stdout",
     "output_type": "stream",
     "text": [
      "done processing https://domo-support.domo.com/s/article/1500011371462\n",
      "💤 retrieving https://domo-support.domo.com/s/article/000005107 💤\n"
     ]
    },
    {
     "name": "stderr",
     "output_type": "stream",
     "text": [
      "2023-05-01 16:24:34,644 INFO:Crawling: https://domo-support.domo.com/s/article/360043427633\n"
     ]
    },
    {
     "name": "stdout",
     "output_type": "stream",
     "text": [
      "done processing https://domo-support.domo.com/s/article/000005107\n",
      "💤 retrieving https://domo-support.domo.com/s/article/360043427633 💤\n"
     ]
    },
    {
     "name": "stderr",
     "output_type": "stream",
     "text": [
      "2023-05-01 16:24:50,784 ERROR:Failed to crawl: https://domo-support.domo.com/s/article/360043427633\n",
      "Traceback (most recent call last):\n",
      "  File \"C:\\Users\\jaewi\\AppData\\Local\\Temp\\ipykernel_24296\\2782779626.py\", line 131, in run\n",
      "    is_visited = self.crawl(url, debug_prn)\n",
      "                 ^^^^^^^^^^^^^^^^^^^^^^^^^^\n",
      "  File \"C:\\Users\\jaewi\\AppData\\Local\\Temp\\ipykernel_24296\\2782779626.py\", line 115, in crawl\n",
      "    [self.add_url_to_visit(url=url, debug_prn=debug_prn) for url in url_ls]\n",
      "TypeError: 'NoneType' object is not iterable\n",
      "2023-05-01 16:24:50,785 INFO:Crawling: https://domo-support.domo.com/s/article/4405652887191\n"
     ]
    },
    {
     "name": "stdout",
     "output_type": "stream",
     "text": [
      "ERROR: Message: \n",
      " -  https://domo-support.domo.com/s/article/360043427633 failed to load page within 15 seconds.  is the element represented in the element list?\n",
      "done processing https://domo-support.domo.com/s/article/360043427633\n",
      "💤 retrieving https://domo-support.domo.com/s/article/4405652887191 💤\n"
     ]
    },
    {
     "name": "stderr",
     "output_type": "stream",
     "text": [
      "2023-05-01 16:24:54,281 INFO:Crawling: https://domo-support.domo.com/s/article/360043439473\n"
     ]
    },
    {
     "name": "stdout",
     "output_type": "stream",
     "text": [
      "done processing https://domo-support.domo.com/s/article/4405652887191\n",
      "💤 retrieving https://domo-support.domo.com/s/article/360043439473 💤\n"
     ]
    },
    {
     "name": "stderr",
     "output_type": "stream",
     "text": [
      "2023-05-01 16:24:56,770 INFO:Crawling: https://domo-support.domo.com/s/article/360052122574\n"
     ]
    },
    {
     "name": "stdout",
     "output_type": "stream",
     "text": [
      "done processing https://domo-support.domo.com/s/article/360043439473\n",
      "💤 retrieving https://domo-support.domo.com/s/article/360052122574 💤\n"
     ]
    },
    {
     "name": "stderr",
     "output_type": "stream",
     "text": [
      "2023-05-01 16:24:59,398 INFO:Crawling: https://domo-support.domo.com/s/article/360042923894\n"
     ]
    },
    {
     "name": "stdout",
     "output_type": "stream",
     "text": [
      "done processing https://domo-support.domo.com/s/article/360052122574\n",
      "💤 retrieving https://domo-support.domo.com/s/article/360042923894 💤\n"
     ]
    },
    {
     "name": "stderr",
     "output_type": "stream",
     "text": [
      "2023-05-01 16:25:15,384 ERROR:Failed to crawl: https://domo-support.domo.com/s/article/360042923894\n",
      "Traceback (most recent call last):\n",
      "  File \"C:\\Users\\jaewi\\AppData\\Local\\Temp\\ipykernel_24296\\2782779626.py\", line 131, in run\n",
      "    is_visited = self.crawl(url, debug_prn)\n",
      "                 ^^^^^^^^^^^^^^^^^^^^^^^^^^\n",
      "  File \"C:\\Users\\jaewi\\AppData\\Local\\Temp\\ipykernel_24296\\2782779626.py\", line 115, in crawl\n",
      "    [self.add_url_to_visit(url=url, debug_prn=debug_prn) for url in url_ls]\n",
      "TypeError: 'NoneType' object is not iterable\n",
      "2023-05-01 16:25:15,385 INFO:Crawling: https://domo-support.domo.com/s/article/360043428973\n"
     ]
    },
    {
     "name": "stdout",
     "output_type": "stream",
     "text": [
      "ERROR: Message: \n",
      " -  https://domo-support.domo.com/s/article/360042923894 failed to load page within 15 seconds.  is the element represented in the element list?\n",
      "done processing https://domo-support.domo.com/s/article/360042923894\n",
      "💤 retrieving https://domo-support.domo.com/s/article/360043428973 💤\n"
     ]
    },
    {
     "name": "stderr",
     "output_type": "stream",
     "text": [
      "2023-05-01 16:25:19,164 INFO:Crawling: https://domo-support.domo.com/s/article/360043436673\n"
     ]
    },
    {
     "name": "stdout",
     "output_type": "stream",
     "text": [
      "done processing https://domo-support.domo.com/s/article/360043428973\n",
      "💤 retrieving https://domo-support.domo.com/s/article/360043436673 💤\n"
     ]
    },
    {
     "name": "stderr",
     "output_type": "stream",
     "text": [
      "2023-05-01 16:25:22,312 INFO:Crawling: https://domo-support.domo.com/s/article/4926944153367\n"
     ]
    },
    {
     "name": "stdout",
     "output_type": "stream",
     "text": [
      "done processing https://domo-support.domo.com/s/article/360043436673\n",
      "💤 retrieving https://domo-support.domo.com/s/article/4926944153367 💤\n"
     ]
    },
    {
     "name": "stderr",
     "output_type": "stream",
     "text": [
      "2023-05-01 16:25:25,530 INFO:Crawling: https://domo-support.domo.com/s/article/360043436393\n"
     ]
    },
    {
     "name": "stdout",
     "output_type": "stream",
     "text": [
      "done processing https://domo-support.domo.com/s/article/4926944153367\n",
      "💤 retrieving https://domo-support.domo.com/s/article/360043436393 💤\n"
     ]
    },
    {
     "name": "stderr",
     "output_type": "stream",
     "text": [
      "2023-05-01 16:25:28,606 INFO:Crawling: https://domo-support.domo.com/s/article/360046773094\n"
     ]
    },
    {
     "name": "stdout",
     "output_type": "stream",
     "text": [
      "done processing https://domo-support.domo.com/s/article/360043436393\n",
      "💤 retrieving https://domo-support.domo.com/s/article/360046773094 💤\n"
     ]
    },
    {
     "name": "stderr",
     "output_type": "stream",
     "text": [
      "2023-05-01 16:25:31,164 INFO:Crawling: https://domo-support.domo.com/s/article/360047400113\n"
     ]
    },
    {
     "name": "stdout",
     "output_type": "stream",
     "text": [
      "done processing https://domo-support.domo.com/s/article/360046773094\n",
      "💤 retrieving https://domo-support.domo.com/s/article/360047400113 💤\n"
     ]
    },
    {
     "name": "stderr",
     "output_type": "stream",
     "text": [
      "2023-05-01 16:25:34,085 INFO:Crawling: https://domo-support.domo.com/s/article/360043429433\n"
     ]
    },
    {
     "name": "stdout",
     "output_type": "stream",
     "text": [
      "done processing https://domo-support.domo.com/s/article/360047400113\n",
      "💤 retrieving https://domo-support.domo.com/s/article/360043429433 💤\n"
     ]
    },
    {
     "name": "stderr",
     "output_type": "stream",
     "text": [
      "2023-05-01 16:25:36,566 INFO:Crawling: https://domo-support.domo.com/s/article/360043437313\n"
     ]
    },
    {
     "name": "stdout",
     "output_type": "stream",
     "text": [
      "done processing https://domo-support.domo.com/s/article/360043429433\n",
      "💤 retrieving https://domo-support.domo.com/s/article/360043437313 💤\n"
     ]
    },
    {
     "name": "stderr",
     "output_type": "stream",
     "text": [
      "2023-05-01 16:25:52,475 ERROR:Failed to crawl: https://domo-support.domo.com/s/article/360043437313\n",
      "Traceback (most recent call last):\n",
      "  File \"C:\\Users\\jaewi\\AppData\\Local\\Temp\\ipykernel_24296\\2782779626.py\", line 131, in run\n",
      "    is_visited = self.crawl(url, debug_prn)\n",
      "                 ^^^^^^^^^^^^^^^^^^^^^^^^^^\n",
      "  File \"C:\\Users\\jaewi\\AppData\\Local\\Temp\\ipykernel_24296\\2782779626.py\", line 115, in crawl\n",
      "    [self.add_url_to_visit(url=url, debug_prn=debug_prn) for url in url_ls]\n",
      "TypeError: 'NoneType' object is not iterable\n",
      "2023-05-01 16:25:52,476 INFO:Crawling: https://domo-support.domo.com/s/article/360043438913\n"
     ]
    },
    {
     "name": "stdout",
     "output_type": "stream",
     "text": [
      "ERROR: Message: \n",
      " -  https://domo-support.domo.com/s/article/360043437313 failed to load page within 15 seconds.  is the element represented in the element list?\n",
      "done processing https://domo-support.domo.com/s/article/360043437313\n",
      "💤 retrieving https://domo-support.domo.com/s/article/360043438913 💤\n"
     ]
    },
    {
     "name": "stderr",
     "output_type": "stream",
     "text": [
      "2023-05-01 16:26:08,795 ERROR:Failed to crawl: https://domo-support.domo.com/s/article/360043438913\n",
      "Traceback (most recent call last):\n",
      "  File \"C:\\Users\\jaewi\\AppData\\Local\\Temp\\ipykernel_24296\\2782779626.py\", line 131, in run\n",
      "    is_visited = self.crawl(url, debug_prn)\n",
      "                 ^^^^^^^^^^^^^^^^^^^^^^^^^^\n",
      "  File \"C:\\Users\\jaewi\\AppData\\Local\\Temp\\ipykernel_24296\\2782779626.py\", line 115, in crawl\n",
      "    [self.add_url_to_visit(url=url, debug_prn=debug_prn) for url in url_ls]\n",
      "TypeError: 'NoneType' object is not iterable\n",
      "2023-05-01 16:26:08,796 INFO:Crawling: https://domo-support.domo.com/s/article/360043427633\n"
     ]
    },
    {
     "name": "stdout",
     "output_type": "stream",
     "text": [
      "ERROR: Message: \n",
      " -  https://domo-support.domo.com/s/article/360043438913 failed to load page within 15 seconds.  is the element represented in the element list?\n",
      "done processing https://domo-support.domo.com/s/article/360043438913\n",
      "💤 retrieving https://domo-support.domo.com/s/article/360043427633 💤\n"
     ]
    },
    {
     "name": "stderr",
     "output_type": "stream",
     "text": [
      "2023-05-01 16:26:25,026 ERROR:Failed to crawl: https://domo-support.domo.com/s/article/360043427633\n",
      "Traceback (most recent call last):\n",
      "  File \"C:\\Users\\jaewi\\AppData\\Local\\Temp\\ipykernel_24296\\2782779626.py\", line 131, in run\n",
      "    is_visited = self.crawl(url, debug_prn)\n",
      "                 ^^^^^^^^^^^^^^^^^^^^^^^^^^\n",
      "  File \"C:\\Users\\jaewi\\AppData\\Local\\Temp\\ipykernel_24296\\2782779626.py\", line 115, in crawl\n",
      "    [self.add_url_to_visit(url=url, debug_prn=debug_prn) for url in url_ls]\n",
      "TypeError: 'NoneType' object is not iterable\n",
      "2023-05-01 16:26:25,027 INFO:Crawling: https://domo-support.domo.com/s/article/360042923894\n"
     ]
    },
    {
     "name": "stdout",
     "output_type": "stream",
     "text": [
      "ERROR: Message: \n",
      " -  https://domo-support.domo.com/s/article/360043427633 failed to load page within 15 seconds.  is the element represented in the element list?\n",
      "done processing https://domo-support.domo.com/s/article/360043427633\n",
      "💤 retrieving https://domo-support.domo.com/s/article/360042923894 💤\n"
     ]
    },
    {
     "name": "stderr",
     "output_type": "stream",
     "text": [
      "2023-05-01 16:26:41,282 ERROR:Failed to crawl: https://domo-support.domo.com/s/article/360042923894\n",
      "Traceback (most recent call last):\n",
      "  File \"C:\\Users\\jaewi\\AppData\\Local\\Temp\\ipykernel_24296\\2782779626.py\", line 131, in run\n",
      "    is_visited = self.crawl(url, debug_prn)\n",
      "                 ^^^^^^^^^^^^^^^^^^^^^^^^^^\n",
      "  File \"C:\\Users\\jaewi\\AppData\\Local\\Temp\\ipykernel_24296\\2782779626.py\", line 115, in crawl\n",
      "    [self.add_url_to_visit(url=url, debug_prn=debug_prn) for url in url_ls]\n",
      "TypeError: 'NoneType' object is not iterable\n"
     ]
    },
    {
     "name": "stdout",
     "output_type": "stream",
     "text": [
      "ERROR: Message: \n",
      " -  https://domo-support.domo.com/s/article/360042923894 failed to load page within 15 seconds.  is the element represented in the element list?\n",
      "done processing https://domo-support.domo.com/s/article/360042923894\n",
      "done\n"
     ]
    },
    {
     "data": {
      "text/plain": [
       "<__main__.Crawler at 0x20b56d8f910>"
      ]
     },
     "execution_count": 9,
     "metadata": {},
     "output_type": "execute_result"
    }
   ],
   "source": [
    "from pprint import pprint\n",
    "\n",
    "crawler = Crawler(\n",
    "    urls_to_visit_ls=[TEST_HOME_URL], \n",
    "    base_url=BASE_URL, \n",
    "    base_output_folder= OUTPUT_FOLDER, \n",
    "    is_fresh_start = False\n",
    "    \n",
    ")\n",
    "\n",
    "pprint(crawler.__dict__)\n",
    "\n",
    "crawler.run(debug_prn=False)"
   ]
  },
  {
   "cell_type": "code",
   "execution_count": 10,
   "metadata": {},
   "outputs": [],
   "source": [
    "import pandas as pd \n",
    "import os\n",
    "\n",
    "def read_listing(\n",
    "    output_folder,\n",
    "    file_name: str,\n",
    "    ):\n",
    "\n",
    "    output_file = f\"{output_folder}/{file_name}\"\n",
    "\n",
    "    return pd.read_csv(output_file, index_col='id')\n",
    "\n",
    "\n",
    "def write_file_ls(file_path, data):\n",
    "\n",
    "    file = open(file_path, 'w+', encoding=\"utf-8\")\n",
    "\n",
    "    for item in data:\n",
    "        file.write(item+\"\\n\")\n",
    "    file.close()\n",
    "\n",
    "# articles to visited\n",
    "article_ls = read_listing(OUTPUT_FOLDER, 'listing.csv')\n",
    "article_ls = list(article_ls.index)\n",
    "write_file_ls(os.path.join(OUTPUT_FOLDER, 'crawler_visited.csv'), data = article_ls)\n",
    "\n",
    "with open(f\"{OUTPUT_FOLDER}/crawler_errors.csv\") as f:\n",
    "    article_ls = f.readlines()\n",
    "# article_ls = read_file(OUTPUT_FOLDER, 'crawler_errors.csv')\n",
    "article_ls \n",
    "# = list(article_ls.index)\n",
    "write_file_ls(os.path.join(OUTPUT_FOLDER, 'crawler_to_visit.csv'), data = article_ls)"
   ]
  }
 ],
 "metadata": {
  "kernelspec": {
   "display_name": "base",
   "language": "python",
   "name": "python3"
  },
  "language_info": {
   "codemirror_mode": {
    "name": "ipython",
    "version": 3
   },
   "file_extension": ".py",
   "mimetype": "text/x-python",
   "name": "python",
   "nbconvert_exporter": "python",
   "pygments_lexer": "ipython3",
   "version": "3.11.3"
  },
  "vscode": {
   "interpreter": {
    "hash": "b43e631a983881eee635638ba8d16a40e1a13e8bbb48ce0aff152a316858538a"
   }
  }
 },
 "nbformat": 4,
 "nbformat_minor": 2
}
