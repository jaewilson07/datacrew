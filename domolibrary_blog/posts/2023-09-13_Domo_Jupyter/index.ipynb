{
 "cells": [
  {
   "cell_type": "raw",
   "id": "e6194b5b",
   "metadata": {},
   "source": [
    "---\n",
    "title: Query Domo Jupyter with Python\n",
    "output-file: query_domo_jupyter_with_python.html\n",
    "author: [Jae Wilson]\n",
    "date: 2023-09-13\n",
    "categories: ['Python', 'DomoJupyter']\n",
    "skip_showdoc: true\n",
    "---\n"
   ]
  },
  {
   "cell_type": "markdown",
   "id": "62c4696d",
   "metadata": {},
   "source": [
    "# read in standard creds\n",
    "\n",
    "[![Tutorial Video pt 1 of 4]](https://youtu.be/7aTHw7scsa8)"
   ]
  },
  {
   "cell_type": "code",
   "execution_count": null,
   "id": "01ec21fd",
   "metadata": {},
   "outputs": [],
   "source": [
    "import os\n",
    "import json\n",
    "\n",
    "from urllib.parse import urlparse\n",
    "import datetime as dt\n",
    "from dateutil.parser import parse\n",
    "\n",
    "from dataclasses import dataclass, field\n",
    "\n",
    "from pprint import pprint\n",
    "\n",
    "import domolibrary.client.DomoAuth as dmda\n",
    "import domolibrary.client.get_data as gd\n",
    "import domolibrary.utils.DictDot as util_dd"
   ]
  },
  {
   "cell_type": "code",
   "execution_count": null,
   "id": "edd2a3b7",
   "metadata": {},
   "outputs": [
    {
     "name": "stdout",
     "output_type": "stream",
     "text": [
      "🎉 token retrieved from domo-community ⚙️\n"
     ]
    },
    {
     "data": {
      "text/plain": [
       "True"
      ]
     },
     "execution_count": null,
     "metadata": {},
     "output_type": "execute_result"
    }
   ],
   "source": [
    "# |eval: false\n",
    "\n",
    "full_auth = dmda.DomoFullAuth(\n",
    "    domo_instance=\"domo-community\",\n",
    "    domo_password=os.environ[\"DOJO_PASSWORD\"],\n",
    "    domo_username=\"jae@onyxreporting.com\",\n",
    ")\n",
    "\n",
    "await full_auth.print_is_token()\n",
    "\n",
    "# full_auth.generate_auth_header(token = full_auth.token)"
   ]
  },
  {
   "cell_type": "markdown",
   "id": "cb13b8b1",
   "metadata": {},
   "source": [
    "## adding jupyter auth creds"
   ]
  },
  {
   "cell_type": "code",
   "execution_count": null,
   "id": "a66f5b98-e727-4cdb-9e1e-e40a28871686",
   "metadata": {},
   "outputs": [
    {
     "name": "stdout",
     "output_type": "stream",
     "text": [
      "XQq01p8JGm7GLvN8c5BaZw4hPnYbpf jupyter-prod1.domodatascience.com /user/domo-community-1893952720/19fb3535/\n"
     ]
    }
   ],
   "source": [
    "# |eval: false\n",
    "\n",
    "USER_TOKEN = \"XQq01p8JGm7GLvN8c5BaZw4hPnYbpf\"  # pull from network traffic\n",
    "SERVICE_LOCATION = (\n",
    "    \"jupyter-prod1.domodatascience.com\"\n",
    "    or urlparse(os.environ[\"JUPYTERHUB_SERVICES_URL\"]).netloc\n",
    ")  # pull from domo\n",
    "SERVICE_PREFIX = (\n",
    "    \"/user/domo-community-1893952720/19fb3535/\"\n",
    "    or os.environ[\"JUPYTERHUB_SERVICE_PREFIX\"]\n",
    ")\n",
    "\n",
    "user_token = USER_TOKEN\n",
    "# input(\"user token:\")\n",
    "# retrieve this by monitoring domo jupyter network traffic.  it is the token header\n",
    "\n",
    "service_location = SERVICE_LOCATION\n",
    "# input(\"service_location\")\n",
    "# retrieve from domo jupyter env\n",
    "\n",
    "service_prefix = SERVICE_PREFIX\n",
    "# input(\"service prefix\") or\n",
    "# retrieve from domo jupyter env\n",
    "\n",
    "print(user_token, service_location, service_prefix)"
   ]
  },
  {
   "cell_type": "markdown",
   "id": "bc46a0e2",
   "metadata": {},
   "source": [
    "# Library Extensions\n",
    "## CLIENT\n",
    "### define DomoJupyterAuth class\n",
    "\n",
    "extend `DomoFullAuth` with new properties and replace an existing method\n"
   ]
  },
  {
   "cell_type": "code",
   "execution_count": null,
   "id": "808796ec",
   "metadata": {},
   "outputs": [],
   "source": [
    "# |eval: false\n",
    "\n",
    "\n",
    "@dataclass\n",
    "class _DomoJupyter_Optional:\n",
    "    def __post_init__(self):\n",
    "\n",
    "        self.user_token = self.user_token or input(\n",
    "            \"user token: # retrieve this by monitoring domo jupyter network traffic.  it is the token header\"\n",
    "        )\n",
    "        self.service_location = self.service_location or input(\n",
    "            \"service_location:  # retrieve from domo jupyter env\"\n",
    "        )\n",
    "        self.service_prefix = self.service_prefix or input(\n",
    "            \"service prefix: # retrieve from domo jupyter env\"\n",
    "        )\n",
    "\n",
    "        self._test_prereq()\n",
    "\n",
    "    def generate_auth_header(self, token: str) -> dict:\n",
    "        self.auth_header = {\n",
    "            \"x-domo-authentication\": token,\n",
    "            \"authorization\": f\"Token {self.user_token}\",\n",
    "        }\n",
    "\n",
    "        return self.auth_header\n",
    "\n",
    "\n",
    "@dataclass\n",
    "class _DomoJupyter_Required:\n",
    "    user_token: str\n",
    "    service_location: str\n",
    "    service_prefix: str\n",
    "\n",
    "    def get_user_token_flow(self):\n",
    "        \"\"\"stub\"\"\"\n",
    "        print(\"hello world i am a user_token_flow\")\n",
    "\n",
    "    def _test_prereq(self):\n",
    "        if not self.user_token:\n",
    "            raise Exception(\"DomoJupyterAuth objects must have a user_token\")\n",
    "\n",
    "        if not self.service_location:\n",
    "            raise Exception(\"DomoJupyterAuth objects must have a service_location\")\n",
    "\n",
    "        if not self.service_prefix:\n",
    "            raise Exception(\"DomoJupyterAuth objects must have a service_prefix\")\n",
    "\n",
    "        if not self.user_token or not self.service_location or not self.service_prefix:\n",
    "            raise Exception(\n",
    "                \"DomoJupyterAuth objects must have user_token, service_location and service_prefix\"\n",
    "            )\n",
    "\n",
    "\n",
    "@dataclass\n",
    "class DomoJupyterFullAuth(\n",
    "    _DomoJupyter_Optional, dmda.DomoFullAuth, _DomoJupyter_Required\n",
    "):\n",
    "    @classmethod\n",
    "    def convert_auth(\n",
    "        cls, full_auth: dmda.DomoFullAuth, user_token, service_location, service_prefix\n",
    "    ):\n",
    "        \"\"\"converts dmda.DomoFullAuth to DomoJupyterFullAuth\n",
    "        i.e. adds DomoJupyter specific auth fields\n",
    "        eventually can add DomoJupyter specific auth flow for generating auth token\n",
    "        \"\"\"\n",
    "        return cls(\n",
    "            domo_instance=full_auth.domo_instance,\n",
    "            domo_username=full_auth.domo_username,\n",
    "            domo_password=full_auth.domo_password,\n",
    "            user_token=user_token,\n",
    "            service_location=service_location,\n",
    "            service_prefix=service_prefix,\n",
    "        )\n",
    "\n",
    "\n",
    "dj_auth = DomoJupyterFullAuth.convert_auth(\n",
    "    full_auth=full_auth,\n",
    "    user_token=user_token,\n",
    "    service_location=service_location,\n",
    "    # service_prefix=None\n",
    "    service_prefix=service_prefix,\n",
    ")\n",
    "\n",
    "# token = await dj_auth.get_auth_token()\n",
    "# dj_auth.generate_auth_header( token = token)"
   ]
  },
  {
   "cell_type": "markdown",
   "id": "eb5a7aef-267a-434f-b88f-79930434fec9",
   "metadata": {},
   "source": [
    "## ROUTES\n",
    "\n",
    "[![Tutorial Video pt 2 of 4]](https://youtu.be/7aTHw7scsa8)\n",
    "\n",
    "### GET Routes\n"
   ]
  },
  {
   "cell_type": "code",
   "execution_count": null,
   "id": "6066d2ee-a5e4-4a66-8294-2448729b21b6",
   "metadata": {},
   "outputs": [],
   "source": [
    "# |eval: false\n",
    "\n",
    "\n",
    "async def _get_jupyter_content(\n",
    "    auth: dmda.DomoAuth,\n",
    "    content_path: str = \"\",\n",
    "    debug_api: bool = False,\n",
    "):\n",
    "    url = f\"https://{auth.domo_instance}.{auth.service_location}{auth.service_prefix}api/contents/{content_path}\"\n",
    "\n",
    "    res = await gd.get_data(\n",
    "        url=f\"{url}\",\n",
    "        method=\"GET\",\n",
    "        auth=auth,\n",
    "        headers={\"authorization\": f\"Token {auth.user_token}\"},\n",
    "        debug_api=debug_api,\n",
    "        num_stacks_to_drop=1,\n",
    "    )\n",
    "    if not res.is_success:\n",
    "        raise Exception(\"unable to retrieve content\")\n",
    "\n",
    "    return res"
   ]
  },
  {
   "cell_type": "markdown",
   "id": "6d5a5165",
   "metadata": {},
   "source": [
    "#### sample implementation of get_jupyter_content"
   ]
  },
  {
   "cell_type": "code",
   "execution_count": null,
   "id": "74ee3148",
   "metadata": {},
   "outputs": [
    {
     "data": {
      "text/plain": [
       "[{'name': 'my_terrible_demo.txt',\n",
       "  'path': 'my_terrible_demo.txt',\n",
       "  'last_modified': '2023-09-15T22:20:36.711000Z',\n",
       "  'created': '2023-09-15T22:20:36.711000Z',\n",
       "  'content': None,\n",
       "  'format': None,\n",
       "  'mimetype': 'text/plain',\n",
       "  'size': 33,\n",
       "  'writable': True,\n",
       "  'type': 'file'},\n",
       " {'name': 'untitled1.txt',\n",
       "  'path': 'untitled1.txt',\n",
       "  'last_modified': '2023-09-15T22:37:23.077000Z',\n",
       "  'created': '2023-09-15T22:37:23.077000Z',\n",
       "  'content': None,\n",
       "  'format': None,\n",
       "  'mimetype': 'text/plain',\n",
       "  'size': 33,\n",
       "  'writable': True,\n",
       "  'type': 'file'}]"
      ]
     },
     "execution_count": null,
     "metadata": {},
     "output_type": "execute_result"
    }
   ],
   "source": [
    "# | eval: false\n",
    "\n",
    "res = await _get_jupyter_content(\n",
    "    auth=dj_auth,\n",
    "    # content_path = 'my_terrible_demo.txt',\n",
    "    # content_path=\"datatypes.ipynb\",\n",
    "    debug_api=False,\n",
    ")\n",
    "\n",
    "res.response[\"content\"][0:2]"
   ]
  },
  {
   "cell_type": "markdown",
   "id": "229c7952",
   "metadata": {},
   "source": [
    "### update jupyter content\n",
    "\n",
    "improve code maintenance by implementing a factory design patternx"
   ]
  },
  {
   "cell_type": "code",
   "execution_count": null,
   "id": "ad1fa8cf",
   "metadata": {},
   "outputs": [
    {
     "data": {
      "text/plain": [
       "{'name': 'hi.md',\n",
       " 'content': 'hello world',\n",
       " 'path': 'hi.md',\n",
       " 'format': 'text',\n",
       " 'type': 'file'}"
      ]
     },
     "execution_count": null,
     "metadata": {},
     "output_type": "execute_result"
    }
   ],
   "source": [
    "# | eval: false\n",
    "\n",
    "\n",
    "def _generate_update_jupyter_text(body):\n",
    "    body.update(\n",
    "        {\n",
    "            \"format\": \"text\",\n",
    "            \"type\": \"file\",\n",
    "        }\n",
    "    )\n",
    "    return body\n",
    "\n",
    "\n",
    "def _generate_update_jupyter_ipynb(body):\n",
    "    body.update(\n",
    "        {\n",
    "            \"format\": None,\n",
    "            \"type\": \"notebook\",\n",
    "        }\n",
    "    )\n",
    "    return body\n",
    "\n",
    "\n",
    "def _generate_update_jupyter_directory(content_path, body):\n",
    "\n",
    "    if \"/\" in content_path:\n",
    "        new_content_path = \"/\".join(content_path.split(\"/\")[:-1])\n",
    "    else:\n",
    "        new_content_path = \"\"\n",
    "\n",
    "    body.update(\n",
    "        {\n",
    "            \"path\": new_content_path,\n",
    "            \"format\": None,\n",
    "            \"type\": \"directory\",\n",
    "        }\n",
    "    )\n",
    "    return body\n",
    "\n",
    "\n",
    "def _generate_update_jupyter_body(\n",
    "    new_content, content_path: str  # my_folder/datatypes.ipynb\n",
    "):\n",
    "    \"\"\"factory to construct properly formed body\"\"\"\n",
    "\n",
    "    content_name = os.path.normpath(content_path).split(os.sep)[-1]\n",
    "\n",
    "    if \".\" in content_path:\n",
    "        content_type = content_path.split(\".\")[-1]\n",
    "    else:\n",
    "        content_type = \"directory\"\n",
    "\n",
    "    body = {\n",
    "        \"name\": content_name,\n",
    "        \"content\": new_content,\n",
    "        \"path\": content_path,\n",
    "    }\n",
    "\n",
    "    if content_type == \"ipynb\":\n",
    "        return _generate_update_jupyter_ipynb(body)\n",
    "\n",
    "    if content_type == \"directory\":\n",
    "        return _generate_update_jupyter_directory(content_path, body)\n",
    "\n",
    "    return _generate_update_jupyter_text(body)\n",
    "\n",
    "\n",
    "_generate_update_jupyter_body(\"hello world\", \"hi.md\")"
   ]
  },
  {
   "cell_type": "code",
   "execution_count": null,
   "id": "91499728",
   "metadata": {},
   "outputs": [],
   "source": [
    "# | eval: false\n",
    "\n",
    "\n",
    "async def _update_jupyter_file(\n",
    "    auth: DomoJupyterFullAuth,\n",
    "    new_content,\n",
    "    content_path: str = \"\",  # file name and location in jupyter\n",
    "    debug_api: bool = False,\n",
    "    num_stacks_to_drop=1,\n",
    "):\n",
    "    if not isinstance(auth, DomoJupyterFullAuth):\n",
    "        raise Exception(\n",
    "            f\"invalid auth type {auth.__class__.__name__} must pass DomoJupyter auth type\"\n",
    "        )\n",
    "\n",
    "    body = _generate_update_jupyter_body(new_content, content_path)\n",
    "\n",
    "    content_path_split = os.path.normpath(content_path).split(os.sep)\n",
    "\n",
    "    url = f\"https://{auth.domo_instance}.{auth.service_location}{auth.service_prefix}api/contents/{'/'.join(content_path_split)}\"\n",
    "\n",
    "    res = await gd.get_data(\n",
    "        url=f\"{url}\",\n",
    "        method=\"PUT\",\n",
    "        auth=auth,\n",
    "        body=body,\n",
    "        debug_api=debug_api,\n",
    "        num_stacks_to_drop=num_stacks_to_drop,\n",
    "    )\n",
    "\n",
    "    if not res.is_success:\n",
    "        raise Exception(\"unable to update content.  validate your user token\")\n",
    "\n",
    "    return res"
   ]
  },
  {
   "cell_type": "markdown",
   "id": "f8d7fe2b",
   "metadata": {},
   "source": [
    "#### sample implementation of update_content"
   ]
  },
  {
   "cell_type": "code",
   "execution_count": null,
   "id": "371e46df",
   "metadata": {},
   "outputs": [
    {
     "data": {
      "text/plain": [
       "{'name': 'my_great_demo.txt',\n",
       " 'path': 'new_folder/my_great_demo.txt',\n",
       " 'last_modified': '2023-09-18T20:48:47.644000Z',\n",
       " 'created': '2023-09-18T20:48:47.644000Z',\n",
       " 'content': None,\n",
       " 'format': None,\n",
       " 'mimetype': 'text/plain',\n",
       " 'size': 26,\n",
       " 'writable': True,\n",
       " 'type': 'file'}"
      ]
     },
     "execution_count": null,
     "metadata": {},
     "output_type": "execute_result"
    }
   ],
   "source": [
    "# | eval: false\n",
    "\n",
    "res = await _update_jupyter_file(\n",
    "    auth=dj_auth,\n",
    "    content_path=\"new_folder/my_great_demo.txt\",\n",
    "    new_content=\"jae is excellent at demoes\",\n",
    "    debug_api=False,\n",
    ")\n",
    "\n",
    "res.response"
   ]
  },
  {
   "cell_type": "markdown",
   "id": "106203cf",
   "metadata": {},
   "source": [
    "### recursive get_content\n",
    "\n",
    "[![Tutorial Video pt 3 of 4]](https://youtu.be/l32qTj08bCY)\n"
   ]
  },
  {
   "cell_type": "code",
   "execution_count": null,
   "id": "76003fd1-dafc-4c17-a4ba-91b645ac2c7c",
   "metadata": {},
   "outputs": [],
   "source": [
    "# | eval: false\n",
    "\n",
    "\n",
    "async def get_content_recursive(\n",
    "    auth: DomoJupyterFullAuth,\n",
    "    content_path=\"\",\n",
    "    all_rows=None,\n",
    "    debug_api: bool = False,\n",
    "    return_raw: bool = False,\n",
    "):\n",
    "    all_rows = all_rows or []\n",
    "\n",
    "    res = await _get_jupyter_content(\n",
    "        auth=auth,\n",
    "        content_path=content_path,\n",
    "        debug_api=debug_api,\n",
    "    )\n",
    "\n",
    "    content_ls = res.response[\"content\"]\n",
    "\n",
    "    for obj in content_ls:\n",
    "        content_path = obj[\"path\"]\n",
    "\n",
    "        if obj[\"type\"] != \"directory\":\n",
    "            res = await _get_jupyter_content(\n",
    "                auth=auth,\n",
    "                content_path=content_path,\n",
    "                debug_api=debug_api,\n",
    "            )\n",
    "\n",
    "            all_rows.append(res.response)\n",
    "\n",
    "        elif obj[\"type\"] == \"directory\":\n",
    "            await get_content_recursive(\n",
    "                auth=auth,\n",
    "                content_path=content_path,\n",
    "                all_rows=all_rows,\n",
    "                debug_api=debug_api,\n",
    "            )\n",
    "\n",
    "    if return_raw:\n",
    "        return res\n",
    "\n",
    "    res.response = all_rows\n",
    "\n",
    "    return res"
   ]
  },
  {
   "cell_type": "code",
   "execution_count": null,
   "id": "a223ff43-ee28-468a-90c6-24b9640577f5",
   "metadata": {},
   "outputs": [
    {
     "name": "stdout",
     "output_type": "stream",
     "text": [
      "i am in a function i have been passed by reference ['this will work', 'new_record']\n"
     ]
    },
    {
     "data": {
      "text/plain": [
       "['this will work', 'new_record']"
      ]
     },
     "execution_count": null,
     "metadata": {},
     "output_type": "execute_result"
    }
   ],
   "source": [
    "# | eval: false\n",
    "\n",
    "x = [\"this will work\"]  # a1\n",
    "\n",
    "\n",
    "def my_fake_recursion(x=None):\n",
    "    x = x or []  # a1\n",
    "    x.append(\"new_record\")  # a1\n",
    "\n",
    "    print(\"i am in a function i have been passed by reference\", x)\n",
    "\n",
    "\n",
    "my_fake_recursion(x=x)\n",
    "\n",
    "x  # a1"
   ]
  },
  {
   "cell_type": "markdown",
   "id": "b7e40d12",
   "metadata": {},
   "source": [
    "#### sample implementation of get_content_recursive"
   ]
  },
  {
   "cell_type": "code",
   "execution_count": null,
   "id": "7a83f47d-0ac9-4c0a-8165-ff7fc46cf105",
   "metadata": {},
   "outputs": [
    {
     "data": {
      "text/plain": [
       "['my_terrible_demo.txt',\n",
       " 'untitled1.txt',\n",
       " 'tutorial',\n",
       " 'tutorial_env.ipynb',\n",
       " 'UpdateDatasets.ipynb',\n",
       " 'export',\n",
       " 'MakeDomoFaster.ipynb',\n",
       " 'get_content.ipynb',\n",
       " 'DataflowExecution.ipynb',\n",
       " 'Untitled.ipynb',\n",
       " 'instance_pdp_access.ipynb',\n",
       " 'Untitled Folder',\n",
       " 'new_folder',\n",
       " 'README.md',\n",
       " 'recent_executions',\n",
       " 'untitled.txt',\n",
       " 'env.txt',\n",
       " 'datatypes.ipynb']"
      ]
     },
     "execution_count": null,
     "metadata": {},
     "output_type": "execute_result"
    }
   ],
   "source": [
    "# | eval: false\n",
    "\n",
    "res = await _get_jupyter_content(auth=dj_auth, content_path=\"\")\n",
    "[content[\"name\"] for content in res.response[\"content\"]]"
   ]
  },
  {
   "cell_type": "code",
   "execution_count": null,
   "id": "f690def4",
   "metadata": {},
   "outputs": [
    {
     "data": {
      "text/plain": [
       "['my_terrible_demo.txt',\n",
       " 'untitled1.txt',\n",
       " 'copy_me.ipynb',\n",
       " 'AS_rbd.ipynb',\n",
       " 'env.txt',\n",
       " 'JW_session5_prep.ipynb',\n",
       " 'tutorial_env.ipynb',\n",
       " 'UpdateDatasets.ipynb',\n",
       " 'untitled1.txt',\n",
       " 'MakeDomoFaster.ipynb',\n",
       " 'get_content.ipynb',\n",
       " 'DataflowExecution.ipynb',\n",
       " 'Untitled.ipynb',\n",
       " 'instance_pdp_access.ipynb',\n",
       " 'my_great_demo.txt',\n",
       " 'README.md',\n",
       " 'stderr',\n",
       " 'output.ipynb',\n",
       " 'stdout',\n",
       " 'stderr',\n",
       " 'output.ipynb',\n",
       " 'stdout',\n",
       " 'stderr',\n",
       " 'output.ipynb',\n",
       " 'stdout',\n",
       " 'stderr',\n",
       " 'output.ipynb',\n",
       " 'stdout',\n",
       " 'stderr',\n",
       " 'output.html',\n",
       " 'output.ipynb',\n",
       " 'output.pdf',\n",
       " 'stdout',\n",
       " 'stderr',\n",
       " 'output.ipynb',\n",
       " 'stdout',\n",
       " 'stderr',\n",
       " 'output.ipynb',\n",
       " 'stdout',\n",
       " 'stderr',\n",
       " 'output.ipynb',\n",
       " 'stdout',\n",
       " 'stderr',\n",
       " 'output.ipynb',\n",
       " 'stdout',\n",
       " 'stderr',\n",
       " 'output.ipynb',\n",
       " 'stdout',\n",
       " 'stderr',\n",
       " 'output.ipynb',\n",
       " 'stdout',\n",
       " 'untitled.txt',\n",
       " 'env.txt',\n",
       " 'datatypes.ipynb']"
      ]
     },
     "execution_count": null,
     "metadata": {},
     "output_type": "execute_result"
    }
   ],
   "source": [
    "# |eval: false\n",
    "\n",
    "res = await get_content_recursive(\n",
    "    auth=dj_auth,\n",
    "    debug_api=False,\n",
    "    return_raw=False,\n",
    ")\n",
    "content_ls = res.response\n",
    "\n",
    "[content[\"name\"] for content in content_ls]"
   ]
  },
  {
   "cell_type": "markdown",
   "id": "19ef7970",
   "metadata": {},
   "source": [
    "## CLASS\n",
    "[![Tutorial Video pt 4 of 4]](https://youtu.be/RbfbQ8V2erM)\n",
    "\n",
    "\n",
    "## DomoJupyter Content and Class"
   ]
  },
  {
   "cell_type": "code",
   "execution_count": null,
   "id": "402ef434-477d-4a76-8f03-d6516d6e8542",
   "metadata": {},
   "outputs": [],
   "source": [
    "# |eval: false\n",
    "\n",
    "\n",
    "@dataclass\n",
    "class DomoJupyter_Content:\n",
    "    name: str\n",
    "    folder: str\n",
    "    last_modified: dt.datetime\n",
    "    file_type: str\n",
    "    content: str\n",
    "\n",
    "    auth: DomoJupyterFullAuth = field(repr=False)\n",
    "\n",
    "    default_export_folder: str = \"export\"\n",
    "\n",
    "    def __post_init__(self):\n",
    "        if self.folder.endswith(self.name):\n",
    "            self.folder = self.folder.replace(self.name, \"\")\n",
    "\n",
    "    @classmethod\n",
    "    def _from_json(cls, obj: dict, auth: DomoJupyterFullAuth):\n",
    "        dd = util_dd.DictDot(obj) if not isinstance(obj, util_dd.DictDot) else obj\n",
    "\n",
    "        dc = cls(\n",
    "            name=dd.name,\n",
    "            folder=dd.path,\n",
    "            last_modified=parse(dd.last_modified),\n",
    "            file_type=dd.type,\n",
    "            auth=auth,\n",
    "            content=obj.get(\"content\"),\n",
    "        )\n",
    "\n",
    "        return dc\n",
    "\n",
    "    def export_content(\n",
    "        self,\n",
    "        output_folder: str = None,\n",
    "        file_name: str = None,\n",
    "    ):\n",
    "        output_folder = output_folder or os.path.join(\n",
    "            self.default_export_folder, self.folder\n",
    "        )\n",
    "\n",
    "        file_name = file_name or self.name\n",
    "\n",
    "        if not os.path.exists(output_folder):\n",
    "            print(output_folder)\n",
    "            os.makedirs(output_folder)\n",
    "\n",
    "        content_str = self.content\n",
    "        if isinstance(self.content, dict):\n",
    "            content_str = json.dumps(self.content)\n",
    "\n",
    "        output_path = os.path.join(output_folder, file_name)\n",
    "        with open(output_path, \"w\", encoding=\"utf-8\") as f:\n",
    "            f.write(content_str)\n",
    "            f.close()\n",
    "\n",
    "        return output_path\n",
    "\n",
    "    async def update(\n",
    "        self,\n",
    "        jupyter_folder: str = None,\n",
    "        jupyter_file_name: str = None,\n",
    "        debug_api: bool = False,\n",
    "    ):\n",
    "\n",
    "        if jupyter_folder and jupyter_file_name:\n",
    "            content_patuh = f\"{jupyter_folder}/{jupyter_file_name}\"\n",
    "\n",
    "        if len(self.folder) > 0:\n",
    "            content_path = f\"{self.folder}/{self.name}\"\n",
    "\n",
    "        else:\n",
    "            content_path = self.name\n",
    "\n",
    "            if content_path.lower().startswith(self.default_export_folder.lower()):\n",
    "                content_path = content_path.replace(self.default_export_folder, \"\")\n",
    "\n",
    "        content_path = \"/\".join(os.path.normpath(content_path).split(os.sep))\n",
    "\n",
    "        return await _update_jupyter_file(\n",
    "            auth=self.auth,\n",
    "            content_path=content_path,\n",
    "            new_content=self.content,\n",
    "            debug_api=debug_api,\n",
    "        )\n",
    "\n",
    "\n",
    "@dataclass\n",
    "class DomoJupyter:\n",
    "    auth: DomoJupyterFullAuth = field(repr=False)\n",
    "    content: [DomoJupyter_Content] = field(default=None)\n",
    "\n",
    "    user_token = None\n",
    "    service_location = None\n",
    "    service_prefix = None\n",
    "\n",
    "    def __post_init__(self):\n",
    "        if hasattr(self.auth, \"domo_password\") and not isinstance(\n",
    "            self.auth, DomoJupyterFullAuth\n",
    "        ):\n",
    "\n",
    "            self.auth = DomoJupyterFullAuth.convert_auth(\n",
    "                full_auth=self.auth,\n",
    "                user_token=self.user_token,\n",
    "                service_location=self.service_location,\n",
    "                service_prefix=self.service_prefix,\n",
    "            )\n",
    "        if hasattr(self.auth, \"developer_token\") and not isinstance(\n",
    "            self.auth, DomoJupyterDeveloperToken\n",
    "        ):\n",
    "            raise Exception(\n",
    "                \"this authentitcation conversion method hasn't been implemented yet\"\n",
    "            )\n",
    "\n",
    "            # self.auth = DomoJupyterTokenAuth.convert_auth(\n",
    "            #     auth=self.auth,\n",
    "            #     user_token=self.user_token,\n",
    "            #     service_location=self.service_location,\n",
    "            #     service_prefix=self.service_prefix,\n",
    "            # )\n",
    "\n",
    "    async def get_content(\n",
    "        self,\n",
    "        debug_api: bool = False,\n",
    "        return_raw: bool = False,\n",
    "        is_recursive: bool = True,\n",
    "        content_path: str = \"\",\n",
    "    ):\n",
    "\n",
    "        if is_recursive:\n",
    "            res = await get_content_recursive(\n",
    "                auth=self.auth, debug_api=False, content_path=content_path\n",
    "            )\n",
    "            content_ls = res.response\n",
    "\n",
    "        else:\n",
    "            res = await _get_jupyter_content(\n",
    "                auth=self.auth, debug_api=False, content_path=content_path\n",
    "            )\n",
    "\n",
    "            content_ls = res.response[\"content\"]\n",
    "\n",
    "        if return_raw:\n",
    "            return res\n",
    "\n",
    "        return [\n",
    "            DomoJupyter_Content._from_json(obj, auth=self.auth) for obj in content_ls\n",
    "        ]"
   ]
  },
  {
   "cell_type": "markdown",
   "id": "1b917180",
   "metadata": {},
   "source": [
    "#### sample impelemntation of get_contet"
   ]
  },
  {
   "cell_type": "code",
   "execution_count": null,
   "id": "aa7bb7fe-8573-4cf5-9997-c4fb07d46702",
   "metadata": {},
   "outputs": [
    {
     "data": {
      "text/plain": [
       "['my_terrible_demo.txt',\n",
       " 'untitled1.txt',\n",
       " 'tutorial',\n",
       " 'tutorial_env.ipynb',\n",
       " 'UpdateDatasets.ipynb',\n",
       " 'export',\n",
       " 'MakeDomoFaster.ipynb',\n",
       " 'get_content.ipynb',\n",
       " 'DataflowExecution.ipynb',\n",
       " 'Untitled.ipynb',\n",
       " 'instance_pdp_access.ipynb',\n",
       " 'Untitled Folder',\n",
       " 'new_folder',\n",
       " 'README.md',\n",
       " 'recent_executions',\n",
       " 'untitled.txt',\n",
       " 'env.txt',\n",
       " 'datatypes.ipynb']"
      ]
     },
     "execution_count": null,
     "metadata": {},
     "output_type": "execute_result"
    }
   ],
   "source": [
    "# |eval: false\n",
    "\n",
    "domo_dj = DomoJupyter(auth=dj_auth)\n",
    "\n",
    "domo_dj_content = await domo_dj.get_content(\n",
    "    debug_api=False, return_raw=False, is_recursive=False\n",
    ")\n",
    "\n",
    "[domo_content.name for domo_content in domo_dj_content]"
   ]
  },
  {
   "cell_type": "markdown",
   "id": "3a1baac1",
   "metadata": {},
   "source": [
    "#### sample implementation of updating content with DomoJupyter_Content class"
   ]
  },
  {
   "cell_type": "code",
   "execution_count": null,
   "id": "6b335e28",
   "metadata": {},
   "outputs": [
    {
     "name": "stdout",
     "output_type": "stream",
     "text": [
      "DomoJupyter_Content\n"
     ]
    },
    {
     "data": {
      "text/plain": [
       "ResponseGetData(status=200, response={'name': 'untitled1.txt', 'path': 'untitled1.txt', 'last_modified': '2023-09-18T20:49:10.472000Z', 'created': '2023-09-18T20:49:10.472000Z', 'content': None, 'format': None, 'mimetype': 'text/plain', 'size': 33, 'writable': True, 'type': 'file'}, is_success=True, parent_class=None, traceback_details=TracebackDetails(function_name='_update_jupyter_file', file_name='/tmp/ipykernel_4630/2378948045.py', function_trail='<module> -> update -> _update_jupyter_file', traceback_stack=[<FrameSummary file /tmp/ipykernel_4630/64093016.py, line 9 in <module>>, <FrameSummary file /tmp/ipykernel_4630/3496755649.py, line 83 in update>, <FrameSummary file /tmp/ipykernel_4630/2378948045.py, line 22 in _update_jupyter_file>], parent_class=None))"
      ]
     },
     "execution_count": null,
     "metadata": {},
     "output_type": "execute_result"
    }
   ],
   "source": [
    "# |eval: false\n",
    "\n",
    "test_content = domo_dj_content[1]\n",
    "print(test_content.__class__.__name__)\n",
    "\n",
    "test_content.content = \"jae rocks at debugging on the fly\"\n",
    "test_content\n",
    "\n",
    "await test_content.update(debug_api=False)"
   ]
  },
  {
   "cell_type": "code",
   "execution_count": null,
   "id": "8034b42a-f645-4974-a25b-8c403a0886fd",
   "metadata": {},
   "outputs": [],
   "source": [
    "# test_content.export_content()"
   ]
  }
 ],
 "metadata": {
  "kernelspec": {
   "display_name": "python3",
   "language": "python",
   "name": "python3"
  }
 },
 "nbformat": 4,
 "nbformat_minor": 5
}
