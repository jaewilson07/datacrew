{
 "cells": [
  {
   "attachments": {},
   "cell_type": "raw",
   "id": "b8e196a9",
   "metadata": {},
   "source": [
    "---\n",
    "title: Creating and UPSERTing custom roles with DomoLibrary\n",
    "output-file: custom_roles.html\n",
    "---"
   ]
  },
  {
   "attachments": {},
   "cell_type": "markdown",
   "id": "377efe9e-0917-41e7-ba9a-ca8fda8d04a9",
   "metadata": {},
   "source": [
    "a short post on using DomoLibrary to create and update custom roles with new grant lists and auto assign users to that role\n",
    "\n",
    "# Project Configuration\n",
    "## ⚙️ configure environment variables\n",
    "\n",
    "This script assumes the use of a dotenv file (in this example `sample_config.txt`)"
   ]
  },
  {
   "cell_type": "code",
   "execution_count": null,
   "id": "019ac9c0",
   "metadata": {},
   "outputs": [],
   "source": [
    "# pip install python-dotenv"
   ]
  },
  {
   "cell_type": "code",
   "execution_count": null,
   "id": "bee25774",
   "metadata": {},
   "outputs": [
    {
     "data": {
      "text/plain": [
       "OrderedDict([('ROLE_NAME', 'dl_department_admin'),\n",
       "             ('ROLE_DESCRIPTION', 'deployed via domo_library script'),\n",
       "             ('ROLE_GRANTS',\n",
       "              'alert.edit, alert.actions, content.card.embed, content.export, content.variable.edit, audit, datastore.create, dataset.manage, dataset.export, publish.subscribers.manage, user.invite, group.edit, certifiedcontent.admin, certifiedcontent.request'),\n",
       "             ('ROLE_EMAILS', 'test1@test.com, test2@test.com'),\n",
       "             ('ROLE_NAME2', 'dl_test'),\n",
       "             ('ROLE_DESCRIPTION2', 'deployed via domo_library script'),\n",
       "             ('ROLE_GRANTS2', 'alert.edit, alert.actions, content.card.embed'),\n",
       "             ('ROLE_EMAILS2',\n",
       "              'test3@test.com, test3@test.com, test4@test.com')])"
      ]
     },
     "execution_count": null,
     "metadata": {},
     "output_type": "execute_result"
    }
   ],
   "source": [
    "from dotenv import dotenv_values\n",
    "\n",
    "env = dotenv_values(\"sample_config.txt\")\n",
    "env"
   ]
  },
  {
   "attachments": {},
   "cell_type": "markdown",
   "id": "c71e359c-96de-4cfe-bdd1-875b649a72d0",
   "metadata": {},
   "source": [
    "## ⚙️ Creds config and roles to create\n",
    "\n",
    "the domolibrary features a class based and function based approach to interacting with domo entities.\n",
    "\n",
    "use the `domolibrary.client.DomoAuth` objects to handle api authentication \n",
    "\n",
    "access_tokens can be configured in Domo > Auth > Security > Access Token and have the benefit of not requiring direct signon access in environments that are using SSO"
   ]
  },
  {
   "cell_type": "code",
   "execution_count": null,
   "id": "55994590",
   "metadata": {},
   "outputs": [],
   "source": [
    "# pip install domolibrary --upgrade"
   ]
  },
  {
   "cell_type": "code",
   "execution_count": null,
   "id": "6f15b2ce-f8c5-4c61-bede-8976f3682561",
   "metadata": {},
   "outputs": [],
   "source": [
    "import domolibrary.client.DomoAuth as dmda\n",
    "import os\n",
    "\n",
    "token_auth = dmda.DomoTokenAuth(\n",
    "    domo_instance=\"domo-community\",\n",
    "    domo_access_token=os.environ[\"DOMO_DOJO_ACCESS_TOKEN\"],\n",
    ")\n",
    "\n",
    "await token_auth.get_auth_token()\n",
    "\n",
    "assert isinstance(token_auth.token, str)"
   ]
  },
  {
   "attachments": {},
   "cell_type": "markdown",
   "id": "af01f4fc",
   "metadata": {},
   "source": [
    "## Templatize user input with classes\n",
    "\n",
    "The custom `EnvRole` class allows users to define configuration in the `.env` file; however ensures conformity and reduces code redundancy by templatizing the required input."
   ]
  },
  {
   "cell_type": "code",
   "execution_count": null,
   "id": "5360e5dc-f9dc-4514-9c6b-dd82f2a6830e",
   "metadata": {},
   "outputs": [
    {
     "name": "stdout",
     "output_type": "stream",
     "text": [
      "[EnvRole(name='dl_department_admin',\n",
      "         description='deployed via domo_library script',\n",
      "         grant_ls=[DomoGrant(id='alert.edit',\n",
      "                             display_group=None,\n",
      "                             title=None,\n",
      "                             depends_on_ls=None,\n",
      "                             description=None,\n",
      "                             role_membership_ls=None),\n",
      "                   DomoGrant(id='alert.actions',\n",
      "                             display_group=None,\n",
      "                             title=None,\n",
      "                             depends_on_ls=None,\n",
      "                             description=None,\n",
      "                             role_membership_ls=None),\n",
      "                   DomoGrant(id='content.card.embed',\n",
      "                             display_group=None,\n",
      "                             title=None,\n",
      "                             depends_on_ls=None,\n",
      "                             description=None,\n",
      "                             role_membership_ls=None),\n",
      "                   DomoGrant(id='content.export',\n",
      "                             display_group=None,\n",
      "                             title=None,\n",
      "                             depends_on_ls=None,\n",
      "                             description=None,\n",
      "                             role_membership_ls=None),\n",
      "                   DomoGrant(id='content.variable.edit',\n",
      "                             display_group=None,\n",
      "                             title=None,\n",
      "                             depends_on_ls=None,\n",
      "                             description=None,\n",
      "                             role_membership_ls=None),\n",
      "                   DomoGrant(id='audit',\n",
      "                             display_group=None,\n",
      "                             title=None,\n",
      "                             depends_on_ls=None,\n",
      "                             description=None,\n",
      "                             role_membership_ls=None),\n",
      "                   DomoGrant(id='datastore.create',\n",
      "                             display_group=None,\n",
      "                             title=None,\n",
      "                             depends_on_ls=None,\n",
      "                             description=None,\n",
      "                             role_membership_ls=None),\n",
      "                   DomoGrant(id='dataset.manage',\n",
      "                             display_group=None,\n",
      "                             title=None,\n",
      "                             depends_on_ls=None,\n",
      "                             description=None,\n",
      "                             role_membership_ls=None),\n",
      "                   DomoGrant(id='dataset.export',\n",
      "                             display_group=None,\n",
      "                             title=None,\n",
      "                             depends_on_ls=None,\n",
      "                             description=None,\n",
      "                             role_membership_ls=None),\n",
      "                   DomoGrant(id='publish.subscribers.manage',\n",
      "                             display_group=None,\n",
      "                             title=None,\n",
      "                             depends_on_ls=None,\n",
      "                             description=None,\n",
      "                             role_membership_ls=None),\n",
      "                   DomoGrant(id='user.invite',\n",
      "                             display_group=None,\n",
      "                             title=None,\n",
      "                             depends_on_ls=None,\n",
      "                             description=None,\n",
      "                             role_membership_ls=None),\n",
      "                   DomoGrant(id='group.edit',\n",
      "                             display_group=None,\n",
      "                             title=None,\n",
      "                             depends_on_ls=None,\n",
      "                             description=None,\n",
      "                             role_membership_ls=None),\n",
      "                   DomoGrant(id='certifiedcontent.admin',\n",
      "                             display_group=None,\n",
      "                             title=None,\n",
      "                             depends_on_ls=None,\n",
      "                             description=None,\n",
      "                             role_membership_ls=None),\n",
      "                   DomoGrant(id='certifiedcontent.request',\n",
      "                             display_group=None,\n",
      "                             title=None,\n",
      "                             depends_on_ls=None,\n",
      "                             description=None,\n",
      "                             role_membership_ls=None)],\n",
      "         user_ls=['test1@test.com', 'test2@test.com']),\n",
      " EnvRole(name='dl_test',\n",
      "         description='deployed via domo_library script',\n",
      "         grant_ls=[DomoGrant(id='alert.edit',\n",
      "                             display_group=None,\n",
      "                             title=None,\n",
      "                             depends_on_ls=None,\n",
      "                             description=None,\n",
      "                             role_membership_ls=None),\n",
      "                   DomoGrant(id='alert.actions',\n",
      "                             display_group=None,\n",
      "                             title=None,\n",
      "                             depends_on_ls=None,\n",
      "                             description=None,\n",
      "                             role_membership_ls=None),\n",
      "                   DomoGrant(id='content.card.embed',\n",
      "                             display_group=None,\n",
      "                             title=None,\n",
      "                             depends_on_ls=None,\n",
      "                             description=None,\n",
      "                             role_membership_ls=None)],\n",
      "         user_ls=['test3@test.com', 'test3@test.com', 'test4@test.com'])]\n"
     ]
    }
   ],
   "source": [
    "from pprint import pprint\n",
    "from dataclasses import dataclass\n",
    "import domolibrary.classes.DomoGrant as dmg\n",
    "\n",
    "\n",
    "@dataclass\n",
    "class EnvRole:\n",
    "    name: str\n",
    "    description: str\n",
    "    grant_ls: [\n",
    "        dmg.DomoGrant\n",
    "    ]  # grants are consistent across domo instances so can be defined on initialization\n",
    "    user_ls: [\n",
    "        str\n",
    "    ]  # each instance would have a diferent user_id associated with each instance so should be handled on a per instance basis (DomoUsers expect a set user id)\n",
    "\n",
    "    \"\"\"custom class for templatizing roles to create\"\"\"\n",
    "\n",
    "    def __init__(\n",
    "        self,\n",
    "        name: str,\n",
    "        description: str,\n",
    "        grants_str: str,  # comma separated string of grant_ids\n",
    "        user_str: [str],\n",
    "    ):\n",
    "        self.name = name\n",
    "        self.description = description\n",
    "        self.grant_ls = [\n",
    "            dmg.DomoGrant(id=grant.strip()) for grant in grants_str.split(\",\")\n",
    "        ]\n",
    "        self.user_ls = [user.strip() for user in user_str.split(\",\")]\n",
    "\n",
    "        # List of roles that will be created\n",
    "\n",
    "\n",
    "roles_to_create = [\n",
    "    EnvRole(\n",
    "        name=env[\"ROLE_NAME\"],\n",
    "        description=env[\"ROLE_DESCRIPTION\"],\n",
    "        grants_str=env[\"ROLE_GRANTS\"],\n",
    "        user_str=env[\"ROLE_EMAILS\"],\n",
    "    ),\n",
    "    EnvRole(\n",
    "        name=env[\"ROLE_NAME2\"],\n",
    "        description=env[\"ROLE_DESCRIPTION2\"],\n",
    "        grants_str=env[\"ROLE_GRANTS2\"],\n",
    "        user_str=env[\"ROLE_EMAILS2\"],\n",
    "    ),\n",
    "]\n",
    "\n",
    "pprint(roles_to_create)"
   ]
  },
  {
   "attachments": {},
   "cell_type": "markdown",
   "id": "31e58907",
   "metadata": {},
   "source": [
    "## Define Functions that bridge the EnvRole with `domolibrary` classes\n",
    "\n",
    "In the examples below, the functions are very simple and just call the API with passthrough parameters; however, more customization could be added for example defining a default role_description if one wasn't provided.\n",
    "\n",
    "Notice how `upsert_super_admin` doesn't even accept a list of grants and instead pulls a list of all available grants from that Domo Instance.\n",
    "\n",
    "This might be necessary because Domo by default doesn't grant all grants to the Admin role."
   ]
  },
  {
   "cell_type": "code",
   "execution_count": null,
   "id": "134a7d04",
   "metadata": {},
   "outputs": [],
   "source": [
    "import domolibrary.classes.DomoRole as dmr\n",
    "import domolibrary.client.DomoAuth as dmda\n",
    "\n",
    "\n",
    "async def upsert_role(\n",
    "    auth: dmda.DomoAuth,\n",
    "    role_name: str,\n",
    "    role_description: str,\n",
    "    grant_ls: [dmg.DomoGrant],\n",
    "    debug_api: bool = False,\n",
    "    debug_prn: bool = False,\n",
    "):\n",
    "\n",
    "    return await dmr.DomoRoles.upsert_role(\n",
    "        auth=auth, name=role_name, description=role_description, grant_ls=grant_ls\n",
    "    )"
   ]
  },
  {
   "attachments": {},
   "cell_type": "markdown",
   "id": "9661ab78",
   "metadata": {},
   "source": [
    "#### sample implementation of upsert_role"
   ]
  },
  {
   "cell_type": "code",
   "execution_count": null,
   "id": "48088448",
   "metadata": {},
   "outputs": [
    {
     "name": "stdout",
     "output_type": "stream",
     "text": [
      "[DomoGrant(id='alert.edit', display_group=None, title=None, depends_on_ls=None, description=None, role_membership_ls=None), DomoGrant(id='alert.actions', display_group=None, title=None, depends_on_ls=None, description=None, role_membership_ls=None), DomoGrant(id='content.card.embed', display_group=None, title=None, depends_on_ls=None, description=None, role_membership_ls=None), DomoGrant(id='content.export', display_group=None, title=None, depends_on_ls=None, description=None, role_membership_ls=None), DomoGrant(id='content.variable.edit', display_group=None, title=None, depends_on_ls=None, description=None, role_membership_ls=None), DomoGrant(id='audit', display_group=None, title=None, depends_on_ls=None, description=None, role_membership_ls=None), DomoGrant(id='datastore.create', display_group=None, title=None, depends_on_ls=None, description=None, role_membership_ls=None), DomoGrant(id='dataset.manage', display_group=None, title=None, depends_on_ls=None, description=None, role_membership_ls=None), DomoGrant(id='dataset.export', display_group=None, title=None, depends_on_ls=None, description=None, role_membership_ls=None), DomoGrant(id='publish.subscribers.manage', display_group=None, title=None, depends_on_ls=None, description=None, role_membership_ls=None), DomoGrant(id='user.invite', display_group=None, title=None, depends_on_ls=None, description=None, role_membership_ls=None), DomoGrant(id='group.edit', display_group=None, title=None, depends_on_ls=None, description=None, role_membership_ls=None), DomoGrant(id='certifiedcontent.admin', display_group=None, title=None, depends_on_ls=None, description=None, role_membership_ls=None), DomoGrant(id='certifiedcontent.request', display_group=None, title=None, depends_on_ls=None, description=None, role_membership_ls=None)]\n"
     ]
    },
    {
     "data": {
      "text/plain": [
       "DomoRole(id=1563101750, name='dl_department_admin', description='deployed via domo_library script - updated 2023-03-23', is_system_role=0, is_default_role=False, grant_ls=[DomoGrant(id='alert.edit', display_group=None, title=None, depends_on_ls=None, description=None, role_membership_ls=None), DomoGrant(id='dataset.manage', display_group=None, title=None, depends_on_ls=None, description=None, role_membership_ls=None), DomoGrant(id='content.card.embed', display_group=None, title=None, depends_on_ls=None, description=None, role_membership_ls=None), DomoGrant(id='certifiedcontent.admin', display_group=None, title=None, depends_on_ls=None, description=None, role_membership_ls=None), DomoGrant(id='datastore.create', display_group=None, title=None, depends_on_ls=None, description=None, role_membership_ls=None), DomoGrant(id='group.edit', display_group=None, title=None, depends_on_ls=None, description=None, role_membership_ls=None), DomoGrant(id='publish.subscribers.manage', display_group=None, title=None, depends_on_ls=None, description=None, role_membership_ls=None), DomoGrant(id='certifiedcontent.request', display_group=None, title=None, depends_on_ls=None, description=None, role_membership_ls=None), DomoGrant(id='alert.actions', display_group=None, title=None, depends_on_ls=None, description=None, role_membership_ls=None), DomoGrant(id='content.export', display_group=None, title=None, depends_on_ls=None, description=None, role_membership_ls=None), DomoGrant(id='audit', display_group=None, title=None, depends_on_ls=None, description=None, role_membership_ls=None), DomoGrant(id='dataset.export', display_group=None, title=None, depends_on_ls=None, description=None, role_membership_ls=None), DomoGrant(id='user.invite', display_group=None, title=None, depends_on_ls=None, description=None, role_membership_ls=None), DomoGrant(id='content.variable.edit', display_group=None, title=None, depends_on_ls=None, description=None, role_membership_ls=None)], membership_ls=[])"
      ]
     },
     "execution_count": null,
     "metadata": {},
     "output_type": "execute_result"
    }
   ],
   "source": [
    "import datetime as dt\n",
    "\n",
    "role = roles_to_create[0]\n",
    "\n",
    "await upsert_role(\n",
    "    auth=token_auth,\n",
    "    role_name=role.name,\n",
    "    role_description=f\"{role.description} - updated {dt.date.today()}\",\n",
    "    grant_ls=role.grant_ls,\n",
    "    debug_prn=True,\n",
    ")"
   ]
  },
  {
   "cell_type": "code",
   "execution_count": null,
   "id": "f0ad0885",
   "metadata": {},
   "outputs": [],
   "source": [
    "import datetime as dt\n",
    "import domolibrary.classes.DomoInstanceConfig as dmic\n",
    "\n",
    "\n",
    "# grants for super admin role are getting directly from instance using get_all_instance_grants\n",
    "async def upsert_super_admin(\n",
    "    auth: dmda.DomoAuth,\n",
    "    role_name: str,\n",
    "    role_description=f\"all grants - updated on {dt.date.today()}\",\n",
    "    debug_api: bool = False,\n",
    "    debug_prn: bool = False,\n",
    "):\n",
    "\n",
    "    domo_instance = dmic.DomoInstanceConfig(auth=auth)\n",
    "    all_grants = await domo_instance.get_grants()\n",
    "\n",
    "    sa_role = await dmr.DomoRoles.upsert_role(\n",
    "        name=role_name,\n",
    "        description=role_description,\n",
    "        auth=auth,\n",
    "        debug_api=debug_api,\n",
    "        grant_ls=all_grants,\n",
    "    )\n",
    "\n",
    "    return sa_role"
   ]
  },
  {
   "attachments": {},
   "cell_type": "markdown",
   "id": "804bced5",
   "metadata": {},
   "source": [
    "#### sample implementation of creating a super_admin role"
   ]
  },
  {
   "cell_type": "code",
   "execution_count": null,
   "id": "76c820a0",
   "metadata": {},
   "outputs": [
    {
     "name": "stdout",
     "output_type": "stream",
     "text": [
      "[DomoGrant(id='authorization.roles', display_group='COMPANY', title='Manage all roles', depends_on_ls=['ui.admin'], description='Create, edit and delete custom roles. Assign anyone to any role in this instance.', role_membership_ls=['1', '275763436', '810756122']), DomoGrant(id='audit', display_group='COMPANY', title='View activity logs', depends_on_ls=['ui.admin'], description='View and export audit logs.', role_membership_ls=['1', '275763436', '810756122', '1927158482', '1563101750', '2097317660']), DomoGrant(id='customer.edit', display_group='COMPANY', title='Manage all company settings', depends_on_ls=['ui.admin'], description='Manage company metadata, authentication rules, authorized domain rules, export security, mobile home screen layouts, publishing, SSO Configuration, whitelist rules, report scheduler and licenses.', role_membership_ls=['1', '275763436', '810756122']), DomoGrant(id='developer.token.manage', display_group='COMPANY', title='Manage all access tokens and API clients', depends_on_ls=['ui.admin'], description='Create and delete any access tokens and API clients.', role_membership_ls=['1', '275763436', '810756122', '1927158482']), DomoGrant(id='domo.system.messages', display_group='COMPANY', title='Receive Domo System Messages', depends_on_ls=['ui.admin'], description='Receive Domo system messages about maintenance and feature updates. Ensure at least one Admin receives these messages.', role_membership_ls=['1', '275763436', '810756122', '1927158482']), DomoGrant(id='usage.reports.view', display_group='COMPANY', title='View usage metrics', depends_on_ls=[], description='View and export usage metrics.', role_membership_ls=['1', '810756122']), DomoGrant(id='user.edit', display_group='USERS_GROUPS', title='Manage all users', depends_on_ls=['ui.admin'], description='Create, edit and delete any user and reset their password.', role_membership_ls=['1', '275763436', '810756122']), DomoGrant(id='user.invite', display_group='USERS_GROUPS', title='Add new people', depends_on_ls=['ui.admin'], description='Add new people.', role_membership_ls=['1', '2', '275763436', '810756122', '1927158482', '1563101750', '2097317660']), DomoGrant(id='user.session.edit', display_group='USERS_GROUPS', title='Edit user Sessions', depends_on_ls=['ui.admin'], description='Immediately log any user out of Domo', role_membership_ls=['1', '810756122']), DomoGrant(id='group.edit', display_group='USERS_GROUPS', title='Edit groups', depends_on_ls=['ui.admin'], description='Create, edit and delete groups the person has been granted access to. Add and remove people from groups the person with the grant has access to.', role_membership_ls=['1', '2', '275763436', '810756122', '1927158482', '1563101750', '2097317660']), DomoGrant(id='group.admin', display_group='USERS_GROUPS', title='Manage all groups', depends_on_ls=['ui.admin'], description='Create, edit and delete any groups. Add and remove people from any group.', role_membership_ls=['1', '275763436', '810756122']), DomoGrant(id='profile.achieve.assign', display_group='USERS_GROUPS', title='Assign achievements', depends_on_ls=['ui.admin'], description='Create, edit, delete and assign achievements.', role_membership_ls=['1', '2', '275763436', '810756122', '1927158482', '2097317660']), DomoGrant(id='buzz.admin', display_group='SOCIAL', title='Edit conversations and messages', depends_on_ls=[], description=\"Edit and delete conversations in Buzz to which you have access. Delete other people's comments in conversations to which you have access. View and edit social user settings.\", role_membership_ls=['1', '275763436', '810756122', '1927158482']), DomoGrant(id='tasks.admin', display_group='WORKFLOWS', title='Manage all public Projects and Tasks', depends_on_ls=[], description='View, edit, or archive any public Project in this instance.', role_membership_ls=['1', '275763436', '810756122', '1927158482']), DomoGrant(id='tasks.private.admin', display_group='WORKFLOWS', title='Manage all private Projects and Tasks', depends_on_ls=[], description='View, edit, or archive any private Project in this instance.', role_membership_ls=['810756122']), DomoGrant(id='certifiedcontent.admin', display_group='WORKFLOWS', title='Manage Certified Content', depends_on_ls=['ui.admin'], description='Create, edit and delete certification processes. View, edit and remove the certification of any certified entity. Cancel any requested or pending certification request. Certify any entity with one step certification.', role_membership_ls=['1', '104295428', '275763436', '810756122', '1927158482', '1563101750']), DomoGrant(id='certifiedcontent.request', display_group='WORKFLOWS', title='Request certification', depends_on_ls=[], description='Submit a certification request for content you have access to.', role_membership_ls=['1', '2', '3', '275763436', '4', '810756122', '1927158482', '1563101750', '2097317660']), DomoGrant(id='approvalcenter.admin', display_group='WORKFLOWS', title='Manage all approvals', depends_on_ls=['ui.admin'], description='View, edit, cancel, or share any request submitted through Approval Center.', role_membership_ls=['1', '810756122']), DomoGrant(id='appstore.admin', display_group='APPSTORE', title='Manage Appstore', depends_on_ls=[], description='View listings of installed Apps, uninstall previously installed Apps, and approve newly submitted Apps in this instance.', role_membership_ls=['1', '104295428', '275763436', '810756122', '1927158482']), DomoGrant(id='appstore.edit', display_group='APPSTORE', title='Use Appstore', depends_on_ls=[], description='Install and use Apps from the Appstore. Uninstall Apps that you previously installed.', role_membership_ls=['1', '2', '3', '275763436', '810756122', '1927158482', '2097317660']), DomoGrant(id='appstore.read', display_group='APPSTORE', title='View Appstore', depends_on_ls=[], description='View the Appstore and App information.', role_membership_ls=['1', '2', '3', '275763436', '4', '810756122', '1927158482', '2097317660']), DomoGrant(id='appstore.payments.manage', display_group='APPSTORE', title='Manage Appstore payments', depends_on_ls=[], description='Manage methods of receiving payments within the Appstore.', role_membership_ls=['1', '810756122']), DomoGrant(id='domoapps.read', display_group='DOMO_APPS', title='View DomoApps', depends_on_ls=[], description='View custom DomoApps to which you have access.', role_membership_ls=['1', '2', '3', '275763436', '4', '810756122', '1927158482', '2097317660']), DomoGrant(id='domoapps.edit', display_group='DOMO_APPS', title='Create DomoApps', depends_on_ls=[], description='Create, edit and upload custom DomoApps.', role_membership_ls=['1', '2', '3', '275763436', '810756122', '1927158482', '2097317660']), DomoGrant(id='app.admin', display_group='DOMO_APPS', title='Manage DomoApps', depends_on_ls=[], description='View and manage all custom apps.', role_membership_ls=['1', '275763436', '810756122', '1927158482']), DomoGrant(id='app.ddx', display_group='DOMO_APPS', title='Create DDX Apps', depends_on_ls=[], description='Create and edit DDX apps.', role_membership_ls=['1', '275763436', '810756122', '1927158482', '2097317660']), DomoGrant(id='datastore.create', display_group='DATA', title='Use AppDB', depends_on_ls=[], description='Create data in AppDB.', role_membership_ls=['1', '2', '3', '275763436', '810756122', '1927158482', '1563101750', '2097317660']), DomoGrant(id='datastore.admin', display_group='DATA', title='Manage AppDB', depends_on_ls=[], description='View and manage all data in AppDB.', role_membership_ls=['1', '104295428', '275763436', '810756122', '1927158482']), DomoGrant(id='workflow.create', display_group='WORKFLOWS', title='Create Workflows', depends_on_ls=[], description='Create workflow models.', role_membership_ls=['1', '2', '3', '275763436', '810756122', '1927158482', '2097317660']), DomoGrant(id='workflow.admin', display_group='WORKFLOWS', title='Manage Workflows', depends_on_ls=[], description='View and manage all workflow models and workflow instances.', role_membership_ls=['1', '275763436', '810756122', '1927158482']), DomoGrant(id='form.create', display_group='FORMS', title='Create Forms', depends_on_ls=[], description='Create new forms.', role_membership_ls=['1', '2', '3', '275763436', '810756122', '1927158482', '2097317660']), DomoGrant(id='form.admin', display_group='FORMS', title='Manage Forms', depends_on_ls=[], description='View, publish, and manage all forms, their versions, and contracts.', role_membership_ls=['1', '275763436', '810756122', '1927158482']), DomoGrant(id='queue.create', display_group='QUEUES', title='Create Task Queues', depends_on_ls=[], description='Create new task queues.', role_membership_ls=['1', '2', '3', '810756122', '2097317660']), DomoGrant(id='queue.admin', display_group='QUEUES', title='Manage Task Queues', depends_on_ls=[], description='Create, view, and manage all task queues.', role_membership_ls=['1', '810756122']), DomoGrant(id='content.card.embed', display_group='CARDS_PAGES', title='Embed content', depends_on_ls=[], description='Use Domo Everywhere to embed Cards and Dashboards externally, with or without authentication.', role_membership_ls=['1', '2', '3', '275763436', '1662852841', '810756122', '1927158482', '1563101750', '2097317660']), DomoGrant(id='content.card.edit', display_group='CARDS_PAGES', title='Edit Cards', depends_on_ls=['ui.admin'], description='Create, edit and delete Cards, Drill views, and Beast Modes to which you have access. Share cards to which you have access.', role_membership_ls=['1', '2', '3', '275763436', '810756122', '1927158482', '2097317660']), DomoGrant(id='content.card.analyzerview', display_group='CARDS_PAGES', title='Create DataSet views in Analyzer', depends_on_ls=[], description='Create and edit DataSet views in Analyzer', role_membership_ls=['1', '2', '3', '275763436', '810756122', '1927158482', '2097317660']), DomoGrant(id='content.page.edit', display_group='CARDS_PAGES', title='Edit Pages', depends_on_ls=['ui.admin'], description='Create, edit and delete Pages, styles, templates, and layouts.', role_membership_ls=['1', '2', '3', '275763436', '810756122', '1927158482', '2097317660']), DomoGrant(id='content.export', display_group='CARDS_PAGES', title='Export from Domo', depends_on_ls=[], description='Create Scheduled Reports and export to email, print, PowerPoint, CSV, and Excel.', role_membership_ls=['1', '2', '3', '275763436', '4', '810756122', '1927158482', '1563101750', '2097317660']), DomoGrant(id='content.admin', display_group='CARDS_PAGES', title='Manage all Cards, Pages and Data apps', depends_on_ls=['ui.admin'], description='View, create, edit, share and delete any Card or Page or Data app in this instance. Subscribe to Publications from other instances.', role_membership_ls=['1', '275763436', '810756122', '1927158482']), DomoGrant(id='content.card.narrative.edit', display_group='CARDS_PAGES', title='Edit Narrative Cards', depends_on_ls=['content.card.edit'], description='\"Create and edit natural language generated narratives in notebook cards.', role_membership_ls=['1', '2', '3', '275763436', '810756122', '1927158482', '2097317660']), DomoGrant(id='content.variable.edit', display_group='CARDS_PAGES', title='Edit Variables', depends_on_ls=['content.card.edit'], description='Create, edit and delete Variables', role_membership_ls=['1', '2', '3', '275763436', '810756122', '1927158482', '1563101750', '2097317660']), DomoGrant(id='content.dataapp.edit', display_group='CARDS_PAGES', title='Edit Data app', depends_on_ls=['content.page.edit', 'ui.admin'], description='View, create, edit, share and delete Data app', role_membership_ls=['1', '2', '3', '275763436', '810756122']), DomoGrant(id='saasaas.edit', display_group='SAASAAS', title='Manage Publication Groups', depends_on_ls=['ui.admin'], description='Create, edit, and delete any Publication Groups in this instance', role_membership_ls=['1', '275763436', '810756122', '1927158482']), DomoGrant(id='account.admin', display_group='DATA', title='Manage all accounts', depends_on_ls=['account.view.all'], description='Create, edit, delete, and control sharing on any account.', role_membership_ls=['810756122']), DomoGrant(id='account.view.all', display_group='DATA', title='View all accounts', depends_on_ls=[], description='View all accounts in this instance.', role_membership_ls=['810756122']), DomoGrant(id='dataset.manage', display_group='DATA', title='Edit DataSet', depends_on_ls=['ui.datacenter'], description='Create, edit and delete DataSets to which you have access.', role_membership_ls=['1', '2', '3', '275763436', '810756122', '1927158482', '1563101750', '2097317660']), DomoGrant(id='dataset.admin', display_group='DATA', title='Manage DataSet', depends_on_ls=['ui.datacenter', 'dataset.manage'], description='View, edit and delete any DataSets in this instance.', role_membership_ls=['1', '275763436', '810756122', '1927158482']), DomoGrant(id='dataset.export', display_group='DATA', title='Export DataSet', depends_on_ls=[], description='Export data from DataSets you have access to.', role_membership_ls=['1', '2', '3', '275763436', '810756122', '1927158482', '1563101750', '2097317660']), DomoGrant(id='dataset.account.create', display_group='DATA', title='Create Dataset Account', depends_on_ls=['ui.datacenter', 'dataset.manage'], description='Create accounts for DataSets in this instance.', role_membership_ls=['1', '2', '3', '275763436', '810756122', '1927158482', '2097317660']), DomoGrant(id='dataset.account.create.big.query', display_group='DATA', title='Create Google Big Query Account', depends_on_ls=[], description='Create Google Big Query accounts for DataSets in this instance.', role_membership_ls=['810756122', '1927158482']), DomoGrant(id='dataset.account.create.federated.oauth', display_group='DATA', title='Create Federated OAuth Accounts', depends_on_ls=[], description='Create Federated OAuth accounts for DataSets in this instance.', role_membership_ls=['810756122']), DomoGrant(id='cloud.admin', display_group='DATA', title='Manage Cloud Accounts', depends_on_ls=[], description='Manage cloud accounts in this instance.  Ability to edit all OAuth Configurations created by all users', role_membership_ls=['1', '104295428', '810756122']), DomoGrant(id='cloud.override', display_group='DATA', title='Override Default Cloud', depends_on_ls=[], description='Override the default cloud account when creating a new DataSet or computing a Data Flow.', role_membership_ls=['1', '810756122']), DomoGrant(id='workbench.download', display_group='DATA', title='Download Workbench', depends_on_ls=[], description='Allow download of workbench.', role_membership_ls=['1', '2', '3', '275763436', '810756122', '1927158482', '2097317660']), DomoGrant(id='workbench.enterprise.admin', display_group='WORKBENCH', title='Manage Workbench Enterprise', depends_on_ls=[], description='Allows editing of all jobs and configurations in Workbench Enterprise', role_membership_ls=['810756122']), DomoGrant(id='workbench.enterprise.edit', display_group='WORKBENCH', title='Edit Workbench Enterprise', depends_on_ls=[], description='Allows editing of all jobs in Workbench Enterprise', role_membership_ls=['810756122']), DomoGrant(id='workbench.enterprise.view', display_group='WORKBENCH', title='View Workbench Enterprise', depends_on_ls=[], description='Allow viewing jobs in Workbench Enterprise', role_membership_ls=['810756122']), DomoGrant(id='dataflow.manage', display_group='DATA', title='Edit DataFlow', depends_on_ls=[], description='Create, edit and delete DataFlows to which you have access.  Requires the Edit DataSet grant.', role_membership_ls=['1', '2', '3', '275763436', '810756122', '1927158482', '2097317660']), DomoGrant(id='dataflow.admin', display_group='DATA', title='Manage DataFlow', depends_on_ls=['dataflow.manage', 'dataflow.adrenaline'], description='View, edit and delete any DataFlows in this instance. Requires the Manage DataSet grant.', role_membership_ls=['1', '275763436', '810756122', '1927158482']), DomoGrant(id='ml.execute', display_group='DATA', title='Execute AutoML', depends_on_ls=['dataflow.manage', 'dataflow.magic'], description='Train AutoML models. Run DataFlows containing AutoML Inference actions.', role_membership_ls=['1', '2', '3', '275763436', '810756122', '1927158482', '2097317660']), DomoGrant(id='dataflow.adrenaline', display_group='DATA', title='Edit Adrenaline DataFlow', depends_on_ls=['dataflow.manage'], description='Create, edit and run Adrenaline DataFlows to which you have access.', role_membership_ls=['1', '275763436', '810756122', '1927158482', '2097317660']), DomoGrant(id='dataflow.magic', display_group='DATA', title='Edit Magic ETL v2 DataFlow', depends_on_ls=['dataflow.manage'], description='Create, edit and run Magic ETL v2 DataFlows to which you have access.', role_membership_ls=['1', '2', '3', '275763436', '810756122', '1927158482', '2097317660']), DomoGrant(id='alert.edit', display_group='ALERTS', title='Use Alerts', depends_on_ls=[], description='Create, edit and share any Alerts to which you have access.', role_membership_ls=['1', '2', '3', '275763436', '4', '1662852841', '5', '810756122', '1927158482', '1563101750', '2097317660']), DomoGrant(id='alert.admin', display_group='ALERTS', title='Manage all Alerts', depends_on_ls=['alert.edit', 'alert.actions'], description=\"View, edit and delete any Alerts irrespective of access to underlying Cards or DataSets. Note that while this doesn't grant access to Cards or DataSets, these users will be able to see computed information as part of the alert values and/or alert history. Typically reserved for Major Domo's or Administrators\", role_membership_ls=['1', '275763436', '810756122', '1927158482']), DomoGrant(id='alert.actions', display_group='ALERTS', title='Use Alert Actions', depends_on_ls=['alert.edit'], description='View, edit, add, or delete Alert Actions on any Alert of which the user is owner.', role_membership_ls=['1', '2', '3', '275763436', '1662852841', '810756122', '1927158482', '1563101750', '2097317660']), DomoGrant(id='goal.edit', display_group='GOALS', title='Use Goals', depends_on_ls=['alert.edit'], description='Create and edit any Goals to which you have access.', role_membership_ls=['1', '2', '3', '4', '810756122']), DomoGrant(id='goal.admin', display_group='GOALS', title='Manage all Goals', depends_on_ls=['goal.distribute', 'goal.edit'], description='Edit and delete any Goals in this instance. This should be reserved for Admins or those who administer the goals strategy in your company.', role_membership_ls=['1', '810756122']), DomoGrant(id='goal.distribute', display_group='GOALS', title='Create distributed goals', depends_on_ls=['goal.edit'], description='Create and edit Goals that are distributed in bulk to large groups of people.', role_membership_ls=['1', '275763436', '810756122', '1927158482', '2097317660']), DomoGrant(id='connector.admin', display_group='CONNECTORS', title='Manage Connectors', depends_on_ls=[], description='Create, edit, and delete user and group access to connectors in this instance.', role_membership_ls=['1', '275763436', '810756122', '1927158482']), DomoGrant(id='datascience.notebooks.create', display_group='DATA', title='Create Jupyter Workspace', depends_on_ls=[], description='Create, edit and delete Jupyter Workspaces to which you have access.  Requires the Edit DataSet grant.', role_membership_ls=['1', '2', '3', '275763436', '810756122', '1927158482', '2097317660']), DomoGrant(id='datascience.notebooks.admin', display_group='DATA', title='Manage Jupyter Workspace', depends_on_ls=['datascience.notebooks.create'], description='View, edit and delete any Jupyter Workspaces in this instance.', role_membership_ls=['1', '275763436', '810756122', '1927158482']), DomoGrant(id='publish.publication.create', display_group='PUBLISH', title='Manage Publications', depends_on_ls=[], description='Create, edit, or remove Publications.', role_membership_ls=['1', '275763436', '810756122', '1927158482']), DomoGrant(id='publish.space.admin', display_group='PUBLISH', title='Manage Domo Spaces', depends_on_ls=[], description='Request, modify, terminate, or otherwise manage Domo Spaces', role_membership_ls=['1', '275763436', '810756122', '1927158482']), DomoGrant(id='publish.subscribers.manage', display_group='PUBLISH', title='Manage Subscribers', depends_on_ls=[], description='Create and delete subscribers.', role_membership_ls=['1', '275763436', '810756122', '1927158482', '1563101750']), DomoGrant(id='pipeline.executor.job.create', display_group='PIPELINE_EXECUTOR', title='Create Custom Pipeline Processes', depends_on_ls=[], description='Create, edit, or remove custom pipeline processes.', role_membership_ls=['1', '2', '275763436', '810756122', '1927158482', '2097317660']), DomoGrant(id='pipeline.executor.job.admin', display_group='PIPELINE_EXECUTOR', title='Administer Custom Pipeline Processes', depends_on_ls=[], description='Administer custom pipeline processes.', role_membership_ls=['1', '275763436', '810756122', '1927158482']), DomoGrant(id='versions.deployment.manage', display_group='VERSIONS', title='Manage Repository Promotions', depends_on_ls=[], description='Promote repository commits in this instance.', role_membership_ls=['1', '275763436', '810756122', '1927158482']), DomoGrant(id='versions.repository.create', display_group='VERSIONS', title='Manage Repositories', depends_on_ls=[], description='Create, edit, and delete Sandbox repositories. Repositories store metadata of content, such as Cards and Pages, to allow them to be recreated in a Domo instance.', role_membership_ls=['1', '275763436', '810756122', '1927158482']), DomoGrant(id='versions.repository.admin', display_group='VERSIONS', title='Administer Sandbox', depends_on_ls=[], description='Administer Sandbox, including authorizing read access to Sandbox Repositories to other instances.', role_membership_ls=['1', '104295428', '275763436', '810756122', '1927158482']), DomoGrant(id='codeengine.package.manage', display_group='CODEENGINE', title='Create Code Engine Packages', depends_on_ls=[], description='Create, read, write, execute, share, delete Code Engine packages.', role_membership_ls=['1', '104295428', '275763436', '810756122', '1927158482', '2097317660']), DomoGrant(id='codeengine.package.admin', display_group='CODEENGINE', title='Manage Code Engine Packages', depends_on_ls=[], description='Create, view, and manage all Code Engine packages.', role_membership_ls=['1', '275763436', '810756122', '1927158482', '2097317660']), DomoGrant(id='fileshare.admin', display_group='DATA', title='Manage Fileshare Directories', depends_on_ls=['fileshare.create'], description='View, edit and delete any Fileshare Directory in this instance.', role_membership_ls=['1', '275763436', '810756122']), DomoGrant(id='fileshare.create', display_group='DATA', title='Create Fileshare Directories', depends_on_ls=[], description='Create, edit and delete Fileshare directories that you can access.', role_membership_ls=['1', '2', '3', '275763436', '810756122'])]\n"
     ]
    },
    {
     "data": {
      "text/plain": [
       "DomoRole(id=810756122, name='super_admin', description='updated via domolibrary on 2023-03-24', is_system_role=0, is_default_role=False, grant_ls=[DomoGrant(id='versions.deployment.manage', display_group=None, title=None, depends_on_ls=None, description=None, role_membership_ls=None), DomoGrant(id='buzz.admin', display_group=None, title=None, depends_on_ls=None, description=None, role_membership_ls=None), DomoGrant(id='dataflow.admin', display_group=None, title=None, depends_on_ls=None, description=None, role_membership_ls=None), DomoGrant(id='goal.admin', display_group=None, title=None, depends_on_ls=None, description=None, role_membership_ls=None), DomoGrant(id='dataset.admin', display_group=None, title=None, depends_on_ls=None, description=None, role_membership_ls=None), DomoGrant(id='workflow.admin', display_group=None, title=None, depends_on_ls=None, description=None, role_membership_ls=None), DomoGrant(id='account.view.all', display_group=None, title=None, depends_on_ls=None, description=None, role_membership_ls=None), DomoGrant(id='profile.achieve.assign', display_group=None, title=None, depends_on_ls=None, description=None, role_membership_ls=None), DomoGrant(id='datascience.notebooks.admin', display_group=None, title=None, depends_on_ls=None, description=None, role_membership_ls=None), DomoGrant(id='content.dataapp.edit', display_group=None, title=None, depends_on_ls=None, description=None, role_membership_ls=None), DomoGrant(id='dataset.export', display_group=None, title=None, depends_on_ls=None, description=None, role_membership_ls=None), DomoGrant(id='user.invite', display_group=None, title=None, depends_on_ls=None, description=None, role_membership_ls=None), DomoGrant(id='connector.admin', display_group=None, title=None, depends_on_ls=None, description=None, role_membership_ls=None), DomoGrant(id='content.card.analyzerview', display_group=None, title=None, depends_on_ls=None, description=None, role_membership_ls=None), DomoGrant(id='fileshare.create', display_group=None, title=None, depends_on_ls=None, description=None, role_membership_ls=None), DomoGrant(id='customer.edit', display_group=None, title=None, depends_on_ls=None, description=None, role_membership_ls=None), DomoGrant(id='content.variable.edit', display_group=None, title=None, depends_on_ls=None, description=None, role_membership_ls=None), DomoGrant(id='pipeline.executor.job.admin', display_group=None, title=None, depends_on_ls=None, description=None, role_membership_ls=None), DomoGrant(id='cloud.admin', display_group=None, title=None, depends_on_ls=None, description=None, role_membership_ls=None), DomoGrant(id='versions.repository.admin', display_group=None, title=None, depends_on_ls=None, description=None, role_membership_ls=None), DomoGrant(id='codeengine.package.manage', display_group=None, title=None, depends_on_ls=None, description=None, role_membership_ls=None), DomoGrant(id='appstore.admin', display_group=None, title=None, depends_on_ls=None, description=None, role_membership_ls=None), DomoGrant(id='datastore.admin', display_group=None, title=None, depends_on_ls=None, description=None, role_membership_ls=None), DomoGrant(id='certifiedcontent.admin', display_group=None, title=None, depends_on_ls=None, description=None, role_membership_ls=None), DomoGrant(id='group.admin', display_group=None, title=None, depends_on_ls=None, description=None, role_membership_ls=None), DomoGrant(id='tasks.admin', display_group=None, title=None, depends_on_ls=None, description=None, role_membership_ls=None), DomoGrant(id='group.edit', display_group=None, title=None, depends_on_ls=None, description=None, role_membership_ls=None), DomoGrant(id='app.ddx', display_group=None, title=None, depends_on_ls=None, description=None, role_membership_ls=None), DomoGrant(id='queue.create', display_group=None, title=None, depends_on_ls=None, description=None, role_membership_ls=None), DomoGrant(id='workbench.enterprise.edit', display_group=None, title=None, depends_on_ls=None, description=None, role_membership_ls=None), DomoGrant(id='domoapps.edit', display_group=None, title=None, depends_on_ls=None, description=None, role_membership_ls=None), DomoGrant(id='content.export', display_group=None, title=None, depends_on_ls=None, description=None, role_membership_ls=None), DomoGrant(id='codeengine.package.admin', display_group=None, title=None, depends_on_ls=None, description=None, role_membership_ls=None), DomoGrant(id='domo.system.messages', display_group=None, title=None, depends_on_ls=None, description=None, role_membership_ls=None), DomoGrant(id='dataset.account.create.big.query', display_group=None, title=None, depends_on_ls=None, description=None, role_membership_ls=None), DomoGrant(id='publish.space.admin', display_group=None, title=None, depends_on_ls=None, description=None, role_membership_ls=None), DomoGrant(id='authorization.roles', display_group=None, title=None, depends_on_ls=None, description=None, role_membership_ls=None), DomoGrant(id='dataset.manage', display_group=None, title=None, depends_on_ls=None, description=None, role_membership_ls=None), DomoGrant(id='goal.distribute', display_group=None, title=None, depends_on_ls=None, description=None, role_membership_ls=None), DomoGrant(id='appstore.read', display_group=None, title=None, depends_on_ls=None, description=None, role_membership_ls=None), DomoGrant(id='content.card.embed', display_group=None, title=None, depends_on_ls=None, description=None, role_membership_ls=None), DomoGrant(id='content.admin', display_group=None, title=None, depends_on_ls=None, description=None, role_membership_ls=None), DomoGrant(id='user.session.edit', display_group=None, title=None, depends_on_ls=None, description=None, role_membership_ls=None), DomoGrant(id='workbench.enterprise.admin', display_group=None, title=None, depends_on_ls=None, description=None, role_membership_ls=None), DomoGrant(id='cloud.override', display_group=None, title=None, depends_on_ls=None, description=None, role_membership_ls=None), DomoGrant(id='datastore.create', display_group=None, title=None, depends_on_ls=None, description=None, role_membership_ls=None), DomoGrant(id='user.edit', display_group=None, title=None, depends_on_ls=None, description=None, role_membership_ls=None), DomoGrant(id='account.admin', display_group=None, title=None, depends_on_ls=None, description=None, role_membership_ls=None), DomoGrant(id='content.card.edit', display_group=None, title=None, depends_on_ls=None, description=None, role_membership_ls=None), DomoGrant(id='saasaas.edit', display_group=None, title=None, depends_on_ls=None, description=None, role_membership_ls=None), DomoGrant(id='developer.token.manage', display_group=None, title=None, depends_on_ls=None, description=None, role_membership_ls=None), DomoGrant(id='publish.subscribers.manage', display_group=None, title=None, depends_on_ls=None, description=None, role_membership_ls=None), DomoGrant(id='certifiedcontent.request', display_group=None, title=None, depends_on_ls=None, description=None, role_membership_ls=None), DomoGrant(id='content.page.edit', display_group=None, title=None, depends_on_ls=None, description=None, role_membership_ls=None), DomoGrant(id='alert.actions', display_group=None, title=None, depends_on_ls=None, description=None, role_membership_ls=None), DomoGrant(id='ml.execute', display_group=None, title=None, depends_on_ls=None, description=None, role_membership_ls=None), DomoGrant(id='audit', display_group=None, title=None, depends_on_ls=None, description=None, role_membership_ls=None), DomoGrant(id='domoapps.read', display_group=None, title=None, depends_on_ls=None, description=None, role_membership_ls=None), DomoGrant(id='tasks.private.admin', display_group=None, title=None, depends_on_ls=None, description=None, role_membership_ls=None), DomoGrant(id='content.card.narrative.edit', display_group=None, title=None, depends_on_ls=None, description=None, role_membership_ls=None), DomoGrant(id='approvalcenter.admin', display_group=None, title=None, depends_on_ls=None, description=None, role_membership_ls=None), DomoGrant(id='workbench.enterprise.view', display_group=None, title=None, depends_on_ls=None, description=None, role_membership_ls=None), DomoGrant(id='datascience.notebooks.create', display_group=None, title=None, depends_on_ls=None, description=None, role_membership_ls=None), DomoGrant(id='dataset.account.create.federated.oauth', display_group=None, title=None, depends_on_ls=None, description=None, role_membership_ls=None), DomoGrant(id='form.admin', display_group=None, title=None, depends_on_ls=None, description=None, role_membership_ls=None), DomoGrant(id='pipeline.executor.job.create', display_group=None, title=None, depends_on_ls=None, description=None, role_membership_ls=None), DomoGrant(id='alert.edit', display_group=None, title=None, depends_on_ls=None, description=None, role_membership_ls=None), DomoGrant(id='fileshare.admin', display_group=None, title=None, depends_on_ls=None, description=None, role_membership_ls=None), DomoGrant(id='appstore.payments.manage', display_group=None, title=None, depends_on_ls=None, description=None, role_membership_ls=None), DomoGrant(id='publish.publication.create', display_group=None, title=None, depends_on_ls=None, description=None, role_membership_ls=None), DomoGrant(id='dataflow.adrenaline', display_group=None, title=None, depends_on_ls=None, description=None, role_membership_ls=None), DomoGrant(id='workbench.download', display_group=None, title=None, depends_on_ls=None, description=None, role_membership_ls=None), DomoGrant(id='dataset.account.create', display_group=None, title=None, depends_on_ls=None, description=None, role_membership_ls=None), DomoGrant(id='usage.reports.view', display_group=None, title=None, depends_on_ls=None, description=None, role_membership_ls=None), DomoGrant(id='goal.edit', display_group=None, title=None, depends_on_ls=None, description=None, role_membership_ls=None), DomoGrant(id='versions.repository.create', display_group=None, title=None, depends_on_ls=None, description=None, role_membership_ls=None), DomoGrant(id='app.admin', display_group=None, title=None, depends_on_ls=None, description=None, role_membership_ls=None), DomoGrant(id='dataflow.magic', display_group=None, title=None, depends_on_ls=None, description=None, role_membership_ls=None), DomoGrant(id='dataflow.manage', display_group=None, title=None, depends_on_ls=None, description=None, role_membership_ls=None), DomoGrant(id='workflow.create', display_group=None, title=None, depends_on_ls=None, description=None, role_membership_ls=None), DomoGrant(id='form.create', display_group=None, title=None, depends_on_ls=None, description=None, role_membership_ls=None), DomoGrant(id='queue.admin', display_group=None, title=None, depends_on_ls=None, description=None, role_membership_ls=None), DomoGrant(id='alert.admin', display_group=None, title=None, depends_on_ls=None, description=None, role_membership_ls=None), DomoGrant(id='appstore.edit', display_group=None, title=None, depends_on_ls=None, description=None, role_membership_ls=None)], membership_ls=[])"
      ]
     },
     "execution_count": null,
     "metadata": {},
     "output_type": "execute_result"
    }
   ],
   "source": [
    "await upsert_super_admin(auth=token_auth, role_name=\"super_admin\")"
   ]
  },
  {
   "attachments": {},
   "cell_type": "markdown",
   "id": "199c463b-5ebe-4ebd-9c69-8526ebbd02f9",
   "metadata": {},
   "source": [
    "## create user\n",
    "\n",
    "At code execution, it is possible that a user may need to be a specific role, but that user and the role haven't been deployed to the instance yet.\n",
    "\n",
    "The proper order of operations would be to create a role and then assign the user to that role.  You cannot create a user without defining their role membership"
   ]
  },
  {
   "cell_type": "code",
   "execution_count": null,
   "id": "7dfc31a3-6b6c-4cec-9f61-e2d8ab9fe9fc",
   "metadata": {},
   "outputs": [],
   "source": [
    "import domolibrary.classes.DomoUser as dmu\n",
    "\n",
    "\n",
    "async def upsert_user(\n",
    "    auth: dmda.DomoAuth,\n",
    "    email_address: str,\n",
    "    role_id: str,\n",
    "    debug_api: bool = False,\n",
    "):\n",
    "\n",
    "    return await dmu.DomoUsers.upsert_user(\n",
    "        email_address=email_address, role_id=role_id, auth=auth, debug_api=debug_api\n",
    "    )"
   ]
  },
  {
   "attachments": {},
   "cell_type": "markdown",
   "id": "bfb40ebd",
   "metadata": {},
   "source": [
    "#### sample implementation of upsert_user"
   ]
  },
  {
   "cell_type": "code",
   "execution_count": null,
   "id": "e0f37801",
   "metadata": {},
   "outputs": [
    {
     "data": {
      "text/plain": [
       "ResponseGetData(status=200, response={'attributes': [{'key': 'id', 'values': [1802840904]}, {'key': 'displayName', 'values': ['test23@test.com - via dl 2023-03-16']}, {'key': 'userName', 'values': ['test23@test.com']}, {'key': 'emailAddress', 'values': ['test23@test.com']}, {'key': 'modified', 'values': [1680526181615]}, {'key': 'created', 'values': [1679010842000]}, {'key': 'roleId', 'values': [4]}, {'key': 'isAnonymous', 'values': [True]}, {'key': 'isSystemUser', 'values': [False]}, {'key': 'isPending', 'values': [True]}, {'key': 'isActive', 'values': [True]}, {'key': 'invitorUserId', 'values': [1893952720]}, {'key': 'avatarKey', 'values': ['/api/content/v1/avatar/USER/1802840904']}], 'id': 1802840904, 'displayName': 'test23@test.com - via dl 2023-03-16', 'roleId': 4, 'userName': 'test23@test.com', 'emailAddress': 'test23@test.com'}, is_success=True)"
      ]
     },
     "execution_count": null,
     "metadata": {},
     "output_type": "execute_result"
    }
   ],
   "source": [
    "role = roles_to_create[0]\n",
    "await upsert_user(auth=token_auth, role_id=4, email_address=\"test23@test.com\")"
   ]
  },
  {
   "attachments": {},
   "cell_type": "markdown",
   "id": "ad4b034e",
   "metadata": {},
   "source": [
    "# Main Implementation\n",
    "With one function, `create_role` which calls upsert_role` and `upsert_user` we can quickly map over the `EnvRole` class and rapidly deploy a consistent set of roles to one or many domo instances just by swapping out the `DomoAuth` object.\n",
    "\n",
    "Notice the intentional use of `asyncio` to execute code asynchronously where appropriate.  We must deploy a role before deploying users, but we could configure multiple roles simultaneously because they are not dependent."
   ]
  },
  {
   "cell_type": "code",
   "execution_count": null,
   "id": "95dc3398-ac80-4502-a1d1-581f7e14eec4",
   "metadata": {},
   "outputs": [],
   "source": [
    "import datetime as dt\n",
    "import asyncio\n",
    "\n",
    "\n",
    "async def create_role(\n",
    "    role_name, role_description, grant_ls, email_ls, auth, debug_prn: bool = False\n",
    "):\n",
    "    if debug_prn:\n",
    "        pprint(\n",
    "            {\n",
    "                \"name\": role_name,\n",
    "                \"description\": role_description,\n",
    "                \"grant_ls\": grant_ls,\n",
    "                \"email_ls\": email_ls,\n",
    "            }\n",
    "        )\n",
    "\n",
    "    domo_role = await upsert_role(\n",
    "        auth=auth,\n",
    "        role_name=role_name,\n",
    "        role_description=f\"{role_description} - updated {dt.date.today()}\",\n",
    "        grant_ls=grant_ls,\n",
    "    )\n",
    "\n",
    "    return await asyncio.gather(\n",
    "        *[\n",
    "            upsert_user(auth=auth, role_id=domo_role.id, email_address=email_address)\n",
    "            for email_address in email_ls\n",
    "        ]\n",
    "    )"
   ]
  },
  {
   "attachments": {},
   "cell_type": "markdown",
   "id": "cf2f0d4c",
   "metadata": {},
   "source": [
    "#### sample implementation of create_role"
   ]
  },
  {
   "cell_type": "code",
   "execution_count": null,
   "id": "6ec4522b",
   "metadata": {},
   "outputs": [
    {
     "name": "stdout",
     "output_type": "stream",
     "text": [
      "[DomoGrant(id='alert.edit', display_group=None, title=None, depends_on_ls=None, description=None, role_membership_ls=None), DomoGrant(id='alert.actions', display_group=None, title=None, depends_on_ls=None, description=None, role_membership_ls=None), DomoGrant(id='content.card.embed', display_group=None, title=None, depends_on_ls=None, description=None, role_membership_ls=None), DomoGrant(id='content.export', display_group=None, title=None, depends_on_ls=None, description=None, role_membership_ls=None), DomoGrant(id='content.variable.edit', display_group=None, title=None, depends_on_ls=None, description=None, role_membership_ls=None), DomoGrant(id='audit', display_group=None, title=None, depends_on_ls=None, description=None, role_membership_ls=None), DomoGrant(id='datastore.create', display_group=None, title=None, depends_on_ls=None, description=None, role_membership_ls=None), DomoGrant(id='dataset.manage', display_group=None, title=None, depends_on_ls=None, description=None, role_membership_ls=None), DomoGrant(id='dataset.export', display_group=None, title=None, depends_on_ls=None, description=None, role_membership_ls=None), DomoGrant(id='publish.subscribers.manage', display_group=None, title=None, depends_on_ls=None, description=None, role_membership_ls=None), DomoGrant(id='user.invite', display_group=None, title=None, depends_on_ls=None, description=None, role_membership_ls=None), DomoGrant(id='group.edit', display_group=None, title=None, depends_on_ls=None, description=None, role_membership_ls=None), DomoGrant(id='certifiedcontent.admin', display_group=None, title=None, depends_on_ls=None, description=None, role_membership_ls=None), DomoGrant(id='certifiedcontent.request', display_group=None, title=None, depends_on_ls=None, description=None, role_membership_ls=None)]\n",
      "[DomoGrant(id='alert.edit', display_group=None, title=None, depends_on_ls=None, description=None, role_membership_ls=None), DomoGrant(id='alert.actions', display_group=None, title=None, depends_on_ls=None, description=None, role_membership_ls=None), DomoGrant(id='content.card.embed', display_group=None, title=None, depends_on_ls=None, description=None, role_membership_ls=None)]\n"
     ]
    },
    {
     "data": {
      "text/plain": [
       "[[ResponseGetData(status=200, response={'attributes': [{'key': 'id', 'values': [308783524]}, {'key': 'displayName', 'values': ['test1']}, {'key': 'userName', 'values': ['test1@test.com']}, {'key': 'emailAddress', 'values': ['test1@test.com']}, {'key': 'modified', 'values': [1680526185953]}, {'key': 'created', 'values': [1664931963000]}, {'key': 'roleId', 'values': [1563101750]}, {'key': 'isAnonymous', 'values': [True]}, {'key': 'isSystemUser', 'values': [False]}, {'key': 'isPending', 'values': [True]}, {'key': 'isActive', 'values': [True]}, {'key': 'invitorUserId', 'values': [1893952720]}, {'key': 'avatarKey', 'values': ['/api/content/v1/avatar/USER/308783524']}], 'id': 308783524, 'displayName': 'test1', 'roleId': 1563101750, 'userName': 'test1@test.com', 'emailAddress': 'test1@test.com'}, is_success=True),\n",
       "  ResponseGetData(status=200, response={'attributes': [{'key': 'id', 'values': [894540685]}, {'key': 'displayName', 'values': ['test2@test.com - via dl 2023-03-16']}, {'key': 'userName', 'values': ['test2@test.com']}, {'key': 'emailAddress', 'values': ['test2@test.com']}, {'key': 'modified', 'values': [1680526186003]}, {'key': 'created', 'values': [1679011012000]}, {'key': 'roleId', 'values': [1563101750]}, {'key': 'isAnonymous', 'values': [True]}, {'key': 'isSystemUser', 'values': [False]}, {'key': 'isPending', 'values': [True]}, {'key': 'isActive', 'values': [True]}, {'key': 'invitorUserId', 'values': [1893952720]}, {'key': 'avatarKey', 'values': ['/api/content/v1/avatar/USER/894540685']}], 'id': 894540685, 'displayName': 'test2@test.com - via dl 2023-03-16', 'roleId': 1563101750, 'emailAddress': 'test2@test.com', 'userName': 'test2@test.com'}, is_success=True)],\n",
       " [ResponseGetData(status=200, response={'attributes': [{'key': 'id', 'values': [1681443709]}, {'key': 'displayName', 'values': ['test 3']}, {'key': 'userName', 'values': ['test3@test.com']}, {'key': 'emailAddress', 'values': ['test3@test.com']}, {'key': 'modified', 'values': [1680526185934]}, {'key': 'created', 'values': [1664936244000]}, {'key': 'roleId', 'values': [1662852841]}, {'key': 'isAnonymous', 'values': [True]}, {'key': 'isSystemUser', 'values': [False]}, {'key': 'isPending', 'values': [True]}, {'key': 'isActive', 'values': [True]}, {'key': 'invitorUserId', 'values': [1893952720]}, {'key': 'avatarKey', 'values': ['/api/content/v1/avatar/USER/1681443709']}], 'id': 1681443709, 'displayName': 'test 3', 'roleId': 1662852841, 'userName': 'test3@test.com', 'emailAddress': 'test3@test.com'}, is_success=True),\n",
       "  ResponseGetData(status=200, response={'attributes': [{'key': 'id', 'values': [1681443709]}, {'key': 'displayName', 'values': ['test 3']}, {'key': 'userName', 'values': ['test3@test.com']}, {'key': 'emailAddress', 'values': ['test3@test.com']}, {'key': 'modified', 'values': [1680526185934]}, {'key': 'created', 'values': [1664936244000]}, {'key': 'roleId', 'values': [1662852841]}, {'key': 'isAnonymous', 'values': [True]}, {'key': 'isSystemUser', 'values': [False]}, {'key': 'isPending', 'values': [True]}, {'key': 'isActive', 'values': [True]}, {'key': 'invitorUserId', 'values': [1893952720]}, {'key': 'avatarKey', 'values': ['/api/content/v1/avatar/USER/1681443709']}], 'id': 1681443709, 'displayName': 'test 3', 'roleId': 1662852841, 'userName': 'test3@test.com', 'emailAddress': 'test3@test.com'}, is_success=True),\n",
       "  ResponseGetData(status=200, response={'attributes': [{'key': 'id', 'values': [663516735]}, {'key': 'displayName', 'values': ['test - updated via dl 2023-03-24']}, {'key': 'userName', 'values': ['test4@test.com']}, {'key': 'emailAddress', 'values': ['test4@test.com']}, {'key': 'modified', 'values': [1680526185955]}, {'key': 'created', 'values': [1679007751000]}, {'key': 'roleId', 'values': [1662852841]}, {'key': 'isAnonymous', 'values': [True]}, {'key': 'isSystemUser', 'values': [False]}, {'key': 'isPending', 'values': [True]}, {'key': 'isActive', 'values': [True]}, {'key': 'invitorUserId', 'values': [1893952720]}, {'key': 'avatarKey', 'values': ['/api/content/v1/avatar/USER/663516735']}], 'id': 663516735, 'displayName': 'test - updated via dl 2023-03-24', 'roleId': 1662852841, 'userName': 'test4@test.com', 'emailAddress': 'test4@test.com'}, is_success=True)]]"
      ]
     },
     "execution_count": null,
     "metadata": {},
     "output_type": "execute_result"
    }
   ],
   "source": [
    "await asyncio.gather(\n",
    "    *[\n",
    "        create_role(\n",
    "            role_name=role.name,\n",
    "            role_description=role.description,\n",
    "            grant_ls=role.grant_ls,\n",
    "            email_ls=role.user_ls,\n",
    "            auth=token_auth,\n",
    "        )\n",
    "        for role in roles_to_create\n",
    "    ]\n",
    ")"
   ]
  }
 ],
 "metadata": {
  "kernelspec": {
   "display_name": "python3",
   "language": "python",
   "name": "python3"
  }
 },
 "nbformat": 4,
 "nbformat_minor": 5
}
