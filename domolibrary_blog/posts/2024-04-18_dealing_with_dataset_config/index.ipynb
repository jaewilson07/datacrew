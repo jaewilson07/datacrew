{
 "cells": [
  {
   "cell_type": "markdown",
   "metadata": {},
   "source": [
    "# How might I dynamically update a connector stored in GitHub?\n",
    "- retrieve the 'correct dataset'\n",
    "- retrieve the stream confiugration\n",
    "- get GitHub configuration\n",
    "- update stream\n",
    "\n",
    "## import credentials\n",
    "\n",
    "- username and password stored in env file\n",
    "- DomoAuth class has several classes for handling authentication"
   ]
  },
  {
   "cell_type": "code",
   "execution_count": null,
   "metadata": {},
   "outputs": [],
   "source": [
    "# %pip install domolibrary"
   ]
  },
  {
   "cell_type": "code",
   "execution_count": 27,
   "metadata": {},
   "outputs": [
    {
     "name": "stdout",
     "output_type": "stream",
     "text": [
      "warning this token has not been validated by who_am_i, run get_auth_token first\n",
      "🎉 token_auth token retrieved from domo-community ⚙️\n"
     ]
    },
    {
     "data": {
      "text/plain": [
       "True"
      ]
     },
     "execution_count": 27,
     "metadata": {},
     "output_type": "execute_result"
    }
   ],
   "source": [
    "import os\n",
    "import domolibrary.client.DomoAuth as dmda\n",
    "\n",
    "\n",
    "auth = dmda.DomoTokenAuth(\n",
    "    domo_access_token=os.environ[\"DOMO_DOJO_ACCESS_TOKEN\"],\n",
    "    domo_instance=\"domo-community\",\n",
    ")\n",
    "\n",
    "await auth.print_is_token()"
   ]
  },
  {
   "cell_type": "markdown",
   "metadata": {},
   "source": [
    "# Search DomoDatacenter for dataset\n",
    "- you could just use DomoDatset.get_by_id()\n",
    "\n",
    "## sample search criteria in DomoDatacenter\n",
    "- just monitor network traffic"
   ]
  },
  {
   "cell_type": "code",
   "execution_count": null,
   "metadata": {},
   "outputs": [],
   "source": [
    "{\n",
    "    \"entities\": [\"DATASET\"],\n",
    "    \"count\": 0,\n",
    "    \"offset\": 0,\n",
    "    \"combineResults\": False,\n",
    "    \"query\": \"*\",\n",
    "    \"queryProfile\": \"DATA_CENTER\",\n",
    "    \"filters\": [\n",
    "        {\n",
    "            \"filterType\": \"term\",\n",
    "            \"field\": \"dataprovidername_facet\",\n",
    "            \"value\": \"Snowflake Unload V2\",\n",
    "            \"name\": \"Snowflake Unload V2\",\n",
    "            \"not\": False,\n",
    "        }\n",
    "    ],\n",
    "    \"facetValuesToInclude\": None,\n",
    "    \"facetValueLimit\": 400,\n",
    "    \"facetValueOffset\": 0,\n",
    "    \"includePhonetic\": True,\n",
    "    \"useEntities\": True,\n",
    "}"
   ]
  },
  {
   "cell_type": "markdown",
   "metadata": {},
   "source": [
    "# search DomoDatacenter\n",
    "\n",
    "- retrieve dataset\n",
    "- retrieve stream_id\n",
    "- streams handle how data is ingested into Domo"
   ]
  },
  {
   "cell_type": "code",
   "execution_count": 28,
   "metadata": {},
   "outputs": [
    {
     "data": {
      "text/plain": [
       "[DomoDataset(id='5f90901a-f0e6-451e-9bc9-09e23e96bd7f', display_type='json5', data_provider_type='json5', name='t1', description='', row_count=1, column_count=6, stream_id=1658, owner={'id': '1893952720', 'name': 'Jae Wilson1', 'type': 'USER', 'group': False}, formula={}, schema=DomoDataset_Schema(dataset=..., columns=[]), tags=DomoDataset_Tags(dataset=..., tag_ls=[]), certification=None, PDP=<domolibrary.classes.DomoPDP.Dataset_PDP_Policies object at 0x00000218D852B0D0>),\n",
       " DomoDataset(id='5eb2e87e-8e5a-43b6-ae17-93c5eb0cd89a', display_type='json5', data_provider_type='json5', name='DomoStats| Card Metadata', description='', row_count=3028, column_count=62, stream_id=1194, owner={'id': '68216396', 'name': 'Elliott Leonard', 'type': 'USER', 'group': False}, formula={}, schema=DomoDataset_Schema(dataset=..., columns=[]), tags=DomoDataset_Tags(dataset=..., tag_ls=[]), certification=None, PDP=<domolibrary.classes.DomoPDP.Dataset_PDP_Policies object at 0x00000218F984E4D0>),\n",
       " DomoDataset(id='d72a9337-1e3d-4795-8e6b-3d0191dcc59c', display_type='json5', data_provider_type='json5', name='Alerts - Domo API', description='', row_count=17, column_count=39, stream_id=885, owner={'id': '68216396', 'name': 'Elliott Leonard', 'type': 'USER', 'group': False}, formula={}, schema=DomoDataset_Schema(dataset=..., columns=[]), tags=DomoDataset_Tags(dataset=..., tag_ls=[]), certification=None, PDP=<domolibrary.classes.DomoPDP.Dataset_PDP_Policies object at 0x00000218F984D5A0>),\n",
       " DomoDataset(id='1f3b3c2d-f9d4-45b0-8d5c-84cb78666d1e', display_type='json5', data_provider_type='json5', name='Weather Data Test Second Day', description='Second Day of Weather Data', row_count=27023, column_count=44, stream_id=1020, owner={'id': '918118628', 'name': 'Jason Altenburg', 'type': 'USER', 'group': False}, formula={'calculation_28006097-c5b0-4b78-9198-2678d4414780': {'templateId': 3103, 'id': 'calculation_28006097-c5b0-4b78-9198-2678d4414780', 'name': 'Wind Direction', 'formula': \"CASE WHEN `wind_dir_deg` >=  11.25 and `wind_dir_deg` <  33.75 THEN 'NNE'\\n        WHEN `wind_dir_deg` >=  33.75 and `wind_dir_deg` <  56.25 THEN 'NE'\\n        WHEN `wind_dir_deg` >=  56.25 and `wind_dir_deg` <  78.75 THEN 'ENE'\\n        WHEN `wind_dir_deg` >=  78.75 and `wind_dir_deg` < 101.25 THEN 'E'\\n        WHEN `wind_dir_deg` >= 101.25 and `wind_dir_deg` < 123.75 THEN 'ESE'\\n        WHEN `wind_dir_deg` >= 123.75 and `wind_dir_deg` < 146.25 THEN 'SE'\\n        WHEN `wind_dir_deg` >= 146.25 and `wind_dir_deg` < 168.75 THEN 'SSE'\\n        WHEN `wind_dir_deg` >= 168.75 and `wind_dir_deg` < 191.25 THEN 'S'\\n        WHEN `wind_dir_deg` >= 191.25 and `wind_dir_deg` < 213.75 THEN 'SSW'\\n        WHEN `wind_dir_deg` >= 213.75 and `wind_dir_deg` < 236.25 THEN 'SW'\\n        WHEN `wind_dir_deg` >= 236.25 and `wind_dir_deg` < 258.75 THEN 'WSW'\\n        WHEN `wind_dir_deg` >= 258.75 and `wind_dir_deg` < 281.25 THEN 'W'\\n        WHEN `wind_dir_deg` >= 281.25 and `wind_dir_deg` < 303.75 THEN 'WNW'\\n        WHEN `wind_dir_deg` >= 303.75 and `wind_dir_deg` < 326.25 THEN 'NW'\\n        WHEN `wind_dir_deg` >= 326.25 and `wind_dir_deg` < 348.75 THEN 'NNW'\\n        WHEN IFNULL(`wind_dir_deg`,0) = 0 THEN 'EXCLUDE'\\n        else 'N' END\", 'status': 'VALID', 'dataType': 'STRING', 'persistedOnDataSource': True, 'isAggregatable': False, 'bignumber': False, 'columnPositions': [{'columnName': '`wind_dir_deg`', 'columnPosition': 10}, {'columnName': '`wind_dir_deg`', 'columnPosition': 39}, {'columnName': '`wind_dir_deg`', 'columnPosition': 87}, {'columnName': '`wind_dir_deg`', 'columnPosition': 116}, {'columnName': '`wind_dir_deg`', 'columnPosition': 163}, {'columnName': '`wind_dir_deg`', 'columnPosition': 192}, {'columnName': '`wind_dir_deg`', 'columnPosition': 240}, {'columnName': '`wind_dir_deg`', 'columnPosition': 269}, {'columnName': '`wind_dir_deg`', 'columnPosition': 315}, {'columnName': '`wind_dir_deg`', 'columnPosition': 344}, {'columnName': '`wind_dir_deg`', 'columnPosition': 392}, {'columnName': '`wind_dir_deg`', 'columnPosition': 421}, {'columnName': '`wind_dir_deg`', 'columnPosition': 468}, {'columnName': '`wind_dir_deg`', 'columnPosition': 497}, {'columnName': '`wind_dir_deg`', 'columnPosition': 545}, {'columnName': '`wind_dir_deg`', 'columnPosition': 574}, {'columnName': '`wind_dir_deg`', 'columnPosition': 620}, {'columnName': '`wind_dir_deg`', 'columnPosition': 649}, {'columnName': '`wind_dir_deg`', 'columnPosition': 697}, {'columnName': '`wind_dir_deg`', 'columnPosition': 726}, {'columnName': '`wind_dir_deg`', 'columnPosition': 773}, {'columnName': '`wind_dir_deg`', 'columnPosition': 802}, {'columnName': '`wind_dir_deg`', 'columnPosition': 850}, {'columnName': '`wind_dir_deg`', 'columnPosition': 879}, {'columnName': '`wind_dir_deg`', 'columnPosition': 925}, {'columnName': '`wind_dir_deg`', 'columnPosition': 954}, {'columnName': '`wind_dir_deg`', 'columnPosition': 1002}, {'columnName': '`wind_dir_deg`', 'columnPosition': 1031}, {'columnName': '`wind_dir_deg`', 'columnPosition': 1078}, {'columnName': '`wind_dir_deg`', 'columnPosition': 1107}, {'columnName': '`wind_dir_deg`', 'columnPosition': 1162}], 'variable': False}, 'calculation_ce851f94-1b79-42dc-b522-39c10039085c': {'templateId': 3102, 'id': 'calculation_ce851f94-1b79-42dc-b522-39c10039085c', 'name': 'Signal Identifier', 'formula': \"CASE WHEN `model` = 'Acurite 5n1 sensor' AND `sensor_id` = '3541' THEN 'Outdoor Weather Station'\\nWHEN `model` = 'Acurite 606TX Sensor' AND `id` = '156' THEN 'Nearby 606TX'\\nWHEN `model` = 'Oregon Scientific SL109H' AND `id` = '0' THEN 'Nearby SL109H'\\nWHEN `model` = 'Springfield Temperature & Moisture' AND `sid` = '156' THEN 'Nearby SpT&M'\\nELSE 'Unidentified Signal' END\", 'status': 'VALID', 'dataType': 'STRING', 'persistedOnDataSource': True, 'isAggregatable': False, 'bignumber': False, 'columnPositions': [{'columnName': '`model`', 'columnPosition': 10}, {'columnName': '`sensor_id`', 'columnPosition': 45}, {'columnName': '`model`', 'columnPosition': 102}, {'columnName': '`id`', 'columnPosition': 139}, {'columnName': '`model`', 'columnPosition': 177}, {'columnName': '`id`', 'columnPosition': 218}, {'columnName': '`model`', 'columnPosition': 255}, {'columnName': '`sid`', 'columnPosition': 306}], 'variable': False}}, schema=DomoDataset_Schema(dataset=..., columns=[]), tags=DomoDataset_Tags(dataset=..., tag_ls=[]), certification=None, PDP=<domolibrary.classes.DomoPDP.Dataset_PDP_Policies object at 0x00000218F9833370>),\n",
       " DomoDataset(id='7fd39fb1-0bed-4c5a-8996-3fa6ca9f38cc', display_type='json5', data_provider_type='json5', name='DomoStats | Detailed Card Metadata', description='', row_count=3045, column_count=80, stream_id=1191, owner={'id': '68216396', 'name': 'Elliott Leonard', 'type': 'USER', 'group': False}, formula={}, schema=DomoDataset_Schema(dataset=..., columns=[]), tags=DomoDataset_Tags(dataset=..., tag_ls=[]), certification=None, PDP=<domolibrary.classes.DomoPDP.Dataset_PDP_Policies object at 0x00000218F984FA90>)]"
      ]
     },
     "execution_count": 28,
     "metadata": {},
     "output_type": "execute_result"
    }
   ],
   "source": [
    "import domolibrary.classes.DomoDatacenter as dmdc\n",
    "\n",
    "domo_datacenter = dmdc.DomoDatacenter(auth=auth)\n",
    "\n",
    "additional_filters_ls = [\n",
    "    {\n",
    "        \"filterType\": \"term\",\n",
    "        \"field\": \"dataprovidername_facet\",\n",
    "        \"value\": \"JSON\",\n",
    "    }\n",
    "]\n",
    "\n",
    "domo_datasets = await domo_datacenter.search_datasets(\n",
    "    auth=auth, additional_filters_ls=additional_filters_ls\n",
    ")\n",
    "domo_datasets[0:5]"
   ]
  },
  {
   "cell_type": "code",
   "execution_count": 29,
   "metadata": {},
   "outputs": [
    {
     "data": {
      "text/plain": [
       "{'auth': DomoTokenAuth(domo_instance='domo-community', token_name='token_auth', is_valid_token=True, url_manual_login='https://domo-community.domo.com/auth/index?domoManualLogin=true'),\n",
       " 'id': '5f90901a-f0e6-451e-9bc9-09e23e96bd7f',\n",
       " 'display_type': 'json5',\n",
       " 'data_provider_type': 'json5',\n",
       " 'name': 't1',\n",
       " 'description': '',\n",
       " 'row_count': 1,\n",
       " 'column_count': 6,\n",
       " 'stream_id': 1658,\n",
       " 'owner': {'id': '1893952720',\n",
       "  'name': 'Jae Wilson1',\n",
       "  'type': 'USER',\n",
       "  'group': False},\n",
       " 'formula': {},\n",
       " 'schema': DomoDataset_Schema(dataset=DomoDataset(id='5f90901a-f0e6-451e-9bc9-09e23e96bd7f', display_type='json5', data_provider_type='json5', name='t1', description='', row_count=1, column_count=6, stream_id=1658, owner={'id': '1893952720', 'name': 'Jae Wilson1', 'type': 'USER', 'group': False}, formula={}, schema=..., tags=DomoDataset_Tags(dataset=..., tag_ls=[]), certification=None, PDP=<domolibrary.classes.DomoPDP.Dataset_PDP_Policies object at 0x00000218D852B0D0>), columns=[]),\n",
       " 'tags': DomoDataset_Tags(dataset=DomoDataset(id='5f90901a-f0e6-451e-9bc9-09e23e96bd7f', display_type='json5', data_provider_type='json5', name='t1', description='', row_count=1, column_count=6, stream_id=1658, owner={'id': '1893952720', 'name': 'Jae Wilson1', 'type': 'USER', 'group': False}, formula={}, schema=DomoDataset_Schema(dataset=..., columns=[]), tags=..., certification=None, PDP=<domolibrary.classes.DomoPDP.Dataset_PDP_Policies object at 0x00000218D852B0D0>), tag_ls=[]),\n",
       " 'certification': None,\n",
       " 'PDP': <domolibrary.classes.DomoPDP.Dataset_PDP_Policies at 0x218d852b0d0>}"
      ]
     },
     "execution_count": 29,
     "metadata": {},
     "output_type": "execute_result"
    }
   ],
   "source": [
    "dataset_id = \"5f90901a-f0e6-451e-9bc9-09e23e96bd7f\"\n",
    "domo_dataset = next((ds for ds in domo_datasets if ds.id == dataset_id))\n",
    "domo_dataset.__dict__"
   ]
  },
  {
   "cell_type": "markdown",
   "metadata": {},
   "source": [
    "# Update Stream\n",
    "- get the stream\n",
    "- extract the configuration information\n",
    "- update config settings with new SQL\n",
    "- push updated stream config to dataset"
   ]
  },
  {
   "cell_type": "code",
   "execution_count": 30,
   "metadata": {},
   "outputs": [
    {
     "name": "stdout",
     "output_type": "stream",
     "text": [
      "adjusting num_stacks_to_drop, consider revising `get_traceback` call\n",
      "{'stack_length': 16, 'module_index': 12, 'num_stacks_to_drop_passed': 3}\n"
     ]
    },
    {
     "data": {
      "text/plain": [
       "{'id': 1658,\n",
       " 'valid': True,\n",
       " 'invalidExecutionId': None,\n",
       " 'transport': {'type': 'CONNECTOR',\n",
       "  'description': 'com.domo.connector.json.customparsing',\n",
       "  'version': '4'},\n",
       " 'updateMethod': 'REPLACE',\n",
       " 'dataProvider': {'id': 3251,\n",
       "  'key': 'json5',\n",
       "  'name': 'JSON',\n",
       "  'url': None,\n",
       "  'defaultConnectorId': None,\n",
       "  'defaultConnectorLabel': None,\n",
       "  'authenticationScheme': 'fields',\n",
       "  'connectorValidatorPresent': False,\n",
       "  'resourceBundlePresent': False,\n",
       "  'moduleHandler': None,\n",
       "  'iconPicker': False,\n",
       "  'unsafe': False,\n",
       "  'scope': '0',\n",
       "  'producer': 'DOMO',\n",
       "  'version': '0',\n",
       "  'dateCreated': 1601579548000,\n",
       "  'dateUpdated': 1693235941000,\n",
       "  'visibility': 'WITH_CONNECTOR',\n",
       "  'type': 'STANDARD',\n",
       "  'customerOAuthConfigurationDataProviderType': None,\n",
       "  'authenticationSchemeConfiguration': [{'id': 12114,\n",
       "    'name': 'authentication',\n",
       "    'type': 'dropdown',\n",
       "    'text': 'Authentication Type',\n",
       "    'tooltipText': 'Authentication Type',\n",
       "    'required': False,\n",
       "    'encrypted': False,\n",
       "    'defaultValue': 'basic',\n",
       "    'restrictions': None,\n",
       "    'sortOrder': 1,\n",
       "    'data': {'options': [{'label': 'None', 'value': 'none'},\n",
       "      {'label': 'Basic Authentication or SFTP', 'value': 'basic'},\n",
       "      {'label': 'API key', 'value': 'apiKey'}]},\n",
       "    'configField': False},\n",
       "   {'id': 12115,\n",
       "    'name': 'username',\n",
       "    'type': 'string',\n",
       "    'text': 'Username',\n",
       "    'tooltipText': 'Enter a username if using SFTP or Basic Authentication, otherwise leave blank.',\n",
       "    'required': False,\n",
       "    'encrypted': False,\n",
       "    'defaultValue': '',\n",
       "    'restrictions': None,\n",
       "    'sortOrder': 2,\n",
       "    'data': {},\n",
       "    'configField': False},\n",
       "   {'id': 12116,\n",
       "    'name': 'password',\n",
       "    'type': 'password',\n",
       "    'text': 'Password',\n",
       "    'tooltipText': 'Enter a password if using SFTP or Basic Authentication, otherwise leave blank.',\n",
       "    'required': False,\n",
       "    'encrypted': True,\n",
       "    'defaultValue': '',\n",
       "    'restrictions': None,\n",
       "    'sortOrder': 3,\n",
       "    'data': {},\n",
       "    'configField': False},\n",
       "   {'id': 12117,\n",
       "    'name': 'apiType',\n",
       "    'type': 'dropdown',\n",
       "    'text': 'API key type',\n",
       "    'tooltipText': 'API key type',\n",
       "    'required': False,\n",
       "    'encrypted': False,\n",
       "    'defaultValue': 'header',\n",
       "    'restrictions': None,\n",
       "    'sortOrder': 4,\n",
       "    'data': {'options': [{'label': 'Pass as a header', 'value': 'header'},\n",
       "      {'label': 'Pass as a parameter', 'value': 'parameter'}]},\n",
       "    'configField': False},\n",
       "   {'id': 12118,\n",
       "    'name': 'name',\n",
       "    'type': 'string',\n",
       "    'text': 'Parameter/header Name',\n",
       "    'tooltipText': 'Parameter or header name',\n",
       "    'required': False,\n",
       "    'encrypted': False,\n",
       "    'defaultValue': '',\n",
       "    'restrictions': None,\n",
       "    'sortOrder': 5,\n",
       "    'data': {},\n",
       "    'configField': False},\n",
       "   {'id': 12119,\n",
       "    'name': 'apiKey',\n",
       "    'type': 'string',\n",
       "    'text': 'Api Key',\n",
       "    'tooltipText': 'Api Key',\n",
       "    'required': False,\n",
       "    'encrypted': True,\n",
       "    'defaultValue': '',\n",
       "    'restrictions': None,\n",
       "    'sortOrder': 6,\n",
       "    'data': {},\n",
       "    'configField': False}]},\n",
       " 'account': {'id': 91,\n",
       "  'userId': 1893952720,\n",
       "  'name': 'JSON Account',\n",
       "  'displayName': 'JSON Account',\n",
       "  'type': 'data',\n",
       "  'valid': True,\n",
       "  'dataProviderType': 'json5',\n",
       "  'credentialsType': 'fields',\n",
       "  'createdAt': 1707328700000,\n",
       "  'createdBy': 1893952720,\n",
       "  'modifiedAt': 1707328700000,\n",
       "  'modifiedBy': 1893952720,\n",
       "  'configurations': {},\n",
       "  'accountId': 91,\n",
       "  'accountTemplateId': None,\n",
       "  'accountTemplateAuthorizationId': None},\n",
       " 'accountTemplate': None,\n",
       " 'dataSource': {'id': '5f90901a-f0e6-451e-9bc9-09e23e96bd7f',\n",
       "  'displayType': 'json5',\n",
       "  'dataProviderType': 'json5',\n",
       "  'type': 'json5',\n",
       "  'name': 't1',\n",
       "  'description': '',\n",
       "  'owner': {'id': '1893952720',\n",
       "   'name': 'Jae Wilson1',\n",
       "   'type': 'USER',\n",
       "   'group': False},\n",
       "  'status': 'SUCCESS',\n",
       "  'created': 1713471499000,\n",
       "  'lastTouched': 1713475333000,\n",
       "  'lastUpdated': 1713474301534,\n",
       "  'nextUpdate': 1713559019696,\n",
       "  'rowCount': 1,\n",
       "  'columnCount': 6,\n",
       "  'cardInfo': {'cardCount': 0, 'cardViewCount': 0},\n",
       "  'properties': {'formulas': {'formulas': {}}},\n",
       "  'state': 'SUCCESS',\n",
       "  'validConfiguration': True,\n",
       "  'validAccount': True,\n",
       "  'accountId': 91,\n",
       "  'streamId': 1658,\n",
       "  'transportType': 'CONNECTOR',\n",
       "  'adc': False,\n",
       "  'adcExternal': False,\n",
       "  'cloudId': 'domo',\n",
       "  'cloudName': 'Domo',\n",
       "  'permissions': 'READ_WRITE_DELETE_SHARE_ADMIN',\n",
       "  'hidden': False,\n",
       "  'scheduleActive': True,\n",
       "  'cloudEngine': 'domo'},\n",
       " 'schemaDefinition': {'columns': [{'type': 'LONG',\n",
       "    'name': 'id',\n",
       "    'id': 'id',\n",
       "    'visible': True,\n",
       "    'metadata': {'colLabel': 'id', 'colFormat': '', 'isEncrypted': False}},\n",
       "   {'type': 'STRING',\n",
       "    'name': 'completed',\n",
       "    'id': 'completed',\n",
       "    'visible': True,\n",
       "    'metadata': {'colLabel': 'completed',\n",
       "     'colFormat': '',\n",
       "     'isEncrypted': False}},\n",
       "   {'type': 'STRING',\n",
       "    'name': 'title',\n",
       "    'id': 'title',\n",
       "    'visible': True,\n",
       "    'metadata': {'colLabel': 'title', 'colFormat': '', 'isEncrypted': False}},\n",
       "   {'type': 'LONG',\n",
       "    'name': 'userId',\n",
       "    'id': 'userId',\n",
       "    'visible': True,\n",
       "    'metadata': {'colLabel': 'userId', 'colFormat': '', 'isEncrypted': False}},\n",
       "   {'type': 'DOUBLE',\n",
       "    'name': '_BATCH_ID_',\n",
       "    'id': '_BATCH_ID_',\n",
       "    'visible': True,\n",
       "    'metadata': {'colLabel': '_BATCH_ID_',\n",
       "     'colFormat': '',\n",
       "     'isEncrypted': False}},\n",
       "   {'type': 'DATETIME',\n",
       "    'name': '_BATCH_LAST_RUN_',\n",
       "    'id': '_BATCH_LAST_RUN_',\n",
       "    'visible': True,\n",
       "    'metadata': {'colLabel': '_BATCH_LAST_RUN_',\n",
       "     'colFormat': '',\n",
       "     'isEncrypted': False}}]},\n",
       " 'scheduleExpression': '0 37 20 * * ? TZ=UTC',\n",
       " 'scheduleStartDate': None,\n",
       " 'advancedScheduleJson': '{\"type\":\"DAY\",\"at\":\"08:37 PM\",\"timezone\":\"UTC\"}',\n",
       " 'scheduleRetryExpression': None,\n",
       " 'scheduleRetryCount': 0,\n",
       " 'lastExecution': {'streamId': 1658,\n",
       "  'executionId': 3,\n",
       "  'toe': 'T6ED4MF1CP-CTQK0-NUXME',\n",
       "  'startedAt': 1713474296.0,\n",
       "  'endedAt': 1713474301.0,\n",
       "  'updateMethod': 'REPLACE',\n",
       "  'index': True,\n",
       "  'retryCount': 0,\n",
       "  'retryExecution': None,\n",
       "  'containerManagerId': 'cm-914235d3-24d1-4224-8285-114ce1fb7cf6',\n",
       "  'uploadId': 3,\n",
       "  'indexRequestKey': 20240418210500.914,\n",
       "  'currentState': 'SUCCESS',\n",
       "  'runType': 'MANUAL',\n",
       "  'createdAt': 1713474296.0,\n",
       "  'modifiedAt': 1713474301.0,\n",
       "  'latestPhase': None,\n",
       "  'currentPhase': None,\n",
       "  'removed': False,\n",
       "  'rowsInserted': 1,\n",
       "  'bytesInserted': 50,\n",
       "  'startedBy': '1893952720',\n",
       "  'cancelledBy': None,\n",
       "  'dataTag': None,\n",
       "  'peakMemoryUsedBytes': None,\n",
       "  'peakMemoryCommittedBytes': None,\n",
       "  'exportable': False,\n",
       "  'manualIndex': False,\n",
       "  'errors': []},\n",
       " 'lastSuccessfulExecution': {'streamId': 1658,\n",
       "  'executionId': 3,\n",
       "  'toe': 'T6ED4MF1CP-CTQK0-NUXME',\n",
       "  'startedAt': 1713474296.0,\n",
       "  'endedAt': 1713474301.0,\n",
       "  'updateMethod': 'REPLACE',\n",
       "  'index': True,\n",
       "  'retryCount': 0,\n",
       "  'retryExecution': None,\n",
       "  'containerManagerId': 'cm-914235d3-24d1-4224-8285-114ce1fb7cf6',\n",
       "  'uploadId': 3,\n",
       "  'indexRequestKey': 20240418210500.914,\n",
       "  'currentState': 'SUCCESS',\n",
       "  'runType': 'MANUAL',\n",
       "  'createdAt': 1713474296.0,\n",
       "  'modifiedAt': 1713474301.0,\n",
       "  'latestPhase': None,\n",
       "  'currentPhase': None,\n",
       "  'removed': False,\n",
       "  'rowsInserted': 1,\n",
       "  'bytesInserted': 50,\n",
       "  'startedBy': '1893952720',\n",
       "  'cancelledBy': None,\n",
       "  'dataTag': None,\n",
       "  'peakMemoryUsedBytes': None,\n",
       "  'peakMemoryCommittedBytes': None,\n",
       "  'exportable': False,\n",
       "  'manualIndex': False,\n",
       "  'errors': []},\n",
       " 'currentExecution': None,\n",
       " 'currentExecutionState': 'SUCCESS',\n",
       " 'createdAt': 1713471499.0,\n",
       " 'createdBy': 1893952720,\n",
       " 'modifiedAt': 1713474647.0,\n",
       " 'modifiedBy': 1893952720,\n",
       " 'scheduleState': 'ACTIVE',\n",
       " 'scheduleAssertion': False,\n",
       " 'inactiveScheduleCode': None,\n",
       " 'configuration': [{'streamId': 1658,\n",
       "   'category': 'METADATA',\n",
       "   'name': 'schema',\n",
       "   'type': 'string',\n",
       "   'value': '{\"automatedSchema\":true}'},\n",
       "  {'streamId': 1658,\n",
       "   'category': 'METADATA',\n",
       "   'name': 'cloud',\n",
       "   'type': 'string',\n",
       "   'value': 'domo'},\n",
       "  {'streamId': 1658,\n",
       "   'category': 'METADATA',\n",
       "   'name': 'jsonPaging',\n",
       "   'type': 'string',\n",
       "   'value': '{\"baseUrl\":\"https://jsonplaceholder.typicode.com/todos/3\",\"tokenType\":\"path\",\"pagingType\":\"none\",\"parsing\":\"\",\"total\":\"true\",\"pageLimitValue\":0,\"startPage\":\"1\",\"encodeParameterValue\":true,\"encodeParameterKey\":true,\"pageParameter\":\"\",\"tokenLocation\":\"first\"}'},\n",
       "  {'streamId': 1658,\n",
       "   'category': 'METADATA',\n",
       "   'name': 'jsonSelection',\n",
       "   'type': 'string',\n",
       "   'value': '{\"connectionMethod\": \"Advanced\", \"jsonUrl\": \"https://jsonplaceholder.typicode.com/todos/7\", \"httpMethod\": \"GET\", \"jsonLineReader\": \"false\", \"escapeBackslash\": \"false\", \"httpsHeaders\": [], \"body\": \"\", \"queryParameters\": [], \"useDateFilter\": false, \"dateSelection\": {\"dateType\": \"date_range\", \"startDate\": {\"type\": \"relative\", \"offset\": 0}, \"endDate\": {\"type\": \"relative\", \"offset\": 0}}, \"dateQueryParamsFormat\": \"yyyy-MM-dd\", \"certificateInputType\": \"NoCertificate\", \"encodeParameterKey\": true, \"encodeParameterValue\": true, \"datasetType\": \"static\", \"dateParameter\": {\"dateType\": \"single_date\", \"dateFrom\": \"relative\", \"dateFromOffset\": 1, \"dateTo\": \"relative\", \"dateToOffset\": 0, \"date\": \"relative\", \"dateOffset\": 1}, \"useBody\": false, \"dynamicValuesType\": \"enter\", \"rateLimitSelection\": \"false\", \"timeUnit\": \"second\", \"dateParameterType\": \"separate\"}'},\n",
       "  {'streamId': 1658,\n",
       "   'category': 'METADATA',\n",
       "   'name': 'updatemode.mode',\n",
       "   'type': 'string',\n",
       "   'value': 'REPLACE'},\n",
       "  {'streamId': 1658,\n",
       "   'category': 'METADATA',\n",
       "   'name': 'jsonParsing',\n",
       "   'type': 'string',\n",
       "   'value': '{\"parsing\":\"\"}'},\n",
       "  {'streamId': 1658,\n",
       "   'category': 'METADATA',\n",
       "   'name': 'updatemode.mergeChoice',\n",
       "   'type': 'string',\n",
       "   'value': ''},\n",
       "  {'streamId': 1658,\n",
       "   'category': 'METADATA',\n",
       "   'name': '_description_',\n",
       "   'type': 'string',\n",
       "   'value': ''},\n",
       "  {'streamId': 1658,\n",
       "   'category': 'METADATA',\n",
       "   'name': 'updatemode.upsertKeys',\n",
       "   'type': 'string',\n",
       "   'value': ''},\n",
       "  {'streamId': 1658,\n",
       "   'category': 'METADATA',\n",
       "   'name': 'retry.retryNumber',\n",
       "   'type': 'string',\n",
       "   'value': '0'}]}"
      ]
     },
     "execution_count": 30,
     "metadata": {},
     "output_type": "execute_result"
    }
   ],
   "source": [
    "import domolibrary.routes.stream as stream_routes\n",
    "\n",
    "stream_id = domo_dataset.stream_id\n",
    "\n",
    "res = await stream_routes.get_stream_by_id(auth=auth, stream_id=stream_id)\n",
    "stream = res.response\n",
    "\n",
    "stream"
   ]
  },
  {
   "cell_type": "code",
   "execution_count": 31,
   "metadata": {},
   "outputs": [
    {
     "data": {
      "text/plain": [
       "[{'streamId': 1658,\n",
       "  'category': 'METADATA',\n",
       "  'name': 'schema',\n",
       "  'type': 'string',\n",
       "  'value': '{\"automatedSchema\":true}'},\n",
       " {'streamId': 1658,\n",
       "  'category': 'METADATA',\n",
       "  'name': 'cloud',\n",
       "  'type': 'string',\n",
       "  'value': 'domo'},\n",
       " {'streamId': 1658,\n",
       "  'category': 'METADATA',\n",
       "  'name': 'jsonPaging',\n",
       "  'type': 'string',\n",
       "  'value': '{\"baseUrl\":\"https://jsonplaceholder.typicode.com/todos/3\",\"tokenType\":\"path\",\"pagingType\":\"none\",\"parsing\":\"\",\"total\":\"true\",\"pageLimitValue\":0,\"startPage\":\"1\",\"encodeParameterValue\":true,\"encodeParameterKey\":true,\"pageParameter\":\"\",\"tokenLocation\":\"first\"}'},\n",
       " {'streamId': 1658,\n",
       "  'category': 'METADATA',\n",
       "  'name': 'jsonSelection',\n",
       "  'type': 'string',\n",
       "  'value': '{\"connectionMethod\": \"Advanced\", \"jsonUrl\": \"https://jsonplaceholder.typicode.com/todos/7\", \"httpMethod\": \"GET\", \"jsonLineReader\": \"false\", \"escapeBackslash\": \"false\", \"httpsHeaders\": [], \"body\": \"\", \"queryParameters\": [], \"useDateFilter\": false, \"dateSelection\": {\"dateType\": \"date_range\", \"startDate\": {\"type\": \"relative\", \"offset\": 0}, \"endDate\": {\"type\": \"relative\", \"offset\": 0}}, \"dateQueryParamsFormat\": \"yyyy-MM-dd\", \"certificateInputType\": \"NoCertificate\", \"encodeParameterKey\": true, \"encodeParameterValue\": true, \"datasetType\": \"static\", \"dateParameter\": {\"dateType\": \"single_date\", \"dateFrom\": \"relative\", \"dateFromOffset\": 1, \"dateTo\": \"relative\", \"dateToOffset\": 0, \"date\": \"relative\", \"dateOffset\": 1}, \"useBody\": false, \"dynamicValuesType\": \"enter\", \"rateLimitSelection\": \"false\", \"timeUnit\": \"second\", \"dateParameterType\": \"separate\"}'},\n",
       " {'streamId': 1658,\n",
       "  'category': 'METADATA',\n",
       "  'name': 'updatemode.mode',\n",
       "  'type': 'string',\n",
       "  'value': 'REPLACE'},\n",
       " {'streamId': 1658,\n",
       "  'category': 'METADATA',\n",
       "  'name': 'jsonParsing',\n",
       "  'type': 'string',\n",
       "  'value': '{\"parsing\":\"\"}'},\n",
       " {'streamId': 1658,\n",
       "  'category': 'METADATA',\n",
       "  'name': 'updatemode.mergeChoice',\n",
       "  'type': 'string',\n",
       "  'value': ''},\n",
       " {'streamId': 1658,\n",
       "  'category': 'METADATA',\n",
       "  'name': '_description_',\n",
       "  'type': 'string',\n",
       "  'value': ''},\n",
       " {'streamId': 1658,\n",
       "  'category': 'METADATA',\n",
       "  'name': 'updatemode.upsertKeys',\n",
       "  'type': 'string',\n",
       "  'value': ''},\n",
       " {'streamId': 1658,\n",
       "  'category': 'METADATA',\n",
       "  'name': 'retry.retryNumber',\n",
       "  'type': 'string',\n",
       "  'value': '0'}]"
      ]
     },
     "execution_count": 31,
     "metadata": {},
     "output_type": "execute_result"
    }
   ],
   "source": [
    "stream_configuration = stream[\"configuration\"]\n",
    "stream_configuration"
   ]
  },
  {
   "cell_type": "code",
   "execution_count": 32,
   "metadata": {},
   "outputs": [
    {
     "name": "stdout",
     "output_type": "stream",
     "text": [
      "\n",
      "original_obj {'streamId': 1658, 'category': 'METADATA', 'name': 'jsonSelection', 'type': 'string', 'value': '{\"connectionMethod\": \"Advanced\", \"jsonUrl\": \"https://jsonplaceholder.typicode.com/todos/7\", \"httpMethod\": \"GET\", \"jsonLineReader\": \"false\", \"escapeBackslash\": \"false\", \"httpsHeaders\": [], \"body\": \"\", \"queryParameters\": [], \"useDateFilter\": false, \"dateSelection\": {\"dateType\": \"date_range\", \"startDate\": {\"type\": \"relative\", \"offset\": 0}, \"endDate\": {\"type\": \"relative\", \"offset\": 0}}, \"dateQueryParamsFormat\": \"yyyy-MM-dd\", \"certificateInputType\": \"NoCertificate\", \"encodeParameterKey\": true, \"encodeParameterValue\": true, \"datasetType\": \"static\", \"dateParameter\": {\"dateType\": \"single_date\", \"dateFrom\": \"relative\", \"dateFromOffset\": 1, \"dateTo\": \"relative\", \"dateToOffset\": 0, \"date\": \"relative\", \"dateOffset\": 1}, \"useBody\": false, \"dynamicValuesType\": \"enter\", \"rateLimitSelection\": \"false\", \"timeUnit\": \"second\", \"dateParameterType\": \"separate\"}'}\n",
      "position in config 8\n"
     ]
    }
   ],
   "source": [
    "original_obj = None\n",
    "for index, obj in enumerate(stream_configuration):\n",
    "    if obj[\"category\"] == \"METADATA\" and obj[\"name\"] == \"jsonSelection\":\n",
    "        stream_configuration.pop(index)\n",
    "        original_obj = obj\n",
    "\n",
    "print(\n",
    "    f\"\"\"\n",
    "original_obj {original_obj}\n",
    "position in config {index}\"\"\"\n",
    ")"
   ]
  },
  {
   "cell_type": "code",
   "execution_count": 33,
   "metadata": {},
   "outputs": [
    {
     "data": {
      "text/plain": [
       "{'connectionMethod': 'Advanced',\n",
       " 'jsonUrl': 'https://jsonplaceholder.typicode.com/todos/7',\n",
       " 'httpMethod': 'GET',\n",
       " 'jsonLineReader': 'false',\n",
       " 'escapeBackslash': 'false',\n",
       " 'httpsHeaders': [],\n",
       " 'body': '',\n",
       " 'queryParameters': [],\n",
       " 'useDateFilter': False,\n",
       " 'dateSelection': {'dateType': 'date_range',\n",
       "  'startDate': {'type': 'relative', 'offset': 0},\n",
       "  'endDate': {'type': 'relative', 'offset': 0}},\n",
       " 'dateQueryParamsFormat': 'yyyy-MM-dd',\n",
       " 'certificateInputType': 'NoCertificate',\n",
       " 'encodeParameterKey': True,\n",
       " 'encodeParameterValue': True,\n",
       " 'datasetType': 'static',\n",
       " 'dateParameter': {'dateType': 'single_date',\n",
       "  'dateFrom': 'relative',\n",
       "  'dateFromOffset': 1,\n",
       "  'dateTo': 'relative',\n",
       "  'dateToOffset': 0,\n",
       "  'date': 'relative',\n",
       "  'dateOffset': 1},\n",
       " 'useBody': False,\n",
       " 'dynamicValuesType': 'enter',\n",
       " 'rateLimitSelection': 'false',\n",
       " 'timeUnit': 'second',\n",
       " 'dateParameterType': 'separate'}"
      ]
     },
     "execution_count": 33,
     "metadata": {},
     "output_type": "execute_result"
    }
   ],
   "source": [
    "# the original config object doesn't store the \"value\" as json, instead it's stored as a string\n",
    "# convert to json for manipulation\n",
    "import json\n",
    "\n",
    "new_value = json.loads(original_obj[\"value\"])\n",
    "new_value"
   ]
  },
  {
   "cell_type": "code",
   "execution_count": 34,
   "metadata": {},
   "outputs": [
    {
     "data": {
      "text/plain": [
       "'https://jsonplaceholder.typicode.com/todos/8'"
      ]
     },
     "execution_count": 34,
     "metadata": {},
     "output_type": "execute_result"
    }
   ],
   "source": [
    "# read in the new parameter value\n",
    "new_query_path = \"./new_query.txt\"\n",
    "assert os.path.exists(new_query_path)\n",
    "\n",
    "with open(new_query_path, \"r\", encoding=\"utf-8\") as f:\n",
    "    new_query = f.read()\n",
    "\n",
    "new_query"
   ]
  },
  {
   "cell_type": "code",
   "execution_count": 35,
   "metadata": {},
   "outputs": [
    {
     "data": {
      "text/plain": [
       "{'streamId': 1658,\n",
       " 'category': 'METADATA',\n",
       " 'name': 'jsonSelection',\n",
       " 'type': 'string',\n",
       " 'value': '{\"connectionMethod\": \"Advanced\", \"jsonUrl\": \"https://jsonplaceholder.typicode.com/todos/8\", \"httpMethod\": \"GET\", \"jsonLineReader\": \"false\", \"escapeBackslash\": \"false\", \"httpsHeaders\": [], \"body\": \"\", \"queryParameters\": [], \"useDateFilter\": false, \"dateSelection\": {\"dateType\": \"date_range\", \"startDate\": {\"type\": \"relative\", \"offset\": 0}, \"endDate\": {\"type\": \"relative\", \"offset\": 0}}, \"dateQueryParamsFormat\": \"yyyy-MM-dd\", \"certificateInputType\": \"NoCertificate\", \"encodeParameterKey\": true, \"encodeParameterValue\": true, \"datasetType\": \"static\", \"dateParameter\": {\"dateType\": \"single_date\", \"dateFrom\": \"relative\", \"dateFromOffset\": 1, \"dateTo\": \"relative\", \"dateToOffset\": 0, \"date\": \"relative\", \"dateOffset\": 1}, \"useBody\": false, \"dynamicValuesType\": \"enter\", \"rateLimitSelection\": \"false\", \"timeUnit\": \"second\", \"dateParameterType\": \"separate\"}'}"
      ]
     },
     "execution_count": 35,
     "metadata": {},
     "output_type": "execute_result"
    }
   ],
   "source": [
    "# update new obj with string version of new_value with updated query parameter\n",
    "\n",
    "new_value.update({\"jsonUrl\": new_query})\n",
    "new_obj = {**original_obj, \"value\": json.dumps(new_value)}\n",
    "\n",
    "# add new_obj back to the stream configuration\n",
    "stream_configuration.append(new_obj)\n",
    "\n",
    "new_obj"
   ]
  },
  {
   "cell_type": "code",
   "execution_count": null,
   "metadata": {},
   "outputs": [],
   "source": [
    "import datetime as dt\n",
    "\n",
    "stream[\"description\"] = f\"updated at {dt.datetime.now()}\"\n",
    "stream[\"configuration\"] = stream_configuration\n",
    "\n",
    "stream"
   ]
  },
  {
   "cell_type": "code",
   "execution_count": 36,
   "metadata": {},
   "outputs": [
    {
     "name": "stdout",
     "output_type": "stream",
     "text": [
      "adjusting num_stacks_to_drop, consider revising `get_traceback` call\n",
      "{'stack_length': 16, 'module_index': 12, 'num_stacks_to_drop_passed': 3}\n"
     ]
    },
    {
     "data": {
      "text/plain": [
       "ResponseGetData(status=200, response={'id': 1658, 'valid': True, 'invalidExecutionId': None, 'transport': {'type': 'CONNECTOR', 'description': 'com.domo.connector.json.customparsing', 'version': '4'}, 'updateMethod': 'REPLACE', 'dataProvider': {'id': 3251, 'key': 'json5', 'name': 'JSON', 'url': None, 'defaultConnectorId': None, 'defaultConnectorLabel': None, 'authenticationScheme': 'fields', 'connectorValidatorPresent': False, 'resourceBundlePresent': False, 'moduleHandler': None, 'iconPicker': False, 'unsafe': False, 'scope': '0', 'producer': 'DOMO', 'version': '0', 'dateCreated': 1601579548000, 'dateUpdated': 1693235941000, 'visibility': 'WITH_CONNECTOR', 'type': 'STANDARD', 'customerOAuthConfigurationDataProviderType': None, 'authenticationSchemeConfiguration': [{'id': 12114, 'name': 'authentication', 'type': 'dropdown', 'text': 'Authentication Type', 'tooltipText': 'Authentication Type', 'required': False, 'encrypted': False, 'defaultValue': 'basic', 'restrictions': None, 'sortOrder': 1, 'data': {'options': [{'label': 'None', 'value': 'none'}, {'label': 'Basic Authentication or SFTP', 'value': 'basic'}, {'label': 'API key', 'value': 'apiKey'}]}, 'configField': False}, {'id': 12115, 'name': 'username', 'type': 'string', 'text': 'Username', 'tooltipText': 'Enter a username if using SFTP or Basic Authentication, otherwise leave blank.', 'required': False, 'encrypted': False, 'defaultValue': '', 'restrictions': None, 'sortOrder': 2, 'data': {}, 'configField': False}, {'id': 12116, 'name': 'password', 'type': 'password', 'text': 'Password', 'tooltipText': 'Enter a password if using SFTP or Basic Authentication, otherwise leave blank.', 'required': False, 'encrypted': True, 'defaultValue': '', 'restrictions': None, 'sortOrder': 3, 'data': {}, 'configField': False}, {'id': 12117, 'name': 'apiType', 'type': 'dropdown', 'text': 'API key type', 'tooltipText': 'API key type', 'required': False, 'encrypted': False, 'defaultValue': 'header', 'restrictions': None, 'sortOrder': 4, 'data': {'options': [{'label': 'Pass as a header', 'value': 'header'}, {'label': 'Pass as a parameter', 'value': 'parameter'}]}, 'configField': False}, {'id': 12118, 'name': 'name', 'type': 'string', 'text': 'Parameter/header Name', 'tooltipText': 'Parameter or header name', 'required': False, 'encrypted': False, 'defaultValue': '', 'restrictions': None, 'sortOrder': 5, 'data': {}, 'configField': False}, {'id': 12119, 'name': 'apiKey', 'type': 'string', 'text': 'Api Key', 'tooltipText': 'Api Key', 'required': False, 'encrypted': True, 'defaultValue': '', 'restrictions': None, 'sortOrder': 6, 'data': {}, 'configField': False}]}, 'account': {'id': 91, 'userId': 1893952720, 'name': 'JSON Account', 'displayName': 'JSON Account', 'type': 'data', 'valid': True, 'dataProviderType': 'json5', 'credentialsType': 'fields', 'createdAt': 1707328700000, 'createdBy': 1893952720, 'modifiedAt': 1707328700000, 'modifiedBy': 1893952720, 'configurations': {}, 'accountId': 91, 'accountTemplateId': None, 'accountTemplateAuthorizationId': None}, 'accountTemplate': None, 'dataSource': {'id': '5f90901a-f0e6-451e-9bc9-09e23e96bd7f', 'displayType': 'json5', 'dataProviderType': 'json5', 'type': 'json5', 'name': 't1', 'description': '', 'owner': {'id': '1893952720', 'name': 'Jae Wilson1', 'type': 'USER', 'group': False}, 'status': 'SUCCESS', 'created': 1713471499000, 'lastTouched': 1713475987000, 'lastUpdated': 1713474301534, 'nextUpdate': 1713559019471, 'rowCount': 1, 'columnCount': 6, 'cardInfo': {'cardCount': 0, 'cardViewCount': 0}, 'properties': {'formulas': {'formulas': {}}}, 'state': 'SUCCESS', 'validConfiguration': True, 'validAccount': True, 'accountId': 91, 'streamId': 1658, 'transportType': 'CONNECTOR', 'adc': False, 'adcExternal': False, 'cloudId': 'domo', 'cloudName': 'Domo', 'permissions': 'READ_WRITE_DELETE_SHARE_ADMIN', 'hidden': False, 'scheduleActive': True, 'cloudEngine': 'domo'}, 'schemaDefinition': {'columns': [{'type': 'LONG', 'name': 'id', 'id': 'id', 'visible': True, 'metadata': {'colLabel': 'id', 'colFormat': '', 'isEncrypted': False}}, {'type': 'STRING', 'name': 'completed', 'id': 'completed', 'visible': True, 'metadata': {'colLabel': 'completed', 'colFormat': '', 'isEncrypted': False}}, {'type': 'STRING', 'name': 'title', 'id': 'title', 'visible': True, 'metadata': {'colLabel': 'title', 'colFormat': '', 'isEncrypted': False}}, {'type': 'LONG', 'name': 'userId', 'id': 'userId', 'visible': True, 'metadata': {'colLabel': 'userId', 'colFormat': '', 'isEncrypted': False}}, {'type': 'DOUBLE', 'name': '_BATCH_ID_', 'id': '_BATCH_ID_', 'visible': True, 'metadata': {'colLabel': '_BATCH_ID_', 'colFormat': '', 'isEncrypted': False}}, {'type': 'DATETIME', 'name': '_BATCH_LAST_RUN_', 'id': '_BATCH_LAST_RUN_', 'visible': True, 'metadata': {'colLabel': '_BATCH_LAST_RUN_', 'colFormat': '', 'isEncrypted': False}}]}, 'scheduleExpression': '0 37 20 * * ? TZ=UTC', 'scheduleStartDate': None, 'advancedScheduleJson': '{\"type\":\"DAY\",\"at\":\"08:37 PM\",\"timezone\":\"UTC\"}', 'scheduleRetryExpression': None, 'scheduleRetryCount': 0, 'lastExecution': {'streamId': 1658, 'executionId': 3, 'toe': 'T6ED4MF1CP-CTQK0-NUXME', 'startedAt': 1713474296.0, 'endedAt': 1713474301.0, 'updateMethod': 'REPLACE', 'index': True, 'retryCount': 0, 'retryExecution': None, 'containerManagerId': 'cm-914235d3-24d1-4224-8285-114ce1fb7cf6', 'uploadId': 3, 'indexRequestKey': 20240418210500.914, 'currentState': 'SUCCESS', 'runType': 'MANUAL', 'createdAt': 1713474296.0, 'modifiedAt': 1713474301.0, 'latestPhase': None, 'currentPhase': None, 'removed': False, 'rowsInserted': 1, 'bytesInserted': 50, 'startedBy': '1893952720', 'cancelledBy': None, 'dataTag': None, 'peakMemoryUsedBytes': None, 'peakMemoryCommittedBytes': None, 'exportable': False, 'manualIndex': False, 'errors': []}, 'lastSuccessfulExecution': {'streamId': 1658, 'executionId': 3, 'toe': 'T6ED4MF1CP-CTQK0-NUXME', 'startedAt': 1713474296.0, 'endedAt': 1713474301.0, 'updateMethod': 'REPLACE', 'index': True, 'retryCount': 0, 'retryExecution': None, 'containerManagerId': 'cm-914235d3-24d1-4224-8285-114ce1fb7cf6', 'uploadId': 3, 'indexRequestKey': 20240418210500.914, 'currentState': 'SUCCESS', 'runType': 'MANUAL', 'createdAt': 1713474296.0, 'modifiedAt': 1713474301.0, 'latestPhase': None, 'currentPhase': None, 'removed': False, 'rowsInserted': 1, 'bytesInserted': 50, 'startedBy': '1893952720', 'cancelledBy': None, 'dataTag': None, 'peakMemoryUsedBytes': None, 'peakMemoryCommittedBytes': None, 'exportable': False, 'manualIndex': False, 'errors': []}, 'currentExecution': None, 'currentExecutionState': 'SUCCESS', 'createdAt': 1713471499.0, 'createdBy': 1893952720, 'modifiedAt': 1713474647.0, 'modifiedBy': 1893952720, 'scheduleState': 'ACTIVE', 'scheduleAssertion': False, 'inactiveScheduleCode': None, 'configuration': [{'streamId': 1658, 'category': 'METADATA', 'name': 'schema', 'type': 'string', 'value': '{\"automatedSchema\":true}'}, {'streamId': 1658, 'category': 'METADATA', 'name': 'cloud', 'type': 'string', 'value': 'domo'}, {'streamId': 1658, 'category': 'METADATA', 'name': 'jsonPaging', 'type': 'string', 'value': '{\"baseUrl\":\"https://jsonplaceholder.typicode.com/todos/3\",\"tokenType\":\"path\",\"pagingType\":\"none\",\"parsing\":\"\",\"total\":\"true\",\"pageLimitValue\":0,\"startPage\":\"1\",\"encodeParameterValue\":true,\"encodeParameterKey\":true,\"pageParameter\":\"\",\"tokenLocation\":\"first\"}'}, {'streamId': 1658, 'category': 'METADATA', 'name': 'jsonSelection', 'type': 'string', 'value': '{\"connectionMethod\": \"Advanced\", \"jsonUrl\": \"https://jsonplaceholder.typicode.com/todos/8\", \"httpMethod\": \"GET\", \"jsonLineReader\": \"false\", \"escapeBackslash\": \"false\", \"httpsHeaders\": [], \"body\": \"\", \"queryParameters\": [], \"useDateFilter\": false, \"dateSelection\": {\"dateType\": \"date_range\", \"startDate\": {\"type\": \"relative\", \"offset\": 0}, \"endDate\": {\"type\": \"relative\", \"offset\": 0}}, \"dateQueryParamsFormat\": \"yyyy-MM-dd\", \"certificateInputType\": \"NoCertificate\", \"encodeParameterKey\": true, \"encodeParameterValue\": true, \"datasetType\": \"static\", \"dateParameter\": {\"dateType\": \"single_date\", \"dateFrom\": \"relative\", \"dateFromOffset\": 1, \"dateTo\": \"relative\", \"dateToOffset\": 0, \"date\": \"relative\", \"dateOffset\": 1}, \"useBody\": false, \"dynamicValuesType\": \"enter\", \"rateLimitSelection\": \"false\", \"timeUnit\": \"second\", \"dateParameterType\": \"separate\"}'}, {'streamId': 1658, 'category': 'METADATA', 'name': 'updatemode.mode', 'type': 'string', 'value': 'REPLACE'}, {'streamId': 1658, 'category': 'METADATA', 'name': 'jsonParsing', 'type': 'string', 'value': '{\"parsing\":\"\"}'}, {'streamId': 1658, 'category': 'METADATA', 'name': 'updatemode.mergeChoice', 'type': 'string', 'value': ''}, {'streamId': 1658, 'category': 'METADATA', 'name': '_description_', 'type': 'string', 'value': ''}, {'streamId': 1658, 'category': 'METADATA', 'name': 'updatemode.upsertKeys', 'type': 'string', 'value': ''}, {'streamId': 1658, 'category': 'METADATA', 'name': 'retry.retryNumber', 'type': 'string', 'value': '0'}]}, is_success=True, parent_class=None)"
      ]
     },
     "execution_count": 36,
     "metadata": {},
     "output_type": "execute_result"
    }
   ],
   "source": [
    "await stream_routes.update_stream(stream_id=stream_id, auth=auth, body=stream)"
   ]
  }
 ],
 "metadata": {
  "kernelspec": {
   "display_name": "Python 3",
   "language": "python",
   "name": "python3"
  },
  "language_info": {
   "codemirror_mode": {
    "name": "ipython",
    "version": 3
   },
   "file_extension": ".py",
   "mimetype": "text/x-python",
   "name": "python",
   "nbconvert_exporter": "python",
   "pygments_lexer": "ipython3",
   "version": "3.10.9"
  }
 },
 "nbformat": 4,
 "nbformat_minor": 2
}
