{
 "cells": [
  {
   "cell_type": "raw",
   "id": "12a341d2",
   "metadata": {},
   "source": [
    "---\n",
    "title: Tutorial Update Users\n",
    "output-file: bulk_update_users.html\n",
    "author: [Jae Wilson]\n",
    "date: 2024-01-02\n",
    "categories: ['Python', 'DomoJupyter', 'DomoUser']\n",
    "skip_showdoc: false\n",
    "---\n"
   ]
  },
  {
   "cell_type": "code",
   "execution_count": null,
   "id": "87a36c0e-1645-43e9-81e7-a0a1abe405fa",
   "metadata": {},
   "outputs": [],
   "source": [
    "# %pip install --upgrade  domolibrary"
   ]
  },
  {
   "cell_type": "code",
   "execution_count": null,
   "id": "3635d762-6e04-4ca4-9f66-7b16252555bc",
   "metadata": {},
   "outputs": [
    {
     "data": {
      "text/plain": [
       "'0.3.46'"
      ]
     },
     "execution_count": null,
     "metadata": {},
     "output_type": "execute_result"
    }
   ],
   "source": [
    "import domolibrary\n",
    "\n",
    "domolibrary.__version__"
   ]
  },
  {
   "cell_type": "markdown",
   "id": "126a386d",
   "metadata": {},
   "source": [
    "# 0. Get Sample Data and generate auth object\n"
   ]
  },
  {
   "cell_type": "code",
   "execution_count": null,
   "id": "79d4d9fc",
   "metadata": {},
   "outputs": [
    {
     "data": {
      "text/html": [
       "<div>\n",
       "<style scoped>\n",
       "    .dataframe tbody tr th:only-of-type {\n",
       "        vertical-align: middle;\n",
       "    }\n",
       "\n",
       "    .dataframe tbody tr th {\n",
       "        vertical-align: top;\n",
       "    }\n",
       "\n",
       "    .dataframe thead th {\n",
       "        text-align: right;\n",
       "    }\n",
       "</style>\n",
       "<table border=\"1\" class=\"dataframe\">\n",
       "  <thead>\n",
       "    <tr style=\"text-align: right;\">\n",
       "      <th></th>\n",
       "      <th>email</th>\n",
       "      <th>Role</th>\n",
       "      <th>FranchiseID</th>\n",
       "      <th>StoreID</th>\n",
       "      <th>EmpID</th>\n",
       "      <th>manager_email</th>\n",
       "    </tr>\n",
       "  </thead>\n",
       "  <tbody>\n",
       "    <tr>\n",
       "      <th>0</th>\n",
       "      <td>CEO1@fz.com</td>\n",
       "      <td>CEO</td>\n",
       "      <td>0</td>\n",
       "      <td>0</td>\n",
       "      <td>1</td>\n",
       "      <td>jae@onyxreporting.com</td>\n",
       "    </tr>\n",
       "    <tr>\n",
       "      <th>1</th>\n",
       "      <td>Owner2@fz.com</td>\n",
       "      <td>Owner</td>\n",
       "      <td>1</td>\n",
       "      <td>2</td>\n",
       "      <td>2</td>\n",
       "      <td>CEO1@fz.com</td>\n",
       "    </tr>\n",
       "    <tr>\n",
       "      <th>2</th>\n",
       "      <td>RestaurantManager3@fz.com</td>\n",
       "      <td>Restaurant Manager</td>\n",
       "      <td>1</td>\n",
       "      <td>24</td>\n",
       "      <td>3</td>\n",
       "      <td>Owner2@fz.com</td>\n",
       "    </tr>\n",
       "    <tr>\n",
       "      <th>3</th>\n",
       "      <td>RestaurantManager4@fz.com</td>\n",
       "      <td>Restaurant Manager</td>\n",
       "      <td>1</td>\n",
       "      <td>7</td>\n",
       "      <td>4</td>\n",
       "      <td>Owner2@fz.com</td>\n",
       "    </tr>\n",
       "    <tr>\n",
       "      <th>4</th>\n",
       "      <td>RestaurantManager5@fz.com</td>\n",
       "      <td>Restaurant Manager</td>\n",
       "      <td>1</td>\n",
       "      <td>11</td>\n",
       "      <td>5</td>\n",
       "      <td>Owner2@fz.com</td>\n",
       "    </tr>\n",
       "  </tbody>\n",
       "</table>\n",
       "</div>"
      ],
      "text/plain": [
       "                       email                Role FranchiseID StoreID EmpID  \\\n",
       "0                CEO1@fz.com                 CEO           0       0     1   \n",
       "1              Owner2@fz.com               Owner           1       2     2   \n",
       "2  RestaurantManager3@fz.com  Restaurant Manager           1      24     3   \n",
       "3  RestaurantManager4@fz.com  Restaurant Manager           1       7     4   \n",
       "4  RestaurantManager5@fz.com  Restaurant Manager           1      11     5   \n",
       "\n",
       "           manager_email  \n",
       "0  jae@onyxreporting.com  \n",
       "1            CEO1@fz.com  \n",
       "2          Owner2@fz.com  \n",
       "3          Owner2@fz.com  \n",
       "4          Owner2@fz.com  "
      ]
     },
     "execution_count": null,
     "metadata": {},
     "output_type": "execute_result"
    }
   ],
   "source": [
    "import csv\n",
    "import pandas as pd\n",
    "\n",
    "\n",
    "with open(\"dataset.csv\", \"r\", encoding=\"utf-8-sig\") as file:\n",
    "    csv_reader = csv.DictReader(file)\n",
    "    data = [row for row in csv_reader]\n",
    "\n",
    "for obj in data:\n",
    "    obj.update(\n",
    "        {\n",
    "            \"email\": obj[\"email\"].replace(\" \", \"\"),\n",
    "            \"manager_email\": obj[\"manager_email\"].replace(\" \", \"\"),\n",
    "        },\n",
    "    )  # clean sample dataset so email is a valid email\n",
    "\n",
    "pd.DataFrame(data)[0:5]"
   ]
  },
  {
   "cell_type": "code",
   "execution_count": null,
   "id": "dbb478ec",
   "metadata": {},
   "outputs": [],
   "source": [
    "import os\n",
    "import domolibrary.client.DomoAuth as dmda\n",
    "\n",
    "token_auth = dmda.DomoTokenAuth(\n",
    "    domo_instance=\"domo-community\",\n",
    "    domo_access_token=os.environ[\"DOMO_DOJO_ACCESS_TOKEN\"],\n",
    ")"
   ]
  },
  {
   "cell_type": "markdown",
   "id": "0564b329",
   "metadata": {},
   "source": [
    "# 1. Create Custom Attributes in Domo Instance Config\n",
    "\n",
    "User attributes, will be custom properties that we can manage and use to create dynamic pdp policies and groups\n",
    "\n",
    "- First we parse the CSV to identify new properties to create\n"
   ]
  },
  {
   "cell_type": "code",
   "execution_count": null,
   "id": "78691a10",
   "metadata": {},
   "outputs": [
    {
     "data": {
      "text/plain": [
       "['FranchiseID', 'StoreID']"
      ]
     },
     "execution_count": null,
     "metadata": {},
     "output_type": "execute_result"
    }
   ],
   "source": [
    "properties_to_create = list(\n",
    "    set(\n",
    "        [\n",
    "            key\n",
    "            for obj in data\n",
    "            for key in obj.keys()\n",
    "            if key.lower() not in [\"email\", \"manager_email\", \"empid\", \"role\"]\n",
    "        ]\n",
    "    )\n",
    ")\n",
    "\n",
    "properties_to_create"
   ]
  },
  {
   "cell_type": "code",
   "execution_count": null,
   "id": "2bbf235c",
   "metadata": {},
   "outputs": [
    {
     "data": {
      "text/plain": [
       "[UserAttribute(id='fzFranchiseID', name='FranchiseID', description='FZ_POC', issuer_type=<UserAttributes_IssuerType.CUSTOM: 'customer-defined'>, customer_id='mmmm-0012-0200', value_type='STRING', validator='ANY_VALUE', validator_configuration=None, security_voter='FULL_VIS_ADMIN_IDP', custom=True),\n",
       " UserAttribute(id='fzStoreID', name='StoreID', description='FZ_POC', issuer_type=<UserAttributes_IssuerType.CUSTOM: 'customer-defined'>, customer_id='mmmm-0012-0200', value_type='STRING', validator='ANY_VALUE', validator_configuration=None, security_voter='FULL_VIS_ADMIN_IDP', custom=True)]"
      ]
     },
     "execution_count": null,
     "metadata": {},
     "output_type": "execute_result"
    }
   ],
   "source": [
    "import domolibrary.client.DomoAuth as dmda\n",
    "import domolibrary.classes.DomoInstanceConfig as dmic\n",
    "import domolibrary.classes.DomoInstanceConfig_UserAttribute as dmua\n",
    "import domolibrary.utils.chunk_execution as ce\n",
    "from typing import List\n",
    "\n",
    "\n",
    "async def upsert_property(domo_config, property_name: str):\n",
    "    \"\"\"will create a custom property in Domo\"\"\"\n",
    "\n",
    "    return await domo_config.user_attributes.upsert(\n",
    "        attribute_id=f\"fz{property_name}\",\n",
    "        name=property_name,\n",
    "        description=\"FZ_POC\",\n",
    "        debug_api=False,\n",
    "        debug_prn=False,\n",
    "    )\n",
    "\n",
    "\n",
    "async def upsert_properties(\n",
    "    property_ls: List[str], auth: dmda.DomoAuth  # list of property names to create\n",
    "):\n",
    "    \"\"\"will create a list of custom properties from a provided list of property names\"\"\"\n",
    "\n",
    "    domo_config = dmic.DomoInstanceConfig(auth=auth)\n",
    "\n",
    "    return await ce.gather_with_concurrency(\n",
    "        *[upsert_property(domo_config, property_name) for property_name in property_ls],\n",
    "        n=10,\n",
    "    )\n",
    "\n",
    "\n",
    "await upsert_properties(properties_to_create, auth=token_auth)"
   ]
  },
  {
   "cell_type": "markdown",
   "id": "a6bb8100",
   "metadata": {},
   "source": [
    "## validate that custom properties have been created\n",
    "\n",
    "- The `DomoInstanceConfig` class has a property `user_attributes` that can be used to interact with all user attributes (including standard Domo Attributes, IDP created attributes, and custom attributes)\n"
   ]
  },
  {
   "cell_type": "code",
   "execution_count": null,
   "id": "a0af5b6f",
   "metadata": {},
   "outputs": [
    {
     "data": {
      "text/plain": [
       "[UserAttribute(id='fzManagerEmail', name='ManagerEmail', description='FZ_POC', issuer_type=<UserAttributes_IssuerType.CUSTOM: 'customer-defined'>, customer_id='mmmm-0012-0200', value_type='STRING', validator='ANY_VALUE', validator_configuration=None, security_voter='FULL_VIS_ADMIN_IDP', custom=True),\n",
       " UserAttribute(id='fzStoreID', name='StoreID', description='FZ_POC', issuer_type=<UserAttributes_IssuerType.CUSTOM: 'customer-defined'>, customer_id='mmmm-0012-0200', value_type='STRING', validator='ANY_VALUE', validator_configuration=None, security_voter='FULL_VIS_ADMIN_IDP', custom=True),\n",
       " UserAttribute(id='fzFranchiseID', name='FranchiseID', description='FZ_POC', issuer_type=<UserAttributes_IssuerType.CUSTOM: 'customer-defined'>, customer_id='mmmm-0012-0200', value_type='STRING', validator='ANY_VALUE', validator_configuration=None, security_voter='FULL_VIS_ADMIN_IDP', custom=True)]"
      ]
     },
     "execution_count": null,
     "metadata": {},
     "output_type": "execute_result"
    }
   ],
   "source": [
    "async def get_custom_properties(\n",
    "    auth: dmda.DomoAuth, prop_prefix: str, return_all: bool = False\n",
    "):\n",
    "    domo_config = dmic.DomoInstanceConfig(auth=auth)\n",
    "    props = await domo_config.user_attributes.get_attributes()\n",
    "\n",
    "    if return_all:\n",
    "        return props\n",
    "    return [prop for prop in props if prop.id.startswith(prop_prefix)]\n",
    "\n",
    "\n",
    "await get_custom_properties(auth=token_auth, prop_prefix=\"fz\", return_all=False)"
   ]
  },
  {
   "cell_type": "markdown",
   "id": "d16eab25",
   "metadata": {},
   "source": [
    "# 2. Extend User Properties\n",
    "\n",
    "- the UserProperty_Type enum from domolibrary has a list of standard user properties.\n",
    "- extend the `UserProperty_Type` enum with the newly created user attributes\n",
    "\n",
    "NOTE: UserProperty_Type and the idea of a custom attribute are duplicate and in a later implementation of DomoLibrary might be rolled into one class.\n",
    "\n",
    "For the time being, first you create the custom property, then you use UserProperty to update the DomoUser class\n"
   ]
  },
  {
   "cell_type": "code",
   "execution_count": null,
   "id": "256b63b4",
   "metadata": {},
   "outputs": [],
   "source": [
    "# %pip install aenum"
   ]
  },
  {
   "cell_type": "markdown",
   "id": "cda54ab0",
   "metadata": {},
   "source": []
  },
  {
   "cell_type": "code",
   "execution_count": null,
   "id": "db28e46f",
   "metadata": {},
   "outputs": [
    {
     "name": "stdout",
     "output_type": "stream",
     "text": [
      "{'pedefined_properties': [{'display_name': 'displayName'},\n",
      "                          {'email_address': 'emailAddress'},\n",
      "                          {'phone_number': 'phoneNumber'},\n",
      "                          {'title': 'title'},\n",
      "                          {'department': 'department'},\n",
      "                          {'web_landing_page': 'webLandingPage'},\n",
      "                          {'web_mobile_landing_page': 'webMobileLandingPage'},\n",
      "                          {'role_id': 'roleId'},\n",
      "                          {'employee_id': 'employeeId'},\n",
      "                          {'employee_number': 'employeeNumber'},\n",
      "                          {'hire_date': 'hireDate'},\n",
      "                          {'reports_to': 'reportsTo'},\n",
      "                          {'fzFranchiseID': 'fzFranchiseID'},\n",
      "                          {'fzStoreID': 'fzStoreID'}]}\n"
     ]
    }
   ],
   "source": [
    "from domolibrary.classes.DomoUser import UserProperty, UserProperty_Type\n",
    "from pprint import pprint\n",
    "\n",
    "# predefined properties we can update\n",
    "# if a custom property hasn't been added we'll extended it with the aenum library\n",
    "\n",
    "pprint(\n",
    "    {\n",
    "        \"pedefined_properties\": [\n",
    "            {member.name: member.value} for member in UserProperty_Type\n",
    "        ]\n",
    "    }\n",
    ")"
   ]
  },
  {
   "cell_type": "code",
   "execution_count": null,
   "id": "db5a5c40",
   "metadata": {},
   "outputs": [
    {
     "name": "stdout",
     "output_type": "stream",
     "text": [
      "{'pedefined_properties': [{'display_name': 'displayName'},\n",
      "                          {'email_address': 'emailAddress'},\n",
      "                          {'phone_number': 'phoneNumber'},\n",
      "                          {'title': 'title'},\n",
      "                          {'department': 'department'},\n",
      "                          {'web_landing_page': 'webLandingPage'},\n",
      "                          {'web_mobile_landing_page': 'webMobileLandingPage'},\n",
      "                          {'role_id': 'roleId'},\n",
      "                          {'employee_id': 'employeeId'},\n",
      "                          {'employee_number': 'employeeNumber'},\n",
      "                          {'hire_date': 'hireDate'},\n",
      "                          {'reports_to': 'reportsTo'},\n",
      "                          {'fzFranchiseID': 'fzFranchiseID'},\n",
      "                          {'fzStoreID': 'fzStoreID'}]}\n"
     ]
    }
   ],
   "source": [
    "from aenum import extend_enum  # use aenum to extend an existing enum\n",
    "\n",
    "if \"fzFranchiseID\" not in UserProperty_Type.__members__:\n",
    "    extend_enum(UserProperty_Type, \"fzFranchiseID\", \"fzFranchiseID\")\n",
    "\n",
    "if \"fzStoreID\" not in UserProperty_Type.__members__:\n",
    "    extend_enum(UserProperty_Type, \"fzStoreID\", \"fzStoreID\")\n",
    "\n",
    "# validate properties have been extended\n",
    "pprint(\n",
    "    {\n",
    "        \"pedefined_properties\": [\n",
    "            {member.name: member.value} for member in UserProperty_Type\n",
    "        ]\n",
    "    }\n",
    ")"
   ]
  },
  {
   "cell_type": "markdown",
   "id": "e0c53e84",
   "metadata": {},
   "source": [
    "At this point the custom properties should have been added to the UserProperty_Type enum and can be used to upgrade domousers\n"
   ]
  },
  {
   "cell_type": "code",
   "execution_count": null,
   "id": "309c4949",
   "metadata": {},
   "outputs": [
    {
     "data": {
      "text/plain": [
       "{'email': 'CEO1@fz.com',\n",
       " 'Role': 'CEO',\n",
       " 'FranchiseID': '0',\n",
       " 'StoreID': '0',\n",
       " 'EmpID': '1',\n",
       " 'manager_email': 'jae@onyxreporting.com'}"
      ]
     },
     "execution_count": null,
     "metadata": {},
     "output_type": "execute_result"
    }
   ],
   "source": [
    "test_user = data[0]\n",
    "test_user"
   ]
  },
  {
   "cell_type": "code",
   "execution_count": null,
   "id": "1dcabc02",
   "metadata": {},
   "outputs": [
    {
     "name": "stdout",
     "output_type": "stream",
     "text": [
      "jae@onyxreporting.com\n"
     ]
    },
    {
     "data": {
      "text/plain": [
       "[{'key': 'fzFranchiseID', 'values': ['0']},\n",
       " {'key': 'fzStoreID', 'values': ['0']},\n",
       " {'key': 'employeeNumber', 'values': ['1']},\n",
       " {'key': 'reportsTo', 'values': ['1893952720']}]"
      ]
     },
     "execution_count": null,
     "metadata": {},
     "output_type": "execute_result"
    }
   ],
   "source": [
    "import domolibrary.classes.DomoUser as dmdu\n",
    "\n",
    "\n",
    "async def create_user_property(\n",
    "    franchise_id, store_id, employee_id, manager_email, auth: dmda.DomoAuth\n",
    "):\n",
    "    \"\"\"creates a property that can be passed to DomoUser class to update a property in Domo\"\"\"\n",
    "\n",
    "    manager = await dmdu.DomoUsers.by_email(\n",
    "        email_ls=[manager_email], only_allow_one=False, auth=auth\n",
    "    )\n",
    "\n",
    "    manager = manager[0]\n",
    "    print(manager.email_address)\n",
    "    assert manager\n",
    "\n",
    "    return [\n",
    "        UserProperty(UserProperty_Type.fzFranchiseID, franchise_id),\n",
    "        UserProperty(UserProperty_Type.fzStoreID, store_id),\n",
    "        UserProperty(UserProperty_Type.employee_number, employee_id),\n",
    "        UserProperty(UserProperty_Type.reports_to, manager.id),\n",
    "    ]\n",
    "\n",
    "\n",
    "test_property = await create_user_property(\n",
    "    franchise_id=test_user[\"FranchiseID\"],\n",
    "    store_id=test_user[\"StoreID\"],\n",
    "    employee_id=test_user[\"EmpID\"],\n",
    "    manager_email=test_user[\"manager_email\"],\n",
    "    auth=token_auth,\n",
    ")\n",
    "\n",
    "[prop.to_json() for prop in test_property]"
   ]
  },
  {
   "cell_type": "markdown",
   "id": "1498bd26",
   "metadata": {},
   "source": [
    "# 3. create / upsert users with custom properties\n",
    "\n",
    "- first we will create the user then update the properties\n"
   ]
  },
  {
   "cell_type": "code",
   "execution_count": null,
   "id": "27ed9890",
   "metadata": {},
   "outputs": [
    {
     "ename": "NameError",
     "evalue": "name 'dmda' is not defined",
     "output_type": "error",
     "traceback": [
      "\u001b[0;31m---------------------------------------------------------------------------\u001b[0m",
      "\u001b[0;31mNameError\u001b[0m                                 Traceback (most recent call last)",
      "Cell \u001b[0;32mIn[1], line 11\u001b[0m\n\u001b[1;32m      1\u001b[0m \u001b[38;5;28;01mimport\u001b[39;00m \u001b[38;5;21;01mdomolibrary\u001b[39;00m\u001b[38;5;21;01m.\u001b[39;00m\u001b[38;5;21;01mclasses\u001b[39;00m\u001b[38;5;21;01m.\u001b[39;00m\u001b[38;5;21;01mDomoUser\u001b[39;00m \u001b[38;5;28;01mas\u001b[39;00m \u001b[38;5;21;01mdmdu\u001b[39;00m\n\u001b[1;32m      4\u001b[0m \u001b[38;5;28;01masync\u001b[39;00m \u001b[38;5;28;01mdef\u001b[39;00m \u001b[38;5;21mupsert_user\u001b[39m(\n\u001b[1;32m      5\u001b[0m     email,\n\u001b[1;32m      6\u001b[0m     role_id,\n\u001b[1;32m      7\u001b[0m     franchise_id,\n\u001b[1;32m      8\u001b[0m     store_id,\n\u001b[1;32m      9\u001b[0m     employee_id,\n\u001b[1;32m     10\u001b[0m     manager_email,\n\u001b[0;32m---> 11\u001b[0m     auth: \u001b[43mdmda\u001b[49m\u001b[38;5;241m.\u001b[39mDomoAuth,\n\u001b[1;32m     12\u001b[0m     display_name\u001b[38;5;241m=\u001b[39m\u001b[38;5;28;01mNone\u001b[39;00m,\n\u001b[1;32m     13\u001b[0m ):\n\u001b[1;32m     14\u001b[0m \u001b[38;5;250m    \u001b[39m\u001b[38;5;124;03m\"\"\"upsert a user by email, then updates properties franchise_id and role_id\"\"\"\u001b[39;00m\n\u001b[1;32m     16\u001b[0m     domo_user \u001b[38;5;241m=\u001b[39m \u001b[38;5;28;01mawait\u001b[39;00m dmdu\u001b[38;5;241m.\u001b[39mDomoUsers\u001b[38;5;241m.\u001b[39mupsert_user(\n\u001b[1;32m     17\u001b[0m         email_address\u001b[38;5;241m=\u001b[39memail,\n\u001b[1;32m     18\u001b[0m         display_name\u001b[38;5;241m=\u001b[39mdisplay_name \u001b[38;5;129;01mor\u001b[39;00m \u001b[38;5;124mf\u001b[39m\u001b[38;5;124m\"\u001b[39m\u001b[38;5;124mfz_\u001b[39m\u001b[38;5;132;01m{\u001b[39;00memail\u001b[38;5;132;01m}\u001b[39;00m\u001b[38;5;124m\"\u001b[39m,\n\u001b[0;32m   (...)\u001b[0m\n\u001b[1;32m     21\u001b[0m         debug_api\u001b[38;5;241m=\u001b[39m\u001b[38;5;28;01mFalse\u001b[39;00m,\n\u001b[1;32m     22\u001b[0m     )\n",
      "\u001b[0;31mNameError\u001b[0m: name 'dmda' is not defined"
     ]
    }
   ],
   "source": [
    "import domolibrary.classes.DomoUser as dmdu\n",
    "import asyncio\n",
    "\n",
    "\n",
    "async def upsert_user(\n",
    "    email,\n",
    "    role_id,\n",
    "    franchise_id,\n",
    "    store_id,\n",
    "    employee_id,\n",
    "    manager_email,\n",
    "    auth: dmda.DomoAuth,\n",
    "    display_name=None,\n",
    "):\n",
    "    \"\"\"upsert a user by email, then updates properties franchise_id and role_id\"\"\"\n",
    "\n",
    "    domo_user = await dmdu.DomoUsers.upsert_user(\n",
    "        email_address=email,\n",
    "        display_name=display_name or f\"fz_{email}\",\n",
    "        role_id=role_id,\n",
    "        auth=auth,\n",
    "        debug_api=False,\n",
    "    )\n",
    "\n",
    "    property_ls = await create_user_property(\n",
    "        franchise_id=franchise_id,\n",
    "        store_id=store_id,\n",
    "        employee_id=employee_id,\n",
    "        manager_email=manager_email,\n",
    "        auth=auth,\n",
    "    )\n",
    "    try:\n",
    "        await asyncio.sleep(4)\n",
    "        await domo_user.update_properties(property_ls)\n",
    "\n",
    "    except Exception as e:\n",
    "        print(e)\n",
    "\n",
    "    return domo_user\n",
    "\n",
    "\n",
    "print(test_user)\n",
    "print(\"\\n\")\n",
    "domo_user = await upsert_user(\n",
    "    email=test_user[\"email\"],\n",
    "    role_id=5,\n",
    "    franchise_id=test_user[\"FranchiseID\"],\n",
    "    store_id=test_user[\"StoreID\"],\n",
    "    employee_id=test_user[\"EmpID\"],\n",
    "    manager_email=test_user[\"manager_email\"],\n",
    "    auth=token_auth,\n",
    ")\n",
    "\n",
    "## this view of the user will not reflect the updated attribtues, as the get_by_id() API does not retrieve custom attributes\n",
    "# instead you have to use the Query API to search the datacenter for full details\n",
    "\n",
    "pprint(domo_user)"
   ]
  },
  {
   "cell_type": "code",
   "execution_count": null,
   "metadata": {},
   "outputs": [
    {
     "name": "stdout",
     "output_type": "stream",
     "text": [
      "Owner2@fz.com\n",
      "Owner2@fz.com\n",
      "CEO1@fz.com\n",
      "Owner7@fz.com\n",
      "Owner7@fz.com\n",
      "jae@onyxreporting.com\n",
      "CEO1@fz.com\n",
      "Owner2@fz.com\n",
      "Owner2@fz.com\n",
      "Owner7@fz.com\n",
      "Owner7@fz.com\n",
      "CEO1@fz.com\n",
      "Owner12@fz.com\n",
      "Owner12@fz.com\n",
      "Owner12@fz.com\n",
      "Owner12@fz.com\n",
      "Owner12@fz.com\n"
     ]
    },
    {
     "ename": "User_CrudError",
     "evalue": "🛑  User_CrudError 🛑 - function: update_user || 1009228622 || status 400 || Bad Request at domo-community",
     "output_type": "error",
     "traceback": [
      "\u001b[0;31m---------------------------------------------------------------------------\u001b[0m",
      "\u001b[0;31mUser_CrudError\u001b[0m                            Traceback (most recent call last)",
      "Cell \u001b[0;32mIn[30], line 1\u001b[0m\n\u001b[0;32m----> 1\u001b[0m \u001b[38;5;28;01mawait\u001b[39;00m ce\u001b[38;5;241m.\u001b[39mgather_with_concurrency(\n\u001b[1;32m      2\u001b[0m     \u001b[38;5;241m*\u001b[39m[\n\u001b[1;32m      3\u001b[0m         upsert_user(\n\u001b[1;32m      4\u001b[0m             email\u001b[38;5;241m=\u001b[39muser_obj[\u001b[38;5;124m\"\u001b[39m\u001b[38;5;124memail\u001b[39m\u001b[38;5;124m\"\u001b[39m],\n\u001b[1;32m      5\u001b[0m             role_id\u001b[38;5;241m=\u001b[39m\u001b[38;5;241m5\u001b[39m,\n\u001b[1;32m      6\u001b[0m             franchise_id\u001b[38;5;241m=\u001b[39muser_obj[\u001b[38;5;124m\"\u001b[39m\u001b[38;5;124mFranchiseID\u001b[39m\u001b[38;5;124m\"\u001b[39m],\n\u001b[1;32m      7\u001b[0m             store_id\u001b[38;5;241m=\u001b[39muser_obj[\u001b[38;5;124m\"\u001b[39m\u001b[38;5;124mStoreID\u001b[39m\u001b[38;5;124m\"\u001b[39m],\n\u001b[1;32m      8\u001b[0m             employee_id\u001b[38;5;241m=\u001b[39muser_obj[\u001b[38;5;124m\"\u001b[39m\u001b[38;5;124mEmpID\u001b[39m\u001b[38;5;124m\"\u001b[39m],\n\u001b[1;32m      9\u001b[0m             manager_email\u001b[38;5;241m=\u001b[39muser_obj[\u001b[38;5;124m\"\u001b[39m\u001b[38;5;124mmanager_email\u001b[39m\u001b[38;5;124m\"\u001b[39m],\n\u001b[1;32m     10\u001b[0m             auth\u001b[38;5;241m=\u001b[39mtoken_auth,\n\u001b[1;32m     11\u001b[0m         )\n\u001b[1;32m     12\u001b[0m         \u001b[38;5;28;01mfor\u001b[39;00m user_obj \u001b[38;5;129;01min\u001b[39;00m data\n\u001b[1;32m     13\u001b[0m     ],\n\u001b[1;32m     14\u001b[0m     n\u001b[38;5;241m=\u001b[39m\u001b[38;5;241m10\u001b[39m\n\u001b[1;32m     15\u001b[0m )\n",
      "File \u001b[0;32m/workspaces/domo_library/domolibrary/utils/chunk_execution.py:23\u001b[0m, in \u001b[0;36mgather_with_concurrency\u001b[0;34m(n, *coros)\u001b[0m\n\u001b[1;32m     20\u001b[0m     \u001b[38;5;28;01masync\u001b[39;00m \u001b[38;5;28;01mwith\u001b[39;00m semaphore:\n\u001b[1;32m     21\u001b[0m         \u001b[38;5;28;01mreturn\u001b[39;00m \u001b[38;5;28;01mawait\u001b[39;00m coro\n\u001b[0;32m---> 23\u001b[0m \u001b[38;5;28;01mreturn\u001b[39;00m \u001b[38;5;28;01mawait\u001b[39;00m asyncio\u001b[38;5;241m.\u001b[39mgather(\u001b[38;5;241m*\u001b[39m(sem_coro(c) \u001b[38;5;28;01mfor\u001b[39;00m c \u001b[38;5;129;01min\u001b[39;00m coros))\n",
      "File \u001b[0;32m/workspaces/domo_library/domolibrary/utils/chunk_execution.py:21\u001b[0m, in \u001b[0;36mgather_with_concurrency.<locals>.sem_coro\u001b[0;34m(coro)\u001b[0m\n\u001b[1;32m     19\u001b[0m \u001b[38;5;28;01masync\u001b[39;00m \u001b[38;5;28;01mdef\u001b[39;00m \u001b[38;5;21msem_coro\u001b[39m(coro):\n\u001b[1;32m     20\u001b[0m     \u001b[38;5;28;01masync\u001b[39;00m \u001b[38;5;28;01mwith\u001b[39;00m semaphore:\n\u001b[0;32m---> 21\u001b[0m         \u001b[38;5;28;01mreturn\u001b[39;00m \u001b[38;5;28;01mawait\u001b[39;00m coro\n",
      "Cell \u001b[0;32mIn[29], line 32\u001b[0m, in \u001b[0;36mupsert_user\u001b[0;34m(email, role_id, franchise_id, store_id, employee_id, manager_email, auth, display_name)\u001b[0m\n\u001b[1;32m     16\u001b[0m domo_user \u001b[38;5;241m=\u001b[39m \u001b[38;5;28;01mawait\u001b[39;00m dmdu\u001b[38;5;241m.\u001b[39mDomoUsers\u001b[38;5;241m.\u001b[39mupsert_user(\n\u001b[1;32m     17\u001b[0m     email_address\u001b[38;5;241m=\u001b[39memail,\n\u001b[1;32m     18\u001b[0m     display_name\u001b[38;5;241m=\u001b[39mdisplay_name \u001b[38;5;129;01mor\u001b[39;00m \u001b[38;5;124mf\u001b[39m\u001b[38;5;124m\"\u001b[39m\u001b[38;5;124mfz_\u001b[39m\u001b[38;5;132;01m{\u001b[39;00memail\u001b[38;5;132;01m}\u001b[39;00m\u001b[38;5;124m\"\u001b[39m,\n\u001b[0;32m   (...)\u001b[0m\n\u001b[1;32m     21\u001b[0m     debug_api\u001b[38;5;241m=\u001b[39m\u001b[38;5;28;01mFalse\u001b[39;00m,\n\u001b[1;32m     22\u001b[0m )\n\u001b[1;32m     24\u001b[0m property_ls \u001b[38;5;241m=\u001b[39m \u001b[38;5;28;01mawait\u001b[39;00m create_user_property(\n\u001b[1;32m     25\u001b[0m     franchise_id\u001b[38;5;241m=\u001b[39mfranchise_id,\n\u001b[1;32m     26\u001b[0m     store_id\u001b[38;5;241m=\u001b[39mstore_id,\n\u001b[0;32m   (...)\u001b[0m\n\u001b[1;32m     29\u001b[0m     auth\u001b[38;5;241m=\u001b[39mauth,\n\u001b[1;32m     30\u001b[0m )\n\u001b[0;32m---> 32\u001b[0m \u001b[38;5;28;01mawait\u001b[39;00m domo_user\u001b[38;5;241m.\u001b[39mupdate_properties(property_ls)\n\u001b[1;32m     34\u001b[0m \u001b[38;5;28;01mreturn\u001b[39;00m domo_user\n",
      "File \u001b[0;32m/workspaces/domo_library/domolibrary/classes/DomoUser.py:298\u001b[0m, in \u001b[0;36mupdate_properties\u001b[0;34m(self, property_ls, return_raw, auth, debug_api, session)\u001b[0m\n\u001b[1;32m    285\u001b[0m \u001b[38;5;129m@patch_to\u001b[39m(DomoUser)\n\u001b[1;32m    286\u001b[0m \u001b[38;5;28;01masync\u001b[39;00m \u001b[38;5;28;01mdef\u001b[39;00m \u001b[38;5;21mupdate_properties\u001b[39m(\n\u001b[1;32m    287\u001b[0m     \u001b[38;5;28mself\u001b[39m: DomoUser,\n\u001b[0;32m   (...)\u001b[0m\n\u001b[1;32m    294\u001b[0m     session: httpx\u001b[38;5;241m.\u001b[39mAsyncClient \u001b[38;5;241m=\u001b[39m \u001b[38;5;28;01mNone\u001b[39;00m,\n\u001b[1;32m    295\u001b[0m ):\n\u001b[1;32m    296\u001b[0m     auth \u001b[38;5;241m=\u001b[39m auth \u001b[38;5;129;01mor\u001b[39;00m \u001b[38;5;28mself\u001b[39m\u001b[38;5;241m.\u001b[39mauth\n\u001b[0;32m--> 298\u001b[0m     res \u001b[38;5;241m=\u001b[39m \u001b[38;5;28;01mawait\u001b[39;00m user_routes\u001b[38;5;241m.\u001b[39mupdate_user(\n\u001b[1;32m    299\u001b[0m         auth\u001b[38;5;241m=\u001b[39mauth,\n\u001b[1;32m    300\u001b[0m         user_id\u001b[38;5;241m=\u001b[39m\u001b[38;5;28mself\u001b[39m\u001b[38;5;241m.\u001b[39mid,\n\u001b[1;32m    301\u001b[0m         user_property_ls\u001b[38;5;241m=\u001b[39mproperty_ls,\n\u001b[1;32m    302\u001b[0m         debug_api\u001b[38;5;241m=\u001b[39mdebug_api,\n\u001b[1;32m    303\u001b[0m         session\u001b[38;5;241m=\u001b[39msession,\n\u001b[1;32m    304\u001b[0m     )\n\u001b[1;32m    305\u001b[0m     \u001b[38;5;28;01mif\u001b[39;00m return_raw:\n\u001b[1;32m    306\u001b[0m         \u001b[38;5;28;01mreturn\u001b[39;00m res\n",
      "File \u001b[0;32m/workspaces/domo_library/domolibrary/routes/user.py:665\u001b[0m, in \u001b[0;36mupdate_user\u001b[0;34m(user_id, user_property_ls, auth, debug_api, session, parent_class, debug_num_stacks_to_drop)\u001b[0m\n\u001b[1;32m    653\u001b[0m res \u001b[38;5;241m=\u001b[39m \u001b[38;5;28;01mawait\u001b[39;00m gd\u001b[38;5;241m.\u001b[39mget_data(\n\u001b[1;32m    654\u001b[0m     url\u001b[38;5;241m=\u001b[39murl,\n\u001b[1;32m    655\u001b[0m     method\u001b[38;5;241m=\u001b[39m\u001b[38;5;124m\"\u001b[39m\u001b[38;5;124mPATCH\u001b[39m\u001b[38;5;124m\"\u001b[39m,\n\u001b[0;32m   (...)\u001b[0m\n\u001b[1;32m    661\u001b[0m     num_stacks_to_drop\u001b[38;5;241m=\u001b[39mdebug_num_stacks_to_drop,\n\u001b[1;32m    662\u001b[0m )\n\u001b[1;32m    664\u001b[0m \u001b[38;5;28;01mif\u001b[39;00m \u001b[38;5;129;01mnot\u001b[39;00m res\u001b[38;5;241m.\u001b[39mis_success:\n\u001b[0;32m--> 665\u001b[0m     \u001b[38;5;28;01mraise\u001b[39;00m User_CrudError(\n\u001b[1;32m    666\u001b[0m         domo_instance\u001b[38;5;241m=\u001b[39mauth\u001b[38;5;241m.\u001b[39mdomo_instance,\n\u001b[1;32m    667\u001b[0m         entity_id\u001b[38;5;241m=\u001b[39muser_id,\n\u001b[1;32m    668\u001b[0m         status\u001b[38;5;241m=\u001b[39mres\u001b[38;5;241m.\u001b[39mstatus,\n\u001b[1;32m    669\u001b[0m         message\u001b[38;5;241m=\u001b[39mres\u001b[38;5;241m.\u001b[39mresponse,\n\u001b[1;32m    670\u001b[0m         function_name\u001b[38;5;241m=\u001b[39mres\u001b[38;5;241m.\u001b[39mtraceback_details\u001b[38;5;241m.\u001b[39mfunction_name,\n\u001b[1;32m    671\u001b[0m         parent_class\u001b[38;5;241m=\u001b[39mparent_class,\n\u001b[1;32m    672\u001b[0m     )\n\u001b[1;32m    674\u001b[0m \u001b[38;5;28;01mreturn\u001b[39;00m res\n",
      "\u001b[0;31mUser_CrudError\u001b[0m: 🛑  User_CrudError 🛑 - function: update_user || 1009228622 || status 400 || Bad Request at domo-community"
     ]
    }
   ],
   "source": [
    "await ce.gather_with_concurrency(\n",
    "    *[\n",
    "        upsert_user(\n",
    "            email=user_obj[\"email\"],\n",
    "            role_id=5,\n",
    "            franchise_id=user_obj[\"FranchiseID\"],\n",
    "            store_id=user_obj[\"StoreID\"],\n",
    "            employee_id=user_obj[\"EmpID\"],\n",
    "            manager_email=user_obj[\"manager_email\"],\n",
    "            auth=token_auth,\n",
    "        )\n",
    "        for user_obj in data\n",
    "    ],\n",
    "    n=10\n",
    ")"
   ]
  },
  {
   "cell_type": "code",
   "execution_count": null,
   "id": "3b59255e",
   "metadata": {},
   "outputs": [
    {
     "name": "stdout",
     "output_type": "stream",
     "text": [
      "{'email': 'CEO1@fz.com', 'Role': 'CEO', 'FranchiseID': '0', 'StoreID': '0', 'EmpID': '1', 'manager_email': 'jae@onyxreporting.com'}\n",
      "jae@onyxreporting.com\n",
      "{'email': 'Owner2@fz.com', 'Role': 'Owner', 'FranchiseID': '1', 'StoreID': '2', 'EmpID': '2', 'manager_email': 'CEO1@fz.com'}\n",
      "CEO1@fz.com\n",
      "{'email': 'RestaurantManager3@fz.com', 'Role': 'Restaurant Manager', 'FranchiseID': '1', 'StoreID': '24', 'EmpID': '3', 'manager_email': 'Owner2@fz.com'}\n",
      "Owner2@fz.com\n",
      "{'email': 'RestaurantManager4@fz.com', 'Role': 'Restaurant Manager', 'FranchiseID': '1', 'StoreID': '7', 'EmpID': '4', 'manager_email': 'Owner2@fz.com'}\n",
      "Owner2@fz.com\n",
      "{'email': 'RestaurantManager5@fz.com', 'Role': 'Restaurant Manager', 'FranchiseID': '1', 'StoreID': '11', 'EmpID': '5', 'manager_email': 'Owner2@fz.com'}\n",
      "Owner2@fz.com\n",
      "{'email': 'RestaurantManager6@fz.com', 'Role': 'Restaurant Manager', 'FranchiseID': '1', 'StoreID': '8', 'EmpID': '6', 'manager_email': 'Owner2@fz.com'}\n",
      "Owner2@fz.com\n",
      "{'email': 'Owner7@fz.com', 'Role': 'Owner', 'FranchiseID': '2', 'StoreID': '', 'EmpID': '7', 'manager_email': 'CEO1@fz.com'}\n",
      "CEO1@fz.com\n",
      "{'email': 'RestaurantManager8@fz.com', 'Role': 'Restaurant Manager', 'FranchiseID': '2', 'StoreID': '35', 'EmpID': '8', 'manager_email': 'Owner7@fz.com'}\n",
      "Owner7@fz.com\n",
      "{'email': 'RestaurantManager9@fz.com', 'Role': 'Restaurant Manager', 'FranchiseID': '2', 'StoreID': '9', 'EmpID': '9', 'manager_email': 'Owner7@fz.com'}\n",
      "Owner7@fz.com\n",
      "{'email': 'RestaurantManager10@fz.com', 'Role': 'Restaurant Manager', 'FranchiseID': '2', 'StoreID': '4', 'EmpID': '10', 'manager_email': 'Owner7@fz.com'}\n",
      "Owner7@fz.com\n",
      "{'email': 'RestaurantManager11@fz.com', 'Role': 'Restaurant Manager', 'FranchiseID': '2', 'StoreID': '27', 'EmpID': '11', 'manager_email': 'Owner7@fz.com'}\n",
      "Owner7@fz.com\n",
      "{'email': 'Owner12@fz.com', 'Role': 'Owner', 'FranchiseID': '3', 'StoreID': '', 'EmpID': '12', 'manager_email': 'CEO1@fz.com'}\n",
      "CEO1@fz.com\n",
      "{'email': 'RestaurantManager13@fz.com', 'Role': 'Restaurant Manager', 'FranchiseID': '3', 'StoreID': '50', 'EmpID': '13', 'manager_email': 'Owner12@fz.com'}\n",
      "Owner12@fz.com\n",
      "{'email': 'RestaurantManager14@fz.com', 'Role': 'Restaurant Manager', 'FranchiseID': '3', 'StoreID': '64', 'EmpID': '14', 'manager_email': 'Owner12@fz.com'}\n",
      "Owner12@fz.com\n",
      "{'email': 'RestaurantManager15@fz.com', 'Role': 'Restaurant Manager', 'FranchiseID': '3', 'StoreID': '29', 'EmpID': '15', 'manager_email': 'Owner12@fz.com'}\n",
      "Owner12@fz.com\n",
      "{'email': 'RestaurantManager16@fz.com', 'Role': 'Restaurant Manager', 'FranchiseID': '3', 'StoreID': '22', 'EmpID': '16', 'manager_email': 'Owner12@fz.com'}\n",
      "Owner12@fz.com\n",
      "{'email': 'RestaurantManager17@fz.com', 'Role': 'Restaurant Manager', 'FranchiseID': '3', 'StoreID': '18', 'EmpID': '17', 'manager_email': 'Owner12@fz.com'}\n",
      "Owner12@fz.com\n"
     ]
    }
   ],
   "source": [
    "for user_obj in data:\n",
    "    print(user_obj)\n",
    "    await upsert_user(\n",
    "        email=user_obj[\"email\"],\n",
    "        role_id=5,\n",
    "        franchise_id=user_obj[\"FranchiseID\"],\n",
    "        store_id=user_obj[\"StoreID\"],\n",
    "        employee_id=user_obj[\"EmpID\"],\n",
    "        manager_email=user_obj[\"manager_email\"],\n",
    "        auth=token_auth,\n",
    "    )"
   ]
  }
 ],
 "metadata": {
  "kernelspec": {
   "display_name": "python3",
   "language": "python",
   "name": "python3"
  }
 },
 "nbformat": 4,
 "nbformat_minor": 5
}
