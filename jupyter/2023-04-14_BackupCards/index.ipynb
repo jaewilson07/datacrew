{
 "cells": [
  {
   "cell_type": "raw",
   "metadata": {},
   "source": [
    "---\n",
    "title: Automated Card Backup\n",
    "output-file: auto_card_backup.html\n",
    "author: [Jae Wilson]\n",
    "date: 2023-04-14\n",
    "categories: ['Backup', 'Cards']\n",
    "---\n"
   ]
  },
  {
   "attachments": {},
   "cell_type": "markdown",
   "metadata": {},
   "source": [
    "a short post on using DomoLibrary to automate dataset tagging\n",
    "\n",
    "# Project Configuration\n"
   ]
  },
  {
   "cell_type": "code",
   "execution_count": null,
   "metadata": {},
   "outputs": [
    {
     "name": "stdout",
     "output_type": "stream",
     "text": [
      "warning this token has not been validated by who_am_i, run get_auth_token first\n"
     ]
    }
   ],
   "source": [
    "import domolibrary.client.DomoAuth as dmda\n",
    "import os\n",
    "\n",
    "token_auth = dmda.DomoTokenAuth(\n",
    "    domo_instance=\"domo-community\",\n",
    "    domo_access_token=os.environ[\"DOMO_DOJO_ACCESS_TOKEN\"],\n",
    ")\n",
    "\n",
    "await token_auth.get_auth_token()\n",
    "\n",
    "assert isinstance(token_auth.token, str)"
   ]
  },
  {
   "attachments": {},
   "cell_type": "markdown",
   "metadata": {},
   "source": [
    "# Get Cards\n"
   ]
  },
  {
   "cell_type": "code",
   "execution_count": null,
   "metadata": {},
   "outputs": [
    {
     "data": {
      "text/plain": [
       "[DomoDataset(id='da552832-c04d-46ac-936a-f982d9d3f2e6', display_type='api', data_provider_type=None, name='SalesProject01_hello world_INT *', description=None, row_count=0, column_count=0, stream_id=None, owner={'id': '1893952720', 'name': 'Jae Wilson1', 'type': 'USER', 'group': False}, formula={}, schema=DomoDataset_Schema(dataset=..., columns=[]), tags=DomoDataset_Tags(dataset=..., tag_ls=['provider_type : api *', 'proj_phase : 01 *', 'proj_name : SalesProject *', 'ds_type : INT *']), certification=DomoCertification(certification_state='certified', last_updated=datetime.datetime(2023, 4, 4, 8, 8, 51, 402000), certification_type='DEPARTMENT', certification_name='Jae Test Certification'), PDP=<domolibrary.classes.DomoPDP.Dataset_PDP_Policies object>),\n",
       " DomoDataset(id='c3cc5a31-acc5-4999-b76e-2f7580901d2c', display_type='DataFlow', data_provider_type=None, name='DEV | March Madness', description=None, row_count=362, column_count=151, stream_id=None, owner={'id': '1334846498', 'name': 'Jonathan Pilafas', 'type': 'USER', 'group': False}, formula={'calculation_8312f239-7550-43e8-97da-37efdc398e80': {'templateId': 3976, 'id': 'calculation_8312f239-7550-43e8-97da-37efdc398e80', 'name': 'Vulnerable Top 2 Seed?', 'formula': \"CASE \\n\\tWHEN `Team Name` IN ('Iowa State') THEN 'Vulnerable'\\n    ELSE 'Not Vulnerable'\\nEND\", 'status': 'VALID', 'dataType': 'STRING', 'persistedOnDataSource': True, 'isAggregatable': False, 'bignumber': False, 'columnPositions': [{'columnName': '`Team Name`', 'columnPosition': 12}], 'variable': False}, 'calculation_f6a237b7-aca5-4123-9680-2719bc646f8c': {'templateId': 3834, 'id': 'calculation_f6a237b7-aca5-4123-9680-2719bc646f8c', 'name': 'Worst Offensive Efficiency', 'formula': 'MIN(`Adjusted Offensive Efficiency`)', 'status': 'VALID', 'dataType': 'DOUBLE', 'persistedOnDataSource': True, 'isAggregatable': True, 'bignumber': False, 'columnPositions': [{'columnName': '`Adjusted Offensive Efficiency`', 'columnPosition': 4}], 'variable': False}, 'calculation_162b1390-1fa0-4851-a291-42d665683630': {'templateId': 3920, 'id': 'calculation_162b1390-1fa0-4851-a291-42d665683630', 'name': '3PA + 3P%', 'formula': \"CASE \\n\\tWHEN `FG3Rate` >= 30.0 AND `FG3Rate` <= 50.0 AND `FG3Pct` >= 35.0 THEN 'Best'\\n    ELSE 'Not The Best'\\nEND\", 'status': 'VALID', 'dataType': 'STRING', 'persistedOnDataSource': True, 'isAggregatable': False, 'bignumber': False, 'columnPositions': [{'columnName': '`FG3Rate`', 'columnPosition': 12}, {'columnName': '`FG3Rate`', 'columnPosition': 34}, {'columnName': '`FG3Pct`', 'columnPosition': 56}], 'variable': False}, 'calculation_a16a31be-17d3-480b-9eaa-26d0edec7849': {'templateId': 3865, 'id': 'calculation_a16a31be-17d3-480b-9eaa-26d0edec7849', 'name': 'Power 6 Conference Flag', 'formula': \"CASE \\n\\tWHEN `Conference` IN ('Atlantic Coast Conference (ACC)','Southeastern Conference (SEC)','Big Ten Conference (Big 10)','Pac-12 Conference','Big East Conference','Big 12 Conference') THEN 'Yes'\\n    ELSE 'No'\\nEND\", 'status': 'VALID', 'dataType': 'STRING', 'persistedOnDataSource': True, 'isAggregatable': False, 'bignumber': False, 'columnPositions': [{'columnName': '`Conference`', 'columnPosition': 12}], 'variable': False}, 'calculation_63979064-caf3-4273-998f-9fe18d47cc3c': {'templateId': 3974, 'id': 'calculation_63979064-caf3-4273-998f-9fe18d47cc3c', 'name': 'Seed Index', 'formula': \"CASE \\n\\tWHEN `Seed` = '1' THEN 1\\n    WHEN `Seed` = '2' THEN 2\\n    WHEN `Seed` = '3' THEN 3\\n    WHEN `Seed` = '4' THEN 4\\n    WHEN `Seed` = '5' THEN 5\\n    WHEN `Seed` = '6' THEN 6\\n    WHEN `Seed` = '7' THEN 7\\n    WHEN `Seed` = '8' THEN 8\\n    WHEN `Seed` = '9' THEN 9\\n    WHEN `Seed` = '10' THEN 10\\n    WHEN `Seed` = '11' THEN 11\\n    WHEN `Seed` = '12' THEN 12\\n    WHEN `Seed` = '13' THEN 13\\n    WHEN `Seed` = '14' THEN 14\\n    WHEN `Seed` = '15' THEN 15\\n    WHEN `Seed` = '16' THEN 16\\n    ELSE 17\\nEND\", 'status': 'VALID', 'dataType': 'LONG', 'persistedOnDataSource': True, 'isAggregatable': False, 'bignumber': False, 'columnPositions': [{'columnName': '`Seed`', 'columnPosition': 12}, {'columnName': '`Seed`', 'columnPosition': 41}, {'columnName': '`Seed`', 'columnPosition': 70}, {'columnName': '`Seed`', 'columnPosition': 99}, {'columnName': '`Seed`', 'columnPosition': 128}, {'columnName': '`Seed`', 'columnPosition': 157}, {'columnName': '`Seed`', 'columnPosition': 186}, {'columnName': '`Seed`', 'columnPosition': 215}, {'columnName': '`Seed`', 'columnPosition': 244}, {'columnName': '`Seed`', 'columnPosition': 273}, {'columnName': '`Seed`', 'columnPosition': 304}, {'columnName': '`Seed`', 'columnPosition': 335}, {'columnName': '`Seed`', 'columnPosition': 366}, {'columnName': '`Seed`', 'columnPosition': 397}, {'columnName': '`Seed`', 'columnPosition': 428}, {'columnName': '`Seed`', 'columnPosition': 459}], 'variable': False}, 'calculation_613ad5a3-ef3e-43c0-a37d-135ab8996ce9': {'templateId': 3869, 'id': 'calculation_613ad5a3-ef3e-43c0-a37d-135ab8996ce9', 'name': 'Top Efficiencies Index', 'formula': \"CASE \\n\\tWHEN DOMO_BEAST_MODE(3868) = 'Optimal Efficiency - Tier 1' THEN 1\\n    WHEN DOMO_BEAST_MODE(3868) = 'Optimal Efficiency - Tier 2' THEN 2\\n    WHEN DOMO_BEAST_MODE(3868) = 'Optimal Efficiency' THEN 3\\n    WHEN DOMO_BEAST_MODE(3868) = 'Not Optimal Efficiency' THEN 4\\nEND\", 'status': 'VALID', 'dataType': 'LONG', 'persistedOnDataSource': True, 'isAggregatable': False, 'bignumber': False, 'variable': False}, 'calculation_1b6d4d47-9333-42da-aaf5-424525af4c38': {'templateId': 3919, 'id': 'calculation_1b6d4d47-9333-42da-aaf5-424525af4c38', 'name': 'Net Efficiency', 'formula': '`Adjusted Offensive Efficiency` - `Adjusted Defensive Efficiency`', 'status': 'VALID', 'dataType': 'DOUBLE', 'persistedOnDataSource': True, 'isAggregatable': False, 'bignumber': False, 'columnPositions': [{'columnName': '`Adjusted Offensive Efficiency`', 'columnPosition': 0}, {'columnName': '`Adjusted Defensive Efficiency`', 'columnPosition': 34}], 'variable': False}, 'calculation_158bc983-f396-4e4d-8732-edc22b6d99bf': {'templateId': 3835, 'id': 'calculation_158bc983-f396-4e4d-8732-edc22b6d99bf', 'name': 'Worst Defensive Efficiency', 'formula': 'MAX(`Adjusted Defensive Efficiency`)', 'status': 'VALID', 'dataType': 'DOUBLE', 'persistedOnDataSource': True, 'isAggregatable': True, 'bignumber': False, 'columnPositions': [{'columnName': '`Adjusted Defensive Efficiency`', 'columnPosition': 4}], 'variable': False}, 'calculation_38c9ef4c-95d8-4968-980f-2eea8bcb938c': {'templateId': 3867, 'id': 'calculation_38c9ef4c-95d8-4968-980f-2eea8bcb938c', 'name': 'Efficient Offense + Efficient Defense', 'formula': \"CASE \\n\\tWHEN `Adjusted Offensive Efficiency Rank` <= 181 AND `Adjusted Defensive Efficiency Rank` <= 181 THEN 'Good Offense + Good Defense'\\n\\tWHEN `Adjusted Offensive Efficiency Rank` <= 181 AND `Adjusted Defensive Efficiency Rank` >= 181 THEN 'Good Offense + Bad Defense'\\n\\tWHEN `Adjusted Offensive Efficiency Rank` >= 181 AND `Adjusted Defensive Efficiency Rank` <= 181 THEN 'Bad Offense + Good Defense'\\n\\tWHEN `Adjusted Offensive Efficiency Rank` >= 181 AND `Adjusted Defensive Efficiency Rank` >= 181 THEN 'Bad Offense + Bad Defense'\\nEND\", 'status': 'VALID', 'dataType': 'STRING', 'persistedOnDataSource': True, 'isAggregatable': False, 'bignumber': False, 'columnPositions': [{'columnName': '`Adjusted Offensive Efficiency Rank`', 'columnPosition': 12}, {'columnName': '`Adjusted Defensive Efficiency Rank`', 'columnPosition': 60}, {'columnName': '`Adjusted Offensive Efficiency Rank`', 'columnPosition': 145}, {'columnName': '`Adjusted Defensive Efficiency Rank`', 'columnPosition': 193}, {'columnName': '`Adjusted Offensive Efficiency Rank`', 'columnPosition': 277}, {'columnName': '`Adjusted Defensive Efficiency Rank`', 'columnPosition': 325}, {'columnName': '`Adjusted Offensive Efficiency Rank`', 'columnPosition': 409}, {'columnName': '`Adjusted Defensive Efficiency Rank`', 'columnPosition': 457}], 'variable': False}, 'calculation_6bad87e3-709a-4530-ae32-1c6a44b94834': {'templateId': 3832, 'id': 'calculation_6bad87e3-709a-4530-ae32-1c6a44b94834', 'name': 'Best Offensive Efficiency', 'formula': 'MAX(`Adjusted Offensive Efficiency`)', 'status': 'VALID', 'dataType': 'DOUBLE', 'persistedOnDataSource': True, 'isAggregatable': True, 'bignumber': False, 'columnPositions': [{'columnName': '`Adjusted Offensive Efficiency`', 'columnPosition': 4}], 'variable': False}, 'calculation_c90301ea-1d93-48df-9ed5-371424ca22cf': {'templateId': 3908, 'id': 'calculation_c90301ea-1d93-48df-9ed5-371424ca22cf', 'name': '5 Year Coaching Threshold', 'formula': \"CASE \\n\\tWHEN `Active Coaching Length` IN ('0 years','1 years','2 years','3 years','4 years') THEN '0-5 Years Experience'\\n    ELSE '5+ Years Experience'\\nEND\", 'status': 'VALID', 'dataType': 'STRING', 'persistedOnDataSource': True, 'isAggregatable': False, 'bignumber': False, 'columnPositions': [{'columnName': '`Active Coaching Length`', 'columnPosition': 12}], 'variable': False}, 'calculation_31a8e769-5307-425b-a3d2-db02823eba65': {'templateId': 3830, 'id': 'calculation_31a8e769-5307-425b-a3d2-db02823eba65', 'name': 'Avg Offensive Efficiency', 'formula': 'AVG(`Adjusted Offensive Efficiency`)', 'status': 'VALID', 'dataType': 'DOUBLE', 'persistedOnDataSource': True, 'isAggregatable': True, 'bignumber': False, 'columnPositions': [{'columnName': '`Adjusted Offensive Efficiency`', 'columnPosition': 4}], 'variable': False}, 'calculation_c91796c3-a6bb-4f3f-b1c2-733c8bb5e1b9': {'templateId': 3831, 'id': 'calculation_c91796c3-a6bb-4f3f-b1c2-733c8bb5e1b9', 'name': 'Avg Defensive Efficiency', 'formula': 'AVG(`Adjusted Defensive Efficiency`)', 'status': 'VALID', 'dataType': 'DOUBLE', 'persistedOnDataSource': True, 'isAggregatable': True, 'bignumber': False, 'columnPositions': [{'columnName': '`Adjusted Defensive Efficiency`', 'columnPosition': 4}], 'variable': False}, 'calculation_6450cddc-85ba-4099-94cc-4beaecd026fb': {'templateId': 3870, 'id': 'calculation_6450cddc-85ba-4099-94cc-4beaecd026fb', 'name': 'Top 12 in AP Top 25 during Week 6', 'formula': \"CASE \\n\\tWHEN `Season` = 2024 AND `Team Name` IN ('Arizona','Kansas','Purdue','Houston','UConn','Baylor','Marquette','Creighton','North Carolina','Gonzaga','Oklahoma','Tennessee') THEN 'Top 12 in Week 6'\\n    ELSE 'Not Top 12 in Week 6'\\nEND\", 'status': 'VALID', 'dataType': 'STRING', 'persistedOnDataSource': True, 'isAggregatable': False, 'bignumber': False, 'columnPositions': [{'columnName': '`Season`', 'columnPosition': 12}, {'columnName': '`Team Name`', 'columnPosition': 32}], 'variable': False}, 'calculation_cd3a022a-4e9e-41dc-a996-a3d41a0a59d2': {'templateId': 3868, 'id': 'calculation_cd3a022a-4e9e-41dc-a996-a3d41a0a59d2', 'name': 'Top Efficiencies', 'formula': \"CASE \\n\\tWHEN `RankOE` <= 19 AND `RankDE` <= 22 THEN 'Optimal Efficiency - Tier 1'\\n\\tWHEN `RankOE` <= 39 AND `RankDE` <= 22 THEN 'Optimal Efficiency - Tier 2'\\n\\t-- WHEN `Adjusted Offensive Efficiency Rank` <= 39 AND `Adjusted Defensive Efficiency Rank` <= 22 THEN 'Optimal Efficiency'\\n    ELSE 'Not Optimal Efficiency'\\nEND\", 'status': 'VALID', 'dataType': 'STRING', 'persistedOnDataSource': True, 'isAggregatable': False, 'bignumber': False, 'columnPositions': [{'columnName': '`RankOE`', 'columnPosition': 12}, {'columnName': '`RankDE`', 'columnPosition': 31}, {'columnName': '`RankOE`', 'columnPosition': 87}, {'columnName': '`RankDE`', 'columnPosition': 106}], 'variable': False}, 'calculation_f6ee3337-5c9a-40c5-9695-17f9ae922d49': {'templateId': 3833, 'id': 'calculation_f6ee3337-5c9a-40c5-9695-17f9ae922d49', 'name': 'Best Defensive Efficiency', 'formula': 'MIN(`Adjusted Defensive Efficiency`)', 'status': 'VALID', 'dataType': 'DOUBLE', 'persistedOnDataSource': True, 'isAggregatable': True, 'bignumber': False, 'columnPositions': [{'columnName': '`Adjusted Defensive Efficiency`', 'columnPosition': 4}], 'variable': False}, 'calculation_f7b72e6a-3535-422f-9428-f1ad3a5e8436': {'templateId': 3975, 'id': 'calculation_f7b72e6a-3535-422f-9428-f1ad3a5e8436', 'name': 'Made Conference Semifinals?', 'formula': \"CASE \\n\\tWHEN `Season` = 2024 AND `Team Name` IN ('TCU','Kansas','South Carolina','Creighton','Texas','Virginia','Tennessee','Michigan State','Alabama','Clemson','Dayton','Nevada','Northwestern','BYU','Duke','Kentucky','Boise State') THEN 'No'\\n    ELSE 'Yes'\\nEND\", 'status': 'VALID', 'dataType': 'STRING', 'persistedOnDataSource': True, 'isAggregatable': False, 'bignumber': False, 'columnPositions': [{'columnName': '`Season`', 'columnPosition': 12}, {'columnName': '`Team Name`', 'columnPosition': 32}], 'variable': False}, 'calculation_d4d2f814-a702-4de0-9c5b-6edf84e8707f': {'templateId': 3922, 'id': 'calculation_d4d2f814-a702-4de0-9c5b-6edf84e8707f', 'name': 'Opp3PA + Opp3P%', 'formula': \"CASE \\n\\tWHEN `RankFG3Rate` <= 181 AND `RankOppFG3Pct` <= 181 THEN 'Best'\\n    ELSE 'Not The Best'\\nEND\", 'status': 'VALID', 'dataType': 'STRING', 'persistedOnDataSource': True, 'isAggregatable': False, 'bignumber': False, 'columnPositions': [{'columnName': '`RankFG3Rate`', 'columnPosition': 12}, {'columnName': '`RankOppFG3Pct`', 'columnPosition': 37}], 'variable': False}, 'calculation_fa3ad795-3a03-4dd9-9baa-e7b7d2aad1e6': {'templateId': 3866, 'id': 'calculation_fa3ad795-3a03-4dd9-9baa-e7b7d2aad1e6', 'name': 'Pace + Net Rating', 'formula': \"CASE \\n\\tWHEN `Adjusted Temo` >= 62.0 AND `Adjusted Temo` <= 72.0 AND `Net Rating` >= 20.0 THEN 'Best'\\n    ELSE 'Not The Best'\\nEND\", 'status': 'VALID', 'dataType': 'STRING', 'persistedOnDataSource': True, 'isAggregatable': False, 'bignumber': False, 'columnPositions': [{'columnName': '`Adjusted Temo`', 'columnPosition': 12}, {'columnName': '`Adjusted Temo`', 'columnPosition': 40}, {'columnName': '`Net Rating`', 'columnPosition': 68}], 'variable': False}, 'calculation_ebc45801-0350-4b77-87b9-c2de3e3de175': {'templateId': 3921, 'id': 'calculation_ebc45801-0350-4b77-87b9-c2de3e3de175', 'name': 'AST% + TOV%', 'formula': \"CASE \\n\\tWHEN `RankARate` <= 181 AND `Off.TO % Rank` <= 181 THEN 'Best'\\n    ELSE 'Not The Best'\\nEND\", 'status': 'VALID', 'dataType': 'STRING', 'persistedOnDataSource': True, 'isAggregatable': False, 'bignumber': False, 'columnPositions': [{'columnName': '`RankARate`', 'columnPosition': 12}, {'columnName': '`Off.TO % Rank`', 'columnPosition': 35}], 'variable': False}}, schema=DomoDataset_Schema(dataset=..., columns=[]), tags=DomoDataset_Tags(dataset=..., tag_ls=[]), certification=None, PDP=<domolibrary.classes.DomoPDP.Dataset_PDP_Policies object>),\n",
       " DomoDataset(id='fff33fa8-bc96-4754-92ad-5a2f8789717f', display_type='salesforce', data_provider_type='salesforce', name='Salesforce | Accounts | TEST', description='', row_count=24, column_count=87, stream_id=1071, owner={'id': '68216396', 'name': 'Elliott Leonard', 'type': 'USER', 'group': False}, formula={}, schema=DomoDataset_Schema(dataset=..., columns=[]), tags=DomoDataset_Tags(dataset=..., tag_ls=[]), certification=None, PDP=<domolibrary.classes.DomoPDP.Dataset_PDP_Policies object>),\n",
       " DomoDataset(id='d8e97c12-630b-41d4-a470-400f4f0fe0a9', display_type='large-file-upload', data_provider_type='large-file-upload', name='RAW | KenPom | Summary', description='', row_count=362, column_count=16, stream_id=1449, owner={'id': '1334846498', 'name': 'Jonathan Pilafas', 'type': 'USER', 'group': False}, formula={}, schema=DomoDataset_Schema(dataset=..., columns=[]), tags=DomoDataset_Tags(dataset=..., tag_ls=[]), certification=None, PDP=<domolibrary.classes.DomoPDP.Dataset_PDP_Policies object>),\n",
       " DomoDataset(id='353751aa-b96e-457f-9d06-f037b278cde0', display_type='webform', data_provider_type='webform', name='Store Example Data', description=None, row_count=19378, column_count=5, stream_id=1448, owner={'id': '68216396', 'name': 'Elliott Leonard', 'type': 'USER', 'group': False}, formula={}, schema=DomoDataset_Schema(dataset=..., columns=[]), tags=DomoDataset_Tags(dataset=..., tag_ls=[]), certification=None, PDP=<domolibrary.classes.DomoPDP.Dataset_PDP_Policies object>)]"
      ]
     },
     "execution_count": null,
     "metadata": {},
     "output_type": "execute_result"
    }
   ],
   "source": [
    "import domolibrary.classes.DomoDatacenter as ddc\n",
    "import pandas as pd\n",
    "import domolibrary.routes.datacenter as datacenter_routes\n",
    "\n",
    "domo_datasets = await ddc.DomoDatacenter.search_datasets(\n",
    "    auth=token_auth,\n",
    ")\n",
    "\n",
    "domo_datasets[0:5]"
   ]
  },
  {
   "cell_type": "code",
   "execution_count": null,
   "metadata": {},
   "outputs": [],
   "source": [
    "import domolibrary.classes.DomoDataset as dmd\n",
    "\n",
    "\n",
    "def process_ds(\n",
    "    domo_dataset: dmd.DomoDataset,\n",
    ") -> dict:  # dictionary where each attribute except _id and _ds_name becomes a tag\n",
    "    \"\"\"\n",
    "    receives DomoDataset object, and then generates an object with attributes that will become tags.\n",
    "    every organization will have different naming conventions and therefore must generate different rules for how tags can be exctracted from the Domo Dataset object.\n",
    "    \"\"\"\n",
    "\n",
    "    proj_str = domo_dataset.name.split(\"_\", 1)[0]\n",
    "    proj_name = proj_str[:-2]\n",
    "    proj_phase = proj_str[-2:]\n",
    "\n",
    "    _ = domo_dataset.name.split(\"_\", 1)[1]\n",
    "\n",
    "    ds_type = _.split(\"_\")[-1].replace(\" *\", \"\")\n",
    "\n",
    "    return {\n",
    "        \"_id\": domo_dataset.id,\n",
    "        \"_ds_name\": domo_dataset.name,\n",
    "        \"provider_type\": domo_dataset.display_type or domo_dataset.data_provider_type,\n",
    "        \"proj_name\": proj_name,\n",
    "        \"proj_phase\": proj_phase,\n",
    "        \"ds_type\": ds_type,\n",
    "    }"
   ]
  },
  {
   "cell_type": "code",
   "execution_count": null,
   "metadata": {},
   "outputs": [
    {
     "data": {
      "text/html": [
       "<div>\n",
       "<style scoped>\n",
       "    .dataframe tbody tr th:only-of-type {\n",
       "        vertical-align: middle;\n",
       "    }\n",
       "\n",
       "    .dataframe tbody tr th {\n",
       "        vertical-align: top;\n",
       "    }\n",
       "\n",
       "    .dataframe thead th {\n",
       "        text-align: right;\n",
       "    }\n",
       "</style>\n",
       "<table border=\"1\" class=\"dataframe\">\n",
       "  <thead>\n",
       "    <tr style=\"text-align: right;\">\n",
       "      <th></th>\n",
       "      <th>_id</th>\n",
       "      <th>_ds_name</th>\n",
       "      <th>provider_type</th>\n",
       "      <th>proj_name</th>\n",
       "      <th>proj_phase</th>\n",
       "      <th>ds_type</th>\n",
       "    </tr>\n",
       "  </thead>\n",
       "  <tbody>\n",
       "    <tr>\n",
       "      <th>0</th>\n",
       "      <td>da552832-c04d-46ac-936a-f982d9d3f2e6</td>\n",
       "      <td>SalesProject01_hello world_INT *</td>\n",
       "      <td>api</td>\n",
       "      <td>SalesProject</td>\n",
       "      <td>01</td>\n",
       "      <td>INT</td>\n",
       "    </tr>\n",
       "    <tr>\n",
       "      <th>1</th>\n",
       "      <td>063dd227-2a2d-4563-a372-6d08c950e86d</td>\n",
       "      <td>SalesProject02_summary_by_month_DASH *</td>\n",
       "      <td>api</td>\n",
       "      <td>SalesProject</td>\n",
       "      <td>02</td>\n",
       "      <td>DASH</td>\n",
       "    </tr>\n",
       "    <tr>\n",
       "      <th>2</th>\n",
       "      <td>6114155e-e6a5-4c9c-bec0-5f0b8e807579</td>\n",
       "      <td>SalesProject01_hello world3_INT *</td>\n",
       "      <td>api</td>\n",
       "      <td>SalesProject</td>\n",
       "      <td>01</td>\n",
       "      <td>INT</td>\n",
       "    </tr>\n",
       "    <tr>\n",
       "      <th>3</th>\n",
       "      <td>e5f44d26-4028-4282-88a9-239a0f909373</td>\n",
       "      <td>SalesProject02_summary_by_day_DASH *</td>\n",
       "      <td>api</td>\n",
       "      <td>SalesProject</td>\n",
       "      <td>02</td>\n",
       "      <td>DASH</td>\n",
       "    </tr>\n",
       "  </tbody>\n",
       "</table>\n",
       "</div>"
      ],
      "text/plain": [
       "                                    _id  \\\n",
       "0  da552832-c04d-46ac-936a-f982d9d3f2e6   \n",
       "1  063dd227-2a2d-4563-a372-6d08c950e86d   \n",
       "2  6114155e-e6a5-4c9c-bec0-5f0b8e807579   \n",
       "3  e5f44d26-4028-4282-88a9-239a0f909373   \n",
       "\n",
       "                                 _ds_name provider_type     proj_name  \\\n",
       "0        SalesProject01_hello world_INT *           api  SalesProject   \n",
       "1  SalesProject02_summary_by_month_DASH *           api  SalesProject   \n",
       "2       SalesProject01_hello world3_INT *           api  SalesProject   \n",
       "3    SalesProject02_summary_by_day_DASH *           api  SalesProject   \n",
       "\n",
       "  proj_phase ds_type  \n",
       "0         01     INT  \n",
       "1         02    DASH  \n",
       "2         01     INT  \n",
       "3         02    DASH  "
      ]
     },
     "execution_count": null,
     "metadata": {},
     "output_type": "execute_result"
    }
   ],
   "source": [
    "import pandas as pd\n",
    "\n",
    "# for this project we assume any dataset that ends with * has been validated as adhering to the naming convention format.\n",
    "dataset_tags_to_update = [\n",
    "    process_ds(domo_dataset)\n",
    "    for domo_dataset in domo_datasets\n",
    "    if domo_dataset.name.endswith(\"*\")\n",
    "]\n",
    "\n",
    "pd.DataFrame(dataset_tags_to_update)"
   ]
  },
  {
   "cell_type": "code",
   "execution_count": null,
   "metadata": {},
   "outputs": [],
   "source": [
    "def generate_tags(tag_dict):\n",
    "    \"\"\"\n",
    "    simple utility function to collapse key/value pairs into a string\n",
    "    tags generated by this process will be suffixed with an *\n",
    "    \"\"\"\n",
    "\n",
    "    tag_ls = [\n",
    "        f\"{key} : {tag_dict[key]} *\"\n",
    "        for key in tag_dict.keys()\n",
    "        if not key.startswith(\"_\")\n",
    "    ]\n",
    "\n",
    "    info = {\n",
    "        key.replace(\"_\", \"\"): tag_dict[key]\n",
    "        for key in tag_dict.keys()\n",
    "        if key.startswith(\"_\")\n",
    "    }\n",
    "\n",
    "    return {\"tag_ls\": tag_ls, **info}"
   ]
  },
  {
   "cell_type": "code",
   "execution_count": null,
   "metadata": {},
   "outputs": [
    {
     "name": "stdout",
     "output_type": "stream",
     "text": [
      "[{'dsname': 'SalesProject01_hello world_INT *',\n",
      "  'id': 'da552832-c04d-46ac-936a-f982d9d3f2e6',\n",
      "  'tag_ls': ['provider_type : api *',\n",
      "             'proj_name : SalesProject *',\n",
      "             'proj_phase : 01 *',\n",
      "             'ds_type : INT *']},\n",
      " {'dsname': 'SalesProject02_summary_by_month_DASH *',\n",
      "  'id': '063dd227-2a2d-4563-a372-6d08c950e86d',\n",
      "  'tag_ls': ['provider_type : api *',\n",
      "             'proj_name : SalesProject *',\n",
      "             'proj_phase : 02 *',\n",
      "             'ds_type : DASH *']},\n",
      " {'dsname': 'SalesProject01_hello world3_INT *',\n",
      "  'id': '6114155e-e6a5-4c9c-bec0-5f0b8e807579',\n",
      "  'tag_ls': ['provider_type : api *',\n",
      "             'proj_name : SalesProject *',\n",
      "             'proj_phase : 01 *',\n",
      "             'ds_type : INT *']},\n",
      " {'dsname': 'SalesProject02_summary_by_day_DASH *',\n",
      "  'id': 'e5f44d26-4028-4282-88a9-239a0f909373',\n",
      "  'tag_ls': ['provider_type : api *',\n",
      "             'proj_name : SalesProject *',\n",
      "             'proj_phase : 02 *',\n",
      "             'ds_type : DASH *']}]\n"
     ]
    }
   ],
   "source": [
    "from pprint import pprint\n",
    "\n",
    "# for each dataset to update, tag_ls contains the list of tags that will be added.\n",
    "dataset_tags_for_api = [generate_tags(tag_dict) for tag_dict in dataset_tags_to_update]\n",
    "\n",
    "pprint(dataset_tags_for_api)"
   ]
  },
  {
   "cell_type": "code",
   "execution_count": null,
   "metadata": {},
   "outputs": [],
   "source": [
    "import asyncio\n",
    "from typing import List\n",
    "\n",
    "import domolibrary.classes.DomoDataset as dmd\n",
    "\n",
    "\n",
    "async def process_dataset_tags(dataset_id, tag_ls: List[str], auth: dmda.DomoAuth):\n",
    "    \"\"\"\n",
    "    function to actually update domo dataset entities.\n",
    "    tags previously added by this process (denoted with the * suffix) will be removed\n",
    "    \"\"\"\n",
    "\n",
    "    domo_dataset = await dmd.DomoDataset.get_from_id(dataset_id=dataset_id, auth=auth)\n",
    "\n",
    "    # remove old tags\n",
    "    remove_tag_ls = [tag for tag in domo_dataset.tags.tag_ls if tag.endswith(\" *\")]\n",
    "\n",
    "    if len(remove_tag_ls) > 0:\n",
    "        await domo_dataset.tags.remove(remove_tag_ls=remove_tag_ls)\n",
    "\n",
    "    # add new tags\n",
    "    await domo_dataset.tags.add(add_tag_ls=tag_ls)\n",
    "\n",
    "    return {\n",
    "        \"id\": domo_dataset.id,\n",
    "        \"name\": domo_dataset.name,\n",
    "        \"tags\": domo_dataset.tags.tag_ls,\n",
    "    }"
   ]
  },
  {
   "cell_type": "code",
   "execution_count": null,
   "metadata": {},
   "outputs": [
    {
     "data": {
      "text/html": [
       "<div>\n",
       "<style scoped>\n",
       "    .dataframe tbody tr th:only-of-type {\n",
       "        vertical-align: middle;\n",
       "    }\n",
       "\n",
       "    .dataframe tbody tr th {\n",
       "        vertical-align: top;\n",
       "    }\n",
       "\n",
       "    .dataframe thead th {\n",
       "        text-align: right;\n",
       "    }\n",
       "</style>\n",
       "<table border=\"1\" class=\"dataframe\">\n",
       "  <thead>\n",
       "    <tr style=\"text-align: right;\">\n",
       "      <th></th>\n",
       "      <th>id</th>\n",
       "      <th>name</th>\n",
       "      <th>tags</th>\n",
       "    </tr>\n",
       "  </thead>\n",
       "  <tbody>\n",
       "    <tr>\n",
       "      <th>0</th>\n",
       "      <td>da552832-c04d-46ac-936a-f982d9d3f2e6</td>\n",
       "      <td>SalesProject01_hello world_INT *</td>\n",
       "      <td>[provider_type : api *, proj_phase : 01 *, pro...</td>\n",
       "    </tr>\n",
       "    <tr>\n",
       "      <th>1</th>\n",
       "      <td>063dd227-2a2d-4563-a372-6d08c950e86d</td>\n",
       "      <td>SalesProject02_summary_by_month_DASH *</td>\n",
       "      <td>[provider_type : api *, proj_phase : 02 *, pro...</td>\n",
       "    </tr>\n",
       "    <tr>\n",
       "      <th>2</th>\n",
       "      <td>6114155e-e6a5-4c9c-bec0-5f0b8e807579</td>\n",
       "      <td>SalesProject01_hello world3_INT *</td>\n",
       "      <td>[provider_type : api *, proj_phase : 01 *, pro...</td>\n",
       "    </tr>\n",
       "    <tr>\n",
       "      <th>3</th>\n",
       "      <td>e5f44d26-4028-4282-88a9-239a0f909373</td>\n",
       "      <td>SalesProject02_summary_by_day_DASH *</td>\n",
       "      <td>[provider_type : api *, proj_phase : 02 *, pro...</td>\n",
       "    </tr>\n",
       "  </tbody>\n",
       "</table>\n",
       "</div>"
      ],
      "text/plain": [
       "                                     id  \\\n",
       "0  da552832-c04d-46ac-936a-f982d9d3f2e6   \n",
       "1  063dd227-2a2d-4563-a372-6d08c950e86d   \n",
       "2  6114155e-e6a5-4c9c-bec0-5f0b8e807579   \n",
       "3  e5f44d26-4028-4282-88a9-239a0f909373   \n",
       "\n",
       "                                     name  \\\n",
       "0        SalesProject01_hello world_INT *   \n",
       "1  SalesProject02_summary_by_month_DASH *   \n",
       "2       SalesProject01_hello world3_INT *   \n",
       "3    SalesProject02_summary_by_day_DASH *   \n",
       "\n",
       "                                                tags  \n",
       "0  [provider_type : api *, proj_phase : 01 *, pro...  \n",
       "1  [provider_type : api *, proj_phase : 02 *, pro...  \n",
       "2  [provider_type : api *, proj_phase : 01 *, pro...  \n",
       "3  [provider_type : api *, proj_phase : 02 *, pro...  "
      ]
     },
     "execution_count": null,
     "metadata": {},
     "output_type": "execute_result"
    }
   ],
   "source": [
    "import pandas as pd\n",
    "\n",
    "res = await asyncio.gather(\n",
    "    *[\n",
    "        process_dataset_tags(\n",
    "            dataset_id=row.get(\"id\"), tag_ls=row.get(\"tag_ls\"), auth=token_auth\n",
    "        )\n",
    "        for row in dataset_tags_for_api\n",
    "    ]\n",
    ")\n",
    "\n",
    "pd.DataFrame(res)"
   ]
  }
 ],
 "metadata": {
  "kernelspec": {
   "display_name": "python3",
   "language": "python",
   "name": "python3"
  }
 },
 "nbformat": 4,
 "nbformat_minor": 2
}
