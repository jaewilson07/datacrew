{
 "cells": [
  {
   "attachments": {},
   "cell_type": "raw",
   "id": "0cff85d0",
   "metadata": {},
   "source": [
    "---\n",
    "title: Tutorial - Extract SQL from a Dataflow\n",
    "author: [Jae Wilson]\n",
    "date: 2023-02-02\n",
    "categories: ['Instance Configuration', 'Dataflow']\n",
    "---"
   ]
  },
  {
   "attachments": {},
   "cell_type": "markdown",
   "id": "3ee2e8d5-02ea-4394-80d4-8cfb9fd07a80",
   "metadata": {},
   "source": [
    "# ⚙️ Configuration"
   ]
  },
  {
   "cell_type": "code",
   "execution_count": null,
   "id": "709e17e8-acea-47d1-ada9-3d68804ac547",
   "metadata": {},
   "outputs": [],
   "source": [
    "# pip install --upgrade  domolibrary\n",
    "# pip install sqlparse\n",
    "# pip install sql-metadata"
   ]
  },
  {
   "attachments": {},
   "cell_type": "markdown",
   "id": "df61b950-174f-4814-adae-b9768ab26620",
   "metadata": {},
   "source": [
    "## ⚙️ Auth Object\n",
    "Configure a `DomoAuth` object that will be used to interact with `DomoDatasets`\n",
    "\n",
    "For this project we must use `DomoFullAuth` because the bootstrap API will not accept token auth"
   ]
  },
  {
   "cell_type": "code",
   "execution_count": null,
   "id": "4bebda9e",
   "metadata": {},
   "outputs": [],
   "source": [
    "import os\n",
    "\n",
    "domo_instance = \"domo-community\"\n",
    "domo_username = os.environ[\"DOMO_USERNAME\"]\n",
    "domo_password = os.environ[\"DOJO_PASSWORD\"]\n",
    "sql_dataflow_id = 70"
   ]
  },
  {
   "cell_type": "code",
   "execution_count": null,
   "id": "9658eb95-bdad-4280-b0b9-4d368ebd707b",
   "metadata": {},
   "outputs": [
    {
     "name": "stdout",
     "output_type": "stream",
     "text": [
      "⚙️ generate_auth:  retrieving config data from domo-community ⚙️\n",
      "🌼 generate_auth:  success retrieving Auth Token\n"
     ]
    }
   ],
   "source": [
    "import domolibrary.client.DomoAuth as dmda\n",
    "\n",
    "\n",
    "async def generate_auth(domo_instance, domo_username, domo_password) -> dmda.DomoAuth:\n",
    "    \"\"\"receive auth credentials, generate and test an auth object\"\"\"\n",
    "\n",
    "    print(f\"⚙️ generate_auth:  retrieving config data from {domo_instance} ⚙️\")\n",
    "\n",
    "    auth = dmda.DomoFullAuth(\n",
    "        domo_username=domo_username,\n",
    "        domo_password=domo_password,\n",
    "        domo_instance=domo_instance,\n",
    "    )\n",
    "\n",
    "    # confirm we can get a valid auth token\n",
    "    await auth.get_auth_token()\n",
    "\n",
    "    if not auth.token:\n",
    "        raise Exception(\"💀 generate_auth: Error retrieving Auth Token\")\n",
    "\n",
    "    if auth.token:\n",
    "        print(\"🌼 generate_auth:  success retrieving Auth Token\")\n",
    "\n",
    "    return auth\n",
    "\n",
    "\n",
    "# test\n",
    "test_auth = await generate_auth(\n",
    "    domo_instance=domo_instance,\n",
    "    domo_password=domo_password,\n",
    "    domo_username=domo_username,\n",
    ")"
   ]
  },
  {
   "attachments": {},
   "cell_type": "markdown",
   "id": "8d43b61c",
   "metadata": {},
   "source": [
    "## ⚙️ Dataflow Object\n",
    "Configure a `DomoDataflow` "
   ]
  },
  {
   "cell_type": "code",
   "execution_count": null,
   "id": "62093e2b-cbcb-4bdd-bba7-375fdffff7ce",
   "metadata": {},
   "outputs": [],
   "source": [
    "import domolibrary.classes.DomoDataflow as dmdf\n",
    "\n",
    "\n",
    "async def generate_dataflow(dataflow_id: str, auth: dmda.DomoAuth):\n",
    "    \"\"\"generates a DomoDataset class object from a dataset_id\"\"\"\n",
    "\n",
    "    return await dmdf.DomoDataflow.get_from_id(dataflow_id=dataflow_id, auth=auth)\n",
    "\n",
    "\n",
    "# test\n",
    "df = await generate_dataflow(dataflow_id=sql_dataflow_id, auth=test_auth)"
   ]
  },
  {
   "attachments": {},
   "cell_type": "markdown",
   "id": "d49ce1ec",
   "metadata": {},
   "source": [
    "## 💾 Process Actions\n",
    "\n",
    "`DomoDataflow_Action` definitions are embeded in the `DomoDataflow.actions` property.  \n",
    "\n",
    "The `DomoDataflow_Action` class only captures a portion of the available properties across all the different action types, so this can be extended as needed.\n",
    "\n",
    "SQL statements are captured in `DomoDataflow_Action.sql` and can therefore be parsed or reformatted for presentation in other documentation tools.  In the example below we use the [sqlparse(https://github.com/andialbrecht/sqlparse]) and [sql_metadata(https://github.com/macbre/sql-metadata)] library to parse and present a dataflow."
   ]
  },
  {
   "cell_type": "code",
   "execution_count": null,
   "id": "63182a6f-00f6-4357-9afe-6252810c8e22",
   "metadata": {},
   "outputs": [
    {
     "name": "stdout",
     "output_type": "stream",
     "text": [
      "[{'referenced_tables': 'domostats_people',\n",
      "  'target_table': 't_1',\n",
      "  'transform_sql': 'SELECT `Display Name`,\\n'\n",
      "                   '       `User ID` , @row := @row+1 AS id , @isReset := CASE '\n",
      "                   'WHEN @iter = @rowCounter THEN 1\\n'\n",
      "                   '            ELSE 0\\n'\n",
      "                   '             END isReset , @group := @isReset + @group AS '\n",
      "                   'rowGroup , @iter := CASE WHEN @isReset = 1 THEN 1\\n'\n",
      "                   '            ELSE @iter + 1\\n'\n",
      "                   '             END iter , @rowCounter := CASE WHEN @isReset '\n",
      "                   '= 1 THEN FLOOR(RAND() * (7-3) + 3)\\n'\n",
      "                   '            ELSE @rowCounter\\n'\n",
      "                   '             END numChildren\\n'\n",
      "                   '  FROM `domostats_people` p ,\\n'\n",
      "                   '       (\\n'\n",
      "                   '        SELECT @row:= 0,@rowCounter:= 1, @iter := 1, '\n",
      "                   '@isReset := 0 , @group := 0\\n'\n",
      "                   '       ) r'},\n",
      " {'referenced_tables': 't_1',\n",
      "  'target_table': 'reportsto',\n",
      "  'transform_sql': 'SELECT b.`User ID` AS userID,\\n'\n",
      "                   \"       'reportsTo' AS Action,\\n\"\n",
      "                   '       a.`User ID` AS bodyID\\n'\n",
      "                   '  FROM t_1 a\\n'\n",
      "                   '  JOIN t_1 b\\n'\n",
      "                   '    ON a.id = b.`rowGroup`\\n'\n",
      "                   ' WHERE a.`User ID` <> b.`User ID`\\n'\n",
      "                   ' UNION SELECT b.`User ID` AS userID,\\n'\n",
      "                   \"       'directReports' AS Action,\\n\"\n",
      "                   '       a.`User ID` AS bodyID\\n'\n",
      "                   '  FROM t_1 a\\n'\n",
      "                   '  JOIN t_1 b\\n'\n",
      "                   '    ON b.id = a.`rowGroup`\\n'\n",
      "                   ' WHERE a.`User ID` <> b.`User ID`'},\n",
      " {'referenced_tables': 'reportsto',\n",
      "  'target_table': 'domoStats_people_reports',\n",
      "  'transform_sql': 'SELECT *\\n  FROM `reportsto`'}]\n"
     ]
    }
   ],
   "source": [
    "import sqlparse\n",
    "import sql_metadata as sqlmd\n",
    "import domolibrary.classes.DomoBootstrap as dmbsr\n",
    "from pprint import pprint\n",
    "\n",
    "\n",
    "def process_actions(domo_dataflow: dmdf.DomoDataflow, debug_api: bool = False):\n",
    "    \"\"\"exctract SQL from actions\"\"\"\n",
    "\n",
    "    domo_actions = domo_dataflow.actions\n",
    "\n",
    "    if not domo_actions:\n",
    "        return\n",
    "\n",
    "    clean_sql = []\n",
    "\n",
    "    for action in domo_actions:\n",
    "        sql = action.sql\n",
    "\n",
    "        # not all domo actions will contain sql.\n",
    "        if not sql:\n",
    "            continue\n",
    "\n",
    "        # alter according to your needs\n",
    "        clean_sql.append(\n",
    "            {\n",
    "                \"transform_sql\": sqlparse.format(\n",
    "                    sql, reindent_aligned=True, keyword_case=\"upper\"\n",
    "                ),\n",
    "                \"referenced_tables\": \", \".join(sqlmd.Parser(sql).tables),\n",
    "                \"target_table\": action.name,\n",
    "            }\n",
    "        )\n",
    "\n",
    "    return clean_sql\n",
    "\n",
    "\n",
    "res = process_actions(domo_dataflow=df)\n",
    "pprint(res)"
   ]
  },
  {
   "cell_type": "code",
   "execution_count": null,
   "id": "f923b813",
   "metadata": {},
   "outputs": [],
   "source": [
    "# | hide\n",
    "import nbdev\n",
    "\n",
    "nbdev.nbdev_export()"
   ]
  }
 ],
 "metadata": {
  "kernelspec": {
   "display_name": "python3",
   "language": "python",
   "name": "python3"
  }
 },
 "nbformat": 4,
 "nbformat_minor": 5
}
