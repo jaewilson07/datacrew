{
 "cells": [
  {
   "cell_type": "code",
   "execution_count": 1,
   "id": "dfd46630",
   "metadata": {},
   "outputs": [],
   "source": [
    "# %pip install domolibrary --upgrade\n",
    "# %pip install python-dotenv"
   ]
  },
  {
   "cell_type": "code",
   "execution_count": null,
   "id": "5e4e873f",
   "metadata": {},
   "outputs": [],
   "source": [
    "from domolibrary.client import DomoAuth\n",
    "import domolibrary.classes.DomoCodeEngine as dmdc\n",
    "import domolibrary.utils.chunk_execution as dmce\n",
    "\n",
    "import os\n",
    "from pprint import pprint\n",
    "from dotenv import load_dotenv\n"
   ]
  },
  {
   "cell_type": "code",
   "execution_count": 8,
   "id": "aff25df7",
   "metadata": {},
   "outputs": [
    {
     "data": {
      "text/plain": [
       "{'id': 1893952720,\n",
       " 'invitorUserId': 587894148,\n",
       " 'displayName': 'Jae Wilson1',\n",
       " 'department': 'Business Improvement',\n",
       " 'userName': 'jae@onyxreporting.com',\n",
       " 'emailAddress': 'jae@datacrew.space',\n",
       " 'avatarKey': 'c605f478-0cd2-4451-9fd4-d82090b71e66',\n",
       " 'accepted': True,\n",
       " 'userType': 'USER',\n",
       " 'modified': 1744750072699,\n",
       " 'created': 1588960518,\n",
       " 'systemUser': False,\n",
       " 'anonymous': False,\n",
       " 'pending': False,\n",
       " 'active': True}"
      ]
     },
     "execution_count": 8,
     "metadata": {},
     "output_type": "execute_result"
    }
   ],
   "source": [
    "# 🔐 Load environment variables and authenticate\n",
    "assert load_dotenv('.env', override=True)\n",
    "\n",
    "PACKAGE_ID = \"0f7e7731-67ac-431c-b01d-e9ec4da59b7a\"\n",
    "\n",
    "auth = DomoAuth.DomoTokenAuth(\n",
    "    domo_access_token=os.environ['DOMO_ACCESS_TOKEN'],\n",
    "    domo_instance=os.environ['DOMO_INSTANCE']\n",
    ")\n",
    "\n",
    "(await auth.who_am_i()).response"
   ]
  },
  {
   "cell_type": "code",
   "execution_count": 9,
   "id": "6eeba882",
   "metadata": {},
   "outputs": [
    {
     "name": "stdout",
     "output_type": "stream",
     "text": [
      "DomoCodeEngine_Package(id='0f7e7731-67ac-431c-b01d-e9ec4da59b7a',\n",
      "                       name='Magic ETL Functions',\n",
      "                       description='',\n",
      "                       language='JAVASCRIPT',\n",
      "                       environment='LAMBDA',\n",
      "                       availability='PRIVATE',\n",
      "                       owner_id='68216396',\n",
      "                       created=datetime.datetime(2025, 3, 24, 20, 31, 35, 290000, tzinfo=tzutc()),\n",
      "                       last_modified=datetime.datetime(2025, 3, 25, 14, 32, 56, 484000, tzinfo=tzutc()),\n",
      "                       functions=None,\n",
      "                       current_version='1.0.2',\n",
      "                       versions=[DomoCodeEngine_PackageVersion(package_id='0f7e7731-67ac-431c-b01d-e9ec4da59b7a',\n",
      "                                                               version='1.0.0',\n",
      "                                                               language='JAVASCRIPT',\n",
      "                                                               description=None,\n",
      "                                                               createdby_id='68216396',\n",
      "                                                               released_dt=None,\n",
      "                                                               configuration={'accountsMapping': [],\n",
      "                                                                              'externalPackageMapping': {},\n",
      "                                                                              'mlModel': []},\n",
      "                                                               createdby=None,\n",
      "                                                               accounts_mapping=[],\n",
      "                                                               ml_model=[],\n",
      "                                                               functions=None),\n",
      "                                 DomoCodeEngine_PackageVersion(package_id='0f7e7731-67ac-431c-b01d-e9ec4da59b7a',\n",
      "                                                               version='1.0.1',\n",
      "                                                               language='JAVASCRIPT',\n",
      "                                                               description=None,\n",
      "                                                               createdby_id='68216396',\n",
      "                                                               released_dt=None,\n",
      "                                                               configuration={'accountsMapping': [],\n",
      "                                                                              'externalPackageMapping': {},\n",
      "                                                                              'mlModel': []},\n",
      "                                                               createdby=None,\n",
      "                                                               accounts_mapping=[],\n",
      "                                                               ml_model=[],\n",
      "                                                               functions=None),\n",
      "                                 DomoCodeEngine_PackageVersion(package_id='0f7e7731-67ac-431c-b01d-e9ec4da59b7a',\n",
      "                                                               version='1.0.2',\n",
      "                                                               language='JAVASCRIPT',\n",
      "                                                               description=None,\n",
      "                                                               createdby_id='68216396',\n",
      "                                                               released_dt=None,\n",
      "                                                               configuration={'accountsMapping': [],\n",
      "                                                                              'externalPackageMapping': {},\n",
      "                                                                              'mlModel': []},\n",
      "                                                               createdby=None,\n",
      "                                                               accounts_mapping=[],\n",
      "                                                               ml_model=[],\n",
      "                                                               functions=None)],\n",
      "                       owner=None)\n"
     ]
    }
   ],
   "source": [
    "ce_package = await dmdc.DomoCodeEngine_Package.get_by_id(package_id= PACKAGE_ID, auth = auth)\n",
    "\n",
    "pprint(ce_package)"
   ]
  },
  {
   "cell_type": "code",
   "execution_count": 11,
   "id": "1240efcd",
   "metadata": {},
   "outputs": [
    {
     "name": "stdout",
     "output_type": "stream",
     "text": [
      "DomoCodeEngine_PackageVersion(package_id='0f7e7731-67ac-431c-b01d-e9ec4da59b7a',\n",
      "                              version='1.0.2',\n",
      "                              language='JAVASCRIPT',\n",
      "                              description=None,\n",
      "                              createdby_id='68216396',\n",
      "                              released_dt=None,\n",
      "                              configuration={'accountsMapping': [],\n",
      "                                             'externalPackageMapping': {},\n",
      "                                             'mlModel': []},\n",
      "                              createdby=None,\n",
      "                              accounts_mapping=[],\n",
      "                              ml_model=[],\n",
      "                              functions=None)\n"
     ]
    }
   ],
   "source": [
    "pprint(ce_package.versions[-1])"
   ]
  },
  {
   "cell_type": "code",
   "execution_count": null,
   "id": "768c95ce",
   "metadata": {},
   "outputs": [
    {
     "data": {
      "text/plain": [
       "['const codeengine = require(\"codeengine\");\\n\\nasync function myFunction(DataflowId,GridLineVariant) {\\n\\n  const dataflowDefinition = `/api/dataprocessing/v1/dataflows/${DataflowId.toString()}`\\n\\n  const definition = await codeengine.sendRequest(\"get\", dataflowDefinition).catch(console.error);\\n\\n  definition.gui.canvases.default.canvasSettings.coarserGrid = true\\n  definition.gui.canvases.default.canvasSettings.backgroundVariant = GridLineVariant\\n  \\n  const update = await codeengine.sendRequest(\"put\", dataflowDefinition,definition).catch(console.error);\\n\\n  return update\\n}\\n\\n\\n\\n\\nmodule.exports = {myFunction};',\n",
       " 'const codeengine = require(\"codeengine\");\\n\\nasync function updateGridLines(DataflowId,GridLineVariant) {\\n  try{\\n  const dataflowDefinition = `/api/dataprocessing/v1/dataflows/${DataflowId.toString()}`\\n\\n  const definition = await codeengine.sendRequest(\"get\", dataflowDefinition).catch(console.error);\\n\\n  definition.gui.canvases.default.canvasSettings.coarserGrid = true\\n  definition.gui.canvases.default.canvasSettings.backgroundVariant = GridLineVariant\\n  \\n  const update = await codeengine.sendRequest(\"put\", dataflowDefinition,definition).catch(console.error);\\n  return update\\n  } catch(error) {\\n    console.error(\\'Error:\\', error);\\n  }\\n  \\n  \\n}\\n\\n\\n\\n\\n\\n\\nmodule.exports = {updateGridLines};',\n",
       " 'const codeengine = require(\"codeengine\");\\n\\nasync function updateGridLines(DataflowId,GridLineVariant) {\\n  try{\\n  const dataflowDefinition = `/api/dataprocessing/v1/dataflows/${DataflowId.toString()}`\\n\\n  const definition = await codeengine.sendRequest(\"get\", dataflowDefinition).catch(console.error);\\n\\n  definition.gui.canvases.default.canvasSettings.coarserGrid = true\\n  definition.gui.canvases.default.canvasSettings.backgroundVariant = GridLineVariant\\n  \\n  const update = await codeengine.sendRequest(\"put\", dataflowDefinition,definition).catch(console.error);\\n  return \"true\"\\n  } catch(error) {\\n    console.error(\\'Error:\\', error);\\n  }\\n  \\n  \\n}\\n\\n\\n\\n\\n\\n\\n\\n\\nmodule.exports = {updateGridLines};']"
      ]
     },
     "execution_count": 7,
     "metadata": {},
     "output_type": "execute_result"
    }
   ],
   "source": [
    "await dmce.gather_with_concurrency(*[version.download_source_code() for version in ce_package.versions], n = 10)"
   ]
  }
 ],
 "metadata": {
  "kernelspec": {
   "display_name": "Python 3",
   "language": "python",
   "name": "python3"
  },
  "language_info": {
   "codemirror_mode": {
    "name": "ipython",
    "version": 3
   },
   "file_extension": ".py",
   "mimetype": "text/x-python",
   "name": "python",
   "nbconvert_exporter": "python",
   "pygments_lexer": "ipython3",
   "version": "3.11.9"
  }
 },
 "nbformat": 4,
 "nbformat_minor": 5
}
