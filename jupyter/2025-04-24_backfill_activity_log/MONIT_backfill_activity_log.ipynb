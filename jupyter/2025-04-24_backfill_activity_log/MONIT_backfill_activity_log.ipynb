{
 "cells": [
  {
   "cell_type": "markdown",
   "id": "6c9ca95d",
   "metadata": {},
   "source": [
    "# 📘 Domo Activity Log Extractor\n",
    "\n",
    "This script automates the retrieval and formatting of user activity logs from a Domo instance.\n",
    "\n",
    "It supports:\n",
    "\n",
    "- Authenticating using environment-based credentials\n",
    "- Backfill logs for a specific month or across multiple months\n",
    "- Extracting useful metadata (IP address, device, browser)\n",
    "- Saving logs to CSV files for analysis or auditing\n"
   ]
  },
  {
   "cell_type": "markdown",
   "id": "83ba4ed3",
   "metadata": {},
   "source": [
    "## 📦 Package Installation\n",
    "\n",
    "This cell contains optional pip install commands for required packages. Uncomment to install them.\n"
   ]
  },
  {
   "cell_type": "code",
   "execution_count": null,
   "id": "1b681288",
   "metadata": {},
   "outputs": [],
   "source": [
    "# %pip install domolibrary --upgrade\n",
    "# %pip install python-dotenv"
   ]
  },
  {
   "cell_type": "markdown",
   "id": "264c3339",
   "metadata": {},
   "source": [
    "## ✅ Imports\n",
    "\n",
    "All necessary libraries are imported here, including those for handling authentication, datetime operations, async requests, and Domo utilities.\n"
   ]
  },
  {
   "cell_type": "code",
   "execution_count": null,
   "id": "099fea66",
   "metadata": {},
   "outputs": [],
   "source": [
    "import os\n",
    "import re\n",
    "import json\n",
    "import calendar\n",
    "import datetime as dt\n",
    "from dotenv import load_dotenv\n",
    "from dateutil.relativedelta import relativedelta\n",
    "from typing import List, Dict, Tuple\n",
    "import pandas as pd\n",
    "import httpx\n",
    "\n",
    "from domolibrary.client import DomoAuth, get_data, DomoError\n",
    "from domolibrary.client import ResponseGetData as rgd\n",
    "from domolibrary.utils import convert as dmcv, chunk_execution as dmce\n"
   ]
  },
  {
   "cell_type": "markdown",
   "id": "08695b41",
   "metadata": {},
   "source": [
    "# 🔐 Environment Setup and Authentication\n",
    "\n",
    "Loads environment variables and sets up Domo token-based authentication.\n"
   ]
  },
  {
   "cell_type": "code",
   "execution_count": null,
   "id": "a31dfb4c",
   "metadata": {},
   "outputs": [],
   "source": [
    "# 🔐 Load environment variables and authenticate\n",
    "assert load_dotenv('.env', override=True)\n",
    "\n",
    "auth = DomoAuth.DomoTokenAuth(\n",
    "    domo_access_token=os.environ['DOMO_ACCESS_TOKEN'],\n",
    "    domo_instance=os.environ['DOMO_INSTANCE']\n",
    ")\n",
    "\n",
    "(await auth.who_am_i()).response"
   ]
  },
  {
   "cell_type": "markdown",
   "id": "d9c09a05",
   "metadata": {},
   "source": [
    "## 🧹 Format Log Rows\n",
    "\n",
    "Helper function that parses raw log entries and extracts structured data such as IP addresses, devices, and browser details.\n"
   ]
  },
  {
   "cell_type": "code",
   "execution_count": null,
   "id": "75d490a9",
   "metadata": {},
   "outputs": [],
   "source": [
    "# 🧹 Format a single activity log row\n",
    "# functions are declared inside the function to group them all together.\n",
    "\n",
    "def format_activity_log_row(row: dict, domo_instance: str) -> dict:\n",
    "    \"\"\"Extracts and formats relevant fields from a single log row.\"\"\"\n",
    "    def get_ip(additional_comment) -> str:\n",
    "        return additional_comment.split(\"IP address \")[-1].split()[0][:-1] if \"IP address \" in additional_comment else \"\"\n",
    "    \n",
    "    def get_device(additional_comment) -> str: \n",
    "        match = re.search(r\"from (.*?) device.\", additional_comment)\n",
    "        return match.group(1).split(\" \")[-1].strip() if match else \"\"\n",
    "    \n",
    "    def get_browser(additional_comment)-> str: \n",
    "        return additional_comment.split(\"Device app: \")[-1].strip()[:-1] if \"Device app: \" in additional_comment else \"\"\n",
    "\n",
    "    return {\n",
    "        \"Customer\": f\"{domo_instance}.domo.com\",\n",
    "        \"User Id\": row.get(\"userId\", \"\"),\n",
    "        \"Type\": row.get(\"userType\", \"\"),\n",
    "        \"Source Id\": str(row.get(\"userId\", \"\")),\n",
    "        \"Name\": row.get(\"userName\", \"\"),\n",
    "        \"Action\": row.get(\"actionType\", \"\"),\n",
    "        \"Object Type\": row.get(\"objectType\", \"\"),\n",
    "        \"Object Id\": row.get(\"objectId\", \"\"),\n",
    "        \"Object Name\": row.get(\"objectName\", \"\"),\n",
    "        \"IP Address\": get_ip(row.get(\"additionalComment\", \"\")),\n",
    "        \"Event Time\": dmcv.convert_epoch_millisecond_to_datetime(row['time']).isoformat(),\n",
    "        \"Device\": get_device(row.get(\"additionalComment\", \"\")),\n",
    "        \"Browser Details\": get_browser(row.get(\"additionalComment\", \"\")),\n",
    "        \"Event Id\": \"-1\",\n",
    "        \"Client Id\": str(row.get(\"clientId\", \"\")) if row.get(\"clientId\") is not None else \"\",\n",
    "        \"Terminus\": \"-1\"\n",
    "    }\n",
    "\n",
    "def format_activity_log_response(response: rgd.ResponseGetData) -> List[Dict]:\n",
    "    \"\"\"Formats the entire response from an activity log API call.\"\"\"\n",
    "    return [format_activity_log_row(row, response.auth.domo_instance) for row in response.response]"
   ]
  },
  {
   "cell_type": "markdown",
   "id": "cc5ae53f",
   "metadata": {},
   "source": [
    "## 📆 Month Range Utility\n",
    "\n",
    "Returns the start and end of the month for a given offset in months from the current date.\n"
   ]
  },
  {
   "cell_type": "code",
   "execution_count": null,
   "id": "ccb1a01d",
   "metadata": {},
   "outputs": [],
   "source": [
    "# 📆 Compute start and end datetime for a month lag\n",
    "def get_month_range(months_ago: int) -> Tuple[dt.datetime, dt.datetime]:\n",
    "    \"\"\"\n",
    "    Returns start and end datetime for the month 'months_ago' in the past.\n",
    "    \n",
    "    Args:\n",
    "        months_ago (int): Number of months to go back\n",
    "    \n",
    "    Returns:\n",
    "        Tuple[datetime, datetime]: Start and end datetime of the month\n",
    "    \"\"\"\n",
    "    today = dt.datetime.now()\n",
    "    start = dt.datetime(today.year, today.month, 1) - relativedelta(months=months_ago)\n",
    "    end_day = calendar.monthrange(start.year, start.month)[1]\n",
    "    end = dt.datetime(start.year, start.month, end_day, 23, 59, 59)\n",
    "    return start, end"
   ]
  },
  {
   "cell_type": "markdown",
   "id": "de302463",
   "metadata": {},
   "source": [
    "## 🔍 Fetch Activity Logs\n",
    "\n",
    "Queries the Domo audit API to retrieve activity log entries for a specified date range, using async HTTP calls.\n"
   ]
  },
  {
   "cell_type": "code",
   "execution_count": null,
   "id": "916611ca",
   "metadata": {},
   "outputs": [],
   "source": [
    "# 🔍 Fetch user activity logs from Domo\n",
    "async def fetch_activity_logs(auth: DomoAuth.DomoAuth, start: int, end: int, limit: int = 1000,\n",
    "                              max_records: int = None, object_type: str = None, debug: bool = False) -> rgd.ResponseGetData:\n",
    "    \"\"\"\n",
    "    Queries Domo API for user activity logs in a given time range.\n",
    "\n",
    "    Args:\n",
    "        auth (DomoAuth): Auth object\n",
    "        start (int): Start time in epoch milliseconds\n",
    "        end (int): End time in epoch milliseconds\n",
    "        limit (int): Max records per request\n",
    "        max_records (int): Overall record cap\n",
    "        object_type (str): Specific object type to query\n",
    "        debug (bool): Enable debug output\n",
    "    \n",
    "    Returns:\n",
    "        ResponseGetData: API response object\n",
    "    \"\"\"\n",
    "    session = httpx.AsyncClient()\n",
    "    url = f\"https://{auth.domo_instance}.domo.com/api/audit/v1/user-audits\"\n",
    "    if object_type and object_type != \"ACTIVITY_LOG\":\n",
    "        url += f\"/objectTypes/{object_type}\"\n",
    "    \n",
    "    response = await get_data.looper(\n",
    "        auth=auth,\n",
    "        method=\"GET\",\n",
    "        url=url,\n",
    "        arr_fn=lambda res: res.response,\n",
    "        fixed_params={\"start\": start, \"end\": end},\n",
    "        offset_params={\"offset\": \"offset\", \"limit\": \"limit\"},\n",
    "        session=session,\n",
    "        limit=limit,\n",
    "        maximum=max_records,\n",
    "        debug_loop=debug,\n",
    "        debug_api=debug\n",
    "    )\n",
    "\n",
    "    if not response.is_success:\n",
    "        raise DomoError.RouteError(response)\n",
    "\n",
    "    await session.aclose()\n",
    "    return response"
   ]
  },
  {
   "cell_type": "markdown",
   "id": "6b2bab09",
   "metadata": {},
   "source": [
    "## 🛠 Extract and Backfill Logs\n",
    "\n",
    "High-level functions that:\n",
    "\n",
    "- Retrieve logs for a specific month (based on a lag)\n",
    "- Backfill multiple months' worth of logs\n",
    "- Save results to local CSV files\n"
   ]
  },
  {
   "cell_type": "code",
   "execution_count": null,
   "id": "4d21226a",
   "metadata": {},
   "outputs": [],
   "source": [
    "# 🛠 Extract activity logs for a specific month or backfill period\n",
    "async def extract_logs_for_month(auth: DomoAuth.DomoAuth, months_ago: int, output_dir: str = './EXPORT') -> List[dict]:\n",
    "    \"\"\"\n",
    "    Fetches and stores logs for the month 'months_ago' ago.\n",
    "    \n",
    "    Args:\n",
    "        auth (DomoAuth): Auth object\n",
    "        months_ago (int): Lag in months\n",
    "        output_dir (str): Directory to save results\n",
    "    \n",
    "    Returns:\n",
    "        List[dict]: Formatted activity log entries\n",
    "    \"\"\"\n",
    "    start, end = get_month_range(months_ago)\n",
    "    partition = f\"{end.strftime('%y-%m')} - {auth.domo_instance}\"\n",
    "    start_ms = dmcv.convert_datetime_to_epoch_millisecond(start)\n",
    "    end_ms = dmcv.convert_datetime_to_epoch_millisecond(end)\n",
    "\n",
    "    try:\n",
    "        raw = await fetch_activity_logs(auth, start=start_ms, end=end_ms)\n",
    "        formatted = format_activity_log_response(raw)\n",
    "    except DomoError.DomoError as e:\n",
    "        print(e)\n",
    "        return []\n",
    "\n",
    "    os.makedirs(output_dir, exist_ok=True)\n",
    "    with open(os.path.join(output_dir, f\"{partition.replace(' ', '')}.csv\"), 'w', encoding='utf-8') as f:\n",
    "        f.write(json.dumps(formatted))\n",
    "\n",
    "    print(f\"✅ Done retrieving logs for {partition}\")\n",
    "    return formatted\n",
    "\n",
    "async def backfill_logs(auth: DomoAuth.DomoAuth, months: int) -> List[dict]:\n",
    "    \"\"\"\n",
    "    Fetches and saves logs for the past 'months' months.\n",
    "    \n",
    "    Args:\n",
    "        auth (DomoAuth): Auth object\n",
    "        months (int): Number of months to backfill\n",
    "    \n",
    "    Returns:\n",
    "        List[dict]: Combined activity logs\n",
    "    \"\"\"\n",
    "    results = await dmce.gather_with_concurrency(\n",
    "        *[extract_logs_for_month(auth, m) for m in range(months)],\n",
    "        n=1\n",
    "    )\n",
    "    return [entry for res in results for entry in res if res]"
   ]
  },
  {
   "cell_type": "code",
   "execution_count": null,
   "id": "dc8f2c60",
   "metadata": {},
   "outputs": [],
   "source": [
    "# ▶️ Run Backfill\n",
    "results = await backfill_logs(auth, months=1)\n",
    "pd.DataFrame(results[:10])"
   ]
  }
 ],
 "metadata": {
  "kernelspec": {
   "display_name": "Python 3",
   "language": "python",
   "name": "python3"
  },
  "language_info": {
   "codemirror_mode": {
    "name": "ipython",
    "version": 3
   },
   "file_extension": ".py",
   "mimetype": "text/x-python",
   "name": "python",
   "nbconvert_exporter": "python",
   "pygments_lexer": "ipython3",
   "version": "3.11.9"
  }
 },
 "nbformat": 4,
 "nbformat_minor": 5
}
