{
 "cells": [
  {
   "cell_type": "raw",
   "id": "12a341d2",
   "metadata": {},
   "source": [
    "---\n",
    "title: Tutorial Delete Duplicate Groups with Python\n",
    "output-file: delete_duplicate_groups.html\n",
    "author: [Jae Wilson]\n",
    "date: 2023-12-18\n",
    "categories: ['Python', 'DomoJupyter', 'DomoGroup']\n",
    "skip_showdoc: false\n",
    "---\n"
   ]
  },
  {
   "cell_type": "markdown",
   "id": "8df42fc6-a641-4a1b-bb56-d8c48da2eeda",
   "metadata": {},
   "source": [
    "# DELETE Duplicate Groups\n",
    "\n",
    "sometimes you have duplicate groups and want to remove all groups that match a regex expression.\n",
    "\n",
    "1. get all groups from an instance\n",
    "2. use list comprehension and the `ACCOUNT_MATCH` to find groups whose name matches any of the account_match criteria\n",
    "\n",
    "3. write a function that receives a parameter is_test : bool = True\n",
    "   - if is_test == True return a pd.DataFrame of accounts to be deleted\n",
    "   - if is_test == False delete the groups\n",
    "\n",
    "use this class\n",
    "https://github.com/jaewilson07/domo_library/blob/main/nbs/classes/50_DomoGroup.ipynb\n",
    "\n",
    "tutorial walthrough\n",
    "https://youtu.be/1EQJ1R5fiGQ\n"
   ]
  },
  {
   "cell_type": "code",
   "execution_count": null,
   "id": "87a36c0e-1645-43e9-81e7-a0a1abe405fa",
   "metadata": {},
   "outputs": [],
   "source": [
    "# %pip install --upgrade  domolibrary"
   ]
  },
  {
   "cell_type": "code",
   "execution_count": null,
   "id": "3635d762-6e04-4ca4-9f66-7b16252555bc",
   "metadata": {},
   "outputs": [
    {
     "data": {
      "text/plain": [
       "'0.3.42'"
      ]
     },
     "execution_count": null,
     "metadata": {},
     "output_type": "execute_result"
    }
   ],
   "source": [
    "import domolibrary\n",
    "\n",
    "domolibrary.__version__"
   ]
  },
  {
   "cell_type": "markdown",
   "id": "377efe9e-0917-41e7-ba9a-ca8fda8d04a9",
   "metadata": {},
   "source": [
    "# CONFIG ENV and CREDENTIALS\n"
   ]
  },
  {
   "cell_type": "markdown",
   "id": "29f817c4-9c1b-4ba8-a4b3-d80efc53f6b1",
   "metadata": {},
   "source": [
    "## handle regex\n"
   ]
  },
  {
   "cell_type": "code",
   "execution_count": null,
   "id": "529bbe87-ae4d-4835-99fc-4b19b3fe3046",
   "metadata": {},
   "outputs": [],
   "source": [
    "import os\n",
    "import urllib.parse as urllib_parse\n",
    "\n",
    "# execution_instance = urllib_parse.urlparse(os.environ.get('DOMO_HOSTNAME')).netloc.replace('.domo.com', '')\n",
    "# config_instance = execution_instance\n",
    "\n",
    "ACCOUNT_MATCH = [r\"^sdk_.* \\(.*\"]\n",
    "\n",
    "TEST_INSTANCE = \"domo-community\"\n",
    "\n",
    "test_values = [\n",
    "    \"sdk_alphabet (3)\",\n",
    "    \"sdk_hello_duplicate (4)\",\n",
    "    \"sdk_group_2\",\n",
    "    \"sdk_group_1\",\n",
    "]"
   ]
  },
  {
   "cell_type": "code",
   "execution_count": null,
   "id": "11f853d7-de40-4403-b0d6-27bc5945736d",
   "metadata": {},
   "outputs": [
    {
     "name": "stdout",
     "output_type": "stream",
     "text": [
      "name 'test_row' is not defined\n"
     ]
    }
   ],
   "source": [
    "# setup test\n",
    "import domolibrary.classes.DomoGroup as dmg\n",
    "import domolibrary.utils.chunk_execution as ce\n",
    "\n",
    "try:\n",
    "    await ce.gather_with_concurrency(\n",
    "        *[\n",
    "            dmg.DomoGroup.create_from_name(\n",
    "                group_name=value, auth=test_row.instance_auth\n",
    "            )\n",
    "            for value in test_values\n",
    "        ],\n",
    "        n=10\n",
    "    )\n",
    "\n",
    "except Exception as e:\n",
    "    print(e)"
   ]
  },
  {
   "cell_type": "code",
   "execution_count": null,
   "id": "572b0e2f-dd67-4184-815e-3c9ae1679895",
   "metadata": {},
   "outputs": [
    {
     "data": {
      "text/plain": [
       "[True, True, False, False]"
      ]
     },
     "execution_count": null,
     "metadata": {},
     "output_type": "execute_result"
    }
   ],
   "source": [
    "# Check if string matches regex list\n",
    "# Using join regex + loop + re.match()\n",
    "import re\n",
    "from typing import List\n",
    "\n",
    "\n",
    "def test_regex(text_str: str, regex_ls: List[str]) -> bool:\n",
    "    regex = \"(?:% s)\" % \"|\".join(regex_ls)\n",
    "\n",
    "    return bool(re.match(regex, text_str))\n",
    "\n",
    "\n",
    "[test_regex(test_value, ACCOUNT_MATCH) for test_value in test_values]"
   ]
  },
  {
   "cell_type": "markdown",
   "id": "31b0e376-eb2c-4ca0-9750-8238fc492522",
   "metadata": {},
   "source": [
    "## ⚙️ Auth Objects\n"
   ]
  },
  {
   "cell_type": "code",
   "execution_count": null,
   "id": "50ca43c7-6ba0-4219-be47-0238a74532fb",
   "metadata": {},
   "outputs": [],
   "source": [
    "# !pip install python-dotenv"
   ]
  },
  {
   "cell_type": "markdown",
   "id": "3486b688-608c-4ab3-a5f5-1bfa3d7665db",
   "metadata": {},
   "source": [
    "# AUTH\n",
    "\n",
    "- DO NOT STORE YOUR PASSWORD IN CLEAR TEXT I WILL SCREENSHOT IT AND POST IT ON THE INTERNET.\n",
    "- STORE IT IN A DOTENV FILE (dotenv library)\n",
    "- in the example below we are looking for a file called env.txt\n",
    "\n",
    "env files should be in the format\n",
    "\n",
    "DOMO_USERNAME = nate@domo.com\n",
    "\n",
    "DOMO_PASSWORD = NATES_PASSWORD\n"
   ]
  },
  {
   "cell_type": "code",
   "execution_count": null,
   "id": "a29af4c1-9688-46a4-8ab5-22f862c8f624",
   "metadata": {},
   "outputs": [],
   "source": [
    "# from dotenv import load_dotenv\n",
    "import os\n",
    "\n",
    "domo_username = \"jae@onyxreporting.com\"\n",
    "domo_password = None\n",
    "domo_instance = TEST_INSTANCE\n",
    "\n",
    "try:\n",
    "    domo_password = os.environ[\"DOJO_PASSWORD\"]\n",
    "\n",
    "except exception as e:\n",
    "    print(e)"
   ]
  },
  {
   "cell_type": "code",
   "execution_count": null,
   "id": "9032f7c3-7ae6-4dc5-9d1c-b9210da44da1",
   "metadata": {},
   "outputs": [
    {
     "name": "stdout",
     "output_type": "stream",
     "text": [
      "🎉 full_auth token retrieved from domo-community ⚙️\n"
     ]
    },
    {
     "data": {
      "text/plain": [
       "True"
      ]
     },
     "execution_count": null,
     "metadata": {},
     "output_type": "execute_result"
    }
   ],
   "source": [
    "import domolibrary.client.DomoAuth as dmda\n",
    "\n",
    "# do not alter this cell\n",
    "\n",
    "instance_auth = dmda.DomoFullAuth(\n",
    "    domo_username=domo_username,\n",
    "    domo_password=domo_password,\n",
    "    domo_instance=domo_instance,\n",
    ")\n",
    "\n",
    "# this will test if you have valid credentails at TEST_INSTANCE\n",
    "# if you don't ask me for access\n",
    "await instance_auth.print_is_token()"
   ]
  },
  {
   "cell_type": "markdown",
   "id": "95677b9b-6635-478b-9f2e-1f60efe6821b",
   "metadata": {},
   "source": [
    "# GENERATE `config_company_ls`\n",
    "\n",
    "- in production code we extract credentials from domo account objects and then generate auth objects using a fancy script.\n",
    "- `config_company_ls` is always a dataframe containing \"a list of instances to operate on\" with parameters like \"is_use_prod_credentials\" or \"is_configure_allowlist\"\n",
    "\n",
    "for development purposes we always exctract a test_row from `config_company_ls` because why not execute directly against prod environments!\n"
   ]
  },
  {
   "cell_type": "code",
   "execution_count": null,
   "id": "bcc9dad8-f36e-4865-8ac8-4f00be81d0b1",
   "metadata": {},
   "outputs": [
    {
     "data": {
      "text/plain": [
       "instance_auth    DomoFullAuth(domo_instance='domo-community', d...\n",
       "domo_instance                                       domo-community\n",
       "is_test                                                       True\n",
       "Name: 0, dtype: object"
      ]
     },
     "execution_count": null,
     "metadata": {},
     "output_type": "execute_result"
    }
   ],
   "source": [
    "# do not alter this cell\n",
    "\n",
    "import pandas as pd\n",
    "\n",
    "config_company_ls = pd.DataFrame(\n",
    "    [{\"instance_auth\": instance_auth, \"domo_instance\": TEST_INSTANCE, \"is_test\": True}]\n",
    ")\n",
    "\n",
    "test_row = next((row for index, row in config_company_ls.iterrows()))\n",
    "test_row"
   ]
  },
  {
   "cell_type": "markdown",
   "id": "9dc4cd50-84c1-4870-b12d-d7eb827a8d66",
   "metadata": {},
   "source": [
    "# CONFIG FUNCTIONS\n",
    "\n",
    "implement functions here.\n",
    "\n",
    "- write them in a test-able way so that you can test each function independently.\n",
    "- in the function definition make sure to include input type and the return type.\n",
    "- include a test using test_row\n",
    "- the last function should be called process_company() and receive a DomoAuth object.\n",
    "\n",
    "notice, most of your functions will be async functions (implying they can be run asynchronously\n",
    "\n",
    "All async functions must be await-ed\n"
   ]
  },
  {
   "cell_type": "code",
   "execution_count": null,
   "id": "d2503388-f3b0-4347-8786-0fdfcfe7417a",
   "metadata": {},
   "outputs": [
    {
     "data": {
      "text/plain": [
       "[DomoGroup(id=419947083, name='sdk_alphabet (3)', type='open', description=None, custom_attributes={}),\n",
       " DomoGroup(id=1169232545, name='sdk_hello_duplicate (4)', type='open', description=None, custom_attributes={})]"
      ]
     },
     "execution_count": null,
     "metadata": {},
     "output_type": "execute_result"
    }
   ],
   "source": [
    "import domolibrary.classes.DomoGroup as dmg\n",
    "from typing import List\n",
    "\n",
    "\n",
    "async def get_and_filter_domo_groups(\n",
    "    auth: dmda.DomoAuth,\n",
    "    regex_ls: List[str],\n",
    ") -> List[dmg.DomoGroup]:\n",
    "    domo_groups = await dmg.DomoGroups.get_all_groups(auth=auth)\n",
    "\n",
    "    domo_groups = [\n",
    "        domo_group\n",
    "        for domo_group in domo_groups\n",
    "        if test_regex(text_str=domo_group.name, regex_ls=regex_ls)\n",
    "    ]\n",
    "    return domo_groups\n",
    "\n",
    "\n",
    "await get_and_filter_domo_groups(auth=test_row.instance_auth, regex_ls=ACCOUNT_MATCH)"
   ]
  },
  {
   "cell_type": "code",
   "execution_count": null,
   "id": "1bd9ebb2-ca79-4817-8eb3-d9cc3d15ca8e",
   "metadata": {},
   "outputs": [
    {
     "name": "stdout",
     "output_type": "stream",
     "text": [
      "🛑  Group_CRUD_Error 🛑 - function: create_group || status 400 || sdk_alphabet (3) already exists. Choose a different group_name at domo-community\n"
     ]
    },
    {
     "data": {
      "text/html": [
       "<div>\n",
       "<style scoped>\n",
       "    .dataframe tbody tr th:only-of-type {\n",
       "        vertical-align: middle;\n",
       "    }\n",
       "\n",
       "    .dataframe tbody tr th {\n",
       "        vertical-align: top;\n",
       "    }\n",
       "\n",
       "    .dataframe thead th {\n",
       "        text-align: right;\n",
       "    }\n",
       "</style>\n",
       "<table border=\"1\" class=\"dataframe\">\n",
       "  <thead>\n",
       "    <tr style=\"text-align: right;\">\n",
       "      <th></th>\n",
       "      <th>group_name</th>\n",
       "      <th>group_type</th>\n",
       "      <th>domo_instance</th>\n",
       "      <th>is_deleted</th>\n",
       "    </tr>\n",
       "  </thead>\n",
       "  <tbody>\n",
       "    <tr>\n",
       "      <th>0</th>\n",
       "      <td>sdk_alphabet (3)</td>\n",
       "      <td>open</td>\n",
       "      <td>domo-community</td>\n",
       "      <td>deleted 419947083 from domo-community</td>\n",
       "    </tr>\n",
       "    <tr>\n",
       "      <th>1</th>\n",
       "      <td>sdk_hello_duplicate (4)</td>\n",
       "      <td>open</td>\n",
       "      <td>domo-community</td>\n",
       "      <td>deleted 1169232545 from domo-community</td>\n",
       "    </tr>\n",
       "  </tbody>\n",
       "</table>\n",
       "</div>"
      ],
      "text/plain": [
       "                group_name group_type   domo_instance  \\\n",
       "0         sdk_alphabet (3)       open  domo-community   \n",
       "1  sdk_hello_duplicate (4)       open  domo-community   \n",
       "\n",
       "                               is_deleted  \n",
       "0   deleted 419947083 from domo-community  \n",
       "1  deleted 1169232545 from domo-community  "
      ]
     },
     "execution_count": null,
     "metadata": {},
     "output_type": "execute_result"
    }
   ],
   "source": [
    "import domolibrary.utils.chunk_execution as ce\n",
    "\n",
    "\n",
    "async def process_instance(\n",
    "    instance_auth: dmda.DomoAuth,\n",
    "    domo_instance: str,\n",
    "    regex_ls: List[str],\n",
    "    is_test: bool = True,\n",
    ") -> pd.DataFrame:\n",
    "    domo_groups = await get_and_filter_domo_groups(\n",
    "        auth=instance_auth, regex_ls=regex_ls\n",
    "    )\n",
    "\n",
    "    df = pd.DataFrame(columns=[\"group_name\", \"group_type\", \"domo_instance\"])\n",
    "\n",
    "    if len(domo_groups) == 0:\n",
    "        return df\n",
    "\n",
    "    df = pd.DataFrame(\n",
    "        [\n",
    "            {\n",
    "                \"group_name\": domo_group.name,\n",
    "                \"group_type\": domo_group.type,\n",
    "                \"domo_instance\": domo_group.auth.domo_instance,\n",
    "            }\n",
    "            for domo_group in domo_groups\n",
    "        ]\n",
    "    )\n",
    "\n",
    "    if is_test:\n",
    "        return df\n",
    "\n",
    "    try:\n",
    "        res_ls = await ce.gather_with_concurrency(\n",
    "            *[domo_group.delete() for domo_group in domo_groups], n=10\n",
    "        )\n",
    "\n",
    "        df[\"is_deleted\"] = [res.response for res in res_ls]\n",
    "\n",
    "        return df\n",
    "    except dmg.Group_CRUD_Error as e:\n",
    "        print(e)\n",
    "        return None\n",
    "\n",
    "\n",
    "try:\n",
    "    await ce.gather_with_concurrency(\n",
    "        *[\n",
    "            dmg.DomoGroup.create_from_name(\n",
    "                group_name=value, auth=test_row.instance_auth\n",
    "            )\n",
    "            for value in test_values\n",
    "        ],\n",
    "        n=10\n",
    "    )\n",
    "except Exception as e:\n",
    "    print(e)\n",
    "\n",
    "await process_instance(\n",
    "    instance_auth=test_row.instance_auth,\n",
    "    domo_instance=test_row.domo_instance,\n",
    "    is_test=False,\n",
    "    regex_ls=ACCOUNT_MATCH,\n",
    ")"
   ]
  },
  {
   "cell_type": "markdown",
   "id": "ceeaf21d-19e2-4102-bce3-65743ca179b6",
   "metadata": {},
   "source": [
    "# MAIN\n",
    "\n",
    "main wil loop over a dataframe, `config_company_ls` where each row has a valid instance_auth (the admin login credentials).\n",
    "\n",
    "some scripts have special configuration settings which would be extracted from the row ex `is_configure_allowlist` or `is_enable_social_users`.\n",
    "\n",
    "you should not need to alter main.\n"
   ]
  },
  {
   "cell_type": "code",
   "execution_count": null,
   "id": "2a64b1ec-ddcb-408d-9ae9-a4efa2f8d5df",
   "metadata": {},
   "outputs": [],
   "source": [
    "# do not alter this code block\n",
    "\n",
    "import domolibrary.utils.chunk_execution as ce\n",
    "\n",
    "\n",
    "async def main(\n",
    "    regex_ls: List[str],  # list of regex expressions to match\n",
    "    is_test: bool = True,\n",
    "):\n",
    "    df_ls = await ce.gather_with_concurrency(\n",
    "        *[\n",
    "            process_instance(\n",
    "                instance_auth=row.instance_auth,\n",
    "                domo_instance=row.domo_instance,\n",
    "                is_test=is_test,\n",
    "                regex_ls=regex_ls,\n",
    "            )\n",
    "            for index, row in config_company_ls.iterrows()\n",
    "        ],\n",
    "        n=10\n",
    "    )\n",
    "\n",
    "    return pd.concat(df_ls)"
   ]
  },
  {
   "cell_type": "code",
   "execution_count": null,
   "id": "9ed3cd71-faff-4585-9b14-de31b90bfe0b",
   "metadata": {},
   "outputs": [
    {
     "name": "stdout",
     "output_type": "stream",
     "text": [
      "toggling group visiblity in domo-community show system groups\n",
      "toggling group visiblity in domo-community show system groups\n",
      "🛑  Group_CRUD_Error 🛑 - function: create_group || status 400 || sdk_group_1 already exists. Choose a different group_name at domo-community\n"
     ]
    },
    {
     "name": "stdout",
     "output_type": "stream",
     "text": [
      "toggling group visiblity in domo-community hiding system groups\n",
      "toggling group visiblity in domo-community hiding system groups\n"
     ]
    }
   ],
   "source": [
    "try:\n",
    "    await ce.gather_with_concurrency(\n",
    "        *[\n",
    "            dmg.DomoGroup.create_from_name(\n",
    "                group_name=value, auth=test_row.instance_auth\n",
    "            )\n",
    "            for value in test_values\n",
    "        ],\n",
    "        n=10\n",
    "    )\n",
    "\n",
    "    await main(is_test=False, regex_ls=ACCOUNT_MATCH)\n",
    "\n",
    "except Exception as e:\n",
    "    print(e)"
   ]
  }
 ],
 "metadata": {
  "kernelspec": {
   "display_name": "python3",
   "language": "python",
   "name": "python3"
  }
 },
 "nbformat": 4,
 "nbformat_minor": 5
}
