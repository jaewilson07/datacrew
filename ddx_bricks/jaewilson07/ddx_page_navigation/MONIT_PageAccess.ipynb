{
 "cells": [
  {
   "cell_type": "code",
   "execution_count": 1,
   "id": "00f5ceab-ad41-4b16-b2e7-2b751b6f111f",
   "metadata": {},
   "outputs": [],
   "source": [
    "# pip install domolibrary --upgrade"
   ]
  },
  {
   "cell_type": "markdown",
   "id": "3ee2e8d5-02ea-4394-80d4-8cfb9fd07a80",
   "metadata": {
    "tags": []
   },
   "source": [
    "# MONIT_PageAccess\n",
    "\n",
    "## CONFIG\n",
    "\n",
    "set up authentication.  note this script will use your permission.  if you do not have \"manage all pages\", it will only show content you have permission to see"
   ]
  },
  {
   "cell_type": "code",
   "execution_count": 8,
   "id": "4b3d55cb-7a79-498b-990d-5357e3c87790",
   "metadata": {},
   "outputs": [],
   "source": [
    "import domojupyter as dj\n",
    "import domolibrary.client.DomoAuth as dmda\n",
    "import json\n",
    "\n",
    "env = json.loads(dj.get_account_property_value('domo_creds', 'credentials'))\n",
    "\n",
    "auth =dmda.DomoFullAuth(domo_instance = 'domo-community', \n",
    "                  domo_username = env['domo_username'], ## replace this with your username\n",
    "                  domo_password = env['domo_password'] ## replace this with your password\n",
    "                 )\n",
    "await auth.get_auth_token()\n",
    "\n",
    "## validates that the creds you provided authenticate\n",
    "assert auth.token"
   ]
  },
  {
   "cell_type": "code",
   "execution_count": 3,
   "id": "fd393295-4935-4f73-af8e-6d94ec5d24dd",
   "metadata": {},
   "outputs": [],
   "source": [
    "import domolibrary.classes.DomoPage as dmp\n",
    "import domolibrary.classes.DomoUser as dmu\n",
    "import domolibrary.classes.DomoGroup as dmg\n",
    "\n",
    "async def process_page(domo_page :dmp.DomoPage, user_ls: [dmu.DomoUser], group_ls: [dmg.DomoGroup], auth ):\n",
    "    \n",
    "    ## get parent page info\n",
    "    parent_page = None\n",
    "    top_page = None\n",
    "    \n",
    "    if domo_page.parent_page_id:\n",
    "        parent_page = await dmp.DomoPage.get_by_id(page_id = domo_page.parent_page_id, auth = auth)\n",
    "    \n",
    "    if domo_page.top_page_id:\n",
    "        top_page = await dmp.DomoPage.get_by_id(page_id = domo_page.top_page_id, auth = auth)\n",
    "    \n",
    "    ## get group membership (users) for each group a page is shared with\n",
    "    if group_ls:\n",
    "        await asyncio.gather(*[ group.Membership.get_members()for group in group_ls])\n",
    "    \n",
    "    ## structure data for the dataframe\n",
    "    group_members_ls = [{'user' : user.email_address, 'group_name': group.name} for group in group_ls for user in group.members_ls if user]\n",
    "\n",
    "    ## granularity is one row per user per group.  reduce this to one row per user and concat the groups\n",
    "    if group_members_ls:\n",
    "        df = pd.DataFrame(group_members_ls)\n",
    "        df = df.groupby(['user'])['group_name'].apply(', '.join).reset_index()\n",
    "        group_members_ls = df.to_dict('records')\n",
    "\n",
    "    # prepare response object\n",
    "    res= {\n",
    "        'domo_instance': auth.domo_instance,\n",
    "        'page_id' : domo_page.id,\n",
    "        'page_title': domo_page.title,\n",
    "        'parent_page_id': parent_page.id if parent_page else None,\n",
    "        'parent_page_title': parent_page.title if parent_page else None,\n",
    "        'top_page_id' : top_page.id if top_page else None,\n",
    "        'top_page_title' : top_page.title if top_page else None,\n",
    "    }\n",
    "    \n",
    "    # merge user list with groups they are a member of and res object\n",
    "    return [ { **res,\n",
    "       'user_id': user.id,\n",
    "        'user_email' : user.email_address,\n",
    "              # 'role_id': user.role_id,\n",
    "       'group_name': next((group.get('group_name') for group in group_members_ls if group.get('user') == user.email_address), None)\n",
    "      } for user in user_ls] if user_ls else [res]\n"
   ]
  },
  {
   "cell_type": "code",
   "execution_count": 16,
   "id": "6ee5f319-8648-45b1-96a7-6fae016e5c28",
   "metadata": {},
   "outputs": [
    {
     "data": {
      "text/plain": [
       "[DomoPage(id=1316566624, title='20210623_TRAINING_DomoStats Activity Log App', parent_page_id=127044793, top_page_id=522373865, owners=[], cards=[], collections=None, children=[], is_locked=False, layout=None),\n",
       " DomoPage(id=384424178, title='75th Percentile Test', parent_page_id=None, top_page_id=None, owners=[], cards=[], collections=None, children=[], is_locked=False, layout=None),\n",
       " DomoPage(id=1917664953, title='A', parent_page_id=1603030697, top_page_id=2054898013, owners=[], cards=[], collections=None, children=[], is_locked=False, layout=None),\n",
       " DomoPage(id=1113451501, title='Aditya Jain Dev', parent_page_id=None, top_page_id=None, owners=[], cards=[], collections=None, children=[], is_locked=True, layout=None),\n",
       " DomoPage(id=1760351050, title='Adoption Example', parent_page_id=1363798332, top_page_id=307648701, owners=[], cards=[], collections=None, children=[], is_locked=False, layout=None)]"
      ]
     },
     "execution_count": 16,
     "metadata": {},
     "output_type": "execute_result"
    }
   ],
   "source": [
    "import httpx\n",
    "\n",
    "instance_session = httpx.AsyncClient()\n",
    "\n",
    "domo_pages = await dmp.DomoPages.get_pages(auth = auth, \n",
    "                                           debug_api = True, \n",
    "                                           session = instance_session)\n",
    "\n",
    "## gets all pages from your instance that you have access to\n",
    "domo_pages[0:5]"
   ]
  },
  {
   "cell_type": "code",
   "execution_count": 5,
   "id": "19a4b4b9-91a8-4846-85dd-fed8ae467d94",
   "metadata": {},
   "outputs": [
    {
     "name": "stdout",
     "output_type": "stream",
     "text": [
      "{'id': '1316566624', 'type': 'page'}\n",
      "\n",
      "\n"
     ]
    },
    {
     "data": {
      "text/plain": [
       "[DomoUser(id='1216550715', title=None, department=None, display_name='8:26 - go to sleep', email_address='test4@domo.com', role_id=2, phone_number=None, web_landing_page=None, web_mobile_landing_page=None, employee_id=None, employee_number=None, hire_date=None, reports_to=None, publisher_domain=None, subscriber_domain=None, virtual_user_id=None),\n",
       " DomoUser(id='128618865', title=None, department=None, display_name='9:02 - no really go to bed', email_address='test6@domo.com', role_id=2, phone_number=None, web_landing_page=None, web_mobile_landing_page=None, employee_id=None, employee_number=None, hire_date=None, reports_to=None, publisher_domain=None, subscriber_domain=None, virtual_user_id=None),\n",
       " DomoUser(id='1628021317', title=None, department=None, display_name='Aaron Dean', email_address='aaron.dean@rxa.io', role_id=2097317660, phone_number=None, web_landing_page=None, web_mobile_landing_page=None, employee_id=None, employee_number=None, hire_date=None, reports_to=None, publisher_domain=None, subscriber_domain=None, virtual_user_id=None),\n",
       " DomoUser(id='1833256765', title=None, department=None, display_name='Aaron Schofield', email_address='aaron.schofield@domo.com', role_id=2097317660, phone_number=None, web_landing_page=None, web_mobile_landing_page=None, employee_id=None, employee_number=None, hire_date=None, reports_to=None, publisher_domain=None, subscriber_domain=None, virtual_user_id=None),\n",
       " DomoUser(id='269129820', title=None, department=None, display_name='Aaron Sorensen', email_address='asorensen@emocha.com', role_id=2097317660, phone_number=None, web_landing_page=None, web_mobile_landing_page=None, employee_id=None, employee_number=None, hire_date=None, reports_to=None, publisher_domain=None, subscriber_domain=None, virtual_user_id=None)]"
      ]
     },
     "execution_count": 5,
     "metadata": {},
     "output_type": "execute_result"
    }
   ],
   "source": [
    "import asyncio\n",
    "\n",
    "## for each page, get the accesslist and expands groups to include user membership\n",
    "access_list = await asyncio.gather( *[page.get_accesslist(is_expand_users = True) for page in domo_pages])\n",
    "\n",
    "print(access_list[0]['resource'])\n",
    "print(\"\\n\")\n",
    "access_list[0]['users'][0:5]"
   ]
  },
  {
   "cell_type": "code",
   "execution_count": 6,
   "id": "ffb0a8cd-1ad5-403f-8d2d-0abda3d3475f",
   "metadata": {},
   "outputs": [
    {
     "data": {
      "text/html": [
       "<div>\n",
       "<style scoped>\n",
       "    .dataframe tbody tr th:only-of-type {\n",
       "        vertical-align: middle;\n",
       "    }\n",
       "\n",
       "    .dataframe tbody tr th {\n",
       "        vertical-align: top;\n",
       "    }\n",
       "\n",
       "    .dataframe thead th {\n",
       "        text-align: right;\n",
       "    }\n",
       "</style>\n",
       "<table border=\"1\" class=\"dataframe\">\n",
       "  <thead>\n",
       "    <tr style=\"text-align: right;\">\n",
       "      <th></th>\n",
       "      <th>domo_instance</th>\n",
       "      <th>page_id</th>\n",
       "      <th>page_title</th>\n",
       "      <th>parent_page_id</th>\n",
       "      <th>parent_page_title</th>\n",
       "      <th>top_page_id</th>\n",
       "      <th>top_page_title</th>\n",
       "      <th>user_id</th>\n",
       "      <th>user_email</th>\n",
       "      <th>group_name</th>\n",
       "    </tr>\n",
       "  </thead>\n",
       "  <tbody>\n",
       "    <tr>\n",
       "      <th>0</th>\n",
       "      <td>domo-community</td>\n",
       "      <td>1316566624</td>\n",
       "      <td>20210623_TRAINING_DomoStats Activity Log App</td>\n",
       "      <td>127044793</td>\n",
       "      <td>JaeW_AtOnyx</td>\n",
       "      <td>522373865</td>\n",
       "      <td>Learn Domo</td>\n",
       "      <td>1216550715</td>\n",
       "      <td>test4@domo.com</td>\n",
       "      <td>Default</td>\n",
       "    </tr>\n",
       "    <tr>\n",
       "      <th>1</th>\n",
       "      <td>domo-community</td>\n",
       "      <td>1316566624</td>\n",
       "      <td>20210623_TRAINING_DomoStats Activity Log App</td>\n",
       "      <td>127044793</td>\n",
       "      <td>JaeW_AtOnyx</td>\n",
       "      <td>522373865</td>\n",
       "      <td>Learn Domo</td>\n",
       "      <td>128618865</td>\n",
       "      <td>test6@domo.com</td>\n",
       "      <td>Default</td>\n",
       "    </tr>\n",
       "    <tr>\n",
       "      <th>2</th>\n",
       "      <td>domo-community</td>\n",
       "      <td>1316566624</td>\n",
       "      <td>20210623_TRAINING_DomoStats Activity Log App</td>\n",
       "      <td>127044793</td>\n",
       "      <td>JaeW_AtOnyx</td>\n",
       "      <td>522373865</td>\n",
       "      <td>Learn Domo</td>\n",
       "      <td>1628021317</td>\n",
       "      <td>aaron.dean@rxa.io</td>\n",
       "      <td>Default</td>\n",
       "    </tr>\n",
       "    <tr>\n",
       "      <th>3</th>\n",
       "      <td>domo-community</td>\n",
       "      <td>1316566624</td>\n",
       "      <td>20210623_TRAINING_DomoStats Activity Log App</td>\n",
       "      <td>127044793</td>\n",
       "      <td>JaeW_AtOnyx</td>\n",
       "      <td>522373865</td>\n",
       "      <td>Learn Domo</td>\n",
       "      <td>1833256765</td>\n",
       "      <td>aaron.schofield@domo.com</td>\n",
       "      <td>Default</td>\n",
       "    </tr>\n",
       "    <tr>\n",
       "      <th>4</th>\n",
       "      <td>domo-community</td>\n",
       "      <td>1316566624</td>\n",
       "      <td>20210623_TRAINING_DomoStats Activity Log App</td>\n",
       "      <td>127044793</td>\n",
       "      <td>JaeW_AtOnyx</td>\n",
       "      <td>522373865</td>\n",
       "      <td>Learn Domo</td>\n",
       "      <td>269129820</td>\n",
       "      <td>asorensen@emocha.com</td>\n",
       "      <td>Default</td>\n",
       "    </tr>\n",
       "  </tbody>\n",
       "</table>\n",
       "</div>"
      ],
      "text/plain": [
       "    domo_instance     page_id                                    page_title   \n",
       "0  domo-community  1316566624  20210623_TRAINING_DomoStats Activity Log App  \\\n",
       "1  domo-community  1316566624  20210623_TRAINING_DomoStats Activity Log App   \n",
       "2  domo-community  1316566624  20210623_TRAINING_DomoStats Activity Log App   \n",
       "3  domo-community  1316566624  20210623_TRAINING_DomoStats Activity Log App   \n",
       "4  domo-community  1316566624  20210623_TRAINING_DomoStats Activity Log App   \n",
       "\n",
       "  parent_page_id parent_page_title top_page_id top_page_title     user_id   \n",
       "0      127044793       JaeW_AtOnyx   522373865     Learn Domo  1216550715  \\\n",
       "1      127044793       JaeW_AtOnyx   522373865     Learn Domo   128618865   \n",
       "2      127044793       JaeW_AtOnyx   522373865     Learn Domo  1628021317   \n",
       "3      127044793       JaeW_AtOnyx   522373865     Learn Domo  1833256765   \n",
       "4      127044793       JaeW_AtOnyx   522373865     Learn Domo   269129820   \n",
       "\n",
       "                 user_email group_name  \n",
       "0            test4@domo.com    Default  \n",
       "1            test6@domo.com    Default  \n",
       "2         aaron.dean@rxa.io    Default  \n",
       "3  aaron.schofield@domo.com    Default  \n",
       "4      asorensen@emocha.com    Default  "
      ]
     },
     "execution_count": 6,
     "metadata": {},
     "output_type": "execute_result"
    }
   ],
   "source": [
    "import pandas as pd\n",
    "# for each \"access_object\" in \"access_list\" match to a page from domo_pages (all the pages you have access to) and then structure for dataframe\n",
    "\n",
    "group_page_membership = await asyncio.gather(* [process_page(domo_page =next((domo_page for domo_page in domo_pages if str(domo_page.id) == access_obj.get('resource').get('id'))),\n",
    "                                           user_ls = access_obj.get('users'),\n",
    "                                           group_ls = access_obj.get('groups'),\n",
    "                                           auth = auth) for access_obj in access_list])\n",
    "\n",
    "\n",
    "df =pd.DataFrame([user_member for page in group_page_membership for user_member in page])\n",
    "df[0:5]"
   ]
  },
  {
   "cell_type": "markdown",
   "id": "e3af5ec4-7256-4574-885e-9d58233aeae3",
   "metadata": {},
   "source": [
    "# Main Function"
   ]
  },
  {
   "cell_type": "code",
   "execution_count": 7,
   "id": "e509797f-5de3-4452-bee2-1a606ace43a8",
   "metadata": {},
   "outputs": [],
   "source": [
    "import domojupyter as domo\n",
    "domo.write_dataframe(df, 'monit_user_accesslist')"
   ]
  }
 ],
 "metadata": {
  "domo": {
   "notebook_id": "10906e2a-41ec-4349-93f7-a53c2826cd7d"
  },
  "kernelspec": {
   "display_name": "Python 3.9",
   "language": "python",
   "name": "python_3_9"
  },
  "language_info": {
   "codemirror_mode": {
    "name": "ipython",
    "version": 3
   },
   "file_extension": ".py",
   "mimetype": "text/x-python",
   "name": "python",
   "nbconvert_exporter": "python",
   "pygments_lexer": "ipython3",
   "version": "3.9.13"
  },
  "toc-autonumbering": true,
  "toc-showcode": false,
  "toc-showmarkdowntxt": true
 },
 "nbformat": 4,
 "nbformat_minor": 5
}
