{
 "cells": [
  {
   "cell_type": "raw",
   "metadata": {},
   "source": [
    "---\n",
    "description: Default description (change me)\n",
    "output-file: _postdown.cmdline.html\n",
    "title: Default Title (change me)\n",
    "\n",
    "---\n",
    "\n"
   ]
  },
  {
   "cell_type": "code",
   "execution_count": null,
   "metadata": {},
   "outputs": [],
   "source": [
    "#| default_exp postdown.cmdline"
   ]
  },
  {
   "cell_type": "code",
   "execution_count": null,
   "metadata": {},
   "outputs": [],
   "source": [
    "#| export\n",
    "import sys\n",
    "from os.path import basename, splitext\n",
    "\n",
    "from .parser import parse"
   ]
  },
  {
   "cell_type": "code",
   "execution_count": null,
   "metadata": {},
   "outputs": [],
   "source": [
    "#| export\n",
    "def execute():\n",
    "    in_file = sys.argv[1]\n",
    "\n",
    "    if len(sys.argv) > 2:\n",
    "        out_file = sys.argv[2]\n",
    "    else:\n",
    "        out_file = splitext(basename(in_file))[0] + '.md'\n",
    "\n",
    "    parse(in_file, out_file)\n",
    "\n",
    "\n",
    "if __name__ == '__main__':\n",
    "    execute()"
   ]
  }
 ],
 "metadata": {
  "jupytext": {
   "split_at_heading": true
  },
  "kernelspec": {
   "display_name": "Python 3",
   "language": "python",
   "name": "python3"
  }
 },
 "nbformat": 4,
 "nbformat_minor": 4
}
