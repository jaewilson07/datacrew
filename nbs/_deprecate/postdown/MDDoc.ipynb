{
 "cells": [
  {
   "cell_type": "raw",
   "metadata": {},
   "source": [
    "---\n",
    "title: Markdown Doc\n",
    "description: class based approach to generating Markdown document\n",
    "---"
   ]
  },
  {
   "cell_type": "code",
   "execution_count": null,
   "metadata": {},
   "outputs": [],
   "source": [
    "# | default_exp postdown.MDDoc"
   ]
  },
  {
   "cell_type": "code",
   "execution_count": null,
   "metadata": {},
   "outputs": [],
   "source": [
    "# | exporti\n",
    "import logging\n",
    "\n",
    "from fastcore.basics import patch_to"
   ]
  },
  {
   "cell_type": "code",
   "execution_count": null,
   "metadata": {},
   "outputs": [],
   "source": [
    "# | exporti\n",
    "logging.basicConfig(level=logging.DEBUG)\n",
    "logger = logging.getLogger(__name__)"
   ]
  },
  {
   "cell_type": "code",
   "execution_count": null,
   "metadata": {},
   "outputs": [],
   "source": [
    "#| export\n",
    "class MDDoc:\n",
    "    COMMENT_BEGIN_FLAG = \"<__COMMENT__BEGIN__FLAG__>\"\n",
    "\n",
    "    def __init__(self):\n",
    "        self.md_struct = list()"
   ]
  },
  {
   "cell_type": "code",
   "execution_count": null,
   "metadata": {},
   "outputs": [],
   "source": [
    "#| exporti\n",
    "@patch_to(MDDoc)\n",
    "def line(self: MDDoc, content):\n",
    "    self.md_struct.append(content + \"\\n\")\n",
    "\n",
    "\n",
    "@patch_to(MDDoc)\n",
    "def br(self: MDDoc):\n",
    "    self.line(\"\")\n",
    "\n",
    "\n",
    "@patch_to(MDDoc)\n",
    "def block(self: MDDoc, content):\n",
    "    self.line(content)\n",
    "    self.br()\n",
    "\n",
    "\n",
    "@patch_to(MDDoc)\n",
    "def italic(self: MDDoc, content):\n",
    "    self.block(f\"*{content}*\")\n",
    "\n",
    "\n",
    "@patch_to(MDDoc)\n",
    "def bold(self: MDDoc, content):\n",
    "    self.block(f\"**{content}**\")\n",
    "\n",
    "\n",
    "@patch_to(MDDoc)\n",
    "def text(self: MDDoc, content):\n",
    "    self.block(content)\n",
    "\n",
    "\n",
    "@patch_to(MDDoc)\n",
    "def hr(self: MDDoc):\n",
    "    self.block('----------------')\n",
    "\n",
    "\n",
    "@patch_to(MDDoc)\n",
    "def title(self: MDDoc, content, level=1):\n",
    "    self.block(\"#\" * level + \" \" + content)\n"
   ]
  },
  {
   "cell_type": "code",
   "execution_count": null,
   "metadata": {},
   "outputs": [],
   "source": [
    "#| exporti\n",
    "@patch_to(MDDoc)\n",
    "def table(self: MDDoc, columns_name, rows):\n",
    "    self.line(f'|{\" | \".join(columns_name)}|')\n",
    "    self.line(\"---\".join(list(\"|\" * (len(columns_name) + 1))))\n",
    "    \n",
    "    if rows:\n",
    "        for i in rows:\n",
    "            self.line(\"|{0}|\".format(\"|\".join(i)))\n",
    "    else:\n",
    "        self.line(\"|\" * (len(columns_name) + 1))\n",
    "    self.br()\n"
   ]
  },
  {
   "cell_type": "code",
   "execution_count": null,
   "metadata": {},
   "outputs": [],
   "source": [
    "#| exporti\n",
    "@patch_to(MDDoc)\n",
    "def code_block(self: MDDoc, code, language=\"\"):\n",
    "    self.line(f\"```{language}\")\n",
    "    for i in code.split(\"\\n\"):\n",
    "        self.line(i.replace(\"\\n\", \"\"))\n",
    "    self.line(\"```\")\n",
    "    self.br()"
   ]
  },
  {
   "cell_type": "code",
   "execution_count": null,
   "metadata": {},
   "outputs": [],
   "source": [
    "#| exporti\n",
    "@patch_to(MDDoc)\n",
    "def comment_begin(self: MDDoc, origin=None):\n",
    "    if origin:\n",
    "        logger.debug(\"comment_begin: %s\", origin)\n",
    "    else:\n",
    "        logger.debug(\"comment_begin\")\n",
    "\n",
    "    self.line(self.COMMENT_BEGIN_FLAG)\n",
    "\n",
    "\n",
    "@patch_to(MDDoc)\n",
    "def comment_end(self: MDDoc, origin=None):\n",
    "    if origin:\n",
    "        logger.debug(\"comment_end: %s\", origin)\n",
    "    else:\n",
    "        logger.debug(\"comment_end\")\n",
    "\n",
    "    i = -1\n",
    "    while True:\n",
    "        if self.md_struct[i].startswith(self.COMMENT_BEGIN_FLAG):\n",
    "            self.md_struct[i] = \"> \\n\"\n",
    "            break\n",
    "        self.md_struct[i] = \"> \" + self.md_struct[i]\n",
    "        i -= 1\n",
    "    self.br()\n",
    "\n",
    "\n",
    "@patch_to(MDDoc)\n",
    "def output(self: MDDoc):\n",
    "    self.hr()\n",
    "    self.block(\"Generated with [Postdown][PyPI].\")\n",
    "    # It is apprporiate that credit is given to the postman tool with a link to the original URL of Titor, but adding an author just makes it looks like Titor is the author of the API.\n",
    "    # self.block(\"Author: [Titor](https://github.com/TitorX)\")\n",
    "    self.line(\"[PyPI]:    https://pypi.python.org/pypi/Postdown\")\n",
    "    return \"\".join(self.md_struct)"
   ]
  },
  {
   "cell_type": "code",
   "execution_count": null,
   "metadata": {},
   "outputs": [],
   "source": [
    "# | hide\n",
    "import nbdev\n",
    "\n",
    "nbdev.nbdev_export()"
   ]
  }
 ],
 "metadata": {
  "kernelspec": {
   "display_name": "python3",
   "language": "python",
   "name": "python3"
  }
 },
 "nbformat": 4,
 "nbformat_minor": 2
}
