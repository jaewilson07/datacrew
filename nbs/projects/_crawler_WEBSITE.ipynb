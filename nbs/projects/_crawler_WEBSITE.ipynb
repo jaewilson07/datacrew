{
 "cells": [
  {
   "cell_type": "code",
   "execution_count": 13,
   "metadata": {},
   "outputs": [],
   "source": [
    "# use with local installs that don't have nbdev\n",
    "import sys\n",
    "\n",
    "sys.path.insert(0, \"../../\")"
   ]
  },
  {
   "cell_type": "code",
   "execution_count": 14,
   "metadata": {},
   "outputs": [
    {
     "name": "stdout",
     "output_type": "stream",
     "text": [
      "💤 retrieving https://domo-support.domo.com/s/article/360043429913 💤\n",
      "💤 retrieving https://domo-support.domo.com/s/topic/0TO5w000000ZamoGAC/creating-content-in-domo?language=en_US 💤\n",
      "❤️ child url - https://domo-support.domo.com/s/topic/0TO5w000000ZanDGAS, 0TO5w000000ZanDGAS\n",
      "❤️ child url - https://domo-support.domo.com/s/topic/0TO5w000000ZaoEGAS, 0TO5w000000ZaoEGAS\n",
      "❤️ child url - https://domo-support.domo.com/s/topic/0TO5w000000ZaoNGAS, 0TO5w000000ZaoNGAS\n",
      "❤️ child url - https://domo-support.domo.com/s/topic/0TO5w000000ZanwGAC, 0TO5w000000ZanwGAC\n",
      "❤️ child url - https://domo-support.domo.com/s/topic/0TO5w000000ZanZGAS, 0TO5w000000ZanZGAS\n",
      "❤️ child url - https://domo-support.domo.com/s/topic/0TO5w000000Zao4GAC, 0TO5w000000Zao4GAC\n",
      "❤️ child url - https://domo-support.domo.com/s/topic/0TO5w000000ZaoHGAS, 0TO5w000000ZaoHGAS\n",
      "❤️ child url - https://domo-support.domo.com/s/topic/0TO5w000000ZanAGAS, 0TO5w000000ZanAGAS\n",
      "❤️ child url - https://domo-support.domo.com/s/topic/0TO5w000000ZdTCGA0, 0TO5w000000ZdTCGA0\n"
     ]
    }
   ],
   "source": [
    "from selenium.webdriver.common.by import By\n",
    "import datacrew.crawler.crawler as dcc\n",
    "import datacrew.crawler.article as dca\n",
    "\n",
    "\n",
    "TEST_ARTICLE_URL = \"https://domo-support.domo.com/s/topic/0TO5w000000ZanAGAS/beast-mode\"\n",
    "TEST_ARTICLE_URL = \"https://domo-support.domo.com/s/article/360043429913\"\n",
    "TEST_TOPIC_URL = \"https://domo-support.domo.com/s/topic/0TO5w000000ZamoGAC/creating-content-in-domo?language=en_US\"\n",
    "\n",
    "BASE_URL = \"https://domo-support.domo.com\"\n",
    "\n",
    "IMG_BASE_URL = \"https://domo-support.domo.com/servlet/rtaImage\"\n",
    "\n",
    "OUTPUT_FOLDER = \"../../raw_kb\"\n",
    "\n",
    "driver = dcc.driversetup(is_headless=False)\n",
    "\n",
    "test_article = dca.Article_KB(\n",
    "    url=TEST_ARTICLE_URL, driver=driver, base_url=BASE_URL)\n",
    "\n",
    "test_category = dca.Article_Category(\n",
    "    url=TEST_TOPIC_URL, driver=driver, base_url=BASE_URL)\n",
    "\n"
   ]
  },
  {
   "cell_type": "code",
   "execution_count": 15,
   "metadata": {},
   "outputs": [
    {
     "data": {
      "text/plain": [
       "['https://domo-support.domo.com/s/knowledge-base',\n",
       " 'https://domo-support.domo.com/s/topic/0to5w000000zamwgac',\n",
       " 'https://domo-support.domo.com/s/article/360042924034',\n",
       " 'https://domo-support.domo.com/s/article/360043429933',\n",
       " 'https://domo-support.domo.com/s/article/360043429953',\n",
       " 'https://domo-support.domo.com/s/article/360042924094',\n",
       " 'https://domo-support.domo.com/s/article/360043429993',\n",
       " 'https://domo-support.domo.com/s/article/360043428753',\n",
       " 'https://domo-support.domo.com/s/article/360043429913',\n",
       " 'https://domo-support.domo.com/s/article/360042925494',\n",
       " 'https://domo-support.domo.com/s/article/360043429693']"
      ]
     },
     "execution_count": 15,
     "metadata": {},
     "output_type": "execute_result"
    }
   ],
   "source": [
    "for key in test_article.__dict__.keys():\n",
    "    if key in ['soup','article_soup']:\n",
    "        continue\n",
    "\n",
    "    # print({key: getattr(test_article, key)})\n",
    "\n",
    "test_article.url_ls"
   ]
  },
  {
   "attachments": {},
   "cell_type": "markdown",
   "metadata": {},
   "source": [
    "# Utility Functions\n",
    "\n",
    "## string manipulation\n"
   ]
  },
  {
   "cell_type": "code",
   "execution_count": 16,
   "metadata": {},
   "outputs": [],
   "source": [
    "import re\n",
    "\n",
    "def convert_to_snake(text_str):\n",
    "    \"\"\"converts 'snake_case_str' to 'snakeCaseStr'\"\"\"\n",
    "\n",
    "    return text_str.replace(\" \", \"_\").lower()\n",
    "\n",
    "\n",
    "def clean_url_name(path_name):\n",
    "    valid_chars = r\"[^a-zA-Z0-9_]\"\n",
    "\n",
    "    return re.sub(valid_chars, \"\", path_name)\n",
    "\n",
    "\n",
    "def get_id_from_url(url: str, url_match: str):\n",
    "    \"\"\"use url_match\" to identify the id of an object\"\"\"\n",
    "    return url.split(url_match)[1].split(\"/\")[0]\n"
   ]
  },
  {
   "attachments": {},
   "cell_type": "markdown",
   "metadata": {},
   "source": [
    "## process html files\n"
   ]
  },
  {
   "attachments": {},
   "cell_type": "markdown",
   "metadata": {},
   "source": [
    "### download image"
   ]
  },
  {
   "cell_type": "code",
   "execution_count": 17,
   "metadata": {},
   "outputs": [
    {
     "data": {
      "text/html": [
       "<div>\n",
       "<style scoped>\n",
       "    .dataframe tbody tr th:only-of-type {\n",
       "        vertical-align: middle;\n",
       "    }\n",
       "\n",
       "    .dataframe tbody tr th {\n",
       "        vertical-align: top;\n",
       "    }\n",
       "\n",
       "    .dataframe thead th {\n",
       "        text-align: right;\n",
       "    }\n",
       "</style>\n",
       "<table border=\"1\" class=\"dataframe\">\n",
       "  <thead>\n",
       "    <tr style=\"text-align: right;\">\n",
       "      <th></th>\n",
       "      <th>url</th>\n",
       "      <th>relative_url</th>\n",
       "      <th>name</th>\n",
       "    </tr>\n",
       "  </thead>\n",
       "  <tbody>\n",
       "    <tr>\n",
       "      <th>0</th>\n",
       "      <td>https://domo-support.domo.com/servlet/rtaImage...</td>\n",
       "      <td>/servlet/rtaImage?eid=ka05w000001248e&amp;feoid=00...</td>\n",
       "      <td>Beast_Mode_Dialog.jpg</td>\n",
       "    </tr>\n",
       "    <tr>\n",
       "      <th>1</th>\n",
       "      <td>https://domo-support.domo.com/servlet/rtaImage...</td>\n",
       "      <td>/servlet/rtaImage?eid=ka05w000001248e&amp;feoid=00...</td>\n",
       "      <td></td>\n",
       "    </tr>\n",
       "    <tr>\n",
       "      <th>2</th>\n",
       "      <td>https://domo-support.domo.com/servlet/rtaImage...</td>\n",
       "      <td>/servlet/rtaImage?eid=ka05w000001248e&amp;feoid=00...</td>\n",
       "      <td>Beast_Mode_Modal.png</td>\n",
       "    </tr>\n",
       "    <tr>\n",
       "      <th>3</th>\n",
       "      <td>https://domo-support.domo.com/servlet/rtaImage...</td>\n",
       "      <td>/servlet/rtaImage?eid=ka05w000001248e&amp;feoid=00...</td>\n",
       "      <td></td>\n",
       "    </tr>\n",
       "    <tr>\n",
       "      <th>4</th>\n",
       "      <td>https://domo-support.domo.com/servlet/rtaImage...</td>\n",
       "      <td>/servlet/rtaImage?eid=ka05w000001248e&amp;feoid=00...</td>\n",
       "      <td></td>\n",
       "    </tr>\n",
       "  </tbody>\n",
       "</table>\n",
       "</div>"
      ],
      "text/plain": [
       "                                                 url  \\\n",
       "0  https://domo-support.domo.com/servlet/rtaImage...   \n",
       "1  https://domo-support.domo.com/servlet/rtaImage...   \n",
       "2  https://domo-support.domo.com/servlet/rtaImage...   \n",
       "3  https://domo-support.domo.com/servlet/rtaImage...   \n",
       "4  https://domo-support.domo.com/servlet/rtaImage...   \n",
       "\n",
       "                                        relative_url                   name  \n",
       "0  /servlet/rtaImage?eid=ka05w000001248e&feoid=00...  Beast_Mode_Dialog.jpg  \n",
       "1  /servlet/rtaImage?eid=ka05w000001248e&feoid=00...                         \n",
       "2  /servlet/rtaImage?eid=ka05w000001248e&feoid=00...   Beast_Mode_Modal.png  \n",
       "3  /servlet/rtaImage?eid=ka05w000001248e&feoid=00...                         \n",
       "4  /servlet/rtaImage?eid=ka05w000001248e&feoid=00...                         "
      ]
     },
     "execution_count": 17,
     "metadata": {},
     "output_type": "execute_result"
    }
   ],
   "source": [
    "import requests\n",
    "import pandas as pd\n",
    "\n",
    "\n",
    "def download_img(image_url, image_path, debug_prn: bool = False):\n",
    "\n",
    "    img_data = requests.get(image_url).content\n",
    "\n",
    "    with open(image_path, \"wb\") as handler:\n",
    "        if debug_prn:\n",
    "            print(f\"downloading {image_url} to {image_path}\")\n",
    "        handler.write(img_data)\n",
    "\n",
    "\n",
    "def download_article_images(\n",
    "    article: dca.Article,\n",
    "    output_path: str,\n",
    "    debug_prn: bool = False,\n",
    "):\n",
    "    image_ls = article.image_ls\n",
    "\n",
    "    if not image_ls:\n",
    "        return \n",
    "\n",
    "    # download images\n",
    "    for img in image_ls:\n",
    "        img_name = img.get(\"name\")\n",
    "\n",
    "        if not img_name:\n",
    "            continue\n",
    "\n",
    "        img_url = img.get(\"url\")\n",
    "        img_path = f\"{output_path}/{img_name}\"\n",
    "        img_rel_path = img.get(\"relative_url\")\n",
    "\n",
    "        if debug_prn:\n",
    "            print(\n",
    "                f\"downloading {img_url} to {img_path}.  replacing article with {img_rel_path} with {img_name}\"\n",
    "            )\n",
    "\n",
    "        download_img(image_url=img_url, image_path=img_path)\n",
    "\n",
    "        article.md_str = article.md_str.replace(img_rel_path, img_name)\n",
    "\n",
    "    return image_ls\n",
    "\n",
    "test_output_path = \"../../raw_kb/article/adding_a_beast_mode_calculation_to_your_chart\"\n",
    "\n",
    "pd.DataFrame(download_article_images(\n",
    "    article=test_article,\n",
    "    output_path=test_output_path,\n",
    "    debug_prn=False,\n",
    "))"
   ]
  },
  {
   "attachments": {},
   "cell_type": "markdown",
   "metadata": {},
   "source": [
    "### download html"
   ]
  },
  {
   "cell_type": "code",
   "execution_count": 18,
   "metadata": {},
   "outputs": [],
   "source": [
    "import os\n",
    "\n",
    "\n",
    "def create_output_folder(output_folder, title: str):\n",
    "    output_path = os.path.join(\n",
    "        output_folder, clean_url_name(convert_to_snake(title))\n",
    "    )\n",
    "\n",
    "    if not os.path.exists(output_path):\n",
    "        os.makedirs(output_path)\n",
    "    \n",
    "    return output_path\n",
    "\n",
    "\n",
    "def output_html(output_html_path, soup):\n",
    "    with open(output_html_path, 'w') as f:\n",
    "        f.write(str(soup))\n"
   ]
  },
  {
   "attachments": {},
   "cell_type": "markdown",
   "metadata": {},
   "source": [
    "# handle category"
   ]
  },
  {
   "cell_type": "code",
   "execution_count": 19,
   "metadata": {},
   "outputs": [
    {
     "data": {
      "text/plain": [
       "name                                Creating Content In Domo\n",
       "url        https://domo-support.domo.com/s/topic/0TO5w000...\n",
       "updated                           2023-04-11 17:19:53.375986\n",
       "Name: 0TO5w000000ZamoGAC, dtype: object"
      ]
     },
     "execution_count": 19,
     "metadata": {},
     "output_type": "execute_result"
    }
   ],
   "source": [
    "import os\n",
    "import pandas as pd\n",
    "import datetime as dt\n",
    "\n",
    "def update_listing(\n",
    "        url: str,\n",
    "        url_id: str,\n",
    "        name: str,\n",
    "        file_name: str,\n",
    "        output_folder):\n",
    "\n",
    "    output_file = f\"{output_folder}/{file_name}\"\n",
    "\n",
    "    df = None\n",
    "    if os.path.exists(output_file):\n",
    "        df = pd.read_csv(output_file, index_col='id')\n",
    "\n",
    "    else:\n",
    "        columns = ['id','name','url', 'updated']\n",
    "        df = pd.DataFrame(columns=columns).set_index('id')\n",
    "\n",
    "\n",
    "   \n",
    "    df.loc[url_id] = [name, url, dt.datetime.now()]\n",
    "\n",
    "    df.to_csv(output_file)\n",
    "\n",
    "    return df.loc[url_id]\n",
    "\n",
    "\n",
    "update_listing(url=test_category.url,\n",
    "                 url_id = test_category.url_id,\n",
    "                 name = test_category.category,\n",
    "                 file_name = 'category_mapping.csv',\n",
    "                 output_folder=os.path.join(OUTPUT_FOLDER, 'category'))\n"
   ]
  },
  {
   "cell_type": "code",
   "execution_count": 20,
   "metadata": {},
   "outputs": [],
   "source": [
    "from mdutils.mdutils import MdUtils\n",
    "import pandas as pd\n",
    "\n",
    "\n",
    "def process_category(article: dca.Article,\n",
    "                    output_folder: str,\n",
    "                    debug_prn: bool = False):\n",
    "\n",
    "    output_path = create_output_folder(os.path.join(output_folder,'category'), article.category)\n",
    "\n",
    "    output_html_path = os.path.join(output_path, 'index.html')\n",
    "    output_html(output_html_path, article.soup)\n",
    "\n",
    "    update_listing(url=article.url,\n",
    "                 url_id = article.url_id,\n",
    "                 name = article.category,\n",
    "                 file_name = 'category_listing.csv',\n",
    "                 output_folder=OUTPUT_FOLDER)\n",
    "\n",
    "    download_article_images(\n",
    "        article=article,\n",
    "        output_path= output_path)\n",
    "\n",
    "process_category(test_category, output_folder=OUTPUT_FOLDER)\n"
   ]
  },
  {
   "attachments": {},
   "cell_type": "markdown",
   "metadata": {},
   "source": [
    "## handle article\n"
   ]
  },
  {
   "cell_type": "code",
   "execution_count": 21,
   "metadata": {},
   "outputs": [],
   "source": [
    "from mdutils.mdutils import MdUtils\n",
    "import pandas as pd\n",
    "\n",
    "\n",
    "def process_article(article: dca.Article,\n",
    "                    output_folder: str,\n",
    "                    debug_prn: bool = False):\n",
    "\n",
    "    output_path = create_output_folder(os.path.join(output_folder, 'article'), article.title)\n",
    "    \n",
    "    output_html(os.path.join(output_path, 'index.html'), article.soup)\n",
    "\n",
    "    update_listing(url=article.url,\n",
    "                url_id = article.url_id,\n",
    "                name = article.title,\n",
    "                file_name = 'article_listing.csv',\n",
    "                output_folder=OUTPUT_FOLDER)\n",
    "\n",
    "    download_article_images(\n",
    "        article=article,\n",
    "        output_path= output_path)\n",
    "\n",
    "    \n",
    "\n",
    "process_article(test_article, output_folder=OUTPUT_FOLDER)\n"
   ]
  },
  {
   "cell_type": "code",
   "execution_count": 22,
   "metadata": {},
   "outputs": [],
   "source": [
    "import logging\n",
    "import selenium.webdriver\n",
    "\n",
    "logging.basicConfig(\n",
    "    format=\"%(asctime)s %(levelname)s:%(message)s\", level=logging.INFO)\n",
    "\n",
    "\n",
    "class Crawler:\n",
    "    base_url: str\n",
    "    output_folder: str\n",
    "\n",
    "    urls_visited_ls: list[str]\n",
    "    urls_to_vist_ls: list[str]\n",
    "    urls_error_ls: list[str]\n",
    "\n",
    "    path_to_visit: str\n",
    "    path_errors : str\n",
    "    path_visited: str\n",
    "\n",
    "    driver: selenium.webdriver\n",
    "\n",
    "    counter: int\n",
    "\n",
    "    def __init__(\n",
    "        self,\n",
    "        urls_to_visit_ls: list[str] = None,\n",
    "        base_url=None,\n",
    "        output_folder=\"../../raw_kb/\",\n",
    "        is_fresh_start: bool = False\n",
    "    ):\n",
    "        self.base_url = base_url\n",
    "        self.output_folder = output_folder\n",
    "\n",
    "        self.counter = 0\n",
    "\n",
    "        self.path_to_visit = os.path.join(\n",
    "            self.output_folder, 'crawler_to_visit.csv')\n",
    "\n",
    "        self.path_visited = os.path.join(\n",
    "            self.output_folder, 'crawler_visited.csv')\n",
    "        \n",
    "        self.path_errors = os.path.join(self.output_folder, 'crawler_errors.csv')\n",
    "\n",
    "        self.article_ls = []\n",
    "        self.driver = dcc.driversetup(is_headless=False)\n",
    "\n",
    "        if is_fresh_start:\n",
    "            \"✂️ deleting files\"\n",
    "            self._delete_file(self.path_to_visit)\n",
    "            self._delete_file(self.path_visited)\n",
    "            self._delete_file(self.path_errors)\n",
    "\n",
    "        self.urls_visited_ls = []\n",
    "        self.urls_to_visit_ls = []\n",
    "        self.urls_error_ls =[]\n",
    "\n",
    "        if not is_fresh_start:\n",
    "            self.urls_visited_ls = self._read_file_ls(self.path_visited)\n",
    "\n",
    "            urls_to_visit_ls += self._read_file_ls(self.path_errors)\n",
    "            urls_to_visit_ls += self._read_file_ls(self.path_to_visit)\n",
    "\n",
    "        [self.add_url_to_visit(url) for url in urls_to_visit_ls]\n",
    "\n",
    "    @staticmethod\n",
    "    def _delete_file(file_path):\n",
    "        if os.path.exists(file_path):\n",
    "            print(f'deleting {file_path}')\n",
    "            os.remove(file_path)\n",
    "        else:\n",
    "            print(f\"{file_path} cannot be deleted\")\n",
    "\n",
    "    @staticmethod\n",
    "    def _read_file_ls(file_path):\n",
    "        try:\n",
    "            file = open(file_path, '+r')\n",
    "            return [line.strip() for line in file]\n",
    "        except:\n",
    "            return []\n",
    "\n",
    "    @staticmethod\n",
    "    def _write_file_ls(file_path, data):\n",
    "\n",
    "        file = open(file_path, 'w+')\n",
    "\n",
    "        for item in data:\n",
    "            file.write(item+\"\\n\")\n",
    "        file.close()\n",
    "\n",
    "    def add_url_to_visit(self, url, debug_prn: bool = False):\n",
    "        if url not in self.urls_visited_ls and url not in self.urls_to_visit_ls:\n",
    "            if debug_prn:\n",
    "                print(f\"adding url to list - {url}\")\n",
    "\n",
    "            self.urls_to_visit_ls.append(url)\n",
    "\n",
    "    def crawl(self, url, debug_prn: bool = False):\n",
    "        if debug_prn:\n",
    "            print(f\"starting crawl - {url}\")\n",
    "\n",
    "        article = None\n",
    "        if '/s/topic/' in url:\n",
    "            article = dca.Article_Category(url=url,\n",
    "                                           driver=driver,\n",
    "                                           base_url=self.base_url,\n",
    "                                           is_child_recursive=False\n",
    "                                           )\n",
    "            process_category(article=article, output_folder=self.output_folder)\n",
    "\n",
    "        if '/s/article/' in url:\n",
    "            article = dca.Article_KB(\n",
    "                url=url, base_url=self.base_url, driver=driver)\n",
    "            process_article(article=article, output_folder=self.output_folder)\n",
    "\n",
    "        if not article:\n",
    "            return\n",
    "\n",
    "        for url in article.url_ls:\n",
    "            self.add_url_to_visit(url=url, debug_prn=debug_prn)\n",
    "\n",
    "\n",
    "\n",
    "    def run(self, debug_prn: bool = False):\n",
    "        while self.urls_to_visit_ls:\n",
    "            url = self.urls_to_visit_ls.pop(0)\n",
    "\n",
    "            logging.info(f\"Crawling: {url}\")\n",
    "\n",
    "            try:\n",
    "                self.crawl(url, debug_prn)\n",
    "                self.urls_visited_ls.append(url)\n",
    "                \n",
    "            except Exception:\n",
    "                logging.exception(f\"Failed to crawl: {url}\")\n",
    "                self.urls_error_ls.append(url)\n",
    "            finally:\n",
    "                self.counter += 1\n",
    "                \n",
    "                if self.counter % 10 == 0:\n",
    "                    self._write_file_ls(self.path_to_visit, self.urls_to_visit_ls)\n",
    "                    self._write_file_ls(self.path_visited, self.urls_visited_ls)\n",
    "                    self._write_file_ls(self.path_errors, self.urls_error_ls)\n",
    "\n",
    "        print(\"done\")\n",
    "        return self\n"
   ]
  },
  {
   "cell_type": "code",
   "execution_count": 23,
   "metadata": {},
   "outputs": [
    {
     "name": "stderr",
     "output_type": "stream",
     "text": [
      "2023-04-11 17:19:56,159 INFO:Crawling: https://domo-support.domo.com/s/article/360043429913\n"
     ]
    },
    {
     "name": "stdout",
     "output_type": "stream",
     "text": [
      "{'article_ls': [],\n",
      " 'base_url': 'https://domo-support.domo.com',\n",
      " 'counter': 0,\n",
      " 'driver': <selenium.webdriver.chrome.webdriver.WebDriver (session=\"5c02f92dd3061a2daa260ffb446e5aa6\")>,\n",
      " 'output_folder': '../../raw_kb',\n",
      " 'path_errors': '../../raw_kb\\\\crawler_errors.csv',\n",
      " 'path_to_visit': '../../raw_kb\\\\crawler_to_visit.csv',\n",
      " 'path_visited': '../../raw_kb\\\\crawler_visited.csv',\n",
      " 'urls_error_ls': [],\n",
      " 'urls_to_visit_ls': ['https://domo-support.domo.com/s/article/360043429913',\n",
      "                      'https://domo-support.domo.com/s/topic/0TO5w000000ZamoGAC/creating-content-in-domo?language=en_US'],\n",
      " 'urls_visited_ls': []}\n",
      "💤 retrieving https://domo-support.domo.com/s/article/360043429913 💤\n"
     ]
    },
    {
     "name": "stderr",
     "output_type": "stream",
     "text": [
      "2023-04-11 17:20:07,061 INFO:Crawling: https://domo-support.domo.com/s/topic/0TO5w000000ZamoGAC/creating-content-in-domo?language=en_US\n"
     ]
    },
    {
     "name": "stdout",
     "output_type": "stream",
     "text": [
      "💤 retrieving https://domo-support.domo.com/s/topic/0TO5w000000ZamoGAC/creating-content-in-domo?language=en_US 💤\n"
     ]
    },
    {
     "name": "stderr",
     "output_type": "stream",
     "text": [
      "2023-04-11 17:20:08,469 INFO:Crawling: https://domo-support.domo.com/s/knowledge-base\n",
      "2023-04-11 17:20:08,470 INFO:Crawling: https://domo-support.domo.com/s/topic/0to5w000000zamwgac\n"
     ]
    },
    {
     "name": "stdout",
     "output_type": "stream",
     "text": [
      "❤️ child url - https://domo-support.domo.com/s/topic/0TO5w000000ZanDGAS, 0TO5w000000ZanDGAS\n",
      "❤️ child url - https://domo-support.domo.com/s/topic/0TO5w000000ZaoEGAS, 0TO5w000000ZaoEGAS\n",
      "❤️ child url - https://domo-support.domo.com/s/topic/0TO5w000000ZaoNGAS, 0TO5w000000ZaoNGAS\n",
      "❤️ child url - https://domo-support.domo.com/s/topic/0TO5w000000ZanwGAC, 0TO5w000000ZanwGAC\n",
      "❤️ child url - https://domo-support.domo.com/s/topic/0TO5w000000ZanZGAS, 0TO5w000000ZanZGAS\n",
      "❤️ child url - https://domo-support.domo.com/s/topic/0TO5w000000Zao4GAC, 0TO5w000000Zao4GAC\n",
      "❤️ child url - https://domo-support.domo.com/s/topic/0TO5w000000ZaoHGAS, 0TO5w000000ZaoHGAS\n",
      "❤️ child url - https://domo-support.domo.com/s/topic/0TO5w000000ZanAGAS, 0TO5w000000ZanAGAS\n",
      "❤️ child url - https://domo-support.domo.com/s/topic/0TO5w000000ZdTCGA0, 0TO5w000000ZdTCGA0\n",
      "💤 retrieving https://domo-support.domo.com/s/topic/0to5w000000zamwgac 💤\n"
     ]
    },
    {
     "name": "stderr",
     "output_type": "stream",
     "text": [
      "2023-04-11 17:20:25,153 ERROR:Failed to crawl: https://domo-support.domo.com/s/topic/0to5w000000zamwgac\n",
      "Traceback (most recent call last):\n",
      "  File \"C:\\Users\\jwilson1\\AppData\\Local\\Temp\\1\\ipykernel_3900\\3285275116.py\", line 130, in run\n",
      "    self.crawl(url, debug_prn)\n",
      "  File \"C:\\Users\\jwilson1\\AppData\\Local\\Temp\\1\\ipykernel_3900\\3285275116.py\", line 103, in crawl\n",
      "    article = dca.Article_Category(url=url,\n",
      "  File \"c:\\Users\\jwilson1\\GitHub\\datacrew\\nbs\\projects\\../..\\datacrew\\crawler\\article.py\", line 287, in __init__\n",
      "    raise ArticleKB_GetSoupError(url=url)\n",
      "datacrew.crawler.article.ArticleKB_GetSoupError: failed to retrieve soup for https://domo-support.domo.com/s/topic/0to5w000000zamwgac\n",
      "2023-04-11 17:20:25,154 INFO:Crawling: https://domo-support.domo.com/s/article/360042924034\n"
     ]
    },
    {
     "name": "stdout",
     "output_type": "stream",
     "text": [
      "Message: \n",
      "Stacktrace:\n",
      "Backtrace:\n",
      "\tGetHandleVerifier [0x00D5DCE3+50899]\n",
      "\t(No symbol) [0x00CEE111]\n",
      "\t(No symbol) [0x00BF5588]\n",
      "\t(No symbol) [0x00C208F9]\n",
      "\t(No symbol) [0x00C20AFB]\n",
      "\t(No symbol) [0x00C4F902]\n",
      "\t(No symbol) [0x00C3B944]\n",
      "\t(No symbol) [0x00C4E01C]\n",
      "\t(No symbol) [0x00C3B6F6]\n",
      "\t(No symbol) [0x00C17708]\n",
      "\t(No symbol) [0x00C1886D]\n",
      "\tGetHandleVerifier [0x00FC3EAE+2566302]\n",
      "\tGetHandleVerifier [0x00FF92B1+2784417]\n",
      "\tGetHandleVerifier [0x00FF327C+2759788]\n",
      "\tGetHandleVerifier [0x00DF5740+672048]\n",
      "\t(No symbol) [0x00CF8872]\n",
      "\t(No symbol) [0x00CF41C8]\n",
      "\t(No symbol) [0x00CF42AB]\n",
      "\t(No symbol) [0x00CE71B7]\n",
      "\tBaseThreadInitThunk [0x767100F9+25]\n",
      "\tRtlGetAppContainerNamedObjectPath [0x77097BBE+286]\n",
      "\tRtlGetAppContainerNamedObjectPath [0x77097B8E+238]\n",
      "\n",
      "name 'url' is not defined\n",
      "💤 retrieving https://domo-support.domo.com/s/article/360042924034 💤\n"
     ]
    },
    {
     "name": "stderr",
     "output_type": "stream",
     "text": [
      "2023-04-11 17:20:34,324 INFO:Crawling: https://domo-support.domo.com/s/article/360043429933\n"
     ]
    },
    {
     "name": "stdout",
     "output_type": "stream",
     "text": [
      "💤 retrieving https://domo-support.domo.com/s/article/360043429933 💤\n"
     ]
    },
    {
     "name": "stderr",
     "output_type": "stream",
     "text": [
      "2023-04-11 17:20:42,414 INFO:Crawling: https://domo-support.domo.com/s/article/360043429953\n"
     ]
    },
    {
     "name": "stdout",
     "output_type": "stream",
     "text": [
      "💤 retrieving https://domo-support.domo.com/s/article/360043429953 💤\n"
     ]
    },
    {
     "name": "stderr",
     "output_type": "stream",
     "text": [
      "2023-04-11 17:20:50,476 INFO:Crawling: https://domo-support.domo.com/s/article/360042924094\n"
     ]
    },
    {
     "name": "stdout",
     "output_type": "stream",
     "text": [
      "💤 retrieving https://domo-support.domo.com/s/article/360042924094 💤\n"
     ]
    },
    {
     "name": "stderr",
     "output_type": "stream",
     "text": [
      "2023-04-11 17:20:58,981 INFO:Crawling: https://domo-support.domo.com/s/article/360043429993\n"
     ]
    },
    {
     "name": "stdout",
     "output_type": "stream",
     "text": [
      "💤 retrieving https://domo-support.domo.com/s/article/360043429993 💤\n"
     ]
    },
    {
     "name": "stderr",
     "output_type": "stream",
     "text": [
      "2023-04-11 17:21:07,111 INFO:Crawling: https://domo-support.domo.com/s/article/360043428753\n"
     ]
    },
    {
     "name": "stdout",
     "output_type": "stream",
     "text": [
      "💤 retrieving https://domo-support.domo.com/s/article/360043428753 💤\n"
     ]
    },
    {
     "name": "stderr",
     "output_type": "stream",
     "text": [
      "2023-04-11 17:21:16,955 INFO:Crawling: https://domo-support.domo.com/s/article/360043429913\n"
     ]
    },
    {
     "name": "stdout",
     "output_type": "stream",
     "text": [
      "💤 retrieving https://domo-support.domo.com/s/article/360043429913 💤\n"
     ]
    },
    {
     "name": "stderr",
     "output_type": "stream",
     "text": [
      "2023-04-11 17:21:26,234 INFO:Crawling: https://domo-support.domo.com/s/article/360042925494\n"
     ]
    },
    {
     "name": "stdout",
     "output_type": "stream",
     "text": [
      "💤 retrieving https://domo-support.domo.com/s/article/360042925494 💤\n"
     ]
    },
    {
     "name": "stderr",
     "output_type": "stream",
     "text": [
      "2023-04-11 17:21:34,698 INFO:Crawling: https://domo-support.domo.com/s/article/360043429693\n"
     ]
    },
    {
     "name": "stdout",
     "output_type": "stream",
     "text": [
      "💤 retrieving https://domo-support.domo.com/s/article/360043429693 💤\n"
     ]
    },
    {
     "name": "stderr",
     "output_type": "stream",
     "text": [
      "2023-04-11 17:21:53,512 INFO:Crawling: https://domo-support.domo.com/s/topic/0to5w000000zandgas\n"
     ]
    },
    {
     "name": "stdout",
     "output_type": "stream",
     "text": [
      "💤 retrieving https://domo-support.domo.com/s/topic/0to5w000000zandgas 💤\n"
     ]
    },
    {
     "name": "stderr",
     "output_type": "stream",
     "text": [
      "2023-04-11 17:22:09,883 ERROR:Failed to crawl: https://domo-support.domo.com/s/topic/0to5w000000zandgas\n",
      "Traceback (most recent call last):\n",
      "  File \"C:\\Users\\jwilson1\\AppData\\Local\\Temp\\1\\ipykernel_3900\\3285275116.py\", line 130, in run\n",
      "    self.crawl(url, debug_prn)\n",
      "  File \"C:\\Users\\jwilson1\\AppData\\Local\\Temp\\1\\ipykernel_3900\\3285275116.py\", line 103, in crawl\n",
      "    article = dca.Article_Category(url=url,\n",
      "  File \"c:\\Users\\jwilson1\\GitHub\\datacrew\\nbs\\projects\\../..\\datacrew\\crawler\\article.py\", line 287, in __init__\n",
      "    raise ArticleKB_GetSoupError(url=url)\n",
      "datacrew.crawler.article.ArticleKB_GetSoupError: failed to retrieve soup for https://domo-support.domo.com/s/topic/0to5w000000zandgas\n",
      "2023-04-11 17:22:09,884 INFO:Crawling: https://domo-support.domo.com/s/topic/0to5w000000zaoegas\n"
     ]
    },
    {
     "name": "stdout",
     "output_type": "stream",
     "text": [
      "Message: \n",
      "Stacktrace:\n",
      "Backtrace:\n",
      "\tGetHandleVerifier [0x00D5DCE3+50899]\n",
      "\t(No symbol) [0x00CEE111]\n",
      "\t(No symbol) [0x00BF5588]\n",
      "\t(No symbol) [0x00C208F9]\n",
      "\t(No symbol) [0x00C20AFB]\n",
      "\t(No symbol) [0x00C4F902]\n",
      "\t(No symbol) [0x00C3B944]\n",
      "\t(No symbol) [0x00C4E01C]\n",
      "\t(No symbol) [0x00C3B6F6]\n",
      "\t(No symbol) [0x00C17708]\n",
      "\t(No symbol) [0x00C1886D]\n",
      "\tGetHandleVerifier [0x00FC3EAE+2566302]\n",
      "\tGetHandleVerifier [0x00FF92B1+2784417]\n",
      "\tGetHandleVerifier [0x00FF327C+2759788]\n",
      "\tGetHandleVerifier [0x00DF5740+672048]\n",
      "\t(No symbol) [0x00CF8872]\n",
      "\t(No symbol) [0x00CF41C8]\n",
      "\t(No symbol) [0x00CF42AB]\n",
      "\t(No symbol) [0x00CE71B7]\n",
      "\tBaseThreadInitThunk [0x767100F9+25]\n",
      "\tRtlGetAppContainerNamedObjectPath [0x77097BBE+286]\n",
      "\tRtlGetAppContainerNamedObjectPath [0x77097B8E+238]\n",
      "\n",
      "name 'url' is not defined\n",
      "💤 retrieving https://domo-support.domo.com/s/topic/0to5w000000zaoegas 💤\n"
     ]
    },
    {
     "name": "stderr",
     "output_type": "stream",
     "text": [
      "2023-04-11 17:22:25,921 ERROR:Failed to crawl: https://domo-support.domo.com/s/topic/0to5w000000zaoegas\n",
      "Traceback (most recent call last):\n",
      "  File \"C:\\Users\\jwilson1\\AppData\\Local\\Temp\\1\\ipykernel_3900\\3285275116.py\", line 130, in run\n",
      "    self.crawl(url, debug_prn)\n",
      "  File \"C:\\Users\\jwilson1\\AppData\\Local\\Temp\\1\\ipykernel_3900\\3285275116.py\", line 103, in crawl\n",
      "    article = dca.Article_Category(url=url,\n",
      "  File \"c:\\Users\\jwilson1\\GitHub\\datacrew\\nbs\\projects\\../..\\datacrew\\crawler\\article.py\", line 287, in __init__\n",
      "    raise ArticleKB_GetSoupError(url=url)\n",
      "datacrew.crawler.article.ArticleKB_GetSoupError: failed to retrieve soup for https://domo-support.domo.com/s/topic/0to5w000000zaoegas\n",
      "2023-04-11 17:22:25,922 INFO:Crawling: https://domo-support.domo.com/s/topic/0to5w000000zaongas\n"
     ]
    },
    {
     "name": "stdout",
     "output_type": "stream",
     "text": [
      "Message: \n",
      "Stacktrace:\n",
      "Backtrace:\n",
      "\tGetHandleVerifier [0x00D5DCE3+50899]\n",
      "\t(No symbol) [0x00CEE111]\n",
      "\t(No symbol) [0x00BF5588]\n",
      "\t(No symbol) [0x00C208F9]\n",
      "\t(No symbol) [0x00C20AFB]\n",
      "\t(No symbol) [0x00C4F902]\n",
      "\t(No symbol) [0x00C3B944]\n",
      "\t(No symbol) [0x00C4E01C]\n",
      "\t(No symbol) [0x00C3B6F6]\n",
      "\t(No symbol) [0x00C17708]\n",
      "\t(No symbol) [0x00C1886D]\n",
      "\tGetHandleVerifier [0x00FC3EAE+2566302]\n",
      "\tGetHandleVerifier [0x00FF92B1+2784417]\n",
      "\tGetHandleVerifier [0x00FF327C+2759788]\n",
      "\tGetHandleVerifier [0x00DF5740+672048]\n",
      "\t(No symbol) [0x00CF8872]\n",
      "\t(No symbol) [0x00CF41C8]\n",
      "\t(No symbol) [0x00CF42AB]\n",
      "\t(No symbol) [0x00CE71B7]\n",
      "\tBaseThreadInitThunk [0x767100F9+25]\n",
      "\tRtlGetAppContainerNamedObjectPath [0x77097BBE+286]\n",
      "\tRtlGetAppContainerNamedObjectPath [0x77097B8E+238]\n",
      "\n",
      "name 'url' is not defined\n",
      "💤 retrieving https://domo-support.domo.com/s/topic/0to5w000000zaongas 💤\n"
     ]
    },
    {
     "name": "stderr",
     "output_type": "stream",
     "text": [
      "2023-04-11 17:22:42,045 ERROR:Failed to crawl: https://domo-support.domo.com/s/topic/0to5w000000zaongas\n",
      "Traceback (most recent call last):\n",
      "  File \"C:\\Users\\jwilson1\\AppData\\Local\\Temp\\1\\ipykernel_3900\\3285275116.py\", line 130, in run\n",
      "    self.crawl(url, debug_prn)\n",
      "  File \"C:\\Users\\jwilson1\\AppData\\Local\\Temp\\1\\ipykernel_3900\\3285275116.py\", line 103, in crawl\n",
      "    article = dca.Article_Category(url=url,\n",
      "  File \"c:\\Users\\jwilson1\\GitHub\\datacrew\\nbs\\projects\\../..\\datacrew\\crawler\\article.py\", line 287, in __init__\n",
      "    raise ArticleKB_GetSoupError(url=url)\n",
      "datacrew.crawler.article.ArticleKB_GetSoupError: failed to retrieve soup for https://domo-support.domo.com/s/topic/0to5w000000zaongas\n",
      "2023-04-11 17:22:42,046 INFO:Crawling: https://domo-support.domo.com/s/topic/0to5w000000zanwgac\n"
     ]
    },
    {
     "name": "stdout",
     "output_type": "stream",
     "text": [
      "Message: \n",
      "Stacktrace:\n",
      "Backtrace:\n",
      "\tGetHandleVerifier [0x00D5DCE3+50899]\n",
      "\t(No symbol) [0x00CEE111]\n",
      "\t(No symbol) [0x00BF5588]\n",
      "\t(No symbol) [0x00C208F9]\n",
      "\t(No symbol) [0x00C20AFB]\n",
      "\t(No symbol) [0x00C4F902]\n",
      "\t(No symbol) [0x00C3B944]\n",
      "\t(No symbol) [0x00C4E01C]\n",
      "\t(No symbol) [0x00C3B6F6]\n",
      "\t(No symbol) [0x00C17708]\n",
      "\t(No symbol) [0x00C1886D]\n",
      "\tGetHandleVerifier [0x00FC3EAE+2566302]\n",
      "\tGetHandleVerifier [0x00FF92B1+2784417]\n",
      "\tGetHandleVerifier [0x00FF327C+2759788]\n",
      "\tGetHandleVerifier [0x00DF5740+672048]\n",
      "\t(No symbol) [0x00CF8872]\n",
      "\t(No symbol) [0x00CF41C8]\n",
      "\t(No symbol) [0x00CF42AB]\n",
      "\t(No symbol) [0x00CE71B7]\n",
      "\tBaseThreadInitThunk [0x767100F9+25]\n",
      "\tRtlGetAppContainerNamedObjectPath [0x77097BBE+286]\n",
      "\tRtlGetAppContainerNamedObjectPath [0x77097B8E+238]\n",
      "\n",
      "name 'url' is not defined\n",
      "💤 retrieving https://domo-support.domo.com/s/topic/0to5w000000zanwgac 💤\n"
     ]
    },
    {
     "name": "stderr",
     "output_type": "stream",
     "text": [
      "2023-04-11 17:22:58,034 ERROR:Failed to crawl: https://domo-support.domo.com/s/topic/0to5w000000zanwgac\n",
      "Traceback (most recent call last):\n",
      "  File \"C:\\Users\\jwilson1\\AppData\\Local\\Temp\\1\\ipykernel_3900\\3285275116.py\", line 130, in run\n",
      "    self.crawl(url, debug_prn)\n",
      "  File \"C:\\Users\\jwilson1\\AppData\\Local\\Temp\\1\\ipykernel_3900\\3285275116.py\", line 103, in crawl\n",
      "    article = dca.Article_Category(url=url,\n",
      "  File \"c:\\Users\\jwilson1\\GitHub\\datacrew\\nbs\\projects\\../..\\datacrew\\crawler\\article.py\", line 287, in __init__\n",
      "    raise ArticleKB_GetSoupError(url=url)\n",
      "datacrew.crawler.article.ArticleKB_GetSoupError: failed to retrieve soup for https://domo-support.domo.com/s/topic/0to5w000000zanwgac\n",
      "2023-04-11 17:22:58,035 INFO:Crawling: https://domo-support.domo.com/s/topic/0to5w000000zanzgas\n"
     ]
    },
    {
     "name": "stdout",
     "output_type": "stream",
     "text": [
      "Message: \n",
      "Stacktrace:\n",
      "Backtrace:\n",
      "\tGetHandleVerifier [0x00D5DCE3+50899]\n",
      "\t(No symbol) [0x00CEE111]\n",
      "\t(No symbol) [0x00BF5588]\n",
      "\t(No symbol) [0x00C208F9]\n",
      "\t(No symbol) [0x00C20AFB]\n",
      "\t(No symbol) [0x00C4F902]\n",
      "\t(No symbol) [0x00C3B944]\n",
      "\t(No symbol) [0x00C4E01C]\n",
      "\t(No symbol) [0x00C3B6F6]\n",
      "\t(No symbol) [0x00C17708]\n",
      "\t(No symbol) [0x00C1886D]\n",
      "\tGetHandleVerifier [0x00FC3EAE+2566302]\n",
      "\tGetHandleVerifier [0x00FF92B1+2784417]\n",
      "\tGetHandleVerifier [0x00FF327C+2759788]\n",
      "\tGetHandleVerifier [0x00DF5740+672048]\n",
      "\t(No symbol) [0x00CF8872]\n",
      "\t(No symbol) [0x00CF41C8]\n",
      "\t(No symbol) [0x00CF42AB]\n",
      "\t(No symbol) [0x00CE71B7]\n",
      "\tBaseThreadInitThunk [0x767100F9+25]\n",
      "\tRtlGetAppContainerNamedObjectPath [0x77097BBE+286]\n",
      "\tRtlGetAppContainerNamedObjectPath [0x77097B8E+238]\n",
      "\n",
      "name 'url' is not defined\n",
      "💤 retrieving https://domo-support.domo.com/s/topic/0to5w000000zanzgas 💤\n"
     ]
    },
    {
     "name": "stderr",
     "output_type": "stream",
     "text": [
      "2023-04-11 17:23:14,199 ERROR:Failed to crawl: https://domo-support.domo.com/s/topic/0to5w000000zanzgas\n",
      "Traceback (most recent call last):\n",
      "  File \"C:\\Users\\jwilson1\\AppData\\Local\\Temp\\1\\ipykernel_3900\\3285275116.py\", line 130, in run\n",
      "    self.crawl(url, debug_prn)\n",
      "  File \"C:\\Users\\jwilson1\\AppData\\Local\\Temp\\1\\ipykernel_3900\\3285275116.py\", line 103, in crawl\n",
      "    article = dca.Article_Category(url=url,\n",
      "  File \"c:\\Users\\jwilson1\\GitHub\\datacrew\\nbs\\projects\\../..\\datacrew\\crawler\\article.py\", line 287, in __init__\n",
      "    raise ArticleKB_GetSoupError(url=url)\n",
      "datacrew.crawler.article.ArticleKB_GetSoupError: failed to retrieve soup for https://domo-support.domo.com/s/topic/0to5w000000zanzgas\n",
      "2023-04-11 17:23:14,199 INFO:Crawling: https://domo-support.domo.com/s/topic/0to5w000000zao4gac\n"
     ]
    },
    {
     "name": "stdout",
     "output_type": "stream",
     "text": [
      "Message: \n",
      "Stacktrace:\n",
      "Backtrace:\n",
      "\tGetHandleVerifier [0x00D5DCE3+50899]\n",
      "\t(No symbol) [0x00CEE111]\n",
      "\t(No symbol) [0x00BF5588]\n",
      "\t(No symbol) [0x00C208F9]\n",
      "\t(No symbol) [0x00C20AFB]\n",
      "\t(No symbol) [0x00C4F902]\n",
      "\t(No symbol) [0x00C3B944]\n",
      "\t(No symbol) [0x00C4E01C]\n",
      "\t(No symbol) [0x00C3B6F6]\n",
      "\t(No symbol) [0x00C17708]\n",
      "\t(No symbol) [0x00C1886D]\n",
      "\tGetHandleVerifier [0x00FC3EAE+2566302]\n",
      "\tGetHandleVerifier [0x00FF92B1+2784417]\n",
      "\tGetHandleVerifier [0x00FF327C+2759788]\n",
      "\tGetHandleVerifier [0x00DF5740+672048]\n",
      "\t(No symbol) [0x00CF8872]\n",
      "\t(No symbol) [0x00CF41C8]\n",
      "\t(No symbol) [0x00CF42AB]\n",
      "\t(No symbol) [0x00CE71B7]\n",
      "\tBaseThreadInitThunk [0x767100F9+25]\n",
      "\tRtlGetAppContainerNamedObjectPath [0x77097BBE+286]\n",
      "\tRtlGetAppContainerNamedObjectPath [0x77097B8E+238]\n",
      "\n",
      "name 'url' is not defined\n",
      "💤 retrieving https://domo-support.domo.com/s/topic/0to5w000000zao4gac 💤\n"
     ]
    },
    {
     "name": "stderr",
     "output_type": "stream",
     "text": [
      "2023-04-11 17:23:30,302 ERROR:Failed to crawl: https://domo-support.domo.com/s/topic/0to5w000000zao4gac\n",
      "Traceback (most recent call last):\n",
      "  File \"C:\\Users\\jwilson1\\AppData\\Local\\Temp\\1\\ipykernel_3900\\3285275116.py\", line 130, in run\n",
      "    self.crawl(url, debug_prn)\n",
      "  File \"C:\\Users\\jwilson1\\AppData\\Local\\Temp\\1\\ipykernel_3900\\3285275116.py\", line 103, in crawl\n",
      "    article = dca.Article_Category(url=url,\n",
      "  File \"c:\\Users\\jwilson1\\GitHub\\datacrew\\nbs\\projects\\../..\\datacrew\\crawler\\article.py\", line 287, in __init__\n",
      "    raise ArticleKB_GetSoupError(url=url)\n",
      "datacrew.crawler.article.ArticleKB_GetSoupError: failed to retrieve soup for https://domo-support.domo.com/s/topic/0to5w000000zao4gac\n",
      "2023-04-11 17:23:30,304 INFO:Crawling: https://domo-support.domo.com/s/topic/0to5w000000zaohgas\n"
     ]
    },
    {
     "name": "stdout",
     "output_type": "stream",
     "text": [
      "Message: \n",
      "Stacktrace:\n",
      "Backtrace:\n",
      "\tGetHandleVerifier [0x00D5DCE3+50899]\n",
      "\t(No symbol) [0x00CEE111]\n",
      "\t(No symbol) [0x00BF5588]\n",
      "\t(No symbol) [0x00C208F9]\n",
      "\t(No symbol) [0x00C20AFB]\n",
      "\t(No symbol) [0x00C4F902]\n",
      "\t(No symbol) [0x00C3B944]\n",
      "\t(No symbol) [0x00C4E01C]\n",
      "\t(No symbol) [0x00C3B6F6]\n",
      "\t(No symbol) [0x00C17708]\n",
      "\t(No symbol) [0x00C1886D]\n",
      "\tGetHandleVerifier [0x00FC3EAE+2566302]\n",
      "\tGetHandleVerifier [0x00FF92B1+2784417]\n",
      "\tGetHandleVerifier [0x00FF327C+2759788]\n",
      "\tGetHandleVerifier [0x00DF5740+672048]\n",
      "\t(No symbol) [0x00CF8872]\n",
      "\t(No symbol) [0x00CF41C8]\n",
      "\t(No symbol) [0x00CF42AB]\n",
      "\t(No symbol) [0x00CE71B7]\n",
      "\tBaseThreadInitThunk [0x767100F9+25]\n",
      "\tRtlGetAppContainerNamedObjectPath [0x77097BBE+286]\n",
      "\tRtlGetAppContainerNamedObjectPath [0x77097B8E+238]\n",
      "\n",
      "name 'url' is not defined\n",
      "💤 retrieving https://domo-support.domo.com/s/topic/0to5w000000zaohgas 💤\n"
     ]
    },
    {
     "name": "stderr",
     "output_type": "stream",
     "text": [
      "2023-04-11 17:23:46,460 ERROR:Failed to crawl: https://domo-support.domo.com/s/topic/0to5w000000zaohgas\n",
      "Traceback (most recent call last):\n",
      "  File \"C:\\Users\\jwilson1\\AppData\\Local\\Temp\\1\\ipykernel_3900\\3285275116.py\", line 130, in run\n",
      "    self.crawl(url, debug_prn)\n",
      "  File \"C:\\Users\\jwilson1\\AppData\\Local\\Temp\\1\\ipykernel_3900\\3285275116.py\", line 103, in crawl\n",
      "    article = dca.Article_Category(url=url,\n",
      "  File \"c:\\Users\\jwilson1\\GitHub\\datacrew\\nbs\\projects\\../..\\datacrew\\crawler\\article.py\", line 287, in __init__\n",
      "    raise ArticleKB_GetSoupError(url=url)\n",
      "datacrew.crawler.article.ArticleKB_GetSoupError: failed to retrieve soup for https://domo-support.domo.com/s/topic/0to5w000000zaohgas\n",
      "2023-04-11 17:23:46,463 INFO:Crawling: https://domo-support.domo.com/s/topic/0to5w000000zanagas\n"
     ]
    },
    {
     "name": "stdout",
     "output_type": "stream",
     "text": [
      "Message: \n",
      "Stacktrace:\n",
      "Backtrace:\n",
      "\tGetHandleVerifier [0x00D5DCE3+50899]\n",
      "\t(No symbol) [0x00CEE111]\n",
      "\t(No symbol) [0x00BF5588]\n",
      "\t(No symbol) [0x00C208F9]\n",
      "\t(No symbol) [0x00C20AFB]\n",
      "\t(No symbol) [0x00C4F902]\n",
      "\t(No symbol) [0x00C3B944]\n",
      "\t(No symbol) [0x00C4E01C]\n",
      "\t(No symbol) [0x00C3B6F6]\n",
      "\t(No symbol) [0x00C17708]\n",
      "\t(No symbol) [0x00C1886D]\n",
      "\tGetHandleVerifier [0x00FC3EAE+2566302]\n",
      "\tGetHandleVerifier [0x00FF92B1+2784417]\n",
      "\tGetHandleVerifier [0x00FF327C+2759788]\n",
      "\tGetHandleVerifier [0x00DF5740+672048]\n",
      "\t(No symbol) [0x00CF8872]\n",
      "\t(No symbol) [0x00CF41C8]\n",
      "\t(No symbol) [0x00CF42AB]\n",
      "\t(No symbol) [0x00CE71B7]\n",
      "\tBaseThreadInitThunk [0x767100F9+25]\n",
      "\tRtlGetAppContainerNamedObjectPath [0x77097BBE+286]\n",
      "\tRtlGetAppContainerNamedObjectPath [0x77097B8E+238]\n",
      "\n",
      "name 'url' is not defined\n",
      "💤 retrieving https://domo-support.domo.com/s/topic/0to5w000000zanagas 💤\n"
     ]
    },
    {
     "name": "stderr",
     "output_type": "stream",
     "text": [
      "2023-04-11 17:24:02,551 ERROR:Failed to crawl: https://domo-support.domo.com/s/topic/0to5w000000zanagas\n",
      "Traceback (most recent call last):\n",
      "  File \"C:\\Users\\jwilson1\\AppData\\Local\\Temp\\1\\ipykernel_3900\\3285275116.py\", line 130, in run\n",
      "    self.crawl(url, debug_prn)\n",
      "  File \"C:\\Users\\jwilson1\\AppData\\Local\\Temp\\1\\ipykernel_3900\\3285275116.py\", line 103, in crawl\n",
      "    article = dca.Article_Category(url=url,\n",
      "  File \"c:\\Users\\jwilson1\\GitHub\\datacrew\\nbs\\projects\\../..\\datacrew\\crawler\\article.py\", line 287, in __init__\n",
      "    raise ArticleKB_GetSoupError(url=url)\n",
      "datacrew.crawler.article.ArticleKB_GetSoupError: failed to retrieve soup for https://domo-support.domo.com/s/topic/0to5w000000zanagas\n",
      "2023-04-11 17:24:02,552 INFO:Crawling: https://domo-support.domo.com/s/topic/0to5w000000zdtcga0\n"
     ]
    },
    {
     "name": "stdout",
     "output_type": "stream",
     "text": [
      "Message: \n",
      "Stacktrace:\n",
      "Backtrace:\n",
      "\tGetHandleVerifier [0x00D5DCE3+50899]\n",
      "\t(No symbol) [0x00CEE111]\n",
      "\t(No symbol) [0x00BF5588]\n",
      "\t(No symbol) [0x00C208F9]\n",
      "\t(No symbol) [0x00C20AFB]\n",
      "\t(No symbol) [0x00C4F902]\n",
      "\t(No symbol) [0x00C3B944]\n",
      "\t(No symbol) [0x00C4E01C]\n",
      "\t(No symbol) [0x00C3B6F6]\n",
      "\t(No symbol) [0x00C17708]\n",
      "\t(No symbol) [0x00C1886D]\n",
      "\tGetHandleVerifier [0x00FC3EAE+2566302]\n",
      "\tGetHandleVerifier [0x00FF92B1+2784417]\n",
      "\tGetHandleVerifier [0x00FF327C+2759788]\n",
      "\tGetHandleVerifier [0x00DF5740+672048]\n",
      "\t(No symbol) [0x00CF8872]\n",
      "\t(No symbol) [0x00CF41C8]\n",
      "\t(No symbol) [0x00CF42AB]\n",
      "\t(No symbol) [0x00CE71B7]\n",
      "\tBaseThreadInitThunk [0x767100F9+25]\n",
      "\tRtlGetAppContainerNamedObjectPath [0x77097BBE+286]\n",
      "\tRtlGetAppContainerNamedObjectPath [0x77097B8E+238]\n",
      "\n",
      "name 'url' is not defined\n",
      "💤 retrieving https://domo-support.domo.com/s/topic/0to5w000000zdtcga0 💤\n"
     ]
    },
    {
     "name": "stderr",
     "output_type": "stream",
     "text": [
      "2023-04-11 17:24:18,738 ERROR:Failed to crawl: https://domo-support.domo.com/s/topic/0to5w000000zdtcga0\n",
      "Traceback (most recent call last):\n",
      "  File \"C:\\Users\\jwilson1\\AppData\\Local\\Temp\\1\\ipykernel_3900\\3285275116.py\", line 130, in run\n",
      "    self.crawl(url, debug_prn)\n",
      "  File \"C:\\Users\\jwilson1\\AppData\\Local\\Temp\\1\\ipykernel_3900\\3285275116.py\", line 103, in crawl\n",
      "    article = dca.Article_Category(url=url,\n",
      "  File \"c:\\Users\\jwilson1\\GitHub\\datacrew\\nbs\\projects\\../..\\datacrew\\crawler\\article.py\", line 287, in __init__\n",
      "    raise ArticleKB_GetSoupError(url=url)\n",
      "datacrew.crawler.article.ArticleKB_GetSoupError: failed to retrieve soup for https://domo-support.domo.com/s/topic/0to5w000000zdtcga0\n",
      "2023-04-11 17:24:18,738 INFO:Crawling: https://domo-support.domo.com/s/article/360043438973\n"
     ]
    },
    {
     "name": "stdout",
     "output_type": "stream",
     "text": [
      "Message: \n",
      "Stacktrace:\n",
      "Backtrace:\n",
      "\tGetHandleVerifier [0x00D5DCE3+50899]\n",
      "\t(No symbol) [0x00CEE111]\n",
      "\t(No symbol) [0x00BF5588]\n",
      "\t(No symbol) [0x00C208F9]\n",
      "\t(No symbol) [0x00C20AFB]\n",
      "\t(No symbol) [0x00C4F902]\n",
      "\t(No symbol) [0x00C3B944]\n",
      "\t(No symbol) [0x00C4E01C]\n",
      "\t(No symbol) [0x00C3B6F6]\n",
      "\t(No symbol) [0x00C17708]\n",
      "\t(No symbol) [0x00C1886D]\n",
      "\tGetHandleVerifier [0x00FC3EAE+2566302]\n",
      "\tGetHandleVerifier [0x00FF92B1+2784417]\n",
      "\tGetHandleVerifier [0x00FF327C+2759788]\n",
      "\tGetHandleVerifier [0x00DF5740+672048]\n",
      "\t(No symbol) [0x00CF8872]\n",
      "\t(No symbol) [0x00CF41C8]\n",
      "\t(No symbol) [0x00CF42AB]\n",
      "\t(No symbol) [0x00CE71B7]\n",
      "\tBaseThreadInitThunk [0x767100F9+25]\n",
      "\tRtlGetAppContainerNamedObjectPath [0x77097BBE+286]\n",
      "\tRtlGetAppContainerNamedObjectPath [0x77097B8E+238]\n",
      "\n",
      "name 'url' is not defined\n",
      "💤 retrieving https://domo-support.domo.com/s/article/360043438973 💤\n"
     ]
    },
    {
     "name": "stderr",
     "output_type": "stream",
     "text": [
      "2023-04-11 17:24:37,438 INFO:Crawling: https://domo-support.domo.com/s/article/360043428673\n"
     ]
    },
    {
     "name": "stdout",
     "output_type": "stream",
     "text": [
      "💤 retrieving https://domo-support.domo.com/s/article/360043428673 💤\n"
     ]
    },
    {
     "name": "stderr",
     "output_type": "stream",
     "text": [
      "2023-04-11 17:24:45,972 INFO:Crawling: https://domo-support.domo.com/s/article/360043428713\n"
     ]
    },
    {
     "name": "stdout",
     "output_type": "stream",
     "text": [
      "💤 retrieving https://domo-support.domo.com/s/article/360043428713 💤\n"
     ]
    },
    {
     "name": "stderr",
     "output_type": "stream",
     "text": [
      "2023-04-11 17:24:59,886 INFO:Crawling: https://domo-support.domo.com/s/article/360042924174\n"
     ]
    },
    {
     "name": "stdout",
     "output_type": "stream",
     "text": [
      "💤 retrieving https://domo-support.domo.com/s/article/360042924174 💤\n"
     ]
    },
    {
     "name": "stderr",
     "output_type": "stream",
     "text": [
      "2023-04-11 17:25:08,527 INFO:Crawling: https://domo-support.domo.com/s/article/360043428733\n"
     ]
    },
    {
     "name": "stdout",
     "output_type": "stream",
     "text": [
      "💤 retrieving https://domo-support.domo.com/s/article/360043428733 💤\n"
     ]
    },
    {
     "name": "stderr",
     "output_type": "stream",
     "text": [
      "2023-04-11 17:25:18,175 INFO:Crawling: https://domo-support.domo.com/s/article/360043428853\n"
     ]
    },
    {
     "name": "stdout",
     "output_type": "stream",
     "text": [
      "💤 retrieving https://domo-support.domo.com/s/article/360043428853 💤\n"
     ]
    }
   ],
   "source": [
    "crawler = Crawler(\n",
    "    urls_to_visit_ls=[TEST_ARTICLE_URL, TEST_TOPIC_URL], \n",
    "    base_url=BASE_URL, \n",
    "    output_folder= OUTPUT_FOLDER, \n",
    "    is_fresh_start = False\n",
    ")\n",
    "\n",
    "from pprint import pprint\n",
    "pprint(crawler.__dict__)\n",
    "\n",
    "crawler.run(debug_prn=False)"
   ]
  }
 ],
 "metadata": {
  "kernelspec": {
   "display_name": "base",
   "language": "python",
   "name": "python3"
  },
  "language_info": {
   "codemirror_mode": {
    "name": "ipython",
    "version": 3
   },
   "file_extension": ".py",
   "mimetype": "text/x-python",
   "name": "python",
   "nbconvert_exporter": "python",
   "pygments_lexer": "ipython3",
   "version": "3.9.12"
  },
  "vscode": {
   "interpreter": {
    "hash": "b43e631a983881eee635638ba8d16a40e1a13e8bbb48ce0aff152a316858538a"
   }
  }
 },
 "nbformat": 4,
 "nbformat_minor": 2
}
