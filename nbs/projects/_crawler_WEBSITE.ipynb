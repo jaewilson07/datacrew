{
 "cells": [
  {
   "cell_type": "code",
   "execution_count": 1,
   "metadata": {},
   "outputs": [],
   "source": [
    "# use with local installs that don't have nbdev\n",
    "import sys\n",
    "\n",
    "sys.path.insert(0, \"../../\")"
   ]
  },
  {
   "cell_type": "code",
   "execution_count": 2,
   "metadata": {},
   "outputs": [
    {
     "name": "stdout",
     "output_type": "stream",
     "text": [
      "💤 loading https://domo-support.domo.com/s/article/360043429913 💤\n",
      "Page https://domo-support.domo.com/s/article/360043429913 is loaded within 10 seconds.\n"
     ]
    }
   ],
   "source": [
    "from selenium.webdriver.common.by import By\n",
    "import datacrew.crawler.crawler as dcc\n",
    "import datacrew.crawler.article as dca\n",
    "\n",
    "\n",
    "URL = \"https://domo-support.domo.com/s/article/360047400753?language=en_US\"\n",
    "URL = \"https://domo-support.domo.com/s/article/360043429913\"\n",
    "BASE_URL = \"https://domo-support.domo.com\"\n",
    "IMG_BASE_URL = \"https://domo-support.domo.com/servlet/rtaImage\"\n",
    "\n",
    "driver = dcc.driversetup(is_headless=False)\n",
    "\n",
    "test_article = dca.Article_KB(url=URL, driver=driver, base_url=BASE_URL)"
   ]
  },
  {
   "attachments": {},
   "cell_type": "markdown",
   "metadata": {},
   "source": [
    "# Utility Functions\n",
    "\n",
    "## string manipulation\n"
   ]
  },
  {
   "cell_type": "code",
   "execution_count": 3,
   "metadata": {},
   "outputs": [],
   "source": [
    "import re\n",
    "\n",
    "def convert_to_snake(text_str):\n",
    "    \"\"\"converts 'snake_case_str' to 'snakeCaseStr'\"\"\"\n",
    "\n",
    "    return text_str.replace(\" \", \"_\").lower()\n",
    "\n",
    "\n",
    "def clean_url_name(path_name):\n",
    "    valid_chars = r\"[^a-zA-Z0-9_]\"\n",
    "\n",
    "    return re.sub(valid_chars, \"\", path_name)"
   ]
  },
  {
   "attachments": {},
   "cell_type": "markdown",
   "metadata": {},
   "source": [
    "## process html files\n"
   ]
  },
  {
   "cell_type": "code",
   "execution_count": 4,
   "metadata": {},
   "outputs": [
    {
     "name": "stdout",
     "output_type": "stream",
     "text": [
      "downloading https://domo-support.domo.com/servlet/rtaImage?eid=ka05w000001248e&feoid=00N5w00000Ri7BU&refid=0EM5w000005vOEH to ../../raw_kb/adding_a_beast_mode_calculation_to_your_chart/Beast_Mode_Dialog.jpg.  replacing article with /servlet/rtaImage?eid=ka05w000001248e&feoid=00N5w00000Ri7BU&refid=0EM5w000005vOEH with Beast_Mode_Dialog.jpg\n",
      "downloading https://domo-support.domo.com/servlet/rtaImage?eid=ka05w000001248e&feoid=00N5w00000Ri7BU&refid=0EM5w000005vOED to ../../raw_kb/adding_a_beast_mode_calculation_to_your_chart/Beast_Mode_Modal.png.  replacing article with /servlet/rtaImage?eid=ka05w000001248e&feoid=00N5w00000Ri7BU&refid=0EM5w000005vOED with Beast_Mode_Modal.png\n"
     ]
    },
    {
     "data": {
      "text/plain": [
       "[{'url': 'https://domo-support.domo.com/servlet/rtaImage?eid=ka05w000001248e&feoid=00N5w00000Ri7BU&refid=0EM5w000005vOEH',\n",
       "  'relative_url': '/servlet/rtaImage?eid=ka05w000001248e&feoid=00N5w00000Ri7BU&refid=0EM5w000005vOEH',\n",
       "  'name': 'Beast_Mode_Dialog.jpg'},\n",
       " {'url': 'https://domo-support.domo.com/servlet/rtaImage?eid=ka05w000001248e&feoid=00N5w00000Ri7BU&refid=0EM5w000005vOEE',\n",
       "  'relative_url': '/servlet/rtaImage?eid=ka05w000001248e&feoid=00N5w00000Ri7BU&refid=0EM5w000005vOEE',\n",
       "  'name': ''},\n",
       " {'url': 'https://domo-support.domo.com/servlet/rtaImage?eid=ka05w000001248e&feoid=00N5w00000Ri7BU&refid=0EM5w000005vOED',\n",
       "  'relative_url': '/servlet/rtaImage?eid=ka05w000001248e&feoid=00N5w00000Ri7BU&refid=0EM5w000005vOED',\n",
       "  'name': 'Beast_Mode_Modal.png'},\n",
       " {'url': 'https://domo-support.domo.com/servlet/rtaImage?eid=ka05w000001248e&feoid=00N5w00000Ri7BU&refid=0EM5w000005vOEE',\n",
       "  'relative_url': '/servlet/rtaImage?eid=ka05w000001248e&feoid=00N5w00000Ri7BU&refid=0EM5w000005vOEE',\n",
       "  'name': ''},\n",
       " {'url': 'https://domo-support.domo.com/servlet/rtaImage?eid=ka05w000001248e&feoid=00N5w00000Ri7BU&refid=0EM5w000005vOEE',\n",
       "  'relative_url': '/servlet/rtaImage?eid=ka05w000001248e&feoid=00N5w00000Ri7BU&refid=0EM5w000005vOEE',\n",
       "  'name': ''}]"
      ]
     },
     "execution_count": 4,
     "metadata": {},
     "output_type": "execute_result"
    }
   ],
   "source": [
    "import requests\n",
    "\n",
    "\n",
    "def download_img(image_url, image_path, debug_prn: bool = False):\n",
    "\n",
    "    img_data = requests.get(image_url).content\n",
    "\n",
    "    with open(image_path, \"wb\") as handler:\n",
    "        if debug_prn:\n",
    "            print(f\"downloading {image_url} to {image_path}\")\n",
    "        handler.write(img_data)\n",
    "\n",
    "\n",
    "def get_images(\n",
    "    article: dca.Article,\n",
    "    output_path: str,\n",
    "    test_base_url: str = None,\n",
    "    debug_prn: bool = False,\n",
    "):\n",
    "\n",
    "    # process image soup\n",
    "    image_ls = [\n",
    "        {\n",
    "            \"url\": f\"{BASE_URL if item.get('src').startswith('/') else ''}{item.get('src')}\",\n",
    "            \"relative_url\": item.get(\"src\"),\n",
    "            \"name\": item.get(\"alt\"),\n",
    "        }\n",
    "        for item in article.soup.find_all(\"img\")\n",
    "    ]\n",
    "\n",
    "    if test_base_url:\n",
    "        image_ls = [img for img in image_ls if img.get(\"url\").startswith(test_base_url)]\n",
    "\n",
    "    # download images\n",
    "    for img in image_ls:\n",
    "\n",
    "        img_name = img.get(\"name\")\n",
    "\n",
    "        if not img_name:\n",
    "            continue\n",
    "\n",
    "        img_url = img.get(\"url\")\n",
    "        img_path = f\"{output_path}/{img_name}\"\n",
    "        img_rel_path = img.get(\"relative_url\")\n",
    "\n",
    "        if debug_prn:\n",
    "            print(\n",
    "                f\"downloading {img_url} to {img_path}.  replacing article with {img_rel_path} with {img_name}\"\n",
    "            )\n",
    "\n",
    "        download_img(image_url=img_url, image_path=img_path)\n",
    "\n",
    "        article.md_str = article.md_str.replace(img_rel_path, img_name)\n",
    "\n",
    "    return image_ls\n",
    "\n",
    "\n",
    "test_base_url = \"https://domo-support.domo.com/servlet/rtaImage\"\n",
    "test_output_path = \"../../raw_kb/adding_a_beast_mode_calculation_to_your_chart\"\n",
    "\n",
    "get_images(\n",
    "    article=test_article,\n",
    "    test_base_url=test_base_url,\n",
    "    output_path=test_output_path,\n",
    "    debug_prn=True,\n",
    ")"
   ]
  },
  {
   "attachments": {},
   "cell_type": "markdown",
   "metadata": {},
   "source": [
    "## handle markdown\n"
   ]
  },
  {
   "cell_type": "code",
   "execution_count": 5,
   "metadata": {},
   "outputs": [],
   "source": [
    "from tempfile import mkstemp\n",
    "from os import fdopen, remove\n",
    "import textwrap\n",
    "from shutil import move, copymode\n",
    "\n",
    "\n",
    "def dedent_frontmatter(file_path):\n",
    "    # Create temp file\n",
    "    fh, abs_path = mkstemp()\n",
    "    with fdopen(fh, \"w\") as new_file:\n",
    "        with open(file_path) as old_file:\n",
    "            count_frontmatter = 0\n",
    "            for line in old_file:\n",
    "                if count_frontmatter < 2:\n",
    "                    if \"---\" in line:\n",
    "                        count_frontmatter += 1\n",
    "                    new_file.write(textwrap.dedent(line))\n",
    "                else:\n",
    "                    new_file.write(line)\n",
    "    # Copy the file permissions from the old file to the new file\n",
    "    copymode(file_path, abs_path)\n",
    "    # Remove original file\n",
    "    remove(file_path)\n",
    "    # Move new file\n",
    "    move(abs_path, file_path)\n",
    "\n",
    "\n",
    "def add_frontmatter(front_matter, file_path: str):\n",
    "    with open(file_path, \"r+\", encoding=\"utf-8\") as md_file:\n",
    "        file_data = md_file.read()  # Save all the file's content\n",
    "        md_file.seek(0, 0)  # Place file pointer at the beginning\n",
    "        md_file.write(front_matter)\n",
    "        md_file.write(\"\\n\" + file_data)\n",
    "\n",
    "    # dedent_frontmatter(file_path)"
   ]
  },
  {
   "cell_type": "code",
   "execution_count": 6,
   "metadata": {},
   "outputs": [],
   "source": [
    "import re\n",
    "\n",
    "def article_cleansing(article: dca.Article):\n",
    "    compiled = re.compile(re.escape(\"youtube-nocookie.com\"), re.IGNORECASE)\n",
    "    article.md_str = compiled.sub(\"youtube.com\", article.md_str)"
   ]
  },
  {
   "cell_type": "code",
   "execution_count": 21,
   "metadata": {},
   "outputs": [],
   "source": [
    "from mdutils.mdutils import MdUtils\n",
    "\n",
    "\n",
    "def output_md(article: dca.Article, output_index: str, debug_prn: bool = False):\n",
    "    \n",
    "    md_file = MdUtils(file_name=output_index)\n",
    "\n",
    "    md_file.write(article.md_str)\n",
    "\n",
    "    md_file.create_md_file()\n",
    "\n",
    "    frontmatter_obj = f\"\"\"---\n",
    "title : {article.title}\n",
    "categories: { [link for link in article.url_ls if '/s/topic/' in link]}\n",
    "date: {str(article.last_updated)}\n",
    "\n",
    "url : {article.url}\n",
    "linked_kbs :  { list(set([ md_file.new_inline_link(link) for link in article.url_ls]))}\n",
    "article_id : {article.article_id}\n",
    "views : {article.views}\n",
    "created_date : {str(article.created)}\n",
    "last updated : {str(article.last_updated)}\n",
    "---\"\"\"\n",
    "    if debug_prn:\n",
    "        print(f\"front_matter {output_index}\")\n",
    "\n",
    "    add_frontmatter(front_matter=frontmatter_obj, file_path=f\"{output_index}.md\")"
   ]
  },
  {
   "cell_type": "code",
   "execution_count": 14,
   "metadata": {},
   "outputs": [],
   "source": [
    "def output_qmd(output_index):\n",
    "    qmd_path = f\"{output_index}.qmd\"\n",
    "\n",
    "    if os.path.exists(qmd_path):\n",
    "        os.remove(qmd_path)\n",
    "\n",
    "    os.rename(f\"{output_index}.md\", qmd_path)\n"
   ]
  },
  {
   "cell_type": "code",
   "execution_count": 9,
   "metadata": {},
   "outputs": [],
   "source": [
    "def output_html(output_html, soup):\n",
    "    with open(output_html, 'w') as f:\n",
    "        f.write(str(soup))"
   ]
  },
  {
   "cell_type": "code",
   "execution_count": 22,
   "metadata": {},
   "outputs": [
    {
     "name": "stdout",
     "output_type": "stream",
     "text": [
      "outputing 'Adding a Beast Mode Calculation to Your Chart' to ../../raw_kb\\adding_a_beast_mode_calculation_to_your_chart\n",
      "downloading https://domo-support.domo.com/servlet/rtaImage?eid=ka05w000001248e&feoid=00N5w00000Ri7BU&refid=0EM5w000005vOEH to ../../raw_kb\\adding_a_beast_mode_calculation_to_your_chart/Beast_Mode_Dialog.jpg.  replacing article with /servlet/rtaImage?eid=ka05w000001248e&feoid=00N5w00000Ri7BU&refid=0EM5w000005vOEH with Beast_Mode_Dialog.jpg\n",
      "downloading https://domo-support.domo.com/servlet/rtaImage?eid=ka05w000001248e&feoid=00N5w00000Ri7BU&refid=0EM5w000005vOED to ../../raw_kb\\adding_a_beast_mode_calculation_to_your_chart/Beast_Mode_Modal.png.  replacing article with /servlet/rtaImage?eid=ka05w000001248e&feoid=00N5w00000Ri7BU&refid=0EM5w000005vOED with Beast_Mode_Modal.png\n",
      "front_matter ../../raw_kb\\adding_a_beast_mode_calculation_to_your_chart\\index\n"
     ]
    },
    {
     "data": {
      "text/plain": [
       "'../../raw_kb\\\\adding_a_beast_mode_calculation_to_your_chart'"
      ]
     },
     "execution_count": 22,
     "metadata": {},
     "output_type": "execute_result"
    }
   ],
   "source": [
    "import os\n",
    "\n",
    "\n",
    "def output_article(\n",
    "    article: str,\n",
    "    output_folder: str = \"../../raw_kb\",\n",
    "    debug_prn: bool = False,\n",
    "):\n",
    "    article_title = article.title\n",
    "\n",
    "    output_path = os.path.join(\n",
    "        output_folder, clean_url_name(convert_to_snake(article_title))\n",
    "    )\n",
    "\n",
    "    if not os.path.exists(output_path):\n",
    "        os.makedirs(output_path)\n",
    "\n",
    "    if debug_prn:\n",
    "        print(f\"outputing '{article_title}' to {output_path}\")\n",
    "\n",
    "    get_images(\n",
    "        article=article,\n",
    "        test_base_url=IMG_BASE_URL,\n",
    "        output_path=output_path,\n",
    "        debug_prn=debug_prn,\n",
    "    )\n",
    "\n",
    "    article_cleansing(article = article)\n",
    "\n",
    "    output_index = f\"{output_path}\\index\"\n",
    "\n",
    "    output_html(output_html = f\"{output_path}/doc.html\", soup = article.soup)\n",
    "\n",
    "\n",
    "    output_md(article=article, output_index=output_index, debug_prn=debug_prn)\n",
    "\n",
    "    output_qmd(output_index=output_index)\n",
    "\n",
    "    return output_path\n",
    "\n",
    "\n",
    "test_article.get_images()\n",
    "output_article(article=test_article, debug_prn=True)"
   ]
  },
  {
   "cell_type": "code",
   "execution_count": 11,
   "metadata": {},
   "outputs": [],
   "source": [
    "import logging\n",
    "import selenium.webdriver\n",
    "\n",
    "logging.basicConfig(format=\"%(asctime)s %(levelname)s:%(message)s\", level=logging.INFO)\n",
    "\n",
    "\n",
    "class Crawler:\n",
    "    base_url: str\n",
    "    output_folder: str\n",
    "    urls_visited_ls: list[str]\n",
    "    urls_to_vist_ls: list[str]\n",
    "\n",
    "    driver: selenium.webdriver\n",
    "\n",
    "    def __init__(\n",
    "        self,\n",
    "        urls_to_visit_ls: list[str] = None,\n",
    "        base_url=None,\n",
    "        output_folder=\"../../raw_kb/\",\n",
    "    ):\n",
    "\n",
    "        self.base_url = base_url\n",
    "        self.output_folder = output_folder\n",
    "        self.urls_visited_ls = []\n",
    "        self.urls_to_visit_ls = urls_to_visit_ls\n",
    "        self.article_ls = []\n",
    "        self.driver = dcc.driversetup(is_headless=False)\n",
    "\n",
    "    def add_url_to_visit(self, url, debug_prn: bool = False):\n",
    "        if url not in self.urls_visited_ls and url not in self.urls_to_visit_ls:\n",
    "            if debug_prn:\n",
    "                print(f\"adding url to list - {url}\")\n",
    "\n",
    "            self.urls_to_visit_ls.append(url)\n",
    "\n",
    "    def crawl(self, url, debug_prn: bool = False):\n",
    "        if debug_prn:\n",
    "            print(f\"starting crawl - {url}\")\n",
    "\n",
    "        article = dca.Article_KB(url=url, base_url=self.base_url, driver=driver)\n",
    "\n",
    "        for url in article.url_ls:\n",
    "            self.add_url_to_visit(url=url, debug_prn=debug_prn)\n",
    "\n",
    "        if article.is_success:\n",
    "            output_md(\n",
    "                article=article, output_folder=self.output_folder, debug_prn=debug_prn\n",
    "            )\n",
    "\n",
    "    def run(self, debug_prn: bool = False):\n",
    "        while self.urls_to_visit_ls:\n",
    "            url = self.urls_to_visit_ls.pop(0)\n",
    "\n",
    "            logging.info(f\"Crawling: {url}\")\n",
    "\n",
    "            try:\n",
    "                self.crawl(url, debug_prn)\n",
    "            except Exception:\n",
    "                logging.exception(f\"Failed to crawl: {url}\")\n",
    "            finally:\n",
    "                self.urls_visited_ls.append(url)\n",
    "\n",
    "        print(\"done\")\n",
    "        return self"
   ]
  },
  {
   "cell_type": "code",
   "execution_count": 12,
   "metadata": {},
   "outputs": [
    {
     "name": "stderr",
     "output_type": "stream",
     "text": [
      "2023-04-09 20:18:09,011 INFO:Crawling: https://domo-support.domo.com/s/article/360043429913\n"
     ]
    },
    {
     "name": "stdout",
     "output_type": "stream",
     "text": [
      "starting crawl - https://domo-support.domo.com/s/article/360043429913\n",
      "💤 loading https://domo-support.domo.com/s/article/360043429913 💤\n"
     ]
    },
    {
     "name": "stderr",
     "output_type": "stream",
     "text": [
      "2023-04-09 20:18:12,131 ERROR:Failed to crawl: https://domo-support.domo.com/s/article/360043429913\n",
      "Traceback (most recent call last):\n",
      "  File \"C:\\Users\\jwilson1\\AppData\\Local\\Temp\\1\\ipykernel_12464\\4246888015.py\", line 57, in run\n",
      "    self.crawl(url, debug_prn)\n",
      "  File \"C:\\Users\\jwilson1\\AppData\\Local\\Temp\\1\\ipykernel_12464\\4246888015.py\", line 46, in crawl\n",
      "    output_md(\n",
      "TypeError: output_md() got an unexpected keyword argument 'output_folder'\n",
      "2023-04-09 20:18:12,132 INFO:Crawling: https://domo-support.domo.com/s/knowledge-base\n"
     ]
    },
    {
     "name": "stdout",
     "output_type": "stream",
     "text": [
      "Page https://domo-support.domo.com/s/article/360043429913 is loaded within 10 seconds.\n",
      "adding url to list - https://domo-support.domo.com/s/knowledge-base\n",
      "adding url to list - https://domo-support.domo.com/s/topic/0TO5w000000ZamwGAC/release-notes\n",
      "adding url to list - https://domo-support.domo.com/s/knowledge-base/\n",
      "adding url to list - https://domo-support.domo.com/s/topic/0TO5w000000ZamoGAC\n",
      "adding url to list - https://domo-support.domo.com/s/topic/0TO5w000000ZanAGAS\n",
      "adding url to list - https://domo-support.domo.com/s/article/360042924034\n",
      "adding url to list - https://domo-support.domo.com/s/article/360043429933\n",
      "adding url to list - https://domo-support.domo.com/s/article/360043429953\n",
      "adding url to list - https://domo-support.domo.com/s/article/360042924094\n",
      "adding url to list - https://domo-support.domo.com/s/article/360043429993\n",
      "adding url to list - https://domo-support.domo.com/s/article/360043428753\n",
      "adding url to list - https://domo-support.domo.com/s/article/360043429913\n",
      "adding url to list - https://domo-support.domo.com/s/topic/0TO5w000000ZanAGAS/beast-mode\n",
      "adding url to list - https://domo-support.domo.com/s/article/360042925494\n",
      "adding url to list - https://domo-support.domo.com/s/article/360043429693\n",
      "starting crawl - https://domo-support.domo.com/s/knowledge-base\n",
      "💤 loading https://domo-support.domo.com/s/knowledge-base 💤\n"
     ]
    },
    {
     "name": "stderr",
     "output_type": "stream",
     "text": [
      "2023-04-09 20:18:28,737 INFO:Crawling: https://domo-support.domo.com/s/topic/0TO5w000000ZamwGAC/release-notes\n"
     ]
    },
    {
     "name": "stdout",
     "output_type": "stream",
     "text": [
      "Message: \n",
      "Stacktrace:\n",
      "Backtrace:\n",
      "\tGetHandleVerifier [0x002FDCE3+50899]\n",
      "\t(No symbol) [0x0028E111]\n",
      "\t(No symbol) [0x00195588]\n",
      "\t(No symbol) [0x001C08F9]\n",
      "\t(No symbol) [0x001C0AFB]\n",
      "\t(No symbol) [0x001EF902]\n",
      "\t(No symbol) [0x001DB944]\n",
      "\t(No symbol) [0x001EE01C]\n",
      "\t(No symbol) [0x001DB6F6]\n",
      "\t(No symbol) [0x001B7708]\n",
      "\t(No symbol) [0x001B886D]\n",
      "\tGetHandleVerifier [0x00563EAE+2566302]\n",
      "\tGetHandleVerifier [0x005992B1+2784417]\n",
      "\tGetHandleVerifier [0x0059327C+2759788]\n",
      "\tGetHandleVerifier [0x00395740+672048]\n",
      "\t(No symbol) [0x00298872]\n",
      "\t(No symbol) [0x002941C8]\n",
      "\t(No symbol) [0x002942AB]\n",
      "\t(No symbol) [0x002871B7]\n",
      "\tBaseThreadInitThunk [0x767100F9+25]\n",
      "\tRtlGetAppContainerNamedObjectPath [0x77097BBE+286]\n",
      "\tRtlGetAppContainerNamedObjectPath [0x77097B8E+238]\n",
      "\t(No symbol) [0x00000000]\n",
      "\n",
      "Timeout Exception: Page https://domo-support.domo.com/s/knowledge-base did not load within 10 seconds.\n",
      "search term slds-form-element does not exist in https://domo-support.domo.com/s/knowledge-base\n",
      "adding url to list - https://domo-support.domo.com/s/knowledge-base\n",
      "adding url to list - https://domo-support.domo.com/s/topic/0TO5w000000ZamsGAC\n",
      "adding url to list - https://domo-support.domo.com/s/topic/0TO5w000000ZammGAC\n",
      "adding url to list - https://domo-support.domo.com/s/topic/0TO5w000000ZamzGAC\n",
      "adding url to list - https://domo-support.domo.com/s/topic/0TO5w000000ZamnGAC\n",
      "adding url to list - https://domo-support.domo.com/s/topic/0TO5w000000ZamlGAC\n",
      "adding url to list - https://domo-support.domo.com/s/topic/0TO5w000000ZamqGAC\n",
      "adding url to list - https://domo-support.domo.com/s/topic/0TO5w000000Zan0GAC\n",
      "adding url to list - https://domo-support.domo.com/s/topic/0TO5w000000Zan2GAC\n",
      "adding url to list - https://domo-support.domo.com/s/topic/0TO5w000000ZampGAC\n",
      "adding url to list - https://domo-support.domo.com/s/topic/0TO5w000000ZamwGAC\n",
      "adding url to list - https://domo-support.domo.com/s/topic/0TO5w000000Zan1GAC\n",
      "adding url to list - https://domo-support.domo.com/s/topic/0TO5w000000ZamyGAC\n",
      "starting crawl - https://domo-support.domo.com/s/topic/0TO5w000000ZamwGAC/release-notes\n",
      "💤 loading https://domo-support.domo.com/s/topic/0TO5w000000ZamwGAC/release-notes 💤\n"
     ]
    },
    {
     "name": "stderr",
     "output_type": "stream",
     "text": [
      "2023-04-09 20:18:45,099 INFO:Crawling: https://domo-support.domo.com/s/knowledge-base/\n"
     ]
    },
    {
     "name": "stdout",
     "output_type": "stream",
     "text": [
      "Message: \n",
      "Stacktrace:\n",
      "Backtrace:\n",
      "\tGetHandleVerifier [0x002FDCE3+50899]\n",
      "\t(No symbol) [0x0028E111]\n",
      "\t(No symbol) [0x00195588]\n",
      "\t(No symbol) [0x001C08F9]\n",
      "\t(No symbol) [0x001C0AFB]\n",
      "\t(No symbol) [0x001EF902]\n",
      "\t(No symbol) [0x001DB944]\n",
      "\t(No symbol) [0x001EE01C]\n",
      "\t(No symbol) [0x001DB6F6]\n",
      "\t(No symbol) [0x001B7708]\n",
      "\t(No symbol) [0x001B886D]\n",
      "\tGetHandleVerifier [0x00563EAE+2566302]\n",
      "\tGetHandleVerifier [0x005992B1+2784417]\n",
      "\tGetHandleVerifier [0x0059327C+2759788]\n",
      "\tGetHandleVerifier [0x00395740+672048]\n",
      "\t(No symbol) [0x00298872]\n",
      "\t(No symbol) [0x002941C8]\n",
      "\t(No symbol) [0x002942AB]\n",
      "\t(No symbol) [0x002871B7]\n",
      "\tBaseThreadInitThunk [0x767100F9+25]\n",
      "\tRtlGetAppContainerNamedObjectPath [0x77097BBE+286]\n",
      "\tRtlGetAppContainerNamedObjectPath [0x77097B8E+238]\n",
      "\t(No symbol) [0x00000000]\n",
      "\n",
      "Timeout Exception: Page https://domo-support.domo.com/s/topic/0TO5w000000ZamwGAC/release-notes did not load within 10 seconds.\n",
      "search term slds-form-element does not exist in https://domo-support.domo.com/s/topic/0TO5w000000ZamwGAC/release-notes\n",
      "adding url to list - https://domo-support.domo.com/s/topic/0TO5w000000ZamwGAC/release-notes\n",
      "adding url to list - https://domo-support.domo.com/s/topic/0TO5w000000Zan7GAC\n",
      "adding url to list - https://domo-support.domo.com/s/topic/0TO5w000000ZanNGAS\n",
      "starting crawl - https://domo-support.domo.com/s/knowledge-base/\n",
      "💤 loading https://domo-support.domo.com/s/knowledge-base/ 💤\n"
     ]
    },
    {
     "ename": "KeyboardInterrupt",
     "evalue": "",
     "output_type": "error",
     "traceback": [
      "\u001b[1;31m---------------------------------------------------------------------------\u001b[0m",
      "\u001b[1;31mKeyboardInterrupt\u001b[0m                         Traceback (most recent call last)",
      "Cell \u001b[1;32mIn[12], line 5\u001b[0m\n\u001b[0;32m      1\u001b[0m crawler \u001b[39m=\u001b[39m Crawler(\n\u001b[0;32m      2\u001b[0m     urls_to_visit_ls\u001b[39m=\u001b[39m[URL], base_url\u001b[39m=\u001b[39mBASE_URL, output_folder\u001b[39m=\u001b[39m\u001b[39m\"\u001b[39m\u001b[39m../../raw_kb\u001b[39m\u001b[39m\"\u001b[39m\n\u001b[0;32m      3\u001b[0m )\n\u001b[1;32m----> 5\u001b[0m crawler\u001b[39m.\u001b[39;49mrun(debug_prn\u001b[39m=\u001b[39;49m\u001b[39mTrue\u001b[39;49;00m)\n",
      "Cell \u001b[1;32mIn[11], line 57\u001b[0m, in \u001b[0;36mCrawler.run\u001b[1;34m(self, debug_prn)\u001b[0m\n\u001b[0;32m     54\u001b[0m logging\u001b[39m.\u001b[39minfo(\u001b[39mf\u001b[39m\u001b[39m\"\u001b[39m\u001b[39mCrawling: \u001b[39m\u001b[39m{\u001b[39;00murl\u001b[39m}\u001b[39;00m\u001b[39m\"\u001b[39m)\n\u001b[0;32m     56\u001b[0m \u001b[39mtry\u001b[39;00m:\n\u001b[1;32m---> 57\u001b[0m     \u001b[39mself\u001b[39;49m\u001b[39m.\u001b[39;49mcrawl(url, debug_prn)\n\u001b[0;32m     58\u001b[0m \u001b[39mexcept\u001b[39;00m \u001b[39mException\u001b[39;00m:\n\u001b[0;32m     59\u001b[0m     logging\u001b[39m.\u001b[39mexception(\u001b[39mf\u001b[39m\u001b[39m\"\u001b[39m\u001b[39mFailed to crawl: \u001b[39m\u001b[39m{\u001b[39;00murl\u001b[39m}\u001b[39;00m\u001b[39m\"\u001b[39m)\n",
      "Cell \u001b[1;32mIn[11], line 40\u001b[0m, in \u001b[0;36mCrawler.crawl\u001b[1;34m(self, url, debug_prn)\u001b[0m\n\u001b[0;32m     37\u001b[0m \u001b[39mif\u001b[39;00m debug_prn:\n\u001b[0;32m     38\u001b[0m     \u001b[39mprint\u001b[39m(\u001b[39mf\u001b[39m\u001b[39m\"\u001b[39m\u001b[39mstarting crawl - \u001b[39m\u001b[39m{\u001b[39;00murl\u001b[39m}\u001b[39;00m\u001b[39m\"\u001b[39m)\n\u001b[1;32m---> 40\u001b[0m article \u001b[39m=\u001b[39m dca\u001b[39m.\u001b[39;49mArticle_KB(url\u001b[39m=\u001b[39;49murl, base_url\u001b[39m=\u001b[39;49m\u001b[39mself\u001b[39;49m\u001b[39m.\u001b[39;49mbase_url, driver\u001b[39m=\u001b[39;49mdriver)\n\u001b[0;32m     42\u001b[0m \u001b[39mfor\u001b[39;00m url \u001b[39min\u001b[39;00m article\u001b[39m.\u001b[39murl_ls:\n\u001b[0;32m     43\u001b[0m     \u001b[39mself\u001b[39m\u001b[39m.\u001b[39madd_url_to_visit(url\u001b[39m=\u001b[39murl, debug_prn\u001b[39m=\u001b[39mdebug_prn)\n",
      "File \u001b[1;32mc:\\Users\\jwilson1\\GitHub\\datacrew\\nbs\\projects\\../..\\datacrew\\crawler\\article.py:137\u001b[0m, in \u001b[0;36mArticle_KB.__init__\u001b[1;34m(self, url, base_url, driver, url_entity_prefix, debug_prn)\u001b[0m\n\u001b[0;32m    134\u001b[0m \u001b[39mself\u001b[39m\u001b[39m.\u001b[39mbase_url \u001b[39m=\u001b[39m base_url\n\u001b[0;32m    135\u001b[0m \u001b[39mself\u001b[39m\u001b[39m.\u001b[39mdriver \u001b[39m=\u001b[39m driver\n\u001b[1;32m--> 137\u001b[0m soup \u001b[39m=\u001b[39m dcc\u001b[39m.\u001b[39;49mpagesource(driver\u001b[39m=\u001b[39;49m\u001b[39mself\u001b[39;49m\u001b[39m.\u001b[39;49mdriver, url\u001b[39m=\u001b[39;49m\u001b[39mself\u001b[39;49m\u001b[39m.\u001b[39;49murl,\n\u001b[0;32m    138\u001b[0m                       element_type\u001b[39m=\u001b[39;49mBy\u001b[39m.\u001b[39;49mCLASS_NAME, element_id\u001b[39m=\u001b[39;49m\u001b[39m\"\u001b[39;49m\u001b[39mslds-form-element\u001b[39;49m\u001b[39m\"\u001b[39;49m)\n\u001b[0;32m    140\u001b[0m \u001b[39mif\u001b[39;00m \u001b[39mnot\u001b[39;00m soup:\n\u001b[0;32m    141\u001b[0m     \u001b[39mraise\u001b[39;00m ArticleKB_GetSoupError(url\u001b[39m=\u001b[39m\u001b[39mself\u001b[39m\u001b[39m.\u001b[39murl)\n",
      "File \u001b[1;32mc:\\Users\\jwilson1\\GitHub\\datacrew\\nbs\\projects\\../..\\datacrew\\crawler\\crawler.py:94\u001b[0m, in \u001b[0;36mpagesource\u001b[1;34m(url, element_id, element_type, driver)\u001b[0m\n\u001b[0;32m     90\u001b[0m driver \u001b[39m=\u001b[39m driver \u001b[39mor\u001b[39;00m driversetup()\n\u001b[0;32m     92\u001b[0m \u001b[39mprint\u001b[39m(\u001b[39mf\u001b[39m\u001b[39m\"\u001b[39m\u001b[39m💤 loading \u001b[39m\u001b[39m{\u001b[39;00murl\u001b[39m}\u001b[39;00m\u001b[39m 💤\u001b[39m\u001b[39m\"\u001b[39m)\n\u001b[1;32m---> 94\u001b[0m driver\u001b[39m.\u001b[39;49mget(url)\n\u001b[0;32m     96\u001b[0m \u001b[39mtry\u001b[39;00m:\n\u001b[0;32m     97\u001b[0m     ele \u001b[39m=\u001b[39m WebDriverWait(driver, timeout\u001b[39m=\u001b[39m\u001b[39m15\u001b[39m, poll_frequency\u001b[39m=\u001b[39m\u001b[39m1\u001b[39m)\u001b[39m.\u001b[39muntil(\n\u001b[0;32m     98\u001b[0m         EC\u001b[39m.\u001b[39mpresence_of_element_located(\n\u001b[0;32m     99\u001b[0m             (element_type, element_id))\n\u001b[0;32m    100\u001b[0m     )\n",
      "File \u001b[1;32mc:\\Users\\jwilson1\\Miniconda3\\lib\\site-packages\\selenium\\webdriver\\remote\\webdriver.py:449\u001b[0m, in \u001b[0;36mWebDriver.get\u001b[1;34m(self, url)\u001b[0m\n\u001b[0;32m    447\u001b[0m \u001b[39mdef\u001b[39;00m \u001b[39mget\u001b[39m(\u001b[39mself\u001b[39m, url: \u001b[39mstr\u001b[39m) \u001b[39m-\u001b[39m\u001b[39m>\u001b[39m \u001b[39mNone\u001b[39;00m:\n\u001b[0;32m    448\u001b[0m     \u001b[39m\"\"\"Loads a web page in the current browser session.\"\"\"\u001b[39;00m\n\u001b[1;32m--> 449\u001b[0m     \u001b[39mself\u001b[39;49m\u001b[39m.\u001b[39;49mexecute(Command\u001b[39m.\u001b[39;49mGET, {\u001b[39m\"\u001b[39;49m\u001b[39murl\u001b[39;49m\u001b[39m\"\u001b[39;49m: url})\n",
      "File \u001b[1;32mc:\\Users\\jwilson1\\Miniconda3\\lib\\site-packages\\selenium\\webdriver\\remote\\webdriver.py:438\u001b[0m, in \u001b[0;36mWebDriver.execute\u001b[1;34m(self, driver_command, params)\u001b[0m\n\u001b[0;32m    435\u001b[0m     \u001b[39melif\u001b[39;00m \u001b[39m\"\u001b[39m\u001b[39msessionId\u001b[39m\u001b[39m\"\u001b[39m \u001b[39mnot\u001b[39;00m \u001b[39min\u001b[39;00m params:\n\u001b[0;32m    436\u001b[0m         params[\u001b[39m\"\u001b[39m\u001b[39msessionId\u001b[39m\u001b[39m\"\u001b[39m] \u001b[39m=\u001b[39m \u001b[39mself\u001b[39m\u001b[39m.\u001b[39msession_id\n\u001b[1;32m--> 438\u001b[0m response \u001b[39m=\u001b[39m \u001b[39mself\u001b[39;49m\u001b[39m.\u001b[39;49mcommand_executor\u001b[39m.\u001b[39;49mexecute(driver_command, params)\n\u001b[0;32m    439\u001b[0m \u001b[39mif\u001b[39;00m response:\n\u001b[0;32m    440\u001b[0m     \u001b[39mself\u001b[39m\u001b[39m.\u001b[39merror_handler\u001b[39m.\u001b[39mcheck_response(response)\n",
      "File \u001b[1;32mc:\\Users\\jwilson1\\Miniconda3\\lib\\site-packages\\selenium\\webdriver\\remote\\remote_connection.py:290\u001b[0m, in \u001b[0;36mRemoteConnection.execute\u001b[1;34m(self, command, params)\u001b[0m\n\u001b[0;32m    288\u001b[0m data \u001b[39m=\u001b[39m utils\u001b[39m.\u001b[39mdump_json(params)\n\u001b[0;32m    289\u001b[0m url \u001b[39m=\u001b[39m \u001b[39mf\u001b[39m\u001b[39m\"\u001b[39m\u001b[39m{\u001b[39;00m\u001b[39mself\u001b[39m\u001b[39m.\u001b[39m_url\u001b[39m}\u001b[39;00m\u001b[39m{\u001b[39;00mpath\u001b[39m}\u001b[39;00m\u001b[39m\"\u001b[39m\n\u001b[1;32m--> 290\u001b[0m \u001b[39mreturn\u001b[39;00m \u001b[39mself\u001b[39;49m\u001b[39m.\u001b[39;49m_request(command_info[\u001b[39m0\u001b[39;49m], url, body\u001b[39m=\u001b[39;49mdata)\n",
      "File \u001b[1;32mc:\\Users\\jwilson1\\Miniconda3\\lib\\site-packages\\selenium\\webdriver\\remote\\remote_connection.py:311\u001b[0m, in \u001b[0;36mRemoteConnection._request\u001b[1;34m(self, method, url, body)\u001b[0m\n\u001b[0;32m    308\u001b[0m     body \u001b[39m=\u001b[39m \u001b[39mNone\u001b[39;00m\n\u001b[0;32m    310\u001b[0m \u001b[39mif\u001b[39;00m \u001b[39mself\u001b[39m\u001b[39m.\u001b[39mkeep_alive:\n\u001b[1;32m--> 311\u001b[0m     response \u001b[39m=\u001b[39m \u001b[39mself\u001b[39;49m\u001b[39m.\u001b[39;49m_conn\u001b[39m.\u001b[39;49mrequest(method, url, body\u001b[39m=\u001b[39;49mbody, headers\u001b[39m=\u001b[39;49mheaders)\n\u001b[0;32m    312\u001b[0m     statuscode \u001b[39m=\u001b[39m response\u001b[39m.\u001b[39mstatus\n\u001b[0;32m    313\u001b[0m \u001b[39melse\u001b[39;00m:\n",
      "File \u001b[1;32mc:\\Users\\jwilson1\\Miniconda3\\lib\\site-packages\\urllib3\\request.py:78\u001b[0m, in \u001b[0;36mRequestMethods.request\u001b[1;34m(self, method, url, fields, headers, **urlopen_kw)\u001b[0m\n\u001b[0;32m     74\u001b[0m     \u001b[39mreturn\u001b[39;00m \u001b[39mself\u001b[39m\u001b[39m.\u001b[39mrequest_encode_url(\n\u001b[0;32m     75\u001b[0m         method, url, fields\u001b[39m=\u001b[39mfields, headers\u001b[39m=\u001b[39mheaders, \u001b[39m*\u001b[39m\u001b[39m*\u001b[39murlopen_kw\n\u001b[0;32m     76\u001b[0m     )\n\u001b[0;32m     77\u001b[0m \u001b[39melse\u001b[39;00m:\n\u001b[1;32m---> 78\u001b[0m     \u001b[39mreturn\u001b[39;00m \u001b[39mself\u001b[39m\u001b[39m.\u001b[39mrequest_encode_body(\n\u001b[0;32m     79\u001b[0m         method, url, fields\u001b[39m=\u001b[39mfields, headers\u001b[39m=\u001b[39mheaders, \u001b[39m*\u001b[39m\u001b[39m*\u001b[39murlopen_kw\n\u001b[0;32m     80\u001b[0m     )\n",
      "File \u001b[1;32mc:\\Users\\jwilson1\\Miniconda3\\lib\\site-packages\\urllib3\\request.py:170\u001b[0m, in \u001b[0;36mRequestMethods.request_encode_body\u001b[1;34m(self, method, url, fields, headers, encode_multipart, multipart_boundary, **urlopen_kw)\u001b[0m\n\u001b[0;32m    167\u001b[0m extra_kw[\u001b[39m\"\u001b[39m\u001b[39mheaders\u001b[39m\u001b[39m\"\u001b[39m]\u001b[39m.\u001b[39mupdate(headers)\n\u001b[0;32m    168\u001b[0m extra_kw\u001b[39m.\u001b[39mupdate(urlopen_kw)\n\u001b[1;32m--> 170\u001b[0m \u001b[39mreturn\u001b[39;00m \u001b[39mself\u001b[39m\u001b[39m.\u001b[39murlopen(method, url, \u001b[39m*\u001b[39m\u001b[39m*\u001b[39mextra_kw)\n",
      "File \u001b[1;32mc:\\Users\\jwilson1\\Miniconda3\\lib\\site-packages\\urllib3\\poolmanager.py:376\u001b[0m, in \u001b[0;36mPoolManager.urlopen\u001b[1;34m(self, method, url, redirect, **kw)\u001b[0m\n\u001b[0;32m    374\u001b[0m     response \u001b[39m=\u001b[39m conn\u001b[39m.\u001b[39murlopen(method, url, \u001b[39m*\u001b[39m\u001b[39m*\u001b[39mkw)\n\u001b[0;32m    375\u001b[0m \u001b[39melse\u001b[39;00m:\n\u001b[1;32m--> 376\u001b[0m     response \u001b[39m=\u001b[39m conn\u001b[39m.\u001b[39murlopen(method, u\u001b[39m.\u001b[39mrequest_uri, \u001b[39m*\u001b[39m\u001b[39m*\u001b[39mkw)\n\u001b[0;32m    378\u001b[0m redirect_location \u001b[39m=\u001b[39m redirect \u001b[39mand\u001b[39;00m response\u001b[39m.\u001b[39mget_redirect_location()\n\u001b[0;32m    379\u001b[0m \u001b[39mif\u001b[39;00m \u001b[39mnot\u001b[39;00m redirect_location:\n",
      "File \u001b[1;32mc:\\Users\\jwilson1\\Miniconda3\\lib\\site-packages\\urllib3\\connectionpool.py:703\u001b[0m, in \u001b[0;36mHTTPConnectionPool.urlopen\u001b[1;34m(self, method, url, body, headers, retries, redirect, assert_same_host, timeout, pool_timeout, release_conn, chunked, body_pos, **response_kw)\u001b[0m\n\u001b[0;32m    700\u001b[0m     \u001b[39mself\u001b[39m\u001b[39m.\u001b[39m_prepare_proxy(conn)\n\u001b[0;32m    702\u001b[0m \u001b[39m# Make the request on the httplib connection object.\u001b[39;00m\n\u001b[1;32m--> 703\u001b[0m httplib_response \u001b[39m=\u001b[39m \u001b[39mself\u001b[39;49m\u001b[39m.\u001b[39;49m_make_request(\n\u001b[0;32m    704\u001b[0m     conn,\n\u001b[0;32m    705\u001b[0m     method,\n\u001b[0;32m    706\u001b[0m     url,\n\u001b[0;32m    707\u001b[0m     timeout\u001b[39m=\u001b[39;49mtimeout_obj,\n\u001b[0;32m    708\u001b[0m     body\u001b[39m=\u001b[39;49mbody,\n\u001b[0;32m    709\u001b[0m     headers\u001b[39m=\u001b[39;49mheaders,\n\u001b[0;32m    710\u001b[0m     chunked\u001b[39m=\u001b[39;49mchunked,\n\u001b[0;32m    711\u001b[0m )\n\u001b[0;32m    713\u001b[0m \u001b[39m# If we're going to release the connection in ``finally:``, then\u001b[39;00m\n\u001b[0;32m    714\u001b[0m \u001b[39m# the response doesn't need to know about the connection. Otherwise\u001b[39;00m\n\u001b[0;32m    715\u001b[0m \u001b[39m# it will also try to release it and we'll have a double-release\u001b[39;00m\n\u001b[0;32m    716\u001b[0m \u001b[39m# mess.\u001b[39;00m\n\u001b[0;32m    717\u001b[0m response_conn \u001b[39m=\u001b[39m conn \u001b[39mif\u001b[39;00m \u001b[39mnot\u001b[39;00m release_conn \u001b[39melse\u001b[39;00m \u001b[39mNone\u001b[39;00m\n",
      "File \u001b[1;32mc:\\Users\\jwilson1\\Miniconda3\\lib\\site-packages\\urllib3\\connectionpool.py:449\u001b[0m, in \u001b[0;36mHTTPConnectionPool._make_request\u001b[1;34m(self, conn, method, url, timeout, chunked, **httplib_request_kw)\u001b[0m\n\u001b[0;32m    444\u001b[0m             httplib_response \u001b[39m=\u001b[39m conn\u001b[39m.\u001b[39mgetresponse()\n\u001b[0;32m    445\u001b[0m         \u001b[39mexcept\u001b[39;00m \u001b[39mBaseException\u001b[39;00m \u001b[39mas\u001b[39;00m e:\n\u001b[0;32m    446\u001b[0m             \u001b[39m# Remove the TypeError from the exception chain in\u001b[39;00m\n\u001b[0;32m    447\u001b[0m             \u001b[39m# Python 3 (including for exceptions like SystemExit).\u001b[39;00m\n\u001b[0;32m    448\u001b[0m             \u001b[39m# Otherwise it looks like a bug in the code.\u001b[39;00m\n\u001b[1;32m--> 449\u001b[0m             six\u001b[39m.\u001b[39;49mraise_from(e, \u001b[39mNone\u001b[39;49;00m)\n\u001b[0;32m    450\u001b[0m \u001b[39mexcept\u001b[39;00m (SocketTimeout, BaseSSLError, SocketError) \u001b[39mas\u001b[39;00m e:\n\u001b[0;32m    451\u001b[0m     \u001b[39mself\u001b[39m\u001b[39m.\u001b[39m_raise_timeout(err\u001b[39m=\u001b[39me, url\u001b[39m=\u001b[39murl, timeout_value\u001b[39m=\u001b[39mread_timeout)\n",
      "File \u001b[1;32m<string>:3\u001b[0m, in \u001b[0;36mraise_from\u001b[1;34m(value, from_value)\u001b[0m\n",
      "File \u001b[1;32mc:\\Users\\jwilson1\\Miniconda3\\lib\\site-packages\\urllib3\\connectionpool.py:444\u001b[0m, in \u001b[0;36mHTTPConnectionPool._make_request\u001b[1;34m(self, conn, method, url, timeout, chunked, **httplib_request_kw)\u001b[0m\n\u001b[0;32m    441\u001b[0m \u001b[39mexcept\u001b[39;00m \u001b[39mTypeError\u001b[39;00m:\n\u001b[0;32m    442\u001b[0m     \u001b[39m# Python 3\u001b[39;00m\n\u001b[0;32m    443\u001b[0m     \u001b[39mtry\u001b[39;00m:\n\u001b[1;32m--> 444\u001b[0m         httplib_response \u001b[39m=\u001b[39m conn\u001b[39m.\u001b[39;49mgetresponse()\n\u001b[0;32m    445\u001b[0m     \u001b[39mexcept\u001b[39;00m \u001b[39mBaseException\u001b[39;00m \u001b[39mas\u001b[39;00m e:\n\u001b[0;32m    446\u001b[0m         \u001b[39m# Remove the TypeError from the exception chain in\u001b[39;00m\n\u001b[0;32m    447\u001b[0m         \u001b[39m# Python 3 (including for exceptions like SystemExit).\u001b[39;00m\n\u001b[0;32m    448\u001b[0m         \u001b[39m# Otherwise it looks like a bug in the code.\u001b[39;00m\n\u001b[0;32m    449\u001b[0m         six\u001b[39m.\u001b[39mraise_from(e, \u001b[39mNone\u001b[39;00m)\n",
      "File \u001b[1;32mc:\\Users\\jwilson1\\Miniconda3\\lib\\http\\client.py:1377\u001b[0m, in \u001b[0;36mHTTPConnection.getresponse\u001b[1;34m(self)\u001b[0m\n\u001b[0;32m   1375\u001b[0m \u001b[39mtry\u001b[39;00m:\n\u001b[0;32m   1376\u001b[0m     \u001b[39mtry\u001b[39;00m:\n\u001b[1;32m-> 1377\u001b[0m         response\u001b[39m.\u001b[39;49mbegin()\n\u001b[0;32m   1378\u001b[0m     \u001b[39mexcept\u001b[39;00m \u001b[39mConnectionError\u001b[39;00m:\n\u001b[0;32m   1379\u001b[0m         \u001b[39mself\u001b[39m\u001b[39m.\u001b[39mclose()\n",
      "File \u001b[1;32mc:\\Users\\jwilson1\\Miniconda3\\lib\\http\\client.py:320\u001b[0m, in \u001b[0;36mHTTPResponse.begin\u001b[1;34m(self)\u001b[0m\n\u001b[0;32m    318\u001b[0m \u001b[39m# read until we get a non-100 response\u001b[39;00m\n\u001b[0;32m    319\u001b[0m \u001b[39mwhile\u001b[39;00m \u001b[39mTrue\u001b[39;00m:\n\u001b[1;32m--> 320\u001b[0m     version, status, reason \u001b[39m=\u001b[39m \u001b[39mself\u001b[39;49m\u001b[39m.\u001b[39;49m_read_status()\n\u001b[0;32m    321\u001b[0m     \u001b[39mif\u001b[39;00m status \u001b[39m!=\u001b[39m CONTINUE:\n\u001b[0;32m    322\u001b[0m         \u001b[39mbreak\u001b[39;00m\n",
      "File \u001b[1;32mc:\\Users\\jwilson1\\Miniconda3\\lib\\http\\client.py:281\u001b[0m, in \u001b[0;36mHTTPResponse._read_status\u001b[1;34m(self)\u001b[0m\n\u001b[0;32m    280\u001b[0m \u001b[39mdef\u001b[39;00m \u001b[39m_read_status\u001b[39m(\u001b[39mself\u001b[39m):\n\u001b[1;32m--> 281\u001b[0m     line \u001b[39m=\u001b[39m \u001b[39mstr\u001b[39m(\u001b[39mself\u001b[39;49m\u001b[39m.\u001b[39;49mfp\u001b[39m.\u001b[39;49mreadline(_MAXLINE \u001b[39m+\u001b[39;49m \u001b[39m1\u001b[39;49m), \u001b[39m\"\u001b[39m\u001b[39miso-8859-1\u001b[39m\u001b[39m\"\u001b[39m)\n\u001b[0;32m    282\u001b[0m     \u001b[39mif\u001b[39;00m \u001b[39mlen\u001b[39m(line) \u001b[39m>\u001b[39m _MAXLINE:\n\u001b[0;32m    283\u001b[0m         \u001b[39mraise\u001b[39;00m LineTooLong(\u001b[39m\"\u001b[39m\u001b[39mstatus line\u001b[39m\u001b[39m\"\u001b[39m)\n",
      "File \u001b[1;32mc:\\Users\\jwilson1\\Miniconda3\\lib\\socket.py:704\u001b[0m, in \u001b[0;36mSocketIO.readinto\u001b[1;34m(self, b)\u001b[0m\n\u001b[0;32m    702\u001b[0m \u001b[39mwhile\u001b[39;00m \u001b[39mTrue\u001b[39;00m:\n\u001b[0;32m    703\u001b[0m     \u001b[39mtry\u001b[39;00m:\n\u001b[1;32m--> 704\u001b[0m         \u001b[39mreturn\u001b[39;00m \u001b[39mself\u001b[39;49m\u001b[39m.\u001b[39;49m_sock\u001b[39m.\u001b[39;49mrecv_into(b)\n\u001b[0;32m    705\u001b[0m     \u001b[39mexcept\u001b[39;00m timeout:\n\u001b[0;32m    706\u001b[0m         \u001b[39mself\u001b[39m\u001b[39m.\u001b[39m_timeout_occurred \u001b[39m=\u001b[39m \u001b[39mTrue\u001b[39;00m\n",
      "\u001b[1;31mKeyboardInterrupt\u001b[0m: "
     ]
    }
   ],
   "source": [
    "crawler = Crawler(\n",
    "    urls_to_visit_ls=[URL], base_url=BASE_URL, output_folder=\"../../raw_kb\"\n",
    ")\n",
    "\n",
    "crawler.run(debug_prn=True)"
   ]
  }
 ],
 "metadata": {
  "kernelspec": {
   "display_name": "base",
   "language": "python",
   "name": "python3"
  },
  "language_info": {
   "codemirror_mode": {
    "name": "ipython",
    "version": 3
   },
   "file_extension": ".py",
   "mimetype": "text/x-python",
   "name": "python",
   "nbconvert_exporter": "python",
   "pygments_lexer": "ipython3",
   "version": "3.9.12"
  },
  "vscode": {
   "interpreter": {
    "hash": "b43e631a983881eee635638ba8d16a40e1a13e8bbb48ce0aff152a316858538a"
   }
  }
 },
 "nbformat": 4,
 "nbformat_minor": 2
}
