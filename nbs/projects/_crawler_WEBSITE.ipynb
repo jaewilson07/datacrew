{
 "cells": [
  {
   "cell_type": "code",
   "execution_count": 1,
   "metadata": {},
   "outputs": [],
   "source": [
    "# use with local installs that don't have nbdev\n",
    "import sys\n",
    "\n",
    "sys.path.insert(0, \"../../\")"
   ]
  },
  {
   "cell_type": "code",
   "execution_count": 11,
   "metadata": {},
   "outputs": [
    {
     "name": "stdout",
     "output_type": "stream",
     "text": [
      "💤 retrieving https://domo-support.domo.com/s/article/360043429913 💤\n",
      "💤 retrieving https://domo-support.domo.com/s/topic/0TO5w000000ZamoGAC/creating-content-in-domo?language=en_US 💤\n",
      "❤️ child url - https://domo-support.domo.com/s/topic/0TO5w000000ZanDGAS, 0TO5w000000ZanDGAS\n",
      "❤️ child url - https://domo-support.domo.com/s/topic/0TO5w000000ZaoEGAS, 0TO5w000000ZaoEGAS\n",
      "❤️ child url - https://domo-support.domo.com/s/topic/0TO5w000000ZaoNGAS, 0TO5w000000ZaoNGAS\n",
      "❤️ child url - https://domo-support.domo.com/s/topic/0TO5w000000ZanwGAC, 0TO5w000000ZanwGAC\n",
      "❤️ child url - https://domo-support.domo.com/s/topic/0TO5w000000ZanZGAS, 0TO5w000000ZanZGAS\n",
      "❤️ child url - https://domo-support.domo.com/s/topic/0TO5w000000Zao4GAC, 0TO5w000000Zao4GAC\n",
      "❤️ child url - https://domo-support.domo.com/s/topic/0TO5w000000ZaoHGAS, 0TO5w000000ZaoHGAS\n",
      "❤️ child url - https://domo-support.domo.com/s/topic/0TO5w000000ZanAGAS, 0TO5w000000ZanAGAS\n",
      "❤️ child url - https://domo-support.domo.com/s/topic/0TO5w000000ZdTCGA0, 0TO5w000000ZdTCGA0\n"
     ]
    }
   ],
   "source": [
    "from selenium.webdriver.common.by import By\n",
    "import datacrew.crawler.crawler as dcc\n",
    "import datacrew.crawler.article as dca\n",
    "\n",
    "\n",
    "TEST_ARTICLE_URL = \"https://domo-support.domo.com/s/topic/0TO5w000000ZanAGAS/beast-mode\"\n",
    "TEST_ARTICLE_URL = \"https://domo-support.domo.com/s/article/360043429913\"\n",
    "TEST_TOPIC_URL = \"https://domo-support.domo.com/s/topic/0TO5w000000ZamoGAC/creating-content-in-domo?language=en_US\"\n",
    "\n",
    "BASE_URL = \"https://domo-support.domo.com\"\n",
    "\n",
    "IMG_BASE_URL = \"https://domo-support.domo.com/servlet/rtaImage\"\n",
    "\n",
    "OUTPUT_FOLDER = \"../../raw_kb\"\n",
    "\n",
    "driver = dcc.driversetup(is_headless=False)\n",
    "\n",
    "test_article = dca.Article_KB(\n",
    "    url=TEST_ARTICLE_URL, driver=driver, base_url=BASE_URL)\n",
    "\n",
    "test_category = dca.Article_Category(\n",
    "    url=TEST_TOPIC_URL, driver=driver, base_url=BASE_URL)\n",
    "\n"
   ]
  },
  {
   "cell_type": "code",
   "execution_count": 20,
   "metadata": {},
   "outputs": [
    {
     "data": {
      "text/plain": [
       "['https://domo-support.domo.com/s/knowledge-base',\n",
       " 'https://domo-support.domo.com/s/topic/0TO5w000000ZamwGAC/release-notes',\n",
       " 'https://domo-support.domo.com/s/knowledge-base/',\n",
       " 'https://domo-support.domo.com/s/topic/0TO5w000000ZamoGAC',\n",
       " 'https://domo-support.domo.com/s/topic/0TO5w000000ZanAGAS',\n",
       " 'https://domo-support.domo.com/s/article/360042924034',\n",
       " 'https://domo-support.domo.com/s/article/360043429933',\n",
       " 'https://domo-support.domo.com/s/article/360043429953',\n",
       " 'https://domo-support.domo.com/s/article/360042924094',\n",
       " 'https://domo-support.domo.com/s/article/360043429993',\n",
       " 'https://domo-support.domo.com/s/article/360043428753',\n",
       " 'https://domo-support.domo.com/s/article/360043429913',\n",
       " 'https://domo-support.domo.com/s/topic/0TO5w000000ZanAGAS/beast-mode',\n",
       " 'https://domo-support.domo.com/s/article/360042925494',\n",
       " 'https://domo-support.domo.com/s/article/360043429693']"
      ]
     },
     "execution_count": 20,
     "metadata": {},
     "output_type": "execute_result"
    }
   ],
   "source": [
    "for key in test_article.__dict__.keys():\n",
    "    if key in ['soup','article_soup']:\n",
    "        continue\n",
    "\n",
    "    # print({key: getattr(test_article, key)})\n",
    "\n",
    "test_article.url_ls"
   ]
  },
  {
   "attachments": {},
   "cell_type": "markdown",
   "metadata": {},
   "source": [
    "# Utility Functions\n",
    "\n",
    "## string manipulation\n"
   ]
  },
  {
   "cell_type": "code",
   "execution_count": 3,
   "metadata": {},
   "outputs": [],
   "source": [
    "import re\n",
    "\n",
    "def convert_to_snake(text_str):\n",
    "    \"\"\"converts 'snake_case_str' to 'snakeCaseStr'\"\"\"\n",
    "\n",
    "    return text_str.replace(\" \", \"_\").lower()\n",
    "\n",
    "\n",
    "def clean_url_name(path_name):\n",
    "    valid_chars = r\"[^a-zA-Z0-9_]\"\n",
    "\n",
    "    return re.sub(valid_chars, \"\", path_name)\n",
    "\n",
    "\n",
    "def get_id_from_url(url: str, url_match: str):\n",
    "    \"\"\"use url_match\" to identify the id of an object\"\"\"\n",
    "    return url.split(url_match)[1].split(\"/\")[0]\n"
   ]
  },
  {
   "attachments": {},
   "cell_type": "markdown",
   "metadata": {},
   "source": [
    "## process html files\n"
   ]
  },
  {
   "attachments": {},
   "cell_type": "markdown",
   "metadata": {},
   "source": [
    "### download image"
   ]
  },
  {
   "cell_type": "code",
   "execution_count": 4,
   "metadata": {},
   "outputs": [
    {
     "data": {
      "text/html": [
       "<div>\n",
       "<style scoped>\n",
       "    .dataframe tbody tr th:only-of-type {\n",
       "        vertical-align: middle;\n",
       "    }\n",
       "\n",
       "    .dataframe tbody tr th {\n",
       "        vertical-align: top;\n",
       "    }\n",
       "\n",
       "    .dataframe thead th {\n",
       "        text-align: right;\n",
       "    }\n",
       "</style>\n",
       "<table border=\"1\" class=\"dataframe\">\n",
       "  <thead>\n",
       "    <tr style=\"text-align: right;\">\n",
       "      <th></th>\n",
       "      <th>url</th>\n",
       "      <th>relative_url</th>\n",
       "      <th>name</th>\n",
       "    </tr>\n",
       "  </thead>\n",
       "  <tbody>\n",
       "    <tr>\n",
       "      <th>0</th>\n",
       "      <td>https://domo-support.domo.com/servlet/rtaImage...</td>\n",
       "      <td>/servlet/rtaImage?eid=ka05w000001248e&amp;feoid=00...</td>\n",
       "      <td>Beast_Mode_Dialog.jpg</td>\n",
       "    </tr>\n",
       "    <tr>\n",
       "      <th>1</th>\n",
       "      <td>https://domo-support.domo.com/servlet/rtaImage...</td>\n",
       "      <td>/servlet/rtaImage?eid=ka05w000001248e&amp;feoid=00...</td>\n",
       "      <td></td>\n",
       "    </tr>\n",
       "    <tr>\n",
       "      <th>2</th>\n",
       "      <td>https://domo-support.domo.com/servlet/rtaImage...</td>\n",
       "      <td>/servlet/rtaImage?eid=ka05w000001248e&amp;feoid=00...</td>\n",
       "      <td>Beast_Mode_Modal.png</td>\n",
       "    </tr>\n",
       "    <tr>\n",
       "      <th>3</th>\n",
       "      <td>https://domo-support.domo.com/servlet/rtaImage...</td>\n",
       "      <td>/servlet/rtaImage?eid=ka05w000001248e&amp;feoid=00...</td>\n",
       "      <td></td>\n",
       "    </tr>\n",
       "    <tr>\n",
       "      <th>4</th>\n",
       "      <td>https://domo-support.domo.com/servlet/rtaImage...</td>\n",
       "      <td>/servlet/rtaImage?eid=ka05w000001248e&amp;feoid=00...</td>\n",
       "      <td></td>\n",
       "    </tr>\n",
       "  </tbody>\n",
       "</table>\n",
       "</div>"
      ],
      "text/plain": [
       "                                                 url  \\\n",
       "0  https://domo-support.domo.com/servlet/rtaImage...   \n",
       "1  https://domo-support.domo.com/servlet/rtaImage...   \n",
       "2  https://domo-support.domo.com/servlet/rtaImage...   \n",
       "3  https://domo-support.domo.com/servlet/rtaImage...   \n",
       "4  https://domo-support.domo.com/servlet/rtaImage...   \n",
       "\n",
       "                                        relative_url                   name  \n",
       "0  /servlet/rtaImage?eid=ka05w000001248e&feoid=00...  Beast_Mode_Dialog.jpg  \n",
       "1  /servlet/rtaImage?eid=ka05w000001248e&feoid=00...                         \n",
       "2  /servlet/rtaImage?eid=ka05w000001248e&feoid=00...   Beast_Mode_Modal.png  \n",
       "3  /servlet/rtaImage?eid=ka05w000001248e&feoid=00...                         \n",
       "4  /servlet/rtaImage?eid=ka05w000001248e&feoid=00...                         "
      ]
     },
     "execution_count": 4,
     "metadata": {},
     "output_type": "execute_result"
    }
   ],
   "source": [
    "import requests\n",
    "import pandas as pd\n",
    "\n",
    "\n",
    "def download_img(image_url, image_path, debug_prn: bool = False):\n",
    "\n",
    "    img_data = requests.get(image_url).content\n",
    "\n",
    "    with open(image_path, \"wb\") as handler:\n",
    "        if debug_prn:\n",
    "            print(f\"downloading {image_url} to {image_path}\")\n",
    "        handler.write(img_data)\n",
    "\n",
    "\n",
    "def download_article_images(\n",
    "    article: dca.Article,\n",
    "    output_path: str,\n",
    "    debug_prn: bool = False,\n",
    "):\n",
    "    image_ls = article.image_ls\n",
    "\n",
    "    if not image_ls:\n",
    "        return \n",
    "\n",
    "    # download images\n",
    "    for img in image_ls:\n",
    "        img_name = img.get(\"name\")\n",
    "\n",
    "        if not img_name:\n",
    "            continue\n",
    "\n",
    "        img_url = img.get(\"url\")\n",
    "        img_path = f\"{output_path}/{img_name}\"\n",
    "        img_rel_path = img.get(\"relative_url\")\n",
    "\n",
    "        if debug_prn:\n",
    "            print(\n",
    "                f\"downloading {img_url} to {img_path}.  replacing article with {img_rel_path} with {img_name}\"\n",
    "            )\n",
    "\n",
    "        download_img(image_url=img_url, image_path=img_path)\n",
    "\n",
    "        article.md_str = article.md_str.replace(img_rel_path, img_name)\n",
    "\n",
    "    return image_ls\n",
    "\n",
    "test_output_path = \"../../raw_kb/article/adding_a_beast_mode_calculation_to_your_chart\"\n",
    "\n",
    "pd.DataFrame(download_article_images(\n",
    "    article=test_article,\n",
    "    output_path=test_output_path,\n",
    "    debug_prn=False,\n",
    "))"
   ]
  },
  {
   "attachments": {},
   "cell_type": "markdown",
   "metadata": {},
   "source": [
    "### download html"
   ]
  },
  {
   "cell_type": "code",
   "execution_count": 5,
   "metadata": {},
   "outputs": [],
   "source": [
    "import os\n",
    "\n",
    "\n",
    "def create_output_folder(output_folder, title: str):\n",
    "    output_path = os.path.join(\n",
    "        output_folder, clean_url_name(convert_to_snake(title))\n",
    "    )\n",
    "\n",
    "    if not os.path.exists(output_path):\n",
    "        os.makedirs(output_path)\n",
    "    \n",
    "    return output_path\n",
    "\n",
    "\n",
    "def output_html(output_html_path, soup):\n",
    "    with open(output_html_path, 'w') as f:\n",
    "        f.write(str(soup))\n"
   ]
  },
  {
   "attachments": {},
   "cell_type": "markdown",
   "metadata": {},
   "source": [
    "# handle category"
   ]
  },
  {
   "cell_type": "code",
   "execution_count": 6,
   "metadata": {},
   "outputs": [
    {
     "data": {
      "text/plain": [
       "name                                Creating Content In Domo\n",
       "url        https://domo-support.domo.com/s/topic/0TO5w000...\n",
       "updated                           2023-04-11 16:06:31.165319\n",
       "Name: 0TO5w000000ZamoGAC, dtype: object"
      ]
     },
     "execution_count": 6,
     "metadata": {},
     "output_type": "execute_result"
    }
   ],
   "source": [
    "import os\n",
    "import pandas as pd\n",
    "import datetime as dt\n",
    "\n",
    "def update_listing(\n",
    "        url: str,\n",
    "        url_id: str,\n",
    "        name: str,\n",
    "        file_name: str,\n",
    "        output_folder):\n",
    "\n",
    "    output_file = f\"{output_folder}/{file_name}\"\n",
    "\n",
    "    df = None\n",
    "    if os.path.exists(output_file):\n",
    "        df = pd.read_csv(output_file, index_col='id')\n",
    "\n",
    "    else:\n",
    "        columns = ['id','name','url', 'updated']\n",
    "        df = pd.DataFrame(columns=columns).set_index('id')\n",
    "\n",
    "\n",
    "   \n",
    "    df.loc[url_id] = [name, url, dt.datetime.now()]\n",
    "\n",
    "    df.to_csv(output_file)\n",
    "\n",
    "    return df.loc[url_id]\n",
    "\n",
    "\n",
    "update_listing(url=test_category.url,\n",
    "                 url_id = test_category.url_id,\n",
    "                 name = test_category.category,\n",
    "                 file_name = 'category_mapping.csv',\n",
    "                 output_folder=os.path.join(OUTPUT_FOLDER, 'category'))\n"
   ]
  },
  {
   "cell_type": "code",
   "execution_count": 7,
   "metadata": {},
   "outputs": [],
   "source": [
    "from mdutils.mdutils import MdUtils\n",
    "import pandas as pd\n",
    "\n",
    "\n",
    "def process_category(article: dca.Article,\n",
    "                    output_folder: str,\n",
    "                    debug_prn: bool = False):\n",
    "\n",
    "    output_path = create_output_folder(os.path.join(output_folder,'category'), article.category)\n",
    "\n",
    "    output_html_path = os.path.join(output_path, 'index.html')\n",
    "    output_html(output_html_path, article.soup)\n",
    "\n",
    "    update_listing(url=article.url,\n",
    "                 url_id = article.url_id,\n",
    "                 name = article.category,\n",
    "                 file_name = 'category_listing.csv',\n",
    "                 output_folder=OUTPUT_FOLDER)\n",
    "\n",
    "    download_article_images(\n",
    "        article=article,\n",
    "        output_path= output_path)\n",
    "\n",
    "process_category(test_category, output_folder=OUTPUT_FOLDER)\n"
   ]
  },
  {
   "attachments": {},
   "cell_type": "markdown",
   "metadata": {},
   "source": [
    "## handle article\n"
   ]
  },
  {
   "cell_type": "code",
   "execution_count": 8,
   "metadata": {},
   "outputs": [],
   "source": [
    "from mdutils.mdutils import MdUtils\n",
    "import pandas as pd\n",
    "\n",
    "\n",
    "def process_article(article: dca.Article,\n",
    "                    output_folder: str,\n",
    "                    debug_prn: bool = False):\n",
    "\n",
    "    output_path = create_output_folder(os.path.join(output_folder, 'article'), article.title)\n",
    "    \n",
    "    output_html(os.path.join(output_path, 'index.html'), article.soup)\n",
    "\n",
    "    update_listing(url=article.url,\n",
    "                url_id = article.url_id,\n",
    "                name = article.title,\n",
    "                file_name = 'article_listing.csv',\n",
    "                output_folder=OUTPUT_FOLDER)\n",
    "\n",
    "    download_article_images(\n",
    "        article=article,\n",
    "        output_path= output_path)\n",
    "\n",
    "    \n",
    "\n",
    "process_article(test_article, output_folder=OUTPUT_FOLDER)\n"
   ]
  },
  {
   "cell_type": "code",
   "execution_count": 9,
   "metadata": {},
   "outputs": [],
   "source": [
    "import logging\n",
    "import selenium.webdriver\n",
    "\n",
    "logging.basicConfig(\n",
    "    format=\"%(asctime)s %(levelname)s:%(message)s\", level=logging.INFO)\n",
    "\n",
    "\n",
    "class Crawler:\n",
    "    base_url: str\n",
    "    output_folder: str\n",
    "    urls_visited_ls: list[str]\n",
    "    urls_to_vist_ls: list[str]\n",
    "\n",
    "    path_to_visit: str\n",
    "\n",
    "    driver: selenium.webdriver\n",
    "\n",
    "    counter: int\n",
    "\n",
    "    def __init__(\n",
    "        self,\n",
    "        urls_to_visit_ls: list[str] = None,\n",
    "        base_url=None,\n",
    "        output_folder=\"../../raw_kb/\",\n",
    "        is_fresh_start: bool = False\n",
    "    ):\n",
    "        self.base_url = base_url\n",
    "        self.output_folder = output_folder\n",
    "\n",
    "        self.counter = 0\n",
    "        self.path_to_visit = os.path.join(\n",
    "            self.output_folder, 'crawler_to_visit.csv')\n",
    "        self.path_visited = os.path.join(\n",
    "            self.output_folder, 'crawler_visited.csv')\n",
    "\n",
    "        self.article_ls = []\n",
    "        self.driver = dcc.driversetup(is_headless=False)\n",
    "\n",
    "        if is_fresh_start:\n",
    "            \"✂️ deleting files\"\n",
    "            self._delete_file(self.path_to_visit)\n",
    "            self._delete_file(self.path_visited)\n",
    "\n",
    "        self.urls_visited_ls = []\n",
    "        self.urls_to_visit_ls = []\n",
    "\n",
    "        if not is_fresh_start:\n",
    "            self.urls_visited_ls = self._read_file_ls(self.path_visited)\n",
    "            urls_to_visit_ls += self._read_file_ls(self.path_to_visit)\n",
    "\n",
    "        [self.add_url_to_visit(url) for url in urls_to_visit_ls]\n",
    "\n",
    "    @staticmethod\n",
    "    def _delete_file(file_path):\n",
    "        if os.path.exists(file_path):\n",
    "            print(f'deleting {file_path}')\n",
    "            os.remove(file_path)\n",
    "        else:\n",
    "            print(f\"{file_path} cannot be deleted\")\n",
    "\n",
    "    @staticmethod\n",
    "    def _read_file_ls(file_path):\n",
    "        try:\n",
    "            file = open(file_path, '+r')\n",
    "            return [line.strip() for line in file]\n",
    "        except:\n",
    "            return []\n",
    "\n",
    "    @staticmethod\n",
    "    def _write_file_ls(file_path, data):\n",
    "\n",
    "        file = open(file_path, 'w+')\n",
    "\n",
    "        for item in data:\n",
    "            file.write(item+\"\\n\")\n",
    "        file.close()\n",
    "\n",
    "    def add_url_to_visit(self, url, debug_prn: bool = False):\n",
    "        if url not in self.urls_visited_ls and url not in self.urls_to_visit_ls:\n",
    "            if debug_prn:\n",
    "                print(f\"adding url to list - {url}\")\n",
    "\n",
    "            self.urls_to_visit_ls.append(url)\n",
    "\n",
    "    def crawl(self, url, debug_prn: bool = False):\n",
    "        self.counter += 1\n",
    "        if debug_prn:\n",
    "            print(f\"starting crawl - {url}\")\n",
    "\n",
    "        article = None\n",
    "        if '/s/topic/' in url:\n",
    "            article = dca.Article_Category(url=url,\n",
    "                                           driver=driver,\n",
    "                                           base_url=self.base_url,\n",
    "                                           is_child_recursive=False\n",
    "                                           )\n",
    "            process_category(article=article, output_folder=self.output_folder)\n",
    "\n",
    "        if '/s/article/' in url:\n",
    "            article = dca.Article_KB(\n",
    "                url=url, base_url=self.base_url, driver=driver)\n",
    "            process_article(article=article, output_folder=self.output_folder)\n",
    "\n",
    "        if not article:\n",
    "            return\n",
    "\n",
    "        for url in article.url_ls:\n",
    "            self.add_url_to_visit(url=url, debug_prn=debug_prn)\n",
    "\n",
    "        if self.counter % 10 == 0:\n",
    "            self._write_file_ls(self.path_to_visit, self.urls_to_visit_ls)\n",
    "            self._write_file_ls(self.path_visited, self.urls_visited_ls)\n",
    "\n",
    "    def run(self, debug_prn: bool = False):\n",
    "        while self.urls_to_visit_ls:\n",
    "            url = self.urls_to_visit_ls.pop(0)\n",
    "\n",
    "            logging.info(f\"Crawling: {url}\")\n",
    "\n",
    "            try:\n",
    "                self.crawl(url, debug_prn)\n",
    "            except Exception:\n",
    "                logging.exception(f\"Failed to crawl: {url}\")\n",
    "            finally:\n",
    "                self.urls_visited_ls.append(url)\n",
    "\n",
    "        print(\"done\")\n",
    "        return self\n"
   ]
  },
  {
   "cell_type": "code",
   "execution_count": 10,
   "metadata": {},
   "outputs": [
    {
     "name": "stderr",
     "output_type": "stream",
     "text": [
      "2023-04-11 16:06:33,980 INFO:Crawling: https://domo-support.domo.com/s/article/360042924094\n"
     ]
    },
    {
     "name": "stdout",
     "output_type": "stream",
     "text": [
      "{'article_ls': [],\n",
      " 'base_url': 'https://domo-support.domo.com',\n",
      " 'counter': 0,\n",
      " 'driver': <selenium.webdriver.chrome.webdriver.WebDriver (session=\"6e6445f7e4c9048d0ce69e5cc833a3d2\")>,\n",
      " 'output_folder': '../../raw_kb',\n",
      " 'path_to_visit': '../../raw_kb\\\\crawler_to_visit.csv',\n",
      " 'path_visited': '../../raw_kb\\\\crawler_visited.csv',\n",
      " 'urls_to_visit_ls': ['https://domo-support.domo.com/s/article/360042924094',\n",
      "                      'https://domo-support.domo.com/s/article/360043429993',\n",
      "                      'https://domo-support.domo.com/s/article/360043428753',\n",
      "                      'https://domo-support.domo.com/s/topic/0TO5w000000ZanAGAS/beast-mode',\n",
      "                      'https://domo-support.domo.com/s/article/360042925494',\n",
      "                      'https://domo-support.domo.com/s/article/360043429693',\n",
      "                      'https://domo-support.domo.com/s/topic/0TO5w000000ZanDGAS',\n",
      "                      'https://domo-support.domo.com/s/topic/0TO5w000000ZaoEGAS',\n",
      "                      'https://domo-support.domo.com/s/topic/0TO5w000000ZaoNGAS',\n",
      "                      'https://domo-support.domo.com/s/topic/0TO5w000000ZanwGAC',\n",
      "                      'https://domo-support.domo.com/s/topic/0TO5w000000ZanZGAS',\n",
      "                      'https://domo-support.domo.com/s/topic/0TO5w000000Zao4GAC',\n",
      "                      'https://domo-support.domo.com/s/topic/0TO5w000000ZaoHGAS',\n",
      "                      'https://domo-support.domo.com/s/topic/0TO5w000000ZdTCGA0',\n",
      "                      'https://domo-support.domo.com/s/topic/0TO5w000000Zan7GAC',\n",
      "                      'https://domo-support.domo.com/s/topic/0TO5w000000ZanNGAS',\n",
      "                      'https://domo-support.domo.com/s/article/360043430033',\n",
      "                      'https://domo-support.domo.com/s/article/360043430053',\n",
      "                      'https://domo-support.domo.com/s/article/4408174643607',\n",
      "                      'https://domo-support.domo.com/s/article/360042925474',\n",
      "                      'https://domo-support.domo.com/s/article/360042925434',\n",
      "                      'https://domo-support.domo.com/s/article/360043430073',\n",
      "                      'https://domo-support.domo.com/s/article/360043430093',\n",
      "                      'https://domo-support.domo.com/s/article/360042925514',\n",
      "                      'https://domo-support.domo.com/s/article/360043430113',\n",
      "                      'https://domo-support.domo.com/s/article/360043430133',\n",
      "                      'https://domo-support.domo.com/s/article/360043430153',\n",
      "                      'https://domo-support.domo.com/s/topic/0TO5w000000ZaoUGAS',\n",
      "                      'https://domo-support.domo.com/s/topic/0TO5w000000ZapBGAS',\n",
      "                      'https://domo-support.domo.com/s/article/360043438973',\n",
      "                      'https://domo-support.domo.com/s/article/360043428673',\n",
      "                      'https://domo-support.domo.com/s/article/360043428713',\n",
      "                      'https://domo-support.domo.com/s/article/360042924174',\n",
      "                      'https://domo-support.domo.com/s/article/360043428733',\n",
      "                      'https://domo-support.domo.com/s/article/360043428853',\n",
      "                      'https://domo-support.domo.com/s/article/360042924074',\n",
      "                      'https://domo-support.domo.com/s/article/360043428813',\n",
      "                      'https://domo-support.domo.com/s/article/4403089503383',\n",
      "                      'https://domo-support.domo.com/s/article/360042924834',\n",
      "                      'https://domo-support.domo.com/s/article/360043438893',\n",
      "                      'https://domo-support.domo.com/s/article/360042923934',\n",
      "                      'https://domo-support.domo.com/s/article/360043430513',\n",
      "                      'https://domo-support.domo.com/s/article/360043428833',\n",
      "                      'https://domo-support.domo.com/s/topic/0TO5w000000ZaodGAC',\n",
      "                      'https://domo-support.domo.com/s/topic/0TO5w000000ZaoeGAC',\n",
      "                      'https://domo-support.domo.com/s/topic/0TO5w000000ZaoUGAS/analyzer',\n",
      "                      'https://domo-support.domo.com/s/article/360043429953'],\n",
      " 'urls_visited_ls': ['https://domo-support.domo.com/s/article/360043429913',\n",
      "                     'https://domo-support.domo.com/s/topic/0TO5w000000ZamoGAC/creating-content-in-domo?language=en_US',\n",
      "                     'https://domo-support.domo.com/s/knowledge-base',\n",
      "                     'https://domo-support.domo.com/s/topic/0TO5w000000ZamwGAC/release-notes',\n",
      "                     'https://domo-support.domo.com/s/knowledge-base/',\n",
      "                     'https://domo-support.domo.com/s/topic/0TO5w000000ZamoGAC',\n",
      "                     'https://domo-support.domo.com/s/topic/0TO5w000000ZanAGAS',\n",
      "                     'https://domo-support.domo.com/s/article/360042924034',\n",
      "                     'https://domo-support.domo.com/s/article/360043429933']}\n",
      "💤 retrieving https://domo-support.domo.com/s/article/360042924094 💤\n"
     ]
    },
    {
     "name": "stderr",
     "output_type": "stream",
     "text": [
      "2023-04-11 16:06:42,547 INFO:Crawling: https://domo-support.domo.com/s/article/360043429993\n"
     ]
    },
    {
     "name": "stdout",
     "output_type": "stream",
     "text": [
      "💤 retrieving https://domo-support.domo.com/s/article/360043429993 💤\n"
     ]
    },
    {
     "name": "stderr",
     "output_type": "stream",
     "text": [
      "2023-04-11 16:06:50,571 INFO:Crawling: https://domo-support.domo.com/s/article/360043428753\n"
     ]
    },
    {
     "name": "stdout",
     "output_type": "stream",
     "text": [
      "💤 retrieving https://domo-support.domo.com/s/article/360043428753 💤\n"
     ]
    },
    {
     "name": "stderr",
     "output_type": "stream",
     "text": [
      "2023-04-11 16:07:00,548 INFO:Crawling: https://domo-support.domo.com/s/topic/0TO5w000000ZanAGAS/beast-mode\n"
     ]
    },
    {
     "name": "stdout",
     "output_type": "stream",
     "text": [
      "💤 retrieving https://domo-support.domo.com/s/topic/0TO5w000000ZanAGAS/beast-mode 💤\n"
     ]
    },
    {
     "name": "stderr",
     "output_type": "stream",
     "text": [
      "2023-04-11 16:07:02,137 INFO:Crawling: https://domo-support.domo.com/s/article/360042925494\n"
     ]
    },
    {
     "name": "stdout",
     "output_type": "stream",
     "text": [
      "❤️ child url - https://domo-support.domo.com/s/article/360043429913, 360043429913\n",
      "❤️ child url - https://domo-support.domo.com/s/article/360043430033, 360043430033\n",
      "❤️ child url - https://domo-support.domo.com/s/article/360043430053, 360043430053\n",
      "❤️ child url - https://domo-support.domo.com/s/article/4408174643607, 4408174643607\n",
      "❤️ child url - https://domo-support.domo.com/s/article/360043429933, 360043429933\n",
      "❤️ child url - https://domo-support.domo.com/s/article/360042925474, 360042925474\n",
      "❤️ child url - https://domo-support.domo.com/s/article/360042925434, 360042925434\n",
      "❤️ child url - https://domo-support.domo.com/s/article/360043429953, 360043429953\n",
      "❤️ child url - https://domo-support.domo.com/s/article/360043429993, 360043429993\n",
      "❤️ child url - https://domo-support.domo.com/s/article/360043430073, 360043430073\n",
      "❤️ child url - https://domo-support.domo.com/s/article/360043430093, 360043430093\n",
      "❤️ child url - https://domo-support.domo.com/s/article/360042925494, 360042925494\n",
      "❤️ child url - https://domo-support.domo.com/s/article/360042925514, 360042925514\n",
      "❤️ child url - https://domo-support.domo.com/s/article/360043430113, 360043430113\n",
      "❤️ child url - https://domo-support.domo.com/s/article/360043430133, 360043430133\n",
      "❤️ child url - https://domo-support.domo.com/s/article/360043430153, 360043430153\n",
      "💤 retrieving https://domo-support.domo.com/s/article/360042925494 💤\n"
     ]
    },
    {
     "name": "stderr",
     "output_type": "stream",
     "text": [
      "2023-04-11 16:07:11,532 INFO:Crawling: https://domo-support.domo.com/s/article/360043429693\n"
     ]
    },
    {
     "name": "stdout",
     "output_type": "stream",
     "text": [
      "💤 retrieving https://domo-support.domo.com/s/article/360043429693 💤\n"
     ]
    },
    {
     "name": "stderr",
     "output_type": "stream",
     "text": [
      "2023-04-11 16:07:33,258 INFO:Crawling: https://domo-support.domo.com/s/topic/0TO5w000000ZanDGAS\n"
     ]
    },
    {
     "name": "stdout",
     "output_type": "stream",
     "text": [
      "💤 retrieving https://domo-support.domo.com/s/topic/0TO5w000000ZanDGAS 💤\n"
     ]
    },
    {
     "name": "stderr",
     "output_type": "stream",
     "text": [
      "2023-04-11 16:07:34,793 INFO:Crawling: https://domo-support.domo.com/s/topic/0TO5w000000ZaoEGAS\n"
     ]
    },
    {
     "name": "stdout",
     "output_type": "stream",
     "text": [
      "❤️ child url - https://domo-support.domo.com/s/article/360043428393, 360043428393\n",
      "❤️ child url - https://domo-support.domo.com/s/article/4403489663127, 4403489663127\n",
      "❤️ child url - https://domo-support.domo.com/s/article/360042923794, 360042923794\n",
      "❤️ child url - https://domo-support.domo.com/s/article/360042923594, 360042923594\n",
      "❤️ child url - https://domo-support.domo.com/s/article/360042923314, 360042923314\n",
      "❤️ child url - https://domo-support.domo.com/s/article/360043428433, 360043428433\n",
      "❤️ child url - https://domo-support.domo.com/s/article/360043428593, 360043428593\n",
      "❤️ child url - https://domo-support.domo.com/s/article/4530782510871, 4530782510871\n",
      "❤️ child url - https://domo-support.domo.com/s/article/360042923274, 360042923274\n",
      "❤️ child url - https://domo-support.domo.com/s/article/360043428273, 360043428273\n",
      "❤️ child url - https://domo-support.domo.com/s/article/360042923774, 360042923774\n",
      "❤️ child url - https://domo-support.domo.com/s/article/360042923814, 360042923814\n",
      "❤️ child url - https://domo-support.domo.com/s/article/360043428253, 360043428253\n",
      "❤️ child url - https://domo-support.domo.com/s/article/360042923254, 360042923254\n",
      "❤️ child url - https://domo-support.domo.com/s/article/360042923614, 360042923614\n",
      "❤️ child url - https://domo-support.domo.com/s/article/360042923294, 360042923294\n",
      "❤️ child url - https://domo-support.domo.com/s/article/360043428613, 360043428613\n",
      "❤️ child url - https://domo-support.domo.com/s/article/4529227357975, 4529227357975\n",
      "💤 retrieving https://domo-support.domo.com/s/topic/0TO5w000000ZaoEGAS 💤\n"
     ]
    },
    {
     "name": "stderr",
     "output_type": "stream",
     "text": [
      "2023-04-11 16:07:36,072 INFO:Crawling: https://domo-support.domo.com/s/topic/0TO5w000000ZaoNGAS\n"
     ]
    },
    {
     "name": "stdout",
     "output_type": "stream",
     "text": [
      "❤️ child url - https://domo-support.domo.com/s/article/360042932994, 360042932994\n",
      "❤️ child url - https://domo-support.domo.com/s/article/360042933074, 360042933074\n",
      "💤 retrieving https://domo-support.domo.com/s/topic/0TO5w000000ZaoNGAS 💤\n"
     ]
    },
    {
     "name": "stderr",
     "output_type": "stream",
     "text": [
      "2023-04-11 16:07:37,464 INFO:Crawling: https://domo-support.domo.com/s/topic/0TO5w000000ZanwGAC\n"
     ]
    },
    {
     "name": "stdout",
     "output_type": "stream",
     "text": [
      "❤️ child url - https://domo-support.domo.com/s/topic/0TO5w000000ZapOGAS, 0TO5w000000ZapOGAS\n",
      "❤️ child url - https://domo-support.domo.com/s/topic/0TO5w000000ZapBGAS, 0TO5w000000ZapBGAS\n",
      "❤️ child url - https://domo-support.domo.com/s/topic/0TO5w000000ZaoeGAC, 0TO5w000000ZaoeGAC\n",
      "❤️ child url - https://domo-support.domo.com/s/topic/0TO5w000000ZaoUGAS, 0TO5w000000ZaoUGAS\n",
      "❤️ child url - https://domo-support.domo.com/s/topic/0TO5w000000ZaodGAC, 0TO5w000000ZaodGAC\n",
      "💤 retrieving https://domo-support.domo.com/s/topic/0TO5w000000ZanwGAC 💤\n"
     ]
    },
    {
     "name": "stderr",
     "output_type": "stream",
     "text": [
      "2023-04-11 16:07:38,815 INFO:Crawling: https://domo-support.domo.com/s/topic/0TO5w000000ZanZGAS\n"
     ]
    },
    {
     "name": "stdout",
     "output_type": "stream",
     "text": [
      "❤️ child url - https://domo-support.domo.com/s/article/360043430233, 360043430233\n",
      "❤️ child url - https://domo-support.domo.com/s/article/360042925654, 360042925654\n",
      "💤 retrieving https://domo-support.domo.com/s/topic/0TO5w000000ZanZGAS 💤\n"
     ]
    },
    {
     "name": "stderr",
     "output_type": "stream",
     "text": [
      "2023-04-11 16:07:40,129 INFO:Crawling: https://domo-support.domo.com/s/topic/0TO5w000000Zao4GAC\n"
     ]
    },
    {
     "name": "stdout",
     "output_type": "stream",
     "text": [
      "❤️ child url - https://domo-support.domo.com/s/article/360042925594, 360042925594\n",
      "❤️ child url - https://domo-support.domo.com/s/article/360043430193, 360043430193\n",
      "❤️ child url - https://domo-support.domo.com/s/article/360042925634, 360042925634\n",
      "❤️ child url - https://domo-support.domo.com/s/article/360043430213, 360043430213\n",
      "❤️ child url - https://domo-support.domo.com/s/article/360042925614, 360042925614\n",
      "💤 retrieving https://domo-support.domo.com/s/topic/0TO5w000000Zao4GAC 💤\n"
     ]
    },
    {
     "name": "stderr",
     "output_type": "stream",
     "text": [
      "2023-04-11 16:07:41,420 INFO:Crawling: https://domo-support.domo.com/s/topic/0TO5w000000ZaoHGAS\n"
     ]
    },
    {
     "name": "stdout",
     "output_type": "stream",
     "text": [
      "❤️ child url - https://domo-support.domo.com/s/article/360042925694, 360042925694\n",
      "💤 retrieving https://domo-support.domo.com/s/topic/0TO5w000000ZaoHGAS 💤\n"
     ]
    },
    {
     "name": "stderr",
     "output_type": "stream",
     "text": [
      "2023-04-11 16:07:43,190 INFO:Crawling: https://domo-support.domo.com/s/topic/0TO5w000000ZdTCGA0\n"
     ]
    },
    {
     "name": "stdout",
     "output_type": "stream",
     "text": [
      "❤️ child url - https://domo-support.domo.com/s/article/360042925674, 360042925674\n",
      "❤️ child url - https://domo-support.domo.com/s/article/360043430253, 360043430253\n",
      "❤️ child url - https://domo-support.domo.com/s/article/360046752694, 360046752694\n",
      "💤 retrieving https://domo-support.domo.com/s/topic/0TO5w000000ZdTCGA0 💤\n"
     ]
    },
    {
     "name": "stderr",
     "output_type": "stream",
     "text": [
      "2023-04-11 16:07:44,728 INFO:Crawling: https://domo-support.domo.com/s/topic/0TO5w000000Zan7GAC\n"
     ]
    },
    {
     "name": "stdout",
     "output_type": "stream",
     "text": [
      "❤️ child url - https://domo-support.domo.com/s/article/7903767835031, 7903767835031\n",
      "💤 retrieving https://domo-support.domo.com/s/topic/0TO5w000000Zan7GAC 💤\n"
     ]
    },
    {
     "name": "stderr",
     "output_type": "stream",
     "text": [
      "2023-04-11 16:07:46,073 INFO:Crawling: https://domo-support.domo.com/s/topic/0TO5w000000ZanNGAS\n"
     ]
    },
    {
     "name": "stdout",
     "output_type": "stream",
     "text": [
      "❤️ child url - https://domo-support.domo.com/s/article/360042936254, 360042936254\n",
      "❤️ child url - https://domo-support.domo.com/s/article/360042936274, 360042936274\n",
      "❤️ child url - https://domo-support.domo.com/s/article/360043439853, 360043439853\n",
      "❤️ child url - https://domo-support.domo.com/s/article/360043440793, 360043440793\n",
      "❤️ child url - https://domo-support.domo.com/s/article/360042936294, 360042936294\n",
      "❤️ child url - https://domo-support.domo.com/s/article/360042936234, 360042936234\n",
      "❤️ child url - https://domo-support.domo.com/s/article/360043439713, 360043439713\n",
      "❤️ child url - https://domo-support.domo.com/s/article/360043440653, 360043440653\n",
      "❤️ child url - https://domo-support.domo.com/s/article/360042935234, 360042935234\n",
      "❤️ child url - https://domo-support.domo.com/s/article/360042936134, 360042936134\n",
      "❤️ child url - https://domo-support.domo.com/s/article/360043440673, 360043440673\n",
      "❤️ child url - https://domo-support.domo.com/s/article/360043439593, 360043439593\n",
      "❤️ child url - https://domo-support.domo.com/s/article/360043439913, 360043439913\n",
      "❤️ child url - https://domo-support.domo.com/s/article/360043439873, 360043439873\n",
      "❤️ child url - https://domo-support.domo.com/s/article/360042936174, 360042936174\n",
      "❤️ child url - https://domo-support.domo.com/s/article/360042936194, 360042936194\n",
      "❤️ child url - https://domo-support.domo.com/s/article/360043440693, 360043440693\n",
      "❤️ child url - https://domo-support.domo.com/s/article/360055244114, 360055244114\n",
      "❤️ child url - https://domo-support.domo.com/s/article/4409045382935, 4409045382935\n",
      "❤️ child url - https://domo-support.domo.com/s/article/9645646505111, 9645646505111\n",
      "❤️ child url - https://domo-support.domo.com/s/article/360043439553, 360043439553\n",
      "❤️ child url - https://domo-support.domo.com/s/article/360042934774, 360042934774\n",
      "❤️ child url - https://domo-support.domo.com/s/article/360042935014, 360042935014\n",
      "❤️ child url - https://domo-support.domo.com/s/article/360043439573, 360043439573\n",
      "❤️ child url - https://domo-support.domo.com/s/article/360042935214, 360042935214\n",
      "❤️ child url - https://domo-support.domo.com/s/article/360043439893, 360043439893\n",
      "❤️ child url - https://domo-support.domo.com/s/article/360050912013, 360050912013\n",
      "❤️ child url - https://domo-support.domo.com/s/article/4403173731863, 4403173731863\n",
      "❤️ child url - https://domo-support.domo.com/s/article/7579340458903, 7579340458903\n",
      "❤️ child url - https://domo-support.domo.com/s/article/360042934794, 360042934794\n",
      "❤️ child url - https://domo-support.domo.com/s/article/360042934814, 360042934814\n",
      "❤️ child url - https://domo-support.domo.com/s/article/360042935034, 360042935034\n",
      "❤️ child url - https://domo-support.domo.com/s/article/360048116074, 360048116074\n",
      "❤️ child url - https://domo-support.domo.com/s/article/360042936214, 360042936214\n",
      "❤️ child url - https://domo-support.domo.com/s/article/360043439693, 360043439693\n",
      "❤️ child url - https://domo-support.domo.com/s/article/360048116854, 360048116854\n",
      "❤️ child url - https://domo-support.domo.com/s/article/360043439613, 360043439613\n",
      "❤️ child url - https://domo-support.domo.com/s/article/360043440713, 360043440713\n",
      "❤️ child url - https://domo-support.domo.com/s/article/360042934974, 360042934974\n",
      "❤️ child url - https://domo-support.domo.com/s/article/360042934834, 360042934834\n",
      "❤️ child url - https://domo-support.domo.com/s/article/360061873754, 360061873754\n",
      "❤️ child url - https://domo-support.domo.com/s/article/4425111066903, 4425111066903\n",
      "❤️ child url - https://domo-support.domo.com/s/article/000005174, 000005174\n",
      "❤️ child url - https://domo-support.domo.com/s/article/360042934934, 360042934934\n",
      "❤️ child url - https://domo-support.domo.com/s/article/360043440733, 360043440733\n",
      "❤️ child url - https://domo-support.domo.com/s/article/360042934994, 360042934994\n",
      "💤 retrieving https://domo-support.domo.com/s/topic/0TO5w000000ZanNGAS 💤\n"
     ]
    },
    {
     "name": "stderr",
     "output_type": "stream",
     "text": [
      "2023-04-11 16:07:47,434 INFO:Crawling: https://domo-support.domo.com/s/article/360043430033\n"
     ]
    },
    {
     "name": "stdout",
     "output_type": "stream",
     "text": [
      "❤️ child url - https://domo-support.domo.com/s/article/Current-Release-Notes, Current-Release-Notes\n",
      "💤 retrieving https://domo-support.domo.com/s/article/360043430033 💤\n"
     ]
    },
    {
     "ename": "KeyboardInterrupt",
     "evalue": "",
     "output_type": "error",
     "traceback": [
      "\u001b[1;31m---------------------------------------------------------------------------\u001b[0m",
      "\u001b[1;31mKeyboardInterrupt\u001b[0m                         Traceback (most recent call last)",
      "Cell \u001b[1;32mIn[10], line 11\u001b[0m\n\u001b[0;32m      8\u001b[0m \u001b[39mfrom\u001b[39;00m \u001b[39mpprint\u001b[39;00m \u001b[39mimport\u001b[39;00m pprint\n\u001b[0;32m      9\u001b[0m pprint(crawler\u001b[39m.\u001b[39m\u001b[39m__dict__\u001b[39m)\n\u001b[1;32m---> 11\u001b[0m crawler\u001b[39m.\u001b[39;49mrun(debug_prn\u001b[39m=\u001b[39;49m\u001b[39mFalse\u001b[39;49;00m)\n",
      "Cell \u001b[1;32mIn[9], line 121\u001b[0m, in \u001b[0;36mCrawler.run\u001b[1;34m(self, debug_prn)\u001b[0m\n\u001b[0;32m    118\u001b[0m logging\u001b[39m.\u001b[39minfo(\u001b[39mf\u001b[39m\u001b[39m\"\u001b[39m\u001b[39mCrawling: \u001b[39m\u001b[39m{\u001b[39;00murl\u001b[39m}\u001b[39;00m\u001b[39m\"\u001b[39m)\n\u001b[0;32m    120\u001b[0m \u001b[39mtry\u001b[39;00m:\n\u001b[1;32m--> 121\u001b[0m     \u001b[39mself\u001b[39;49m\u001b[39m.\u001b[39;49mcrawl(url, debug_prn)\n\u001b[0;32m    122\u001b[0m \u001b[39mexcept\u001b[39;00m \u001b[39mException\u001b[39;00m:\n\u001b[0;32m    123\u001b[0m     logging\u001b[39m.\u001b[39mexception(\u001b[39mf\u001b[39m\u001b[39m\"\u001b[39m\u001b[39mFailed to crawl: \u001b[39m\u001b[39m{\u001b[39;00murl\u001b[39m}\u001b[39;00m\u001b[39m\"\u001b[39m)\n",
      "Cell \u001b[1;32mIn[9], line 102\u001b[0m, in \u001b[0;36mCrawler.crawl\u001b[1;34m(self, url, debug_prn)\u001b[0m\n\u001b[0;32m     99\u001b[0m \u001b[39mif\u001b[39;00m \u001b[39m'\u001b[39m\u001b[39m/s/article/\u001b[39m\u001b[39m'\u001b[39m \u001b[39min\u001b[39;00m url:\n\u001b[0;32m    100\u001b[0m     article \u001b[39m=\u001b[39m dca\u001b[39m.\u001b[39mArticle_KB(\n\u001b[0;32m    101\u001b[0m         url\u001b[39m=\u001b[39murl, base_url\u001b[39m=\u001b[39m\u001b[39mself\u001b[39m\u001b[39m.\u001b[39mbase_url, driver\u001b[39m=\u001b[39mdriver)\n\u001b[1;32m--> 102\u001b[0m     process_article(article\u001b[39m=\u001b[39;49marticle, output_folder\u001b[39m=\u001b[39;49m\u001b[39mself\u001b[39;49m\u001b[39m.\u001b[39;49moutput_folder)\n\u001b[0;32m    104\u001b[0m \u001b[39mif\u001b[39;00m \u001b[39mnot\u001b[39;00m article:\n\u001b[0;32m    105\u001b[0m     \u001b[39mreturn\u001b[39;00m\n",
      "Cell \u001b[1;32mIn[8], line 19\u001b[0m, in \u001b[0;36mprocess_article\u001b[1;34m(article, output_folder, debug_prn)\u001b[0m\n\u001b[0;32m     11\u001b[0m output_html(os\u001b[39m.\u001b[39mpath\u001b[39m.\u001b[39mjoin(output_path, \u001b[39m'\u001b[39m\u001b[39mindex.html\u001b[39m\u001b[39m'\u001b[39m), article\u001b[39m.\u001b[39msoup)\n\u001b[0;32m     13\u001b[0m update_listing(url\u001b[39m=\u001b[39marticle\u001b[39m.\u001b[39murl,\n\u001b[0;32m     14\u001b[0m             url_id \u001b[39m=\u001b[39m article\u001b[39m.\u001b[39murl_id,\n\u001b[0;32m     15\u001b[0m             name \u001b[39m=\u001b[39m article\u001b[39m.\u001b[39mtitle,\n\u001b[0;32m     16\u001b[0m             file_name \u001b[39m=\u001b[39m \u001b[39m'\u001b[39m\u001b[39marticle_listing.csv\u001b[39m\u001b[39m'\u001b[39m,\n\u001b[0;32m     17\u001b[0m             output_folder\u001b[39m=\u001b[39mOUTPUT_FOLDER)\n\u001b[1;32m---> 19\u001b[0m download_article_images(\n\u001b[0;32m     20\u001b[0m     article\u001b[39m=\u001b[39;49marticle,\n\u001b[0;32m     21\u001b[0m     output_path\u001b[39m=\u001b[39;49m output_path)\n",
      "Cell \u001b[1;32mIn[4], line 41\u001b[0m, in \u001b[0;36mdownload_article_images\u001b[1;34m(article, output_path, debug_prn)\u001b[0m\n\u001b[0;32m     36\u001b[0m     \u001b[39mif\u001b[39;00m debug_prn:\n\u001b[0;32m     37\u001b[0m         \u001b[39mprint\u001b[39m(\n\u001b[0;32m     38\u001b[0m             \u001b[39mf\u001b[39m\u001b[39m\"\u001b[39m\u001b[39mdownloading \u001b[39m\u001b[39m{\u001b[39;00mimg_url\u001b[39m}\u001b[39;00m\u001b[39m to \u001b[39m\u001b[39m{\u001b[39;00mimg_path\u001b[39m}\u001b[39;00m\u001b[39m.  replacing article with \u001b[39m\u001b[39m{\u001b[39;00mimg_rel_path\u001b[39m}\u001b[39;00m\u001b[39m with \u001b[39m\u001b[39m{\u001b[39;00mimg_name\u001b[39m}\u001b[39;00m\u001b[39m\"\u001b[39m\n\u001b[0;32m     39\u001b[0m         )\n\u001b[1;32m---> 41\u001b[0m     download_img(image_url\u001b[39m=\u001b[39;49mimg_url, image_path\u001b[39m=\u001b[39;49mimg_path)\n\u001b[0;32m     43\u001b[0m     article\u001b[39m.\u001b[39mmd_str \u001b[39m=\u001b[39m article\u001b[39m.\u001b[39mmd_str\u001b[39m.\u001b[39mreplace(img_rel_path, img_name)\n\u001b[0;32m     45\u001b[0m \u001b[39mreturn\u001b[39;00m image_ls\n",
      "Cell \u001b[1;32mIn[4], line 7\u001b[0m, in \u001b[0;36mdownload_img\u001b[1;34m(image_url, image_path, debug_prn)\u001b[0m\n\u001b[0;32m      5\u001b[0m \u001b[39mdef\u001b[39;00m \u001b[39mdownload_img\u001b[39m(image_url, image_path, debug_prn: \u001b[39mbool\u001b[39m \u001b[39m=\u001b[39m \u001b[39mFalse\u001b[39;00m):\n\u001b[1;32m----> 7\u001b[0m     img_data \u001b[39m=\u001b[39m requests\u001b[39m.\u001b[39;49mget(image_url)\u001b[39m.\u001b[39mcontent\n\u001b[0;32m      9\u001b[0m     \u001b[39mwith\u001b[39;00m \u001b[39mopen\u001b[39m(image_path, \u001b[39m\"\u001b[39m\u001b[39mwb\u001b[39m\u001b[39m\"\u001b[39m) \u001b[39mas\u001b[39;00m handler:\n\u001b[0;32m     10\u001b[0m         \u001b[39mif\u001b[39;00m debug_prn:\n",
      "File \u001b[1;32mc:\\Users\\jwilson1\\Miniconda3\\lib\\site-packages\\requests\\api.py:73\u001b[0m, in \u001b[0;36mget\u001b[1;34m(url, params, **kwargs)\u001b[0m\n\u001b[0;32m     62\u001b[0m \u001b[39mdef\u001b[39;00m \u001b[39mget\u001b[39m(url, params\u001b[39m=\u001b[39m\u001b[39mNone\u001b[39;00m, \u001b[39m*\u001b[39m\u001b[39m*\u001b[39mkwargs):\n\u001b[0;32m     63\u001b[0m     \u001b[39mr\u001b[39m\u001b[39m\"\"\"Sends a GET request.\u001b[39;00m\n\u001b[0;32m     64\u001b[0m \n\u001b[0;32m     65\u001b[0m \u001b[39m    :param url: URL for the new :class:`Request` object.\u001b[39;00m\n\u001b[1;32m   (...)\u001b[0m\n\u001b[0;32m     70\u001b[0m \u001b[39m    :rtype: requests.Response\u001b[39;00m\n\u001b[0;32m     71\u001b[0m \u001b[39m    \"\"\"\u001b[39;00m\n\u001b[1;32m---> 73\u001b[0m     \u001b[39mreturn\u001b[39;00m request(\u001b[39m\"\u001b[39m\u001b[39mget\u001b[39m\u001b[39m\"\u001b[39m, url, params\u001b[39m=\u001b[39mparams, \u001b[39m*\u001b[39m\u001b[39m*\u001b[39mkwargs)\n",
      "File \u001b[1;32mc:\\Users\\jwilson1\\Miniconda3\\lib\\site-packages\\requests\\api.py:59\u001b[0m, in \u001b[0;36mrequest\u001b[1;34m(method, url, **kwargs)\u001b[0m\n\u001b[0;32m     55\u001b[0m \u001b[39m# By using the 'with' statement we are sure the session is closed, thus we\u001b[39;00m\n\u001b[0;32m     56\u001b[0m \u001b[39m# avoid leaving sockets open which can trigger a ResourceWarning in some\u001b[39;00m\n\u001b[0;32m     57\u001b[0m \u001b[39m# cases, and look like a memory leak in others.\u001b[39;00m\n\u001b[0;32m     58\u001b[0m \u001b[39mwith\u001b[39;00m sessions\u001b[39m.\u001b[39mSession() \u001b[39mas\u001b[39;00m session:\n\u001b[1;32m---> 59\u001b[0m     \u001b[39mreturn\u001b[39;00m session\u001b[39m.\u001b[39mrequest(method\u001b[39m=\u001b[39mmethod, url\u001b[39m=\u001b[39murl, \u001b[39m*\u001b[39m\u001b[39m*\u001b[39mkwargs)\n",
      "File \u001b[1;32mc:\\Users\\jwilson1\\Miniconda3\\lib\\site-packages\\requests\\sessions.py:587\u001b[0m, in \u001b[0;36mSession.request\u001b[1;34m(self, method, url, params, data, headers, cookies, files, auth, timeout, allow_redirects, proxies, hooks, stream, verify, cert, json)\u001b[0m\n\u001b[0;32m    582\u001b[0m send_kwargs \u001b[39m=\u001b[39m {\n\u001b[0;32m    583\u001b[0m     \u001b[39m\"\u001b[39m\u001b[39mtimeout\u001b[39m\u001b[39m\"\u001b[39m: timeout,\n\u001b[0;32m    584\u001b[0m     \u001b[39m\"\u001b[39m\u001b[39mallow_redirects\u001b[39m\u001b[39m\"\u001b[39m: allow_redirects,\n\u001b[0;32m    585\u001b[0m }\n\u001b[0;32m    586\u001b[0m send_kwargs\u001b[39m.\u001b[39mupdate(settings)\n\u001b[1;32m--> 587\u001b[0m resp \u001b[39m=\u001b[39m \u001b[39mself\u001b[39m\u001b[39m.\u001b[39msend(prep, \u001b[39m*\u001b[39m\u001b[39m*\u001b[39msend_kwargs)\n\u001b[0;32m    589\u001b[0m \u001b[39mreturn\u001b[39;00m resp\n",
      "File \u001b[1;32mc:\\Users\\jwilson1\\Miniconda3\\lib\\site-packages\\requests\\sessions.py:701\u001b[0m, in \u001b[0;36mSession.send\u001b[1;34m(self, request, **kwargs)\u001b[0m\n\u001b[0;32m    698\u001b[0m start \u001b[39m=\u001b[39m preferred_clock()\n\u001b[0;32m    700\u001b[0m \u001b[39m# Send the request\u001b[39;00m\n\u001b[1;32m--> 701\u001b[0m r \u001b[39m=\u001b[39m adapter\u001b[39m.\u001b[39msend(request, \u001b[39m*\u001b[39m\u001b[39m*\u001b[39mkwargs)\n\u001b[0;32m    703\u001b[0m \u001b[39m# Total elapsed time of the request (approximately)\u001b[39;00m\n\u001b[0;32m    704\u001b[0m elapsed \u001b[39m=\u001b[39m preferred_clock() \u001b[39m-\u001b[39m start\n",
      "File \u001b[1;32mc:\\Users\\jwilson1\\Miniconda3\\lib\\site-packages\\requests\\adapters.py:489\u001b[0m, in \u001b[0;36mHTTPAdapter.send\u001b[1;34m(self, request, stream, timeout, verify, cert, proxies)\u001b[0m\n\u001b[0;32m    487\u001b[0m \u001b[39mtry\u001b[39;00m:\n\u001b[0;32m    488\u001b[0m     \u001b[39mif\u001b[39;00m \u001b[39mnot\u001b[39;00m chunked:\n\u001b[1;32m--> 489\u001b[0m         resp \u001b[39m=\u001b[39m conn\u001b[39m.\u001b[39;49murlopen(\n\u001b[0;32m    490\u001b[0m             method\u001b[39m=\u001b[39;49mrequest\u001b[39m.\u001b[39;49mmethod,\n\u001b[0;32m    491\u001b[0m             url\u001b[39m=\u001b[39;49murl,\n\u001b[0;32m    492\u001b[0m             body\u001b[39m=\u001b[39;49mrequest\u001b[39m.\u001b[39;49mbody,\n\u001b[0;32m    493\u001b[0m             headers\u001b[39m=\u001b[39;49mrequest\u001b[39m.\u001b[39;49mheaders,\n\u001b[0;32m    494\u001b[0m             redirect\u001b[39m=\u001b[39;49m\u001b[39mFalse\u001b[39;49;00m,\n\u001b[0;32m    495\u001b[0m             assert_same_host\u001b[39m=\u001b[39;49m\u001b[39mFalse\u001b[39;49;00m,\n\u001b[0;32m    496\u001b[0m             preload_content\u001b[39m=\u001b[39;49m\u001b[39mFalse\u001b[39;49;00m,\n\u001b[0;32m    497\u001b[0m             decode_content\u001b[39m=\u001b[39;49m\u001b[39mFalse\u001b[39;49;00m,\n\u001b[0;32m    498\u001b[0m             retries\u001b[39m=\u001b[39;49m\u001b[39mself\u001b[39;49m\u001b[39m.\u001b[39;49mmax_retries,\n\u001b[0;32m    499\u001b[0m             timeout\u001b[39m=\u001b[39;49mtimeout,\n\u001b[0;32m    500\u001b[0m         )\n\u001b[0;32m    502\u001b[0m     \u001b[39m# Send the request.\u001b[39;00m\n\u001b[0;32m    503\u001b[0m     \u001b[39melse\u001b[39;00m:\n\u001b[0;32m    504\u001b[0m         \u001b[39mif\u001b[39;00m \u001b[39mhasattr\u001b[39m(conn, \u001b[39m\"\u001b[39m\u001b[39mproxy_pool\u001b[39m\u001b[39m\"\u001b[39m):\n",
      "File \u001b[1;32mc:\\Users\\jwilson1\\Miniconda3\\lib\\site-packages\\urllib3\\connectionpool.py:703\u001b[0m, in \u001b[0;36mHTTPConnectionPool.urlopen\u001b[1;34m(self, method, url, body, headers, retries, redirect, assert_same_host, timeout, pool_timeout, release_conn, chunked, body_pos, **response_kw)\u001b[0m\n\u001b[0;32m    700\u001b[0m     \u001b[39mself\u001b[39m\u001b[39m.\u001b[39m_prepare_proxy(conn)\n\u001b[0;32m    702\u001b[0m \u001b[39m# Make the request on the httplib connection object.\u001b[39;00m\n\u001b[1;32m--> 703\u001b[0m httplib_response \u001b[39m=\u001b[39m \u001b[39mself\u001b[39;49m\u001b[39m.\u001b[39;49m_make_request(\n\u001b[0;32m    704\u001b[0m     conn,\n\u001b[0;32m    705\u001b[0m     method,\n\u001b[0;32m    706\u001b[0m     url,\n\u001b[0;32m    707\u001b[0m     timeout\u001b[39m=\u001b[39;49mtimeout_obj,\n\u001b[0;32m    708\u001b[0m     body\u001b[39m=\u001b[39;49mbody,\n\u001b[0;32m    709\u001b[0m     headers\u001b[39m=\u001b[39;49mheaders,\n\u001b[0;32m    710\u001b[0m     chunked\u001b[39m=\u001b[39;49mchunked,\n\u001b[0;32m    711\u001b[0m )\n\u001b[0;32m    713\u001b[0m \u001b[39m# If we're going to release the connection in ``finally:``, then\u001b[39;00m\n\u001b[0;32m    714\u001b[0m \u001b[39m# the response doesn't need to know about the connection. Otherwise\u001b[39;00m\n\u001b[0;32m    715\u001b[0m \u001b[39m# it will also try to release it and we'll have a double-release\u001b[39;00m\n\u001b[0;32m    716\u001b[0m \u001b[39m# mess.\u001b[39;00m\n\u001b[0;32m    717\u001b[0m response_conn \u001b[39m=\u001b[39m conn \u001b[39mif\u001b[39;00m \u001b[39mnot\u001b[39;00m release_conn \u001b[39melse\u001b[39;00m \u001b[39mNone\u001b[39;00m\n",
      "File \u001b[1;32mc:\\Users\\jwilson1\\Miniconda3\\lib\\site-packages\\urllib3\\connectionpool.py:386\u001b[0m, in \u001b[0;36mHTTPConnectionPool._make_request\u001b[1;34m(self, conn, method, url, timeout, chunked, **httplib_request_kw)\u001b[0m\n\u001b[0;32m    384\u001b[0m \u001b[39m# Trigger any extra validation we need to do.\u001b[39;00m\n\u001b[0;32m    385\u001b[0m \u001b[39mtry\u001b[39;00m:\n\u001b[1;32m--> 386\u001b[0m     \u001b[39mself\u001b[39;49m\u001b[39m.\u001b[39;49m_validate_conn(conn)\n\u001b[0;32m    387\u001b[0m \u001b[39mexcept\u001b[39;00m (SocketTimeout, BaseSSLError) \u001b[39mas\u001b[39;00m e:\n\u001b[0;32m    388\u001b[0m     \u001b[39m# Py2 raises this as a BaseSSLError, Py3 raises it as socket timeout.\u001b[39;00m\n\u001b[0;32m    389\u001b[0m     \u001b[39mself\u001b[39m\u001b[39m.\u001b[39m_raise_timeout(err\u001b[39m=\u001b[39me, url\u001b[39m=\u001b[39murl, timeout_value\u001b[39m=\u001b[39mconn\u001b[39m.\u001b[39mtimeout)\n",
      "File \u001b[1;32mc:\\Users\\jwilson1\\Miniconda3\\lib\\site-packages\\urllib3\\connectionpool.py:1042\u001b[0m, in \u001b[0;36mHTTPSConnectionPool._validate_conn\u001b[1;34m(self, conn)\u001b[0m\n\u001b[0;32m   1040\u001b[0m \u001b[39m# Force connect early to allow us to validate the connection.\u001b[39;00m\n\u001b[0;32m   1041\u001b[0m \u001b[39mif\u001b[39;00m \u001b[39mnot\u001b[39;00m \u001b[39mgetattr\u001b[39m(conn, \u001b[39m\"\u001b[39m\u001b[39msock\u001b[39m\u001b[39m\"\u001b[39m, \u001b[39mNone\u001b[39;00m):  \u001b[39m# AppEngine might not have  `.sock`\u001b[39;00m\n\u001b[1;32m-> 1042\u001b[0m     conn\u001b[39m.\u001b[39;49mconnect()\n\u001b[0;32m   1044\u001b[0m \u001b[39mif\u001b[39;00m \u001b[39mnot\u001b[39;00m conn\u001b[39m.\u001b[39mis_verified:\n\u001b[0;32m   1045\u001b[0m     warnings\u001b[39m.\u001b[39mwarn(\n\u001b[0;32m   1046\u001b[0m         (\n\u001b[0;32m   1047\u001b[0m             \u001b[39m\"\u001b[39m\u001b[39mUnverified HTTPS request is being made to host \u001b[39m\u001b[39m'\u001b[39m\u001b[39m%s\u001b[39;00m\u001b[39m'\u001b[39m\u001b[39m. \u001b[39m\u001b[39m\"\u001b[39m\n\u001b[1;32m   (...)\u001b[0m\n\u001b[0;32m   1052\u001b[0m         InsecureRequestWarning,\n\u001b[0;32m   1053\u001b[0m     )\n",
      "File \u001b[1;32mc:\\Users\\jwilson1\\Miniconda3\\lib\\site-packages\\urllib3\\connection.py:414\u001b[0m, in \u001b[0;36mHTTPSConnection.connect\u001b[1;34m(self)\u001b[0m\n\u001b[0;32m    405\u001b[0m \u001b[39mif\u001b[39;00m (\n\u001b[0;32m    406\u001b[0m     \u001b[39mnot\u001b[39;00m \u001b[39mself\u001b[39m\u001b[39m.\u001b[39mca_certs\n\u001b[0;32m    407\u001b[0m     \u001b[39mand\u001b[39;00m \u001b[39mnot\u001b[39;00m \u001b[39mself\u001b[39m\u001b[39m.\u001b[39mca_cert_dir\n\u001b[1;32m   (...)\u001b[0m\n\u001b[0;32m    410\u001b[0m     \u001b[39mand\u001b[39;00m \u001b[39mhasattr\u001b[39m(context, \u001b[39m\"\u001b[39m\u001b[39mload_default_certs\u001b[39m\u001b[39m\"\u001b[39m)\n\u001b[0;32m    411\u001b[0m ):\n\u001b[0;32m    412\u001b[0m     context\u001b[39m.\u001b[39mload_default_certs()\n\u001b[1;32m--> 414\u001b[0m \u001b[39mself\u001b[39m\u001b[39m.\u001b[39msock \u001b[39m=\u001b[39m ssl_wrap_socket(\n\u001b[0;32m    415\u001b[0m     sock\u001b[39m=\u001b[39;49mconn,\n\u001b[0;32m    416\u001b[0m     keyfile\u001b[39m=\u001b[39;49m\u001b[39mself\u001b[39;49m\u001b[39m.\u001b[39;49mkey_file,\n\u001b[0;32m    417\u001b[0m     certfile\u001b[39m=\u001b[39;49m\u001b[39mself\u001b[39;49m\u001b[39m.\u001b[39;49mcert_file,\n\u001b[0;32m    418\u001b[0m     key_password\u001b[39m=\u001b[39;49m\u001b[39mself\u001b[39;49m\u001b[39m.\u001b[39;49mkey_password,\n\u001b[0;32m    419\u001b[0m     ca_certs\u001b[39m=\u001b[39;49m\u001b[39mself\u001b[39;49m\u001b[39m.\u001b[39;49mca_certs,\n\u001b[0;32m    420\u001b[0m     ca_cert_dir\u001b[39m=\u001b[39;49m\u001b[39mself\u001b[39;49m\u001b[39m.\u001b[39;49mca_cert_dir,\n\u001b[0;32m    421\u001b[0m     ca_cert_data\u001b[39m=\u001b[39;49m\u001b[39mself\u001b[39;49m\u001b[39m.\u001b[39;49mca_cert_data,\n\u001b[0;32m    422\u001b[0m     server_hostname\u001b[39m=\u001b[39;49mserver_hostname,\n\u001b[0;32m    423\u001b[0m     ssl_context\u001b[39m=\u001b[39;49mcontext,\n\u001b[0;32m    424\u001b[0m     tls_in_tls\u001b[39m=\u001b[39;49mtls_in_tls,\n\u001b[0;32m    425\u001b[0m )\n\u001b[0;32m    427\u001b[0m \u001b[39m# If we're using all defaults and the connection\u001b[39;00m\n\u001b[0;32m    428\u001b[0m \u001b[39m# is TLSv1 or TLSv1.1 we throw a DeprecationWarning\u001b[39;00m\n\u001b[0;32m    429\u001b[0m \u001b[39m# for the host.\u001b[39;00m\n\u001b[0;32m    430\u001b[0m \u001b[39mif\u001b[39;00m (\n\u001b[0;32m    431\u001b[0m     default_ssl_context\n\u001b[0;32m    432\u001b[0m     \u001b[39mand\u001b[39;00m \u001b[39mself\u001b[39m\u001b[39m.\u001b[39mssl_version \u001b[39mis\u001b[39;00m \u001b[39mNone\u001b[39;00m\n\u001b[0;32m    433\u001b[0m     \u001b[39mand\u001b[39;00m \u001b[39mhasattr\u001b[39m(\u001b[39mself\u001b[39m\u001b[39m.\u001b[39msock, \u001b[39m\"\u001b[39m\u001b[39mversion\u001b[39m\u001b[39m\"\u001b[39m)\n\u001b[0;32m    434\u001b[0m     \u001b[39mand\u001b[39;00m \u001b[39mself\u001b[39m\u001b[39m.\u001b[39msock\u001b[39m.\u001b[39mversion() \u001b[39min\u001b[39;00m {\u001b[39m\"\u001b[39m\u001b[39mTLSv1\u001b[39m\u001b[39m\"\u001b[39m, \u001b[39m\"\u001b[39m\u001b[39mTLSv1.1\u001b[39m\u001b[39m\"\u001b[39m}\n\u001b[0;32m    435\u001b[0m ):\n",
      "File \u001b[1;32mc:\\Users\\jwilson1\\Miniconda3\\lib\\site-packages\\urllib3\\util\\ssl_.py:449\u001b[0m, in \u001b[0;36mssl_wrap_socket\u001b[1;34m(sock, keyfile, certfile, cert_reqs, ca_certs, server_hostname, ssl_version, ciphers, ssl_context, ca_cert_dir, key_password, ca_cert_data, tls_in_tls)\u001b[0m\n\u001b[0;32m    437\u001b[0m     warnings\u001b[39m.\u001b[39mwarn(\n\u001b[0;32m    438\u001b[0m         \u001b[39m\"\u001b[39m\u001b[39mAn HTTPS request has been made, but the SNI (Server Name \u001b[39m\u001b[39m\"\u001b[39m\n\u001b[0;32m    439\u001b[0m         \u001b[39m\"\u001b[39m\u001b[39mIndication) extension to TLS is not available on this platform. \u001b[39m\u001b[39m\"\u001b[39m\n\u001b[1;32m   (...)\u001b[0m\n\u001b[0;32m    445\u001b[0m         SNIMissingWarning,\n\u001b[0;32m    446\u001b[0m     )\n\u001b[0;32m    448\u001b[0m \u001b[39mif\u001b[39;00m send_sni:\n\u001b[1;32m--> 449\u001b[0m     ssl_sock \u001b[39m=\u001b[39m _ssl_wrap_socket_impl(\n\u001b[0;32m    450\u001b[0m         sock, context, tls_in_tls, server_hostname\u001b[39m=\u001b[39;49mserver_hostname\n\u001b[0;32m    451\u001b[0m     )\n\u001b[0;32m    452\u001b[0m \u001b[39melse\u001b[39;00m:\n\u001b[0;32m    453\u001b[0m     ssl_sock \u001b[39m=\u001b[39m _ssl_wrap_socket_impl(sock, context, tls_in_tls)\n",
      "File \u001b[1;32mc:\\Users\\jwilson1\\Miniconda3\\lib\\site-packages\\urllib3\\util\\ssl_.py:493\u001b[0m, in \u001b[0;36m_ssl_wrap_socket_impl\u001b[1;34m(sock, ssl_context, tls_in_tls, server_hostname)\u001b[0m\n\u001b[0;32m    490\u001b[0m     \u001b[39mreturn\u001b[39;00m SSLTransport(sock, ssl_context, server_hostname)\n\u001b[0;32m    492\u001b[0m \u001b[39mif\u001b[39;00m server_hostname:\n\u001b[1;32m--> 493\u001b[0m     \u001b[39mreturn\u001b[39;00m ssl_context\u001b[39m.\u001b[39;49mwrap_socket(sock, server_hostname\u001b[39m=\u001b[39;49mserver_hostname)\n\u001b[0;32m    494\u001b[0m \u001b[39melse\u001b[39;00m:\n\u001b[0;32m    495\u001b[0m     \u001b[39mreturn\u001b[39;00m ssl_context\u001b[39m.\u001b[39mwrap_socket(sock)\n",
      "File \u001b[1;32mc:\\Users\\jwilson1\\Miniconda3\\lib\\ssl.py:500\u001b[0m, in \u001b[0;36mSSLContext.wrap_socket\u001b[1;34m(self, sock, server_side, do_handshake_on_connect, suppress_ragged_eofs, server_hostname, session)\u001b[0m\n\u001b[0;32m    494\u001b[0m \u001b[39mdef\u001b[39;00m \u001b[39mwrap_socket\u001b[39m(\u001b[39mself\u001b[39m, sock, server_side\u001b[39m=\u001b[39m\u001b[39mFalse\u001b[39;00m,\n\u001b[0;32m    495\u001b[0m                 do_handshake_on_connect\u001b[39m=\u001b[39m\u001b[39mTrue\u001b[39;00m,\n\u001b[0;32m    496\u001b[0m                 suppress_ragged_eofs\u001b[39m=\u001b[39m\u001b[39mTrue\u001b[39;00m,\n\u001b[0;32m    497\u001b[0m                 server_hostname\u001b[39m=\u001b[39m\u001b[39mNone\u001b[39;00m, session\u001b[39m=\u001b[39m\u001b[39mNone\u001b[39;00m):\n\u001b[0;32m    498\u001b[0m     \u001b[39m# SSLSocket class handles server_hostname encoding before it calls\u001b[39;00m\n\u001b[0;32m    499\u001b[0m     \u001b[39m# ctx._wrap_socket()\u001b[39;00m\n\u001b[1;32m--> 500\u001b[0m     \u001b[39mreturn\u001b[39;00m \u001b[39mself\u001b[39;49m\u001b[39m.\u001b[39;49msslsocket_class\u001b[39m.\u001b[39;49m_create(\n\u001b[0;32m    501\u001b[0m         sock\u001b[39m=\u001b[39;49msock,\n\u001b[0;32m    502\u001b[0m         server_side\u001b[39m=\u001b[39;49mserver_side,\n\u001b[0;32m    503\u001b[0m         do_handshake_on_connect\u001b[39m=\u001b[39;49mdo_handshake_on_connect,\n\u001b[0;32m    504\u001b[0m         suppress_ragged_eofs\u001b[39m=\u001b[39;49msuppress_ragged_eofs,\n\u001b[0;32m    505\u001b[0m         server_hostname\u001b[39m=\u001b[39;49mserver_hostname,\n\u001b[0;32m    506\u001b[0m         context\u001b[39m=\u001b[39;49m\u001b[39mself\u001b[39;49m,\n\u001b[0;32m    507\u001b[0m         session\u001b[39m=\u001b[39;49msession\n\u001b[0;32m    508\u001b[0m     )\n",
      "File \u001b[1;32mc:\\Users\\jwilson1\\Miniconda3\\lib\\ssl.py:1040\u001b[0m, in \u001b[0;36mSSLSocket._create\u001b[1;34m(cls, sock, server_side, do_handshake_on_connect, suppress_ragged_eofs, server_hostname, context, session)\u001b[0m\n\u001b[0;32m   1037\u001b[0m         \u001b[39mif\u001b[39;00m timeout \u001b[39m==\u001b[39m \u001b[39m0.0\u001b[39m:\n\u001b[0;32m   1038\u001b[0m             \u001b[39m# non-blocking\u001b[39;00m\n\u001b[0;32m   1039\u001b[0m             \u001b[39mraise\u001b[39;00m \u001b[39mValueError\u001b[39;00m(\u001b[39m\"\u001b[39m\u001b[39mdo_handshake_on_connect should not be specified for non-blocking sockets\u001b[39m\u001b[39m\"\u001b[39m)\n\u001b[1;32m-> 1040\u001b[0m         \u001b[39mself\u001b[39;49m\u001b[39m.\u001b[39;49mdo_handshake()\n\u001b[0;32m   1041\u001b[0m \u001b[39mexcept\u001b[39;00m (\u001b[39mOSError\u001b[39;00m, \u001b[39mValueError\u001b[39;00m):\n\u001b[0;32m   1042\u001b[0m     \u001b[39mself\u001b[39m\u001b[39m.\u001b[39mclose()\n",
      "File \u001b[1;32mc:\\Users\\jwilson1\\Miniconda3\\lib\\ssl.py:1309\u001b[0m, in \u001b[0;36mSSLSocket.do_handshake\u001b[1;34m(self, block)\u001b[0m\n\u001b[0;32m   1307\u001b[0m     \u001b[39mif\u001b[39;00m timeout \u001b[39m==\u001b[39m \u001b[39m0.0\u001b[39m \u001b[39mand\u001b[39;00m block:\n\u001b[0;32m   1308\u001b[0m         \u001b[39mself\u001b[39m\u001b[39m.\u001b[39msettimeout(\u001b[39mNone\u001b[39;00m)\n\u001b[1;32m-> 1309\u001b[0m     \u001b[39mself\u001b[39;49m\u001b[39m.\u001b[39;49m_sslobj\u001b[39m.\u001b[39;49mdo_handshake()\n\u001b[0;32m   1310\u001b[0m \u001b[39mfinally\u001b[39;00m:\n\u001b[0;32m   1311\u001b[0m     \u001b[39mself\u001b[39m\u001b[39m.\u001b[39msettimeout(timeout)\n",
      "\u001b[1;31mKeyboardInterrupt\u001b[0m: "
     ]
    }
   ],
   "source": [
    "crawler = Crawler(\n",
    "    urls_to_visit_ls=[TEST_ARTICLE_URL, TEST_TOPIC_URL], \n",
    "    base_url=BASE_URL, \n",
    "    output_folder= OUTPUT_FOLDER, \n",
    "    is_fresh_start = False\n",
    ")\n",
    "\n",
    "from pprint import pprint\n",
    "pprint(crawler.__dict__)\n",
    "\n",
    "crawler.run(debug_prn=False)"
   ]
  }
 ],
 "metadata": {
  "kernelspec": {
   "display_name": "base",
   "language": "python",
   "name": "python3"
  },
  "language_info": {
   "codemirror_mode": {
    "name": "ipython",
    "version": 3
   },
   "file_extension": ".py",
   "mimetype": "text/x-python",
   "name": "python",
   "nbconvert_exporter": "python",
   "pygments_lexer": "ipython3",
   "version": "3.9.12"
  },
  "vscode": {
   "interpreter": {
    "hash": "b43e631a983881eee635638ba8d16a40e1a13e8bbb48ce0aff152a316858538a"
   }
  }
 },
 "nbformat": 4,
 "nbformat_minor": 2
}
