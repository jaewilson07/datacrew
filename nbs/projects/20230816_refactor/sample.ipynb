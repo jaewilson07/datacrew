{
 "cells": [
  {
   "cell_type": "code",
   "execution_count": null,
   "metadata": {},
   "outputs": [],
   "source": [
    "def get_token():\n",
    "    "
   ]
  },
  {
   "cell_type": "code",
   "execution_count": null,
   "metadata": {},
   "outputs": [],
   "source": [
    "def update_column_description(session_token, dataset_id, column_name, attribute, value):\n",
    "    url = f'https://{domo_instance}.domo.com/api/query/v1/datasources/{dataset_id}/wrangle'\n",
    "    headers = {\n",
    "        'x-domo-authentication': session_token,\n",
    "        'Content-Type': 'application/json',\n",
    "        'Accept': 'application/json'\n",
    "    }\n",
    "    \n",
    "    response = requests.request(\"GET\", url, headers=headers)\n",
    "    json_resp = response.json()\n",
    "    i = 0\n",
    "\n",
    "    for key in json_resp['columns']:\n",
    "    #loop through json, find the name attribute so we can update that specific matching column\n",
    "    #Once found, update the json with a new value and POST it.\n",
    "        for val in key:\n",
    "            if (val == 'name') and (key[val] == column_name):\n",
    "                json_resp['columns'][i][attribute] = value\n",
    "            i += 1\n",
    "\n",
    "    return requests.request(\"POST\", url, headers=headers,json=json_resp).json()"
   ]
  }
 ],
 "metadata": {
  "language_info": {
   "name": "python"
  },
  "orig_nbformat": 4
 },
 "nbformat": 4,
 "nbformat_minor": 2
}
