{
 "cells": [
  {
   "cell_type": "code",
   "execution_count": 16,
   "metadata": {},
   "outputs": [],
   "source": [
    "kb_path = '/workspaces/datacrew/nbs/blog/posts'"
   ]
  },
  {
   "cell_type": "code",
   "execution_count": 24,
   "metadata": {},
   "outputs": [],
   "source": [
    "# rename folders to valid names\n",
    "import os\n",
    "import re\n",
    "\n",
    "valid_chars = r'[^a-zA-Z0-9_]'\n",
    "\n",
    "for path, subdirs, files in os.walk(kb_path):\n",
    "    for name in subdirs:\n",
    "        dir_path = os.path.join(path, name)\n",
    "        new_path = os.path.join(path, re.sub(valid_chars, '', name))\n",
    "\n",
    "        # print(new_path)\n",
    "        os.rename(dir_path,  new_path)\n",
    "\n",
    "\n"
   ]
  },
  {
   "cell_type": "code",
   "execution_count": null,
   "metadata": {},
   "outputs": [],
   "source": [
    "from tempfile import mkstemp\n",
    "from shutil import move, copymode\n",
    "from os import fdopen, remove\n",
    "\n",
    "\n",
    "def replace(file_path):\n",
    "    # Create temp file\n",
    "    fh, abs_path = mkstemp()\n",
    "    with fdopen(fh, 'w') as new_file:\n",
    "        with open(file_path) as old_file:\n",
    "            count_frontmatter = 0\n",
    "            for line in old_file:\n",
    "                if count_frontmatter <2:\n",
    "                    if '---' in line:\n",
    "                        count_frontmatter += 1\n",
    "                    new_file.write(textwrap.dedent(line))\n",
    "                else:\n",
    "                    new_file.write(line)\n",
    "    # Copy the file permissions from the old file to the new file\n",
    "    copymode(file_path, abs_path)\n",
    "    # Remove original file\n",
    "    remove(file_path)\n",
    "    # Move new file\n",
    "    move(abs_path, file_path)\n"
   ]
  },
  {
   "cell_type": "code",
   "execution_count": 15,
   "metadata": {},
   "outputs": [],
   "source": [
    "# replace('test_dedent.md')\n",
    "\n",
    "import os\n",
    "\n",
    "for path, subdirs, files in os.walk('/workspaces/datacrew/nbs/blog/posts'):\n",
    "    for name in files:\n",
    "        \n",
    "        file_path = os.path.join(path, name)\n",
    "\n",
    "        if \"index.qmd\" == name:\n",
    "            new_path = os.path.join(path, f\"_{name}\")\n",
    "            os.rename(file_path, new_path)\n",
    "\n",
    "\n"
   ]
  },
  {
   "cell_type": "code",
   "execution_count": 14,
   "metadata": {},
   "outputs": [
    {
     "name": "stdout",
     "output_type": "stream",
     "text": [
      "1 /workspaces/datacrew/nbs/blog/posts/amazon_selling_partner/index.qmd\n",
      "2 /workspaces/datacrew/nbs/blog/posts/collapsing_columns_into_a_single_column/index.qmd\n",
      "3 /workspaces/datacrew/nbs/blog/posts/scheduling_dataflows/index.qmd\n",
      "4 /workspaces/datacrew/nbs/blog/posts/editing_a_sql_dataflow/index.qmd\n",
      "5 /workspaces/datacrew/nbs/blog/posts/inmoment_connector/index.qmd\n",
      "6 /workspaces/datacrew/nbs/blog/posts/domo_mobile_security/index.qmd\n",
      "7 /workspaces/datacrew/nbs/blog/posts/ca_agile_central_connector/index.qmd\n",
      "8 /workspaces/datacrew/nbs/blog/posts/scheduling_reports/index.qmd\n",
      "9 /workspaces/datacrew/nbs/blog/posts/adding_dashboards_as_favorites/index.qmd\n",
      "10 /workspaces/datacrew/nbs/blog/posts/public_api_sdks_faq/index.qmd\n"
     ]
    }
   ],
   "source": [
    "# replace('test_dedent.md')\n",
    "\n",
    "import os\n",
    "\n",
    "counter = 0\n",
    "\n",
    "for path, subdirs, files in os.walk('/workspaces/datacrew/nbs/blog/posts'):\n",
    "\n",
    "    for name in files:\n",
    "\n",
    "        file_path = os.path.join(path, name)\n",
    "\n",
    "        if \"_index.qmd\" == name:\n",
    "            # print(name)\n",
    "            counter = counter+ 1\n",
    "\n",
    "            \n",
    "            if counter > 10:\n",
    "                continue\n",
    "\n",
    "            new_path = os.path.join(path, name[1:])\n",
    "            print(counter , new_path)\n",
    "            os.rename(file_path, new_path)\n"
   ]
  },
  {
   "cell_type": "code",
   "execution_count": 36,
   "metadata": {},
   "outputs": [
    {
     "name": "stdout",
     "output_type": "stream",
     "text": [
      "/workspaces/datacrew/nbs/blog/posts/amazon_selling_partner/_index.qmd /workspaces/datacrew/nbs/blog/posts/amazon_selling_partner/index.qmd\n",
      "/workspaces/datacrew/nbs/blog/posts/amazon_selling_partner/index.qmd/_index.qmd /workspaces/datacrew/nbs/blog/posts/amazon_selling_partner/index.qmd/index.qmd\n",
      "/workspaces/datacrew/nbs/blog/posts/collapsing_columns_into_a_single_column/_index.qmd /workspaces/datacrew/nbs/blog/posts/collapsing_columns_into_a_single_column/index.qmd\n",
      "/workspaces/datacrew/nbs/blog/posts/scheduling_dataflows/_index.qmd /workspaces/datacrew/nbs/blog/posts/scheduling_dataflows/index.qmd\n",
      "/workspaces/datacrew/nbs/blog/posts/editing_a_sql_dataflow/_index.qmd /workspaces/datacrew/nbs/blog/posts/editing_a_sql_dataflow/index.qmd\n",
      "/workspaces/datacrew/nbs/blog/posts/inmoment_connector/_index.qmd /workspaces/datacrew/nbs/blog/posts/inmoment_connector/index.qmd\n",
      "/workspaces/datacrew/nbs/blog/posts/domo_mobile_security/_index.qmd /workspaces/datacrew/nbs/blog/posts/domo_mobile_security/index.qmd\n",
      "/workspaces/datacrew/nbs/blog/posts/ca_agile_central_connector/_index.qmd /workspaces/datacrew/nbs/blog/posts/ca_agile_central_connector/index.qmd\n",
      "/workspaces/datacrew/nbs/blog/posts/scheduling_reports/_index.qmd /workspaces/datacrew/nbs/blog/posts/scheduling_reports/index.qmd\n",
      "/workspaces/datacrew/nbs/blog/posts/adding_dashboards_as_favorites/_index.qmd /workspaces/datacrew/nbs/blog/posts/adding_dashboards_as_favorites/index.qmd\n"
     ]
    }
   ],
   "source": [
    "import os\n",
    "\n",
    "counter = 0\n",
    "for path, subdirs, files in os.walk(kb_path):\n",
    "\n",
    "    for name in files:\n",
    "        file_path = os.path.join(path, name)\n",
    "\n",
    "        if not name.startswith('_index.qmd'): \n",
    "            continue\n",
    "\n",
    "        counter +=1\n",
    "        \n",
    "        if counter > 10:\n",
    "            continue\n",
    "        \n",
    "        new_path = os.path.join(path, name[1:])\n",
    "\n",
    "        print(file_path, new_path)\n",
    "\n",
    "        # os.rename(file_path, new_path)\n"
   ]
  },
  {
   "cell_type": "code",
   "execution_count": null,
   "metadata": {},
   "outputs": [],
   "source": [
    "import os\n",
    "for path, subdirs, files in os.walk('/workspaces/datacrew/nbs/projects/kb_md'):\n",
    "    for name in files:\n",
    "        file_path = os.path.join(path, name)\n",
    "        os.rename(file_path, os.path.join(path, name.replace('..qmd', '.qmd')))\n"
   ]
  },
  {
   "cell_type": "code",
   "execution_count": null,
   "metadata": {},
   "outputs": [],
   "source": []
  }
 ],
 "metadata": {
  "kernelspec": {
   "display_name": "Python 3",
   "language": "python",
   "name": "python3"
  },
  "language_info": {
   "codemirror_mode": {
    "name": "ipython",
    "version": 3
   },
   "file_extension": ".py",
   "mimetype": "text/x-python",
   "name": "python",
   "nbconvert_exporter": "python",
   "pygments_lexer": "ipython3",
   "version": "3.10.4"
  },
  "vscode": {
   "interpreter": {
    "hash": "3ad933181bd8a04b432d3370b9dc3b0662ad032c4dfaa4e4f1596c548f763858"
   }
  }
 },
 "nbformat": 4,
 "nbformat_minor": 2
}
