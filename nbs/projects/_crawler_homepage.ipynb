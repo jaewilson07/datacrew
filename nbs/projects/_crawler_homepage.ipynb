{
 "cells": [
  {
   "cell_type": "code",
   "execution_count": 2,
   "metadata": {},
   "outputs": [],
   "source": [
    "import sys\n",
    "\n",
    "sys.path.insert(0, \"../../\")\n"
   ]
  },
  {
   "cell_type": "code",
   "execution_count": 3,
   "metadata": {},
   "outputs": [
    {
     "ename": "WebDriverException",
     "evalue": "Message: unknown error: cannot find Chrome binary\nStacktrace:\nBacktrace:\n\tGetHandleVerifier [0x00B8DCE3+50899]\n\t(No symbol) [0x00B1E111]\n\t(No symbol) [0x00A25588]\n\t(No symbol) [0x00A40AAB]\n\t(No symbol) [0x00A3F479]\n\t(No symbol) [0x00A71FFE]\n\t(No symbol) [0x00A71CEC]\n\t(No symbol) [0x00A6B6F6]\n\t(No symbol) [0x00A47708]\n\t(No symbol) [0x00A4886D]\n\tGetHandleVerifier [0x00DF3EAE+2566302]\n\tGetHandleVerifier [0x00E292B1+2784417]\n\tGetHandleVerifier [0x00E2327C+2759788]\n\tGetHandleVerifier [0x00C25740+672048]\n\t(No symbol) [0x00B28872]\n\t(No symbol) [0x00B241C8]\n\t(No symbol) [0x00B242AB]\n\t(No symbol) [0x00B171B7]\n\tBaseThreadInitThunk [0x767B00F9+25]\n\tRtlGetAppContainerNamedObjectPath [0x77927BBE+286]\n\tRtlGetAppContainerNamedObjectPath [0x77927B8E+238]\n",
     "output_type": "error",
     "traceback": [
      "\u001b[1;31m---------------------------------------------------------------------------\u001b[0m",
      "\u001b[1;31mWebDriverException\u001b[0m                        Traceback (most recent call last)",
      "Cell \u001b[1;32mIn[3], line 11\u001b[0m\n\u001b[0;32m      7\u001b[0m IMG_BASE_URL \u001b[39m=\u001b[39m \u001b[39m\"\u001b[39m\u001b[39mhttps://domo-support.domo.com/servlet/rtaImage\u001b[39m\u001b[39m\"\u001b[39m\n\u001b[0;32m      9\u001b[0m OUTPUT_FOLDER \u001b[39m=\u001b[39m \u001b[39m\"\u001b[39m\u001b[39m../../raw_kb\u001b[39m\u001b[39m\"\u001b[39m\n\u001b[1;32m---> 11\u001b[0m driver \u001b[39m=\u001b[39m dcc\u001b[39m.\u001b[39;49mdriversetup(is_headless\u001b[39m=\u001b[39;49m\u001b[39mFalse\u001b[39;49;00m)\n",
      "File \u001b[1;32mc:\\Users\\jwilson1\\GitHub\\datacrew\\nbs\\projects\\../..\\datacrew\\crawler\\crawler.py:27\u001b[0m, in \u001b[0;36mdriversetup\u001b[1;34m(is_headless)\u001b[0m\n\u001b[0;32m     23\u001b[0m     options\u001b[39m.\u001b[39madd_argument(\u001b[39m\"\u001b[39m\u001b[39m--headless\u001b[39m\u001b[39m\"\u001b[39m)\n\u001b[0;32m     25\u001b[0m options\u001b[39m.\u001b[39madd_argument(\u001b[39m\"\u001b[39m\u001b[39m--no-sandbox\u001b[39m\u001b[39m\"\u001b[39m)\n\u001b[1;32m---> 27\u001b[0m driver \u001b[39m=\u001b[39m webdriver\u001b[39m.\u001b[39;49mChrome(options\u001b[39m=\u001b[39;49moptions)\n\u001b[0;32m     29\u001b[0m \u001b[39mreturn\u001b[39;00m driver\n",
      "File \u001b[1;32mc:\\Users\\jwilson1\\Miniconda3\\lib\\site-packages\\selenium\\webdriver\\chrome\\webdriver.py:80\u001b[0m, in \u001b[0;36mWebDriver.__init__\u001b[1;34m(self, executable_path, port, options, service_args, desired_capabilities, service_log_path, chrome_options, service, keep_alive)\u001b[0m\n\u001b[0;32m     77\u001b[0m \u001b[39mif\u001b[39;00m \u001b[39mnot\u001b[39;00m service:\n\u001b[0;32m     78\u001b[0m     service \u001b[39m=\u001b[39m Service(executable_path, port, service_args, service_log_path)\n\u001b[1;32m---> 80\u001b[0m \u001b[39msuper\u001b[39;49m()\u001b[39m.\u001b[39;49m\u001b[39m__init__\u001b[39;49m(\n\u001b[0;32m     81\u001b[0m     DesiredCapabilities\u001b[39m.\u001b[39;49mCHROME[\u001b[39m\"\u001b[39;49m\u001b[39mbrowserName\u001b[39;49m\u001b[39m\"\u001b[39;49m],\n\u001b[0;32m     82\u001b[0m     \u001b[39m\"\u001b[39;49m\u001b[39mgoog\u001b[39;49m\u001b[39m\"\u001b[39;49m,\n\u001b[0;32m     83\u001b[0m     port,\n\u001b[0;32m     84\u001b[0m     options,\n\u001b[0;32m     85\u001b[0m     service_args,\n\u001b[0;32m     86\u001b[0m     desired_capabilities,\n\u001b[0;32m     87\u001b[0m     service_log_path,\n\u001b[0;32m     88\u001b[0m     service,\n\u001b[0;32m     89\u001b[0m     keep_alive,\n\u001b[0;32m     90\u001b[0m )\n",
      "File \u001b[1;32mc:\\Users\\jwilson1\\Miniconda3\\lib\\site-packages\\selenium\\webdriver\\chromium\\webdriver.py:104\u001b[0m, in \u001b[0;36mChromiumDriver.__init__\u001b[1;34m(self, browser_name, vendor_prefix, port, options, service_args, desired_capabilities, service_log_path, service, keep_alive)\u001b[0m\n\u001b[0;32m    101\u001b[0m \u001b[39mself\u001b[39m\u001b[39m.\u001b[39mservice\u001b[39m.\u001b[39mstart()\n\u001b[0;32m    103\u001b[0m \u001b[39mtry\u001b[39;00m:\n\u001b[1;32m--> 104\u001b[0m     \u001b[39msuper\u001b[39;49m()\u001b[39m.\u001b[39;49m\u001b[39m__init__\u001b[39;49m(\n\u001b[0;32m    105\u001b[0m         command_executor\u001b[39m=\u001b[39;49mChromiumRemoteConnection(\n\u001b[0;32m    106\u001b[0m             remote_server_addr\u001b[39m=\u001b[39;49m\u001b[39mself\u001b[39;49m\u001b[39m.\u001b[39;49mservice\u001b[39m.\u001b[39;49mservice_url,\n\u001b[0;32m    107\u001b[0m             browser_name\u001b[39m=\u001b[39;49mbrowser_name,\n\u001b[0;32m    108\u001b[0m             vendor_prefix\u001b[39m=\u001b[39;49mvendor_prefix,\n\u001b[0;32m    109\u001b[0m             keep_alive\u001b[39m=\u001b[39;49mkeep_alive,\n\u001b[0;32m    110\u001b[0m             ignore_proxy\u001b[39m=\u001b[39;49m_ignore_proxy,\n\u001b[0;32m    111\u001b[0m         ),\n\u001b[0;32m    112\u001b[0m         options\u001b[39m=\u001b[39;49moptions,\n\u001b[0;32m    113\u001b[0m     )\n\u001b[0;32m    114\u001b[0m \u001b[39mexcept\u001b[39;00m \u001b[39mException\u001b[39;00m:\n\u001b[0;32m    115\u001b[0m     \u001b[39mself\u001b[39m\u001b[39m.\u001b[39mquit()\n",
      "File \u001b[1;32mc:\\Users\\jwilson1\\Miniconda3\\lib\\site-packages\\selenium\\webdriver\\remote\\webdriver.py:286\u001b[0m, in \u001b[0;36mWebDriver.__init__\u001b[1;34m(self, command_executor, desired_capabilities, browser_profile, proxy, keep_alive, file_detector, options)\u001b[0m\n\u001b[0;32m    284\u001b[0m \u001b[39mself\u001b[39m\u001b[39m.\u001b[39m_authenticator_id \u001b[39m=\u001b[39m \u001b[39mNone\u001b[39;00m\n\u001b[0;32m    285\u001b[0m \u001b[39mself\u001b[39m\u001b[39m.\u001b[39mstart_client()\n\u001b[1;32m--> 286\u001b[0m \u001b[39mself\u001b[39;49m\u001b[39m.\u001b[39;49mstart_session(capabilities, browser_profile)\n",
      "File \u001b[1;32mc:\\Users\\jwilson1\\Miniconda3\\lib\\site-packages\\selenium\\webdriver\\remote\\webdriver.py:378\u001b[0m, in \u001b[0;36mWebDriver.start_session\u001b[1;34m(self, capabilities, browser_profile)\u001b[0m\n\u001b[0;32m    376\u001b[0m w3c_caps \u001b[39m=\u001b[39m _make_w3c_caps(capabilities)\n\u001b[0;32m    377\u001b[0m parameters \u001b[39m=\u001b[39m {\u001b[39m\"\u001b[39m\u001b[39mcapabilities\u001b[39m\u001b[39m\"\u001b[39m: w3c_caps}\n\u001b[1;32m--> 378\u001b[0m response \u001b[39m=\u001b[39m \u001b[39mself\u001b[39;49m\u001b[39m.\u001b[39;49mexecute(Command\u001b[39m.\u001b[39;49mNEW_SESSION, parameters)\n\u001b[0;32m    379\u001b[0m \u001b[39mif\u001b[39;00m \u001b[39m\"\u001b[39m\u001b[39msessionId\u001b[39m\u001b[39m\"\u001b[39m \u001b[39mnot\u001b[39;00m \u001b[39min\u001b[39;00m response:\n\u001b[0;32m    380\u001b[0m     response \u001b[39m=\u001b[39m response[\u001b[39m\"\u001b[39m\u001b[39mvalue\u001b[39m\u001b[39m\"\u001b[39m]\n",
      "File \u001b[1;32mc:\\Users\\jwilson1\\Miniconda3\\lib\\site-packages\\selenium\\webdriver\\remote\\webdriver.py:440\u001b[0m, in \u001b[0;36mWebDriver.execute\u001b[1;34m(self, driver_command, params)\u001b[0m\n\u001b[0;32m    438\u001b[0m response \u001b[39m=\u001b[39m \u001b[39mself\u001b[39m\u001b[39m.\u001b[39mcommand_executor\u001b[39m.\u001b[39mexecute(driver_command, params)\n\u001b[0;32m    439\u001b[0m \u001b[39mif\u001b[39;00m response:\n\u001b[1;32m--> 440\u001b[0m     \u001b[39mself\u001b[39;49m\u001b[39m.\u001b[39;49merror_handler\u001b[39m.\u001b[39;49mcheck_response(response)\n\u001b[0;32m    441\u001b[0m     response[\u001b[39m\"\u001b[39m\u001b[39mvalue\u001b[39m\u001b[39m\"\u001b[39m] \u001b[39m=\u001b[39m \u001b[39mself\u001b[39m\u001b[39m.\u001b[39m_unwrap_value(response\u001b[39m.\u001b[39mget(\u001b[39m\"\u001b[39m\u001b[39mvalue\u001b[39m\u001b[39m\"\u001b[39m, \u001b[39mNone\u001b[39;00m))\n\u001b[0;32m    442\u001b[0m     \u001b[39mreturn\u001b[39;00m response\n",
      "File \u001b[1;32mc:\\Users\\jwilson1\\Miniconda3\\lib\\site-packages\\selenium\\webdriver\\remote\\errorhandler.py:245\u001b[0m, in \u001b[0;36mErrorHandler.check_response\u001b[1;34m(self, response)\u001b[0m\n\u001b[0;32m    243\u001b[0m         alert_text \u001b[39m=\u001b[39m value[\u001b[39m\"\u001b[39m\u001b[39malert\u001b[39m\u001b[39m\"\u001b[39m]\u001b[39m.\u001b[39mget(\u001b[39m\"\u001b[39m\u001b[39mtext\u001b[39m\u001b[39m\"\u001b[39m)\n\u001b[0;32m    244\u001b[0m     \u001b[39mraise\u001b[39;00m exception_class(message, screen, stacktrace, alert_text)  \u001b[39m# type: ignore[call-arg]  # mypy is not smart enough here\u001b[39;00m\n\u001b[1;32m--> 245\u001b[0m \u001b[39mraise\u001b[39;00m exception_class(message, screen, stacktrace)\n",
      "\u001b[1;31mWebDriverException\u001b[0m: Message: unknown error: cannot find Chrome binary\nStacktrace:\nBacktrace:\n\tGetHandleVerifier [0x00B8DCE3+50899]\n\t(No symbol) [0x00B1E111]\n\t(No symbol) [0x00A25588]\n\t(No symbol) [0x00A40AAB]\n\t(No symbol) [0x00A3F479]\n\t(No symbol) [0x00A71FFE]\n\t(No symbol) [0x00A71CEC]\n\t(No symbol) [0x00A6B6F6]\n\t(No symbol) [0x00A47708]\n\t(No symbol) [0x00A4886D]\n\tGetHandleVerifier [0x00DF3EAE+2566302]\n\tGetHandleVerifier [0x00E292B1+2784417]\n\tGetHandleVerifier [0x00E2327C+2759788]\n\tGetHandleVerifier [0x00C25740+672048]\n\t(No symbol) [0x00B28872]\n\t(No symbol) [0x00B241C8]\n\t(No symbol) [0x00B242AB]\n\t(No symbol) [0x00B171B7]\n\tBaseThreadInitThunk [0x767B00F9+25]\n\tRtlGetAppContainerNamedObjectPath [0x77927BBE+286]\n\tRtlGetAppContainerNamedObjectPath [0x77927B8E+238]\n"
     ]
    }
   ],
   "source": [
    "from selenium.webdriver.common.by import By\n",
    "import datacrew.crawler.crawler as dcc\n",
    "import datacrew.crawler.article as dca\n",
    "\n",
    "BASE_URL = \"https://domo-support.domo.com\"\n",
    "\n",
    "IMG_BASE_URL = \"https://domo-support.domo.com/servlet/rtaImage\"\n",
    "\n",
    "OUTPUT_FOLDER = \"../../raw_kb\"\n",
    "\n",
    "driver = dcc.driversetup(is_headless=False)\n"
   ]
  },
  {
   "cell_type": "code",
   "execution_count": null,
   "metadata": {},
   "outputs": [],
   "source": [
    "article = dca.Article_KB_Home(\n",
    "    url=url, base_url=self.base_url, driver=driver)"
   ]
  },
  {
   "cell_type": "code",
   "execution_count": null,
   "metadata": {},
   "outputs": [],
   "source": [
    "from mdutils.mdutils import MdUtils\n",
    "import pandas as pd\n",
    "\n",
    "\n",
    "def process_article(article: dca.Article,\n",
    "                    output_folder: str,\n",
    "                    debug_prn: bool = False):\n",
    "\n",
    "    output_path = create_output_folder(os.path.join(output_folder, 'article'), article.title)\n",
    "    \n",
    "    output_html_path = os.path.join(output_path, 'index.html')\n",
    "\n",
    "    if debug_prn:\n",
    "        print(output_html_path)\n",
    "\n",
    "    output_html(output_html_path, article.soup)\n",
    "\n",
    "    update_listing(url=article.url,\n",
    "                url_id = article.url_id,\n",
    "                name = article.title,\n",
    "                file_name = 'article_listing.csv',\n",
    "                output_file_path = output_html_path,\n",
    "                output_folder=OUTPUT_FOLDER)\n",
    "\n",
    "    download_article_images(\n",
    "        article=article,\n",
    "        output_path= output_path, debug_prn=  debug_prn)\n",
    "\n",
    "    \n",
    "\n",
    "process_article(test_article, output_folder=OUTPUT_FOLDER ,debug_prn = True)"
   ]
  }
 ],
 "metadata": {
  "kernelspec": {
   "display_name": "base",
   "language": "python",
   "name": "python3"
  },
  "language_info": {
   "codemirror_mode": {
    "name": "ipython",
    "version": 3
   },
   "file_extension": ".py",
   "mimetype": "text/x-python",
   "name": "python",
   "nbconvert_exporter": "python",
   "pygments_lexer": "ipython3",
   "version": "3.9.12"
  },
  "vscode": {
   "interpreter": {
    "hash": "b43e631a983881eee635638ba8d16a40e1a13e8bbb48ce0aff152a316858538a"
   }
  }
 },
 "nbformat": 4,
 "nbformat_minor": 2
}
