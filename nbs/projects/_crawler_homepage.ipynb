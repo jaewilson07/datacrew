{
 "cells": [
  {
   "cell_type": "code",
   "execution_count": 1,
   "metadata": {},
   "outputs": [],
   "source": [
    "import sys\n",
    "\n",
    "sys.path.insert(0, \"../../\")"
   ]
  },
  {
   "cell_type": "code",
   "execution_count": 6,
   "metadata": {},
   "outputs": [],
   "source": [
    "from selenium.webdriver.common.by import By\n",
    "import datacrew.crawler.crawler as dcc\n",
    "import datacrew.crawler.article as dca\n",
    "\n",
    "BASE_URL = \"https://domo-support.domo.com\"\n",
    "\n",
    "IMG_BASE_URL = \"https://domo-support.domo.com/servlet/rtaImage\"\n",
    "\n",
    "OUTPUT_FOLDER = \"../../raw_kb\"\n",
    "\n",
    "driver = dcc.driversetup(is_headless=False)\n",
    "\n",
    "HOME_URL = \"https://domo-support.domo.com/s/knowledge-base\""
   ]
  },
  {
   "cell_type": "code",
   "execution_count": 7,
   "metadata": {},
   "outputs": [
    {
     "name": "stdout",
     "output_type": "stream",
     "text": [
      "💤 retrieving https://domo-support.domo.com/s/knowledge-base 💤\n",
      "❤️ child url - https://domo-support.domo.com/s/topic/0TO5w000000ZamsGAC, 0TO5w000000ZamsGAC\n",
      "❤️ child url - https://domo-support.domo.com/s/topic/0TO5w000000ZammGAC, 0TO5w000000ZammGAC\n",
      "❤️ child url - https://domo-support.domo.com/s/topic/0TO5w000000ZamzGAC, 0TO5w000000ZamzGAC\n",
      "❤️ child url - https://domo-support.domo.com/s/topic/0TO5w000000ZamoGAC, 0TO5w000000ZamoGAC\n",
      "❤️ child url - https://domo-support.domo.com/s/topic/0TO5w000000ZamnGAC, 0TO5w000000ZamnGAC\n",
      "❤️ child url - https://domo-support.domo.com/s/topic/0TO5w000000ZamlGAC, 0TO5w000000ZamlGAC\n",
      "❤️ child url - https://domo-support.domo.com/s/topic/0TO5w000000ZamqGAC, 0TO5w000000ZamqGAC\n",
      "❤️ child url - https://domo-support.domo.com/s/topic/0TO5w000000Zan0GAC, 0TO5w000000Zan0GAC\n",
      "❤️ child url - https://domo-support.domo.com/s/topic/0TO5w000000Zan2GAC, 0TO5w000000Zan2GAC\n",
      "❤️ child url - https://domo-support.domo.com/s/topic/0TO5w000000ZampGAC, 0TO5w000000ZampGAC\n",
      "❤️ child url - https://domo-support.domo.com/s/topic/0TO5w000000ZamwGAC, 0TO5w000000ZamwGAC\n",
      "❤️ child url - https://domo-support.domo.com/s/topic/0TO5w000000Zan1GAC, 0TO5w000000Zan1GAC\n",
      "❤️ child url - https://domo-support.domo.com/s/topic/0TO5w000000ZamyGAC, 0TO5w000000ZamyGAC\n"
     ]
    }
   ],
   "source": [
    "article = dca.Article_KB_Home(\n",
    "    url=HOME_URL,\n",
    "    base_url=BASE_URL,\n",
    "    driver=driver)\n"
   ]
  },
  {
   "cell_type": "code",
   "execution_count": 12,
   "metadata": {},
   "outputs": [
    {
     "data": {
      "text/plain": [
       "Article_KB_Home(url='https://domo-support.domo.com/s/knowledge-base', base_url='https://domo-support.domo.com', entity_base_url='https://domo-support.domo.com/s/knowledge-base', url_entity_prefix='/s/knowledge-base', url_id='', is_success=True, url_ls=['https://domo-support.domo.com/s/knowledge-base', 'https://domo-support.domo.com/s/topic/0TO5w000000ZamwGAC', 'https://domo-support.domo.com/s/topic/0TO5w000000ZamsGAC', 'https://domo-support.domo.com/s/topic/0TO5w000000ZammGAC', 'https://domo-support.domo.com/s/topic/0TO5w000000ZamzGAC', 'https://domo-support.domo.com/s/topic/0TO5w000000ZamoGAC', 'https://domo-support.domo.com/s/topic/0TO5w000000ZamnGAC', 'https://domo-support.domo.com/s/topic/0TO5w000000ZamlGAC', 'https://domo-support.domo.com/s/topic/0TO5w000000ZamqGAC', 'https://domo-support.domo.com/s/topic/0TO5w000000Zan0GAC', 'https://domo-support.domo.com/s/topic/0TO5w000000Zan2GAC', 'https://domo-support.domo.com/s/topic/0TO5w000000ZampGAC', 'https://domo-support.domo.com/s/topic/0TO5w000000Zan1GAC', 'https://domo-support.domo.com/s/topic/0TO5w000000ZamyGAC'], image_ls=[], child_category_ls=[], child_article_ls=[], category='Browse resources by topic:', category_description=None)"
      ]
     },
     "execution_count": 12,
     "metadata": {},
     "output_type": "execute_result"
    }
   ],
   "source": [
    "article"
   ]
  },
  {
   "cell_type": "code",
   "execution_count": 14,
   "metadata": {},
   "outputs": [],
   "source": [
    "import re\n",
    "\n",
    "def convert_to_snake(text_str):\n",
    "    \"\"\"converts 'snake_case_str' to 'snakeCaseStr'\"\"\"\n",
    "\n",
    "    return text_str.replace(\" \", \"_\").lower()\n",
    "\n",
    "\n",
    "def clean_url_name(path_name):\n",
    "    valid_chars = r\"[^a-zA-Z0-9_]\"\n",
    "\n",
    "    return re.sub(valid_chars, \"\", path_name)\n",
    "\n",
    "\n",
    "def get_id_from_url(url: str, url_match: str):\n",
    "    \"\"\"use url_match\" to identify the id of an object\"\"\"\n",
    "    return url.split(url_match)[1].split(\"/\")[0]"
   ]
  },
  {
   "cell_type": "code",
   "execution_count": 16,
   "metadata": {},
   "outputs": [],
   "source": [
    "import requests\n",
    "import pandas as pd\n",
    "\n",
    "\n",
    "def download_img(image_url, image_path, debug_prn: bool = False):\n",
    "\n",
    "    img_data = requests.get(image_url).content\n",
    "\n",
    "    with open(image_path, \"wb\") as handler:\n",
    "        if debug_prn:\n",
    "            print(f\"downloading {image_url} to {image_path}\")\n",
    "        handler.write(img_data)\n",
    "\n",
    "\n",
    "def download_article_images(\n",
    "    article: dca.Article,\n",
    "    output_path: str,\n",
    "    debug_prn: bool = False,\n",
    "):\n",
    "    image_ls = article.image_ls\n",
    "\n",
    "    if not image_ls:\n",
    "        return \n",
    "\n",
    "    # download images\n",
    "    for img in image_ls:\n",
    "        img_name = img.get(\"name\")\n",
    "\n",
    "        if not img_name:\n",
    "            continue\n",
    "\n",
    "        img_url = img.get(\"url\")\n",
    "        img_path = f\"{output_path}/{img_name}\"\n",
    "        img_rel_path = img.get(\"relative_url\")\n",
    "\n",
    "        if debug_prn:\n",
    "            print(\n",
    "                f\"downloading {img_url} to {img_path}.  replacing article with {img_rel_path} with {img_name}\"\n",
    "            )\n",
    "\n",
    "        download_img(image_url=img_url, image_path=img_path)\n",
    "\n",
    "        article.md_str = article.md_str.replace(img_rel_path, img_name)\n",
    "\n",
    "    return image_ls"
   ]
  },
  {
   "cell_type": "code",
   "execution_count": 17,
   "metadata": {},
   "outputs": [],
   "source": [
    "from mdutils.mdutils import MdUtils\n",
    "import pandas as pd\n",
    "\n",
    "import os\n",
    "\n",
    "\n",
    "def create_output_folder(output_folder, title: str):\n",
    "    output_path = os.path.join(\n",
    "        output_folder, clean_url_name(convert_to_snake(title))\n",
    "    )\n",
    "\n",
    "    if not os.path.exists(output_path):\n",
    "        os.makedirs(output_path)\n",
    "    \n",
    "    return output_path\n",
    "\n",
    "\n",
    "def output_html(output_html_path, soup):\n",
    "    with open(output_html_path, 'w') as f:\n",
    "        f.write(str(soup))\n",
    "\n",
    "\n",
    "def process_category(article: dca.Article,\n",
    "                     output_folder: str,\n",
    "                     debug_prn: bool = False):\n",
    "\n",
    "    output_path = create_output_folder(os.path.join( output_folder, 'home'), article.category) \n",
    "    \n",
    "    output_html_path = os.path.join(output_path, 'index.html')\n",
    "    \n",
    "    output_html(output_html_path, article.soup)\n",
    "\n",
    "    download_article_images(\n",
    "        article=article,\n",
    "        output_path=output_path)\n",
    "\n",
    "\n",
    "process_category(article, output_folder=OUTPUT_FOLDER)\n"
   ]
  }
 ],
 "metadata": {
  "kernelspec": {
   "display_name": "base",
   "language": "python",
   "name": "python3"
  },
  "language_info": {
   "codemirror_mode": {
    "name": "ipython",
    "version": 3
   },
   "file_extension": ".py",
   "mimetype": "text/x-python",
   "name": "python",
   "nbconvert_exporter": "python",
   "pygments_lexer": "ipython3",
   "version": "3.11.3"
  },
  "vscode": {
   "interpreter": {
    "hash": "b43e631a983881eee635638ba8d16a40e1a13e8bbb48ce0aff152a316858538a"
   }
  }
 },
 "nbformat": 4,
 "nbformat_minor": 2
}
