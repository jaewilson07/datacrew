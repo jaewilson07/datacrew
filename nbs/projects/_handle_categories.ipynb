{
 "cells": [
  {
   "cell_type": "code",
   "execution_count": 3,
   "metadata": {},
   "outputs": [],
   "source": [
    "import sys\n",
    "sys.path.insert(0, \"../../\")\n"
   ]
  },
  {
   "cell_type": "code",
   "execution_count": 1,
   "metadata": {},
   "outputs": [
    {
     "data": {
      "text/plain": [
       "dict_keys(['title', 'url', 'article_id', 'views', 'created_date', 'last updated', 'urls'])"
      ]
     },
     "execution_count": 1,
     "metadata": {},
     "output_type": "execute_result"
    }
   ],
   "source": [
    "import os \n",
    "import frontmatter\n",
    "from dataclasses import dataclass, field\n",
    "\n",
    "def read_frontmater(file_path):\n",
    "    # Create temp file\n",
    "\n",
    "    with open(test_file_path) as f:\n",
    "        post = frontmatter.load(f)\n",
    "\n",
    "    fm = {key: post.get(key) for key in post.keys()}\n",
    "    fm.update({'urls': []})\n",
    "\n",
    "    for kb in fm.get('linked_kbs'):\n",
    "        # url = re.search(\"(?P<url>https?://[^\\s]+)\", kb).group(\"url\")\n",
    "        t = kb.split('](')\n",
    "        t = t[0][1:]\n",
    "        fm['urls'].append(t)\n",
    "\n",
    "    del fm['linked_kbs']\n",
    "\n",
    "    return fm\n",
    "\n",
    "\n",
    "test_file_path = \"kb_md/posts/10000ft_connector/index.qmd\"\n",
    "\n",
    "class PathExists(Exception):\n",
    "    def __init__(self):\n",
    "        super().__init__(\"path does not exist\")\n",
    "\n",
    "\n",
    "if not os.path.exists(test_file_path):\n",
    "    raise  PathExists(Exception)\n",
    "    \n",
    "test_fm = read_frontmater(test_file_path)\n",
    "test_fm.keys()"
   ]
  },
  {
   "cell_type": "code",
   "execution_count": 4,
   "metadata": {},
   "outputs": [],
   "source": [
    "import datacrew.crawler.crawler as dcc\n",
    "driver = dcc.driversetup(is_headless=False)\n"
   ]
  },
  {
   "cell_type": "code",
   "execution_count": 71,
   "metadata": {},
   "outputs": [
    {
     "name": "stdout",
     "output_type": "stream",
     "text": [
      "💤 loading https://domo-support.domo.com/s/topic/0TO5w000000ZanLGAS/connectors?language=en_US 💤\n",
      "Page https://domo-support.domo.com/s/topic/0TO5w000000ZanLGAS/connectors?language=en_US is loaded within 10 seconds.\n"
     ]
    }
   ],
   "source": [
    "from selenium.webdriver.common.by import By\n",
    "\n",
    "TOPIC_URL = \"https://domo-support.domo.com/s/topic/0TO5w000000ZammGAC/connecting-data-to-domo?language=en_US\"\n",
    "TOPIC_URL = 'https://domo-support.domo.com/s/topic/0TO5w000000ZanLGAS/connectors?language=en_US'\n",
    "\n",
    "BASE_URL = \"https://domo-support.domo.com/s/topic/\"\n",
    "\n",
    "test_page_source = dcc.pagesource(url=TOPIC_URL, driver=driver,\n",
    "                                  element_type=By.CLASS_NAME, element_id=\"section-list-item\"\n",
    "                                  )\n",
    "\n",
    "# test_page_source\n"
   ]
  },
  {
   "cell_type": "code",
   "execution_count": 72,
   "metadata": {},
   "outputs": [],
   "source": [
    "import datacrew.crawler.article as dca\n",
    "import selenium.webdriver\n",
    "from bs4 import BeautifulSoup\n",
    "\n",
    "\n",
    "@dataclass(init=False)\n",
    "class Article_Category(dca.Article):\n",
    "    url: str\n",
    "    base_url: str\n",
    "    driver: selenium.webdriver = field(repr = False)\n",
    "\n",
    "    is_success: bool = False\n",
    "    article: dca.Article = field(default=None, repr=False)\n",
    "\n",
    "    category: str = None\n",
    "    category_id: str = None\n",
    "    category_description: str = None\n",
    "\n",
    "    child_category_ls: list[dict] = None\n",
    "\n",
    "    def __init__(self, url, base_url, driver):\n",
    "        self.url = url\n",
    "        self.base_url = base_url\n",
    "        self.driver = driver\n",
    "\n",
    "        soup = dcc.pagesource(driver=self.driver, url=self.url,\n",
    "                              element_type=By.CLASS_NAME, element_id=\"section-list-item\")\n",
    "\n",
    "        if not soup:\n",
    "            raise dcc.ArticleKB_GetSoupError(url=self.url)\n",
    "\n",
    "        super().__init__(base_url=base_url, soup=soup)\n",
    "\n",
    "        self.article = dca.Article(soup=soup, base_url=self.base_url)\n",
    "        \n",
    "        self.set_category_id()\n",
    "\n",
    "        self.kb_url_ls = self.article.linked_url_ls\n",
    "\n",
    "        try:\n",
    "            self.process_kb_soup(soup)\n",
    "            self.is_success = True\n",
    "\n",
    "        except dca.ArticleKB_ProcessSoupError as e:\n",
    "            print(e)\n",
    "\n",
    "    def set_category_id(self):\n",
    "        url_str = self.url.replace( self.base_url , '')\n",
    "        url_str = url_str.split('/')[-2]\n",
    "        self.category_id = url_str\n",
    "        return url_str\n",
    "\n",
    "    def process_kb_soup(self, soup: BeautifulSoup):\n",
    "\n",
    "        # process parent attributes\n",
    "        parent_term = \"page-header\"\n",
    "        parent = soup.find(class_ = [parent_term])\n",
    "        self.category = parent.find(\"h1\").get_text()\n",
    "\n",
    "        self.category_description = parent.find(\n",
    "            \"p\") and parent.find(\"p\").get_text()\n",
    "\n",
    "\n",
    "        # table_term = \"section-list\"\n",
    "        table_item_term = \"section-list-item\"\n",
    "\n",
    "        table = soup.find_all(class_=[table_item_term])\n",
    "\n",
    "        if not table or table == []:\n",
    "            raise dca.ArticleKB_ProcessSoupError(\n",
    "                url=self.url, search_term=table_term)\n",
    "\n",
    "        tarticle = []\n",
    "        for row in table:\n",
    "            url = row.find(\"a\").get(\"href\")\n",
    "            if not url.startswith('/s/topic/'):\n",
    "                continue\n",
    "\n",
    "            id = url.split('/')[-1]\n",
    "\n",
    "            tarticle.append({'category' : row.get_text(),\n",
    "            'id' :  id,\n",
    "            'url' : f\"{self.base_url}{id}\"}\n",
    "            )\n",
    "        \n",
    "        self.child_category_ls = tarticle"
   ]
  },
  {
   "cell_type": "code",
   "execution_count": 73,
   "metadata": {},
   "outputs": [
    {
     "name": "stdout",
     "output_type": "stream",
     "text": [
      "💤 loading https://domo-support.domo.com/s/topic/0TO5w000000ZanLGAS/connectors?language=en_US 💤\n",
      "Page https://domo-support.domo.com/s/topic/0TO5w000000ZanLGAS/connectors?language=en_US is loaded within 10 seconds.\n",
      "Article_Category(base_url='https://domo-support.domo.com/s/topic/',\n",
      "                 linked_url_ls=['https://domo-support.domo.com/s/topic/0TO5w000000ZammGAC',\n",
      "                                'https://domo-support.domo.com/s/topic/0TO5w000000ZaoQGAS',\n",
      "                                'https://domo-support.domo.com/s/topic/0TO5w000000ZapAGAS',\n",
      "                                'https://domo-support.domo.com/s/topic/0TO5w000000ZaoVGAS',\n",
      "                                'https://domo-support.domo.com/s/topic/0TO5w000000ZaojGAC',\n",
      "                                'https://domo-support.domo.com/s/topic/0TO5w000000ZaoyGAC',\n",
      "                                'https://domo-support.domo.com/s/topic/0TO5w000000ZapVGAS',\n",
      "                                'https://domo-support.domo.com/s/topic/0TO5w000000ZaowGAC'],\n",
      "                 image_ls=[],\n",
      "                 url='https://domo-support.domo.com/s/topic/0TO5w000000ZanLGAS/connectors?language=en_US',\n",
      "                 is_success=True,\n",
      "                 category='Connectors',\n",
      "                 category_id='0TO5w000000ZanLGAS',\n",
      "                 category_description=None,\n",
      "                 child_category_ls=[{'category': 'API Connectors',\n",
      "                                     'id': '0TO5w000000ZaoQGAS',\n",
      "                                     'url': 'https://domo-support.domo.com/s/topic/0TO5w000000ZaoQGAS'},\n",
      "                                    {'category': 'Partition Connectors',\n",
      "                                     'id': '0TO5w000000ZapAGAS',\n",
      "                                     'url': 'https://domo-support.domo.com/s/topic/0TO5w000000ZapAGAS'},\n",
      "                                    {'category': 'Available Custom Connectors',\n",
      "                                     'id': '0TO5w000000ZaoVGAS',\n",
      "                                     'url': 'https://domo-support.domo.com/s/topic/0TO5w000000ZaoVGAS'},\n",
      "                                    {'category': 'Database Connectors',\n",
      "                                     'id': '0TO5w000000ZaojGAC',\n",
      "                                     'url': 'https://domo-support.domo.com/s/topic/0TO5w000000ZaojGAC'},\n",
      "                                    {'category': 'General Connect Info',\n",
      "                                     'id': '0TO5w000000ZaoyGAC',\n",
      "                                     'url': 'https://domo-support.domo.com/s/topic/0TO5w000000ZaoyGAC'},\n",
      "                                    {'category': 'Writeback Connectors',\n",
      "                                     'id': '0TO5w000000ZapVGAS',\n",
      "                                     'url': 'https://domo-support.domo.com/s/topic/0TO5w000000ZapVGAS'},\n",
      "                                    {'category': 'File Connectors',\n",
      "                                     'id': '0TO5w000000ZaowGAC',\n",
      "                                     'url': 'https://domo-support.domo.com/s/topic/0TO5w000000ZaowGAC'}])\n"
     ]
    }
   ],
   "source": [
    "from pprint import pprint\n",
    "\n",
    "TOPIC_URL = 'https://domo-support.domo.com/s/topic/0TO5w000000ZanLGAS/connectors?language=en_US'\n",
    "\n",
    "pprint(Article_Category(url=TOPIC_URL,\n",
    "                 driver=driver,\n",
    "                 base_url=BASE_TOPIC_URL))"
   ]
  },
  {
   "cell_type": "code",
   "execution_count": null,
   "metadata": {},
   "outputs": [],
   "source": [
    "import os\n",
    "\n",
    "kb_path = \"nbs/projects/kb_md/posts\"\n",
    "kb_path = \"kb_md/posts/\"\n",
    "\n",
    "if not os.path.exists(kb_path):\n",
    "    raise Exception('kb_path does not exist')\n",
    "\n",
    "for path, subdirs, files in os.walk(kb_path):\n",
    "    for name in files:\n",
    "        if name != 'index.qmd':\n",
    "            continue\n",
    "        # print(path, name)\n",
    "        file_path = os.path.join(path, name)\n"
   ]
  },
  {
   "cell_type": "code",
   "execution_count": 42,
   "metadata": {},
   "outputs": [
    {
     "data": {
      "text/plain": [
       "'0TO5w000000ZammGAC'"
      ]
     },
     "execution_count": 42,
     "metadata": {},
     "output_type": "execute_result"
    }
   ],
   "source": [
    "test_str = 'https://domo-support.domo.com/s/topic/0TO5w000000ZammGAC/connecting-data-to-domo?language=en_US'\n",
    "\n",
    "BASE_TOPIC_URL\n",
    "\n",
    "\n",
    "    \n",
    "clean_url(test_str)"
   ]
  }
 ],
 "metadata": {
  "kernelspec": {
   "display_name": "Python 3",
   "language": "python",
   "name": "python3"
  },
  "language_info": {
   "codemirror_mode": {
    "name": "ipython",
    "version": 3
   },
   "file_extension": ".py",
   "mimetype": "text/x-python",
   "name": "python",
   "nbconvert_exporter": "python",
   "pygments_lexer": "ipython3",
   "version": "3.10.4"
  },
  "orig_nbformat": 4,
  "vscode": {
   "interpreter": {
    "hash": "3ad933181bd8a04b432d3370b9dc3b0662ad032c4dfaa4e4f1596c548f763858"
   }
  }
 },
 "nbformat": 4,
 "nbformat_minor": 2
}
