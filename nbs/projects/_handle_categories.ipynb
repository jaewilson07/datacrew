{
 "cells": [
  {
   "cell_type": "code",
   "execution_count": 3,
   "metadata": {},
   "outputs": [],
   "source": [
    "import sys\n",
    "sys.path.insert(0, \"../../\")\n"
   ]
  },
  {
   "cell_type": "code",
   "execution_count": 1,
   "metadata": {},
   "outputs": [
    {
     "data": {
      "text/plain": [
       "dict_keys(['title', 'url', 'article_id', 'views', 'created_date', 'last updated', 'urls'])"
      ]
     },
     "execution_count": 1,
     "metadata": {},
     "output_type": "execute_result"
    }
   ],
   "source": [
    "import os \n",
    "import frontmatter\n",
    "from dataclasses import dataclass, field\n",
    "\n",
    "def read_frontmater(file_path):\n",
    "    # Create temp file\n",
    "\n",
    "    with open(test_file_path) as f:\n",
    "        post = frontmatter.load(f)\n",
    "\n",
    "    fm = {key: post.get(key) for key in post.keys()}\n",
    "    fm.update({'urls': []})\n",
    "\n",
    "    for kb in fm.get('linked_kbs'):\n",
    "        # url = re.search(\"(?P<url>https?://[^\\s]+)\", kb).group(\"url\")\n",
    "        t = kb.split('](')\n",
    "        t = t[0][1:]\n",
    "        fm['urls'].append(t)\n",
    "\n",
    "    del fm['linked_kbs']\n",
    "\n",
    "    return fm\n",
    "\n",
    "\n",
    "test_file_path = \"kb_md/posts/10000ft_connector/index.qmd\"\n",
    "\n",
    "class PathExists(Exception):\n",
    "    def __init__(self):\n",
    "        super().__init__(\"path does not exist\")\n",
    "\n",
    "\n",
    "if not os.path.exists(test_file_path):\n",
    "    raise  PathExists(Exception)\n",
    "    \n",
    "test_fm = read_frontmater(test_file_path)\n",
    "test_fm.keys()"
   ]
  },
  {
   "cell_type": "code",
   "execution_count": 4,
   "metadata": {},
   "outputs": [],
   "source": [
    "import datacrew.crawler.crawler as dcc\n",
    "driver = dcc.driversetup(is_headless=False)\n"
   ]
  },
  {
   "cell_type": "code",
   "execution_count": 5,
   "metadata": {},
   "outputs": [
    {
     "name": "stdout",
     "output_type": "stream",
     "text": [
      "💤 loading https://domo-support.domo.com/s/topic/0TO5w000000ZammGAC/connecting-data-to-domo?language=en_US 💤\n",
      "Page https://domo-support.domo.com/s/topic/0TO5w000000ZammGAC/connecting-data-to-domo?language=en_US is loaded within 10 seconds.\n"
     ]
    }
   ],
   "source": [
    "from selenium.webdriver.common.by import By\n",
    "\n",
    "TOPIC_URL = \"https://domo-support.domo.com/s/topic/0TO5w000000ZammGAC/connecting-data-to-domo?language=en_US\"\n",
    "BASE_TOPIC_URL = \"https://domo-support.domo.com/s/topic/\"\n",
    "\n",
    "test_page_source = dcc.pagesource(url=TOPIC_URL, driver=driver,\n",
    "                                  element_type=By.CLASS_NAME, element_id=\"section-list-item\"\n",
    "                                  )\n"
   ]
  },
  {
   "cell_type": "code",
   "execution_count": 14,
   "metadata": {},
   "outputs": [],
   "source": [
    "import datacrew.crawler.article as dca\n",
    "import selenium.webdriver\n",
    "from bs4 import BeautifulSoup\n",
    "\n",
    "\n",
    "@dataclass(init=False)\n",
    "class Article_Category(dca.Article):\n",
    "    url: str\n",
    "    base_url: str\n",
    "    driver: selenium.webdriver\n",
    "\n",
    "    is_success: bool = False\n",
    "    article: dca.Article = field(default=None, repr=False)\n",
    "\n",
    "    category_soup: BeautifulSoup = field(default=None, repr=False)\n",
    "    category_url_ls: list[str] = field(default=None)\n",
    "\n",
    "    title: str = None\n",
    "    md_str: str = field(default=None, repr=False)\n",
    "    category_id: str = None\n",
    "\n",
    "    def __init__(self, url, base_url, driver):\n",
    "        self.url = url\n",
    "        self.base_url = base_url\n",
    "        self.driver = driver\n",
    "\n",
    "        soup = dcc.pagesource(driver=self.driver, url=self.url,\n",
    "                              element_type=By.CLASS_NAME, element_id=\"section-list-item\")\n",
    "\n",
    "        if not soup:\n",
    "            raise dcc.ArticleKB_GetSoupError(url=self.url)\n",
    "\n",
    "        super().__init__(base_url=base_url, soup=soup)\n",
    "\n",
    "        self.article = dca.Article(soup=soup, base_url=self.base_url)\n",
    "        self.kb_url_ls = self.article.linked_url_ls\n",
    "\n",
    "        try:\n",
    "            self.process_kb_soup(soup)\n",
    "            self.is_success = True\n",
    "\n",
    "        except dca.ArticleKB_ProcessSoupError as e:\n",
    "            print(e)\n",
    "\n",
    "\n",
    "def process_kb_soup(self, soup: BeautifulSoup):\n",
    "    parent_term = \"page-header\"\n",
    "    parent_description_term = \"page-header-description\"\n",
    "\n",
    "    table_term = \"section-list\"\n",
    "    table_item_term = \"section-list-item\"\n",
    "\n",
    "    table = soup.find_all(class_=[table_term])\n",
    "\n",
    "    if not table or table == []:\n",
    "        raise dca.ArticleKB_ProcessSoupError(\n",
    "            url=self.url, search_term=search_term)\n",
    "\n",
    "        tarticle = []\n",
    "        for row in table:\n",
    "            # print(\"❤️\")\n",
    "\n",
    "            cells = row.find(class_=\"slds-form-element__label\")\n",
    "\n",
    "            if list(cells.strings):\n",
    "                content = row.find(class_=\"slds-form-element__control\")\n",
    "                tarticle.append((list(cells.strings)[0], content))\n",
    "\n",
    "        kb_soup = dict(tarticle)\n",
    "        self.kb_soup = kb_soup\n",
    "\n",
    "        self.title = self.article.md_soup(kb_soup.get(\"Title\"))\n",
    "\n",
    "        self.md_str = self.article.md_soup(kb_soup.get(\"Article Body\"))\n",
    "        self.article_id = self.article.md_soup(kb_soup.get(\"Article Number\"))\n",
    "        self.views = self.article.md_soup(\n",
    "            kb_soup.get(\"Article Total View Count\"))\n",
    "        self.created = parser.parse(\n",
    "            self.article.md_soup(kb_soup.get(\"Article Created Date\"))\n",
    "        )\n",
    "\n",
    "        self.last_updated = parser.parse(\n",
    "            self.article.md_soup(kb_soup.get(\"First Published Date\"))\n",
    "        )\n",
    "\n",
    "        self.get_images(\n",
    "            test_base_url='https://domo-support.domo.com//servlet/rtaImage')\n",
    "\n",
    "        return self.kb_soup\n"
   ]
  },
  {
   "cell_type": "code",
   "execution_count": 15,
   "metadata": {},
   "outputs": [
    {
     "name": "stdout",
     "output_type": "stream",
     "text": [
      "💤 loading https://domo-support.domo.com/s/topic/0TO5w000000ZammGAC/connecting-data-to-domo?language=en_US 💤\n",
      "Page https://domo-support.domo.com/s/topic/0TO5w000000ZammGAC/connecting-data-to-domo?language=en_US is loaded within 10 seconds.\n"
     ]
    },
    {
     "ename": "AttributeError",
     "evalue": "'Article_Category' object has no attribute 'process_kb_soup'",
     "output_type": "error",
     "traceback": [
      "\u001b[1;31m---------------------------------------------------------------------------\u001b[0m",
      "\u001b[1;31mAttributeError\u001b[0m                            Traceback (most recent call last)",
      "Cell \u001b[1;32mIn[15], line 1\u001b[0m\n\u001b[1;32m----> 1\u001b[0m test_article \u001b[39m=\u001b[39m Article_Category(url\u001b[39m=\u001b[39;49mTOPIC_URL,\n\u001b[0;32m      2\u001b[0m                  driver\u001b[39m=\u001b[39;49mdriver,\n\u001b[0;32m      3\u001b[0m                  base_url\u001b[39m=\u001b[39;49mBASE_TOPIC_URL)\n",
      "Cell \u001b[1;32mIn[14], line 38\u001b[0m, in \u001b[0;36mArticle_Category.__init__\u001b[1;34m(self, url, base_url, driver)\u001b[0m\n\u001b[0;32m     35\u001b[0m \u001b[39mself\u001b[39m\u001b[39m.\u001b[39mkb_url_ls \u001b[39m=\u001b[39m \u001b[39mself\u001b[39m\u001b[39m.\u001b[39marticle\u001b[39m.\u001b[39mlinked_url_ls\n\u001b[0;32m     37\u001b[0m \u001b[39mtry\u001b[39;00m:\n\u001b[1;32m---> 38\u001b[0m     \u001b[39mself\u001b[39;49m\u001b[39m.\u001b[39;49mprocess_kb_soup(soup)\n\u001b[0;32m     39\u001b[0m     \u001b[39mself\u001b[39m\u001b[39m.\u001b[39mis_success \u001b[39m=\u001b[39m \u001b[39mTrue\u001b[39;00m\n\u001b[0;32m     41\u001b[0m \u001b[39mexcept\u001b[39;00m dca\u001b[39m.\u001b[39mArticleKB_ProcessSoupError \u001b[39mas\u001b[39;00m e:\n",
      "\u001b[1;31mAttributeError\u001b[0m: 'Article_Category' object has no attribute 'process_kb_soup'"
     ]
    }
   ],
   "source": [
    "test_article = Article_Category(url=TOPIC_URL,\n",
    "                 driver=driver,\n",
    "                 base_url=BASE_TOPIC_URL)"
   ]
  },
  {
   "cell_type": "code",
   "execution_count": null,
   "metadata": {},
   "outputs": [],
   "source": [
    "import os\n",
    "\n",
    "kb_path = \"nbs/projects/kb_md/posts\"\n",
    "kb_path = \"kb_md/posts/\"\n",
    "\n",
    "if not os.path.exists(kb_path):\n",
    "    raise Exception('kb_path does not exist')\n",
    "\n",
    "for path, subdirs, files in os.walk(kb_path):\n",
    "    for name in files:\n",
    "        if name != 'index.qmd':\n",
    "            continue\n",
    "        # print(path, name)\n",
    "        file_path = os.path.join(path, name)\n"
   ]
  }
 ],
 "metadata": {
  "kernelspec": {
   "display_name": "pythonProject",
   "language": "python",
   "name": "python3"
  },
  "language_info": {
   "codemirror_mode": {
    "name": "ipython",
    "version": 3
   },
   "file_extension": ".py",
   "mimetype": "text/x-python",
   "name": "python",
   "nbconvert_exporter": "python",
   "pygments_lexer": "ipython3",
   "version": "3.10.9"
  },
  "orig_nbformat": 4,
  "vscode": {
   "interpreter": {
    "hash": "f34188033707d4f1cd184025c2564e4d9d64d49356dc37886c3f5edd401380e2"
   }
  }
 },
 "nbformat": 4,
 "nbformat_minor": 2
}
