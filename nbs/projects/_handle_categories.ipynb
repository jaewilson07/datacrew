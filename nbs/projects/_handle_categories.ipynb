{
 "cells": [
  {
   "cell_type": "code",
   "execution_count": 3,
   "metadata": {},
   "outputs": [],
   "source": [
    "import sys\n",
    "sys.path.insert(0, \"../../\")\n"
   ]
  },
  {
   "cell_type": "code",
   "execution_count": 4,
   "metadata": {},
   "outputs": [
    {
     "ename": "TypeError",
     "evalue": "__init__() takes 1 positional argument but 2 were given",
     "output_type": "error",
     "traceback": [
      "\u001b[1;31m---------------------------------------------------------------------------\u001b[0m",
      "\u001b[1;31mTypeError\u001b[0m                                 Traceback (most recent call last)",
      "Cell \u001b[1;32mIn[4], line 33\u001b[0m\n\u001b[0;32m     29\u001b[0m         \u001b[39msuper\u001b[39m()\u001b[39m.\u001b[39m\u001b[39m__init__\u001b[39m(\u001b[39m\"\u001b[39m\u001b[39mpath does not exist\u001b[39m\u001b[39m\"\u001b[39m)\n\u001b[0;32m     32\u001b[0m \u001b[39mif\u001b[39;00m \u001b[39mnot\u001b[39;00m os\u001b[39m.\u001b[39mpath\u001b[39m.\u001b[39mexists(test_file_path):\n\u001b[1;32m---> 33\u001b[0m     \u001b[39mraise\u001b[39;00m  PathExists(\u001b[39mException\u001b[39;49;00m)\n\u001b[0;32m     35\u001b[0m test_fm \u001b[39m=\u001b[39m read_frontmater(test_file_path)\n\u001b[0;32m     36\u001b[0m test_fm\u001b[39m.\u001b[39mkeys()\n",
      "\u001b[1;31mTypeError\u001b[0m: __init__() takes 1 positional argument but 2 were given"
     ]
    }
   ],
   "source": [
    "import os \n",
    "import frontmatter\n",
    "from dataclasses import dataclass, field\n",
    "\n",
    "def read_frontmater(file_path):\n",
    "    # Create temp file\n",
    "\n",
    "    with open(test_file_path) as f:\n",
    "        post = frontmatter.load(f)\n",
    "\n",
    "    fm = {key: post.get(key) for key in post.keys()}\n",
    "    fm.update({'urls': []})\n",
    "\n",
    "    for kb in fm.get('linked_kbs'):\n",
    "        # url = re.search(\"(?P<url>https?://[^\\s]+)\", kb).group(\"url\")\n",
    "        t = kb.split('](')\n",
    "        t = t[0][1:]\n",
    "        fm['urls'].append(t)\n",
    "\n",
    "    del fm['linked_kbs']\n",
    "\n",
    "    return fm\n",
    "\n",
    "\n",
    "test_file_path = \"kb_md/posts/10000ft_connector/index.qmd\"\n",
    "\n",
    "class PathExists(Exception):\n",
    "    def __init__(self):\n",
    "        super().__init__(\"path does not exist\")\n",
    "\n",
    "\n",
    "if not os.path.exists(test_file_path):\n",
    "    raise  PathExists(Exception)\n",
    "    \n",
    "test_fm = read_frontmater(test_file_path)\n",
    "test_fm.keys()"
   ]
  },
  {
   "cell_type": "code",
   "execution_count": null,
   "metadata": {},
   "outputs": [],
   "source": [
    "import datacrew.crawler.crawler as dcc\n",
    "driver = dcc.driversetup(is_headless=False)\n"
   ]
  },
  {
   "cell_type": "code",
   "execution_count": null,
   "metadata": {},
   "outputs": [
    {
     "name": "stdout",
     "output_type": "stream",
     "text": [
      "💤 loading https://domo-support.domo.com/s/topic/0TO5w000000ZanLGAS/connectors?language=en_US 💤\n",
      "Page https://domo-support.domo.com/s/topic/0TO5w000000ZanLGAS/connectors?language=en_US is loaded within 10 seconds.\n"
     ]
    }
   ],
   "source": [
    "from selenium.webdriver.common.by import By\n",
    "\n",
    "TOPIC_URL = \"https://domo-support.domo.com/s/topic/0TO5w000000ZammGAC/connecting-data-to-domo?language=en_US\"\n",
    "TOPIC_URL = 'https://domo-support.domo.com/s/topic/0TO5w000000ZanLGAS/connectors?language=en_US'\n",
    "\n",
    "BASE_URL = \"https://domo-support.domo.com/s/topic/\"\n",
    "\n",
    "test_page_source = dcc.pagesource(url=TOPIC_URL, driver=driver,\n",
    "                                  element_type=By.CLASS_NAME, element_id=\"section-list-item\"\n",
    "                                  )\n",
    "\n",
    "# test_page_source\n"
   ]
  },
  {
   "cell_type": "code",
   "execution_count": null,
   "metadata": {},
   "outputs": [
    {
     "name": "stdout",
     "output_type": "stream",
     "text": [
      "💤 loading https://domo-support.domo.com/s/topic/0TO5w000000ZanLGAS/connectors?language=en_US 💤\n",
      "Page https://domo-support.domo.com/s/topic/0TO5w000000ZanLGAS/connectors?language=en_US is loaded within 10 seconds.\n",
      "Article_Category(base_url='https://domo-support.domo.com/s/topic/',\n",
      "                 linked_url_ls=['https://domo-support.domo.com/s/topic/0TO5w000000ZammGAC',\n",
      "                                'https://domo-support.domo.com/s/topic/0TO5w000000ZaoQGAS',\n",
      "                                'https://domo-support.domo.com/s/topic/0TO5w000000ZapAGAS',\n",
      "                                'https://domo-support.domo.com/s/topic/0TO5w000000ZaoVGAS',\n",
      "                                'https://domo-support.domo.com/s/topic/0TO5w000000ZaojGAC',\n",
      "                                'https://domo-support.domo.com/s/topic/0TO5w000000ZaoyGAC',\n",
      "                                'https://domo-support.domo.com/s/topic/0TO5w000000ZapVGAS',\n",
      "                                'https://domo-support.domo.com/s/topic/0TO5w000000ZaowGAC'],\n",
      "                 image_ls=[],\n",
      "                 url='https://domo-support.domo.com/s/topic/0TO5w000000ZanLGAS/connectors?language=en_US',\n",
      "                 is_success=True,\n",
      "                 category='Connectors',\n",
      "                 category_id='0TO5w000000ZanLGAS',\n",
      "                 category_description=None,\n",
      "                 child_category_ls=[{'category': 'API Connectors',\n",
      "                                     'id': '0TO5w000000ZaoQGAS',\n",
      "                                     'url': 'https://domo-support.domo.com/s/topic/<built-in '\n",
      "                                            'function id>'},\n",
      "                                    {'category': 'Partition Connectors',\n",
      "                                     'id': '0TO5w000000ZapAGAS',\n",
      "                                     'url': 'https://domo-support.domo.com/s/topic/<built-in '\n",
      "                                            'function id>'},\n",
      "                                    {'category': 'Available Custom Connectors',\n",
      "                                     'id': '0TO5w000000ZaoVGAS',\n",
      "                                     'url': 'https://domo-support.domo.com/s/topic/<built-in '\n",
      "                                            'function id>'},\n",
      "                                    {'category': 'Database Connectors',\n",
      "                                     'id': '0TO5w000000ZaojGAC',\n",
      "                                     'url': 'https://domo-support.domo.com/s/topic/<built-in '\n",
      "                                            'function id>'},\n",
      "                                    {'category': 'General Connect Info',\n",
      "                                     'id': '0TO5w000000ZaoyGAC',\n",
      "                                     'url': 'https://domo-support.domo.com/s/topic/<built-in '\n",
      "                                            'function id>'},\n",
      "                                    {'category': 'Writeback Connectors',\n",
      "                                     'id': '0TO5w000000ZapVGAS',\n",
      "                                     'url': 'https://domo-support.domo.com/s/topic/<built-in '\n",
      "                                            'function id>'},\n",
      "                                    {'category': 'File Connectors',\n",
      "                                     'id': '0TO5w000000ZaowGAC',\n",
      "                                     'url': 'https://domo-support.domo.com/s/topic/<built-in '\n",
      "                                            'function id>'}])\n"
     ]
    }
   ],
   "source": [
    "import datacrew.crawler.article as dca\n",
    "\n",
    "BASE_TOPIC_URL = \"https://domo-support.domo.com/s/topic/\"\n",
    "TOPIC_URL = 'https://domo-support.domo.com/s/topic/0TO5w000000ZanLGAS/connectors?language=en_US'\n",
    "\n",
    "pprint(dca.Article_Category(url=TOPIC_URL,\n",
    "                 driver=driver,\n",
    "                 base_url=BASE_TOPIC_URL))"
   ]
  },
  {
   "cell_type": "code",
   "execution_count": null,
   "metadata": {},
   "outputs": [],
   "source": [
    "import os\n",
    "\n",
    "kb_path = \"nbs/projects/kb_md/posts\"\n",
    "kb_path = \"kb_md/posts/\"\n",
    "\n",
    "if not os.path.exists(kb_path):\n",
    "    raise Exception('kb_path does not exist')\n",
    "\n",
    "for path, subdirs, files in os.walk(kb_path):\n",
    "    for name in files:\n",
    "        if name != 'index.qmd':\n",
    "            continue\n",
    "        # print(path, name)\n",
    "        file_path = os.path.join(path, name)\n"
   ]
  }
 ],
 "metadata": {
  "kernelspec": {
   "display_name": "base",
   "language": "python",
   "name": "python3"
  },
  "language_info": {
   "codemirror_mode": {
    "name": "ipython",
    "version": 3
   },
   "file_extension": ".py",
   "mimetype": "text/x-python",
   "name": "python",
   "nbconvert_exporter": "python",
   "pygments_lexer": "ipython3",
   "version": "3.9.12"
  },
  "vscode": {
   "interpreter": {
    "hash": "b43e631a983881eee635638ba8d16a40e1a13e8bbb48ce0aff152a316858538a"
   }
  }
 },
 "nbformat": 4,
 "nbformat_minor": 2
}
