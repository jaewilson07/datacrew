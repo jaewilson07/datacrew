{
 "cells": [
  {
   "cell_type": "code",
   "execution_count": null,
   "metadata": {},
   "outputs": [],
   "source": [
    "# pip install mdutils\n"
   ]
  },
  {
   "cell_type": "code",
   "execution_count": null,
   "metadata": {},
   "outputs": [],
   "source": [
    "# pip install markdownify"
   ]
  },
  {
   "cell_type": "code",
   "execution_count": null,
   "metadata": {},
   "outputs": [],
   "source": [
    "URL = \"https://domo-support.domo.com/s/article/360047400753?language=en_US\"\n",
    "BASE_URL = \"https://domo-support.domo.com/\""
   ]
  },
  {
   "cell_type": "code",
   "execution_count": null,
   "metadata": {},
   "outputs": [],
   "source": [
    "from selenium import webdriver\n",
    "from bs4 import BeautifulSoup\n",
    "\n",
    "\n",
    "def driversetup():\n",
    "    options = webdriver.ChromeOptions()\n",
    "    # run Selenium in headless mode\n",
    "    options.add_argument(\"--headless\")\n",
    "    options.add_argument(\"--no-sandbox\")\n",
    "\n",
    "    driver = webdriver.Chrome(options=options)\n",
    "\n",
    "    return driver\n",
    "\n",
    "\n",
    "driver = driversetup()"
   ]
  },
  {
   "cell_type": "code",
   "execution_count": null,
   "metadata": {},
   "outputs": [],
   "source": [
    "from selenium.webdriver.support.ui import WebDriverWait\n",
    "from selenium.webdriver.common.by import By\n",
    "import selenium.webdriver.support.expected_conditions as EC\n",
    "\n",
    "\n",
    "def pagesource(url, driver=None):\n",
    "\n",
    "    is_driver_close = True\n",
    "    if driver:\n",
    "        is_driver_close = False\n",
    "\n",
    "    driver = driver or driversetup()\n",
    "\n",
    "    driver.get(url)\n",
    "\n",
    "    try:\n",
    "        ele = WebDriverWait(driver, timeout=15, poll_frequency=1).until(\n",
    "            EC.presence_of_element_located((By.CLASS_NAME, \"slds-form-element\"))\n",
    "        )\n",
    "        print(f\"Page {url} is loaded within 10 seconds.\")\n",
    "    except Exception as e:\n",
    "        # print(e)\n",
    "        print(f\"Timeout Exception: Page {url} did not load within 10 seconds.\")\n",
    "\n",
    "    soup = BeautifulSoup(driver.page_source)\n",
    "\n",
    "    if is_driver_close:\n",
    "        driver.close()\n",
    "    return soup\n",
    "\n",
    "\n",
    "# test_page_source = pagesource(url = URL, driver = driver)\n",
    "# test_page_source"
   ]
  },
  {
   "cell_type": "code",
   "execution_count": null,
   "metadata": {},
   "outputs": [],
   "source": [
    "from dataclasses import dataclass, field\n",
    "import urllib.parse as url_parse\n",
    "import markdown as md\n",
    "\n",
    "\n",
    "@dataclass\n",
    "class Article:\n",
    "    soup: BeautifulSoup = field(repr=False)\n",
    "    base_url: str\n",
    "    # linked_url_ls : list[str] = field( default_factory= list)\n",
    "\n",
    "    def __post_init__(self):\n",
    "        self.get_linked_urls()\n",
    "\n",
    "    @classmethod\n",
    "    def get_from_url(cls, url: str, driver, base_url: str):\n",
    "        soup = pagesource(driver=driver, url=url)\n",
    "\n",
    "        return cls(soup=soup, base_url=base_url)\n",
    "\n",
    "    @staticmethod\n",
    "    def md_soup(soup, **options):\n",
    "        return md.MarkdownConverter(**options).convert_soup(soup)\n",
    "\n",
    "    def get_linked_urls(self, is_remove_query_string_parameters:bool = True):\n",
    "        self.linked_url_ls = []\n",
    "        for soup_link in self.soup.find_all(\"a\"):\n",
    "            url = soup_link.get(\"href\")\n",
    "\n",
    "            if not url:\n",
    "                continue\n",
    "\n",
    "            if url.startswith(\"/\"):\n",
    "                url = url_parse.urljoin(self.base_url, url)\n",
    "            \n",
    "            if is_remove_query_string_parameters:\n",
    "                url = url_parse.urljoin(url, url_parse.urlparse(url).path)\n",
    "\n",
    "            if url.startswith(self.base_url) and url not in self.linked_url_ls:\n",
    "                self.linked_url_ls.append(url)\n",
    "\n",
    "        return self.linked_url_ls\n",
    "\n",
    "\n",
    "# test_art = Article.get_from_url(url = URL, driver = driver, base_url = base_url)\n",
    "# test_art"
   ]
  },
  {
   "cell_type": "code",
   "execution_count": null,
   "metadata": {},
   "outputs": [
    {
     "name": "stdout",
     "output_type": "stream",
     "text": [
      "Page https://domo-support.domo.com/s/article/360047400753?language=en_US is loaded within 10 seconds.\n"
     ]
    },
    {
     "data": {
      "text/plain": [
       "Article_KB(url='https://domo-support.domo.com/s/article/360047400753?language=en_US', base_url='https://domo-support.domo.com/', driver=<selenium.webdriver.chrome.webdriver.WebDriver (session=\"9b374035ae2b7346d34bad18c6cb2e07\")>, is_success=True, kb_url_ls=['https://domo-support.domo.com/s/knowledge-base/', 'https://domo-support.domo.com/s/', 'https://domo-support.domo.com/s/topic/0TO5w000000ZammGAC', 'https://domo-support.domo.com/s/topic/0TO5w000000ZanzGAC', 'https://domo-support.domo.com/s/article/7872485267991', 'https://domo-support.domo.com/s/article/7440921035671', 'https://domo-support.domo.com/s/article/360047400753', 'https://domo-support.domo.com/s/topic/0TO5w000000ZanzGAC/other-connection-methods', 'https://domo-support.domo.com/s/article/360043429933', 'https://domo-support.domo.com/s/article/360042925494', 'https://domo-support.domo.com/s/article/360043429953', 'https://domo-support.domo.com/s/article/360043429913', 'https://domo-support.domo.com/s/login/'], title='Jupyter Workspaces', article_id='000004975', views='2,881', created=datetime.datetime(2022, 11, 1, 23, 15), last_updated=datetime.datetime(2022, 11, 1, 23, 23))"
      ]
     },
     "execution_count": null,
     "metadata": {},
     "output_type": "execute_result"
    }
   ],
   "source": [
    "import re\n",
    "import datetime as dt\n",
    "import markdownify as md\n",
    "from dataclasses import dataclass, field\n",
    "from dateutil import parser\n",
    "\n",
    "# @dataclass\n",
    "# class Article:\n",
    "#   soup: BeautifulSoup = field(repr = False)\n",
    "#   base_url:str\n",
    "\n",
    "class ArticleKB_GetSoupError:\n",
    "    def __init__(self, url):\n",
    "        super().__init__(f\"failed to retrieve soup for {url}\")\n",
    "\n",
    "class ArticleKB_ProcessSoupError(Exception):\n",
    "    def __init__(self, url, search_term):\n",
    "        super().__init__(f\"search term {search_term} does not exist in {url}\")\n",
    "\n",
    "\n",
    "\n",
    "@dataclass()\n",
    "class Article_KB:\n",
    "    url: str\n",
    "    base_url: str\n",
    "    driver: webdriver\n",
    "\n",
    "    is_success:bool = False\n",
    "    article: Article = field(default=None, repr=False)\n",
    "    kb_soup: BeautifulSoup = field(default=None, repr=False)\n",
    "    kb_url_ls: list[str] = field(default=None)\n",
    "\n",
    "    title: str = None\n",
    "    md_str: str = field(default=None, repr=False)\n",
    "    article_id: str = None\n",
    "    views: int = None\n",
    "    created: dt.date = None\n",
    "    last_updated: dt.date = None\n",
    "\n",
    "    def __post_init__(self):\n",
    "        soup = pagesource(driver=self.driver, url=self.url)\n",
    "\n",
    "        if not soup:\n",
    "            raise ArticleKB_GetSoupError(url = self.url)\n",
    "\n",
    "\n",
    "        self.article = Article(soup=soup, base_url=self.base_url)\n",
    "        self.kb_url_ls = self.article.linked_url_ls\n",
    "        \n",
    "        try:\n",
    "            self.process_kb_soup(soup)\n",
    "            self.is_success = True\n",
    "        except ArticleKB_ProcessSoupError as e:\n",
    "            print(e)\n",
    "\n",
    "    def process_kb_soup(self, soup: BeautifulSoup):\n",
    "        search_term = \"slds-form-element\"\n",
    "\n",
    "        table = soup.find_all(class_=[search_term])\n",
    "\n",
    "        if not table or table == []:\n",
    "            raise ArticleKB_ProcessSoupError(url = self.url, search_term= search_term)\n",
    "\n",
    "        tarticle = []\n",
    "        for row in table:\n",
    "            # print(\"❤️\")\n",
    "\n",
    "            cells = row.find(class_=\"slds-form-element__label\")\n",
    "\n",
    "            if list(cells.strings):\n",
    "                content = row.find(class_=\"slds-form-element__control\")\n",
    "                tarticle.append((list(cells.strings)[0], content))\n",
    "\n",
    "        kb_soup = dict(tarticle)\n",
    "        self.kb_soup = kb_soup\n",
    "\n",
    "        self.title = self.article.md_soup(kb_soup.get(\"Title\"))\n",
    "\n",
    "        self.md_str = self.article.md_soup(kb_soup.get(\"Article Body\"))\n",
    "        self.article_id = self.article.md_soup(kb_soup.get(\"Article Number\"))\n",
    "        self.views = self.article.md_soup(kb_soup.get(\"Article Total View Count\"))\n",
    "        self.created = parser.parse(\n",
    "            self.article.md_soup(kb_soup.get(\"Article Created Date\"))\n",
    "        )\n",
    "\n",
    "        self.last_updated = parser.parse(\n",
    "            self.article.md_soup(kb_soup.get(\"First Published Date\"))\n",
    "        )\n",
    "\n",
    "        return self.kb_soup\n",
    "\n",
    "test_broken_url = 'https://domo-support.domo.com/s/knowledge-base/'\n",
    "test_cls = Article_KB(url=URL, base_url=BASE_URL, driver=driver)\n",
    "test_cls"
   ]
  },
  {
   "cell_type": "code",
   "execution_count": null,
   "metadata": {},
   "outputs": [
    {
     "name": "stdout",
     "output_type": "stream",
     "text": [
      "outputting Jupyter Workspaces to kb_md\\jupyter_workspaces\n"
     ]
    }
   ],
   "source": [
    "import mdutils\n",
    "import os\n",
    "from mdutils.mdutils import MdUtils\n",
    "\n",
    "\n",
    "def convert_to_snake(text_str):\n",
    "    \"\"\"converts 'snake_case_str' to 'snakeCaseStr'\"\"\"\n",
    "\n",
    "    return text_str.replace(\" \", \"_\").lower()\n",
    "\n",
    " def add_frontmatter(article, output_path: str = \"kb_md\", data):\n",
    "\n",
    "    with open(output_path, 'r+', encoding='utf-8') as md_file:\n",
    "        file_data = md_file.read()  # Save all the file's content\n",
    "        md_file.seek(0, 0)  # Place file pointer at the beginning\n",
    "        md_file.write(data)  # Write data\n",
    "        md_file.write('\\n' + file_data)\n",
    "\n",
    "def output_md(\n",
    "    article: Article_KB, output_folder: str = \"kb_md\", debug_prn: bool = False\n",
    "):\n",
    "\n",
    "    output_path = os.path.join(output_folder, convert_to_snake(article.title))\n",
    "\n",
    "    if debug_prn:\n",
    "        print(f\"outputting {article.title} to {output_path}\")\n",
    "\n",
    "    md_file = MdUtils(file_name=output_path)\n",
    "    \n",
    "    md_file.new_line('---\\n')\n",
    "    md_file.new_line(f\"title: {article.title}\")\n",
    "    md_file.new_line(f\"url: {article.url}\")\n",
    "    md_file.new_line(\n",
    "        f'linked_kbs:  { [ md_file.new_inline_link(link) for link in article.kb_url_ls]}')\n",
    "    md_file.new_line(f'article_id: {article.article_id}')\n",
    "    md_file.new_line(f'views: {article.views}')\n",
    "    md_file.new_line(f\"created_date: {str(article.created)}\")\n",
    "    md_file.new_line(f\"last updated: {str(article.last_updated)}\")\n",
    "    md_file.new_line('---')\n",
    "    md_file.write('\\n\\n\\n')\n",
    "\n",
    "\n",
    "    md_file.write(article.md_str)\n",
    "\n",
    "    md_file.create_md_file()\n",
    "\n",
    "output_md(article = test_cls, debug_prn= True)\n",
    "\n"
   ]
  },
  {
   "cell_type": "code",
   "execution_count": null,
   "metadata": {},
   "outputs": [],
   "source": [
    "import logging\n",
    "\n",
    "logging.basicConfig(\n",
    "    format='%(asctime)s %(levelname)s:%(message)s',\n",
    "    level=logging.INFO)\n",
    "\n",
    "\n",
    "class Crawler:\n",
    "    base_url: str\n",
    "    output_folder: str\n",
    "    urls_visited_ls: list[str]\n",
    "    urls_to_vist_ls: list[str]\n",
    "\n",
    "    driver: webdriver\n",
    "\n",
    "    def __init__(self,\n",
    "                 urls_to_visit_ls: list[str] = None,\n",
    "                 base_url=None,\n",
    "                 output_folder='kb_md',\n",
    "                 ):\n",
    "\n",
    "        self.base_url = base_url\n",
    "        self.output_folder = output_folder\n",
    "        self.urls_visited_ls = []\n",
    "        self.urls_to_visit_ls = urls_to_visit_ls\n",
    "        self.article_ls = []\n",
    "        self.driver = driversetup()\n",
    "\n",
    "    def add_url_to_visit(self, url, debug_prn: bool = False):\n",
    "        if url not in self.urls_visited_ls and url not in self.urls_to_visit_ls:\n",
    "            if debug_prn:\n",
    "                print(f'adding url to list - {url}')\n",
    "\n",
    "            self.urls_to_visit_ls.append(url)\n",
    "\n",
    "    def crawl(self, url, debug_prn: bool = False):\n",
    "        if debug_prn:\n",
    "            print(f\"starting crawl - {url}\")\n",
    "\n",
    "        article = Article_KB(url=url, base_url=self.base_url, driver=driver)\n",
    "\n",
    "        for url in article.kb_url_ls:\n",
    "            self.add_url_to_visit(url=url, debug_prn=debug_prn)\n",
    "        \n",
    "        if article.is_success:\n",
    "            output_md(article=article, output_folder=self.output_folder,\n",
    "                    debug_prn=debug_prn)\n",
    "\n",
    "\n",
    "    def run(self, debug_prn: bool = False):\n",
    "        while self.urls_to_visit_ls:\n",
    "            url = self.urls_to_visit_ls.pop(0)\n",
    "\n",
    "            logging.info(f'Crawling: {url}')\n",
    "\n",
    "            try:\n",
    "                self.crawl(url, debug_prn)\n",
    "            except Exception:\n",
    "                logging.exception(f'Failed to crawl: {url}')\n",
    "            finally:\n",
    "                self.urls_visited_ls.append(url)\n",
    "\n",
    "        print('done')\n",
    "        return self\n"
   ]
  },
  {
   "cell_type": "code",
   "execution_count": null,
   "metadata": {},
   "outputs": [
    {
     "name": "stderr",
     "output_type": "stream",
     "text": [
      "2023-02-08 06:46:50,238 INFO:Crawling: https://domo-support.domo.com/s/article/360047400753?language=en_US\n"
     ]
    },
    {
     "name": "stdout",
     "output_type": "stream",
     "text": [
      "starting crawl - https://domo-support.domo.com/s/article/360047400753?language=en_US\n"
     ]
    },
    {
     "name": "stderr",
     "output_type": "stream",
     "text": [
      "2023-02-08 06:46:56,080 INFO:Crawling: https://domo-support.domo.com/s/knowledge-base/\n"
     ]
    },
    {
     "name": "stdout",
     "output_type": "stream",
     "text": [
      "Page https://domo-support.domo.com/s/article/360047400753?language=en_US is loaded within 10 seconds.\n",
      "adding url to list - https://domo-support.domo.com/s/knowledge-base/\n",
      "adding url to list - https://domo-support.domo.com/s/\n",
      "adding url to list - https://domo-support.domo.com/s/topic/0TO5w000000ZammGAC\n",
      "adding url to list - https://domo-support.domo.com/s/topic/0TO5w000000ZanzGAC\n",
      "adding url to list - https://domo-support.domo.com/s/article/7872485267991\n",
      "adding url to list - https://domo-support.domo.com/s/article/7440921035671\n",
      "adding url to list - https://domo-support.domo.com/s/article/360047400753\n",
      "adding url to list - https://domo-support.domo.com/s/topic/0TO5w000000ZanzGAC/other-connection-methods\n",
      "adding url to list - https://domo-support.domo.com/s/article/360043429933\n",
      "adding url to list - https://domo-support.domo.com/s/article/360042925494\n",
      "adding url to list - https://domo-support.domo.com/s/article/360043429953\n",
      "adding url to list - https://domo-support.domo.com/s/article/360043429913\n",
      "adding url to list - https://domo-support.domo.com/s/login/\n",
      "outputting Jupyter Workspaces to kb_md\\jupyter_workspaces\n",
      "starting crawl - https://domo-support.domo.com/s/knowledge-base/\n"
     ]
    },
    {
     "name": "stderr",
     "output_type": "stream",
     "text": [
      "2023-02-08 06:47:13,713 INFO:Crawling: https://domo-support.domo.com/s/\n"
     ]
    },
    {
     "name": "stdout",
     "output_type": "stream",
     "text": [
      "Timeout Exception: Page https://domo-support.domo.com/s/knowledge-base/ did not load within 10 seconds.\n",
      "search term slds-form-element does not exist in https://domo-support.domo.com/s/knowledge-base/\n",
      "adding url to list - https://domo-support.domo.com/s/knowledge-base/\n",
      "adding url to list - https://domo-support.domo.com/s/topic/0TO5w000000ZamsGAC\n",
      "adding url to list - https://domo-support.domo.com/s/topic/0TO5w000000ZamzGAC\n",
      "adding url to list - https://domo-support.domo.com/s/topic/0TO5w000000ZamoGAC\n",
      "adding url to list - https://domo-support.domo.com/s/topic/0TO5w000000ZamnGAC\n",
      "adding url to list - https://domo-support.domo.com/s/topic/0TO5w000000ZamlGAC\n",
      "adding url to list - https://domo-support.domo.com/s/topic/0TO5w000000ZamqGAC\n",
      "adding url to list - https://domo-support.domo.com/s/topic/0TO5w000000Zan0GAC\n",
      "adding url to list - https://domo-support.domo.com/s/topic/0TO5w000000Zan2GAC\n",
      "adding url to list - https://domo-support.domo.com/s/topic/0TO5w000000ZampGAC\n",
      "adding url to list - https://domo-support.domo.com/s/topic/0TO5w000000ZamwGAC\n",
      "adding url to list - https://domo-support.domo.com/s/topic/0TO5w000000Zan1GAC\n",
      "adding url to list - https://domo-support.domo.com/s/topic/0TO5w000000ZamyGAC\n",
      "starting crawl - https://domo-support.domo.com/s/\n"
     ]
    },
    {
     "name": "stderr",
     "output_type": "stream",
     "text": [
      "2023-02-08 06:47:30,827 INFO:Crawling: https://domo-support.domo.com/s/topic/0TO5w000000ZammGAC\n"
     ]
    },
    {
     "name": "stdout",
     "output_type": "stream",
     "text": [
      "Timeout Exception: Page https://domo-support.domo.com/s/ did not load within 10 seconds.\n",
      "search term slds-form-element does not exist in https://domo-support.domo.com/s/\n",
      "adding url to list - https://domo-support.domo.com/start/free\n",
      "starting crawl - https://domo-support.domo.com/s/topic/0TO5w000000ZammGAC\n"
     ]
    },
    {
     "name": "stderr",
     "output_type": "stream",
     "text": [
      "2023-02-08 06:47:47,269 INFO:Crawling: https://domo-support.domo.com/s/topic/0TO5w000000ZanzGAC\n"
     ]
    },
    {
     "name": "stdout",
     "output_type": "stream",
     "text": [
      "Timeout Exception: Page https://domo-support.domo.com/s/topic/0TO5w000000ZammGAC did not load within 10 seconds.\n",
      "search term slds-form-element does not exist in https://domo-support.domo.com/s/topic/0TO5w000000ZammGAC\n",
      "adding url to list - https://domo-support.domo.com/s/topic/0TO5w000000ZanLGAS\n",
      "adding url to list - https://domo-support.domo.com/s/topic/0TO5w000000ZaoPGAS\n",
      "starting crawl - https://domo-support.domo.com/s/topic/0TO5w000000ZanzGAC\n"
     ]
    },
    {
     "name": "stderr",
     "output_type": "stream",
     "text": [
      "2023-02-08 06:48:03,625 INFO:Crawling: https://domo-support.domo.com/s/article/7872485267991\n"
     ]
    },
    {
     "name": "stdout",
     "output_type": "stream",
     "text": [
      "Timeout Exception: Page https://domo-support.domo.com/s/topic/0TO5w000000ZanzGAC did not load within 10 seconds.\n",
      "search term slds-form-element does not exist in https://domo-support.domo.com/s/topic/0TO5w000000ZanzGAC\n",
      "adding url to list - https://domo-support.domo.com/s/article/360048925554\n",
      "adding url to list - https://domo-support.domo.com/s/article/360043437733\n",
      "adding url to list - https://domo-support.domo.com/s/article/360042932874\n",
      "adding url to list - https://domo-support.domo.com/s/article/360043437513\n",
      "adding url to list - https://domo-support.domo.com/s/article/360042932914\n",
      "adding url to list - https://domo-support.domo.com/s/article/360042932934\n",
      "adding url to list - https://domo-support.domo.com/s/article/360043437633\n",
      "adding url to list - https://domo-support.domo.com/s/article/360043437653\n",
      "adding url to list - https://domo-support.domo.com/s/article/360043437673\n",
      "adding url to list - https://domo-support.domo.com/s/article/360043437753\n",
      "adding url to list - https://domo-support.domo.com/s/article/1500003408882\n",
      "adding url to list - https://domo-support.domo.com/s/article/360043931734\n",
      "adding url to list - https://domo-support.domo.com/s/article/360043437693\n",
      "adding url to list - https://domo-support.domo.com/s/article/360048717414\n",
      "adding url to list - https://domo-support.domo.com/s/article/360042950534\n",
      "adding url to list - https://domo-support.domo.com/s/article/360043437713\n",
      "adding url to list - https://domo-support.domo.com/s/article/4412849158167\n",
      "adding url to list - https://domo-support.domo.com/s/article/360043437533\n",
      "adding url to list - https://domo-support.domo.com/s/article/360056727214\n",
      "adding url to list - https://domo-support.domo.com/s/article/360043440753\n",
      "adding url to list - https://domo-support.domo.com/s/article/4402322966807\n",
      "adding url to list - https://domo-support.domo.com/s/article/360044353933\n",
      "adding url to list - https://domo-support.domo.com/s/article/360048847833\n",
      "adding url to list - https://domo-support.domo.com/s/article/360042932974\n",
      "adding url to list - https://domo-support.domo.com/s/article/360042932954\n",
      "starting crawl - https://domo-support.domo.com/s/article/7872485267991\n"
     ]
    },
    {
     "name": "stderr",
     "output_type": "stream",
     "text": [
      "2023-02-08 06:48:19,940 INFO:Crawling: https://domo-support.domo.com/s/article/7440921035671\n"
     ]
    },
    {
     "name": "stdout",
     "output_type": "stream",
     "text": [
      "Timeout Exception: Page https://domo-support.domo.com/s/article/7872485267991 did not load within 10 seconds.\n",
      "search term slds-form-element does not exist in https://domo-support.domo.com/s/article/7872485267991\n",
      "starting crawl - https://domo-support.domo.com/s/article/7440921035671\n"
     ]
    },
    {
     "name": "stderr",
     "output_type": "stream",
     "text": [
      "2023-02-08 06:48:24,246 INFO:Crawling: https://domo-support.domo.com/s/article/360047400753\n"
     ]
    },
    {
     "name": "stdout",
     "output_type": "stream",
     "text": [
      "Page https://domo-support.domo.com/s/article/7440921035671 is loaded within 10 seconds.\n",
      "adding url to list - https://domo-support.domo.com/s/article/7440921035671\n",
      "outputting Jupyter Troubleshooting Guide to kb_md\\jupyter_troubleshooting_guide\n",
      "starting crawl - https://domo-support.domo.com/s/article/360047400753\n"
     ]
    },
    {
     "name": "stderr",
     "output_type": "stream",
     "text": [
      "2023-02-08 06:48:27,785 INFO:Crawling: https://domo-support.domo.com/s/topic/0TO5w000000ZanzGAC/other-connection-methods\n"
     ]
    },
    {
     "name": "stdout",
     "output_type": "stream",
     "text": [
      "Page https://domo-support.domo.com/s/article/360047400753 is loaded within 10 seconds.\n",
      "adding url to list - https://domo-support.domo.com/s/article/360047400753\n",
      "outputting Jupyter Workspaces to kb_md\\jupyter_workspaces\n",
      "starting crawl - https://domo-support.domo.com/s/topic/0TO5w000000ZanzGAC/other-connection-methods\n"
     ]
    },
    {
     "name": "stderr",
     "output_type": "stream",
     "text": [
      "2023-02-08 06:48:44,299 INFO:Crawling: https://domo-support.domo.com/s/article/360043429933\n"
     ]
    },
    {
     "name": "stdout",
     "output_type": "stream",
     "text": [
      "Timeout Exception: Page https://domo-support.domo.com/s/topic/0TO5w000000ZanzGAC/other-connection-methods did not load within 10 seconds.\n",
      "search term slds-form-element does not exist in https://domo-support.domo.com/s/topic/0TO5w000000ZanzGAC/other-connection-methods\n",
      "starting crawl - https://domo-support.domo.com/s/article/360043429933\n"
     ]
    },
    {
     "name": "stderr",
     "output_type": "stream",
     "text": [
      "2023-02-08 06:48:47,522 INFO:Crawling: https://domo-support.domo.com/s/article/360042925494\n"
     ]
    },
    {
     "name": "stdout",
     "output_type": "stream",
     "text": [
      "Page https://domo-support.domo.com/s/article/360043429933 is loaded within 10 seconds.\n",
      "adding url to list - https://domo-support.domo.com/s/topic/0TO5w000000ZanAGAS\n",
      "adding url to list - https://domo-support.domo.com/s/article/360043429933\n",
      "adding url to list - https://domo-support.domo.com/s/topic/0TO5w000000ZanAGAS/beast-mode\n",
      "outputting Beast Mode Functions Reference Guide to kb_md\\beast_mode_functions_reference_guide\n",
      "starting crawl - https://domo-support.domo.com/s/article/360042925494\n"
     ]
    },
    {
     "name": "stderr",
     "output_type": "stream",
     "text": [
      "2023-02-08 06:48:50,688 INFO:Crawling: https://domo-support.domo.com/s/article/360043429953\n"
     ]
    },
    {
     "name": "stdout",
     "output_type": "stream",
     "text": [
      "Page https://domo-support.domo.com/s/article/360042925494 is loaded within 10 seconds.\n",
      "adding url to list - https://domo-support.domo.com/s/article/360043430153\n",
      "adding url to list - https://domo-support.domo.com/s/article/360043429633\n",
      "adding url to list - https://domo-support.domo.com/s/article/360043428153\n",
      "adding url to list - https://domo-support.domo.com/s/article/360042925494\n",
      "outputting Sample Beast Mode Calculations: Date Transforms to kb_md\\sample_beast_mode_calculations:_date_transforms\n",
      "starting crawl - https://domo-support.domo.com/s/article/360043429953\n"
     ]
    },
    {
     "name": "stderr",
     "output_type": "stream",
     "text": [
      "2023-02-08 06:48:55,112 INFO:Crawling: https://domo-support.domo.com/s/article/360043429913\n"
     ]
    },
    {
     "name": "stdout",
     "output_type": "stream",
     "text": [
      "Page https://domo-support.domo.com/s/article/360043429953 is loaded within 10 seconds.\n",
      "adding url to list - https://domo-support.domo.com/s/article/360043429953\n",
      "outputting Date Format Specifier Characters for Beast Mode to kb_md\\date_format_specifier_characters_for_beast_mode\n",
      "starting crawl - https://domo-support.domo.com/s/article/360043429913\n"
     ]
    },
    {
     "name": "stderr",
     "output_type": "stream",
     "text": [
      "2023-02-08 06:48:58,684 INFO:Crawling: https://domo-support.domo.com/s/login/\n"
     ]
    },
    {
     "name": "stdout",
     "output_type": "stream",
     "text": [
      "Page https://domo-support.domo.com/s/article/360043429913 is loaded within 10 seconds.\n",
      "adding url to list - https://domo-support.domo.com/s/article/360042924034\n",
      "adding url to list - https://domo-support.domo.com/s/article/360042924094\n",
      "adding url to list - https://domo-support.domo.com/s/article/360043429993\n",
      "adding url to list - https://domo-support.domo.com/s/article/360043428753\n",
      "adding url to list - https://domo-support.domo.com/s/article/360043429913\n",
      "outputting Adding a Beast Mode Calculation to Your Chart to kb_md\\adding_a_beast_mode_calculation_to_your_chart\n",
      "starting crawl - https://domo-support.domo.com/s/login/\n"
     ]
    }
   ],
   "source": [
    "crawler = Crawler(urls_to_visit_ls=[URL], base_url=BASE_URL, output_folder=\"kb_md\")\n",
    "\n",
    "crawler.run(debug_prn=True)"
   ]
  }
 ],
 "metadata": {
  "kernelspec": {
   "display_name": "python3",
   "language": "python",
   "name": "python3"
  }
 },
 "nbformat": 4,
 "nbformat_minor": 2
}
