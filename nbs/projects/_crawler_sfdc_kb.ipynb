{
 "cells": [
  {
   "cell_type": "code",
   "execution_count": 1,
   "metadata": {},
   "outputs": [],
   "source": [
    "# use with local installs that don't have nbdev\n",
    "import sys\n",
    "sys.path.insert(0,\"../../\")"
   ]
  },
  {
   "cell_type": "code",
   "execution_count": 34,
   "metadata": {},
   "outputs": [
    {
     "name": "stdout",
     "output_type": "stream",
     "text": [
      "💤 loading https://domo-support.domo.com/s/article/360043429913 💤\n",
      "Page https://domo-support.domo.com/s/article/360043429913 is loaded within 10 seconds.\n"
     ]
    }
   ],
   "source": [
    "from selenium.webdriver.common.by import By\n",
    "import datacrew.crawler.crawler as dcc\n",
    "import datacrew.crawler.article as dca\n",
    "\n",
    "\n",
    "URL = \"https://domo-support.domo.com/s/article/360047400753?language=en_US\"\n",
    "URL = \"https://domo-support.domo.com/s/article/360043429913\"\n",
    "BASE_URL = \"https://domo-support.domo.com\"\n",
    "\n",
    "driver = dcc.driversetup(is_headless=False)\n",
    "\n",
    "test_article = dca.Article_KB(url = URL, driver = driver, base_url = BASE_URL)"
   ]
  },
  {
   "cell_type": "code",
   "execution_count": 26,
   "metadata": {},
   "outputs": [],
   "source": [
    "import re\n",
    "\n",
    "def convert_to_snake(text_str):\n",
    "    \"\"\"converts 'snake_case_str' to 'snakeCaseStr'\"\"\"\n",
    "\n",
    "    return text_str.replace(\" \", \"_\").lower()\n",
    "\n",
    "def clean_url_name( path_name):\n",
    "    valid_chars = r'[^a-zA-Z0-9_]'\n",
    "\n",
    "    return re.sub(valid_chars, '', path_name)"
   ]
  },
  {
   "cell_type": "code",
   "execution_count": 41,
   "metadata": {},
   "outputs": [
    {
     "name": "stdout",
     "output_type": "stream",
     "text": [
      "outputing 'Adding a Beast Mode Calculation to Your Chart' to ../../raw_kb\\adding_a_beast_mode_calculation_to_your_chart\n"
     ]
    },
    {
     "data": {
      "text/plain": [
       "'../../raw_kb\\\\adding_a_beast_mode_calculation_to_your_chart'"
      ]
     },
     "execution_count": 41,
     "metadata": {},
     "output_type": "execute_result"
    }
   ],
   "source": [
    "# import textwrap\n",
    "# from os import fdopen, remove\n",
    "# from shutil import move, copymode\n",
    "# from tempfile import mkstemp\n",
    "# import mdutils\n",
    "# import os\n",
    "# from mdutils.mdutils import MdUtils\n",
    "# import requests\n",
    "\n",
    "\n",
    "\n",
    "def download_img(image_url, image_path):\n",
    "    img_data = requests.get(image_url).content\n",
    "    with open(image_path, 'wb') as handler:\n",
    "        handler.write(img_data)\n",
    "\n",
    "\n",
    "def output_md(\n",
    "    article: dca.Article_KB, \n",
    "    output_folder: str = \"../../raw_kb\", \n",
    "    debug_prn: bool = False, \n",
    "):\n",
    "    article_title = article.title\n",
    "    \n",
    "    output_path = os.path.join(output_folder, clean_url_name(convert_to_snake(article_title)))\n",
    "\n",
    "    output_index = output_path\n",
    "\n",
    "    if not os.path.exists(output_path):\n",
    "        os.makedirs(output_path)\n",
    "\n",
    "    if debug_prn:\n",
    "        print(f\"outputing '{article_title}' to {output_path}\")\n",
    "\n",
    "    return output_path\n",
    "\n",
    "        \n",
    "\n",
    "test_article.get_images()\n",
    "output_md(article = test_article, debug_prn= True)\n"
   ]
  },
  {
   "cell_type": "code",
   "execution_count": 52,
   "metadata": {},
   "outputs": [
    {
     "data": {
      "text/plain": [
       "[{'url': 'https://domo-support.domo.com/servlet/rtaImage?eid=ka05w000001248e&feoid=00N5w00000Ri7BU&refid=0EM5w000005vOEH',\n",
       "  'relative_url': '/servlet/rtaImage?eid=ka05w000001248e&feoid=00N5w00000Ri7BU&refid=0EM5w000005vOEH',\n",
       "  'name': 'Beast_Mode_Dialog.jpg'},\n",
       " {'url': 'https://domo-support.domo.com/servlet/rtaImage?eid=ka05w000001248e&feoid=00N5w00000Ri7BU&refid=0EM5w000005vOEE',\n",
       "  'relative_url': '/servlet/rtaImage?eid=ka05w000001248e&feoid=00N5w00000Ri7BU&refid=0EM5w000005vOEE',\n",
       "  'name': ''},\n",
       " {'url': 'https://domo-support.domo.com/servlet/rtaImage?eid=ka05w000001248e&feoid=00N5w00000Ri7BU&refid=0EM5w000005vOED',\n",
       "  'relative_url': '/servlet/rtaImage?eid=ka05w000001248e&feoid=00N5w00000Ri7BU&refid=0EM5w000005vOED',\n",
       "  'name': 'Beast_Mode_Modal.png'},\n",
       " {'url': 'https://domo-support.domo.com/servlet/rtaImage?eid=ka05w000001248e&feoid=00N5w00000Ri7BU&refid=0EM5w000005vOEE',\n",
       "  'relative_url': '/servlet/rtaImage?eid=ka05w000001248e&feoid=00N5w00000Ri7BU&refid=0EM5w000005vOEE',\n",
       "  'name': ''},\n",
       " {'url': 'https://domo-support.domo.com/servlet/rtaImage?eid=ka05w000001248e&feoid=00N5w00000Ri7BU&refid=0EM5w000005vOEE',\n",
       "  'relative_url': '/servlet/rtaImage?eid=ka05w000001248e&feoid=00N5w00000Ri7BU&refid=0EM5w000005vOEE',\n",
       "  'name': ''}]"
      ]
     },
     "execution_count": 52,
     "metadata": {},
     "output_type": "execute_result"
    }
   ],
   "source": [
    "test_base_url = 'https://domo-support.domo.com/servlet/rtaImage'\n",
    "\n",
    "def get_images(article, test_base_url: str = None, debug_prn: bool = False):\n",
    "    \n",
    "    image_ls = [{\n",
    "           \"url\": f\"{BASE_URL if item.get('src').startswith('/') else ''}{item.get('src')}\",\n",
    "            \"relative_url\": item.get('src'),\n",
    "            \"name\": item.get('alt')} for item in article.soup.find_all('img')]\n",
    "\n",
    "    if test_base_url:\n",
    "        image_ls = [img for img in image_ls if img.get(\n",
    "            'url').startswith(test_base_url)]\n",
    "\n",
    "    \n",
    "    return image_ls\n",
    "\n",
    "get_images(test_article, test_base_url=test_base_url)\n"
   ]
  },
  {
   "cell_type": "code",
   "execution_count": null,
   "metadata": {},
   "outputs": [],
   "source": [
    "\n",
    "\n",
    "#     for img in article.image_ls:\n",
    "#         download_img(image_url=img.get('url'),\n",
    "#                      image_path=f\"{output_path}\\{img.get('name')}\")\n",
    "\n",
    "#         print(img.get('relative_url'))\n",
    "#         article.md_str = article.md_str.replace(img.get('relative_url'), img.get('name'))\n",
    "\n",
    "#     output_index = f\"{output_path}\\index\"\n",
    "\n",
    "# md_file = MdUtils(file_name=output_index)\n",
    "\n",
    "# md_file.write(article.md_str)\n",
    "\n",
    "# md_file.create_md_file()\n",
    "\n",
    "# frontmatter_obj = f\"\"\"---\n",
    "# title : {article.title}\n",
    "# url : {article.url}\n",
    "# linked_kbs :  { [ md_file.new_inline_link(link) for link in article.kb_url_ls]}\n",
    "# article_id : {article.article_id}\n",
    "# html : {article.kb_soup}\n",
    "# views : {article.views}\n",
    "# created_date : {str(article.created)}\n",
    "# last updated : {str(article.last_updated)}\n",
    "# ---\"\"\"\n",
    "\n",
    "# print(f'front_matter {output_index}')\n",
    "# add_frontmatter(data=frontmatter_obj, file_path=f\"{output_index}.md\")\n",
    "\n",
    "# qmd_path = f\"{output_index}.qmd\"\n",
    "\n",
    "# if os.path.exists(qmd_path):\n",
    "#     os.remove(qmd_path)\n",
    "\n",
    "# os.rename( f\"{output_index}.md\", qmd_path)\n"
   ]
  },
  {
   "cell_type": "code",
   "execution_count": 14,
   "metadata": {},
   "outputs": [],
   "source": [
    "def dedent_frontmatter(file_path):\n",
    "    # Create temp file\n",
    "    fh, abs_path = mkstemp()\n",
    "    with fdopen(fh, 'w') as new_file:\n",
    "        with open(file_path) as old_file:\n",
    "            count_frontmatter = 0\n",
    "            for line in old_file:\n",
    "                if count_frontmatter < 2:\n",
    "                    if '---' in line:\n",
    "                        count_frontmatter += 1\n",
    "                    new_file.write(textwrap.dedent(line))\n",
    "                else:\n",
    "                    new_file.write(line)\n",
    "    # Copy the file permissions from the old file to the new file\n",
    "    copymode(file_path, abs_path)\n",
    "    # Remove original file\n",
    "    remove(file_path)\n",
    "    # Move new file\n",
    "    move(abs_path, file_path)\n",
    "\n",
    "def add_frontmatter( data, file_path: str ):\n",
    "    with open(file_path, 'r+', encoding='utf-8') as md_file:\n",
    "        file_data = md_file.read()  # Save all the file's content\n",
    "        md_file.seek(0, 0)  # Place file pointer at the beginning     \n",
    "        md_file.write(data)   \n",
    "        md_file.write('\\n' + file_data)\n",
    "\n",
    "    dedent_frontmatter(file_path)\n",
    "    \n"
   ]
  },
  {
   "cell_type": "code",
   "execution_count": null,
   "metadata": {},
   "outputs": [],
   "source": [
    "import logging\n",
    "\n",
    "logging.basicConfig(\n",
    "    format='%(asctime)s %(levelname)s:%(message)s',\n",
    "    level=logging.INFO)\n",
    "\n",
    "\n",
    "class Crawler:\n",
    "    base_url: str\n",
    "    output_folder: str\n",
    "    urls_visited_ls: list[str]\n",
    "    urls_to_vist_ls: list[str]\n",
    "\n",
    "    driver: selenium.webdriver\n",
    "\n",
    "    def __init__(self,\n",
    "                 urls_to_visit_ls: list[str] = None,\n",
    "                 base_url=None,\n",
    "                 output_folder='../../raw_kb/',\n",
    "                 ):\n",
    "\n",
    "        self.base_url = base_url\n",
    "        self.output_folder = output_folder\n",
    "        self.urls_visited_ls = []\n",
    "        self.urls_to_visit_ls = urls_to_visit_ls\n",
    "        self.article_ls = []\n",
    "        self.driver = dcc.driversetup(is_headless=False)\n",
    "\n",
    "    def add_url_to_visit(self, url, debug_prn: bool = False):\n",
    "        if url not in self.urls_visited_ls and url not in self.urls_to_visit_ls:\n",
    "            if debug_prn:\n",
    "                print(f'adding url to list - {url}')\n",
    "\n",
    "            self.urls_to_visit_ls.append(url)\n",
    "\n",
    "    def crawl(self, url, debug_prn: bool = False):\n",
    "        if debug_prn:\n",
    "            print(f\"starting crawl - {url}\")\n",
    "\n",
    "        article = Article_KB(url=url, base_url=self.base_url, driver=driver)\n",
    "\n",
    "        for url in article.kb_url_ls:\n",
    "            self.add_url_to_visit(url=url, debug_prn=debug_prn)\n",
    "        \n",
    "        if article.is_success:\n",
    "            output_md(article=article, output_folder=self.output_folder,\n",
    "                    debug_prn=debug_prn)\n",
    "\n",
    "\n",
    "    def run(self, debug_prn: bool = False):\n",
    "        while self.urls_to_visit_ls:\n",
    "            url = self.urls_to_visit_ls.pop(0)\n",
    "\n",
    "            logging.info(f'Crawling: {url}')\n",
    "\n",
    "            try:\n",
    "                self.crawl(url, debug_prn)\n",
    "            except Exception:\n",
    "                logging.exception(f'Failed to crawl: {url}')\n",
    "            finally:\n",
    "                self.urls_visited_ls.append(url)\n",
    "\n",
    "        print('done')\n",
    "        return self\n"
   ]
  },
  {
   "cell_type": "code",
   "execution_count": null,
   "metadata": {},
   "outputs": [
    {
     "name": "stderr",
     "output_type": "stream",
     "text": [
      "2023-02-28 14:11:42,481 INFO:Crawling: https://domo-support.domo.com/s/article/360047400753?language=en_US\n"
     ]
    },
    {
     "name": "stdout",
     "output_type": "stream",
     "text": [
      "starting crawl - https://domo-support.domo.com/s/article/360047400753?language=en_US\n",
      "💤 loading https://domo-support.domo.com/s/article/360047400753?language=en_US 💤\n"
     ]
    },
    {
     "name": "stderr",
     "output_type": "stream",
     "text": [
      "2023-02-28 14:11:46,753 INFO:Crawling: https://domo-support.domo.com/s/knowledge-base/\n"
     ]
    },
    {
     "name": "stdout",
     "output_type": "stream",
     "text": [
      "Page https://domo-support.domo.com/s/article/360047400753?language=en_US is loaded within 10 seconds.\n",
      "adding url to list - https://domo-support.domo.com/s/knowledge-base/\n",
      "adding url to list - https://domo-support.domo.com/s/\n",
      "adding url to list - https://domo-support.domo.com/s/topic/0TO5w000000ZammGAC\n",
      "adding url to list - https://domo-support.domo.com/s/topic/0TO5w000000ZanzGAC\n",
      "adding url to list - https://domo-support.domo.com/s/article/7872485267991\n",
      "adding url to list - https://domo-support.domo.com/s/article/7440921035671\n",
      "adding url to list - https://domo-support.domo.com/s/article/360047400753\n",
      "adding url to list - https://domo-support.domo.com/s/topic/0TO5w000000ZanzGAC/other-connection-methods\n",
      "adding url to list - https://domo-support.domo.com/s/article/360043429933\n",
      "adding url to list - https://domo-support.domo.com/s/article/360042925494\n",
      "adding url to list - https://domo-support.domo.com/s/article/360043429953\n",
      "adding url to list - https://domo-support.domo.com/s/article/360043429913\n",
      "adding url to list - https://domo-support.domo.com/s/article/4408174643607\n",
      "adding url to list - https://domo-support.domo.com/s/login/\n",
      "outputting Jupyter Workspaces to ../../raw_kb\\jupyter_workspaces\n",
      "front_matter ../../raw_kb\\jupyter_workspaces\\index\n",
      "starting crawl - https://domo-support.domo.com/s/knowledge-base/\n",
      "💤 loading https://domo-support.domo.com/s/knowledge-base/ 💤\n"
     ]
    },
    {
     "name": "stderr",
     "output_type": "stream",
     "text": [
      "2023-02-28 14:12:04,300 INFO:Crawling: https://domo-support.domo.com/s/\n"
     ]
    },
    {
     "name": "stdout",
     "output_type": "stream",
     "text": [
      "Message: \n",
      "Stacktrace:\n",
      "Backtrace:\n",
      "\t(No symbol) [0x00CB37D3]\n",
      "\t(No symbol) [0x00C48B81]\n",
      "\t(No symbol) [0x00B4B36D]\n",
      "\t(No symbol) [0x00B7D382]\n",
      "\t(No symbol) [0x00B7D4BB]\n",
      "\t(No symbol) [0x00BB3302]\n",
      "\t(No symbol) [0x00B9B464]\n",
      "\t(No symbol) [0x00BB1215]\n",
      "\t(No symbol) [0x00B9B216]\n",
      "\t(No symbol) [0x00B70D97]\n",
      "\t(No symbol) [0x00B7253D]\n",
      "\tGetHandleVerifier [0x00F2ABF2+2510930]\n",
      "\tGetHandleVerifier [0x00F58EC1+2700065]\n",
      "\tGetHandleVerifier [0x00F5C86C+2714828]\n",
      "\tGetHandleVerifier [0x00D63480+645344]\n",
      "\t(No symbol) [0x00C50FD2]\n",
      "\t(No symbol) [0x00C56C68]\n",
      "\t(No symbol) [0x00C56D4B]\n",
      "\t(No symbol) [0x00C60D6B]\n",
      "\tBaseThreadInitThunk [0x776900F9+25]\n",
      "\tRtlGetAppContainerNamedObjectPath [0x77A67BBE+286]\n",
      "\tRtlGetAppContainerNamedObjectPath [0x77A67B8E+238]\n",
      "\n",
      "Timeout Exception: Page https://domo-support.domo.com/s/knowledge-base/ did not load within 10 seconds.\n",
      "search term slds-form-element does not exist in https://domo-support.domo.com/s/knowledge-base/\n",
      "adding url to list - https://domo-support.domo.com/s/knowledge-base/\n",
      "adding url to list - https://domo-support.domo.com/s/topic/0TO5w000000ZamsGAC\n",
      "adding url to list - https://domo-support.domo.com/s/topic/0TO5w000000ZamzGAC\n",
      "adding url to list - https://domo-support.domo.com/s/topic/0TO5w000000ZamoGAC\n",
      "adding url to list - https://domo-support.domo.com/s/topic/0TO5w000000ZamnGAC\n",
      "adding url to list - https://domo-support.domo.com/s/topic/0TO5w000000ZamlGAC\n",
      "adding url to list - https://domo-support.domo.com/s/topic/0TO5w000000ZamqGAC\n",
      "adding url to list - https://domo-support.domo.com/s/topic/0TO5w000000Zan0GAC\n",
      "adding url to list - https://domo-support.domo.com/s/topic/0TO5w000000Zan2GAC\n",
      "adding url to list - https://domo-support.domo.com/s/topic/0TO5w000000ZampGAC\n",
      "adding url to list - https://domo-support.domo.com/s/topic/0TO5w000000ZamwGAC\n",
      "adding url to list - https://domo-support.domo.com/s/topic/0TO5w000000Zan1GAC\n",
      "adding url to list - https://domo-support.domo.com/s/topic/0TO5w000000ZamyGAC\n",
      "starting crawl - https://domo-support.domo.com/s/\n",
      "💤 loading https://domo-support.domo.com/s/ 💤\n"
     ]
    },
    {
     "name": "stderr",
     "output_type": "stream",
     "text": [
      "2023-02-28 14:12:20,254 INFO:Crawling: https://domo-support.domo.com/s/topic/0TO5w000000ZammGAC\n"
     ]
    },
    {
     "name": "stdout",
     "output_type": "stream",
     "text": [
      "Message: \n",
      "Stacktrace:\n",
      "Backtrace:\n",
      "\t(No symbol) [0x00CB37D3]\n",
      "\t(No symbol) [0x00C48B81]\n",
      "\t(No symbol) [0x00B4B36D]\n",
      "\t(No symbol) [0x00B7D382]\n",
      "\t(No symbol) [0x00B7D4BB]\n",
      "\t(No symbol) [0x00BB3302]\n",
      "\t(No symbol) [0x00B9B464]\n",
      "\t(No symbol) [0x00BB1215]\n",
      "\t(No symbol) [0x00B9B216]\n",
      "\t(No symbol) [0x00B70D97]\n",
      "\t(No symbol) [0x00B7253D]\n",
      "\tGetHandleVerifier [0x00F2ABF2+2510930]\n",
      "\tGetHandleVerifier [0x00F58EC1+2700065]\n",
      "\tGetHandleVerifier [0x00F5C86C+2714828]\n",
      "\tGetHandleVerifier [0x00D63480+645344]\n",
      "\t(No symbol) [0x00C50FD2]\n",
      "\t(No symbol) [0x00C56C68]\n",
      "\t(No symbol) [0x00C56D4B]\n",
      "\t(No symbol) [0x00C60D6B]\n",
      "\tBaseThreadInitThunk [0x776900F9+25]\n",
      "\tRtlGetAppContainerNamedObjectPath [0x77A67BBE+286]\n",
      "\tRtlGetAppContainerNamedObjectPath [0x77A67B8E+238]\n",
      "\n",
      "Timeout Exception: Page https://domo-support.domo.com/s/ did not load within 10 seconds.\n",
      "search term slds-form-element does not exist in https://domo-support.domo.com/s/\n",
      "adding url to list - https://domo-support.domo.com/start/free\n",
      "starting crawl - https://domo-support.domo.com/s/topic/0TO5w000000ZammGAC\n",
      "💤 loading https://domo-support.domo.com/s/topic/0TO5w000000ZammGAC 💤\n"
     ]
    },
    {
     "name": "stderr",
     "output_type": "stream",
     "text": [
      "2023-02-28 14:12:36,684 INFO:Crawling: https://domo-support.domo.com/s/topic/0TO5w000000ZanzGAC\n"
     ]
    },
    {
     "name": "stdout",
     "output_type": "stream",
     "text": [
      "Message: \n",
      "Stacktrace:\n",
      "Backtrace:\n",
      "\t(No symbol) [0x00CB37D3]\n",
      "\t(No symbol) [0x00C48B81]\n",
      "\t(No symbol) [0x00B4B36D]\n",
      "\t(No symbol) [0x00B7D382]\n",
      "\t(No symbol) [0x00B7D4BB]\n",
      "\t(No symbol) [0x00BB3302]\n",
      "\t(No symbol) [0x00B9B464]\n",
      "\t(No symbol) [0x00BB1215]\n",
      "\t(No symbol) [0x00B9B216]\n",
      "\t(No symbol) [0x00B70D97]\n",
      "\t(No symbol) [0x00B7253D]\n",
      "\tGetHandleVerifier [0x00F2ABF2+2510930]\n",
      "\tGetHandleVerifier [0x00F58EC1+2700065]\n",
      "\tGetHandleVerifier [0x00F5C86C+2714828]\n",
      "\tGetHandleVerifier [0x00D63480+645344]\n",
      "\t(No symbol) [0x00C50FD2]\n",
      "\t(No symbol) [0x00C56C68]\n",
      "\t(No symbol) [0x00C56D4B]\n",
      "\t(No symbol) [0x00C60D6B]\n",
      "\tBaseThreadInitThunk [0x776900F9+25]\n",
      "\tRtlGetAppContainerNamedObjectPath [0x77A67BBE+286]\n",
      "\tRtlGetAppContainerNamedObjectPath [0x77A67B8E+238]\n",
      "\n",
      "Timeout Exception: Page https://domo-support.domo.com/s/topic/0TO5w000000ZammGAC did not load within 10 seconds.\n",
      "search term slds-form-element does not exist in https://domo-support.domo.com/s/topic/0TO5w000000ZammGAC\n",
      "adding url to list - https://domo-support.domo.com/s/topic/0TO5w000000ZanLGAS\n",
      "adding url to list - https://domo-support.domo.com/s/topic/0TO5w000000ZaoPGAS\n",
      "starting crawl - https://domo-support.domo.com/s/topic/0TO5w000000ZanzGAC\n",
      "💤 loading https://domo-support.domo.com/s/topic/0TO5w000000ZanzGAC 💤\n"
     ]
    },
    {
     "name": "stderr",
     "output_type": "stream",
     "text": [
      "2023-02-28 14:12:53,309 INFO:Crawling: https://domo-support.domo.com/s/article/7872485267991\n"
     ]
    },
    {
     "name": "stdout",
     "output_type": "stream",
     "text": [
      "Message: \n",
      "Stacktrace:\n",
      "Backtrace:\n",
      "\t(No symbol) [0x00CB37D3]\n",
      "\t(No symbol) [0x00C48B81]\n",
      "\t(No symbol) [0x00B4B36D]\n",
      "\t(No symbol) [0x00B7D382]\n",
      "\t(No symbol) [0x00B7D4BB]\n",
      "\t(No symbol) [0x00BB3302]\n",
      "\t(No symbol) [0x00B9B464]\n",
      "\t(No symbol) [0x00BB1215]\n",
      "\t(No symbol) [0x00B9B216]\n",
      "\t(No symbol) [0x00B70D97]\n",
      "\t(No symbol) [0x00B7253D]\n",
      "\tGetHandleVerifier [0x00F2ABF2+2510930]\n",
      "\tGetHandleVerifier [0x00F58EC1+2700065]\n",
      "\tGetHandleVerifier [0x00F5C86C+2714828]\n",
      "\tGetHandleVerifier [0x00D63480+645344]\n",
      "\t(No symbol) [0x00C50FD2]\n",
      "\t(No symbol) [0x00C56C68]\n",
      "\t(No symbol) [0x00C56D4B]\n",
      "\t(No symbol) [0x00C60D6B]\n",
      "\tBaseThreadInitThunk [0x776900F9+25]\n",
      "\tRtlGetAppContainerNamedObjectPath [0x77A67BBE+286]\n",
      "\tRtlGetAppContainerNamedObjectPath [0x77A67B8E+238]\n",
      "\n",
      "Timeout Exception: Page https://domo-support.domo.com/s/topic/0TO5w000000ZanzGAC did not load within 10 seconds.\n",
      "search term slds-form-element does not exist in https://domo-support.domo.com/s/topic/0TO5w000000ZanzGAC\n",
      "adding url to list - https://domo-support.domo.com/s/article/360048925554\n",
      "adding url to list - https://domo-support.domo.com/s/article/360043437733\n",
      "adding url to list - https://domo-support.domo.com/s/article/360042932874\n",
      "adding url to list - https://domo-support.domo.com/s/article/360043437513\n",
      "adding url to list - https://domo-support.domo.com/s/article/360042932914\n",
      "adding url to list - https://domo-support.domo.com/s/article/360042932934\n",
      "adding url to list - https://domo-support.domo.com/s/article/360043437633\n",
      "adding url to list - https://domo-support.domo.com/s/article/360043437653\n",
      "adding url to list - https://domo-support.domo.com/s/article/360043437673\n",
      "adding url to list - https://domo-support.domo.com/s/article/360043437753\n",
      "adding url to list - https://domo-support.domo.com/s/article/1500003408882\n",
      "adding url to list - https://domo-support.domo.com/s/article/360043931734\n",
      "adding url to list - https://domo-support.domo.com/s/article/360043437693\n",
      "adding url to list - https://domo-support.domo.com/s/article/360048717414\n",
      "adding url to list - https://domo-support.domo.com/s/article/360042950534\n",
      "adding url to list - https://domo-support.domo.com/s/article/360043437713\n",
      "adding url to list - https://domo-support.domo.com/s/article/4412849158167\n",
      "adding url to list - https://domo-support.domo.com/s/article/360043437533\n",
      "adding url to list - https://domo-support.domo.com/s/article/360056727214\n",
      "adding url to list - https://domo-support.domo.com/s/article/360043440753\n",
      "adding url to list - https://domo-support.domo.com/s/article/4402322966807\n",
      "adding url to list - https://domo-support.domo.com/s/article/360044353933\n",
      "adding url to list - https://domo-support.domo.com/s/article/360048847833\n",
      "adding url to list - https://domo-support.domo.com/s/article/360042932974\n",
      "adding url to list - https://domo-support.domo.com/s/article/360042932954\n",
      "starting crawl - https://domo-support.domo.com/s/article/7872485267991\n",
      "💤 loading https://domo-support.domo.com/s/article/7872485267991 💤\n"
     ]
    },
    {
     "name": "stderr",
     "output_type": "stream",
     "text": [
      "2023-02-28 14:13:09,546 INFO:Crawling: https://domo-support.domo.com/s/article/7440921035671\n"
     ]
    },
    {
     "name": "stdout",
     "output_type": "stream",
     "text": [
      "Message: \n",
      "Stacktrace:\n",
      "Backtrace:\n",
      "\t(No symbol) [0x00CB37D3]\n",
      "\t(No symbol) [0x00C48B81]\n",
      "\t(No symbol) [0x00B4B36D]\n",
      "\t(No symbol) [0x00B7D382]\n",
      "\t(No symbol) [0x00B7D4BB]\n",
      "\t(No symbol) [0x00BB3302]\n",
      "\t(No symbol) [0x00B9B464]\n",
      "\t(No symbol) [0x00BB1215]\n",
      "\t(No symbol) [0x00B9B216]\n",
      "\t(No symbol) [0x00B70D97]\n",
      "\t(No symbol) [0x00B7253D]\n",
      "\tGetHandleVerifier [0x00F2ABF2+2510930]\n",
      "\tGetHandleVerifier [0x00F58EC1+2700065]\n",
      "\tGetHandleVerifier [0x00F5C86C+2714828]\n",
      "\tGetHandleVerifier [0x00D63480+645344]\n",
      "\t(No symbol) [0x00C50FD2]\n",
      "\t(No symbol) [0x00C56C68]\n",
      "\t(No symbol) [0x00C56D4B]\n",
      "\t(No symbol) [0x00C60D6B]\n",
      "\tBaseThreadInitThunk [0x776900F9+25]\n",
      "\tRtlGetAppContainerNamedObjectPath [0x77A67BBE+286]\n",
      "\tRtlGetAppContainerNamedObjectPath [0x77A67B8E+238]\n",
      "\n",
      "Timeout Exception: Page https://domo-support.domo.com/s/article/7872485267991 did not load within 10 seconds.\n",
      "search term slds-form-element does not exist in https://domo-support.domo.com/s/article/7872485267991\n",
      "starting crawl - https://domo-support.domo.com/s/article/7440921035671\n",
      "💤 loading https://domo-support.domo.com/s/article/7440921035671 💤\n"
     ]
    },
    {
     "name": "stderr",
     "output_type": "stream",
     "text": [
      "2023-02-28 14:13:14,913 INFO:Crawling: https://domo-support.domo.com/s/article/360047400753\n"
     ]
    },
    {
     "name": "stdout",
     "output_type": "stream",
     "text": [
      "Page https://domo-support.domo.com/s/article/7440921035671 is loaded within 10 seconds.\n",
      "adding url to list - https://domo-support.domo.com/s/article/7440921035671\n",
      "outputting Jupyter Troubleshooting Guide to ../../raw_kb\\jupyter_troubleshooting_guide\n",
      "front_matter ../../raw_kb\\jupyter_troubleshooting_guide\\index\n",
      "starting crawl - https://domo-support.domo.com/s/article/360047400753\n",
      "💤 loading https://domo-support.domo.com/s/article/360047400753 💤\n",
      "Page https://domo-support.domo.com/s/article/360047400753 is loaded within 10 seconds.\n"
     ]
    },
    {
     "name": "stderr",
     "output_type": "stream",
     "text": [
      "2023-02-28 14:13:21,351 INFO:Crawling: https://domo-support.domo.com/s/topic/0TO5w000000ZanzGAC/other-connection-methods\n"
     ]
    },
    {
     "name": "stdout",
     "output_type": "stream",
     "text": [
      "adding url to list - https://domo-support.domo.com/s/article/360047400753\n",
      "outputting Jupyter Workspaces to ../../raw_kb\\jupyter_workspaces\n",
      "front_matter ../../raw_kb\\jupyter_workspaces\\index\n",
      "starting crawl - https://domo-support.domo.com/s/topic/0TO5w000000ZanzGAC/other-connection-methods\n",
      "💤 loading https://domo-support.domo.com/s/topic/0TO5w000000ZanzGAC/other-connection-methods 💤\n"
     ]
    },
    {
     "name": "stderr",
     "output_type": "stream",
     "text": [
      "2023-02-28 14:13:37,590 INFO:Crawling: https://domo-support.domo.com/s/article/360043429933\n"
     ]
    },
    {
     "name": "stdout",
     "output_type": "stream",
     "text": [
      "Message: \n",
      "Stacktrace:\n",
      "Backtrace:\n",
      "\t(No symbol) [0x00CB37D3]\n",
      "\t(No symbol) [0x00C48B81]\n",
      "\t(No symbol) [0x00B4B36D]\n",
      "\t(No symbol) [0x00B7D382]\n",
      "\t(No symbol) [0x00B7D4BB]\n",
      "\t(No symbol) [0x00BB3302]\n",
      "\t(No symbol) [0x00B9B464]\n",
      "\t(No symbol) [0x00BB1215]\n",
      "\t(No symbol) [0x00B9B216]\n",
      "\t(No symbol) [0x00B70D97]\n",
      "\t(No symbol) [0x00B7253D]\n",
      "\tGetHandleVerifier [0x00F2ABF2+2510930]\n",
      "\tGetHandleVerifier [0x00F58EC1+2700065]\n",
      "\tGetHandleVerifier [0x00F5C86C+2714828]\n",
      "\tGetHandleVerifier [0x00D63480+645344]\n",
      "\t(No symbol) [0x00C50FD2]\n",
      "\t(No symbol) [0x00C56C68]\n",
      "\t(No symbol) [0x00C56D4B]\n",
      "\t(No symbol) [0x00C60D6B]\n",
      "\tBaseThreadInitThunk [0x776900F9+25]\n",
      "\tRtlGetAppContainerNamedObjectPath [0x77A67BBE+286]\n",
      "\tRtlGetAppContainerNamedObjectPath [0x77A67B8E+238]\n",
      "\n",
      "Timeout Exception: Page https://domo-support.domo.com/s/topic/0TO5w000000ZanzGAC/other-connection-methods did not load within 10 seconds.\n",
      "search term slds-form-element does not exist in https://domo-support.domo.com/s/topic/0TO5w000000ZanzGAC/other-connection-methods\n",
      "starting crawl - https://domo-support.domo.com/s/article/360043429933\n",
      "💤 loading https://domo-support.domo.com/s/article/360043429933 💤\n"
     ]
    },
    {
     "name": "stderr",
     "output_type": "stream",
     "text": [
      "2023-02-28 14:13:41,982 INFO:Crawling: https://domo-support.domo.com/s/article/360042925494\n"
     ]
    },
    {
     "name": "stdout",
     "output_type": "stream",
     "text": [
      "Page https://domo-support.domo.com/s/article/360043429933 is loaded within 10 seconds.\n",
      "adding url to list - https://domo-support.domo.com/s/topic/0TO5w000000ZanAGAS\n",
      "adding url to list - https://domo-support.domo.com/s/article/360043429933\n",
      "adding url to list - https://domo-support.domo.com/s/topic/0TO5w000000ZanAGAS/beast-mode\n",
      "outputting Beast Mode Functions Reference Guide to ../../raw_kb\\beast_mode_functions_reference_guide\n",
      "front_matter ../../raw_kb\\beast_mode_functions_reference_guide\\index\n",
      "starting crawl - https://domo-support.domo.com/s/article/360042925494\n",
      "💤 loading https://domo-support.domo.com/s/article/360042925494 💤\n"
     ]
    },
    {
     "name": "stderr",
     "output_type": "stream",
     "text": [
      "2023-02-28 14:13:46,404 ERROR:Failed to crawl: https://domo-support.domo.com/s/article/360042925494\n",
      "Traceback (most recent call last):\n",
      "  File \"C:\\Users\\jwilson1\\AppData\\Local\\Temp\\1\\ipykernel_28132\\2252317843.py\", line 57, in run\n",
      "    self.crawl(url, debug_prn)\n",
      "  File \"C:\\Users\\jwilson1\\AppData\\Local\\Temp\\1\\ipykernel_28132\\2252317843.py\", line 46, in crawl\n",
      "    output_md(article=article, output_folder=self.output_folder,\n",
      "  File \"C:\\Users\\jwilson1\\AppData\\Local\\Temp\\1\\ipykernel_28132\\519131968.py\", line 68, in output_md\n",
      "    os.makedirs(output_path)\n",
      "  File \"c:\\Users\\jwilson1\\Miniconda3\\lib\\os.py\", line 225, in makedirs\n",
      "    mkdir(name, mode)\n",
      "NotADirectoryError: [WinError 267] The directory name is invalid: '../../raw_kb\\\\sample_beast_mode_calculations:_date_transforms'\n",
      "2023-02-28 14:13:46,405 INFO:Crawling: https://domo-support.domo.com/s/article/360043429953\n"
     ]
    },
    {
     "name": "stdout",
     "output_type": "stream",
     "text": [
      "Page https://domo-support.domo.com/s/article/360042925494 is loaded within 10 seconds.\n",
      "adding url to list - https://domo-support.domo.com/s/article/360043430153\n",
      "adding url to list - https://domo-support.domo.com/s/article/360043429633\n",
      "adding url to list - https://domo-support.domo.com/s/article/360043428153\n",
      "adding url to list - https://domo-support.domo.com/s/article/360042925494\n",
      "outputting Sample Beast Mode Calculations: Date Transforms to ../../raw_kb\\sample_beast_mode_calculations:_date_transforms\n",
      "starting crawl - https://domo-support.domo.com/s/article/360043429953\n",
      "💤 loading https://domo-support.domo.com/s/article/360043429953 💤\n"
     ]
    },
    {
     "name": "stderr",
     "output_type": "stream",
     "text": [
      "2023-02-28 14:13:51,751 INFO:Crawling: https://domo-support.domo.com/s/article/360043429913\n"
     ]
    },
    {
     "name": "stdout",
     "output_type": "stream",
     "text": [
      "Page https://domo-support.domo.com/s/article/360043429953 is loaded within 10 seconds.\n",
      "adding url to list - https://domo-support.domo.com/s/article/360043429953\n",
      "outputting Date Format Specifier Characters for Beast Mode to ../../raw_kb\\date_format_specifier_characters_for_beast_mode\n",
      "front_matter ../../raw_kb\\date_format_specifier_characters_for_beast_mode\\index\n",
      "starting crawl - https://domo-support.domo.com/s/article/360043429913\n",
      "💤 loading https://domo-support.domo.com/s/article/360043429913 💤\n"
     ]
    },
    {
     "name": "stderr",
     "output_type": "stream",
     "text": [
      "2023-02-28 14:13:56,048 INFO:Crawling: https://domo-support.domo.com/s/article/4408174643607\n"
     ]
    },
    {
     "name": "stdout",
     "output_type": "stream",
     "text": [
      "Page https://domo-support.domo.com/s/article/360043429913 is loaded within 10 seconds.\n",
      "adding url to list - https://domo-support.domo.com/s/article/360042924034\n",
      "adding url to list - https://domo-support.domo.com/s/article/360042924094\n",
      "adding url to list - https://domo-support.domo.com/s/article/360043429993\n",
      "adding url to list - https://domo-support.domo.com/s/article/360043428753\n",
      "adding url to list - https://domo-support.domo.com/s/article/360043429913\n",
      "outputting Adding a Beast Mode Calculation to Your Chart to ../../raw_kb\\adding_a_beast_mode_calculation_to_your_chart\n",
      "front_matter ../../raw_kb\\adding_a_beast_mode_calculation_to_your_chart\\index\n",
      "starting crawl - https://domo-support.domo.com/s/article/4408174643607\n",
      "💤 loading https://domo-support.domo.com/s/article/4408174643607 💤\n"
     ]
    },
    {
     "name": "stderr",
     "output_type": "stream",
     "text": [
      "2023-02-28 14:14:00,349 INFO:Crawling: https://domo-support.domo.com/s/login/\n"
     ]
    },
    {
     "name": "stdout",
     "output_type": "stream",
     "text": [
      "Page https://domo-support.domo.com/s/article/4408174643607 is loaded within 10 seconds.\n",
      "adding url to list - https://domo-support.domo.com/s/article/4408174643607\n",
      "outputting Beast Mode FIXED Functions to ../../raw_kb\\beast_mode_fixed_functions\n",
      "front_matter ../../raw_kb\\beast_mode_fixed_functions\\index\n",
      "starting crawl - https://domo-support.domo.com/s/login/\n",
      "💤 loading https://domo-support.domo.com/s/login/ 💤\n"
     ]
    },
    {
     "name": "stderr",
     "output_type": "stream",
     "text": [
      "2023-02-28 14:14:17,496 INFO:Crawling: https://domo-support.domo.com/s/knowledge-base/\n"
     ]
    },
    {
     "name": "stdout",
     "output_type": "stream",
     "text": [
      "Message: \n",
      "Stacktrace:\n",
      "Backtrace:\n",
      "\t(No symbol) [0x00CB37D3]\n",
      "\t(No symbol) [0x00C48B81]\n",
      "\t(No symbol) [0x00B4B36D]\n",
      "\t(No symbol) [0x00B7D382]\n",
      "\t(No symbol) [0x00B7D4BB]\n",
      "\t(No symbol) [0x00BB3302]\n",
      "\t(No symbol) [0x00B9B464]\n",
      "\t(No symbol) [0x00BB1215]\n",
      "\t(No symbol) [0x00B9B216]\n",
      "\t(No symbol) [0x00B70D97]\n",
      "\t(No symbol) [0x00B7253D]\n",
      "\tGetHandleVerifier [0x00F2ABF2+2510930]\n",
      "\tGetHandleVerifier [0x00F58EC1+2700065]\n",
      "\tGetHandleVerifier [0x00F5C86C+2714828]\n",
      "\tGetHandleVerifier [0x00D63480+645344]\n",
      "\t(No symbol) [0x00C50FD2]\n",
      "\t(No symbol) [0x00C56C68]\n",
      "\t(No symbol) [0x00C56D4B]\n",
      "\t(No symbol) [0x00C60D6B]\n",
      "\tBaseThreadInitThunk [0x776900F9+25]\n",
      "\tRtlGetAppContainerNamedObjectPath [0x77A67BBE+286]\n",
      "\tRtlGetAppContainerNamedObjectPath [0x77A67B8E+238]\n",
      "\n",
      "Timeout Exception: Page https://domo-support.domo.com/s/login/ did not load within 10 seconds.\n",
      "search term slds-form-element does not exist in https://domo-support.domo.com/s/login/\n",
      "starting crawl - https://domo-support.domo.com/s/knowledge-base/\n",
      "💤 loading https://domo-support.domo.com/s/knowledge-base/ 💤\n"
     ]
    },
    {
     "name": "stderr",
     "output_type": "stream",
     "text": [
      "2023-02-28 14:14:33,876 INFO:Crawling: https://domo-support.domo.com/s/topic/0TO5w000000ZamsGAC\n"
     ]
    },
    {
     "name": "stdout",
     "output_type": "stream",
     "text": [
      "Message: \n",
      "Stacktrace:\n",
      "Backtrace:\n",
      "\t(No symbol) [0x00CB37D3]\n",
      "\t(No symbol) [0x00C48B81]\n",
      "\t(No symbol) [0x00B4B36D]\n",
      "\t(No symbol) [0x00B7D382]\n",
      "\t(No symbol) [0x00B7D4BB]\n",
      "\t(No symbol) [0x00BB3302]\n",
      "\t(No symbol) [0x00B9B464]\n",
      "\t(No symbol) [0x00BB1215]\n",
      "\t(No symbol) [0x00B9B216]\n",
      "\t(No symbol) [0x00B70D97]\n",
      "\t(No symbol) [0x00B7253D]\n",
      "\tGetHandleVerifier [0x00F2ABF2+2510930]\n",
      "\tGetHandleVerifier [0x00F58EC1+2700065]\n",
      "\tGetHandleVerifier [0x00F5C86C+2714828]\n",
      "\tGetHandleVerifier [0x00D63480+645344]\n",
      "\t(No symbol) [0x00C50FD2]\n",
      "\t(No symbol) [0x00C56C68]\n",
      "\t(No symbol) [0x00C56D4B]\n",
      "\t(No symbol) [0x00C60D6B]\n",
      "\tBaseThreadInitThunk [0x776900F9+25]\n",
      "\tRtlGetAppContainerNamedObjectPath [0x77A67BBE+286]\n",
      "\tRtlGetAppContainerNamedObjectPath [0x77A67B8E+238]\n",
      "\n",
      "Timeout Exception: Page https://domo-support.domo.com/s/knowledge-base/ did not load within 10 seconds.\n",
      "search term slds-form-element does not exist in https://domo-support.domo.com/s/knowledge-base/\n",
      "starting crawl - https://domo-support.domo.com/s/topic/0TO5w000000ZamsGAC\n",
      "💤 loading https://domo-support.domo.com/s/topic/0TO5w000000ZamsGAC 💤\n"
     ]
    },
    {
     "ename": "KeyboardInterrupt",
     "evalue": "",
     "output_type": "error",
     "traceback": [
      "\u001b[1;31m---------------------------------------------------------------------------\u001b[0m",
      "\u001b[1;31mKeyboardInterrupt\u001b[0m                         Traceback (most recent call last)",
      "Cell \u001b[1;32mIn[21], line 3\u001b[0m\n\u001b[0;32m      1\u001b[0m crawler \u001b[39m=\u001b[39m Crawler(urls_to_visit_ls\u001b[39m=\u001b[39m[URL], base_url\u001b[39m=\u001b[39mBASE_URL, output_folder\u001b[39m=\u001b[39m\u001b[39m\"\u001b[39m\u001b[39m../../raw_kb\u001b[39m\u001b[39m\"\u001b[39m)\n\u001b[1;32m----> 3\u001b[0m crawler\u001b[39m.\u001b[39;49mrun(debug_prn\u001b[39m=\u001b[39;49m\u001b[39mTrue\u001b[39;49;00m)\n",
      "Cell \u001b[1;32mIn[18], line 57\u001b[0m, in \u001b[0;36mCrawler.run\u001b[1;34m(self, debug_prn)\u001b[0m\n\u001b[0;32m     54\u001b[0m logging\u001b[39m.\u001b[39minfo(\u001b[39mf\u001b[39m\u001b[39m'\u001b[39m\u001b[39mCrawling: \u001b[39m\u001b[39m{\u001b[39;00murl\u001b[39m}\u001b[39;00m\u001b[39m'\u001b[39m)\n\u001b[0;32m     56\u001b[0m \u001b[39mtry\u001b[39;00m:\n\u001b[1;32m---> 57\u001b[0m     \u001b[39mself\u001b[39;49m\u001b[39m.\u001b[39;49mcrawl(url, debug_prn)\n\u001b[0;32m     58\u001b[0m \u001b[39mexcept\u001b[39;00m \u001b[39mException\u001b[39;00m:\n\u001b[0;32m     59\u001b[0m     logging\u001b[39m.\u001b[39mexception(\u001b[39mf\u001b[39m\u001b[39m'\u001b[39m\u001b[39mFailed to crawl: \u001b[39m\u001b[39m{\u001b[39;00murl\u001b[39m}\u001b[39;00m\u001b[39m'\u001b[39m)\n",
      "Cell \u001b[1;32mIn[18], line 40\u001b[0m, in \u001b[0;36mCrawler.crawl\u001b[1;34m(self, url, debug_prn)\u001b[0m\n\u001b[0;32m     37\u001b[0m \u001b[39mif\u001b[39;00m debug_prn:\n\u001b[0;32m     38\u001b[0m     \u001b[39mprint\u001b[39m(\u001b[39mf\u001b[39m\u001b[39m\"\u001b[39m\u001b[39mstarting crawl - \u001b[39m\u001b[39m{\u001b[39;00murl\u001b[39m}\u001b[39;00m\u001b[39m\"\u001b[39m)\n\u001b[1;32m---> 40\u001b[0m article \u001b[39m=\u001b[39m Article_KB(url\u001b[39m=\u001b[39;49murl, base_url\u001b[39m=\u001b[39;49m\u001b[39mself\u001b[39;49m\u001b[39m.\u001b[39;49mbase_url, driver\u001b[39m=\u001b[39;49mdriver)\n\u001b[0;32m     42\u001b[0m \u001b[39mfor\u001b[39;00m url \u001b[39min\u001b[39;00m article\u001b[39m.\u001b[39mkb_url_ls:\n\u001b[0;32m     43\u001b[0m     \u001b[39mself\u001b[39m\u001b[39m.\u001b[39madd_url_to_visit(url\u001b[39m=\u001b[39murl, debug_prn\u001b[39m=\u001b[39mdebug_prn)\n",
      "Cell \u001b[1;32mIn[6], line 44\u001b[0m, in \u001b[0;36mArticle_KB.__init__\u001b[1;34m(self, url, base_url, driver)\u001b[0m\n\u001b[0;32m     41\u001b[0m \u001b[39mself\u001b[39m\u001b[39m.\u001b[39mbase_url \u001b[39m=\u001b[39m base_url\n\u001b[0;32m     42\u001b[0m \u001b[39mself\u001b[39m\u001b[39m.\u001b[39mdriver \u001b[39m=\u001b[39m driver\n\u001b[1;32m---> 44\u001b[0m soup \u001b[39m=\u001b[39m dcc\u001b[39m.\u001b[39;49mpagesource(driver\u001b[39m=\u001b[39;49m\u001b[39mself\u001b[39;49m\u001b[39m.\u001b[39;49mdriver, url\u001b[39m=\u001b[39;49m\u001b[39mself\u001b[39;49m\u001b[39m.\u001b[39;49murl,\n\u001b[0;32m     45\u001b[0m                       element_type\u001b[39m=\u001b[39;49mBy\u001b[39m.\u001b[39;49mCLASS_NAME, element_id\u001b[39m=\u001b[39;49m\u001b[39m\"\u001b[39;49m\u001b[39mslds-form-element\u001b[39;49m\u001b[39m\"\u001b[39;49m)\n\u001b[0;32m     47\u001b[0m \u001b[39mif\u001b[39;00m \u001b[39mnot\u001b[39;00m soup:\n\u001b[0;32m     48\u001b[0m     \u001b[39mraise\u001b[39;00m ArticleKB_GetSoupError(url \u001b[39m=\u001b[39m \u001b[39mself\u001b[39m\u001b[39m.\u001b[39murl)\n",
      "File \u001b[1;32mc:\\Users\\jwilson1\\GitHub\\datacrew\\nbs\\projects\\../..\\datacrew\\crawler\\crawler.py:97\u001b[0m, in \u001b[0;36mpagesource\u001b[1;34m(url, element_id, element_type, driver)\u001b[0m\n\u001b[0;32m     94\u001b[0m driver\u001b[39m.\u001b[39mget(url)\n\u001b[0;32m     96\u001b[0m \u001b[39mtry\u001b[39;00m:\n\u001b[1;32m---> 97\u001b[0m     ele \u001b[39m=\u001b[39m WebDriverWait(driver, timeout\u001b[39m=\u001b[39;49m\u001b[39m15\u001b[39;49m, poll_frequency\u001b[39m=\u001b[39;49m\u001b[39m1\u001b[39;49m)\u001b[39m.\u001b[39;49muntil(\n\u001b[0;32m     98\u001b[0m         EC\u001b[39m.\u001b[39;49mpresence_of_element_located(\n\u001b[0;32m     99\u001b[0m             (element_type, element_id))\n\u001b[0;32m    100\u001b[0m     )\n\u001b[0;32m    101\u001b[0m     \u001b[39mprint\u001b[39m(\u001b[39mf\u001b[39m\u001b[39m\"\u001b[39m\u001b[39mPage \u001b[39m\u001b[39m{\u001b[39;00murl\u001b[39m}\u001b[39;00m\u001b[39m is loaded within 10 seconds.\u001b[39m\u001b[39m\"\u001b[39m)\n\u001b[0;32m    103\u001b[0m \u001b[39mexcept\u001b[39;00m \u001b[39mException\u001b[39;00m \u001b[39mas\u001b[39;00m e:\n",
      "File \u001b[1;32mc:\\Users\\jwilson1\\Miniconda3\\lib\\site-packages\\selenium\\webdriver\\support\\wait.py:92\u001b[0m, in \u001b[0;36mWebDriverWait.until\u001b[1;34m(self, method, message)\u001b[0m\n\u001b[0;32m     90\u001b[0m     screen \u001b[39m=\u001b[39m \u001b[39mgetattr\u001b[39m(exc, \u001b[39m\"\u001b[39m\u001b[39mscreen\u001b[39m\u001b[39m\"\u001b[39m, \u001b[39mNone\u001b[39;00m)\n\u001b[0;32m     91\u001b[0m     stacktrace \u001b[39m=\u001b[39m \u001b[39mgetattr\u001b[39m(exc, \u001b[39m\"\u001b[39m\u001b[39mstacktrace\u001b[39m\u001b[39m\"\u001b[39m, \u001b[39mNone\u001b[39;00m)\n\u001b[1;32m---> 92\u001b[0m time\u001b[39m.\u001b[39;49msleep(\u001b[39mself\u001b[39;49m\u001b[39m.\u001b[39;49m_poll)\n\u001b[0;32m     93\u001b[0m \u001b[39mif\u001b[39;00m time\u001b[39m.\u001b[39mmonotonic() \u001b[39m>\u001b[39m end_time:\n\u001b[0;32m     94\u001b[0m     \u001b[39mbreak\u001b[39;00m\n",
      "\u001b[1;31mKeyboardInterrupt\u001b[0m: "
     ]
    }
   ],
   "source": [
    "crawler = Crawler(urls_to_visit_ls=[URL], base_url=BASE_URL, output_folder=\"../../raw_kb\")\n",
    "\n",
    "crawler.run(debug_prn=True)"
   ]
  }
 ],
 "metadata": {
  "kernelspec": {
   "display_name": "base",
   "language": "python",
   "name": "python3"
  },
  "language_info": {
   "codemirror_mode": {
    "name": "ipython",
    "version": 3
   },
   "file_extension": ".py",
   "mimetype": "text/x-python",
   "name": "python",
   "nbconvert_exporter": "python",
   "pygments_lexer": "ipython3",
   "version": "3.9.12"
  },
  "vscode": {
   "interpreter": {
    "hash": "b43e631a983881eee635638ba8d16a40e1a13e8bbb48ce0aff152a316858538a"
   }
  }
 },
 "nbformat": 4,
 "nbformat_minor": 2
}
