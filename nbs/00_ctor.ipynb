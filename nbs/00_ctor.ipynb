{
 "cells": [
  {
   "cell_type": "raw",
   "metadata": {},
   "source": [
    "---\n",
    "description: Default description (change me)\n",
    "output-file: ctor.html\n",
    "title: CTOR\n",
    "\n",
    "---\n",
    "\n"
   ]
  },
  {
   "cell_type": "code",
   "execution_count": 1,
   "metadata": {},
   "outputs": [],
   "source": [
    "#| default_exp ctor"
   ]
  },
  {
   "cell_type": "code",
   "execution_count": 2,
   "metadata": {},
   "outputs": [],
   "source": [
    "#| export\n",
    "import logging\n",
    "\n",
    "logging.basicConfig(level=logging.DEBUG)"
   ]
  },
  {
   "cell_type": "code",
   "execution_count": 3,
   "metadata": {},
   "outputs": [],
   "source": [
    "#| export\n",
    "logger = logging.getLogger(__name__)"
   ]
  },
  {
   "cell_type": "code",
   "execution_count": 4,
   "metadata": {},
   "outputs": [],
   "source": [
    "#| export\n",
    "class MDDoc:\n",
    "\n",
    "    COMMENT_BEGIN_FLAG = '<__COMMENT__BEGIN__FLAG__>'\n",
    "\n",
    "    def __init__(self):\n",
    "        self.md_struct = list()\n",
    "\n",
    "    def line(self, content):\n",
    "        self.md_struct.append(content + '\\n')\n",
    "\n",
    "    def br(self):\n",
    "        self.line('')\n",
    "\n",
    "    def block(self, content):\n",
    "        self.line(content)\n",
    "        self.br()\n",
    "\n",
    "    def italic(self, content):\n",
    "        self.block('*{0}*'.format(content))\n",
    "\n",
    "    def bold(self, content):\n",
    "        self.block('**{0}**'.format(content))\n",
    "\n",
    "    def text(self, content):\n",
    "        self.block(content)\n",
    "\n",
    "    def hr(self):\n",
    "        # self.block('----------------')\n",
    "        pass\n",
    "\n",
    "    def title(self, content, level=1):\n",
    "        self.block('#'*level + ' ' + content)\n",
    "\n",
    "    def table(self, columns_name, rows):\n",
    "        self.line('|{0}|'.format('|'.join(columns_name)))\n",
    "        self.line('---'.join(list('|'*(len(columns_name) + 1))))\n",
    "        if rows:\n",
    "            for i in rows:\n",
    "                self.line('|{0}|'.format('|'.join(i)))\n",
    "        else:\n",
    "            self.line('|'*(len(columns_name) + 1))\n",
    "        self.br()\n",
    "\n",
    "    def code_block(self, code, language=''):\n",
    "        self.line('```{0}'.format(language))\n",
    "        for i in code.split('\\n'):\n",
    "            self.line(i.replace('\\n', ''))\n",
    "        self.line('```')\n",
    "        self.br()\n",
    "\n",
    "    def comment_begin(self, origin=None):\n",
    "        if origin:\n",
    "            logger.debug('comment_begin: %s', origin)\n",
    "        else:\n",
    "            logger.debug('comment_begin')\n",
    "\n",
    "        self.line(self.COMMENT_BEGIN_FLAG)\n",
    "\n",
    "    def comment_end(self, origin=None):\n",
    "        if origin:\n",
    "            logger.debug('comment_end: %s', origin)\n",
    "        else:\n",
    "            logger.debug('comment_end')\n",
    "\n",
    "        i = -1\n",
    "        while True:\n",
    "            if self.md_struct[i].startswith(self.COMMENT_BEGIN_FLAG):\n",
    "                self.md_struct[i] = '> \\n'\n",
    "                break\n",
    "            self.md_struct[i] = '> ' + self.md_struct[i]\n",
    "            i -= 1\n",
    "        self.br()\n",
    "\n",
    "    def output(self):\n",
    "        self.hr()\n",
    "        self.block(\"Generated with [Postdown][PyPI].\")\n",
    "        # It is apprporiate that credit is given to the postman tool with a link to the original URL of Titor, but adding an author just makes it looks like Titor is the author of the API.\n",
    "        # self.block(\"Author: [Titor](https://github.com/TitorX)\")\n",
    "        self.line('[PyPI]:    https://pypi.python.org/pypi/Postdown')\n",
    "        return ''.join(self.md_struct)"
   ]
  }
 ],
 "metadata": {
  "jupytext": {
   "split_at_heading": true
  },
  "kernelspec": {
   "display_name": "Python 3",
   "language": "python",
   "name": "python3"
  },
  "language_info": {
   "codemirror_mode": {
    "name": "ipython",
    "version": 3
   },
   "file_extension": ".py",
   "mimetype": "text/x-python",
   "name": "python",
   "nbconvert_exporter": "python",
   "pygments_lexer": "ipython3",
   "version": "3.10.4"
  },
  "vscode": {
   "interpreter": {
    "hash": "3ad933181bd8a04b432d3370b9dc3b0662ad032c4dfaa4e4f1596c548f763858"
   }
  }
 },
 "nbformat": 4,
 "nbformat_minor": 4
}
