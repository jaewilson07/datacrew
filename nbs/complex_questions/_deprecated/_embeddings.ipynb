{
 "cells": [
  {
   "cell_type": "code",
   "execution_count": 1,
   "metadata": {},
   "outputs": [],
   "source": [
    "# !pip install -qU langchain tiktoken matplotlib seaborn tqdm unstructured\n"
   ]
  },
  {
   "cell_type": "code",
   "execution_count": 2,
   "metadata": {},
   "outputs": [],
   "source": [
    "CHUNK_SIZE = 100 # number of records per document\n",
    "TOKEN_CHUNK_SIZE = 400 #approximately number of words in chunk"
   ]
  },
  {
   "attachments": {},
   "cell_type": "markdown",
   "metadata": {},
   "source": [
    "generate list of all the index.html files in article folder"
   ]
  },
  {
   "cell_type": "code",
   "execution_count": 3,
   "metadata": {},
   "outputs": [
    {
     "data": {
      "text/plain": [
       "['../../raw_kb/article/10000ft_connector/index.html',\n",
       " '../../raw_kb/article/100_percent_stacked_bar_chart/index.html',\n",
       " '../../raw_kb/article/100_percent_stacked_bar_with_line_chart/index.html',\n",
       " '../../raw_kb/article/3metric_bar_charts/index.html',\n",
       " '../../raw_kb/article/about_partition_connectors/index.html']"
      ]
     },
     "execution_count": 3,
     "metadata": {},
     "output_type": "execute_result"
    }
   ],
   "source": [
    "import os\n",
    "file_ls =[f\"{r}/{file}\" for r, d, f in os.walk(\"../../raw_kb/article/\") for file in f if file.endswith(\"index.html\")]\n",
    "\n",
    "# print a subset of items\n",
    "file_ls[0:5]\n",
    "            "
   ]
  },
  {
   "attachments": {},
   "cell_type": "markdown",
   "metadata": {},
   "source": [
    "use `divide_chunks` to split the `file_ls` into a more manageable number of documents to process at a time."
   ]
  },
  {
   "cell_type": "code",
   "execution_count": 4,
   "metadata": {},
   "outputs": [
    {
     "data": {
      "text/plain": [
       "17"
      ]
     },
     "execution_count": 4,
     "metadata": {},
     "output_type": "execute_result"
    }
   ],
   "source": [
    "def divide_chunks(list_to_chunk, num_chunks):\n",
    "    # break a list into chunks\n",
    "    return [list_to_chunk[i:i + num_chunks] for i in range(0, len(list_to_chunk), num_chunks)]\n",
    "\n",
    "file_chnk_ls = divide_chunks(file_ls, CHUNK_SIZE)\n",
    "\n",
    "len(file_chnk_ls)\n"
   ]
  },
  {
   "cell_type": "code",
   "execution_count": 5,
   "metadata": {},
   "outputs": [],
   "source": [
    "from langchain.document_loaders import BSHTMLLoader\n",
    "import chardet\n",
    "\n",
    "# does not accurately detect encoding\n",
    "def detect_encoding(file_path, debug_prn: bool = False):\n",
    "    detector = chardet.universaldetector.UniversalDetector()\n",
    "    with open(file_path, \"rb\") as f:\n",
    "        for line in f:\n",
    "            detector.feed(line)\n",
    "            if detector.done:\n",
    "                break\n",
    "    detector.close()\n",
    "\n",
    "    encoding = detector.result\n",
    "\n",
    "    if debug_prn:\n",
    "        print(encoding)\n",
    "\n",
    "    with open(file_path, encoding=encoding['encoding']) as f:\n",
    "        try:\n",
    "            loader = BSHTMLLoader(file_path, open_encoding = encoding['encoding'])\n",
    "            return loader.load()\n",
    "        except Exception as e:\n",
    "            return e\n",
    "        finally:\n",
    "            f.close()\n",
    "\n",
    "# test_path = \"../../raw_kb/article/accellion_connector/index.html\"\n",
    "# test_doc = detect_encoding(test_path , debug_prn = True)\n",
    "\n",
    "# print(test_doc[0].page_content)\n"
   ]
  },
  {
   "attachments": {},
   "cell_type": "markdown",
   "metadata": {},
   "source": [
    "use a langchain document loader to read the html files into a useable format (strip out html tags and css etc)\n",
    "\n",
    "use light cleansing functions to extract metadata and remove unecessary content from the article"
   ]
  },
  {
   "cell_type": "code",
   "execution_count": 6,
   "metadata": {},
   "outputs": [],
   "source": [
    "def page_content_cleanup(page_content):\n",
    "    #remove tail\n",
    "    clean_content = page_content.split(\n",
    "        'Summary (only shown to internal users)')[0]\n",
    "    \n",
    "    # remove head\n",
    "    return \" \".join(clean_content.split('Information')[1:]).strip()\n",
    "\n",
    "def get_title(page_content):\n",
    "    return page_content.split('Title',1)[1].split('Article Body',1)[0].strip()\n",
    "\n"
   ]
  },
  {
   "cell_type": "code",
   "execution_count": 7,
   "metadata": {},
   "outputs": [
    {
     "name": "stdout",
     "output_type": "stream",
     "text": [
      "Title\n",
      "\n",
      "Adding a Notebook Card\n",
      "\n",
      "Article Body\n",
      "\n",
      "Intro\n",
      "You can create a Notebook Card in Domo. Notebook cards are Cards containing text you enter. You can type or paste text in a Notebook Card. You can format text using bold, italics, strikethrough, and numbered and bulleted lists by selecting options in the toolbar. You can also add images, hyperlinks, tables, and dynamic Summary Numbers to Notebook Cards.\n",
      "\n",
      "\n",
      " \n",
      "\n",
      "Note: When you paste text certain formatting may be preserved, including bold, italics, lists, tables, font size, and headings. The formatting that is preserved varies, depending on the source. Typically, formatting associated with basic HTML tags is preserved, although styles may differ. Pasted images are stripped out. If you want to add images, use the Image Uploader.\n",
      "\n",
      "\n",
      "\n",
      "Video - Notebook Cards\n",
      "\n",
      " \n",
      "Adding Notebook Content\n",
      "To add a Notebook Card to Domo,\n",
      "Navigate to the page where you want the Notebook Card to appear.Click > Create new Card. \tA dialog appears with a number of card creation options to choose from.\n",
      "\n",
      "\n",
      " \n",
      "\n",
      "Tip: You can also open this dialog from anywhere in Domo by selecting  in the app toolbar and selecting Card.\n",
      "\n",
      "\n",
      "Click Notebook.\tThe Notebook create view appears.(Optional) To change the default title, click the title field and replace the text with your desired title text. You can also add a description and Smart Text.Enter your text in the blank field.Apply formatting and add tables, hyperlinks, images, and dynamic Summary Numbers as desired. \tThe following table describes the available toolbar options:\t OptionDescriptionFont Size PickerLets you change the font size of selected text. Four sizes are available— Header (largest), Title, Subtitle, and Text (smallest). Styling Options\n",
      "Lets you change the styling of selected text.Click  to apply bold style to the selected text.Click  to apply italic style to the selected text.Click  to apply strikethrough style to the selected text.Click  to open the color picker for the selected text.Bulleted List\n",
      "Adds a bulleted list to the card. When you add a bulleted list, a new bullet item is added each time you hit Enter. To turn off the list, hit Enter or click the icon a second time.Numbered List\n",
      "Adds a numbered list to the card. When you add a numbered list, a new list item is added each time you hit Enter. To turn off the list, hit Enter or click the icon a second time.Horizontal Alignment\n",
      "Lets you change the horizontal alignment on the page of the line of text that currently contains the cursor. Note that this option is used to change the alignment of just one line, while the Vertical Alignment option changes the alignment of all text on the page. Vertical Alignment\n",
      "Lets you change the vertical alignment of all the text on the page. Note that this option is used to change the alignment of all text on the page, while the Horizontal Alignment option changes the alignment of just one line.Table\n",
      "Lets you add a table to the card. When you click this icon, a grid image appears; you can mouse over this image to select the desired number of rows and columns in the table then click the bottom-rightmost square to add the table. In the following example, the user wants a 3x3 table, so he mouses over the grid as shown here:\n",
      "\n",
      "The user then clicks on the square in the bottom right to add the table.\n",
      "Tables in Notebook Cards size columns automatically depending on the amount of text entered. You can change column width manually by clicking and dragging on the column borders. \n",
      "When you click in a table cell, an options iconappears. Click on this to open an options menu for the table. These options are as follows:Add column leftAdds a column to the left of the selected row.Add column rightAdds a column to the right of the selected row.Delete columnDeletes the selected column.Add row aboveAdds a row above the row with the cursor.Add row belowAdds a row below the row with the cursor.Delete rowDeletes the selected row.Delete tableDeletes the entire table.Summary Number\n",
      "Lets you add a dynamically changing Summary Number to this card, similar to those that appear in most cards with charts. You choose the DataSet with data you want to summarize, along with the column and the desired aggregation type. You can also configure display options. Once you have added a Summary Number to your Notebook Card, it will update automatically anytime the data updates. The process for adding Summary Numbers to Notebook Cards is discussed in more detail later in this article.Image Uploader\n",
      "Opens the Image Uploader tool, which lets you select and upload an image from your computer. JPEGs, PNGs, and GIFs are all supported. \n",
      "You can delete an image by either selecting it or moving the cursor to the right of it then pressing Backspace/Delete.Hyperlink\n",
      "Lets you add a hyperlink to the card. When you add a hyperlink, you can define the action that takes place when a user clicks on it. These actions include either opening a specified web page or opening other content in Domo, either in the same browser tab or in a different tab. This is discussed in more detail later in this article.Smart Text\n",
      "Lets you add dynamically changing text to this Card. You can choose to display DataSet info, Filters, Segments, or Date range data. Once you have added the Smart Text to your Notebook Card, it will update automatically anytime the data updates. The process for adding Smart Text to Notebook Cards is discussed in more detail later in this article. Click Done when you are finished.\tYou can close without creating a Notebook Card by clicking the \"x\" in the top right corner.\n",
      "After you click Done, a Notebook Card containing your text is added to Domo.\n",
      "Defining Hyperlink Actions\n",
      "When adding a hyperlink to a Notebook Card, you can define the action that occurs when a user clicks on it. These actions may be either of the following:\n",
      "Opening other content in Domo, either in the same browser tab or in a different tabOpening a specified web page\n",
      "To configure specified Domo content to open when the link is clicked,\n",
      "Open the Notebook Card and go into the editor by clicking Edit in the upper right corner. Click  in the editor toolbar. In Section 1, select the Link to anything in Domo radio button.In Section 2, click the Select Content button. Locate the content you want to open when this card is clicked.Click Save.(Optional) If you want the link to display with custom text, enter the desired text in the Display as field.(Optional) If you want the new content to open in a new browser tab when the card is clicked, check the Open link in a new tab box.Click Save again.\n",
      "To configure an external web page to open when a card is clicked,\n",
      "Open the Notebook Card and go into the editor by clicking Edit in the upper right corner. Click  in the editor toolbar. In Section 1, select the Link to external web page radio button.In Section 2, in the Web page address field, enter the URL of the page you want to open when the card is clicked.(Optional) If you want the URL to open with a custom name, enter the name in the Display as field.(Optional) If you want the new content to open in a new browser tab when the card is clicked, check the Open link in a new tab box.Click Save again.\n",
      "Adding Summary Numbers\n",
      "You can add a Summary Number to your Notebook Card referencing a given DataSet column. Thereafter, anytime the underlying data changes, the Summary Number will change automatically. To add a Summary Number, you choose the DataSet with data you want to summarize, along with the column and the desired aggregation type. If you want, you can filter your selected column as well as configure display options. Once you have added a Summary Number to your Notebook Card, it will update automatically anytime the underlying data updates. \n",
      "Personalized Data Permissions (PDP) are respected when adding Summary Numbers to Notebook Cards. For more information about PDP, see Personalized Data Permissions (PDP).\n",
      "To add a Summary Number to a Notebook Card,\n",
      "Create a new Notebook Card or open an existing Notebook Card and go into the editor by clicking Edit in the upper right corner.Click  in the editor toolbar.\tThis opens the Create Summary Number dialog, in which you set all of the options for your Summary Number.In Section 1, do the following:In the DataSet field, select the DataSet containing the column you want to derive your Summary Number from.(Optional) In the Label field, enter a description that will appear when a user hovers over the Summary Number. In the Data to summarize menu, select the DataSet column you want to derive your Summary Number from.In the Displayed by field, select how you want the data to be aggregated. \t\tFor example, if your Summary Number is to reflect a monetary value, you would probably want to select Sum or Average.(Optional) If you want to filter the values in the column, click Add Filter, choose the column you want to filter on, then configure your filters. \t\tFilter options differ depending on the type of data you're filtering. (Conditional) If the selected column contains series data,  Select the checkboxes for each series you want to pass your filters.\t\t\t\tYou can select all of the checkboxes by clicking All or deselect all of the checkboxes by clicking None.\t\t\t\tYou can filter the series that appear in the list by entering a keyword or a string of characters found in a keyword in the Filter by field.Specify whether the items you have checked appear or do not appear in your chart by selecting In or Not In from the menu in the top right.Click Apply.(Conditional) If the selected column contains amount data,  Do one of the following:If you want to filter amounts based on a range... Leave the dropdown menu in the upper right corner set to Range.Select a condition statement from the menu.\t\t\t\t\t\tOne or more fields may appear, depending on the condition statement.(Conditional) If one or more fields appeared when you selected a condition statement, enter the desired amounts in the fields.\t\t\t\t\t\tFor example, if you wanted your Summary Number to reflect amounts between 200,000 and 300,000, you would select is between from the menu, enter \"200,000\" in the first field, and enter \"300,000\" in the second field.If you want to filter amounts based on specific values from your DataSet...Select Selection in the dropdown menu in the upper right corner.Check the boxes for all of the values you want to filter on.  \t\t\t\t\t\tYou can select all of the checkboxes by clicking All or deselect all of the checkboxes by clicking None. Or you can filter the values that appear in the list by entering a string of numbers in the Filter by field. Finally, you can specify whether the items you have checked appear or do not appear in your chart by selecting In or Not In from the menu in the top right.Click Apply.(Conditional) If the selected column contains date data,  Do one of the following:If you want to filter dates based on a range... Leave the dropdown menu in the upper right corner set to Range.Select a condition statement from the menu.\t\t\t\t\t\tOne or more fields may appear, depending on the condition statement.Enter the desired dates in the fields as necessary. \t\t\t\t\t\tFor example, if you wanted your Summary Number to reflect dates between 1-31-2014 and 4-30-2015, you would select is between from the menu, select January 1, 2014 in the first field, and select April 30, 2015 in the second field.If you want to filter dates based on specific dates from your DataSet...Select Selection in the dropdown menu in the upper right corner.Check the boxes for all of the dates you want to filter on.  \t\t\t\t\t\tYou can select all of the checkboxes by clicking All or deselect all of the checkboxes by clicking None. Or you can filter the dates that appear in the list by entering a filter string in the Filter by field. (For example, if you wanted to filter down to dates from 2010, you would enter \"2010\" into this field.) Finally, you can specify whether the dates you have checked appear or do not appear in your chart by selecting In or Not In from the menu in the top right.Click Apply.In Section 2, do the following:In the Display as field, select the desired number format for the Summary Number. \t\tIf you select Number, no special format is applied to the number. If you select Currency, a currency symbol will be appended to the number. If you select Percentage, a percent symbol will be appended. Do one of the following:If you selected Number or Percentage in the previous step, choose the desired number of decimals in the Decimals menu.If you selected Currency in the previous step...Select the desired currency symbol in the first dropdown menu.Select the desired number of decimals in the Decimals menu (Optional) If you want to abbreviate the number (e.g. \"200,000\" becomes \"2K\"), check the Abbreviate box.(Optional) If you want to use commas to separate thousands in the number, check the Use thousands separator box.Click Save. \n",
      "Adding Smart Text\n",
      "You can add Smart Text to your Notebook Card referencing DataSet info, Filters, Segments, or Date range data. Thereafter, anytime the underlying data changes, the Smart Text will change automatically. Personalized Data Permissions (PDP) are respected when adding Smart Text to Notebook Cards. For more information about PDP, see Personalized Data Permissions (PDP).\n",
      "Video - Smart Text Overview\n",
      "\n",
      "To add Smart Text to a Notebook Card,\n",
      "Create a new Notebook Card or open an existing Notebook Card and go into the editor by clicking Edit in the upper right corner.Click  in the editor toolbar.\tThis opens the Smart Text menu, in which you select what data you would like to display.Select one of the following options:  DataSet info - Allows you to display the Name, Owner, or Date last updated for a specific DataSet.Filters - Allows you to display the filters applied to a column or Display any filter.Segments used - Allows you to display the Segment name or Segment description of the visible Segments.Date range - Allows you to display the Date range or Graph by dates.\n",
      "\n",
      "\n",
      " \n",
      "\n",
      "Note: The steps for configuring the different Smart Text options are listed in the sections below.\n",
      "\n",
      "\n",
      "Fill out the information in the Apply logic to this text menu.Click Apply.\n",
      "DataSet Info Smart Text Configuration\n",
      "Allows you to display the Name, Owner, or Date last updated for a specific DataSet.\n",
      "DataSet Name Smart Text\n",
      "To configure the DataSet info Name Smart Text,\n",
      "Create a new Notebook Card or open an existing Notebook Card and go into the editor by clicking Edit in the upper right corner.Click  in the editor toolbar.Select DataSet info.Search for and select the DataSet you want to use.Click Choose DataSet.Select Name.Fill out the Apply logic to this text menu.  (Optional) Apply a Prefix.(Optional) Apply a Suffix.Click Apply.\n",
      "DataSet Owner Smart Text\n",
      "To configure the DataSet info Owner Smart Text,\n",
      "Create a new Notebook Card or open an existing Notebook Card and go into the editor by clicking Edit in the upper right corner.Click  in the editor toolbar.Select DataSet info.Search for and select the DataSet you want to use.Click Choose DataSet.Select Owner.Fill out the Apply logic to this text menu.  (Optional) Apply a Prefix.(Optional) Apply a Suffix.Click Apply.\n",
      "DataSet Date Last Updated Smart Text\n",
      "To configure the DataSet info Date last updated Smart Text,\n",
      "Create a new Notebook Card or open an existing Notebook Card and go into the editor by clicking Edit in the upper right corner.Click  in the editor toolbar.Select DataSet info.Search for and select the DataSet you want to use.Click Choose DataSet.Select Date last updated.Fill out the Apply logic to this text menu.  (Optional) Apply a Prefix.(Optional) Apply a Suffix.Click Apply.\n",
      "Filters Smart Text Configuration\n",
      "Allows you to display the filters applied to a column or Display any filter.\n",
      "Filter (Column Specific) Smart Text\n",
      "To configure the Filters applied to a specific column Smart Text,\n",
      "Create a new Notebook Card or open an existing Notebook Card and go into the editor by clicking Edit in the upper right corner.Click  in the editor toolbar.Select Filters.Search for and select one or multiple columns you wish to show.Click Select.Fill out the Apply logic to this text menu.  (Optional) Enter the Default text. The default is to show the name of the column if only one is selected or to display Filters(x) where x is the number of columns you have selected. (This will show when no filters are applied and in search results when searching for this Card.)(Optional) Apply a Prefix.(Optional) Apply a Suffix.(Optional) Enter the desired amount of Values shown. The default is All. (Any values selected that exceed the threshold will be shown in a tooltip.)Click Apply.\n",
      "Filter (Display Any Filter) Smart Text\n",
      "To configure the Filters Display any filter Smart Text,\n",
      "Create a new Notebook Card or open an existing Notebook Card and go into the editor by clicking Edit in the upper right corner.Click  in the editor toolbar.Check the box for Display any filter.Click Select.Fill out the Apply logic to this text menu.  (Optional) Enter the Default text. The default is to show Display any filter. (This will show when no filters are applied and in search results when searching for this Card.)(Optional) Apply a Prefix.(Optional) Apply a Suffix.(Optional) Enter the desired amount of Values shown. The default is All. (Any values selected that exceed the threshold will be shown in a tooltip.)Click Apply.\n",
      "Segments Used Smart Text Configuration\n",
      "Allows you to display the Segment name or Segment description of the visible Segments.\n",
      "Segment Name Smart Text\n",
      "To configure the Segments used Segment name Smart Text,\n",
      "Create a new Notebook Card or open an existing Notebook Card and go into the editor by clicking Edit in the upper right corner.Click  in the editor toolbar.Select Segments used.Click Segment name.Fill out the Apply logic to this text menu.  (Optional) Apply a Prefix.(Optional) Apply a Suffix.Click Apply.\n",
      "Segment Description Smart Text\n",
      "To configure the Segments used Segment description Smart Text,\n",
      "Create a new Notebook Card or open an existing Notebook Card and go into the editor by clicking Edit in the upper right corner.Click  in the editor toolbar.Select Segments used.Click Segment description.Fill out the Apply logic to this text menu.  (Optional) Apply a Prefix.(Optional) Apply a Suffix.Click Apply.\n",
      "Date Range Smart Text Configuration\n",
      "Allows you to display the Date range or Graph by dates.\n",
      "Date Range Smart Text\n",
      "To configure the Date range Smart Text,\n",
      "Create a new Notebook Card or open an existing Notebook Card and go into the editor by clicking Edit in the upper right corner.Click  in the editor toolbar.Select Date range.Click Date range.Fill out the Apply logic to this text menu.  (Optional) Enter the Default text. The default is to show Date Range. (This will show when no filters are applied and in search results when searching for this Card.)(Optional) Apply a Prefix.(Optional) Apply a Suffix.Click Apply.\n",
      "Graph By Smart Text\n",
      "To configure the Date range Graph by Smart Text,\n",
      "Create a new Notebook Card or open an existing Notebook Card and go into the editor by clicking Edit in the upper right corner.Click  in the editor toolbar.Select Date range.Click Graph by.Fill out the Apply logic to this text menu.  (Optional) Enter the Default text. The default is to show Graph by. (This will show when no filters are applied and in search results when searching for this Card.)(Optional) Apply a Prefix.(Optional) Apply a Suffix.Click Apply.\n",
      "Editing Notebook Cards\n",
      "For information on how to edit a Notebook Card, see Editing a Notebook Card.\n"
     ]
    }
   ],
   "source": [
    "\n",
    "from langchain.document_loaders import UnstructuredHTMLLoader\n",
    "\n",
    "def load_doc(path):\n",
    "\n",
    "    doc_ls = None\n",
    "    try:\n",
    "        loader = UnstructuredHTMLLoader(path)\n",
    "        doc_ls = loader.load()\n",
    "    except Exception as e:\n",
    "        doc_ls = detect_encoding(path , debug_prn = False)\n",
    "    \n",
    "    if not doc_ls:\n",
    "        raise Exception(f'unable to decrypt file { path }')\n",
    "    \n",
    "    doc = doc_ls[0]\n",
    "    try:\n",
    "        doc.metadata.update({'title' : get_title(doc.page_content)})\n",
    "        doc.page_content= page_content_cleanup(doc.page_content)\n",
    "    \n",
    "    except:\n",
    "        raise Exception(f'unable to parse content.  could be blank {path}')\n",
    "    \n",
    "    return doc\n",
    "    \n",
    "\n",
    "test_path = '../../raw_kb/article/adding_a_notebook_card\\index.html'\n",
    "test_doc = load_doc(test_path)\n",
    "print(test_doc.page_content)"
   ]
  },
  {
   "attachments": {},
   "cell_type": "markdown",
   "metadata": {},
   "source": [
    "ChatGpt can only work with x amount of data (4000 tokens?).  For optimal performance, we will break the document into smaller chunks of approximately 400 words."
   ]
  },
  {
   "cell_type": "code",
   "execution_count": 8,
   "metadata": {},
   "outputs": [],
   "source": [
    "# utility function for printing long text \n",
    "import textwrap\n",
    "wrapper = textwrap.TextWrapper(width=100)\n",
    "\n",
    "def text_wrap(content):\n",
    "    if isinstance(content, str):\n",
    "        [print(row) for row in wrapper.wrap(text=content)]\n",
    "\n",
    "    if isinstance(content, list):\n",
    "        for index, content_str in enumerate(content):\n",
    "            print(f'\\n {index} - chunk')\n",
    "            [print(row) for row in wrapper.wrap(text=content_str)]\n"
   ]
  },
  {
   "attachments": {},
   "cell_type": "markdown",
   "metadata": {},
   "source": [
    "different models are optimized for different tasks\n",
    "\n",
    "the `text_splitter` function will attempt to split the text into 400 token chunks while respecting the structure of the document - i.e. prefer paragraphs as per the enumerated separators.\n"
   ]
  },
  {
   "cell_type": "code",
   "execution_count": 9,
   "metadata": {},
   "outputs": [],
   "source": [
    "import tiktoken\n",
    "from langchain.text_splitter import RecursiveCharacterTextSplitter\n",
    "\n",
    "tiktoken.encoding_for_model('gpt-3.5-turbo')\n",
    "tokenizer = tiktoken.get_encoding('cl100k_base')\n",
    "\n",
    "# create the length function\n",
    "def tiktoken_len(text):\n",
    "    tokens = tokenizer.encode(\n",
    "        text,\n",
    "        disallowed_special=()\n",
    "    )\n",
    "    return len(tokens)\n",
    "\n",
    "text_splitter = RecursiveCharacterTextSplitter(\n",
    "    chunk_size=TOKEN_CHUNK_SIZE,\n",
    "    chunk_overlap=20,  # number of tokens overlap between chunks\n",
    "    length_function=tiktoken_len,\n",
    "    separators=['\\n\\n', '\\n', ' ', '']\n",
    ")\n",
    "\n",
    "# chunks = text_splitter.split_text(doc.page_content)\n",
    "\n",
    "# text_wrap(chunks)\n"
   ]
  },
  {
   "attachments": {},
   "cell_type": "markdown",
   "metadata": {},
   "source": [
    "to relate chunks as they are loaded into the vector store we will identify them by a hashed_url + index"
   ]
  },
  {
   "cell_type": "code",
   "execution_count": 10,
   "metadata": {},
   "outputs": [],
   "source": [
    "from pprint import pprint\n",
    "import hashlib\n",
    "\n",
    "\n",
    "def generate_doc_id(url):\n",
    "    m = hashlib.md5()  # this will convert URL into unique ID\n",
    "\n",
    "    # convert URL to unique ID\n",
    "    m.update(url.encode('utf-8'))\n",
    "    return m.hexdigest()[:12]\n",
    "\n",
    "def process_doc(path):\n",
    "\n",
    "    doc = load_doc(path)\n",
    "    content_cn_ls = text_splitter.split_text(doc.page_content)\n",
    "\n",
    "    return [{\n",
    "        'objectID': f\"{generate_doc_id(doc.metadata['source']) }-{i}\",\n",
    "        'text': chunk,\n",
    "        **doc.metadata\n",
    "    } for i, chunk in enumerate(content_cn_ls)]\n",
    "\n",
    "# pprint(process_doc(test_path))\n"
   ]
  },
  {
   "cell_type": "code",
   "execution_count": 13,
   "metadata": {},
   "outputs": [
    {
     "name": "stdout",
     "output_type": "stream",
     "text": [
      "unable to parse content.  could be blank ../../raw_kb/article/about_partition_connectors/index.html ../../raw_kb/article/about_partition_connectors/index.html\n",
      "unable to parse content.  could be blank ../../raw_kb/article/adrenaline_dataflow_functions_reference_guide/index.html ../../raw_kb/article/adrenaline_dataflow_functions_reference_guide/index.html\n",
      "0 547\n",
      "unable to parse content.  could be blank ../../raw_kb/article/backlog_third_party_connector/index.html ../../raw_kb/article/backlog_third_party_connector/index.html\n",
      "1 487\n",
      "unable to parse content.  could be blank ../../raw_kb/article/best_practices_for_automl/index.html ../../raw_kb/article/best_practices_for_automl/index.html\n",
      "unable to parse content.  could be blank ../../raw_kb/article/box_advanced_connector/index.html ../../raw_kb/article/box_advanced_connector/index.html\n",
      "unable to parse content.  could be blank ../../raw_kb/article/box_file_watch/index.html ../../raw_kb/article/box_file_watch/index.html\n",
      "unable to parse content.  could be blank ../../raw_kb/article/brand_kit/index.html ../../raw_kb/article/brand_kit/index.html\n",
      "2 504\n",
      "unable to parse content.  could be blank ../../raw_kb/article/configuring_goals_settings/index.html ../../raw_kb/article/configuring_goals_settings/index.html\n",
      "3 557\n",
      "unable to parse content.  could be blank ../../raw_kb/article/dataflows_disabled_due_to_extended_inactivity/index.html ../../raw_kb/article/dataflows_disabled_due_to_extended_inactivity/index.html\n",
      "unable to parse content.  could be blank ../../raw_kb/article/domo_addins_for_microsoft_365_desktop_apps_user_guide/index.html ../../raw_kb/article/domo_addins_for_microsoft_365_desktop_apps_user_guide/index.html\n",
      "unable to parse content.  could be blank ../../raw_kb/article/domo_addins_for_microsoft_365_enterprise_installation_guide/index.html ../../raw_kb/article/domo_addins_for_microsoft_365_enterprise_installation_guide/index.html\n",
      "unable to parse content.  could be blank ../../raw_kb/article/domo_addins_for_microsoft_365_installation_guide/index.html ../../raw_kb/article/domo_addins_for_microsoft_365_installation_guide/index.html\n",
      "4 480\n",
      "unable to parse content.  could be blank ../../raw_kb/article/domo_japan_connector_for_line_messaging_api/index.html ../../raw_kb/article/domo_japan_connector_for_line_messaging_api/index.html\n",
      "unable to parse content.  could be blank ../../raw_kb/article/domo_mobile_security/index.html ../../raw_kb/article/domo_mobile_security/index.html\n",
      "unable to parse content.  could be blank ../../raw_kb/article/editing_or_deleting_a_project/index.html ../../raw_kb/article/editing_or_deleting_a_project/index.html\n",
      "unable to parse content.  could be blank ../../raw_kb/article/enabling_sso_with_google/index.html ../../raw_kb/article/enabling_sso_with_google/index.html\n",
      "unable to parse content.  could be blank ../../raw_kb/article/enhancing_your_goals/index.html ../../raw_kb/article/enhancing_your_goals/index.html\n",
      "unable to parse content.  could be blank ../../raw_kb/article/enterprise_stacker/index.html ../../raw_kb/article/enterprise_stacker/index.html\n",
      "unable to parse content.  could be blank ../../raw_kb/article/estat_third_party_connector/index.html ../../raw_kb/article/estat_third_party_connector/index.html\n",
      "5 350\n",
      "unable to parse content.  could be blank ../../raw_kb/article/fitbit_connector/index.html ../../raw_kb/article/fitbit_connector/index.html\n",
      "unable to parse content.  could be blank ../../raw_kb/article/forms/index.html ../../raw_kb/article/forms/index.html\n",
      "unable to parse content.  could be blank ../../raw_kb/article/freee_third_party_connector/index.html ../../raw_kb/article/freee_third_party_connector/index.html\n",
      "unable to parse content.  could be blank ../../raw_kb/article/getting_started_with_goals/index.html ../../raw_kb/article/getting_started_with_goals/index.html\n",
      "unable to parse content.  could be blank ../../raw_kb/article/glossary/index.html ../../raw_kb/article/glossary/index.html\n",
      "unable to parse content.  could be blank ../../raw_kb/article/glu_connector/index.html ../../raw_kb/article/glu_connector/index.html\n",
      "6 469\n",
      "unable to parse content.  could be blank ../../raw_kb/article/group_ownership_of_accounts_beta/index.html ../../raw_kb/article/group_ownership_of_accounts_beta/index.html\n",
      "7 384\n",
      "unable to parse content.  could be blank ../../raw_kb/article/legal_notices/index.html ../../raw_kb/article/legal_notices/index.html\n",
      "unable to parse content.  could be blank ../../raw_kb/article/line_music_analytics_connector/index.html ../../raw_kb/article/line_music_analytics_connector/index.html\n",
      "unable to parse content.  could be blank ../../raw_kb/article/magic_etl_scripting_tile_environments/index.html ../../raw_kb/article/magic_etl_scripting_tile_environments/index.html\n",
      "unable to parse content.  could be blank ../../raw_kb/article/managing_your_goals_and_metrics/index.html ../../raw_kb/article/managing_your_goals_and_metrics/index.html\n",
      "8 448\n",
      "unable to parse content.  could be blank ../../raw_kb/article/microsoft_dynamics_navision_connector/index.html ../../raw_kb/article/microsoft_dynamics_navision_connector/index.html\n",
      "unable to parse content.  could be blank ../../raw_kb/article/migrating_from_workbench_4_to_workbench_5_troubleshooting_guide/index.html ../../raw_kb/article/migrating_from_workbench_4_to_workbench_5_troubleshooting_guide/index.html\n",
      "9 514\n",
      "unable to parse content.  could be blank ../../raw_kb/article/old_magic_etl_tiles_combine_data/index.html ../../raw_kb/article/old_magic_etl_tiles_combine_data/index.html\n",
      "10 440\n",
      "unable to parse content.  could be blank ../../raw_kb/article/queues/index.html ../../raw_kb/article/queues/index.html\n",
      "unable to parse content.  could be blank ../../raw_kb/article/register_dremio_with_cloud_amplifier/index.html ../../raw_kb/article/register_dremio_with_cloud_amplifier/index.html\n",
      "11 501\n",
      "unable to parse content.  could be blank ../../raw_kb/article/salesforce_radian6_advanced_connector/index.html ../../raw_kb/article/salesforce_radian6_advanced_connector/index.html\n",
      "unable to parse content.  could be blank ../../raw_kb/article/salesforce_radian6_connector/index.html ../../raw_kb/article/salesforce_radian6_connector/index.html\n",
      "12 490\n",
      "13 550\n",
      "unable to parse content.  could be blank ../../raw_kb/article/tls_10_and_11_support_retirement/index.html ../../raw_kb/article/tls_10_and_11_support_retirement/index.html\n",
      "14 625\n",
      "unable to parse content.  could be blank ../../raw_kb/article/weathernews_connector/index.html ../../raw_kb/article/weathernews_connector/index.html\n",
      "unable to parse content.  could be blank ../../raw_kb/article/workflows_overview/index.html ../../raw_kb/article/workflows_overview/index.html\n",
      "15 406\n",
      "unable to parse content.  could be blank ../../raw_kb/article/xero_connector/index.html ../../raw_kb/article/xero_connector/index.html\n",
      "16 196\n"
     ]
    }
   ],
   "source": [
    "import json\n",
    "\n",
    "def output_file(docs, output_folder = 'chatgpt' , output_file = 'train.jsonl'):\n",
    "    with open(f\"{output_folder}\\{output_file}\", 'w') as f:\n",
    "        f.write(json.dumps(docs) + '\\n')\n",
    "\n",
    "for index, file_chnk in enumerate(file_chnk_ls):\n",
    "    docs = []\n",
    "    for path in file_chnk:\n",
    "        try:\n",
    "            tk_ls = process_doc(path)\n",
    "            docs.append(tk_ls)\n",
    "        except Exception as e:\n",
    "            print(e, path)\n",
    "            pass\n",
    "    docs = [tkn for tkn_ls in docs for tkn in tkn_ls]\n",
    "    output_file(docs, output_file = f'train-{index}.json')\n",
    "    \n",
    "    print(index, len(docs))\n"
   ]
  },
  {
   "cell_type": "code",
   "execution_count": null,
   "metadata": {},
   "outputs": [],
   "source": [
    "# pip install algoliasearch"
   ]
  },
  {
   "cell_type": "code",
   "execution_count": null,
   "metadata": {},
   "outputs": [],
   "source": [
    "# pip install python-dotenv"
   ]
  },
  {
   "cell_type": "code",
   "execution_count": 15,
   "metadata": {},
   "outputs": [
    {
     "data": {
      "text/plain": [
       "['chatgpt/train-0.json',\n",
       " 'chatgpt/train-1.json',\n",
       " 'chatgpt/train-10.json',\n",
       " 'chatgpt/train-11.json',\n",
       " 'chatgpt/train-12.json',\n",
       " 'chatgpt/train-13.json',\n",
       " 'chatgpt/train-14.json',\n",
       " 'chatgpt/train-15.json',\n",
       " 'chatgpt/train-16.json',\n",
       " 'chatgpt/train-2.json',\n",
       " 'chatgpt/train-3.json',\n",
       " 'chatgpt/train-4.json',\n",
       " 'chatgpt/train-5.json',\n",
       " 'chatgpt/train-6.json',\n",
       " 'chatgpt/train-7.json',\n",
       " 'chatgpt/train-8.json',\n",
       " 'chatgpt/train-9.json']"
      ]
     },
     "execution_count": 15,
     "metadata": {},
     "output_type": "execute_result"
    }
   ],
   "source": [
    "import os\n",
    "file_ls =[f\"{r}/{file}\" for r, d, f in os.walk(\"chatgpt\") for file in f if file.endswith(\".json\")]\n",
    "file_ls"
   ]
  },
  {
   "cell_type": "code",
   "execution_count": 16,
   "metadata": {},
   "outputs": [],
   "source": [
    "from algoliasearch.search_client import SearchClient\n",
    "from dotenv import dotenv_values\n",
    "import json\n",
    "env = dotenv_values('.env')\n",
    "\n",
    "client = SearchClient.create('DJLP9SCVBJ', env['ALGOLIA_KEY'])\n",
    "index = client.init_index('domo_kb')\n",
    "\n",
    "for file in file_ls:\n",
    "    with open(file, 'r') as f:\n",
    "        data = f.read()\n",
    "    \n",
    "    records = json.loads(data)\n",
    "    \n",
    "    index.save_objects(records,  {'autoGenerateObjectIDIfNotExist': True})"
   ]
  }
 ],
 "metadata": {
  "kernelspec": {
   "display_name": "Python 3",
   "language": "python",
   "name": "python3"
  },
  "language_info": {
   "codemirror_mode": {
    "name": "ipython",
    "version": 3
   },
   "file_extension": ".py",
   "mimetype": "text/x-python",
   "name": "python",
   "nbconvert_exporter": "python",
   "pygments_lexer": "ipython3",
   "version": "3.11.3"
  },
  "orig_nbformat": 4
 },
 "nbformat": 4,
 "nbformat_minor": 2
}
