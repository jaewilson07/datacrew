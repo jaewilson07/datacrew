{
 "cells": [
  {
   "cell_type": "code",
   "execution_count": 1,
   "metadata": {},
   "outputs": [],
   "source": [
    "# !pip install -qU langchain tiktoken matplotlib seaborn tqdm unstructured\n"
   ]
  },
  {
   "attachments": {},
   "cell_type": "markdown",
   "metadata": {},
   "source": [
    "generate list of all the index.html files in article folder"
   ]
  },
  {
   "cell_type": "code",
   "execution_count": 99,
   "metadata": {},
   "outputs": [
    {
     "data": {
      "text/plain": [
       "['../../raw_kb/article/10000ft_connector/index.html',\n",
       " '../../raw_kb/article/100_percent_stacked_bar_chart/index.html',\n",
       " '../../raw_kb/article/100_percent_stacked_bar_with_line_chart/index.html',\n",
       " '../../raw_kb/article/3metric_bar_charts/index.html',\n",
       " '../../raw_kb/article/about_partition_connectors/index.html']"
      ]
     },
     "execution_count": 99,
     "metadata": {},
     "output_type": "execute_result"
    }
   ],
   "source": [
    "import os\n",
    "file_ls =[f\"{r}/{file}\" for r, d, f in os.walk(\"../../raw_kb/article/\") for file in f if file.endswith(\"index.html\")]\n",
    "\n",
    "# print a subset of items\n",
    "file_ls[0:5]\n",
    "            "
   ]
  },
  {
   "attachments": {},
   "cell_type": "markdown",
   "metadata": {},
   "source": [
    "use `divide_chunks` to split the `file_ls` into a more manageable number of documents to process at a time."
   ]
  },
  {
   "cell_type": "code",
   "execution_count": 92,
   "metadata": {},
   "outputs": [
    {
     "data": {
      "text/plain": [
       "164"
      ]
     },
     "execution_count": 92,
     "metadata": {},
     "output_type": "execute_result"
    }
   ],
   "source": [
    "def divide_chunks(list_to_chunk, num_chunks):\n",
    "    # break a list into chunks\n",
    "    return [list_to_chunk[i:i + num_chunks] for i in range(0, len(list_to_chunk), num_chunks)]\n",
    "\n",
    "file_chnk_ls = divide_chunks(file_ls, 10)\n",
    "\n",
    "len(file_chnk_ls)\n"
   ]
  },
  {
   "cell_type": "code",
   "execution_count": 94,
   "metadata": {},
   "outputs": [],
   "source": [
    "# from langchain.document_loaders import BSHTMLLoader\n",
    "# import chardet\n",
    "# does not accurately detect encoding\n",
    "# def detect_encoding(file_path, debug_prn: bool = False):\n",
    "#     detector = chardet.universaldetector.UniversalDetector()\n",
    "#     with open(file_path, \"rb\") as f:\n",
    "#         for line in f:\n",
    "#             detector.feed(line)\n",
    "#             if detector.done:\n",
    "#                 break\n",
    "#     detector.close()\n",
    "\n",
    "#     encoding = detector.result\n",
    "\n",
    "#     if debug_prn:\n",
    "#         print(encoding)\n",
    "\n",
    "#     with open(file_path, encoding=encoding['encoding']) as f:\n",
    "#         try:\n",
    "#             loader = BSHTMLLoader(file_path, open_encoding = encoding['encoding'])\n",
    "#             return loader.load()\n",
    "#         except Exception as e:\n",
    "#             return e\n",
    "#         finally:\n",
    "#             f.close()\n",
    "\n",
    "# detect_encoding(\"../../raw_kb/article/100_percent_stacked_bar_chart/index.html\" , debug_prn = True)\n"
   ]
  },
  {
   "attachments": {},
   "cell_type": "markdown",
   "metadata": {},
   "source": [
    "use a langchain document loader to read the html files into a useable format (strip out html tags and css etc)"
   ]
  },
  {
   "cell_type": "code",
   "execution_count": 98,
   "metadata": {},
   "outputs": [
    {
     "ename": "TypeError",
     "evalue": "Invalid input object: NoneType",
     "output_type": "error",
     "traceback": [
      "\u001b[1;31m---------------------------------------------------------------------------\u001b[0m",
      "\u001b[1;31mTypeError\u001b[0m                                 Traceback (most recent call last)",
      "Cell \u001b[1;32mIn[98], line 9\u001b[0m\n\u001b[0;32m      5\u001b[0m     \u001b[39mreturn\u001b[39;00m loader\u001b[39m.\u001b[39mload()\n\u001b[0;32m      7\u001b[0m test_path \u001b[39m=\u001b[39m \u001b[39m'\u001b[39m\u001b[39m../../raw_kb/article/about_partition_connectors/index.html\u001b[39m\u001b[39m'\u001b[39m\n\u001b[1;32m----> 9\u001b[0m doc \u001b[39m=\u001b[39m load_doc(test_path)\n",
      "Cell \u001b[1;32mIn[98], line 5\u001b[0m, in \u001b[0;36mload_doc\u001b[1;34m(path)\u001b[0m\n\u001b[0;32m      3\u001b[0m \u001b[39mdef\u001b[39;00m \u001b[39mload_doc\u001b[39m(path):\n\u001b[0;32m      4\u001b[0m     loader \u001b[39m=\u001b[39m UnstructuredHTMLLoader(path)\n\u001b[1;32m----> 5\u001b[0m     \u001b[39mreturn\u001b[39;00m loader\u001b[39m.\u001b[39;49mload()\n",
      "File \u001b[1;32m~\\AppData\\Local\\Packages\\PythonSoftwareFoundation.Python.3.11_qbz5n2kfra8p0\\LocalCache\\local-packages\\Python311\\site-packages\\langchain\\document_loaders\\unstructured.py:61\u001b[0m, in \u001b[0;36mUnstructuredBaseLoader.load\u001b[1;34m(self)\u001b[0m\n\u001b[0;32m     59\u001b[0m \u001b[39mdef\u001b[39;00m \u001b[39mload\u001b[39m(\u001b[39mself\u001b[39m) \u001b[39m-\u001b[39m\u001b[39m>\u001b[39m List[Document]:\n\u001b[0;32m     60\u001b[0m \u001b[39m    \u001b[39m\u001b[39m\"\"\"Load file.\"\"\"\u001b[39;00m\n\u001b[1;32m---> 61\u001b[0m     elements \u001b[39m=\u001b[39m \u001b[39mself\u001b[39;49m\u001b[39m.\u001b[39;49m_get_elements()\n\u001b[0;32m     62\u001b[0m     \u001b[39mif\u001b[39;00m \u001b[39mself\u001b[39m\u001b[39m.\u001b[39mmode \u001b[39m==\u001b[39m \u001b[39m\"\u001b[39m\u001b[39melements\u001b[39m\u001b[39m\"\u001b[39m:\n\u001b[0;32m     63\u001b[0m         docs: List[Document] \u001b[39m=\u001b[39m \u001b[39mlist\u001b[39m()\n",
      "File \u001b[1;32m~\\AppData\\Local\\Packages\\PythonSoftwareFoundation.Python.3.11_qbz5n2kfra8p0\\LocalCache\\local-packages\\Python311\\site-packages\\langchain\\document_loaders\\html.py:13\u001b[0m, in \u001b[0;36mUnstructuredHTMLLoader._get_elements\u001b[1;34m(self)\u001b[0m\n\u001b[0;32m     10\u001b[0m \u001b[39mdef\u001b[39;00m \u001b[39m_get_elements\u001b[39m(\u001b[39mself\u001b[39m) \u001b[39m-\u001b[39m\u001b[39m>\u001b[39m List:\n\u001b[0;32m     11\u001b[0m     \u001b[39mfrom\u001b[39;00m \u001b[39munstructured\u001b[39;00m\u001b[39m.\u001b[39;00m\u001b[39mpartition\u001b[39;00m\u001b[39m.\u001b[39;00m\u001b[39mhtml\u001b[39;00m \u001b[39mimport\u001b[39;00m partition_html\n\u001b[1;32m---> 13\u001b[0m     \u001b[39mreturn\u001b[39;00m partition_html(filename\u001b[39m=\u001b[39;49m\u001b[39mself\u001b[39;49m\u001b[39m.\u001b[39;49mfile_path, \u001b[39m*\u001b[39;49m\u001b[39m*\u001b[39;49m\u001b[39mself\u001b[39;49m\u001b[39m.\u001b[39;49munstructured_kwargs)\n",
      "File \u001b[1;32m~\\AppData\\Local\\Packages\\PythonSoftwareFoundation.Python.3.11_qbz5n2kfra8p0\\LocalCache\\local-packages\\Python311\\site-packages\\unstructured\\partition\\html.py:91\u001b[0m, in \u001b[0;36mpartition_html\u001b[1;34m(filename, file, text, url, encoding, include_page_breaks, include_metadata, headers, ssl_verify, parser)\u001b[0m\n\u001b[0;32m     87\u001b[0m         \u001b[39mraise\u001b[39;00m \u001b[39mValueError\u001b[39;00m(\u001b[39mf\u001b[39m\u001b[39m\"\u001b[39m\u001b[39mExpected content type text/html. Got \u001b[39m\u001b[39m{\u001b[39;00mcontent_type\u001b[39m}\u001b[39;00m\u001b[39m.\u001b[39m\u001b[39m\"\u001b[39m)\n\u001b[0;32m     89\u001b[0m     document \u001b[39m=\u001b[39m HTMLDocument\u001b[39m.\u001b[39mfrom_string(response\u001b[39m.\u001b[39mtext, parser\u001b[39m=\u001b[39mparser)\n\u001b[1;32m---> 91\u001b[0m layout_elements \u001b[39m=\u001b[39m document_to_element_list(document, include_page_breaks\u001b[39m=\u001b[39;49minclude_page_breaks)\n\u001b[0;32m     92\u001b[0m \u001b[39mif\u001b[39;00m include_metadata:\n\u001b[0;32m     93\u001b[0m     \u001b[39mreturn\u001b[39;00m add_element_metadata(\n\u001b[0;32m     94\u001b[0m         layout_elements,\n\u001b[0;32m     95\u001b[0m         include_page_breaks\u001b[39m=\u001b[39minclude_page_breaks,\n\u001b[0;32m     96\u001b[0m         filename\u001b[39m=\u001b[39mfilename,\n\u001b[0;32m     97\u001b[0m         url\u001b[39m=\u001b[39murl,\n\u001b[0;32m     98\u001b[0m     )\n",
      "File \u001b[1;32m~\\AppData\\Local\\Packages\\PythonSoftwareFoundation.Python.3.11_qbz5n2kfra8p0\\LocalCache\\local-packages\\Python311\\site-packages\\unstructured\\partition\\common.py:71\u001b[0m, in \u001b[0;36mdocument_to_element_list\u001b[1;34m(document, include_page_breaks)\u001b[0m\n\u001b[0;32m     69\u001b[0m \u001b[39m\u001b[39m\u001b[39m\"\"\"Converts a DocumentLayout object to a list of unstructured elements.\"\"\"\u001b[39;00m\n\u001b[0;32m     70\u001b[0m elements: List[Element] \u001b[39m=\u001b[39m []\n\u001b[1;32m---> 71\u001b[0m num_pages \u001b[39m=\u001b[39m \u001b[39mlen\u001b[39m(document\u001b[39m.\u001b[39;49mpages)\n\u001b[0;32m     72\u001b[0m \u001b[39mfor\u001b[39;00m i, page \u001b[39min\u001b[39;00m \u001b[39menumerate\u001b[39m(document\u001b[39m.\u001b[39mpages):\n\u001b[0;32m     73\u001b[0m     \u001b[39mfor\u001b[39;00m element \u001b[39min\u001b[39;00m page\u001b[39m.\u001b[39melements:\n",
      "File \u001b[1;32m~\\AppData\\Local\\Packages\\PythonSoftwareFoundation.Python.3.11_qbz5n2kfra8p0\\LocalCache\\local-packages\\Python311\\site-packages\\unstructured\\documents\\xml.py:52\u001b[0m, in \u001b[0;36mXMLDocument.pages\u001b[1;34m(self)\u001b[0m\n\u001b[0;32m     50\u001b[0m \u001b[39m\u001b[39m\u001b[39m\"\"\"Gets all elements from pages in sequential order.\"\"\"\u001b[39;00m\n\u001b[0;32m     51\u001b[0m \u001b[39mif\u001b[39;00m \u001b[39mself\u001b[39m\u001b[39m.\u001b[39m_pages \u001b[39mis\u001b[39;00m \u001b[39mNone\u001b[39;00m:\n\u001b[1;32m---> 52\u001b[0m     \u001b[39mself\u001b[39m\u001b[39m.\u001b[39m_pages \u001b[39m=\u001b[39m \u001b[39mself\u001b[39;49m\u001b[39m.\u001b[39;49m_read()\n\u001b[0;32m     53\u001b[0m \u001b[39mreturn\u001b[39;00m \u001b[39msuper\u001b[39m()\u001b[39m.\u001b[39mpages\n",
      "File \u001b[1;32m~\\AppData\\Local\\Packages\\PythonSoftwareFoundation.Python.3.11_qbz5n2kfra8p0\\LocalCache\\local-packages\\Python311\\site-packages\\unstructured\\documents\\html.py:101\u001b[0m, in \u001b[0;36mHTMLDocument._read\u001b[1;34m(self)\u001b[0m\n\u001b[0;32m     99\u001b[0m logger\u001b[39m.\u001b[39minfo(\u001b[39m\"\u001b[39m\u001b[39mReading document ...\u001b[39m\u001b[39m\"\u001b[39m)\n\u001b[0;32m    100\u001b[0m pages: List[Page] \u001b[39m=\u001b[39m []\n\u001b[1;32m--> 101\u001b[0m etree\u001b[39m.\u001b[39;49mstrip_elements(\u001b[39mself\u001b[39;49m\u001b[39m.\u001b[39;49mdocument_tree, [\u001b[39m\"\u001b[39;49m\u001b[39mscript\u001b[39;49m\u001b[39m\"\u001b[39;49m])\n\u001b[0;32m    102\u001b[0m root \u001b[39m=\u001b[39m _find_main(\u001b[39mself\u001b[39m\u001b[39m.\u001b[39mdocument_tree)\n\u001b[0;32m    104\u001b[0m articles \u001b[39m=\u001b[39m _find_articles(root)\n",
      "File \u001b[1;32msrc\\lxml\\cleanup.pxi:100\u001b[0m, in \u001b[0;36mlxml.etree.strip_elements\u001b[1;34m()\u001b[0m\n",
      "File \u001b[1;32msrc\\lxml\\apihelpers.pxi:41\u001b[0m, in \u001b[0;36mlxml.etree._documentOrRaise\u001b[1;34m()\u001b[0m\n",
      "\u001b[1;31mTypeError\u001b[0m: Invalid input object: NoneType"
     ]
    }
   ],
   "source": [
    "\n",
    "from langchain.document_loaders import UnstructuredHTMLLoader\n",
    "\n",
    "def load_doc(path):\n",
    "    loader = UnstructuredHTMLLoader(path)\n",
    "    return loader.load()\n",
    "\n",
    "test_path = '../../raw_kb/article/about_partition_connectors/index.html'\n",
    "\"raw_kb\\article\\about_partition_connectors\\index.html\"\n",
    "\n",
    "doc = load_doc(test_path)"
   ]
  },
  {
   "cell_type": "code",
   "execution_count": 45,
   "metadata": {},
   "outputs": [
    {
     "name": "stdout",
     "output_type": "stream",
     "text": [
      "Title\n",
      "\n",
      "100 Percent Stacked Bar Chart\n",
      "\n",
      "Article Body\n",
      "\n",
      "Intro\n",
      "A 100% stacked bar chart is similar to a stacked bar chart in that categories are represented as bars and series as components of those bars. However, in a 100% stacked bar chart, each series bar represents the percentage of the overall category to which it belongs. For example, if a category was composed of three series, one with a value of 100, one of 200, and one of 300, the first series would make up 16.6% of the category (because 100 is equal to 16.6% of 600, the total value of all three series), the second would make up 33%, and the third 50%. In a way, then, a 100% stacked bar chart is also similar to a pie chart, in which each bar corresponds to a pie.\n",
      "As with standard bar charts, both vertical and horizontal versions of 100% stacked bar charts are available. In vertical 100% stacked bar charts, series in categories are \"stacked\" on top of each other; in horizontal 100% stacked bar charts, the series appear side by side.\n",
      "By default the values on the y-axis appear with percent symbols. You can change this behavior in the Chart Properties if you want. For more information, see Formatting Values in Your Chart.\n",
      "Powering 100% stacked bar charts\n",
      "A 100% stacked bar chart requires three data columns or rows from your DataSet—one for categories, one for the series in each category, and one for values. For information about value, category, and series data, see Understanding Chart Data.\n",
      "In the Analyzer, you choose the columns containing the data for your 100% stacked bar chart. For more information about choosing data columns, see Applying DataSet Columns to Your Chart.\n",
      "For more information about formatting charts in the Analyzer, see Visualization Card Building Part 2: The Analyzer.\n",
      "The following graphic shows you how the data from a typical column-based spreadsheet is converted into a vertical 100% stacked bar chart:\n",
      "\n",
      "The following graphic shows you how the data from a typical column-based spreadsheet is converted into a horizontal 100% stacked bar chart:\n",
      "\n",
      "Customizing 100% stacked bar charts\n",
      "You can customize the appearance of a 100% stacked bar chart by editing its Chart Properties. For information about all chart properties, see Chart Properties. Unique properties of 100% stacked bar charts include the following. You can click a thumbnail image to see a larger image.\n",
      "PropertyDescriptionExampleGeneral > Sort Each CategoryAllows you to sort the items in each individual category in most kinds of multi-series bar and lollipop charts. You can choose an ascending or descending sort. If you select Default, the default sort is applied. This option does not work when the Value Scale > Log Scale box is checked.\n",
      "In the example at right, bars within all categories are sorted in descending order. General > Sort on TotalsAllows you to sort categories in many kinds of bar and lollipop charts by their total values, in either ascending or descending order. If you select Default, the default sort is applied. This option does not work when the chart has automatic time scaling applied. (You can turn off automatic time scaling by checking the box for Category Scale > Never Use Time Scale.\n",
      "In the example at right, the categories are sorted by their totals in ascending order.Bar Settings > Non-Stacked InteractivityTurns off the default stacked bar chart interactivity.\n",
      "When you hover over any series in a stacked bar or 100% stacked bar chart, all of the corresponding series are highlighted and connected across the chart, as shown in the first screenshot at right. However, if series data is missing for any stack in the chart, the highlighting is removed and a \"0\" appears in the stack, as shown in the second screenshot. By checking Non-Stacked Interactivity, the connecting lines, highlighting, and \"0\" no longer appear upon hover, as shown in the third screenshot.\n",
      "For more information about DataSet columns, see Applying DataSet Columns to Your Chart.\n"
     ]
    }
   ],
   "source": [
    "def page_content_cleanup(page_content):\n",
    "    #remove tail\n",
    "    clean_content = page_content.split(\n",
    "        'Summary (only shown to internal users)')[0]\n",
    "    \n",
    "    # remove head\n",
    "    return \" \".join(clean_content.split('Information')[1:]).strip()\n",
    "\n",
    "\n",
    "print(page_content_cleanup(docs[0].page_content))\n"
   ]
  },
  {
   "cell_type": "code",
   "execution_count": 46,
   "metadata": {},
   "outputs": [
    {
     "data": {
      "text/plain": [
       "{'source': '../../raw_kb/article/100_percent_stacked_bar_chart/index.html'}"
      ]
     },
     "execution_count": 46,
     "metadata": {},
     "output_type": "execute_result"
    }
   ],
   "source": [
    "docs[0].metadata"
   ]
  },
  {
   "cell_type": "code",
   "execution_count": 47,
   "metadata": {},
   "outputs": [],
   "source": [
    "import tiktoken\n",
    "\n",
    "tiktoken.encoding_for_model('gpt-3.5-turbo')\n",
    "\n",
    "tokenizer = tiktoken.get_encoding('cl100k_base')\n",
    "\n",
    "\n",
    "# create the length function\n",
    "def tiktoken_len(text):\n",
    "    tokens = tokenizer.encode(\n",
    "        text,\n",
    "        disallowed_special=()\n",
    "    )\n",
    "    return len(tokens)\n"
   ]
  },
  {
   "cell_type": "code",
   "execution_count": 48,
   "metadata": {},
   "outputs": [],
   "source": [
    "import textwrap\n",
    "\n",
    "wrapper = textwrap.TextWrapper(width=100)\n",
    "\n",
    "\n",
    "def text_wrap(content):\n",
    "    if isinstance(content, str):\n",
    "        [print(row) for row in wrapper.wrap(text=content)]\n",
    "\n",
    "    if isinstance(content, list):\n",
    "        for index, content_str in enumerate(content):\n",
    "            print(f'\\n {index} - chunk')\n",
    "            [print(row) for row in wrapper.wrap(text=content_str)]\n"
   ]
  },
  {
   "cell_type": "code",
   "execution_count": 49,
   "metadata": {},
   "outputs": [
    {
     "name": "stdout",
     "output_type": "stream",
     "text": [
      "\n",
      " 0 - chunk\n",
      "100 Percent Stacked Bar Chart  Oct 24, 2022  Knowledge  Information  Title  100 Percent Stacked Bar\n",
      "Chart  Article Body\n",
      "\n",
      " 1 - chunk\n",
      "Intro A 100% stacked bar chart is similar to a stacked bar chart in that categories are represented\n",
      "as bars and series as components of those bars. However, in a 100% stacked bar chart, each series\n",
      "bar represents the percentage of the overall category to which it belongs. For example, if a\n",
      "category was composed of three series, one with a value of 100, one of 200, and one of 300, the\n",
      "first series would make up 16.6% of the category (because 100 is equal to 16.6% of 600, the total\n",
      "value of all three series), the second would make up 33%, and the third 50%. In a way, then, a 100%\n",
      "stacked bar chart is also similar to a pie chart, in which each bar corresponds to a pie. As with\n",
      "standard bar charts, both vertical and horizontal versions of 100% stacked bar charts are available.\n",
      "In vertical 100% stacked bar charts, series in categories are \"stacked\" on top of each other; in\n",
      "horizontal 100% stacked bar charts, the series appear side by side. By default the values on the\n",
      "y-axis appear with percent symbols. You can change this behavior in the Chart Properties if you\n",
      "want. For more information, see Formatting Values in Your Chart. Powering 100% stacked bar charts A\n",
      "100% stacked bar chart requires three data columns or rows from your DataSet—one for categories, one\n",
      "for the series in each category, and one for values. For information about value, category, and\n",
      "series data, see Understanding Chart Data. In the Analyzer, you choose the columns containing the\n",
      "data for your 100% stacked bar chart. For more information about choosing data columns, see Applying\n",
      "DataSet Columns to Your Chart. For more information about formatting charts in the Analyzer,\n",
      "see Visualization Card Building Part 2: The Analyzer.\n",
      "\n",
      " 2 - chunk\n",
      "The following graphic shows you how the data from a typical column-based spreadsheet is converted\n",
      "into a vertical 100% stacked bar chart:\n",
      "\n",
      " 3 - chunk\n",
      "The following graphic shows you how the data from a typical column-based spreadsheet is converted\n",
      "into a horizontal 100% stacked bar chart:\n",
      "\n",
      " 4 - chunk\n",
      "Customizing 100% stacked bar charts You can customize the appearance of a 100% stacked bar chart by\n",
      "editing its Chart Properties. For information about all chart properties, see Chart\n",
      "Properties. Unique properties of 100% stacked bar charts include the following. You can click a\n",
      "thumbnail image to see a larger image. PropertyDescriptionExampleGeneral > Sort Each CategoryAllows\n",
      "you to sort the items in each individual category in most kinds of multi-series bar and lollipop\n",
      "charts. You can choose an ascending or descending sort. If you select Default, the default sort is\n",
      "applied. This option does not work when the Value Scale > Log Scale box is checked. In the example\n",
      "at right, bars within all categories are sorted in descending order. General > Sort on TotalsAllows\n",
      "you to sort categories in many kinds of bar and lollipop charts by their total values, in either\n",
      "ascending or descending order. If you select Default, the default sort is applied. This option does\n",
      "not work when the chart has automatic time scaling applied. (You can turn off automatic time scaling\n",
      "by checking the box for Category Scale > Never Use Time Scale. In the example at right, the\n",
      "categories are sorted by their totals in ascending order.Bar Settings > Non-Stacked\n",
      "InteractivityTurns off the default stacked bar chart interactivity. When you hover over any series\n",
      "in a stacked bar or 100% stacked bar chart, all of the corresponding series are highlighted and\n",
      "connected across the chart, as shown in the first screenshot at right. However, if series data is\n",
      "missing for any stack in the chart, the highlighting is removed and a \"0\" appears in the stack, as\n",
      "shown in the second screenshot. By checking Non-Stacked Interactivity, the connecting lines,\n",
      "highlighting, and \"0\" no longer appear upon hover, as shown in the third screenshot. For more\n",
      "information about DataSet columns, see Applying DataSet Columns to Your Chart.  Summary (only shown\n",
      "to internal users)\n",
      "\n",
      " 5 - chunk\n",
      "Summary (only shown to internal users)  Preview Article  Click here to preview  URL Name\n",
      "360043428993  Summary  Briefly describe the article. The summary is used in search results to help\n",
      "users find relevant articles. You can improve the accuracy of search results by including phrases\n",
      "that your customers use to describe this issue or topic.  System Information (only shown to internal\n",
      "users)  Article Number  000004724  Archived Date  Language  English  Primary Version  100 Percent\n",
      "Stacked Bar Chart  Article Total View Count  4,490  Article Created Date  10/24/2022, 10:26 PM\n",
      "First Published Date  10/24/2022, 10:39 PM\n"
     ]
    }
   ],
   "source": [
    "\n",
    "from langchain.text_splitter import RecursiveCharacterTextSplitter\n",
    "\n",
    "text_splitter = RecursiveCharacterTextSplitter(\n",
    "    chunk_size=400,\n",
    "    chunk_overlap=20,  # number of tokens overlap between chunks\n",
    "    length_function=tiktoken_len,\n",
    "    separators=['\\n\\n', '\\n', ' ', '']\n",
    ")\n",
    "\n",
    "chunks = text_splitter.split_text(docs[0].page_content)\n",
    "len(chunks)\n",
    "\n",
    "text_wrap(chunks)\n"
   ]
  },
  {
   "cell_type": "code",
   "execution_count": 51,
   "metadata": {},
   "outputs": [
    {
     "data": {
      "text/plain": [
       "'04de85739a72'"
      ]
     },
     "execution_count": 51,
     "metadata": {},
     "output_type": "execute_result"
    }
   ],
   "source": [
    "import hashlib\n",
    "\n",
    "\n",
    "def generate_doc_id(url):\n",
    "    m = hashlib.md5()  # this will convert URL into unique ID\n",
    "\n",
    "    # convert URL to unique ID\n",
    "    m.update(url.encode('utf-8'))\n",
    "    return m.hexdigest()[:12]\n",
    "\n",
    "\n",
    "generate_doc_id(docs[0].metadata['source'])\n"
   ]
  },
  {
   "cell_type": "code",
   "execution_count": 61,
   "metadata": {},
   "outputs": [
    {
     "name": "stdout",
     "output_type": "stream",
     "text": [
      "[{'id': '04de85739a72-0',\n",
      "  'source': '../../raw_kb/article/100_percent_stacked_bar_chart/index.html',\n",
      "  'text': 'Title\\n\\n100 Percent Stacked Bar Chart\\n\\nArticle Body'},\n",
      " {'id': '04de85739a72-1',\n",
      "  'source': '../../raw_kb/article/100_percent_stacked_bar_chart/index.html',\n",
      "  'text': 'Intro\\n'\n",
      "          'A 100% stacked bar chart is similar to a stacked bar chart in that '\n",
      "          'categories are represented as bars and series as components of '\n",
      "          'those bars. However, in a 100% stacked bar chart, each series bar '\n",
      "          'represents the percentage of the overall category to which it '\n",
      "          'belongs. For example, if a category was composed of three series, '\n",
      "          'one with a value of 100, one of 200, and one of 300, the first '\n",
      "          'series would make up 16.6% of the category (because 100 is equal to '\n",
      "          '16.6% of 600, the total value of all three series), the second '\n",
      "          'would make up 33%, and the third 50%. In a way, then, a 100% '\n",
      "          'stacked bar chart is also similar to a pie chart, in which each bar '\n",
      "          'corresponds to a pie.\\n'\n",
      "          'As with standard bar charts, both vertical and horizontal versions '\n",
      "          'of 100% stacked bar charts are available. In vertical 100% stacked '\n",
      "          'bar charts, series in categories are \"stacked\" on top of each '\n",
      "          'other; in horizontal 100% stacked bar charts, the series appear '\n",
      "          'side by side.\\n'\n",
      "          'By default the values on the y-axis appear with percent symbols. '\n",
      "          'You can change this behavior in the Chart Properties if you want. '\n",
      "          'For more information, see\\xa0Formatting Values in Your Chart.\\n'\n",
      "          'Powering 100% stacked bar charts\\n'\n",
      "          'A 100% stacked bar chart requires three data columns or rows from '\n",
      "          'your DataSet—one for categories, one for the series in each '\n",
      "          'category, and one for values. For information about value, '\n",
      "          'category, and series data, see Understanding Chart Data.\\n'\n",
      "          'In the Analyzer, you choose the columns containing the data for '\n",
      "          'your 100% stacked bar chart. For more information about choosing '\n",
      "          'data columns, see\\xa0Applying DataSet Columns to Your Chart.\\n'\n",
      "          'For more information about formatting charts in the Analyzer, '\n",
      "          'see\\xa0Visualization Card Building Part 2: The Analyzer.'},\n",
      " {'id': '04de85739a72-2',\n",
      "  'source': '../../raw_kb/article/100_percent_stacked_bar_chart/index.html',\n",
      "  'text': 'The following graphic shows you how the data from a typical '\n",
      "          'column-based spreadsheet is converted into a vertical 100% stacked '\n",
      "          'bar chart:'},\n",
      " {'id': '04de85739a72-3',\n",
      "  'source': '../../raw_kb/article/100_percent_stacked_bar_chart/index.html',\n",
      "  'text': 'The following graphic shows you how the data from a typical '\n",
      "          'column-based spreadsheet is converted into a horizontal 100% '\n",
      "          'stacked bar chart:'},\n",
      " {'id': '04de85739a72-4',\n",
      "  'source': '../../raw_kb/article/100_percent_stacked_bar_chart/index.html',\n",
      "  'text': 'Customizing 100% stacked bar charts\\n'\n",
      "          'You can customize the appearance of a 100% stacked bar chart by '\n",
      "          'editing its Chart Properties. For information about all chart '\n",
      "          'properties, see Chart Properties.\\xa0Unique properties of 100% '\n",
      "          'stacked bar charts include the following. You can click a thumbnail '\n",
      "          'image to see a larger image.\\n'\n",
      "          'PropertyDescriptionExampleGeneral > Sort Each CategoryAllows you to '\n",
      "          'sort the items in each individual category in most kinds of '\n",
      "          'multi-series bar and lollipop charts. You can choose an ascending '\n",
      "          'or descending sort. If you select\\xa0Default, the default sort is '\n",
      "          'applied. This option does not work when the\\xa0Value Scale > Log '\n",
      "          'Scale\\xa0box is checked.\\n'\n",
      "          'In the example at right, bars within all categories are sorted in '\n",
      "          'descending order.\\xa0General > Sort on TotalsAllows you to sort '\n",
      "          'categories in many kinds of bar and lollipop charts by their total '\n",
      "          'values, in either ascending or descending order. If you select\\xa0'\n",
      "          'Default, the default sort is applied. This option does not work '\n",
      "          'when the chart has automatic time scaling applied. (You can turn '\n",
      "          'off automatic time scaling by checking the box for\\xa0Category '\n",
      "          'Scale > Never Use Time Scale.\\n'\n",
      "          'In the example at right, the categories are sorted by their totals '\n",
      "          'in ascending order.Bar Settings > Non-Stacked InteractivityTurns '\n",
      "          'off the default stacked bar chart interactivity.\\n'\n",
      "          'When you hover over any series in a stacked bar or 100% stacked bar '\n",
      "          'chart, all of the corresponding series are highlighted and '\n",
      "          'connected across the chart, as shown in the first screenshot at '\n",
      "          'right. However, if series data is missing for any stack in the '\n",
      "          'chart, the highlighting is removed and a \"0\" appears in the stack, '\n",
      "          'as shown in the second screenshot. By checking Non-Stacked '\n",
      "          'Interactivity, the connecting lines, highlighting, and \"0\" no '\n",
      "          'longer appear upon hover, as shown in the third screenshot.\\n'\n",
      "          'For more information about DataSet columns, see\\xa0Applying DataSet '\n",
      "          'Columns to Your Chart.'}]\n"
     ]
    }
   ],
   "source": [
    "from pprint import pprint\n",
    "def process_doc(doc):\n",
    "    \n",
    "    clean_content = page_content_cleanup(doc.page_content)\n",
    "    \n",
    "    chunks = text_splitter.split_text(clean_content)\n",
    "\n",
    "    return [{\n",
    "        'id': f\"{generate_doc_id(doc.metadata['source']) }-{i}\",\n",
    "        'text': chunk,\n",
    "        'source': doc.metadata['source']\n",
    "    } for i, chunk in enumerate(chunks)]\n",
    "\n",
    "pprint(process_doc(docs[0]))\n"
   ]
  },
  {
   "cell_type": "code",
   "execution_count": null,
   "metadata": {},
   "outputs": [],
   "source": [
    "import json\n",
    "\n",
    "with open('train.jsonl', 'a+') as f:\n",
    "    for doc in documents:\n",
    "        f.write(json.dumps(doc) + '\\n')"
   ]
  }
 ],
 "metadata": {
  "kernelspec": {
   "display_name": "Python 3",
   "language": "python",
   "name": "python3"
  },
  "language_info": {
   "codemirror_mode": {
    "name": "ipython",
    "version": 3
   },
   "file_extension": ".py",
   "mimetype": "text/x-python",
   "name": "python",
   "nbconvert_exporter": "python",
   "pygments_lexer": "ipython3",
   "version": "3.11.3"
  },
  "orig_nbformat": 4
 },
 "nbformat": 4,
 "nbformat_minor": 2
}
