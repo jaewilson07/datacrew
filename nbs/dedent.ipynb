{
 "cells": [
  {
   "cell_type": "code",
   "execution_count": 1,
   "metadata": {},
   "outputs": [],
   "source": [
    "import textwrap"
   ]
  },
  {
   "cell_type": "code",
   "execution_count": 5,
   "metadata": {},
   "outputs": [],
   "source": [
    "from tempfile import mkstemp\n",
    "from shutil import move, copymode\n",
    "from os import fdopen, remove\n",
    "\n",
    "\n",
    "def replace(file_path):\n",
    "    # Create temp file\n",
    "    fh, abs_path = mkstemp()\n",
    "    with fdopen(fh, 'w') as new_file:\n",
    "        with open(file_path) as old_file:\n",
    "            count_frontmatter = 0\n",
    "            for line in old_file:\n",
    "                if count_frontmatter <2:\n",
    "                    if '---' in line:\n",
    "                        count_frontmatter += 1\n",
    "                    new_file.write(textwrap.dedent(line))\n",
    "                else:\n",
    "                    new_file.write(line)\n",
    "    # Copy the file permissions from the old file to the new file\n",
    "    copymode(file_path, abs_path)\n",
    "    # Remove original file\n",
    "    remove(file_path)\n",
    "    # Move new file\n",
    "    move(abs_path, file_path)\n"
   ]
  },
  {
   "cell_type": "code",
   "execution_count": 13,
   "metadata": {},
   "outputs": [
    {
     "name": "stdout",
     "output_type": "stream",
     "text": [
      "/workspaces/datacrew/nbs/projects/kb_md/public_api_sdks_faq/index.md\n",
      "/workspaces/datacrew/nbs/projects/kb_md/beast_mode_fixed_functions/index.md\n",
      "/workspaces/datacrew/nbs/projects/kb_md/date_difference_for_business_days/index.md\n",
      "/workspaces/datacrew/nbs/projects/kb_md/installing_salesforce's_domo_connector_package/index.md\n",
      "/workspaces/datacrew/nbs/projects/kb_md/domo_snowflake_partner_connect/index.md\n",
      "/workspaces/datacrew/nbs/projects/kb_md/jupyter_workspaces/index.md\n",
      "/workspaces/datacrew/nbs/projects/kb_md/streams_api_documentation/index.md\n",
      "/workspaces/datacrew/nbs/projects/kb_md/configuring_your_chart_summary_number/index.md\n",
      "/workspaces/datacrew/nbs/projects/kb_md/connecting_to_clicktale_data_in_domo/index.md\n",
      "/workspaces/datacrew/nbs/projects/kb_md/command_line_interface_(cli)_tool/index.md\n",
      "/workspaces/datacrew/nbs/projects/kb_md/netsuite_connector/index.md\n",
      "/workspaces/datacrew/nbs/projects/kb_md/date_format_specifier_characters_for_beast_mode/index.md\n",
      "/workspaces/datacrew/nbs/projects/kb_md/snowflake_federated_agent/index.md\n",
      "/workspaces/datacrew/nbs/projects/kb_md/jupyter_troubleshooting_guide/index.md\n",
      "/workspaces/datacrew/nbs/projects/kb_md/data_science_home_page/index.md\n",
      "/workspaces/datacrew/nbs/projects/kb_md/aws_domo_verizon_iot_pipeline/index.md\n",
      "/workspaces/datacrew/nbs/projects/kb_md/beast_mode_functions_reference_guide/index.md\n",
      "/workspaces/datacrew/nbs/projects/kb_md/non-queryable_datasets/index.md\n",
      "/workspaces/datacrew/nbs/projects/kb_md/connecting_to_adobe_analytics_data_warehouse/index.md\n",
      "/workspaces/datacrew/nbs/projects/kb_md/multi-cloud/index.md\n",
      "/workspaces/datacrew/nbs/projects/kb_md/registering_snowflake_with_cloud_amplifier/index.md\n",
      "/workspaces/datacrew/nbs/projects/kb_md/using_the_federated_data_solution/index.md\n",
      "/workspaces/datacrew/nbs/projects/kb_md/connecting_to_sage_300_data_in_domo/index.md\n",
      "/workspaces/datacrew/nbs/projects/kb_md/domo_command_line_interface_changelog/index.md\n",
      "/workspaces/datacrew/nbs/projects/kb_md/sample_beast_mode_calculations/index.md\n",
      "/workspaces/datacrew/nbs/projects/kb_md/analyzer_layout/index.md\n",
      "/workspaces/datacrew/nbs/projects/kb_md/changing_the_date_format_in_your_chart/index.md\n",
      "/workspaces/datacrew/nbs/projects/kb_md/top_5_issues_users_experience_with_beast_mode_in_domo/index.md\n",
      "/workspaces/datacrew/nbs/projects/kb_md/writing_amazon_kinesis_data_to_domo/index.md\n",
      "/workspaces/datacrew/nbs/projects/kb_md/data_assembler_usage_guidelines/index.md\n",
      "/workspaces/datacrew/nbs/projects/kb_md/domo_odbc_data_driver/index.md\n",
      "/workspaces/datacrew/nbs/projects/kb_md/connecting_to_sap_bw_in_domo/index.md\n"
     ]
    }
   ],
   "source": [
    "# replace('test_dedent.md')\n",
    "\n",
    "import os\n",
    "\n",
    "for path, subdirs, files in os.walk('/workspaces/datacrew/nbs/projects/kb_md'):\n",
    "    for name in files:\n",
    "        file_path = os.path.join(path, name)\n",
    "        if \"index.md\" in file_path:\n",
    "            print(file_path)\n",
    "            replace(file_path)\n",
    "\n"
   ]
  }
 ],
 "metadata": {
  "kernelspec": {
   "display_name": "Python 3",
   "language": "python",
   "name": "python3"
  },
  "language_info": {
   "codemirror_mode": {
    "name": "ipython",
    "version": 3
   },
   "file_extension": ".py",
   "mimetype": "text/x-python",
   "name": "python",
   "nbconvert_exporter": "python",
   "pygments_lexer": "ipython3",
   "version": "3.10.4"
  },
  "orig_nbformat": 4,
  "vscode": {
   "interpreter": {
    "hash": "3ad933181bd8a04b432d3370b9dc3b0662ad032c4dfaa4e4f1596c548f763858"
   }
  }
 },
 "nbformat": 4,
 "nbformat_minor": 2
}
