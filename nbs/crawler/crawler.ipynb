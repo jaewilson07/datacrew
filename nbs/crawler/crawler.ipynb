{
 "cells": [
  {
   "cell_type": "raw",
   "metadata": {},
   "source": [
    "---\n",
    "title: Crawler\n",
    "description: class based approach to webcrawling\n",
    "---\n"
   ]
  },
  {
   "cell_type": "code",
   "execution_count": 1,
   "metadata": {},
   "outputs": [],
   "source": [
    "# | default_exp crawler.crawler"
   ]
  },
  {
   "cell_type": "code",
   "execution_count": 2,
   "metadata": {},
   "outputs": [],
   "source": [
    "#| exporti\n",
    "from selenium import webdriver\n",
    "from selenium.webdriver.common.by import By\n",
    "from selenium.webdriver.support.ui import WebDriverWait\n",
    "from selenium.webdriver.support import expected_conditions as EC\n",
    "\n",
    "from bs4 import BeautifulSoup\n",
    "\n",
    "# import time\n"
   ]
  },
  {
   "cell_type": "code",
   "execution_count": 3,
   "metadata": {},
   "outputs": [],
   "source": [
    "#| export\n",
    "def driversetup(is_headless: bool = True) -> webdriver:\n",
    "    options = webdriver.ChromeOptions()\n",
    "    # run Selenium in headless mode\n",
    "\n",
    "    if is_headless:\n",
    "        options.add_argument(\"--headless\")\n",
    "\n",
    "    options.add_argument(\"--no-sandbox\")\n",
    "\n",
    "    driver = webdriver.Chrome(options=options)\n",
    "\n",
    "    return driver"
   ]
  },
  {
   "cell_type": "code",
   "execution_count": 4,
   "metadata": {},
   "outputs": [],
   "source": [
    "#| export\n",
    "\n",
    "class WaitAndReturn_ElementError(Exception):\n",
    "    def __init__(self):\n",
    "        super.__init__(f\"must include element_id or element_ls in WaitAndReturn\")\n",
    "\n",
    "def wait_and_return(\n",
    "    driver: webdriver,\n",
    "    element_id: str = None,\n",
    "    element_ls: [str] = None,\n",
    "    element_type=By.ID,\n",
    "    max_sleep_time=15,\n",
    "    is_return_soup: bool = False,\n",
    "):\n",
    "    \"\"\"\n",
    "    Wait for the element to be present and return it.\n",
    "    \"\"\"\n",
    "\n",
    "    if not element_id and not element_ls:\n",
    "        raise WaitAndReturn_ElementError()\n",
    "    \n",
    "    try:\n",
    "        element_str = f\".{', .'.join(element_ls)}\" if element_ls else element_id\n",
    "        ele = None\n",
    "\n",
    "        if element_ls:\n",
    "            ele = WebDriverWait(driver, timeout=max_sleep_time).until(\n",
    "                EC.presence_of_element_located((By.CSS_SELECTOR, element_str)))\n",
    "\n",
    "        else:\n",
    "            ele = WebDriverWait(driver, timeout=max_sleep_time).until(\n",
    "                EC.presence_of_element_located(\n",
    "                    (element_type, element_id))\n",
    "            )\n",
    "        \n",
    "        if is_return_soup:\n",
    "            return BeautifulSoup(res.get_attribute(\"innerHTML\"), \"lxml\")\n",
    "        return ele\n",
    "\n",
    "    except Exception as e:\n",
    "        print(e)\n",
    "        print(\n",
    "            f\"Timeout Exception: {url} did not load within {max_sleep_time} seconds.\")\n"
   ]
  },
  {
   "attachments": {},
   "cell_type": "markdown",
   "metadata": {},
   "source": [
    "#### sample implemention of wait_and_return"
   ]
  },
  {
   "cell_type": "code",
   "execution_count": 5,
   "metadata": {},
   "outputs": [
    {
     "data": {
      "text/plain": [
       "<selenium.webdriver.remote.webelement.WebElement (session=\"ac56a1c509f6bc5733820a0b7cf236ee\", element=\"5c2a5d0c-826e-4477-a3b6-ee1784dbadf4\")>"
      ]
     },
     "execution_count": 5,
     "metadata": {},
     "output_type": "execute_result"
    }
   ],
   "source": [
    "# url = 'https://domo-support.domo.com/s/topic/0TO5w000000ZanDGAS/card-and-dashboard-management?language=en_US'\n",
    "\n",
    "# driver = driversetup()\n",
    "# driver.get(url)\n",
    "\n",
    "# wait_and_return(\n",
    "#     driver = driver, \n",
    "#     element_ls=[\"section-list-item\", 'article-list-item'] ,\n",
    "# )"
   ]
  },
  {
   "cell_type": "code",
   "execution_count": 6,
   "metadata": {},
   "outputs": [],
   "source": [
    "#| export\n",
    "def authenticate_domo_driver(driver, domo_instance, domo_username, domo_password):\n",
    "\n",
    "    url = f\"https://{domo_instance}.domo.com/auth/index\"\n",
    "\n",
    "    driver.get(url)\n",
    "\n",
    "    button = wait_and_return(driver, element_id=\"sign-in\",\n",
    "                             element_type=By.CLASS_NAME, max_sleep_time=10)\n",
    "\n",
    "    form_username = wait_and_return(driver, \"username\", element_type=By.NAME)\n",
    "\n",
    "    form_password = wait_and_return(driver, \"password\", element_type=By.NAME)\n",
    "\n",
    "\n",
    "    # Sending input\n",
    "    form_username.clear()\n",
    "    form_username.send_keys(domo_username)\n",
    "    form_password.clear()\n",
    "    form_password.send_keys(domo_password)\n",
    "    button.click()\n",
    "\n",
    "    return driver"
   ]
  },
  {
   "attachments": {},
   "cell_type": "markdown",
   "metadata": {},
   "source": [
    "#### sample implementation of authenticate_domo_driver"
   ]
  },
  {
   "cell_type": "code",
   "execution_count": 7,
   "metadata": {},
   "outputs": [],
   "source": [
    "# import os\n",
    "# from dotenv import load_dotenv\n",
    "\n",
    "# load_dotenv('../../.env')\n",
    "\n",
    "# driver = driversetup(is_headless=False)\n",
    "\n",
    "# domo_username = os.environ['DOMO_DOJO_USERNAME']\n",
    "# domo_password = os.environ['DOMO_DOJO_PASSWORD']\n",
    "# domo_instance = 'domo-community'\n",
    "\n",
    "# driver = authenticate_domo_driver(driver=driver, domo_instance=domo_instance,\n",
    "#                          domo_username=domo_username,\n",
    "#                          domo_password=domo_password)\n",
    "\n",
    "# # Test can navigate to a site that requires authentication    \n",
    "# driver.get(url=f'https://{domo_instance}.domo.com/datacenter/datawarehouse')\n"
   ]
  },
  {
   "cell_type": "code",
   "execution_count": 8,
   "metadata": {},
   "outputs": [],
   "source": [
    "# | export\n",
    "def pagesource(\n",
    "    url: str,\n",
    "    driver: webdriver = None,\n",
    "    element_id: str = None,\n",
    "    element_ls: [str] = None,\n",
    "    element_type=By.ID,\n",
    "    max_sleep_time = 15,\n",
    "    is_return_soup: bool = False,\n",
    "):\n",
    "    is_driver_close = False if driver else True\n",
    "    driver = driver or driversetup()\n",
    "\n",
    "    print(f\"💤 retrieving {url} 💤\")\n",
    "    driver.get(url)\n",
    "\n",
    "    try:\n",
    "        if element_id or element_ls:\n",
    "            wait_and_return(\n",
    "                driver = driver,\n",
    "                element_id = element_id,\n",
    "                element_ls = element_ls,\n",
    "                element_type = element_type,\n",
    "                max_sleep_time = max_sleep_time,\n",
    "            )\n",
    "\n",
    "        if is_return_soup:\n",
    "            return BeautifulSoup(driver.page_source, \"lxml\")\n",
    "        \n",
    "        return driver.page_source\n",
    "    \n",
    "    except Exception as e:\n",
    "        print(e)\n",
    "\n",
    "    finally:\n",
    "        if is_driver_close:\n",
    "            driver.close()\n"
   ]
  },
  {
   "attachments": {},
   "cell_type": "markdown",
   "metadata": {},
   "source": [
    "#sample implementation of pagesource"
   ]
  },
  {
   "cell_type": "code",
   "execution_count": 12,
   "metadata": {},
   "outputs": [
    {
     "name": "stdout",
     "output_type": "stream",
     "text": [
      "💤 retrieving https://domo-support.domo.com/s/topic/0TO5w000000ZanDGAS/card-and-dashboard-management?language=en_US 💤\n"
     ]
    }
   ],
   "source": [
    "# url = 'https://domo-support.domo.com/s/topic/0TO5w000000ZanDGAS/card-and-dashboard-management?language=en_US'\n",
    "\n",
    "# driver = driversetup()\n",
    "\n",
    "# res = pagesource(\n",
    "#     url = url,\n",
    "#     driver = driver, \n",
    "#     element_ls=[\"section-list-item\", 'article-list-item'] ,\n",
    "#     is_return_soup = True\n",
    "# )\n"
   ]
  },
  {
   "cell_type": "code",
   "execution_count": 15,
   "metadata": {},
   "outputs": [
    {
     "name": "stdout",
     "output_type": "stream",
     "text": [
      "💤 retrieving https://domo-support.domo.com/s/article/360043429913 💤\n"
     ]
    }
   ],
   "source": [
    "# url = 'https://domo-support.domo.com/s/article/360043429913'\n",
    "\n",
    "# driver = driversetup()\n",
    "\n",
    "# res = pagesource(\n",
    "#     url=url,\n",
    "#     driver=driver,\n",
    "#     element_type=By.CLASS_NAME, element_id=\"slds-form-element\",\n",
    "#     is_return_soup=True\n",
    "# )"
   ]
  }
 ],
 "metadata": {
  "kernelspec": {
   "display_name": "base",
   "language": "python",
   "name": "python3"
  },
  "language_info": {
   "codemirror_mode": {
    "name": "ipython",
    "version": 3
   },
   "file_extension": ".py",
   "mimetype": "text/x-python",
   "name": "python",
   "nbconvert_exporter": "python",
   "pygments_lexer": "ipython3",
   "version": "3.11.3"
  },
  "vscode": {
   "interpreter": {
    "hash": "b43e631a983881eee635638ba8d16a40e1a13e8bbb48ce0aff152a316858538a"
   }
  }
 },
 "nbformat": 4,
 "nbformat_minor": 2
}
