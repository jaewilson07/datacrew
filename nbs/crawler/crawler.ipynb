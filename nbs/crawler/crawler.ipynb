{
 "cells": [
  {
   "cell_type": "raw",
   "metadata": {},
   "source": [
    "---\n",
    "title: Crawler\n",
    "description: class based approach to webcrawling\n",
    "---\n"
   ]
  },
  {
   "cell_type": "code",
   "execution_count": 11,
   "metadata": {},
   "outputs": [],
   "source": [
    "# | default_exp crawler.crawler"
   ]
  },
  {
   "cell_type": "code",
   "execution_count": 12,
   "metadata": {},
   "outputs": [],
   "source": [
    "#| exporti\n",
    "from selenium import webdriver\n",
    "from selenium.webdriver.common.by import By\n",
    "from selenium.webdriver.support.ui import WebDriverWait\n",
    "from selenium.webdriver.support import expected_conditions as EC\n",
    "\n",
    "from bs4 import BeautifulSoup\n",
    "# import time\n"
   ]
  },
  {
   "cell_type": "code",
   "execution_count": 13,
   "metadata": {},
   "outputs": [],
   "source": [
    "#| export\n",
    "def driversetup(is_headless: bool = True) -> webdriver:\n",
    "    options = webdriver.ChromeOptions()\n",
    "    # run Selenium in headless mode\n",
    "\n",
    "    if is_headless:\n",
    "        options.add_argument(\"--headless\")\n",
    "\n",
    "    options.add_argument(\"--no-sandbox\")\n",
    "\n",
    "    driver = webdriver.Chrome(options=options)\n",
    "\n",
    "    return driver"
   ]
  },
  {
   "cell_type": "code",
   "execution_count": 14,
   "metadata": {},
   "outputs": [],
   "source": [
    "#| export\n",
    "def wait_and_return(\n",
    "    driver: webdriver,\n",
    "    element_id: str,\n",
    "    el_type=By.ID,\n",
    "    min_sleep_time=15,\n",
    "    return_soup: bool = False,\n",
    "):\n",
    "    \"\"\"\n",
    "    Wait for the element to be present and return it.\n",
    "    \"\"\"\n",
    "\n",
    "    try:\n",
    "        res = WebDriverWait(driver, timeout=15, poll_frequency=1).until(\n",
    "            EC.presence_of_element_located((el_type, element_id)))\n",
    "\n",
    "        if return_soup:\n",
    "            return BeautifulSoup(res.get_attribute(\"innerHTML\"))\n",
    "        return res\n",
    "\n",
    "    except Exception as e:\n",
    "        print(e)\n",
    "        print(\n",
    "            f\"Timeout Exception: did not load within {min_sleep_time} seconds.\")\n"
   ]
  },
  {
   "cell_type": "code",
   "execution_count": 15,
   "metadata": {},
   "outputs": [],
   "source": [
    "#| export\n",
    "\n",
    "def authenticate_driver(driver, domo_instance, domo_username, domo_password):\n",
    "\n",
    "    url = f\"https://{domo_instance}.domo.com/auth/index\"\n",
    "\n",
    "    driver.get(url)\n",
    "\n",
    "    button = wait_and_return(driver, element_id=\"sign-in\",\n",
    "                             el_type=By.CLASS_NAME, min_sleep_time=4)\n",
    "\n",
    "    form_username = wait_and_return(driver, \"username\", el_type=By.NAME)\n",
    "\n",
    "    form_password = wait_and_return(driver, \"password\", el_type=By.NAME)\n",
    "\n",
    "    # Sending input\n",
    "    form_username.clear()\n",
    "    form_username.send_keys(domo_username)\n",
    "    form_password.clear()\n",
    "    form_password.send_keys(domo_password)\n",
    "    button.click()\n",
    "\n",
    "    return driver"
   ]
  },
  {
   "cell_type": "code",
   "execution_count": 17,
   "metadata": {},
   "outputs": [],
   "source": [
    "#|export\n",
    "def pagesource(url,\n",
    "               element_id: str,\n",
    "               element_type=By.ID,\n",
    "               driver=None,\n",
    "               ):\n",
    "\n",
    "    is_driver_close = True\n",
    "    if driver:\n",
    "        is_driver_close = False\n",
    "\n",
    "    driver = driver or driversetup()\n",
    "\n",
    "    print(f\"💤 loading {url} 💤\")\n",
    "\n",
    "    driver.get(url)\n",
    "\n",
    "    try:\n",
    "        ele = WebDriverWait(driver, timeout=15, poll_frequency=1).until(\n",
    "            EC.presence_of_element_located(\n",
    "                (element_type, element_id))\n",
    "        )\n",
    "        print(f\"Page {url} is loaded within 10 seconds.\")\n",
    "    \n",
    "    except Exception as e:\n",
    "        print(e)\n",
    "        print(f\"Timeout Exception: Page {url} did not load within 10 seconds.\")\n",
    "\n",
    "    soup = BeautifulSoup(driver.page_source)\n",
    "\n",
    "    if is_driver_close:\n",
    "        driver.close()\n",
    "    return soup\n"
   ]
  }
 ],
 "metadata": {
  "kernelspec": {
   "display_name": "Python 3",
   "language": "python",
   "name": "python3"
  },
  "language_info": {
   "codemirror_mode": {
    "name": "ipython",
    "version": 3
   },
   "file_extension": ".py",
   "mimetype": "text/x-python",
   "name": "python",
   "nbconvert_exporter": "python",
   "pygments_lexer": "ipython3",
   "version": "3.10.4"
  },
  "orig_nbformat": 4,
  "vscode": {
   "interpreter": {
    "hash": "3ad933181bd8a04b432d3370b9dc3b0662ad032c4dfaa4e4f1596c548f763858"
   }
  }
 },
 "nbformat": 4,
 "nbformat_minor": 2
}
